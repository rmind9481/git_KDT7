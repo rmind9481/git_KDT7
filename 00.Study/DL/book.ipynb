{
 "cells": [
  {
   "cell_type": "markdown",
   "metadata": {},
   "source": [
    "# 파이토치 의 아키텍쳐"
   ]
  },
  {
   "cell_type": "markdown",
   "metadata": {},
   "source": [
    "-\t크게 세 개의 계층으로 나누어 설명할수있다.\n",
    "-\t가장 상위 파이토치 API\n",
    "-\t파이토치 엔진\n",
    "\t- 다차원 텐서 및 자동 미분 을 처리\n",
    "- 텐서에 대한 연산 CPU/GPU 를 이용하는 텐서의 실질적인 계산을 위한\n",
    "\tC,CUDA 등 라이브러리\n",
    "\t\t"
   ]
  },
  {
   "cell_type": "markdown",
   "metadata": {},
   "source": [
    "* 파이토치 API\n",
    "\t-\ttorch: GPU 를 지원하는 텐서 패키지\n",
    "\t\t* 다차원 텐서를 기반으로 다양한 수학적 연산이 가능하도록 특히 CPU 뿐만 아니라\n",
    "\t\t\tGPU 에서 연산이 가능하므로 빠른 속도로 많은 양\n",
    "\t\n",
    "\t-\ttorch.autograd: 자동 미분 패키지\n",
    "\t\t* Autograd 는 텐서플로, 카페, CNTK 같은 다른 딥러닝 프레임워크 와 가장 차별패키지\n",
    "\t\t\t미분 계산을 효율적으로 처리\n",
    "\t\n",
    "\t-\ttorch.nn : 신경망 구축 및 훈련 패키지\n",
    "\t\t* 합성곱 신경망, 순환 신경망, 정규화 등이 포함되어 손쉽게 신경망을 구축하고 학습가능\n",
    "\t\n",
    "\t-\ttorch.multiprocessing : 파이썬 멀티프로세싱 패키지\n",
    "\t\t* 파이토치에서 사용하는 프로세스 전반에 걸쳐 텐서의 메모리 공유가 가능\n",
    "\t\n",
    "\t- \ttorch.utils : DataLoader 및 기타 유틸리티를 제공하는 패키지\n",
    "\t\t* 모델에 데이터를 제공하기 위한 torch.utils.data.DataLoader 모듈을 주로 사용\n",
    "\t\t\t병목 현상을 디버깅 하기 위한 torch.utils.bottleneck, \n",
    "\t\t\t모델 또는 모델의 일부를 검사하기 위한 torch.utils.checkpoint 등의 모듈\n"
   ]
  },
  {
   "cell_type": "markdown",
   "metadata": {},
   "source": [
    "# 파이토치 엔진"
   ]
  },
  {
   "cell_type": "markdown",
   "metadata": {},
   "source": []
  }
 ],
 "metadata": {
  "kernelspec": {
   "display_name": "DL_TORCH",
   "language": "python",
   "name": "python3"
  },
  "language_info": {
   "name": "python",
   "version": "3.9.21"
  }
 },
 "nbformat": 4,
 "nbformat_minor": 2
}
