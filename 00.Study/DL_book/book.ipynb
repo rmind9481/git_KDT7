{
 "cells": [
  {
   "cell_type": "markdown",
   "metadata": {},
   "source": [
    "# 파이토치 의 아키텍쳐"
   ]
  },
  {
   "cell_type": "markdown",
   "metadata": {},
   "source": [
    "-\t크게 세 개의 계층으로 나누어 설명할수있다.\n",
    "-\t가장 상위 파이토치 API\n",
    "-\t파이토치 엔진\n",
    "\t- 다차원 텐서 및 자동 미분 을 처리\n",
    "- 텐서에 대한 연산 CPU/GPU 를 이용하는 텐서의 실질적인 계산을 위한\n",
    "\tC,CUDA 등 라이브러리\n",
    "\t\t"
   ]
  },
  {
   "cell_type": "markdown",
   "metadata": {},
   "source": [
    "* 파이토치 API\n",
    "\t-\ttorch: GPU 를 지원하는 텐서 패키지\n",
    "\t\t* 다차원 텐서를 기반으로 다양한 수학적 연산이 가능하도록 특히 CPU 뿐만 아니라\n",
    "\t\t\tGPU 에서 연산이 가능하므로 빠른 속도로 많은 양\n",
    "\t\n",
    "\t-\ttorch.autograd: 자동 미분 패키지\n",
    "\t\t* Autograd 는 텐서플로, 카페, CNTK 같은 다른 딥러닝 프레임워크 와 가장 차별패키지\n",
    "\t\t\t미분 계산을 효율적으로 처리\n",
    "\t\n",
    "\t-\ttorch.nn : 신경망 구축 및 훈련 패키지\n",
    "\t\t* 합성곱 신경망, 순환 신경망, 정규화 등이 포함되어 손쉽게 신경망을 구축하고 학습가능\n",
    "\t\n",
    "\t-\ttorch.multiprocessing : 파이썬 멀티프로세싱 패키지\n",
    "\t\t* 파이토치에서 사용하는 프로세스 전반에 걸쳐 텐서의 메모리 공유가 가능\n",
    "\t\n",
    "\t- \ttorch.utils : DataLoader 및 기타 유틸리티를 제공하는 패키지\n",
    "\t\t* 모델에 데이터를 제공하기 위한 torch.utils.data.DataLoader 모듈을 주로 사용\n",
    "\t\t\t병목 현상을 디버깅 하기 위한 torch.utils.bottleneck, \n",
    "\t\t\t모델 또는 모델의 일부를 검사하기 위한 torch.utils.checkpoint 등의 모듈\n"
   ]
  },
  {
   "cell_type": "markdown",
   "metadata": {},
   "source": [
    "# 파이토치 엔진"
   ]
  },
  {
   "cell_type": "markdown",
   "metadata": {},
   "source": []
  },
  {
   "cell_type": "markdown",
   "metadata": {},
   "source": []
  },
  {
   "cell_type": "markdown",
   "metadata": {},
   "source": []
  },
  {
   "cell_type": "markdown",
   "metadata": {},
   "source": [
    "# 파이토치 기초"
   ]
  },
  {
   "cell_type": "markdown",
   "metadata": {},
   "source": [
    "nummpy 와 닮은 파이토치 (pythorch)"
   ]
  },
  {
   "cell_type": "code",
   "execution_count": 1,
   "metadata": {},
   "outputs": [
    {
     "name": "stdout",
     "output_type": "stream",
     "text": [
      "tensor([1, 2, 3, 4])\n",
      "<class 'torch.Tensor'>\n",
      "torch.int64\n",
      "torch.Size([4])\n",
      "torch.float32\n",
      "tensor([1.0000, 2.0000, 3.1000, 4.0000])\n"
     ]
    }
   ],
   "source": [
    "import torch\n",
    "a = torch.tensor([1,2,3,4]) # list 가 입력으로 들어가는 함수\n",
    "print(a)\n",
    "print(type(a))\n",
    "print(a.dtype)\n",
    "print(a.shape)\n",
    "\n",
    "b = torch.tensor([1,2,3.1,4])\n",
    "print(b.dtype) # 하나라도 실수면 자동으로 실수 타입으로\n",
    "print(b)"
   ]
  },
  {
   "cell_type": "code",
   "execution_count": 3,
   "metadata": {},
   "outputs": [
    {
     "name": "stdout",
     "output_type": "stream",
     "text": [
      "tensor([[1, 2, 3],\n",
      "        [3, 4, 5]])\n",
      "torch.Size([2, 3])\n",
      "2\n",
      "6\n"
     ]
    }
   ],
   "source": [
    "A = torch.tensor([[1,2,3],[3,4,5]])\n",
    "\n",
    "#A = torch.tensor([[1,2],[3,4,5]]) # 리스트와는 달리 이제는 행렬이라서 각 행에 해당하는 숫자의 개수가 같아야함pr\n",
    "print(A)\n",
    "print(A.shape)\n",
    "print(A.ndim)\t#  차원의 수 \n",
    "print(A.numel()) # 전체 성분의 수"
   ]
  },
  {
   "cell_type": "code",
   "execution_count": 5,
   "metadata": {},
   "outputs": [
    {
     "name": "stdout",
     "output_type": "stream",
     "text": [
      "tensor([0., 0., 0., 0., 0.])\n",
      "tensor([[0, 0, 0],\n",
      "        [0, 0, 0]])\n",
      "tensor([1., 1., 1., 1., 1.])\n",
      "tensor([[0., 0., 0.],\n",
      "        [0., 0., 0.],\n",
      "        [0., 0., 0.]])\n",
      "tensor([3, 5, 7, 9])\n",
      "tensor([0.0000, 0.1000, 0.2000, 0.3000, 0.4000, 0.5000, 0.6000, 0.7000, 0.8000,\n",
      "        0.9000])\n",
      "tensor([0.0000, 0.1111, 0.2222, 0.3333, 0.4444, 0.5556, 0.6667, 0.7778, 0.8889,\n",
      "        1.0000])\n"
     ]
    }
   ],
   "source": [
    "print(torch.zeros(5))\n",
    "print(torch.zeros_like(A))\n",
    "print(torch.ones(5))\n",
    "print(torch.zeros(3,3))\n",
    "print(torch.arange(3,10,2))  # range 랑 같은데 tensor 로 만들어줌\n",
    "print(torch.arange(0,1,0.1)) \t# 소수점 가능\n",
    "print(torch.linspace(0,1,10)) # 0 에서 부터 1 포함 10개로\n"
   ]
  },
  {
   "cell_type": "code",
   "execution_count": 7,
   "metadata": {},
   "outputs": [
    {
     "name": "stdout",
     "output_type": "stream",
     "text": [
      "tensor([5, 7, 9])\n"
     ]
    }
   ],
   "source": [
    "a = torch.tensor([1,2,3])\n",
    "b = torch.tensor([4,5,6])\n",
    "c = a+b\n",
    "print(c)"
   ]
  },
  {
   "cell_type": "code",
   "execution_count": 8,
   "metadata": {},
   "outputs": [
    {
     "name": "stdout",
     "output_type": "stream",
     "text": [
      "tensor([[5, 7, 9],\n",
      "        [2, 3, 4]])\n",
      "tensor([[-3, -3, -3],\n",
      "        [ 0,  1,  2]])\n",
      "\n",
      "tensor([[ 4, 10, 18],\n",
      "        [ 1,  2,  3]])\n",
      "tensor([[0.2500, 0.4000, 0.5000],\n",
      "        [1.0000, 2.0000, 3.0000]])\n",
      "tensor([[16, 25, 36],\n",
      "        [ 1,  1,  1]])\n"
     ]
    }
   ],
   "source": [
    "A = torch.tensor([[1,2,3],[1,2,3]])\n",
    "B = torch.tensor([[4,5,6],[1,1,1]])\n",
    "\n",
    "C = A+B\n",
    "D = A-B\n",
    "\n",
    "print(C)\n",
    "print(D)\n",
    "print()\n",
    "\n",
    "print(A*B)  # 곱셈\n",
    "print(A/B)\t# 나눗셈\n",
    "print(B**2) # 제곱"
   ]
  },
  {
   "cell_type": "code",
   "execution_count": 9,
   "metadata": {},
   "outputs": [
    {
     "name": "stdout",
     "output_type": "stream",
     "text": [
      "tensor([[ 1,  4],\n",
      "        [ 9, 16]])\n",
      "tensor([[ 7, 10],\n",
      "        [15, 22]])\n"
     ]
    }
   ],
   "source": [
    "A = torch.tensor([[1,2],[3,4]])\n",
    "B = torch.tensor([[1,2],[3,4]])\n",
    "print(A*B)\n",
    "print(A@B)"
   ]
  },
  {
   "cell_type": "markdown",
   "metadata": {},
   "source": [
    "# pytorch의 인덱싱 과 슬라이싱"
   ]
  },
  {
   "cell_type": "code",
   "execution_count": 10,
   "metadata": {},
   "outputs": [
    {
     "name": "stdout",
     "output_type": "stream",
     "text": [
      "tensor(1)\n",
      "tensor(2)\n",
      "tensor(9)\n",
      "tensor([2, 3, 4])\n",
      "tensor([8, 9])\n",
      "tensor([1, 2, 3, 4, 5, 6, 7])\n",
      "tensor([1, 2, 3, 4, 5, 6, 7, 8, 9])\n"
     ]
    }
   ],
   "source": [
    "a = torch.tensor([1,2,3,4,5,6,7,8,9])\n",
    "# 인덱싱 과 슬라이싱\n",
    "print(a[0])\n",
    "print(a[1])\n",
    "print(a[-1])\n",
    "print(a[1:4])\n",
    "print(a[7:])\n",
    "print(a[:7])\n",
    "print(a[:])\n"
   ]
  },
  {
   "cell_type": "code",
   "execution_count": 12,
   "metadata": {},
   "outputs": [
    {
     "name": "stdout",
     "output_type": "stream",
     "text": [
      "tensor([1, 2, 3])\n",
      "tensor([7, 8, 9])\n",
      "tensor([[4, 5, 6],\n",
      "        [7, 8, 9]])\n",
      "tensor([[1, 2, 3],\n",
      "        [4, 5, 6],\n",
      "        [7, 8, 9]])\n",
      "tensor(3)\n",
      "tensor(3)\n",
      "3\n",
      "tensor([4, 5, 6])\n",
      "tensor([4, 6])\n",
      "tensor([3, 6, 9])\n",
      "tensor([7, 8, 9])\n"
     ]
    }
   ],
   "source": [
    "# 행렬에 대한 인덱싱 과 슬라이싱\n",
    "A = torch.tensor([[1,2,3],[4,5,6],[7,8,9]])\n",
    "print(A[0])\n",
    "print(A[-1])\n",
    "print(A[1:])\n",
    "print(A[:])\n",
    "print(A[0][2])\n",
    "print(A[0,2])\n",
    "\n",
    "B = [[1,2,3,4],[5,6,7,8]]\n",
    "print(B[0][2])\n",
    "print(A[1,:]) # 1행, 전부\n",
    "print(A[1,0:3:2]) \n",
    "print(A[:,2]) # 전부, 2번째 열\n",
    "print(A[:][2])"
   ]
  },
  {
   "cell_type": "code",
   "execution_count": 13,
   "metadata": {},
   "outputs": [
    {
     "name": "stdout",
     "output_type": "stream",
     "text": [
      "tensor([[[ 0,  1,  2,  3],\n",
      "         [ 4,  5,  6,  7],\n",
      "         [ 8,  9, 10, 11]],\n",
      "\n",
      "        [[12, 13, 14, 15],\n",
      "         [16, 17, 18, 19],\n",
      "         [20, 21, 22, 23]]])\n",
      "tensor(6)\n",
      "torch.Size([4])\n"
     ]
    }
   ],
   "source": [
    "# 3차원 행렬 인덱싱\n",
    "A = torch.tensor([[[0,1,2,3],[4,5,6,7],[8,9,10,11]],[[12,13,14,15],[16,17,18,19],[20,21,22,23]]])\n",
    "\n",
    "print(A)\n",
    "print(A[0,1,2])\n",
    "a = torch.tensor([1,2,3,4]) # 대괄호가 하나 늘어나면 왼쪽에 shape 값이 추가 된다.\n",
    "print(a.shape)"
   ]
  },
  {
   "cell_type": "code",
   "execution_count": null,
   "metadata": {},
   "outputs": [],
   "source": []
  }
 ],
 "metadata": {
  "kernelspec": {
   "display_name": "DL_TORCH",
   "language": "python",
   "name": "python3"
  },
  "language_info": {
   "codemirror_mode": {
    "name": "ipython",
    "version": 3
   },
   "file_extension": ".py",
   "mimetype": "text/x-python",
   "name": "python",
   "nbconvert_exporter": "python",
   "pygments_lexer": "ipython3",
   "version": "3.9.21"
  }
 },
 "nbformat": 4,
 "nbformat_minor": 2
}
