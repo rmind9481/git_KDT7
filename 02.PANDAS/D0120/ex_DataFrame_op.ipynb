{
 "cells": [
  {
   "cell_type": "markdown",
   "metadata": {},
   "source": [
    "[DataFrame 연산]"
   ]
  },
  {
   "cell_type": "markdown",
   "metadata": {},
   "source": [
    "[1]  모듈 로딩 및 데이터 준빈 <hr>"
   ]
  },
  {
   "cell_type": "code",
   "execution_count": 30,
   "metadata": {},
   "outputs": [],
   "source": [
    "# [1-1] 데이터 로딩\n",
    "import pandas as pd     # 데이터 분석 모듈\n",
    "import numpy as np      # NAN 상수 관련 모듈"
   ]
  },
  {
   "cell_type": "code",
   "execution_count": 31,
   "metadata": {},
   "outputs": [],
   "source": [
    "## [1-2] 데이터 준비\n",
    "\n",
    "data = {'국어':[90,75,50],\n",
    "        '영어':[100,65,99],\n",
    "        '수학':[80,75,93]}"
   ]
  },
  {
   "cell_type": "markdown",
   "metadata": {},
   "source": [
    "[2] 데이터 로딩 및 확인 <hr>"
   ]
  },
  {
   "cell_type": "code",
   "execution_count": 32,
   "metadata": {},
   "outputs": [
    {
     "data": {
      "text/html": [
       "<div>\n",
       "<style scoped>\n",
       "    .dataframe tbody tr th:only-of-type {\n",
       "        vertical-align: middle;\n",
       "    }\n",
       "\n",
       "    .dataframe tbody tr th {\n",
       "        vertical-align: top;\n",
       "    }\n",
       "\n",
       "    .dataframe thead th {\n",
       "        text-align: right;\n",
       "    }\n",
       "</style>\n",
       "<table border=\"1\" class=\"dataframe\">\n",
       "  <thead>\n",
       "    <tr style=\"text-align: right;\">\n",
       "      <th></th>\n",
       "      <th>국어</th>\n",
       "      <th>영어</th>\n",
       "      <th>수학</th>\n",
       "    </tr>\n",
       "  </thead>\n",
       "  <tbody>\n",
       "    <tr>\n",
       "      <th>0</th>\n",
       "      <td>90</td>\n",
       "      <td>100</td>\n",
       "      <td>80</td>\n",
       "    </tr>\n",
       "    <tr>\n",
       "      <th>1</th>\n",
       "      <td>75</td>\n",
       "      <td>65</td>\n",
       "      <td>75</td>\n",
       "    </tr>\n",
       "    <tr>\n",
       "      <th>2</th>\n",
       "      <td>50</td>\n",
       "      <td>99</td>\n",
       "      <td>93</td>\n",
       "    </tr>\n",
       "  </tbody>\n",
       "</table>\n",
       "</div>"
      ],
      "text/plain": [
       "   국어   영어  수학\n",
       "0  90  100  80\n",
       "1  75   65  75\n",
       "2  50   99  93"
      ]
     },
     "execution_count": 32,
     "metadata": {},
     "output_type": "execute_result"
    }
   ],
   "source": [
    "# 데이타프레임 객체 생성\n",
    "\n",
    "df1 = pd.DataFrame(data)\n",
    "df1"
   ]
  },
  {
   "cell_type": "markdown",
   "metadata": {},
   "source": [
    "[3] Series 데이터 다루기 <hr>"
   ]
  },
  {
   "cell_type": "code",
   "execution_count": 33,
   "metadata": {},
   "outputs": [
    {
     "data": {
      "text/html": [
       "<div>\n",
       "<style scoped>\n",
       "    .dataframe tbody tr th:only-of-type {\n",
       "        vertical-align: middle;\n",
       "    }\n",
       "\n",
       "    .dataframe tbody tr th {\n",
       "        vertical-align: top;\n",
       "    }\n",
       "\n",
       "    .dataframe thead th {\n",
       "        text-align: right;\n",
       "    }\n",
       "</style>\n",
       "<table border=\"1\" class=\"dataframe\">\n",
       "  <thead>\n",
       "    <tr style=\"text-align: right;\">\n",
       "      <th></th>\n",
       "      <th>국어</th>\n",
       "      <th>영어</th>\n",
       "      <th>수학</th>\n",
       "    </tr>\n",
       "  </thead>\n",
       "  <tbody>\n",
       "    <tr>\n",
       "      <th>2</th>\n",
       "      <td>50</td>\n",
       "      <td>99</td>\n",
       "      <td>93</td>\n",
       "    </tr>\n",
       "    <tr>\n",
       "      <th>1</th>\n",
       "      <td>75</td>\n",
       "      <td>65</td>\n",
       "      <td>75</td>\n",
       "    </tr>\n",
       "    <tr>\n",
       "      <th>0</th>\n",
       "      <td>90</td>\n",
       "      <td>100</td>\n",
       "      <td>80</td>\n",
       "    </tr>\n",
       "  </tbody>\n",
       "</table>\n",
       "</div>"
      ],
      "text/plain": [
       "   국어   영어  수학\n",
       "2  50   99  93\n",
       "1  75   65  75\n",
       "0  90  100  80"
      ]
     },
     "execution_count": 33,
     "metadata": {},
     "output_type": "execute_result"
    }
   ],
   "source": [
    "## [3-1] 정렬하기\n",
    "\n",
    "# 오름차순\n",
    "df1.sort_index()\n",
    "\n",
    "# 내림차순 정렬\n",
    "df1.sort_index(ascending=False)"
   ]
  },
  {
   "cell_type": "code",
   "execution_count": 10,
   "metadata": {},
   "outputs": [
    {
     "name": "stdout",
     "output_type": "stream",
     "text": [
      "국어     97\n",
      "영어    107\n",
      "수학     87\n",
      "dtype: int64\n",
      "국어    83\n",
      "영어    93\n",
      "수학    73\n",
      "dtype: int64\n",
      "국어    630\n",
      "영어    700\n",
      "수학    560\n",
      "dtype: int64\n",
      "국어    12.857143\n",
      "영어    14.285714\n",
      "수학    11.428571\n",
      "dtype: float64\n",
      "국어    12\n",
      "영어    14\n",
      "수학    11\n",
      "dtype: int64\n",
      "국어    6\n",
      "영어    2\n",
      "수학    3\n",
      "dtype: int64\n"
     ]
    }
   ],
   "source": [
    "## [3-2] 연산하기\n",
    "## [3-2-1] 연산기호 -산술 연산자\n",
    "\n",
    "print( df1 + 7)\n",
    "print( df1 - 7)\n",
    "print( df1 * 7)\n",
    "print( df1 / 7)\n",
    "print( df1 // 7)\n",
    "print( df1 % 7)"
   ]
  },
  {
   "cell_type": "code",
   "execution_count": 23,
   "metadata": {},
   "outputs": [
    {
     "name": "stdout",
     "output_type": "stream",
     "text": [
      "      국어     영어     수학\n",
      "0  False  False  False\n",
      "1  False  False  False\n",
      "2  False  False  False\n"
     ]
    }
   ],
   "source": [
    "## [3-2-2] 비교연산자 => bool\n",
    "\n",
    "print( df1 == 7)\n",
    "\n"
   ]
  },
  {
   "cell_type": "code",
   "execution_count": 12,
   "metadata": {},
   "outputs": [
    {
     "name": "stdout",
     "output_type": "stream",
     "text": [
      "국어     97\n",
      "수학    157\n",
      "영어    877\n",
      "dtype: int64\n",
      "국어     95.0\n",
      "수학      NaN\n",
      "영어    177.0\n",
      "dtype: float64\n"
     ]
    }
   ],
   "source": [
    "## [3-2-3] Series\n",
    "\n",
    "sr2 = pd.Series([7,77,777], index=['국어','수학','영어'])\n",
    "sr3 = pd.Series([5,np.nan,77], index=['국어','수학','영어'])\n",
    "\n",
    "print(df1 + sr2)\n",
    "print(df1 + sr3)\n"
   ]
  },
  {
   "cell_type": "code",
   "execution_count": 13,
   "metadata": {},
   "outputs": [
    {
     "name": "stdout",
     "output_type": "stream",
     "text": [
      "국어     95.0\n",
      "수학     79.0\n",
      "영어    177.0\n",
      "dtype: float64\n",
      "국어    85.0\n",
      "수학    81.0\n",
      "영어    23.0\n",
      "dtype: float64\n",
      "국어     450.0\n",
      "수학     -80.0\n",
      "영어    7700.0\n",
      "dtype: float64\n",
      "국어    18.000000\n",
      "수학          inf\n",
      "영어     1.298701\n",
      "dtype: float64\n"
     ]
    }
   ],
   "source": [
    "## [3-2-4] 연산관련 메서드 => 빈칸 즉, NaN ( nan, NAN) 존재시 연산 수행\n",
    "# - fill_value 매개변수 : 빈칸 즉, NaN(nan, NAN)에 채워질 값\n",
    "print(df1.add(sr3, fill_value=-1))\n",
    "print(df1.sub(sr3, fill_value=-1))\n",
    "print(df1.mul(sr3, fill_value=-1))\n",
    "print(df1.div(sr3, fill_value=0))"
   ]
  },
  {
   "cell_type": "code",
   "execution_count": 35,
   "metadata": {},
   "outputs": [
    {
     "name": "stdout",
     "output_type": "stream",
     "text": [
      "      국어   영어     수학\n",
      "0  130.0  132  110.0\n",
      "1    NaN  100  100.0\n",
      "2  100.0  198    NaN\n",
      "      국어   영어     수학\n",
      "0  130.0  132  110.0\n",
      "1    NaN  100  100.0\n",
      "2  100.0  198    NaN\n"
     ]
    }
   ],
   "source": [
    "# [3-2-3] 연산기호 - DataFrame\n",
    "## => np.nan : 결측치 , Missing Value \n",
    "\n",
    "data2 = {'국어':[40,np.nan,50],\n",
    "        '영어':[32,35,99],\n",
    "        '수학':[30,25,np.nan]}\n",
    "df3 = pd.DataFrame(data2)\n",
    "\n",
    "print(df1 + df3)\n",
    "print(df1 + df3)"
   ]
  },
  {
   "cell_type": "code",
   "execution_count": 39,
   "metadata": {},
   "outputs": [
    {
     "name": "stdout",
     "output_type": "stream",
     "text": [
      "      국어   영어     수학\n",
      "0  130.0  132  110.0\n",
      "1   80.0  100  100.0\n",
      "2  100.0  198   98.0\n",
      "     국어  영어    수학\n",
      "0  50.0  68  50.0\n",
      "1  70.0  30  50.0\n",
      "2   0.0   0  88.0\n",
      "       국어    영어      수학\n",
      "0  3600.0  3200  2400.0\n",
      "1   375.0  2275  1875.0\n",
      "2  2500.0  9801   465.0\n",
      "      국어        영어         수학\n",
      "0   2.25  3.125000   2.666667\n",
      "1  15.00  1.857143   3.000000\n",
      "2   1.00  1.000000  18.600000\n"
     ]
    }
   ],
   "source": [
    "print(df1.add(df3, fill_value=5))\n",
    "print(df1.sub(df3, fill_value=5))\n",
    "print(df1.mul(df3, fill_value=5))\n",
    "print(df1.div(df3, fill_value=5))"
   ]
  },
  {
   "cell_type": "code",
   "execution_count": null,
   "metadata": {},
   "outputs": [],
   "source": []
  }
 ],
 "metadata": {
  "kernelspec": {
   "display_name": "PY39",
   "language": "python",
   "name": "python3"
  },
  "language_info": {
   "codemirror_mode": {
    "name": "ipython",
    "version": 3
   },
   "file_extension": ".py",
   "mimetype": "text/x-python",
   "name": "python",
   "nbconvert_exporter": "python",
   "pygments_lexer": "ipython3",
   "version": "3.9.21"
  }
 },
 "nbformat": 4,
 "nbformat_minor": 2
}
