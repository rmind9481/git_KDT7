{
 "cells": [
  {
   "cell_type": "markdown",
   "metadata": {},
   "source": [
    "[DataFrame 의 인덱스 다루기]"
   ]
  },
  {
   "cell_type": "markdown",
   "metadata": {},
   "source": [
    "[1] 모듈 로딩 및 데이터 준비 <hr>"
   ]
  },
  {
   "cell_type": "code",
   "execution_count": 19,
   "metadata": {},
   "outputs": [],
   "source": [
    "# [1-1] 모듈 준비\n",
    "import pandas as pd     # 데이터 분석용 모듈\n",
    "import utills           # 사용자 정의 모듈"
   ]
  },
  {
   "cell_type": "code",
   "execution_count": 20,
   "metadata": {},
   "outputs": [
    {
     "name": "stdout",
     "output_type": "stream",
     "text": [
      "    c0  c1  c2  c3  c4\n",
      "r0   1   4   7  10  13\n",
      "r1   2   5   8  11  14\n",
      "r2   3   6   9  12  15\n"
     ]
    }
   ],
   "source": [
    "# 딕셔너리를 정의\n",
    "\n",
    "dict_data = {'c0':[1,2,3],\n",
    "             'c1':[4,5,6],\n",
    "             'c2':[7,8,9],\n",
    "             'c3':[10,11,12],\n",
    "             'c4':[13,14,15]}\n",
    "\n",
    "df = pd.DataFrame(dict_data, index=['r0','r1','r2'])\n",
    "\n",
    "print(df)\n"
   ]
  },
  {
   "cell_type": "markdown",
   "metadata": {},
   "source": [
    "[2] 데이터 로딩 및 확인 <hr>"
   ]
  },
  {
   "cell_type": "code",
   "execution_count": 21,
   "metadata": {},
   "outputs": [
    {
     "name": "stdout",
     "output_type": "stream",
     "text": [
      "<class 'pandas.core.frame.DataFrame'>\n"
     ]
    }
   ],
   "source": [
    "# [2-1] 데이터 로딩 => data 기반 DataFrame 생성\n",
    "\n",
    "df1 = pd.DataFrame(dict_data, index=['one','two','tree'])\n",
    "print(type(df1)) \n"
   ]
  },
  {
   "cell_type": "code",
   "execution_count": 22,
   "metadata": {},
   "outputs": [
    {
     "name": "stdout",
     "output_type": "stream",
     "text": [
      "df1\n",
      "<class 'pandas.core.frame.DataFrame'>\n",
      "Index: 3 entries, one to tree\n",
      "Data columns (total 5 columns):\n",
      " #   Column  Non-Null Count  Dtype\n",
      "---  ------  --------------  -----\n",
      " 0   c0      3 non-null      int64\n",
      " 1   c1      3 non-null      int64\n",
      " 2   c2      3 non-null      int64\n",
      " 3   c3      3 non-null      int64\n",
      " 4   c4      3 non-null      int64\n",
      "dtypes: int64(5)\n",
      "memory usage: 144.0+ bytes\n",
      "     c0  c1  c2  c3  c4\n",
      "one   1   4   7  10  13\n",
      "two   2   5   8  11  14\n",
      "\n",
      "      c0  c1  c2  c3  c4\n",
      "two    2   5   8  11  14\n",
      "tree   3   6   9  12  15\n",
      "        c0   c1   c2    c3    c4\n",
      "count  3.0  3.0  3.0   3.0   3.0\n",
      "mean   2.0  5.0  8.0  11.0  14.0\n",
      "std    1.0  1.0  1.0   1.0   1.0\n",
      "min    1.0  4.0  7.0  10.0  13.0\n",
      "25%    1.5  4.5  7.5  10.5  13.5\n",
      "50%    2.0  5.0  8.0  11.0  14.0\n",
      "75%    2.5  5.5  8.5  11.5  14.5\n",
      "max    3.0  6.0  9.0  12.0  15.0\n",
      "데이터 이름 df1\n",
      "타입 출력 c0    int64\n",
      "c1    int64\n",
      "c2    int64\n",
      "c3    int64\n",
      "c4    int64\n",
      "dtype: object\n",
      "컬럼 출력 Index(['c0', 'c1', 'c2', 'c3', 'c4'], dtype='object')\n",
      "인덱스 출력 Index(['one', 'two', 'tree'], dtype='object')\n",
      "차원 출력 2\n",
      "(행,열) 출력 (3, 5)\n",
      "데이터출력\n",
      " [[ 1  4  7 10 13]\n",
      " [ 2  5  8 11 14]\n",
      " [ 3  6  9 12 15]]\n"
     ]
    }
   ],
   "source": [
    "\n",
    "utills.summary(df1,'df1')\n",
    "utills.print_attribute(df1, 'df1')"
   ]
  },
  {
   "cell_type": "markdown",
   "metadata": {},
   "source": [
    "[3] 인덱스 재설정 <hr>"
   ]
  },
  {
   "cell_type": "code",
   "execution_count": 23,
   "metadata": {},
   "outputs": [
    {
     "name": "stdout",
     "output_type": "stream",
     "text": [
      "       c0   c1   c2    c3    c4\n",
      "one   1.0  4.0  7.0  10.0  13.0\n",
      "two   2.0  5.0  8.0  11.0  14.0\n",
      "tree  3.0  6.0  9.0  12.0  15.0\n",
      "four  NaN  NaN  NaN   NaN   NaN\n"
     ]
    }
   ],
   "source": [
    "# [3-1] 인덱스 변경 \n",
    "\n",
    "new_index = ['one','two','tree','four']\n",
    "ndf1 = df1.reindex(new_index)\n",
    "print(ndf1)\n",
    "\n",
    "\n"
   ]
  },
  {
   "cell_type": "code",
   "execution_count": 24,
   "metadata": {},
   "outputs": [
    {
     "name": "stdout",
     "output_type": "stream",
     "text": [
      "      one  two  tree  four\n",
      "one     0    0     0     0\n",
      "two     0    0     0     0\n",
      "tree    0    0     0     0\n"
     ]
    }
   ],
   "source": [
    "# reindex 로 발생한 Nan 값을 숫자 0으로 채우기\n",
    "# - axis 매개변수 : [기본값]0 , 'index' / 1, 'columns'\n",
    "ndf1 = df1.reindex(new_index, fill_value=0)\n",
    "ndf1\n",
    "#[3-2] 컬럼을 'one','two','three','four' 변경\n",
    "\n",
    "ndf2 = df1.reindex(new_index, fill_value=0, axis=1)\n",
    "\n",
    "print(ndf2)\n"
   ]
  },
  {
   "cell_type": "code",
   "execution_count": 25,
   "metadata": {},
   "outputs": [
    {
     "data": {
      "text/html": [
       "<div>\n",
       "<style scoped>\n",
       "    .dataframe tbody tr th:only-of-type {\n",
       "        vertical-align: middle;\n",
       "    }\n",
       "\n",
       "    .dataframe tbody tr th {\n",
       "        vertical-align: top;\n",
       "    }\n",
       "\n",
       "    .dataframe thead th {\n",
       "        text-align: right;\n",
       "    }\n",
       "</style>\n",
       "<table border=\"1\" class=\"dataframe\">\n",
       "  <thead>\n",
       "    <tr style=\"text-align: right;\">\n",
       "      <th></th>\n",
       "      <th>c0</th>\n",
       "      <th>c1</th>\n",
       "      <th>c2</th>\n",
       "      <th>c5</th>\n",
       "    </tr>\n",
       "  </thead>\n",
       "  <tbody>\n",
       "    <tr>\n",
       "      <th>r0</th>\n",
       "      <td>1</td>\n",
       "      <td>4</td>\n",
       "      <td>7</td>\n",
       "      <td>NaN</td>\n",
       "    </tr>\n",
       "    <tr>\n",
       "      <th>r1</th>\n",
       "      <td>2</td>\n",
       "      <td>5</td>\n",
       "      <td>8</td>\n",
       "      <td>NaN</td>\n",
       "    </tr>\n",
       "    <tr>\n",
       "      <th>r2</th>\n",
       "      <td>3</td>\n",
       "      <td>6</td>\n",
       "      <td>9</td>\n",
       "      <td>NaN</td>\n",
       "    </tr>\n",
       "  </tbody>\n",
       "</table>\n",
       "</div>"
      ],
      "text/plain": [
       "    c0  c1  c2  c5\n",
       "r0   1   4   7 NaN\n",
       "r1   2   5   8 NaN\n",
       "r2   3   6   9 NaN"
      ]
     },
     "execution_count": 25,
     "metadata": {},
     "output_type": "execute_result"
    }
   ],
   "source": [
    "# [3-3] 컬럼을 c0 c1 c2 c3 c4 => c0 c1 c2 c5\n",
    "\n",
    "df23 = df.reindex(columns=['c0', 'c1', 'c2', 'c5'])\n",
    "df23"
   ]
  },
  {
   "cell_type": "code",
   "execution_count": 26,
   "metadata": {},
   "outputs": [
    {
     "data": {
      "text/html": [
       "<div>\n",
       "<style scoped>\n",
       "    .dataframe tbody tr th:only-of-type {\n",
       "        vertical-align: middle;\n",
       "    }\n",
       "\n",
       "    .dataframe tbody tr th {\n",
       "        vertical-align: top;\n",
       "    }\n",
       "\n",
       "    .dataframe thead th {\n",
       "        text-align: right;\n",
       "    }\n",
       "</style>\n",
       "<table border=\"1\" class=\"dataframe\">\n",
       "  <thead>\n",
       "    <tr style=\"text-align: right;\">\n",
       "      <th></th>\n",
       "      <th>c0</th>\n",
       "      <th>c1</th>\n",
       "      <th>c2</th>\n",
       "      <th>c3</th>\n",
       "      <th>c4</th>\n",
       "    </tr>\n",
       "  </thead>\n",
       "  <tbody>\n",
       "    <tr>\n",
       "      <th>one</th>\n",
       "      <td>1</td>\n",
       "      <td>4</td>\n",
       "      <td>7</td>\n",
       "      <td>10</td>\n",
       "      <td>13</td>\n",
       "    </tr>\n",
       "    <tr>\n",
       "      <th>first</th>\n",
       "      <td>None</td>\n",
       "      <td>None</td>\n",
       "      <td>None</td>\n",
       "      <td>None</td>\n",
       "      <td>None</td>\n",
       "    </tr>\n",
       "    <tr>\n",
       "      <th>two</th>\n",
       "      <td>2</td>\n",
       "      <td>5</td>\n",
       "      <td>8</td>\n",
       "      <td>11</td>\n",
       "      <td>14</td>\n",
       "    </tr>\n",
       "    <tr>\n",
       "      <th>second</th>\n",
       "      <td>None</td>\n",
       "      <td>None</td>\n",
       "      <td>None</td>\n",
       "      <td>None</td>\n",
       "      <td>None</td>\n",
       "    </tr>\n",
       "    <tr>\n",
       "      <th>three</th>\n",
       "      <td>None</td>\n",
       "      <td>None</td>\n",
       "      <td>None</td>\n",
       "      <td>None</td>\n",
       "      <td>None</td>\n",
       "    </tr>\n",
       "  </tbody>\n",
       "</table>\n",
       "</div>"
      ],
      "text/plain": [
       "          c0    c1    c2    c3    c4\n",
       "one        1     4     7    10    13\n",
       "first   None  None  None  None  None\n",
       "two        2     5     8    11    14\n",
       "second  None  None  None  None  None\n",
       "three   None  None  None  None  None"
      ]
     },
     "execution_count": 26,
     "metadata": {},
     "output_type": "execute_result"
    }
   ],
   "source": [
    "# [3-4] 인덱스를 one two three ==> one first two second three\n",
    "\n",
    "df23 = df1.reindex(index=['one', 'first' ,'two' ,'second', 'three'], fill_value='None')\n",
    "df23"
   ]
  },
  {
   "cell_type": "markdown",
   "metadata": {},
   "source": [
    "- 연속된 데이터 인덱스의 reindex"
   ]
  },
  {
   "cell_type": "code",
   "execution_count": 27,
   "metadata": {},
   "outputs": [
    {
     "data": {
      "text/html": [
       "<div>\n",
       "<style scoped>\n",
       "    .dataframe tbody tr th:only-of-type {\n",
       "        vertical-align: middle;\n",
       "    }\n",
       "\n",
       "    .dataframe tbody tr th {\n",
       "        vertical-align: top;\n",
       "    }\n",
       "\n",
       "    .dataframe thead th {\n",
       "        text-align: right;\n",
       "    }\n",
       "</style>\n",
       "<table border=\"1\" class=\"dataframe\">\n",
       "  <thead>\n",
       "    <tr style=\"text-align: right;\">\n",
       "      <th></th>\n",
       "      <th>prices</th>\n",
       "    </tr>\n",
       "  </thead>\n",
       "  <tbody>\n",
       "    <tr>\n",
       "      <th>2019-12-25</th>\n",
       "      <td>NaN</td>\n",
       "    </tr>\n",
       "    <tr>\n",
       "      <th>2019-12-26</th>\n",
       "      <td>NaN</td>\n",
       "    </tr>\n",
       "    <tr>\n",
       "      <th>2019-12-27</th>\n",
       "      <td>NaN</td>\n",
       "    </tr>\n",
       "    <tr>\n",
       "      <th>2019-12-28</th>\n",
       "      <td>NaN</td>\n",
       "    </tr>\n",
       "    <tr>\n",
       "      <th>2019-12-29</th>\n",
       "      <td>NaN</td>\n",
       "    </tr>\n",
       "    <tr>\n",
       "      <th>2019-12-30</th>\n",
       "      <td>NaN</td>\n",
       "    </tr>\n",
       "    <tr>\n",
       "      <th>2019-12-31</th>\n",
       "      <td>NaN</td>\n",
       "    </tr>\n",
       "    <tr>\n",
       "      <th>2020-01-01</th>\n",
       "      <td>100.0</td>\n",
       "    </tr>\n",
       "    <tr>\n",
       "      <th>2020-01-02</th>\n",
       "      <td>101.0</td>\n",
       "    </tr>\n",
       "    <tr>\n",
       "      <th>2020-01-03</th>\n",
       "      <td>NaN</td>\n",
       "    </tr>\n",
       "  </tbody>\n",
       "</table>\n",
       "</div>"
      ],
      "text/plain": [
       "            prices\n",
       "2019-12-25     NaN\n",
       "2019-12-26     NaN\n",
       "2019-12-27     NaN\n",
       "2019-12-28     NaN\n",
       "2019-12-29     NaN\n",
       "2019-12-30     NaN\n",
       "2019-12-31     NaN\n",
       "2020-01-01   100.0\n",
       "2020-01-02   101.0\n",
       "2020-01-03     NaN"
      ]
     },
     "execution_count": 27,
     "metadata": {},
     "output_type": "execute_result"
    }
   ],
   "source": [
    "date_index = pd.date_range('1/1/2020', periods=6, freq='D')\n",
    "date_index\n",
    "\n",
    "import numpy as np\n",
    "\n",
    "df2 = pd.DataFrame({'prices' :[100,101,np.nan,100,89,88] }, index=date_index)\n",
    "\n",
    "date_index2 = pd.date_range('25/12/2019', periods=10, freq='D')\n",
    "\n",
    "df2 =df2.reindex(date_index2, method='ffill')\n",
    "df2"
   ]
  },
  {
   "cell_type": "code",
   "execution_count": null,
   "metadata": {},
   "outputs": [],
   "source": []
  }
 ],
 "metadata": {
  "kernelspec": {
   "display_name": "PY39",
   "language": "python",
   "name": "python3"
  },
  "language_info": {
   "codemirror_mode": {
    "name": "ipython",
    "version": 3
   },
   "file_extension": ".py",
   "mimetype": "text/x-python",
   "name": "python",
   "nbconvert_exporter": "python",
   "pygments_lexer": "ipython3",
   "version": "3.9.21"
  }
 },
 "nbformat": 4,
 "nbformat_minor": 2
}
