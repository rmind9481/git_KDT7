{
 "cells": [
  {
   "cell_type": "markdown",
   "metadata": {},
   "source": [
    "[DataFrame 에 인덱스기준 정렬] "
   ]
  },
  {
   "cell_type": "markdown",
   "metadata": {},
   "source": [
    "[1] 모듈 로딩 및 데이터준비 <hr>"
   ]
  },
  {
   "cell_type": "code",
   "execution_count": 57,
   "metadata": {},
   "outputs": [],
   "source": [
    "# [1-1] 모듈 로딩\n",
    "\n",
    "import pandas as pd                 # 데이터 분석용 모듈\n",
    "import numpy as np                  # NaN 빈칸 의미 상수 사용 위해서\n",
    "\n"
   ]
  },
  {
   "cell_type": "code",
   "execution_count": 58,
   "metadata": {},
   "outputs": [],
   "source": [
    "dict_data = {'c5':[11,12,13],\n",
    "             'c1':[40,50,60],\n",
    "             'c3':[75,85,95],\n",
    "             'c0':[523,553,321],\n",
    "             'c2':[132,142,152]}\n",
    "\n",
    "dictFD1 = pd.DataFrame(dict_data)"
   ]
  },
  {
   "cell_type": "markdown",
   "metadata": {},
   "source": [
    "[2] 데이터 로딩 및 확인 <hr>"
   ]
  },
  {
   "cell_type": "code",
   "execution_count": 59,
   "metadata": {},
   "outputs": [
    {
     "data": {
      "text/html": [
       "<div>\n",
       "<style scoped>\n",
       "    .dataframe tbody tr th:only-of-type {\n",
       "        vertical-align: middle;\n",
       "    }\n",
       "\n",
       "    .dataframe tbody tr th {\n",
       "        vertical-align: top;\n",
       "    }\n",
       "\n",
       "    .dataframe thead th {\n",
       "        text-align: right;\n",
       "    }\n",
       "</style>\n",
       "<table border=\"1\" class=\"dataframe\">\n",
       "  <thead>\n",
       "    <tr style=\"text-align: right;\">\n",
       "      <th></th>\n",
       "      <th>c5</th>\n",
       "      <th>c1</th>\n",
       "      <th>c3</th>\n",
       "      <th>c0</th>\n",
       "      <th>c2</th>\n",
       "    </tr>\n",
       "  </thead>\n",
       "  <tbody>\n",
       "    <tr>\n",
       "      <th>r05</th>\n",
       "      <td>11</td>\n",
       "      <td>40</td>\n",
       "      <td>75</td>\n",
       "      <td>523</td>\n",
       "      <td>132</td>\n",
       "    </tr>\n",
       "    <tr>\n",
       "      <th>r01</th>\n",
       "      <td>12</td>\n",
       "      <td>50</td>\n",
       "      <td>85</td>\n",
       "      <td>553</td>\n",
       "      <td>142</td>\n",
       "    </tr>\n",
       "    <tr>\n",
       "      <th>r02</th>\n",
       "      <td>13</td>\n",
       "      <td>60</td>\n",
       "      <td>95</td>\n",
       "      <td>321</td>\n",
       "      <td>152</td>\n",
       "    </tr>\n",
       "  </tbody>\n",
       "</table>\n",
       "</div>"
      ],
      "text/plain": [
       "     c5  c1  c3   c0   c2\n",
       "r05  11  40  75  523  132\n",
       "r01  12  50  85  553  142\n",
       "r02  13  60  95  321  152"
      ]
     },
     "execution_count": 59,
     "metadata": {},
     "output_type": "execute_result"
    }
   ],
   "source": [
    "dictFD1 = pd.DataFrame(dict_data, index=['r05','r01','r02'])\n",
    "dictFD1"
   ]
  },
  {
   "cell_type": "markdown",
   "metadata": {},
   "source": [
    "[3] 정렬 - 인덱스 기준  <hr>"
   ]
  },
  {
   "cell_type": "code",
   "execution_count": 60,
   "metadata": {},
   "outputs": [
    {
     "name": "stdout",
     "output_type": "stream",
     "text": [
      "     c5  c1  c3   c0   c2\n",
      "r01  12  50  85  553  142\n",
      "r02  13  60  95  321  152\n",
      "r05  11  40  75  523  132\n"
     ]
    }
   ],
   "source": [
    "# [3-1] 인덱스 기준으로 오름차순 정렬 \n",
    "#  \n",
    "\n",
    "dictFD2 = dictFD1.sort_index()\n",
    "print(dictFD2)"
   ]
  },
  {
   "cell_type": "code",
   "execution_count": 61,
   "metadata": {},
   "outputs": [
    {
     "name": "stdout",
     "output_type": "stream",
     "text": [
      "     c5  c1  c3   c0   c2\n",
      "r05  11  40  75  523  132\n",
      "r02  13  60  95  321  152\n",
      "r01  12  50  85  553  142\n"
     ]
    }
   ],
   "source": [
    "# - 변경 : 내림차순 ascending = False\n",
    "\n",
    "dictFD2 = dictFD1.sort_index(ascending=False)\n",
    "print(dictFD2)"
   ]
  },
  {
   "cell_type": "code",
   "execution_count": 62,
   "metadata": {},
   "outputs": [
    {
     "data": {
      "text/html": [
       "<div>\n",
       "<style scoped>\n",
       "    .dataframe tbody tr th:only-of-type {\n",
       "        vertical-align: middle;\n",
       "    }\n",
       "\n",
       "    .dataframe tbody tr th {\n",
       "        vertical-align: top;\n",
       "    }\n",
       "\n",
       "    .dataframe thead th {\n",
       "        text-align: right;\n",
       "    }\n",
       "</style>\n",
       "<table border=\"1\" class=\"dataframe\">\n",
       "  <thead>\n",
       "    <tr style=\"text-align: right;\">\n",
       "      <th></th>\n",
       "      <th>c5</th>\n",
       "      <th>c1</th>\n",
       "      <th>c3</th>\n",
       "      <th>c0</th>\n",
       "      <th>c2</th>\n",
       "    </tr>\n",
       "  </thead>\n",
       "  <tbody>\n",
       "    <tr>\n",
       "      <th>A1</th>\n",
       "      <td>11</td>\n",
       "      <td>40</td>\n",
       "      <td>75</td>\n",
       "      <td>523</td>\n",
       "      <td>132</td>\n",
       "    </tr>\n",
       "    <tr>\n",
       "      <th>B1</th>\n",
       "      <td>12</td>\n",
       "      <td>50</td>\n",
       "      <td>85</td>\n",
       "      <td>553</td>\n",
       "      <td>142</td>\n",
       "    </tr>\n",
       "    <tr>\n",
       "      <th>Z1</th>\n",
       "      <td>13</td>\n",
       "      <td>60</td>\n",
       "      <td>95</td>\n",
       "      <td>321</td>\n",
       "      <td>152</td>\n",
       "    </tr>\n",
       "  </tbody>\n",
       "</table>\n",
       "</div>"
      ],
      "text/plain": [
       "    c5  c1  c3   c0   c2\n",
       "A1  11  40  75  523  132\n",
       "B1  12  50  85  553  142\n",
       "Z1  13  60  95  321  152"
      ]
     },
     "execution_count": 62,
     "metadata": {},
     "output_type": "execute_result"
    }
   ],
   "source": [
    "# - 인덱스 변경 => df.index = [새로운 인덱스]\n",
    "\n",
    "dictFD1.index = ['A1','B1','Z1']\n",
    "\n",
    "dictFD1"
   ]
  },
  {
   "cell_type": "code",
   "execution_count": 63,
   "metadata": {},
   "outputs": [
    {
     "data": {
      "text/html": [
       "<div>\n",
       "<style scoped>\n",
       "    .dataframe tbody tr th:only-of-type {\n",
       "        vertical-align: middle;\n",
       "    }\n",
       "\n",
       "    .dataframe tbody tr th {\n",
       "        vertical-align: top;\n",
       "    }\n",
       "\n",
       "    .dataframe thead th {\n",
       "        text-align: right;\n",
       "    }\n",
       "</style>\n",
       "<table border=\"1\" class=\"dataframe\">\n",
       "  <thead>\n",
       "    <tr style=\"text-align: right;\">\n",
       "      <th></th>\n",
       "      <th>c5</th>\n",
       "      <th>c1</th>\n",
       "      <th>c3</th>\n",
       "      <th>c0</th>\n",
       "      <th>c2</th>\n",
       "    </tr>\n",
       "  </thead>\n",
       "  <tbody>\n",
       "    <tr>\n",
       "      <th>A1</th>\n",
       "      <td>11</td>\n",
       "      <td>40</td>\n",
       "      <td>75</td>\n",
       "      <td>523</td>\n",
       "      <td>132</td>\n",
       "    </tr>\n",
       "    <tr>\n",
       "      <th>B1</th>\n",
       "      <td>12</td>\n",
       "      <td>50</td>\n",
       "      <td>85</td>\n",
       "      <td>553</td>\n",
       "      <td>142</td>\n",
       "    </tr>\n",
       "    <tr>\n",
       "      <th>Z1</th>\n",
       "      <td>13</td>\n",
       "      <td>60</td>\n",
       "      <td>95</td>\n",
       "      <td>321</td>\n",
       "      <td>152</td>\n",
       "    </tr>\n",
       "  </tbody>\n",
       "</table>\n",
       "</div>"
      ],
      "text/plain": [
       "    c5  c1  c3   c0   c2\n",
       "A1  11  40  75  523  132\n",
       "B1  12  50  85  553  142\n",
       "Z1  13  60  95  321  152"
      ]
     },
     "execution_count": 63,
     "metadata": {},
     "output_type": "execute_result"
    }
   ],
   "source": [
    "# - 오름 차순 정렬 : 작은 값 >>> 큰 값\n",
    "# - 대문자 A 65, Z 91, a 97\n",
    "dictFD1.sort_index()"
   ]
  },
  {
   "cell_type": "code",
   "execution_count": 64,
   "metadata": {},
   "outputs": [
    {
     "data": {
      "text/html": [
       "<div>\n",
       "<style scoped>\n",
       "    .dataframe tbody tr th:only-of-type {\n",
       "        vertical-align: middle;\n",
       "    }\n",
       "\n",
       "    .dataframe tbody tr th {\n",
       "        vertical-align: top;\n",
       "    }\n",
       "\n",
       "    .dataframe thead th {\n",
       "        text-align: right;\n",
       "    }\n",
       "</style>\n",
       "<table border=\"1\" class=\"dataframe\">\n",
       "  <thead>\n",
       "    <tr style=\"text-align: right;\">\n",
       "      <th></th>\n",
       "      <th>c5</th>\n",
       "      <th>c1</th>\n",
       "      <th>c3</th>\n",
       "      <th>c0</th>\n",
       "      <th>c2</th>\n",
       "    </tr>\n",
       "  </thead>\n",
       "  <tbody>\n",
       "    <tr>\n",
       "      <th>A1</th>\n",
       "      <td>11</td>\n",
       "      <td>40</td>\n",
       "      <td>75</td>\n",
       "      <td>523</td>\n",
       "      <td>132</td>\n",
       "    </tr>\n",
       "    <tr>\n",
       "      <th>B1</th>\n",
       "      <td>12</td>\n",
       "      <td>50</td>\n",
       "      <td>85</td>\n",
       "      <td>553</td>\n",
       "      <td>142</td>\n",
       "    </tr>\n",
       "    <tr>\n",
       "      <th>Z1</th>\n",
       "      <td>13</td>\n",
       "      <td>60</td>\n",
       "      <td>95</td>\n",
       "      <td>321</td>\n",
       "      <td>152</td>\n",
       "    </tr>\n",
       "  </tbody>\n",
       "</table>\n",
       "</div>"
      ],
      "text/plain": [
       "    c5  c1  c3   c0   c2\n",
       "A1  11  40  75  523  132\n",
       "B1  12  50  85  553  142\n",
       "Z1  13  60  95  321  152"
      ]
     },
     "execution_count": 64,
     "metadata": {},
     "output_type": "execute_result"
    }
   ],
   "source": [
    "# - 대문자 A 65, Z 91, a 97\n",
    "# => lamdba 에게 전달 : 'A1', 'Z1', 'a1' => 소문자 변경 후 정렬\n",
    "dictFD1.sort_index(key= lambda label: label.str.lower())\n",
    "dictFD1"
   ]
  },
  {
   "cell_type": "code",
   "execution_count": 65,
   "metadata": {},
   "outputs": [
    {
     "data": {
      "text/html": [
       "<div>\n",
       "<style scoped>\n",
       "    .dataframe tbody tr th:only-of-type {\n",
       "        vertical-align: middle;\n",
       "    }\n",
       "\n",
       "    .dataframe tbody tr th {\n",
       "        vertical-align: top;\n",
       "    }\n",
       "\n",
       "    .dataframe thead th {\n",
       "        text-align: right;\n",
       "    }\n",
       "</style>\n",
       "<table border=\"1\" class=\"dataframe\">\n",
       "  <thead>\n",
       "    <tr style=\"text-align: right;\">\n",
       "      <th></th>\n",
       "      <th>c5</th>\n",
       "      <th>c1</th>\n",
       "      <th>c3</th>\n",
       "      <th>c0</th>\n",
       "      <th>c2</th>\n",
       "    </tr>\n",
       "  </thead>\n",
       "  <tbody>\n",
       "    <tr>\n",
       "      <th>Z1</th>\n",
       "      <td>13</td>\n",
       "      <td>60</td>\n",
       "      <td>95</td>\n",
       "      <td>321</td>\n",
       "      <td>152</td>\n",
       "    </tr>\n",
       "    <tr>\n",
       "      <th>B1</th>\n",
       "      <td>12</td>\n",
       "      <td>50</td>\n",
       "      <td>85</td>\n",
       "      <td>553</td>\n",
       "      <td>142</td>\n",
       "    </tr>\n",
       "    <tr>\n",
       "      <th>A1</th>\n",
       "      <td>11</td>\n",
       "      <td>40</td>\n",
       "      <td>75</td>\n",
       "      <td>523</td>\n",
       "      <td>132</td>\n",
       "    </tr>\n",
       "  </tbody>\n",
       "</table>\n",
       "</div>"
      ],
      "text/plain": [
       "    c5  c1  c3   c0   c2\n",
       "Z1  13  60  95  321  152\n",
       "B1  12  50  85  553  142\n",
       "A1  11  40  75  523  132"
      ]
     },
     "execution_count": 65,
     "metadata": {},
     "output_type": "execute_result"
    }
   ],
   "source": [
    "# - 대문자 A 65, Z 91, a 97\n",
    "# => lamdba 에게 전달 : 'A1', 'Z1', 'a1' => 대문자 변경 후 정렬\n",
    "dictFD1.sort_index(ascending=False ,key= lambda label: label.str.upper())\n"
   ]
  },
  {
   "cell_type": "code",
   "execution_count": 66,
   "metadata": {},
   "outputs": [
    {
     "data": {
      "text/html": [
       "<div>\n",
       "<style scoped>\n",
       "    .dataframe tbody tr th:only-of-type {\n",
       "        vertical-align: middle;\n",
       "    }\n",
       "\n",
       "    .dataframe tbody tr th {\n",
       "        vertical-align: top;\n",
       "    }\n",
       "\n",
       "    .dataframe thead th {\n",
       "        text-align: right;\n",
       "    }\n",
       "</style>\n",
       "<table border=\"1\" class=\"dataframe\">\n",
       "  <thead>\n",
       "    <tr style=\"text-align: right;\">\n",
       "      <th></th>\n",
       "      <th>c5</th>\n",
       "      <th>c3</th>\n",
       "      <th>c2</th>\n",
       "      <th>c1</th>\n",
       "      <th>c0</th>\n",
       "    </tr>\n",
       "  </thead>\n",
       "  <tbody>\n",
       "    <tr>\n",
       "      <th>A1</th>\n",
       "      <td>11</td>\n",
       "      <td>75</td>\n",
       "      <td>132</td>\n",
       "      <td>40</td>\n",
       "      <td>523</td>\n",
       "    </tr>\n",
       "    <tr>\n",
       "      <th>B1</th>\n",
       "      <td>12</td>\n",
       "      <td>85</td>\n",
       "      <td>142</td>\n",
       "      <td>50</td>\n",
       "      <td>553</td>\n",
       "    </tr>\n",
       "    <tr>\n",
       "      <th>Z1</th>\n",
       "      <td>13</td>\n",
       "      <td>95</td>\n",
       "      <td>152</td>\n",
       "      <td>60</td>\n",
       "      <td>321</td>\n",
       "    </tr>\n",
       "  </tbody>\n",
       "</table>\n",
       "</div>"
      ],
      "text/plain": [
       "    c5  c3   c2  c1   c0\n",
       "A1  11  75  132  40  523\n",
       "B1  12  85  142  50  553\n",
       "Z1  13  95  152  60  321"
      ]
     },
     "execution_count": 66,
     "metadata": {},
     "output_type": "execute_result"
    }
   ],
   "source": [
    "# [문] 컬럼 이름 정렬 => 내림 차순으로\n",
    "dictFD1.sort_index(ascending=False , axis=1)\n",
    "\n"
   ]
  },
  {
   "cell_type": "code",
   "execution_count": 67,
   "metadata": {},
   "outputs": [
    {
     "data": {
      "text/html": [
       "<div>\n",
       "<style scoped>\n",
       "    .dataframe tbody tr th:only-of-type {\n",
       "        vertical-align: middle;\n",
       "    }\n",
       "\n",
       "    .dataframe tbody tr th {\n",
       "        vertical-align: top;\n",
       "    }\n",
       "\n",
       "    .dataframe thead th {\n",
       "        text-align: right;\n",
       "    }\n",
       "</style>\n",
       "<table border=\"1\" class=\"dataframe\">\n",
       "  <thead>\n",
       "    <tr style=\"text-align: right;\">\n",
       "      <th></th>\n",
       "      <th>Z1</th>\n",
       "      <th>B1</th>\n",
       "      <th>A1</th>\n",
       "    </tr>\n",
       "  </thead>\n",
       "  <tbody>\n",
       "    <tr>\n",
       "      <th>c5</th>\n",
       "      <td>13</td>\n",
       "      <td>12</td>\n",
       "      <td>11</td>\n",
       "    </tr>\n",
       "    <tr>\n",
       "      <th>c1</th>\n",
       "      <td>60</td>\n",
       "      <td>50</td>\n",
       "      <td>40</td>\n",
       "    </tr>\n",
       "    <tr>\n",
       "      <th>c3</th>\n",
       "      <td>95</td>\n",
       "      <td>85</td>\n",
       "      <td>75</td>\n",
       "    </tr>\n",
       "    <tr>\n",
       "      <th>c0</th>\n",
       "      <td>321</td>\n",
       "      <td>553</td>\n",
       "      <td>523</td>\n",
       "    </tr>\n",
       "    <tr>\n",
       "      <th>c2</th>\n",
       "      <td>152</td>\n",
       "      <td>142</td>\n",
       "      <td>132</td>\n",
       "    </tr>\n",
       "  </tbody>\n",
       "</table>\n",
       "</div>"
      ],
      "text/plain": [
       "     Z1   B1   A1\n",
       "c5   13   12   11\n",
       "c1   60   50   40\n",
       "c3   95   85   75\n",
       "c0  321  553  523\n",
       "c2  152  142  132"
      ]
     },
     "execution_count": 67,
     "metadata": {},
     "output_type": "execute_result"
    }
   ],
   "source": [
    "dictFD1.T\n",
    "dictFD1.sort_index(ascending=False).T"
   ]
  },
  {
   "cell_type": "markdown",
   "metadata": {},
   "source": [
    "[4] 정렬 - 값 기준 <hr>"
   ]
  },
  {
   "cell_type": "code",
   "execution_count": 69,
   "metadata": {},
   "outputs": [
    {
     "data": {
      "text/html": [
       "<div>\n",
       "<style scoped>\n",
       "    .dataframe tbody tr th:only-of-type {\n",
       "        vertical-align: middle;\n",
       "    }\n",
       "\n",
       "    .dataframe tbody tr th {\n",
       "        vertical-align: top;\n",
       "    }\n",
       "\n",
       "    .dataframe thead th {\n",
       "        text-align: right;\n",
       "    }\n",
       "</style>\n",
       "<table border=\"1\" class=\"dataframe\">\n",
       "  <thead>\n",
       "    <tr style=\"text-align: right;\">\n",
       "      <th></th>\n",
       "      <th>c5</th>\n",
       "      <th>c1</th>\n",
       "      <th>c3</th>\n",
       "      <th>c0</th>\n",
       "      <th>c2</th>\n",
       "    </tr>\n",
       "  </thead>\n",
       "  <tbody>\n",
       "    <tr>\n",
       "      <th>Z1</th>\n",
       "      <td>13</td>\n",
       "      <td>60</td>\n",
       "      <td>95</td>\n",
       "      <td>321</td>\n",
       "      <td>152</td>\n",
       "    </tr>\n",
       "    <tr>\n",
       "      <th>A1</th>\n",
       "      <td>11</td>\n",
       "      <td>40</td>\n",
       "      <td>75</td>\n",
       "      <td>523</td>\n",
       "      <td>132</td>\n",
       "    </tr>\n",
       "    <tr>\n",
       "      <th>B1</th>\n",
       "      <td>12</td>\n",
       "      <td>50</td>\n",
       "      <td>85</td>\n",
       "      <td>553</td>\n",
       "      <td>142</td>\n",
       "    </tr>\n",
       "  </tbody>\n",
       "</table>\n",
       "</div>"
      ],
      "text/plain": [
       "    c5  c1  c3   c0   c2\n",
       "Z1  13  60  95  321  152\n",
       "A1  11  40  75  523  132\n",
       "B1  12  50  85  553  142"
      ]
     },
     "execution_count": 69,
     "metadata": {},
     "output_type": "execute_result"
    }
   ],
   "source": [
    "# 값으로 정렬 => sort_values()\n",
    "\n",
    "dictFD1.sort_values(by='c0')\n"
   ]
  },
  {
   "cell_type": "code",
   "execution_count": 72,
   "metadata": {},
   "outputs": [
    {
     "data": {
      "text/html": [
       "<div>\n",
       "<style scoped>\n",
       "    .dataframe tbody tr th:only-of-type {\n",
       "        vertical-align: middle;\n",
       "    }\n",
       "\n",
       "    .dataframe tbody tr th {\n",
       "        vertical-align: top;\n",
       "    }\n",
       "\n",
       "    .dataframe thead th {\n",
       "        text-align: right;\n",
       "    }\n",
       "</style>\n",
       "<table border=\"1\" class=\"dataframe\">\n",
       "  <thead>\n",
       "    <tr style=\"text-align: right;\">\n",
       "      <th></th>\n",
       "      <th>c5</th>\n",
       "      <th>c1</th>\n",
       "      <th>c3</th>\n",
       "      <th>c2</th>\n",
       "      <th>c0</th>\n",
       "    </tr>\n",
       "  </thead>\n",
       "  <tbody>\n",
       "    <tr>\n",
       "      <th>A1</th>\n",
       "      <td>11</td>\n",
       "      <td>40</td>\n",
       "      <td>75</td>\n",
       "      <td>132</td>\n",
       "      <td>523</td>\n",
       "    </tr>\n",
       "    <tr>\n",
       "      <th>B1</th>\n",
       "      <td>12</td>\n",
       "      <td>50</td>\n",
       "      <td>85</td>\n",
       "      <td>142</td>\n",
       "      <td>553</td>\n",
       "    </tr>\n",
       "    <tr>\n",
       "      <th>Z1</th>\n",
       "      <td>13</td>\n",
       "      <td>60</td>\n",
       "      <td>95</td>\n",
       "      <td>152</td>\n",
       "      <td>321</td>\n",
       "    </tr>\n",
       "  </tbody>\n",
       "</table>\n",
       "</div>"
      ],
      "text/plain": [
       "    c5  c1  c3   c2   c0\n",
       "A1  11  40  75  132  523\n",
       "B1  12  50  85  142  553\n",
       "Z1  13  60  95  152  321"
      ]
     },
     "execution_count": 72,
     "metadata": {},
     "output_type": "execute_result"
    }
   ],
   "source": [
    "# - 2개 컬럼 기준으로 값 정렬\n",
    "dictFD1.sort_values(by=['c3','c5'])\n",
    "\n",
    "#  행 값을 정렬 => axis = 1 이 되야된다. \n",
    "dictFD1.sort_values(by='A1', axis=1)\n"
   ]
  },
  {
   "cell_type": "code",
   "execution_count": null,
   "metadata": {},
   "outputs": [],
   "source": []
  }
 ],
 "metadata": {
  "kernelspec": {
   "display_name": "PY39",
   "language": "python",
   "name": "python3"
  },
  "language_info": {
   "codemirror_mode": {
    "name": "ipython",
    "version": 3
   },
   "file_extension": ".py",
   "mimetype": "text/x-python",
   "name": "python",
   "nbconvert_exporter": "python",
   "pygments_lexer": "ipython3",
   "version": "3.9.21"
  }
 },
 "nbformat": 4,
 "nbformat_minor": 2
}
