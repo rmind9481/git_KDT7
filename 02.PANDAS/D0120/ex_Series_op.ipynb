{
 "cells": [
  {
   "cell_type": "markdown",
   "metadata": {},
   "source": [
    "[Series 연산]"
   ]
  },
  {
   "cell_type": "markdown",
   "metadata": {},
   "source": [
    "[1]  모듈 로딩 및 데이터 준빈 <hr>"
   ]
  },
  {
   "cell_type": "code",
   "execution_count": 1,
   "metadata": {},
   "outputs": [],
   "source": [
    "# [1-1] 데이터 로딩\n",
    "import pandas as pd     # 데이터 분석 모듈\n",
    "import numpy as np      # NAN 상수 관련 모듈"
   ]
  },
  {
   "cell_type": "code",
   "execution_count": 2,
   "metadata": {},
   "outputs": [],
   "source": [
    "## [1-2] 데이터 준비\n",
    "\n",
    "data = {'국어':90,'영어':100,'수학':80}"
   ]
  },
  {
   "cell_type": "markdown",
   "metadata": {},
   "source": [
    "[2] 데이터 로딩 및 확인 <hr>"
   ]
  },
  {
   "cell_type": "code",
   "execution_count": 4,
   "metadata": {},
   "outputs": [
    {
     "data": {
      "text/plain": [
       "국어     90\n",
       "영어    100\n",
       "수학     80\n",
       "dtype: int64"
      ]
     },
     "execution_count": 4,
     "metadata": {},
     "output_type": "execute_result"
    }
   ],
   "source": [
    "# Series 객체 생성\n",
    "\n",
    "sr1 = pd.Series(data)\n",
    "sr1"
   ]
  },
  {
   "cell_type": "code",
   "execution_count": 10,
   "metadata": {},
   "outputs": [
    {
     "name": "stdout",
     "output_type": "stream",
     "text": [
      "index Index(['국어', '영어', '수학'], dtype='object')\n",
      "ndim 1\n",
      "shape (3,)\n",
      "dtype int64\n",
      "values [ 90 100  80]\n"
     ]
    }
   ],
   "source": [
    "# Series 객체 속성 => 1차원\n",
    "# - 대표 속성 : index, ndim, shape, dtype, values\n",
    "\n",
    "print('index', sr1.index)\n",
    "print('ndim' , sr1.ndim)\n",
    "print('shape', sr1.shape)\n",
    "print('dtype', sr1.dtype)\n",
    "print('values',sr1.values)"
   ]
  },
  {
   "cell_type": "code",
   "execution_count": 12,
   "metadata": {},
   "outputs": [
    {
     "name": "stdout",
     "output_type": "stream",
     "text": [
      "<class 'pandas.core.series.Series'>\n",
      "Index: 3 entries, 국어 to 수학\n",
      "Series name: None\n",
      "Non-Null Count  Dtype\n",
      "--------------  -----\n",
      "3 non-null      int64\n",
      "dtypes: int64(1)\n",
      "memory usage: 156.0+ bytes\n"
     ]
    }
   ],
   "source": [
    "# Series 데이터 확인\n",
    "sr1.info()\n"
   ]
  },
  {
   "cell_type": "code",
   "execution_count": 13,
   "metadata": {},
   "outputs": [
    {
     "name": "stdout",
     "output_type": "stream",
     "text": [
      "국어    90\n",
      "dtype: int64\n",
      "\n",
      "수학    80\n",
      "dtype: int64\n"
     ]
    }
   ],
   "source": [
    "print(sr1.head(1), sr1.tail(1), sep=\"\\n\\n\")"
   ]
  },
  {
   "cell_type": "code",
   "execution_count": 14,
   "metadata": {},
   "outputs": [
    {
     "data": {
      "text/plain": [
       "count      3.0\n",
       "mean      90.0\n",
       "std       10.0\n",
       "min       80.0\n",
       "25%       85.0\n",
       "50%       90.0\n",
       "75%       95.0\n",
       "max      100.0\n",
       "dtype: float64"
      ]
     },
     "execution_count": 14,
     "metadata": {},
     "output_type": "execute_result"
    }
   ],
   "source": [
    "# 통계치 \n",
    "sr1.describe()"
   ]
  },
  {
   "cell_type": "markdown",
   "metadata": {},
   "source": [
    "[3] Series 데이터 다루기 <hr>"
   ]
  },
  {
   "cell_type": "code",
   "execution_count": 16,
   "metadata": {},
   "outputs": [
    {
     "data": {
      "text/plain": [
       "영어    100\n",
       "수학     80\n",
       "국어     90\n",
       "dtype: int64"
      ]
     },
     "execution_count": 16,
     "metadata": {},
     "output_type": "execute_result"
    }
   ],
   "source": [
    "## [3-1] 정렬하기\n",
    "\n",
    "# 오름차순\n",
    "sr1.sort_index()\n",
    "\n",
    "# 내림차순 정렬\n",
    "sr1.sort_index(ascending=False)"
   ]
  },
  {
   "cell_type": "code",
   "execution_count": 18,
   "metadata": {},
   "outputs": [
    {
     "data": {
      "text/plain": [
       "영어    100\n",
       "국어     90\n",
       "수학     80\n",
       "dtype: int64"
      ]
     },
     "execution_count": 18,
     "metadata": {},
     "output_type": "execute_result"
    }
   ],
   "source": [
    "# 오름차순 정렬\n",
    "sr1.sort_values()\n",
    "\n",
    "# 내림차순 정렬\n",
    "sr1.sort_values(ascending=False)"
   ]
  },
  {
   "cell_type": "code",
   "execution_count": 20,
   "metadata": {},
   "outputs": [
    {
     "name": "stdout",
     "output_type": "stream",
     "text": [
      "국어     97\n",
      "영어    107\n",
      "수학     87\n",
      "dtype: int64\n",
      "국어    83\n",
      "영어    93\n",
      "수학    73\n",
      "dtype: int64\n",
      "국어    630\n",
      "영어    700\n",
      "수학    560\n",
      "dtype: int64\n",
      "국어    12.857143\n",
      "영어    14.285714\n",
      "수학    11.428571\n",
      "dtype: float64\n",
      "국어    12\n",
      "영어    14\n",
      "수학    11\n",
      "dtype: int64\n",
      "국어    6\n",
      "영어    2\n",
      "수학    3\n",
      "dtype: int64\n"
     ]
    }
   ],
   "source": [
    "## [3-2] 연산하기\n",
    "## [3-2-1] 연산기호 -산술 연산자\n",
    "\n",
    "print( sr1 + 7)\n",
    "print( sr1 - 7)\n",
    "print( sr1 * 7)\n",
    "print( sr1 / 7)\n",
    "print( sr1 // 7)\n",
    "print( sr1 % 7)"
   ]
  },
  {
   "cell_type": "code",
   "execution_count": 21,
   "metadata": {},
   "outputs": [
    {
     "name": "stdout",
     "output_type": "stream",
     "text": [
      "국어    False\n",
      "영어    False\n",
      "수학    False\n",
      "dtype: bool\n",
      "국어    True\n",
      "영어    True\n",
      "수학    True\n",
      "dtype: bool\n"
     ]
    }
   ],
   "source": [
    "## [3-2-2] 비교연산자 => bool\n",
    "\n",
    "print( sr1 == 7)\n",
    "print( sr1 != 7)\n",
    "print( sr1 >= 7)\n",
    "print( sr1 <= 7)\n"
   ]
  },
  {
   "cell_type": "code",
   "execution_count": 27,
   "metadata": {},
   "outputs": [
    {
     "name": "stdout",
     "output_type": "stream",
     "text": [
      "국어     97\n",
      "수학    157\n",
      "영어    877\n",
      "dtype: int64\n",
      "국어     95.0\n",
      "수학      NaN\n",
      "영어    177.0\n",
      "dtype: float64\n"
     ]
    }
   ],
   "source": [
    "## [3-2-3] Series\n",
    "\n",
    "sr2 = pd.Series([7,77,777], index=['국어','수학','영어'])\n",
    "sr3 = pd.Series([5,np.nan,77], index=['국어','수학','영어'])\n",
    "\n",
    "print(sr1 + sr2)\n",
    "print(sr1 + sr3)\n"
   ]
  },
  {
   "cell_type": "code",
   "execution_count": 30,
   "metadata": {},
   "outputs": [
    {
     "name": "stdout",
     "output_type": "stream",
     "text": [
      "국어     95.0\n",
      "수학     79.0\n",
      "영어    177.0\n",
      "dtype: float64\n",
      "국어    85.0\n",
      "수학    81.0\n",
      "영어    23.0\n",
      "dtype: float64\n",
      "국어     450.0\n",
      "수학     -80.0\n",
      "영어    7700.0\n",
      "dtype: float64\n",
      "국어    18.000000\n",
      "수학          inf\n",
      "영어     1.298701\n",
      "dtype: float64\n"
     ]
    }
   ],
   "source": [
    "## [3-2-4] 연산관련 메서드 => 빈칸 즉, NaN ( nan, NAN) 존재시 연산 수행\n",
    "# - fill_value 매개변수 : 빈칸 즉, NaN(nan, NAN)에 채워질 값\n",
    "print(sr1.add(sr3, fill_value=-1))\n",
    "print(sr1.sub(sr3, fill_value=-1))\n",
    "print(sr1.mul(sr3, fill_value=-1))\n",
    "print(sr1.div(sr3, fill_value=0))"
   ]
  },
  {
   "cell_type": "code",
   "execution_count": null,
   "metadata": {},
   "outputs": [],
   "source": []
  }
 ],
 "metadata": {
  "kernelspec": {
   "display_name": "PY39",
   "language": "python",
   "name": "python3"
  },
  "language_info": {
   "codemirror_mode": {
    "name": "ipython",
    "version": 3
   },
   "file_extension": ".py",
   "mimetype": "text/x-python",
   "name": "python",
   "nbconvert_exporter": "python",
   "pygments_lexer": "ipython3",
   "version": "3.9.21"
  }
 },
 "nbformat": 4,
 "nbformat_minor": 2
}
