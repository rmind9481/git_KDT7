{
 "cells": [
  {
   "cell_type": "markdown",
   "metadata": {},
   "source": [
    "[미국 차동차 연비 데이터 분석]"
   ]
  },
  {
   "cell_type": "markdown",
   "metadata": {},
   "source": [
    "- 분석목표 : 자동차 연비 와 관련된 자동차의 속성 분석\n",
    "- 데이터셋 : UCI auto_mpg.csv\n",
    "- 타겟컬럼 : mpg    <=> 종속 변수 \n",
    "- 피쳐컬럼 : 7개    <=> 독립 변수 / 다변량변수"
   ]
  },
  {
   "cell_type": "markdown",
   "metadata": {},
   "source": [
    "[1] 모듈 로딩 및 데이터 준비 <hr>"
   ]
  },
  {
   "cell_type": "code",
   "execution_count": 102,
   "metadata": {},
   "outputs": [],
   "source": [
    "# [1-1] 모듈 로딩\n",
    "import pandas as pd     # 데이터 분석 및 전처리 관련 모듈\n",
    "import numpy as np      # 배열(array) 파이썬 구현 관련 모듈\n"
   ]
  },
  {
   "cell_type": "code",
   "execution_count": 103,
   "metadata": {},
   "outputs": [],
   "source": [
    "# [1-2] 데이터 준비\n",
    "\n",
    "MPG_FILE = '../DATA/auto_mpg.csv' "
   ]
  },
  {
   "cell_type": "markdown",
   "metadata": {},
   "source": [
    "[2] 데이터 로딩 및 확인 <hr>"
   ]
  },
  {
   "cell_type": "code",
   "execution_count": 104,
   "metadata": {},
   "outputs": [
    {
     "data": {
      "text/html": [
       "<div>\n",
       "<style scoped>\n",
       "    .dataframe tbody tr th:only-of-type {\n",
       "        vertical-align: middle;\n",
       "    }\n",
       "\n",
       "    .dataframe tbody tr th {\n",
       "        vertical-align: top;\n",
       "    }\n",
       "\n",
       "    .dataframe thead th {\n",
       "        text-align: right;\n",
       "    }\n",
       "</style>\n",
       "<table border=\"1\" class=\"dataframe\">\n",
       "  <thead>\n",
       "    <tr style=\"text-align: right;\">\n",
       "      <th></th>\n",
       "      <th>mpg</th>\n",
       "      <th>cylinders</th>\n",
       "      <th>displacement</th>\n",
       "      <th>horsepower</th>\n",
       "      <th>weight</th>\n",
       "      <th>acceleration</th>\n",
       "      <th>model year</th>\n",
       "      <th>origin</th>\n",
       "      <th>car name</th>\n",
       "    </tr>\n",
       "  </thead>\n",
       "  <tbody>\n",
       "    <tr>\n",
       "      <th>0</th>\n",
       "      <td>18.0</td>\n",
       "      <td>8.0</td>\n",
       "      <td>307.0</td>\n",
       "      <td>130</td>\n",
       "      <td>3504.0</td>\n",
       "      <td>12.0</td>\n",
       "      <td>70</td>\n",
       "      <td>1.0</td>\n",
       "      <td>chevrolet chevelle malibu</td>\n",
       "    </tr>\n",
       "    <tr>\n",
       "      <th>1</th>\n",
       "      <td>15.0</td>\n",
       "      <td>8.0</td>\n",
       "      <td>350.0</td>\n",
       "      <td>165</td>\n",
       "      <td>3693.0</td>\n",
       "      <td>11.5</td>\n",
       "      <td>70</td>\n",
       "      <td>1.0</td>\n",
       "      <td>buick skylark 320</td>\n",
       "    </tr>\n",
       "    <tr>\n",
       "      <th>2</th>\n",
       "      <td>18.0</td>\n",
       "      <td>8.0</td>\n",
       "      <td>318.0</td>\n",
       "      <td>150</td>\n",
       "      <td>3436.0</td>\n",
       "      <td>11.0</td>\n",
       "      <td>70</td>\n",
       "      <td>1.0</td>\n",
       "      <td>plymouth satellite</td>\n",
       "    </tr>\n",
       "    <tr>\n",
       "      <th>3</th>\n",
       "      <td>16.0</td>\n",
       "      <td>8.0</td>\n",
       "      <td>304.0</td>\n",
       "      <td>150</td>\n",
       "      <td>3433.0</td>\n",
       "      <td>12.0</td>\n",
       "      <td>70</td>\n",
       "      <td>1.0</td>\n",
       "      <td>amc rebel sst</td>\n",
       "    </tr>\n",
       "    <tr>\n",
       "      <th>4</th>\n",
       "      <td>17.0</td>\n",
       "      <td>8.0</td>\n",
       "      <td>302.0</td>\n",
       "      <td>140</td>\n",
       "      <td>3449.0</td>\n",
       "      <td>10.5</td>\n",
       "      <td>70</td>\n",
       "      <td>1.0</td>\n",
       "      <td>ford torino</td>\n",
       "    </tr>\n",
       "    <tr>\n",
       "      <th>...</th>\n",
       "      <td>...</td>\n",
       "      <td>...</td>\n",
       "      <td>...</td>\n",
       "      <td>...</td>\n",
       "      <td>...</td>\n",
       "      <td>...</td>\n",
       "      <td>...</td>\n",
       "      <td>...</td>\n",
       "      <td>...</td>\n",
       "    </tr>\n",
       "    <tr>\n",
       "      <th>399</th>\n",
       "      <td>32.0</td>\n",
       "      <td>NaN</td>\n",
       "      <td>135.0</td>\n",
       "      <td>84</td>\n",
       "      <td>NaN</td>\n",
       "      <td>11.6</td>\n",
       "      <td>82</td>\n",
       "      <td>1.0</td>\n",
       "      <td>dodge rampage</td>\n",
       "    </tr>\n",
       "    <tr>\n",
       "      <th>400</th>\n",
       "      <td>28.0</td>\n",
       "      <td>NaN</td>\n",
       "      <td>120.0</td>\n",
       "      <td>NaN</td>\n",
       "      <td>2625.0</td>\n",
       "      <td>18.6</td>\n",
       "      <td>82</td>\n",
       "      <td>NaN</td>\n",
       "      <td>NaN</td>\n",
       "    </tr>\n",
       "    <tr>\n",
       "      <th>401</th>\n",
       "      <td>31.0</td>\n",
       "      <td>4.0</td>\n",
       "      <td>119.0</td>\n",
       "      <td>82</td>\n",
       "      <td>2720.0</td>\n",
       "      <td>NaN</td>\n",
       "      <td>82</td>\n",
       "      <td>1.0</td>\n",
       "      <td>chevy s-104</td>\n",
       "    </tr>\n",
       "    <tr>\n",
       "      <th>402</th>\n",
       "      <td>32.0</td>\n",
       "      <td>NaN</td>\n",
       "      <td>135.0</td>\n",
       "      <td>NaN</td>\n",
       "      <td>2295.0</td>\n",
       "      <td>11.6</td>\n",
       "      <td>82</td>\n",
       "      <td>1.0</td>\n",
       "      <td>dodge rampage</td>\n",
       "    </tr>\n",
       "    <tr>\n",
       "      <th>403</th>\n",
       "      <td>NaN</td>\n",
       "      <td>4.0</td>\n",
       "      <td>NaN</td>\n",
       "      <td>79</td>\n",
       "      <td>2625.0</td>\n",
       "      <td>18.6</td>\n",
       "      <td>82</td>\n",
       "      <td>1.0</td>\n",
       "      <td>ford ranger</td>\n",
       "    </tr>\n",
       "  </tbody>\n",
       "</table>\n",
       "<p>404 rows × 9 columns</p>\n",
       "</div>"
      ],
      "text/plain": [
       "      mpg  cylinders  displacement horsepower  weight  acceleration  \\\n",
       "0    18.0        8.0         307.0        130  3504.0          12.0   \n",
       "1    15.0        8.0         350.0        165  3693.0          11.5   \n",
       "2    18.0        8.0         318.0        150  3436.0          11.0   \n",
       "3    16.0        8.0         304.0        150  3433.0          12.0   \n",
       "4    17.0        8.0         302.0        140  3449.0          10.5   \n",
       "..    ...        ...           ...        ...     ...           ...   \n",
       "399  32.0        NaN         135.0         84     NaN          11.6   \n",
       "400  28.0        NaN         120.0        NaN  2625.0          18.6   \n",
       "401  31.0        4.0         119.0         82  2720.0           NaN   \n",
       "402  32.0        NaN         135.0        NaN  2295.0          11.6   \n",
       "403   NaN        4.0           NaN         79  2625.0          18.6   \n",
       "\n",
       "     model year  origin                   car name  \n",
       "0            70     1.0  chevrolet chevelle malibu  \n",
       "1            70     1.0          buick skylark 320  \n",
       "2            70     1.0         plymouth satellite  \n",
       "3            70     1.0              amc rebel sst  \n",
       "4            70     1.0                ford torino  \n",
       "..          ...     ...                        ...  \n",
       "399          82     1.0              dodge rampage  \n",
       "400          82     NaN                        NaN  \n",
       "401          82     1.0                chevy s-104  \n",
       "402          82     1.0              dodge rampage  \n",
       "403          82     1.0                ford ranger  \n",
       "\n",
       "[404 rows x 9 columns]"
      ]
     },
     "execution_count": 104,
     "metadata": {},
     "output_type": "execute_result"
    }
   ],
   "source": [
    "# 데이터 로딩\n",
    "mpgDF = pd.read_csv(MPG_FILE)\n",
    "mpgDF"
   ]
  },
  {
   "cell_type": "code",
   "execution_count": 105,
   "metadata": {},
   "outputs": [
    {
     "name": "stdout",
     "output_type": "stream",
     "text": [
      "<class 'pandas.core.frame.DataFrame'>\n",
      "RangeIndex: 404 entries, 0 to 403\n",
      "Data columns (total 9 columns):\n",
      " #   Column        Non-Null Count  Dtype  \n",
      "---  ------        --------------  -----  \n",
      " 0   mpg           403 non-null    float64\n",
      " 1   cylinders     400 non-null    float64\n",
      " 2   displacement  403 non-null    float64\n",
      " 3   horsepower    402 non-null    object \n",
      " 4   weight        403 non-null    float64\n",
      " 5   acceleration  403 non-null    float64\n",
      " 6   model year    404 non-null    int64  \n",
      " 7   origin        403 non-null    float64\n",
      " 8   car name      403 non-null    object \n",
      "dtypes: float64(6), int64(1), object(2)\n",
      "memory usage: 28.5+ KB\n"
     ]
    }
   ],
   "source": [
    "# 데이터 확인\n",
    "# - 요약 정보 확인\n",
    "# (1) 데이터 와 타입 불일치 => horsepower 컬럼 onject => 130,....\n",
    "# (2) 데이터 실제 의미와 타입 => cylinders, origin => 범주형 \n",
    "# (3) 데이터 범위 변환 ==> 연속형 데이터 ---> 범주형 데이터 \n",
    "mpgDF.info()\n"
   ]
  },
  {
   "cell_type": "code",
   "execution_count": 106,
   "metadata": {},
   "outputs": [
    {
     "data": {
      "text/html": [
       "<div>\n",
       "<style scoped>\n",
       "    .dataframe tbody tr th:only-of-type {\n",
       "        vertical-align: middle;\n",
       "    }\n",
       "\n",
       "    .dataframe tbody tr th {\n",
       "        vertical-align: top;\n",
       "    }\n",
       "\n",
       "    .dataframe thead th {\n",
       "        text-align: right;\n",
       "    }\n",
       "</style>\n",
       "<table border=\"1\" class=\"dataframe\">\n",
       "  <thead>\n",
       "    <tr style=\"text-align: right;\">\n",
       "      <th></th>\n",
       "      <th>mpg</th>\n",
       "      <th>cylinders</th>\n",
       "      <th>displacement</th>\n",
       "      <th>weight</th>\n",
       "      <th>acceleration</th>\n",
       "      <th>model year</th>\n",
       "      <th>origin</th>\n",
       "    </tr>\n",
       "  </thead>\n",
       "  <tbody>\n",
       "    <tr>\n",
       "      <th>count</th>\n",
       "      <td>403.000000</td>\n",
       "      <td>400.000000</td>\n",
       "      <td>403.000000</td>\n",
       "      <td>403.000000</td>\n",
       "      <td>403.000000</td>\n",
       "      <td>404.000000</td>\n",
       "      <td>403.000000</td>\n",
       "    </tr>\n",
       "    <tr>\n",
       "      <th>mean</th>\n",
       "      <td>23.637221</td>\n",
       "      <td>5.447500</td>\n",
       "      <td>192.529777</td>\n",
       "      <td>2964.327543</td>\n",
       "      <td>15.585856</td>\n",
       "      <td>76.099010</td>\n",
       "      <td>1.568238</td>\n",
       "    </tr>\n",
       "    <tr>\n",
       "      <th>std</th>\n",
       "      <td>7.868054</td>\n",
       "      <td>1.699843</td>\n",
       "      <td>103.939745</td>\n",
       "      <td>843.697519</td>\n",
       "      <td>2.799453</td>\n",
       "      <td>3.741007</td>\n",
       "      <td>0.799368</td>\n",
       "    </tr>\n",
       "    <tr>\n",
       "      <th>min</th>\n",
       "      <td>9.000000</td>\n",
       "      <td>3.000000</td>\n",
       "      <td>68.000000</td>\n",
       "      <td>1613.000000</td>\n",
       "      <td>8.000000</td>\n",
       "      <td>70.000000</td>\n",
       "      <td>1.000000</td>\n",
       "    </tr>\n",
       "    <tr>\n",
       "      <th>25%</th>\n",
       "      <td>17.500000</td>\n",
       "      <td>4.000000</td>\n",
       "      <td>104.500000</td>\n",
       "      <td>2224.500000</td>\n",
       "      <td>13.800000</td>\n",
       "      <td>73.000000</td>\n",
       "      <td>1.000000</td>\n",
       "    </tr>\n",
       "    <tr>\n",
       "      <th>50%</th>\n",
       "      <td>23.000000</td>\n",
       "      <td>4.000000</td>\n",
       "      <td>146.000000</td>\n",
       "      <td>2790.000000</td>\n",
       "      <td>15.500000</td>\n",
       "      <td>76.000000</td>\n",
       "      <td>1.000000</td>\n",
       "    </tr>\n",
       "    <tr>\n",
       "      <th>75%</th>\n",
       "      <td>29.250000</td>\n",
       "      <td>8.000000</td>\n",
       "      <td>261.000000</td>\n",
       "      <td>3589.500000</td>\n",
       "      <td>17.250000</td>\n",
       "      <td>79.000000</td>\n",
       "      <td>2.000000</td>\n",
       "    </tr>\n",
       "    <tr>\n",
       "      <th>max</th>\n",
       "      <td>46.600000</td>\n",
       "      <td>8.000000</td>\n",
       "      <td>455.000000</td>\n",
       "      <td>5140.000000</td>\n",
       "      <td>24.800000</td>\n",
       "      <td>82.000000</td>\n",
       "      <td>3.000000</td>\n",
       "    </tr>\n",
       "  </tbody>\n",
       "</table>\n",
       "</div>"
      ],
      "text/plain": [
       "              mpg   cylinders  displacement       weight  acceleration  \\\n",
       "count  403.000000  400.000000    403.000000   403.000000    403.000000   \n",
       "mean    23.637221    5.447500    192.529777  2964.327543     15.585856   \n",
       "std      7.868054    1.699843    103.939745   843.697519      2.799453   \n",
       "min      9.000000    3.000000     68.000000  1613.000000      8.000000   \n",
       "25%     17.500000    4.000000    104.500000  2224.500000     13.800000   \n",
       "50%     23.000000    4.000000    146.000000  2790.000000     15.500000   \n",
       "75%     29.250000    8.000000    261.000000  3589.500000     17.250000   \n",
       "max     46.600000    8.000000    455.000000  5140.000000     24.800000   \n",
       "\n",
       "       model year      origin  \n",
       "count  404.000000  403.000000  \n",
       "mean    76.099010    1.568238  \n",
       "std      3.741007    0.799368  \n",
       "min     70.000000    1.000000  \n",
       "25%     73.000000    1.000000  \n",
       "50%     76.000000    1.000000  \n",
       "75%     79.000000    2.000000  \n",
       "max     82.000000    3.000000  "
      ]
     },
     "execution_count": 106,
     "metadata": {},
     "output_type": "execute_result"
    }
   ],
   "source": [
    "mpgDF.describe()"
   ]
  },
  {
   "cell_type": "code",
   "execution_count": 107,
   "metadata": {},
   "outputs": [
    {
     "name": "stdout",
     "output_type": "stream",
     "text": [
      "'cylinders' 고유값 => , 5\n"
     ]
    },
    {
     "data": {
      "text/plain": [
       "cylinders\n",
       "4.0    206\n",
       "8.0    103\n",
       "6.0     84\n",
       "3.0      4\n",
       "5.0      3\n",
       "Name: count, dtype: int64"
      ]
     },
     "execution_count": 107,
     "metadata": {},
     "output_type": "execute_result"
    }
   ],
   "source": [
    "# - 컬럼의 값의 종류 데이터 수\n",
    "\n",
    "print(f\"'cylinders' 고유값 => , {mpgDF['cylinders'].nunique()}\")\n",
    "mpgDF['cylinders'].value_counts()"
   ]
  },
  {
   "cell_type": "code",
   "execution_count": 108,
   "metadata": {},
   "outputs": [
    {
     "name": "stdout",
     "output_type": "stream",
     "text": [
      "'origin' 고유값 => , 3\n"
     ]
    },
    {
     "data": {
      "text/plain": [
       "origin\n",
       "1.0    253\n",
       "3.0     79\n",
       "2.0     71\n",
       "Name: count, dtype: int64"
      ]
     },
     "execution_count": 108,
     "metadata": {},
     "output_type": "execute_result"
    }
   ],
   "source": [
    "print(f\"'origin' 고유값 => , {mpgDF['origin'].nunique()}\")\n",
    "mpgDF['origin'].value_counts()"
   ]
  },
  {
   "cell_type": "code",
   "execution_count": 109,
   "metadata": {},
   "outputs": [
    {
     "data": {
      "text/plain": [
       "mpg             1\n",
       "cylinders       4\n",
       "displacement    1\n",
       "horsepower      2\n",
       "weight          1\n",
       "acceleration    1\n",
       "model year      0\n",
       "origin          1\n",
       "car name        1\n",
       "dtype: int64"
      ]
     },
     "execution_count": 109,
     "metadata": {},
     "output_type": "execute_result"
    }
   ],
   "source": [
    "# -- 결측치 체크 : 컬럼별 요소/원소 빈칸인 데이터 존재여부\n",
    "# -- isna()/ isnull() ==> 결과 True/False\n",
    "\n",
    "mpgDF.isna().sum()\n"
   ]
  },
  {
   "cell_type": "code",
   "execution_count": 110,
   "metadata": {},
   "outputs": [
    {
     "data": {
      "text/plain": [
       "mpg             0\n",
       "cylinders       0\n",
       "displacement    0\n",
       "horsepower      0\n",
       "weight          0\n",
       "acceleration    0\n",
       "model year      0\n",
       "origin          0\n",
       "car name        0\n",
       "dtype: int64"
      ]
     },
     "execution_count": 110,
     "metadata": {},
     "output_type": "execute_result"
    }
   ],
   "source": [
    "# -결측치 처리 방법 (1) 결측치가 존재하는 행 삭제\n",
    "# - 행에 한 개의 컬럼 값이라도 nan 이면 삭제\n",
    "mpgDF2 = mpgDF.dropna()\n",
    "mpgDF2.isna().sum()"
   ]
  },
  {
   "cell_type": "code",
   "execution_count": 111,
   "metadata": {},
   "outputs": [
    {
     "data": {
      "text/plain": [
       "mpg             1\n",
       "cylinders       4\n",
       "displacement    1\n",
       "horsepower      2\n",
       "weight          1\n",
       "acceleration    1\n",
       "model year      0\n",
       "origin          1\n",
       "car name        1\n",
       "dtype: int64"
      ]
     },
     "execution_count": 111,
     "metadata": {},
     "output_type": "execute_result"
    }
   ],
   "source": [
    "# - 행에 구성하는 모든 컬럼 값이 nan 이면 삭제\n",
    "mpgDF2 = mpgDF.dropna(how='all')\n",
    "mpgDF2.isna().sum()"
   ]
  },
  {
   "cell_type": "code",
   "execution_count": 112,
   "metadata": {},
   "outputs": [
    {
     "data": {
      "text/plain": [
       "mpg             1\n",
       "cylinders       0\n",
       "displacement    1\n",
       "horsepower      0\n",
       "weight          0\n",
       "acceleration    1\n",
       "model year      0\n",
       "origin          0\n",
       "car name        0\n",
       "dtype: int64"
      ]
     },
     "execution_count": 112,
     "metadata": {},
     "output_type": "execute_result"
    }
   ],
   "source": [
    "# - 특정 컬럼이 nan인 행을 삭제\n",
    "mpgDF2 = mpgDF.dropna(subset=['origin','cylinders'])\n",
    "mpgDF2.isna().sum()"
   ]
  },
  {
   "cell_type": "code",
   "execution_count": 113,
   "metadata": {},
   "outputs": [
    {
     "name": "stdout",
     "output_type": "stream",
     "text": [
      "(404, 9)\n"
     ]
    },
    {
     "data": {
      "text/plain": [
       "mpg             1\n",
       "displacement    1\n",
       "weight          1\n",
       "acceleration    1\n",
       "model year      0\n",
       "origin          1\n",
       "car name        1\n",
       "dtype: int64"
      ]
     },
     "execution_count": 113,
     "metadata": {},
     "output_type": "execute_result"
    }
   ],
   "source": [
    "# -정상 데이터가 지정값 이하 이면 해당 행을 삭제\n",
    "\n",
    "mpgDF2 = mpgDF.dropna(thresh=405)\n",
    "mpgDF2.isna().sum()\n",
    "\n",
    "# -정상 데이터가 지정값 이하 이면 해당 컬럼 을 삭제\n",
    "# -결측치가 많은 컬럼 제거에 사용\n",
    "mpgDF2 = mpgDF.dropna(thresh=403, axis=1)\n",
    "print(mpgDF.shape)\n",
    "mpgDF2.isna().sum()\n",
    " "
   ]
  },
  {
   "cell_type": "code",
   "execution_count": 114,
   "metadata": {},
   "outputs": [
    {
     "name": "stdout",
     "output_type": "stream",
     "text": [
      "mpg              True\n",
      "cylinders        True\n",
      "displacement     True\n",
      "horsepower       True\n",
      "weight           True\n",
      "acceleration     True\n",
      "model year      False\n",
      "origin           True\n",
      "car name         True\n",
      "dtype: bool\n",
      "\n",
      "mpg             1\n",
      "cylinders       4\n",
      "displacement    1\n",
      "horsepower      2\n",
      "weight          1\n",
      "acceleration    1\n",
      "origin          1\n",
      "car name        1\n",
      "dtype: int64\n"
     ]
    }
   ],
   "source": [
    "## -결측치 처리 방법 (2)결측치 값 대체 방법\n",
    "\n",
    "missingSR = mpgDF.isna().sum()\n",
    "# -True/False 로 구성된 Series => True에 해당하는 값/행 추출\n",
    "# -불린인덱스\n",
    "boolIDX=missingSR > 0\n",
    "print(boolIDX, end=\"\\n\\n\")\n",
    "print(missingSR[boolIDX])"
   ]
  },
  {
   "cell_type": "code",
   "execution_count": 115,
   "metadata": {},
   "outputs": [],
   "source": [
    "# 결측치가 존재하는 컬럼명 추출\n",
    "columns =missingSR[ boolIDX ].index\n"
   ]
  },
  {
   "cell_type": "code",
   "execution_count": 116,
   "metadata": {},
   "outputs": [
    {
     "data": {
      "text/plain": [
       "0      130\n",
       "1      165\n",
       "2      150\n",
       "3      150\n",
       "4      140\n",
       "      ... \n",
       "399     84\n",
       "400    150\n",
       "401     82\n",
       "402    150\n",
       "403     79\n",
       "Name: horsepower, Length: 404, dtype: object"
      ]
     },
     "execution_count": 116,
     "metadata": {},
     "output_type": "execute_result"
    }
   ],
   "source": [
    "# for col_name in columns:\n",
    "#     print(col_name,mpgDF[col_name].mean())\n",
    "\n",
    "# 숫자 데이터 컬럼의 경우\n",
    "mpgDF['cylinders'].fillna( mpgDF['cylinders'].mean())\n",
    "mpgDF['origin'].fillna( mpgDF['origin'].mean())\n",
    "mpgDF['weight'].fillna( mpgDF['weight'].mean())\n",
    "\n",
    "# 글자 데이터 컬럼의 경우\n",
    "mpgDF['horsepower'].fillna( mpgDF['horsepower'].mode()[0])\n",
    "\n"
   ]
  },
  {
   "cell_type": "code",
   "execution_count": 118,
   "metadata": {},
   "outputs": [],
   "source": [
    "# object ==> int 형변환 : astype(타입명) : 'int' , 'float', 'category' , 'object'\n",
    "# mpgDF['horsepower'].astype('int')\n",
    "# print(mpgDF['horsepower'].nunique())\n",
    "# mpgDF['horsepower'].replace('?', np.nan).dropna()\n",
    "\n",
    "df =mpgDF['horsepower'].replace('?',np.nan).dropna()\n",
    "mpgDF['horsepower']=df.astype('int') "
   ]
  },
  {
   "cell_type": "code",
   "execution_count": null,
   "metadata": {},
   "outputs": [],
   "source": []
  }
 ],
 "metadata": {
  "kernelspec": {
   "display_name": "PY39",
   "language": "python",
   "name": "python3"
  },
  "language_info": {
   "codemirror_mode": {
    "name": "ipython",
    "version": 3
   },
   "file_extension": ".py",
   "mimetype": "text/x-python",
   "name": "python",
   "nbconvert_exporter": "python",
   "pygments_lexer": "ipython3",
   "version": "3.9.21"
  }
 },
 "nbformat": 4,
 "nbformat_minor": 2
}
