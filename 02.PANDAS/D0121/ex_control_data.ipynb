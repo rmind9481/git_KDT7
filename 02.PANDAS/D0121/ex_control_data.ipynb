{
 "cells": [
  {
   "cell_type": "markdown",
   "metadata": {},
   "source": [
    "[DataFrame에서 데이터 다루기]"
   ]
  },
  {
   "cell_type": "markdown",
   "metadata": {},
   "source": [
    "[1] 모듈 로딩 및 데이터 준비 <hr>"
   ]
  },
  {
   "cell_type": "code",
   "execution_count": 129,
   "metadata": {},
   "outputs": [],
   "source": [
    "# [1-1]모듈 로딩\n",
    "import pandas as pd     # 데이터 분석 및 전처리 관련 모듈\n",
    "import numpy as np      # NaN/NAN/nan 즉, 빈칸 표시 관련 모듈 \n",
    "                        # 배열(array)를 파이썬 구현한 모듈\n"
   ]
  },
  {
   "cell_type": "code",
   "execution_count": 130,
   "metadata": {},
   "outputs": [],
   "source": [
    "# [1-2] 데이터 준비\n",
    "DATA_FILE = '../DATA/member3.csv'\n"
   ]
  },
  {
   "cell_type": "code",
   "execution_count": 131,
   "metadata": {},
   "outputs": [
    {
     "data": {
      "text/html": [
       "<div>\n",
       "<style scoped>\n",
       "    .dataframe tbody tr th:only-of-type {\n",
       "        vertical-align: middle;\n",
       "    }\n",
       "\n",
       "    .dataframe tbody tr th {\n",
       "        vertical-align: top;\n",
       "    }\n",
       "\n",
       "    .dataframe thead th {\n",
       "        text-align: right;\n",
       "    }\n",
       "</style>\n",
       "<table border=\"1\" class=\"dataframe\">\n",
       "  <thead>\n",
       "    <tr style=\"text-align: right;\">\n",
       "      <th></th>\n",
       "      <th>번호</th>\n",
       "      <th>나이</th>\n",
       "      <th>지역</th>\n",
       "    </tr>\n",
       "    <tr>\n",
       "      <th>이름</th>\n",
       "      <th></th>\n",
       "      <th></th>\n",
       "      <th></th>\n",
       "    </tr>\n",
       "  </thead>\n",
       "  <tbody>\n",
       "    <tr>\n",
       "      <th>홍길동</th>\n",
       "      <td>1</td>\n",
       "      <td>20.0</td>\n",
       "      <td>대구</td>\n",
       "    </tr>\n",
       "    <tr>\n",
       "      <th>이나영</th>\n",
       "      <td>2</td>\n",
       "      <td>12.0</td>\n",
       "      <td>서울</td>\n",
       "    </tr>\n",
       "    <tr>\n",
       "      <th>최희진</th>\n",
       "      <td>3</td>\n",
       "      <td>NaN</td>\n",
       "      <td>마산</td>\n",
       "    </tr>\n",
       "    <tr>\n",
       "      <th>마징가</th>\n",
       "      <td>4</td>\n",
       "      <td>31.0</td>\n",
       "      <td>부산</td>\n",
       "    </tr>\n",
       "    <tr>\n",
       "      <th>장원영</th>\n",
       "      <td>5</td>\n",
       "      <td>17.0</td>\n",
       "      <td>대구</td>\n",
       "    </tr>\n",
       "    <tr>\n",
       "      <th>김나나</th>\n",
       "      <td>6</td>\n",
       "      <td>25.0</td>\n",
       "      <td>서울</td>\n",
       "    </tr>\n",
       "    <tr>\n",
       "      <th>박서희</th>\n",
       "      <td>7</td>\n",
       "      <td>33.0</td>\n",
       "      <td>NaN</td>\n",
       "    </tr>\n",
       "    <tr>\n",
       "      <th>베트맨</th>\n",
       "      <td>8</td>\n",
       "      <td>30.0</td>\n",
       "      <td>미국</td>\n",
       "    </tr>\n",
       "    <tr>\n",
       "      <th>스파이더맨</th>\n",
       "      <td>9</td>\n",
       "      <td>NaN</td>\n",
       "      <td>서울</td>\n",
       "    </tr>\n",
       "    <tr>\n",
       "      <th>원더우먼</th>\n",
       "      <td>10</td>\n",
       "      <td>33.0</td>\n",
       "      <td>포항</td>\n",
       "    </tr>\n",
       "  </tbody>\n",
       "</table>\n",
       "</div>"
      ],
      "text/plain": [
       "       번호    나이   지역\n",
       "이름                  \n",
       "홍길동     1  20.0   대구\n",
       "이나영     2  12.0   서울\n",
       "최희진     3   NaN   마산\n",
       "마징가     4  31.0   부산\n",
       "장원영     5  17.0   대구\n",
       "김나나     6  25.0   서울\n",
       "박서희     7  33.0  NaN\n",
       "베트맨     8  30.0   미국\n",
       "스파이더맨   9   NaN   서울\n",
       "원더우먼   10  33.0   포항"
      ]
     },
     "execution_count": 131,
     "metadata": {},
     "output_type": "execute_result"
    }
   ],
   "source": [
    "# [2-1] CSV_FILE => DataFrame 로딩 \n",
    "\n",
    "memberDF  = pd.read_csv(DATA_FILE,\n",
    "                        sep=\";\", \n",
    "                        header=None, \n",
    "                        names= ['번호','이름','나이','지역'],\n",
    "                        index_col=1)\n",
    "\n",
    "memberDF"
   ]
  },
  {
   "cell_type": "code",
   "execution_count": 132,
   "metadata": {},
   "outputs": [
    {
     "name": "stdout",
     "output_type": "stream",
     "text": [
      "<class 'pandas.core.frame.DataFrame'>\n",
      "Index: 10 entries, 홍길동 to 원더우먼\n",
      "Data columns (total 3 columns):\n",
      " #   Column  Non-Null Count  Dtype  \n",
      "---  ------  --------------  -----  \n",
      " 0   번호      10 non-null     int64  \n",
      " 1   나이      8 non-null      float64\n",
      " 2   지역      9 non-null      object \n",
      "dtypes: float64(1), int64(1), object(1)\n",
      "memory usage: 320.0+ bytes\n"
     ]
    }
   ],
   "source": [
    "# [2-2] 데이터확인\n",
    "memberDF.info()"
   ]
  },
  {
   "cell_type": "code",
   "execution_count": 133,
   "metadata": {},
   "outputs": [
    {
     "data": {
      "text/html": [
       "<div>\n",
       "<style scoped>\n",
       "    .dataframe tbody tr th:only-of-type {\n",
       "        vertical-align: middle;\n",
       "    }\n",
       "\n",
       "    .dataframe tbody tr th {\n",
       "        vertical-align: top;\n",
       "    }\n",
       "\n",
       "    .dataframe thead th {\n",
       "        text-align: right;\n",
       "    }\n",
       "</style>\n",
       "<table border=\"1\" class=\"dataframe\">\n",
       "  <thead>\n",
       "    <tr style=\"text-align: right;\">\n",
       "      <th></th>\n",
       "      <th>번호</th>\n",
       "      <th>나이</th>\n",
       "      <th>지역</th>\n",
       "    </tr>\n",
       "  </thead>\n",
       "  <tbody>\n",
       "    <tr>\n",
       "      <th>count</th>\n",
       "      <td>10.00000</td>\n",
       "      <td>8.000000</td>\n",
       "      <td>9</td>\n",
       "    </tr>\n",
       "    <tr>\n",
       "      <th>unique</th>\n",
       "      <td>NaN</td>\n",
       "      <td>NaN</td>\n",
       "      <td>6</td>\n",
       "    </tr>\n",
       "    <tr>\n",
       "      <th>top</th>\n",
       "      <td>NaN</td>\n",
       "      <td>NaN</td>\n",
       "      <td>서울</td>\n",
       "    </tr>\n",
       "    <tr>\n",
       "      <th>freq</th>\n",
       "      <td>NaN</td>\n",
       "      <td>NaN</td>\n",
       "      <td>3</td>\n",
       "    </tr>\n",
       "    <tr>\n",
       "      <th>mean</th>\n",
       "      <td>5.50000</td>\n",
       "      <td>25.125000</td>\n",
       "      <td>NaN</td>\n",
       "    </tr>\n",
       "    <tr>\n",
       "      <th>std</th>\n",
       "      <td>3.02765</td>\n",
       "      <td>7.989949</td>\n",
       "      <td>NaN</td>\n",
       "    </tr>\n",
       "    <tr>\n",
       "      <th>min</th>\n",
       "      <td>1.00000</td>\n",
       "      <td>12.000000</td>\n",
       "      <td>NaN</td>\n",
       "    </tr>\n",
       "    <tr>\n",
       "      <th>25%</th>\n",
       "      <td>3.25000</td>\n",
       "      <td>19.250000</td>\n",
       "      <td>NaN</td>\n",
       "    </tr>\n",
       "    <tr>\n",
       "      <th>50%</th>\n",
       "      <td>5.50000</td>\n",
       "      <td>27.500000</td>\n",
       "      <td>NaN</td>\n",
       "    </tr>\n",
       "    <tr>\n",
       "      <th>75%</th>\n",
       "      <td>7.75000</td>\n",
       "      <td>31.500000</td>\n",
       "      <td>NaN</td>\n",
       "    </tr>\n",
       "    <tr>\n",
       "      <th>max</th>\n",
       "      <td>10.00000</td>\n",
       "      <td>33.000000</td>\n",
       "      <td>NaN</td>\n",
       "    </tr>\n",
       "  </tbody>\n",
       "</table>\n",
       "</div>"
      ],
      "text/plain": [
       "              번호         나이   지역\n",
       "count   10.00000   8.000000    9\n",
       "unique       NaN        NaN    6\n",
       "top          NaN        NaN   서울\n",
       "freq         NaN        NaN    3\n",
       "mean     5.50000  25.125000  NaN\n",
       "std      3.02765   7.989949  NaN\n",
       "min      1.00000  12.000000  NaN\n",
       "25%      3.25000  19.250000  NaN\n",
       "50%      5.50000  27.500000  NaN\n",
       "75%      7.75000  31.500000  NaN\n",
       "max     10.00000  33.000000  NaN"
      ]
     },
     "execution_count": 133,
     "metadata": {},
     "output_type": "execute_result"
    }
   ],
   "source": [
    "memberDF.describe(include='all')"
   ]
  },
  {
   "cell_type": "markdown",
   "metadata": {},
   "source": [
    "[3] 데이터 다루기 <hr>"
   ]
  },
  {
   "cell_type": "code",
   "execution_count": 134,
   "metadata": {},
   "outputs": [
    {
     "data": {
      "text/html": [
       "<div>\n",
       "<style scoped>\n",
       "    .dataframe tbody tr th:only-of-type {\n",
       "        vertical-align: middle;\n",
       "    }\n",
       "\n",
       "    .dataframe tbody tr th {\n",
       "        vertical-align: top;\n",
       "    }\n",
       "\n",
       "    .dataframe thead th {\n",
       "        text-align: right;\n",
       "    }\n",
       "</style>\n",
       "<table border=\"1\" class=\"dataframe\">\n",
       "  <thead>\n",
       "    <tr style=\"text-align: right;\">\n",
       "      <th></th>\n",
       "      <th>번호</th>\n",
       "      <th>나이</th>\n",
       "      <th>지역</th>\n",
       "    </tr>\n",
       "    <tr>\n",
       "      <th>이름</th>\n",
       "      <th></th>\n",
       "      <th></th>\n",
       "      <th></th>\n",
       "    </tr>\n",
       "  </thead>\n",
       "  <tbody>\n",
       "    <tr>\n",
       "      <th>홍길동</th>\n",
       "      <td>1</td>\n",
       "      <td>20.0</td>\n",
       "      <td>대구</td>\n",
       "    </tr>\n",
       "    <tr>\n",
       "      <th>이나영</th>\n",
       "      <td>2</td>\n",
       "      <td>12.0</td>\n",
       "      <td>서울</td>\n",
       "    </tr>\n",
       "    <tr>\n",
       "      <th>최희진</th>\n",
       "      <td>3</td>\n",
       "      <td>NaN</td>\n",
       "      <td>마산</td>\n",
       "    </tr>\n",
       "    <tr>\n",
       "      <th>마징가</th>\n",
       "      <td>4</td>\n",
       "      <td>31.0</td>\n",
       "      <td>부산</td>\n",
       "    </tr>\n",
       "    <tr>\n",
       "      <th>장원영</th>\n",
       "      <td>5</td>\n",
       "      <td>17.0</td>\n",
       "      <td>대구</td>\n",
       "    </tr>\n",
       "    <tr>\n",
       "      <th>김나나</th>\n",
       "      <td>6</td>\n",
       "      <td>25.0</td>\n",
       "      <td>서울</td>\n",
       "    </tr>\n",
       "    <tr>\n",
       "      <th>박서희</th>\n",
       "      <td>7</td>\n",
       "      <td>33.0</td>\n",
       "      <td>NaN</td>\n",
       "    </tr>\n",
       "    <tr>\n",
       "      <th>베트맨</th>\n",
       "      <td>8</td>\n",
       "      <td>30.0</td>\n",
       "      <td>미국</td>\n",
       "    </tr>\n",
       "    <tr>\n",
       "      <th>스파이더맨</th>\n",
       "      <td>9</td>\n",
       "      <td>NaN</td>\n",
       "      <td>서울</td>\n",
       "    </tr>\n",
       "    <tr>\n",
       "      <th>원더우먼</th>\n",
       "      <td>10</td>\n",
       "      <td>33.0</td>\n",
       "      <td>포항</td>\n",
       "    </tr>\n",
       "  </tbody>\n",
       "</table>\n",
       "</div>"
      ],
      "text/plain": [
       "       번호    나이   지역\n",
       "이름                  \n",
       "홍길동     1  20.0   대구\n",
       "이나영     2  12.0   서울\n",
       "최희진     3   NaN   마산\n",
       "마징가     4  31.0   부산\n",
       "장원영     5  17.0   대구\n",
       "김나나     6  25.0   서울\n",
       "박서희     7  33.0  NaN\n",
       "베트맨     8  30.0   미국\n",
       "스파이더맨   9   NaN   서울\n",
       "원더우먼   10  33.0   포항"
      ]
     },
     "execution_count": 134,
     "metadata": {},
     "output_type": "execute_result"
    }
   ],
   "source": [
    "# 현재 데이터\n",
    "\n",
    "memberDF "
   ]
  },
  {
   "cell_type": "code",
   "execution_count": 135,
   "metadata": {},
   "outputs": [
    {
     "name": "stdout",
     "output_type": "stream",
     "text": [
      "이름\n",
      "홍길동      3\n",
      "이나영      3\n",
      "최희진      2\n",
      "마징가      3\n",
      "장원영      3\n",
      "김나나      3\n",
      "박서희      2\n",
      "베트맨      3\n",
      "스파이더맨    2\n",
      "원더우먼     3\n",
      "dtype: int64\n",
      "번호    10\n",
      "나이     8\n",
      "지역     9\n",
      "dtype: int64\n"
     ]
    }
   ],
   "source": [
    "# 컬럼별/행별 데이터/ 값 개수\n",
    "print(memberDF.count(axis=1))\n",
    "print(memberDF.count(axis=0))"
   ]
  },
  {
   "cell_type": "code",
   "execution_count": 136,
   "metadata": {},
   "outputs": [
    {
     "name": "stdout",
     "output_type": "stream",
     "text": [
      "번호번호 컬럼 : [ 1  2  3  4  5  6  7  8  9 10]\n",
      "고유값 데이터 갯수 :번호\n",
      "1     1\n",
      "2     1\n",
      "3     1\n",
      "4     1\n",
      "5     1\n",
      "6     1\n",
      "7     1\n",
      "8     1\n",
      "9     1\n",
      "10    1\n",
      "Name: count, dtype: int64\n",
      "나이번호 컬럼 : [20. 12. nan 31. 17. 25. 33. 30.]\n",
      "고유값 데이터 갯수 :나이\n",
      "NaN     2\n",
      "33.0    2\n",
      "12.0    1\n",
      "20.0    1\n",
      "31.0    1\n",
      "17.0    1\n",
      "25.0    1\n",
      "30.0    1\n",
      "Name: count, dtype: int64\n",
      "지역번호 컬럼 : ['대구' '서울' '마산' '부산' nan '미국' '포항']\n",
      "고유값 데이터 갯수 :지역\n",
      "서울     3\n",
      "대구     2\n",
      "마산     1\n",
      "부산     1\n",
      "NaN    1\n",
      "미국     1\n",
      "포항     1\n",
      "Name: count, dtype: int64\n"
     ]
    }
   ],
   "source": [
    "# 고유값 & 고유값별 데이터 갯수\n",
    "for col in memberDF.columns:\n",
    "    print(f\"{col}번호 컬럼 : {memberDF[col].unique()}\")\n",
    "    print(f\"고유값 데이터 갯수 :{memberDF[col].value_counts(dropna=False)}\")"
   ]
  },
  {
   "cell_type": "code",
   "execution_count": 137,
   "metadata": {},
   "outputs": [
    {
     "data": {
      "text/html": [
       "<div>\n",
       "<style scoped>\n",
       "    .dataframe tbody tr th:only-of-type {\n",
       "        vertical-align: middle;\n",
       "    }\n",
       "\n",
       "    .dataframe tbody tr th {\n",
       "        vertical-align: top;\n",
       "    }\n",
       "\n",
       "    .dataframe thead th {\n",
       "        text-align: right;\n",
       "    }\n",
       "</style>\n",
       "<table border=\"1\" class=\"dataframe\">\n",
       "  <thead>\n",
       "    <tr style=\"text-align: right;\">\n",
       "      <th></th>\n",
       "      <th>번호</th>\n",
       "      <th>나이</th>\n",
       "    </tr>\n",
       "  </thead>\n",
       "  <tbody>\n",
       "    <tr>\n",
       "      <th>count</th>\n",
       "      <td>10.00000</td>\n",
       "      <td>8.000000</td>\n",
       "    </tr>\n",
       "    <tr>\n",
       "      <th>mean</th>\n",
       "      <td>5.50000</td>\n",
       "      <td>25.125000</td>\n",
       "    </tr>\n",
       "    <tr>\n",
       "      <th>std</th>\n",
       "      <td>3.02765</td>\n",
       "      <td>7.989949</td>\n",
       "    </tr>\n",
       "    <tr>\n",
       "      <th>min</th>\n",
       "      <td>1.00000</td>\n",
       "      <td>12.000000</td>\n",
       "    </tr>\n",
       "    <tr>\n",
       "      <th>25%</th>\n",
       "      <td>3.25000</td>\n",
       "      <td>19.250000</td>\n",
       "    </tr>\n",
       "    <tr>\n",
       "      <th>50%</th>\n",
       "      <td>5.50000</td>\n",
       "      <td>27.500000</td>\n",
       "    </tr>\n",
       "    <tr>\n",
       "      <th>75%</th>\n",
       "      <td>7.75000</td>\n",
       "      <td>31.500000</td>\n",
       "    </tr>\n",
       "    <tr>\n",
       "      <th>max</th>\n",
       "      <td>10.00000</td>\n",
       "      <td>33.000000</td>\n",
       "    </tr>\n",
       "  </tbody>\n",
       "</table>\n",
       "</div>"
      ],
      "text/plain": [
       "             번호         나이\n",
       "count  10.00000   8.000000\n",
       "mean    5.50000  25.125000\n",
       "std     3.02765   7.989949\n",
       "min     1.00000  12.000000\n",
       "25%     3.25000  19.250000\n",
       "50%     5.50000  27.500000\n",
       "75%     7.75000  31.500000\n",
       "max    10.00000  33.000000"
      ]
     },
     "execution_count": 137,
     "metadata": {},
     "output_type": "execute_result"
    }
   ],
   "source": [
    "memberDF.describe()"
   ]
  },
  {
   "cell_type": "code",
   "execution_count": 138,
   "metadata": {},
   "outputs": [
    {
     "data": {
      "text/plain": [
       "번호    5.5\n",
       "나이    NaN\n",
       "dtype: float64"
      ]
     },
     "execution_count": 138,
     "metadata": {},
     "output_type": "execute_result"
    }
   ],
   "source": [
    "## 다양한 통계치 계산 => 결측치는 제외하고 계산\n",
    "memberDF.mean(numeric_only=True, skipna= False)"
   ]
  },
  {
   "cell_type": "code",
   "execution_count": 139,
   "metadata": {},
   "outputs": [
    {
     "data": {
      "text/plain": [
       "np.float64(25.125)"
      ]
     },
     "execution_count": 139,
     "metadata": {},
     "output_type": "execute_result"
    }
   ],
   "source": [
    "memberDF['나이'].mean()"
   ]
  },
  {
   "cell_type": "code",
   "execution_count": 140,
   "metadata": {},
   "outputs": [
    {
     "name": "stdout",
     "output_type": "stream",
     "text": [
      "[번호] 컬럼 통계치\n",
      "평균 5.5\n",
      "최솟값 1\n",
      "최댓값 10\n",
      "표준편차 3.0276503540974917\n",
      "중앙값 5.5\n",
      "최빈값 0     1\n",
      "1     2\n",
      "2     3\n",
      "3     4\n",
      "4     5\n",
      "5     6\n",
      "6     7\n",
      "7     8\n",
      "8     9\n",
      "9    10\n",
      "Name: 번호, dtype: int64\n",
      "[나이] 컬럼 통계치\n",
      "평균 25.125\n",
      "최솟값 12.0\n",
      "최댓값 33.0\n",
      "표준편차 7.9899490432846765\n",
      "중앙값 27.5\n",
      "최빈값 0    33.0\n",
      "Name: 나이, dtype: float64\n"
     ]
    }
   ],
   "source": [
    "# 모든 컬럼별 통계치 계산 후 출력\n",
    "# object 타입의 컬럼 제외\n",
    "for col in memberDF.columns[:-1]:\n",
    "    print(f'[{col}] 컬럼 통계치')\n",
    "    print(f'평균 {memberDF[col].mean()}')\n",
    "    print(f'최솟값 {memberDF[col].min()}')\n",
    "    print(f'최댓값 {memberDF[col].max()}')\n",
    "    print(f'표준편차 {memberDF[col].std()}')\n",
    "    print(f'중앙값 {memberDF[col].median()}')\n",
    "    print(f'최빈값 {memberDF[col].mode()}')"
   ]
  },
  {
   "cell_type": "code",
   "execution_count": 141,
   "metadata": {},
   "outputs": [
    {
     "data": {
      "text/html": [
       "<div>\n",
       "<style scoped>\n",
       "    .dataframe tbody tr th:only-of-type {\n",
       "        vertical-align: middle;\n",
       "    }\n",
       "\n",
       "    .dataframe tbody tr th {\n",
       "        vertical-align: top;\n",
       "    }\n",
       "\n",
       "    .dataframe thead th {\n",
       "        text-align: right;\n",
       "    }\n",
       "</style>\n",
       "<table border=\"1\" class=\"dataframe\">\n",
       "  <thead>\n",
       "    <tr style=\"text-align: right;\">\n",
       "      <th></th>\n",
       "      <th>번호</th>\n",
       "      <th>나이</th>\n",
       "    </tr>\n",
       "  </thead>\n",
       "  <tbody>\n",
       "    <tr>\n",
       "      <th>번호</th>\n",
       "      <td>1.000000</td>\n",
       "      <td>0.731725</td>\n",
       "    </tr>\n",
       "    <tr>\n",
       "      <th>나이</th>\n",
       "      <td>0.731725</td>\n",
       "      <td>1.000000</td>\n",
       "    </tr>\n",
       "  </tbody>\n",
       "</table>\n",
       "</div>"
      ],
      "text/plain": [
       "          번호        나이\n",
       "번호  1.000000  0.731725\n",
       "나이  0.731725  1.000000"
      ]
     },
     "execution_count": 141,
     "metadata": {},
     "output_type": "execute_result"
    }
   ],
   "source": [
    "# 컬럼과 컬럼의 관계\n",
    "memberDF.corr(numeric_only=True)"
   ]
  },
  {
   "cell_type": "code",
   "execution_count": null,
   "metadata": {},
   "outputs": [],
   "source": []
  }
 ],
 "metadata": {
  "kernelspec": {
   "display_name": "PY39",
   "language": "python",
   "name": "python3"
  },
  "language_info": {
   "codemirror_mode": {
    "name": "ipython",
    "version": 3
   },
   "file_extension": ".py",
   "mimetype": "text/x-python",
   "name": "python",
   "nbconvert_exporter": "python",
   "pygments_lexer": "ipython3",
   "version": "3.9.21"
  }
 },
 "nbformat": 4,
 "nbformat_minor": 2
}
