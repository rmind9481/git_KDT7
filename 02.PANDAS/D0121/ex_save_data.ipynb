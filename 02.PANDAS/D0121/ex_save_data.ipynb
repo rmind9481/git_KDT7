{
 "cells": [
  {
   "cell_type": "markdown",
   "metadata": {},
   "source": [
    "[다양한 형식으로 데이터 저장]"
   ]
  },
  {
   "cell_type": "markdown",
   "metadata": {},
   "source": [
    "[1] 모듈로딩 및 데이터 준비 <hr>"
   ]
  },
  {
   "cell_type": "code",
   "execution_count": 30,
   "metadata": {},
   "outputs": [],
   "source": [
    "## [1-1] 모듈로딩 \n",
    "import pandas as pd     # 데이터 분석 및 전처리 관련 모듈\n",
    "import numpy as np      #NaN/NAN/nan 즉, 빈칸 표시 관련 모듈\n",
    "    "
   ]
  },
  {
   "cell_type": "code",
   "execution_count": 31,
   "metadata": {},
   "outputs": [],
   "source": [
    "#[1-2] 데이터 준비\n",
    "\n",
    "data = {'name': ['Raphael', 'Donatello'],\n",
    "                    'mask': ['red', 'purple'],\n",
    "                    'weapon': ['sai', 'bo staff']}\n",
    "# df.to_csv('out.csv', index=False)  "
   ]
  },
  {
   "cell_type": "markdown",
   "metadata": {},
   "source": [
    "[2] 데이터 생성 <hr>"
   ]
  },
  {
   "cell_type": "code",
   "execution_count": 32,
   "metadata": {},
   "outputs": [
    {
     "data": {
      "text/html": [
       "<div>\n",
       "<style scoped>\n",
       "    .dataframe tbody tr th:only-of-type {\n",
       "        vertical-align: middle;\n",
       "    }\n",
       "\n",
       "    .dataframe tbody tr th {\n",
       "        vertical-align: top;\n",
       "    }\n",
       "\n",
       "    .dataframe thead th {\n",
       "        text-align: right;\n",
       "    }\n",
       "</style>\n",
       "<table border=\"1\" class=\"dataframe\">\n",
       "  <thead>\n",
       "    <tr style=\"text-align: right;\">\n",
       "      <th></th>\n",
       "      <th>name</th>\n",
       "      <th>mask</th>\n",
       "      <th>weapon</th>\n",
       "    </tr>\n",
       "  </thead>\n",
       "  <tbody>\n",
       "    <tr>\n",
       "      <th>one</th>\n",
       "      <td>Raphael</td>\n",
       "      <td>red</td>\n",
       "      <td>sai</td>\n",
       "    </tr>\n",
       "    <tr>\n",
       "      <th>two</th>\n",
       "      <td>Donatello</td>\n",
       "      <td>purple</td>\n",
       "      <td>bo staff</td>\n",
       "    </tr>\n",
       "  </tbody>\n",
       "</table>\n",
       "</div>"
      ],
      "text/plain": [
       "          name    mask    weapon\n",
       "one    Raphael     red       sai\n",
       "two  Donatello  purple  bo staff"
      ]
     },
     "execution_count": 32,
     "metadata": {},
     "output_type": "execute_result"
    }
   ],
   "source": [
    "# DataFrame 으로 생성\n",
    "\n",
    "dataDF = pd.DataFrame(data, index=['one','two'])\n",
    "dataDF "
   ]
  },
  {
   "cell_type": "code",
   "execution_count": 33,
   "metadata": {},
   "outputs": [
    {
     "name": "stdout",
     "output_type": "stream",
     "text": [
      "<class 'pandas.core.series.Series'>\n"
     ]
    }
   ],
   "source": [
    "# - Series로 생성\n",
    "\n",
    "dataSR1 = pd.Series(['Raphael', 'Donatello'])\n",
    "dataSR1 \n",
    "\n",
    "dataSR2 = dataDF['mask']\n",
    "print(type(dataSR2))"
   ]
  },
  {
   "cell_type": "markdown",
   "metadata": {},
   "source": [
    "[3] 파일로 저장하기 <hr>"
   ]
  },
  {
   "cell_type": "code",
   "execution_count": 34,
   "metadata": {},
   "outputs": [],
   "source": [
    "# -CSV 파일로 저장\n",
    "# - 절대경로 :  C:\\~~~~ , D:\\~~~~   Window경우 드라이브 부터 전체 경로 \n",
    "# - 상대경로 : 현재 파일 기준 으로 경로 설정 \n",
    "#               . : 현재 위치           예) ./ 파일명\n",
    "#               ..: 현재 바로 위        예) ../ 파일명\n",
    "\n",
    "# \n",
    "FILE_CSV_R = './data1.csv'\n",
    "FILE_CSV_R2 = '../data2.csv'\n",
    "FILE_CSV_R3 = r'C:\\Users\\KDT17\\Desktop\\KDT_7\\02.PANDAS\\D0121\\data3.csv'"
   ]
  },
  {
   "cell_type": "code",
   "execution_count": 35,
   "metadata": {},
   "outputs": [],
   "source": [
    "# DataFrme => CSV 저장\n",
    "\n",
    "# -행 인덱스 라벨 설정 => index_label 매개변수\n",
    "dataDF.to_csv(FILE_CSV_R, index_label=\"No\")\n",
    "\n",
    "# - 데이터 구분자 변경 => sep 매개변수 [기] 쉼표(,)\n",
    "dataDF.to_csv(FILE_CSV_R3, sep=':')\n",
    "\n",
    "\n",
    "# -DataFrame 의 인덱스 저장하지 않기 설정 => index 매개변수 =False \n",
    "#               컬럼명 저장하지 않기 설정 => header 매개변수 = False\n",
    "#               파일 쓰기 모드 설정     \n",
    "#                       mode 매개변수\n",
    "#                       => \"w\" : 파일 존재 시 내용 지우고 쓰기\n",
    "#                       => \"a\" : 파일 존재 시 내용 끝에 추가해서 쓰기\n",
    "dataDF.to_csv(FILE_CSV_R2, index=False, header=False, mode='a')\n"
   ]
  },
  {
   "cell_type": "code",
   "execution_count": 36,
   "metadata": {},
   "outputs": [],
   "source": [
    "# -Serise => CSV 파일로 저장\n",
    "\n",
    "dataSR1.to_csv(FILE_CSV_R3, index_label=\"No\")\n",
    "dataSR1.to_csv(FILE_CSV_R3, index=False, header=False)"
   ]
  },
  {
   "cell_type": "code",
   "execution_count": 37,
   "metadata": {},
   "outputs": [],
   "source": [
    "# DataFrame => JSON 저장\n",
    "FILE_JSON = './data1.json'\n",
    "\n",
    "dataDF.to_json(FILE_JSON)"
   ]
  },
  {
   "cell_type": "code",
   "execution_count": 38,
   "metadata": {},
   "outputs": [
    {
     "data": {
      "text/html": [
       "<div>\n",
       "<style scoped>\n",
       "    .dataframe tbody tr th:only-of-type {\n",
       "        vertical-align: middle;\n",
       "    }\n",
       "\n",
       "    .dataframe tbody tr th {\n",
       "        vertical-align: top;\n",
       "    }\n",
       "\n",
       "    .dataframe thead th {\n",
       "        text-align: right;\n",
       "    }\n",
       "</style>\n",
       "<table border=\"1\" class=\"dataframe\">\n",
       "  <thead>\n",
       "    <tr style=\"text-align: right;\">\n",
       "      <th></th>\n",
       "      <th>name</th>\n",
       "      <th>mask</th>\n",
       "      <th>weapon</th>\n",
       "    </tr>\n",
       "  </thead>\n",
       "  <tbody>\n",
       "    <tr>\n",
       "      <th>one</th>\n",
       "      <td>Raphael</td>\n",
       "      <td>red</td>\n",
       "      <td>sai</td>\n",
       "    </tr>\n",
       "    <tr>\n",
       "      <th>two</th>\n",
       "      <td>Donatello</td>\n",
       "      <td>purple</td>\n",
       "      <td>bo staff</td>\n",
       "    </tr>\n",
       "  </tbody>\n",
       "</table>\n",
       "</div>"
      ],
      "text/plain": [
       "          name    mask    weapon\n",
       "one    Raphael     red       sai\n",
       "two  Donatello  purple  bo staff"
      ]
     },
     "execution_count": 38,
     "metadata": {},
     "output_type": "execute_result"
    }
   ],
   "source": [
    "# JSON => DataFrame 로딩\n",
    "JsonDF = pd.read_json(FILE_JSON)\n",
    "JsonDF"
   ]
  },
  {
   "cell_type": "code",
   "execution_count": 39,
   "metadata": {},
   "outputs": [],
   "source": [
    "# DataFrame => EXCEL 저장\n",
    "# %pip install openpyxl\n",
    "FILE_EXCEL = './data1.xlsx'\n",
    "\n",
    "dataDF.to_excel(FILE_EXCEL,index_label=\"No\" , header=False)"
   ]
  },
  {
   "cell_type": "code",
   "execution_count": 40,
   "metadata": {},
   "outputs": [],
   "source": [
    "# pip 관련\n",
    "# python -m pip install --upgrade pip\n",
    "#"
   ]
  },
  {
   "cell_type": "code",
   "execution_count": 41,
   "metadata": {},
   "outputs": [
    {
     "data": {
      "text/html": [
       "<div>\n",
       "<style scoped>\n",
       "    .dataframe tbody tr th:only-of-type {\n",
       "        vertical-align: middle;\n",
       "    }\n",
       "\n",
       "    .dataframe tbody tr th {\n",
       "        vertical-align: top;\n",
       "    }\n",
       "\n",
       "    .dataframe thead th {\n",
       "        text-align: right;\n",
       "    }\n",
       "</style>\n",
       "<table border=\"1\" class=\"dataframe\">\n",
       "  <thead>\n",
       "    <tr style=\"text-align: right;\">\n",
       "      <th></th>\n",
       "      <th>0</th>\n",
       "      <th>1</th>\n",
       "      <th>2</th>\n",
       "      <th>3</th>\n",
       "    </tr>\n",
       "  </thead>\n",
       "  <tbody>\n",
       "    <tr>\n",
       "      <th>0</th>\n",
       "      <td>one</td>\n",
       "      <td>Raphael</td>\n",
       "      <td>red</td>\n",
       "      <td>sai</td>\n",
       "    </tr>\n",
       "    <tr>\n",
       "      <th>1</th>\n",
       "      <td>two</td>\n",
       "      <td>Donatello</td>\n",
       "      <td>purple</td>\n",
       "      <td>bo staff</td>\n",
       "    </tr>\n",
       "  </tbody>\n",
       "</table>\n",
       "</div>"
      ],
      "text/plain": [
       "     0          1       2         3\n",
       "0  one    Raphael     red       sai\n",
       "1  two  Donatello  purple  bo staff"
      ]
     },
     "execution_count": 41,
     "metadata": {},
     "output_type": "execute_result"
    }
   ],
   "source": [
    "# 파일의 첫번째 줄 => [기본] 컬럼으로 설정\n",
    "#                 => 컬럼명이 아닌 경우 => header 매개변수 None\n",
    "excelDF = pd.read_excel(FILE_EXCEL, header=None)\n",
    "excelDF"
   ]
  },
  {
   "cell_type": "code",
   "execution_count": null,
   "metadata": {},
   "outputs": [],
   "source": []
  },
  {
   "cell_type": "code",
   "execution_count": null,
   "metadata": {},
   "outputs": [],
   "source": []
  }
 ],
 "metadata": {
  "kernelspec": {
   "display_name": "PY39",
   "language": "python",
   "name": "python3"
  },
  "language_info": {
   "codemirror_mode": {
    "name": "ipython",
    "version": 3
   },
   "file_extension": ".py",
   "mimetype": "text/x-python",
   "name": "python",
   "nbconvert_exporter": "python",
   "pygments_lexer": "ipython3",
   "version": "3.9.21"
  }
 },
 "nbformat": 4,
 "nbformat_minor": 2
}
