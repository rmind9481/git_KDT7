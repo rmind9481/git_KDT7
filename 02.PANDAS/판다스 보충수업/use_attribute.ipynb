{
 "cells": [
  {
   "cell_type": "markdown",
   "metadata": {},
   "source": [
    "[1] 모듈 로딩 및 데이터 준비 <hr>"
   ]
  },
  {
   "cell_type": "code",
   "execution_count": 58,
   "metadata": {},
   "outputs": [],
   "source": [
    "## [1-1] 모듈 로딩\n",
    "\n",
    "import pandas as pd"
   ]
  },
  {
   "cell_type": "code",
   "execution_count": 59,
   "metadata": {},
   "outputs": [],
   "source": [
    "# [1-2] 데이터 준비\n",
    "\n",
    "data1 = [['철수','영희'],[80,90],['대구','부산']]\n",
    "\n",
    "data2 ={'국어':[90,80,70],'과학':[100,90,80]}\n",
    "\n",
    "data3= '../DATA/member.csv'"
   ]
  },
  {
   "cell_type": "markdown",
   "metadata": {},
   "source": [
    "[2] DataFrame 생성 및 활용 <hr>"
   ]
  },
  {
   "cell_type": "code",
   "execution_count": 60,
   "metadata": {},
   "outputs": [],
   "source": [
    "# [2-1] DataFrame 생성\n",
    "# - df1 => 데이터: data1, 인덱스 : 'one','two','three', 컬럼즈:'사람1', '사람2'\n",
    "\n",
    "df1 = pd.DataFrame(data1, index=['one','two','three'], columns=['사람1','사람2'])\n",
    "\n",
    "# - df2 => 데이터: data2\n",
    "\n",
    "df2 = pd.DataFrame(data2)\n",
    "\n",
    "# - df3 => 데이터: data3\n",
    "\n",
    "df3 = pd.read_csv(data3)"
   ]
  },
  {
   "cell_type": "code",
   "execution_count": 61,
   "metadata": {},
   "outputs": [
    {
     "name": "stdout",
     "output_type": "stream",
     "text": [
      "index Index(['one', 'two', 'three'], dtype='object')\n",
      "columns Index(['사람1', '사람2'], dtype='object')\n",
      "shape (3, 2)\n",
      "values [['철수' '영희']\n",
      " [80 90]\n",
      " ['대구' '부산']]\n",
      "dtypes 사람1    object\n",
      "사람2    object\n",
      "dtype: object\n"
     ]
    }
   ],
   "source": [
    "# [2-2] DataFrame 속성 사용 : index, columns, shape, values, dtypes\n",
    "# --> df1 속성\n",
    "\n",
    "print(f'index {df1.index}')\n",
    "print(f'columns {df1.columns}')\n",
    "print(f'shape {df1.shape}')\n",
    "print(f'values {df1.values}')\n",
    "print(f'dtypes {df1.dtypes}')"
   ]
  },
  {
   "cell_type": "code",
   "execution_count": 62,
   "metadata": {},
   "outputs": [
    {
     "name": "stdout",
     "output_type": "stream",
     "text": [
      "index RangeIndex(start=0, stop=3, step=1)\n",
      "columns Index(['국어', '과학'], dtype='object')\n",
      "shape (3, 2)\n",
      "values [[ 90 100]\n",
      " [ 80  90]\n",
      " [ 70  80]]\n",
      "dtypes 국어    int64\n",
      "과학    int64\n",
      "dtype: object\n"
     ]
    }
   ],
   "source": [
    "# ==> df2 속성출력\n",
    "print(f'index {df2.index}')\n",
    "print(f'columns {df2.columns}')\n",
    "print(f'shape {df2.shape}')\n",
    "print(f'values {df2.values}')\n",
    "print(f'dtypes {df2.dtypes}')\n",
    "\n"
   ]
  },
  {
   "cell_type": "code",
   "execution_count": 63,
   "metadata": {},
   "outputs": [
    {
     "name": "stdout",
     "output_type": "stream",
     "text": [
      "index RangeIndex(start=0, stop=7, step=1)\n",
      "columns Index(['번호', '이름', '나이', '지역'], dtype='object')\n",
      "shape (7, 4)\n",
      "values [[1 '홍길동' 20 '대구']\n",
      " [2 '이나영' 12 '서울']\n",
      " [3 '최희진' 22 '마산']\n",
      " [4 '마징가' 31 '부산']\n",
      " [5 '박지민' 17 '대구']\n",
      " [6 '김나나' 25 '서울']\n",
      " [7 '박서희' 33 '광주']]\n",
      "dtypes 번호     int64\n",
      "이름    object\n",
      "나이     int64\n",
      "지역    object\n",
      "dtype: object\n"
     ]
    }
   ],
   "source": [
    "print(f'index {df3.index}')\n",
    "print(f'columns {df3.columns}')\n",
    "print(f'shape {df3.shape}')\n",
    "print(f'values {df3.values}')\n",
    "print(f'dtypes {df3.dtypes}')\n"
   ]
  },
  {
   "cell_type": "code",
   "execution_count": 64,
   "metadata": {},
   "outputs": [
    {
     "data": {
      "text/html": [
       "<div>\n",
       "<style scoped>\n",
       "    .dataframe tbody tr th:only-of-type {\n",
       "        vertical-align: middle;\n",
       "    }\n",
       "\n",
       "    .dataframe tbody tr th {\n",
       "        vertical-align: top;\n",
       "    }\n",
       "\n",
       "    .dataframe thead th {\n",
       "        text-align: right;\n",
       "    }\n",
       "</style>\n",
       "<table border=\"1\" class=\"dataframe\">\n",
       "  <thead>\n",
       "    <tr style=\"text-align: right;\">\n",
       "      <th></th>\n",
       "      <th>사람1</th>\n",
       "      <th>사람2</th>\n",
       "    </tr>\n",
       "  </thead>\n",
       "  <tbody>\n",
       "    <tr>\n",
       "      <th>첫번째</th>\n",
       "      <td>철수</td>\n",
       "      <td>영희</td>\n",
       "    </tr>\n",
       "    <tr>\n",
       "      <th>두번째</th>\n",
       "      <td>80</td>\n",
       "      <td>90</td>\n",
       "    </tr>\n",
       "    <tr>\n",
       "      <th>세번째</th>\n",
       "      <td>대구</td>\n",
       "      <td>부산</td>\n",
       "    </tr>\n",
       "  </tbody>\n",
       "</table>\n",
       "</div>"
      ],
      "text/plain": [
       "    사람1 사람2\n",
       "첫번째  철수  영희\n",
       "두번째  80  90\n",
       "세번째  대구  부산"
      ]
     },
     "execution_count": 64,
     "metadata": {},
     "output_type": "execute_result"
    }
   ],
   "source": [
    "# ==> df1 속성 변겅\n",
    "# 현재 index속성 'one', 'two', 'three' ==> '첫번쨰','두번째', '세번째'\n",
    "df1.index = ['첫번째','두번째','세번째']\n",
    "\n",
    "df1"
   ]
  },
  {
   "cell_type": "code",
   "execution_count": 65,
   "metadata": {},
   "outputs": [],
   "source": [
    "# 현재 index 속성의 값의 개수와 새로운 값의 갯수가 동일해야함 !\n",
    "# df1.index = ['첫번째','두번째'] ## ERROR\n",
    "\n",
    "# 현재 index 속성의 값의 일부분만 변경시 메서드 사용 ==> rename()\n",
    "# '첫번째' => 'first', '두번째' => 'second'로변경\n",
    "\n",
    "df1.rename({'첫번째':'first', '두번째':'second'},inplace=True)\n"
   ]
  },
  {
   "cell_type": "code",
   "execution_count": 66,
   "metadata": {},
   "outputs": [],
   "source": [
    "# 컬럼명 '사람1' ==> 'Person1'로 변경\n",
    "\n",
    "# df1.columns=['Person1'] ## 갯수가 달라서 ERROR\n",
    "\n",
    "df1.rename(columns={'사람1':'Person1'})\n",
    "#df1.rename({'사람1':'Person1'}, axis=1)\n",
    "df1.rename({'사람1':'Person1'}, axis='columns', inplace=True)\n"
   ]
  },
  {
   "cell_type": "code",
   "execution_count": 67,
   "metadata": {},
   "outputs": [],
   "source": [
    "# 인덱스 '세번째' ==> '333'으로 변경\n",
    "\n",
    "df1.rename({'세번째':'333'}, inplace=True)"
   ]
  },
  {
   "cell_type": "code",
   "execution_count": 68,
   "metadata": {},
   "outputs": [
    {
     "data": {
      "text/html": [
       "<div>\n",
       "<style scoped>\n",
       "    .dataframe tbody tr th:only-of-type {\n",
       "        vertical-align: middle;\n",
       "    }\n",
       "\n",
       "    .dataframe tbody tr th {\n",
       "        vertical-align: top;\n",
       "    }\n",
       "\n",
       "    .dataframe thead th {\n",
       "        text-align: right;\n",
       "    }\n",
       "</style>\n",
       "<table border=\"1\" class=\"dataframe\">\n",
       "  <thead>\n",
       "    <tr style=\"text-align: right;\">\n",
       "      <th></th>\n",
       "      <th>Person1</th>\n",
       "      <th>사람2</th>\n",
       "    </tr>\n",
       "  </thead>\n",
       "  <tbody>\n",
       "    <tr>\n",
       "      <th>first</th>\n",
       "      <td>철수</td>\n",
       "      <td>영희</td>\n",
       "    </tr>\n",
       "    <tr>\n",
       "      <th>second</th>\n",
       "      <td>80</td>\n",
       "      <td>90</td>\n",
       "    </tr>\n",
       "    <tr>\n",
       "      <th>333</th>\n",
       "      <td>대구</td>\n",
       "      <td>부산</td>\n",
       "    </tr>\n",
       "  </tbody>\n",
       "</table>\n",
       "</div>"
      ],
      "text/plain": [
       "       Person1 사람2\n",
       "first       철수  영희\n",
       "second      80  90\n",
       "333         대구  부산"
      ]
     },
     "execution_count": 68,
     "metadata": {},
     "output_type": "execute_result"
    }
   ],
   "source": [
    "df1"
   ]
  },
  {
   "cell_type": "code",
   "execution_count": 69,
   "metadata": {},
   "outputs": [],
   "source": [
    "# 변경이 안되는 속성들 \n",
    "# shape 속성 : 실제 데이터의 행과 열 정보를 Pandas가 저장해서! 변경 불가 X\n",
    "# df1.shape = (5,9)\n",
    "\n",
    "# - values 속성 : 실제 데이터 저장 =>  values 속성으로 변경 불가 X\n",
    "# df1.values = [[1,2], [90,90],['미국','서울']]"
   ]
  },
  {
   "cell_type": "code",
   "execution_count": 70,
   "metadata": {},
   "outputs": [
    {
     "data": {
      "text/html": [
       "<div>\n",
       "<style scoped>\n",
       "    .dataframe tbody tr th:only-of-type {\n",
       "        vertical-align: middle;\n",
       "    }\n",
       "\n",
       "    .dataframe tbody tr th {\n",
       "        vertical-align: top;\n",
       "    }\n",
       "\n",
       "    .dataframe thead th {\n",
       "        text-align: right;\n",
       "    }\n",
       "</style>\n",
       "<table border=\"1\" class=\"dataframe\">\n",
       "  <thead>\n",
       "    <tr style=\"text-align: right;\">\n",
       "      <th></th>\n",
       "      <th>Person1</th>\n",
       "      <th>사람2</th>\n",
       "    </tr>\n",
       "  </thead>\n",
       "  <tbody>\n",
       "    <tr>\n",
       "      <th>first</th>\n",
       "      <td>철수</td>\n",
       "      <td>영희</td>\n",
       "    </tr>\n",
       "    <tr>\n",
       "      <th>second</th>\n",
       "      <td>80</td>\n",
       "      <td>90</td>\n",
       "    </tr>\n",
       "    <tr>\n",
       "      <th>333</th>\n",
       "      <td>대구</td>\n",
       "      <td>부산</td>\n",
       "    </tr>\n",
       "  </tbody>\n",
       "</table>\n",
       "</div>"
      ],
      "text/plain": [
       "       Person1 사람2\n",
       "first       철수  영희\n",
       "second      80  90\n",
       "333         대구  부산"
      ]
     },
     "execution_count": 70,
     "metadata": {},
     "output_type": "execute_result"
    }
   ],
   "source": [
    "# df1 의 모든 원소를 화면에 한줄에 한개씩 출력하기 -------------------------------\n",
    "\n",
    "df1"
   ]
  },
  {
   "cell_type": "code",
   "execution_count": 71,
   "metadata": {},
   "outputs": [
    {
     "data": {
      "text/plain": [
       "Index(['Person1', '사람2'], dtype='object')"
      ]
     },
     "execution_count": 71,
     "metadata": {},
     "output_type": "execute_result"
    }
   ],
   "source": [
    "# [2-3] 컬럼/행/요소 선택\n",
    "# - 2-3-1 : 컬럼 선택\n",
    "#       df변수명[ 컬럼명 ] , df변수명,컬럼명\n",
    "#  df1 컬럼 정보 출력\n",
    "\n",
    "df1.columns"
   ]
  },
  {
   "cell_type": "code",
   "execution_count": 72,
   "metadata": {},
   "outputs": [
    {
     "data": {
      "text/plain": [
       "first     영희\n",
       "second    90\n",
       "333       부산\n",
       "Name: 사람2, dtype: object"
      ]
     },
     "execution_count": 72,
     "metadata": {},
     "output_type": "execute_result"
    }
   ],
   "source": [
    "#df1 사람2 컬럼의 데이터만 가져오기\n",
    "\n",
    "df1['사람2']"
   ]
  },
  {
   "cell_type": "code",
   "execution_count": 73,
   "metadata": {},
   "outputs": [
    {
     "data": {
      "text/plain": [
       "first     철수\n",
       "second    80\n",
       "333       대구\n",
       "Name: Person1, dtype: object"
      ]
     },
     "execution_count": 73,
     "metadata": {},
     "output_type": "execute_result"
    }
   ],
   "source": [
    "df1['Person1']"
   ]
  },
  {
   "cell_type": "code",
   "execution_count": 74,
   "metadata": {},
   "outputs": [
    {
     "data": {
      "text/plain": [
       "first     영희\n",
       "second    90\n",
       "333       부산\n",
       "Name: 사람2, dtype: object"
      ]
     },
     "execution_count": 74,
     "metadata": {},
     "output_type": "execute_result"
    }
   ],
   "source": [
    "df1.사람2"
   ]
  },
  {
   "cell_type": "code",
   "execution_count": 75,
   "metadata": {},
   "outputs": [
    {
     "data": {
      "text/plain": [
       "first     철수\n",
       "second    80\n",
       "333       대구\n",
       "Name: Person1, dtype: object"
      ]
     },
     "execution_count": 75,
     "metadata": {},
     "output_type": "execute_result"
    }
   ],
   "source": [
    "df1.Person1"
   ]
  },
  {
   "cell_type": "code",
   "execution_count": 78,
   "metadata": {},
   "outputs": [
    {
     "data": {
      "text/plain": [
       "국어     90\n",
       "과학    100\n",
       "Name: 0, dtype: int64"
      ]
     },
     "execution_count": 78,
     "metadata": {},
     "output_type": "execute_result"
    }
   ],
   "source": [
    "# df4 숫자 컬럼의 데이터만 가져오기 \n",
    "df4 = df2.T\n",
    "# df4.0 숫자는 안됨 문자만 됨\n",
    "df4[0]"
   ]
  },
  {
   "cell_type": "code",
   "execution_count": 83,
   "metadata": {},
   "outputs": [
    {
     "name": "stdout",
     "output_type": "stream",
     "text": [
      "Index(['first', 'second', '333'], dtype='object')\n"
     ]
    },
    {
     "data": {
      "text/plain": [
       "Person1    80\n",
       "사람2        90\n",
       "Name: second, dtype: object"
      ]
     },
     "execution_count": 83,
     "metadata": {},
     "output_type": "execute_result"
    }
   ],
   "source": [
    "# -2-3-2: 행선택\n",
    "#           df변수명.loc[행번호 또는 행이름]  , df변수명.iloc[행번호]\n",
    "\n",
    "print(df1.index)\n",
    "\n",
    "# -'second' 행 데이터를 가져오기\n",
    "\n",
    "df1.loc['second']"
   ]
  },
  {
   "cell_type": "code",
   "execution_count": 85,
   "metadata": {},
   "outputs": [
    {
     "data": {
      "text/plain": [
       "90"
      ]
     },
     "execution_count": 85,
     "metadata": {},
     "output_type": "execute_result"
    }
   ],
   "source": [
    "# -2-3-3: 원소 선택\n",
    "#       df변수명.loc[행번호 또는 행이름, 열], df변수명.iloc[행번호,열번호]\n",
    "df1.loc['second','사람2']"
   ]
  },
  {
   "cell_type": "code",
   "execution_count": 86,
   "metadata": {},
   "outputs": [
    {
     "data": {
      "text/html": [
       "<div>\n",
       "<style scoped>\n",
       "    .dataframe tbody tr th:only-of-type {\n",
       "        vertical-align: middle;\n",
       "    }\n",
       "\n",
       "    .dataframe tbody tr th {\n",
       "        vertical-align: top;\n",
       "    }\n",
       "\n",
       "    .dataframe thead th {\n",
       "        text-align: right;\n",
       "    }\n",
       "</style>\n",
       "<table border=\"1\" class=\"dataframe\">\n",
       "  <thead>\n",
       "    <tr style=\"text-align: right;\">\n",
       "      <th></th>\n",
       "      <th>Person1</th>\n",
       "      <th>사람2</th>\n",
       "    </tr>\n",
       "  </thead>\n",
       "  <tbody>\n",
       "    <tr>\n",
       "      <th>second</th>\n",
       "      <td>80</td>\n",
       "      <td>90</td>\n",
       "    </tr>\n",
       "    <tr>\n",
       "      <th>second</th>\n",
       "      <td>80</td>\n",
       "      <td>90</td>\n",
       "    </tr>\n",
       "  </tbody>\n",
       "</table>\n",
       "</div>"
      ],
      "text/plain": [
       "       Person1 사람2\n",
       "second      80  90\n",
       "second      80  90"
      ]
     },
     "execution_count": 86,
     "metadata": {},
     "output_type": "execute_result"
    }
   ],
   "source": [
    "df1.iloc[[1,1]]"
   ]
  },
  {
   "cell_type": "code",
   "execution_count": null,
   "metadata": {},
   "outputs": [],
   "source": []
  }
 ],
 "metadata": {
  "kernelspec": {
   "display_name": "PY39",
   "language": "python",
   "name": "python3"
  },
  "language_info": {
   "codemirror_mode": {
    "name": "ipython",
    "version": 3
   },
   "file_extension": ".py",
   "mimetype": "text/x-python",
   "name": "python",
   "nbconvert_exporter": "python",
   "pygments_lexer": "ipython3",
   "version": "3.9.21"
  }
 },
 "nbformat": 4,
 "nbformat_minor": 2
}
