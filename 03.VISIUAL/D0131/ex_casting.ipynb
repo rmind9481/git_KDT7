{
 "cells": [
  {
   "cell_type": "markdown",
   "metadata": {},
   "source": [
    "[Pandas & Matplotlib - 표준화]\n",
    "\n",
    "- 기본 자료형의 형변환\n",
    "    * 실제 데이터와 타입 일치\n",
    "    * 데이터 의미와 타입 일치\n",
    "- 데이터 의미 형변환\n",
    "    * 연속형/수치형 ==> 범주형\n",
    "    * 범주형 ==> 수치형\n"
   ]
  },
  {
   "cell_type": "markdown",
   "metadata": {},
   "source": [
    "[1] 모듈로딩 & 데이터 준비 <hr>"
   ]
  },
  {
   "cell_type": "code",
   "execution_count": 63,
   "metadata": {},
   "outputs": [],
   "source": [
    "# [1-1] 모듈로딩\n",
    "import pandas as pd"
   ]
  },
  {
   "cell_type": "code",
   "execution_count": 64,
   "metadata": {},
   "outputs": [],
   "source": [
    "#[1-2] 데이터 준비비\n",
    "\n",
    "D_FILE = '../DATA/auto_mpg.csv'\n",
    "\n",
    "autoDF = pd.read_csv(D_FILE)"
   ]
  },
  {
   "cell_type": "markdown",
   "metadata": {},
   "source": [
    "[2] 데이터 표준화 <hr>"
   ]
  },
  {
   "cell_type": "code",
   "execution_count": 65,
   "metadata": {},
   "outputs": [
    {
     "name": "stdout",
     "output_type": "stream",
     "text": [
      "<class 'pandas.core.arrays.categorical.Categorical'>\n",
      "[(0.994, 3.0], (5.0, 7.0], (3.0, 5.0], (3.0, 5.0], (5.0, 7.0], (0.994, 3.0]]\n",
      "Categories (3, interval[float64, right]): [(0.994, 3.0] < (3.0, 5.0] < (5.0, 7.0]]\n"
     ]
    }
   ],
   "source": [
    "# [2-1] 범주형 변환 함수 pandas.cut()\n",
    "\n",
    "data = [1,7,5,4,6,3]        # => 1 ~ 7 \n",
    "\n",
    "result = pd.cut(data ,3)\n",
    "# - 3개 구간 분할 : (0.994, 3.0] < (3.0, 5.0]  < (5.0, 7.0]\n",
    "# - 데이터가 속하는 구간으로 변경경\n",
    "#  1 =>  (0.994, 3.0]\n",
    "#  7 =>  (5.0, 7.0]\n",
    "#  5 =>  (3.0, 5.0]\n",
    "#  4 =>  (3.0, 5.0]\n",
    "#  6 =>  (5.0, 7.0]\n",
    "#  3 =>  (0.994, 3.0]\n",
    "print(type(result))\n",
    "print(result)"
   ]
  },
  {
   "cell_type": "code",
   "execution_count": 66,
   "metadata": {},
   "outputs": [
    {
     "name": "stdout",
     "output_type": "stream",
     "text": [
      "<class 'pandas.core.arrays.categorical.Categorical'>\n",
      "['A', 'C', 'B', 'B', 'C', 'A']\n",
      "Categories (3, object): ['A' < 'B' < 'C']\n"
     ]
    }
   ],
   "source": [
    "result = pd.cut(data ,3, labels=['A','B','C'])\n",
    "# - 3개 구간 분할 : (0.994, 3.0] < (3.0, 5.0]  < (5.0, 7.0]  => 'A' < 'B' < 'C'\n",
    "# - 데이터가 속하는 구간으로 변경경\n",
    "#  1 =>  (0.994, 3.0] \n",
    "#  7 =>  (5.0, 7.0] \n",
    "#  5 =>  (3.0, 5.0]\n",
    "#  4 =>  (3.0, 5.0]\n",
    "#  6 =>  (5.0, 7.0]\n",
    "#  3 =>  (0.994, 3.0]\n",
    "print(type(result))\n",
    "print(result)"
   ]
  },
  {
   "cell_type": "code",
   "execution_count": 67,
   "metadata": {},
   "outputs": [
    {
     "name": "stdout",
     "output_type": "stream",
     "text": [
      "<class 'pandas.core.arrays.categorical.Categorical'>\n",
      "['A', 'C', 'B', 'B', 'C', 'A']\n",
      "Categories (3, object): ['A' < 'B' < 'C']\n",
      "[1.    3.    5.    7.006]\n"
     ]
    }
   ],
   "source": [
    "resul, bins= pd.cut(data ,3, retbins=True, right=False)\n",
    "# - 3개 구간 분할 : (0.994, 3.0] < (3.0, 5.0]  < (5.0, 7.0]  => 'A' < 'B' < 'C'\n",
    "# - 데이터가 속하는 구간으로 변경경\n",
    "#  1 =>  (0.994, 3.0] \n",
    "#  7 =>  (5.0, 7.0] \n",
    "#  5 =>  (3.0, 5.0]\n",
    "#  4 =>  (3.0, 5.0]\n",
    "#  6 =>  (5.0, 7.0]\n",
    "#  3 =>  (0.994, 3.0]\n",
    "print(type(result))\n",
    "print(result)\n",
    "print(bins)"
   ]
  },
  {
   "cell_type": "code",
   "execution_count": 68,
   "metadata": {},
   "outputs": [],
   "source": [
    "# [2-2] auto_mpg 에서 horsepower 즉, 출력 연속형 ==> 범주형\n",
    "# 라벨 => 저출력, 일반출력, 고출력\n",
    "\n",
    "autoDF.horsepower  = autoDF.horsepower.replace('?', pd.NA)"
   ]
  },
  {
   "cell_type": "code",
   "execution_count": 69,
   "metadata": {},
   "outputs": [
    {
     "data": {
      "text/plain": [
       "array(['130', '165', '150', '140', '198', '220', '215', '225', '190',\n",
       "       '170', '160', '95', '97', '85', '88', '46', '87', '90', '113',\n",
       "       '200', '210', '193', <NA>, '100', '105', '175', '153', '180',\n",
       "       '110', '72', '86', '70', '76', '65', '69', '60', '80', '54', '208',\n",
       "       '155', '112', '92', '145', '137', '158', '167', '94', '107', '230',\n",
       "       '49', '75', '91', '122', '67', '83', '78', '52', '61', '93', '148',\n",
       "       '129', '96', '71', '98', '115', '53', '81', '79', '120', '152',\n",
       "       '102', '108', '68', '58', '149', '89', '63', '48', '66', '139',\n",
       "       '103', '125', '133', '138', '135', '142', '77', '62', '132', '84',\n",
       "       '64', '74', '116', '82'], dtype=object)"
      ]
     },
     "execution_count": 69,
     "metadata": {},
     "output_type": "execute_result"
    }
   ],
   "source": [
    "# 고유값 설정\n",
    "autoDF.horsepower.unique()"
   ]
  },
  {
   "cell_type": "code",
   "execution_count": 70,
   "metadata": {},
   "outputs": [],
   "source": [
    "# 걸럼의 결측치 체크\n",
    "\n",
    "autoDF.horsepower.isna().sum()\n",
    "\n",
    "# 컬럼의 결측치 제거\n",
    "autoDF.dropna(inplace=True)"
   ]
  },
  {
   "cell_type": "code",
   "execution_count": 71,
   "metadata": {},
   "outputs": [
    {
     "data": {
      "text/plain": [
       "mpg             float64\n",
       "cylinders         int64\n",
       "displacement    float64\n",
       "horsepower        int32\n",
       "weight            int64\n",
       "acceleration    float64\n",
       "model year        int64\n",
       "origin            int64\n",
       "car name         object\n",
       "dtype: object"
      ]
     },
     "execution_count": 71,
     "metadata": {},
     "output_type": "execute_result"
    }
   ],
   "source": [
    "# 타입변경\n",
    "autoDF.horsepower   = autoDF.horsepower.astype('int')\n",
    "\n",
    "\n",
    "# 형 확인\n",
    "autoDF.dtypes"
   ]
  },
  {
   "cell_type": "code",
   "execution_count": 72,
   "metadata": {},
   "outputs": [],
   "source": [
    "# 연속형 => 범주형 : 3개의 카테고리 즉, 저출력, 일반출력, 고출력\n",
    "\n",
    "power = pd.cut(autoDF.horsepower, bins=3, labels=['저출력','일반출력','고출력'])"
   ]
  },
  {
   "cell_type": "code",
   "execution_count": 74,
   "metadata": {},
   "outputs": [
    {
     "data": {
      "text/html": [
       "<div>\n",
       "<style scoped>\n",
       "    .dataframe tbody tr th:only-of-type {\n",
       "        vertical-align: middle;\n",
       "    }\n",
       "\n",
       "    .dataframe tbody tr th {\n",
       "        vertical-align: top;\n",
       "    }\n",
       "\n",
       "    .dataframe thead th {\n",
       "        text-align: right;\n",
       "    }\n",
       "</style>\n",
       "<table border=\"1\" class=\"dataframe\">\n",
       "  <thead>\n",
       "    <tr style=\"text-align: right;\">\n",
       "      <th></th>\n",
       "      <th>mpg</th>\n",
       "      <th>cylinders</th>\n",
       "      <th>displacement</th>\n",
       "      <th>horsepower</th>\n",
       "      <th>weight</th>\n",
       "      <th>acceleration</th>\n",
       "      <th>model year</th>\n",
       "      <th>origin</th>\n",
       "      <th>car name</th>\n",
       "      <th>Power</th>\n",
       "    </tr>\n",
       "  </thead>\n",
       "  <tbody>\n",
       "    <tr>\n",
       "      <th>0</th>\n",
       "      <td>18.0</td>\n",
       "      <td>8</td>\n",
       "      <td>307.0</td>\n",
       "      <td>130</td>\n",
       "      <td>3504</td>\n",
       "      <td>12.0</td>\n",
       "      <td>70</td>\n",
       "      <td>1</td>\n",
       "      <td>chevrolet chevelle malibu</td>\n",
       "      <td>일반출력</td>\n",
       "    </tr>\n",
       "    <tr>\n",
       "      <th>1</th>\n",
       "      <td>15.0</td>\n",
       "      <td>8</td>\n",
       "      <td>350.0</td>\n",
       "      <td>165</td>\n",
       "      <td>3693</td>\n",
       "      <td>11.5</td>\n",
       "      <td>70</td>\n",
       "      <td>1</td>\n",
       "      <td>buick skylark 320</td>\n",
       "      <td>일반출력</td>\n",
       "    </tr>\n",
       "  </tbody>\n",
       "</table>\n",
       "</div>"
      ],
      "text/plain": [
       "    mpg  cylinders  displacement  horsepower  weight  acceleration  \\\n",
       "0  18.0          8         307.0         130    3504          12.0   \n",
       "1  15.0          8         350.0         165    3693          11.5   \n",
       "\n",
       "   model year  origin                   car name Power  \n",
       "0          70       1  chevrolet chevelle malibu  일반출력  \n",
       "1          70       1          buick skylark 320  일반출력  "
      ]
     },
     "execution_count": 74,
     "metadata": {},
     "output_type": "execute_result"
    }
   ],
   "source": [
    "# DF 컬럼 추가\n",
    "\n",
    "autoDF['Power'] = power\n",
    "autoDF.head(2)"
   ]
  },
  {
   "cell_type": "code",
   "execution_count": 76,
   "metadata": {},
   "outputs": [
    {
     "data": {
      "text/html": [
       "<div>\n",
       "<style scoped>\n",
       "    .dataframe tbody tr th:only-of-type {\n",
       "        vertical-align: middle;\n",
       "    }\n",
       "\n",
       "    .dataframe tbody tr th {\n",
       "        vertical-align: top;\n",
       "    }\n",
       "\n",
       "    .dataframe thead th {\n",
       "        text-align: right;\n",
       "    }\n",
       "</style>\n",
       "<table border=\"1\" class=\"dataframe\">\n",
       "  <thead>\n",
       "    <tr style=\"text-align: right;\">\n",
       "      <th></th>\n",
       "      <th>mpg</th>\n",
       "      <th>cylinders</th>\n",
       "      <th>displacement</th>\n",
       "      <th>horsepower</th>\n",
       "      <th>weight</th>\n",
       "      <th>acceleration</th>\n",
       "      <th>model year</th>\n",
       "      <th>origin</th>\n",
       "      <th>car name</th>\n",
       "      <th>Power</th>\n",
       "    </tr>\n",
       "  </thead>\n",
       "  <tbody>\n",
       "    <tr>\n",
       "      <th>0</th>\n",
       "      <td>18.0</td>\n",
       "      <td>8</td>\n",
       "      <td>307.0</td>\n",
       "      <td>일반출력</td>\n",
       "      <td>3504</td>\n",
       "      <td>12.0</td>\n",
       "      <td>70</td>\n",
       "      <td>1</td>\n",
       "      <td>chevrolet chevelle malibu</td>\n",
       "      <td>일반출력</td>\n",
       "    </tr>\n",
       "    <tr>\n",
       "      <th>1</th>\n",
       "      <td>15.0</td>\n",
       "      <td>8</td>\n",
       "      <td>350.0</td>\n",
       "      <td>일반출력</td>\n",
       "      <td>3693</td>\n",
       "      <td>11.5</td>\n",
       "      <td>70</td>\n",
       "      <td>1</td>\n",
       "      <td>buick skylark 320</td>\n",
       "      <td>일반출력</td>\n",
       "    </tr>\n",
       "    <tr>\n",
       "      <th>2</th>\n",
       "      <td>18.0</td>\n",
       "      <td>8</td>\n",
       "      <td>318.0</td>\n",
       "      <td>일반출력</td>\n",
       "      <td>3436</td>\n",
       "      <td>11.0</td>\n",
       "      <td>70</td>\n",
       "      <td>1</td>\n",
       "      <td>plymouth satellite</td>\n",
       "      <td>일반출력</td>\n",
       "    </tr>\n",
       "    <tr>\n",
       "      <th>3</th>\n",
       "      <td>16.0</td>\n",
       "      <td>8</td>\n",
       "      <td>304.0</td>\n",
       "      <td>일반출력</td>\n",
       "      <td>3433</td>\n",
       "      <td>12.0</td>\n",
       "      <td>70</td>\n",
       "      <td>1</td>\n",
       "      <td>amc rebel sst</td>\n",
       "      <td>일반출력</td>\n",
       "    </tr>\n",
       "    <tr>\n",
       "      <th>4</th>\n",
       "      <td>17.0</td>\n",
       "      <td>8</td>\n",
       "      <td>302.0</td>\n",
       "      <td>일반출력</td>\n",
       "      <td>3449</td>\n",
       "      <td>10.5</td>\n",
       "      <td>70</td>\n",
       "      <td>1</td>\n",
       "      <td>ford torino</td>\n",
       "      <td>일반출력</td>\n",
       "    </tr>\n",
       "    <tr>\n",
       "      <th>...</th>\n",
       "      <td>...</td>\n",
       "      <td>...</td>\n",
       "      <td>...</td>\n",
       "      <td>...</td>\n",
       "      <td>...</td>\n",
       "      <td>...</td>\n",
       "      <td>...</td>\n",
       "      <td>...</td>\n",
       "      <td>...</td>\n",
       "      <td>...</td>\n",
       "    </tr>\n",
       "    <tr>\n",
       "      <th>393</th>\n",
       "      <td>27.0</td>\n",
       "      <td>4</td>\n",
       "      <td>140.0</td>\n",
       "      <td>저출력</td>\n",
       "      <td>2790</td>\n",
       "      <td>15.6</td>\n",
       "      <td>82</td>\n",
       "      <td>1</td>\n",
       "      <td>ford mustang gl</td>\n",
       "      <td>저출력</td>\n",
       "    </tr>\n",
       "    <tr>\n",
       "      <th>394</th>\n",
       "      <td>44.0</td>\n",
       "      <td>4</td>\n",
       "      <td>97.0</td>\n",
       "      <td>저출력</td>\n",
       "      <td>2130</td>\n",
       "      <td>24.6</td>\n",
       "      <td>82</td>\n",
       "      <td>2</td>\n",
       "      <td>vw pickup</td>\n",
       "      <td>저출력</td>\n",
       "    </tr>\n",
       "    <tr>\n",
       "      <th>395</th>\n",
       "      <td>32.0</td>\n",
       "      <td>4</td>\n",
       "      <td>135.0</td>\n",
       "      <td>저출력</td>\n",
       "      <td>2295</td>\n",
       "      <td>11.6</td>\n",
       "      <td>82</td>\n",
       "      <td>1</td>\n",
       "      <td>dodge rampage</td>\n",
       "      <td>저출력</td>\n",
       "    </tr>\n",
       "    <tr>\n",
       "      <th>396</th>\n",
       "      <td>28.0</td>\n",
       "      <td>4</td>\n",
       "      <td>120.0</td>\n",
       "      <td>저출력</td>\n",
       "      <td>2625</td>\n",
       "      <td>18.6</td>\n",
       "      <td>82</td>\n",
       "      <td>1</td>\n",
       "      <td>ford ranger</td>\n",
       "      <td>저출력</td>\n",
       "    </tr>\n",
       "    <tr>\n",
       "      <th>397</th>\n",
       "      <td>31.0</td>\n",
       "      <td>4</td>\n",
       "      <td>119.0</td>\n",
       "      <td>저출력</td>\n",
       "      <td>2720</td>\n",
       "      <td>19.4</td>\n",
       "      <td>82</td>\n",
       "      <td>1</td>\n",
       "      <td>chevy s-10</td>\n",
       "      <td>저출력</td>\n",
       "    </tr>\n",
       "  </tbody>\n",
       "</table>\n",
       "<p>392 rows × 10 columns</p>\n",
       "</div>"
      ],
      "text/plain": [
       "      mpg  cylinders  displacement horsepower  weight  acceleration  \\\n",
       "0    18.0          8         307.0       일반출력    3504          12.0   \n",
       "1    15.0          8         350.0       일반출력    3693          11.5   \n",
       "2    18.0          8         318.0       일반출력    3436          11.0   \n",
       "3    16.0          8         304.0       일반출력    3433          12.0   \n",
       "4    17.0          8         302.0       일반출력    3449          10.5   \n",
       "..    ...        ...           ...        ...     ...           ...   \n",
       "393  27.0          4         140.0        저출력    2790          15.6   \n",
       "394  44.0          4          97.0        저출력    2130          24.6   \n",
       "395  32.0          4         135.0        저출력    2295          11.6   \n",
       "396  28.0          4         120.0        저출력    2625          18.6   \n",
       "397  31.0          4         119.0        저출력    2720          19.4   \n",
       "\n",
       "     model year  origin                   car name Power  \n",
       "0            70       1  chevrolet chevelle malibu  일반출력  \n",
       "1            70       1          buick skylark 320  일반출력  \n",
       "2            70       1         plymouth satellite  일반출력  \n",
       "3            70       1              amc rebel sst  일반출력  \n",
       "4            70       1                ford torino  일반출력  \n",
       "..          ...     ...                        ...   ...  \n",
       "393          82       1            ford mustang gl   저출력  \n",
       "394          82       2                  vw pickup   저출력  \n",
       "395          82       1              dodge rampage   저출력  \n",
       "396          82       1                ford ranger   저출력  \n",
       "397          82       1                 chevy s-10   저출력  \n",
       "\n",
       "[392 rows x 10 columns]"
      ]
     },
     "execution_count": 76,
     "metadata": {},
     "output_type": "execute_result"
    }
   ],
   "source": [
    "# DF 컬럼 오버라이팅\n",
    "autoDF['horsepower'] = power\n",
    "autoDF"
   ]
  },
  {
   "cell_type": "code",
   "execution_count": null,
   "metadata": {},
   "outputs": [],
   "source": []
  }
 ],
 "metadata": {
  "kernelspec": {
   "display_name": "PY39",
   "language": "python",
   "name": "python3"
  },
  "language_info": {
   "codemirror_mode": {
    "name": "ipython",
    "version": 3
   },
   "file_extension": ".py",
   "mimetype": "text/x-python",
   "name": "python",
   "nbconvert_exporter": "python",
   "pygments_lexer": "ipython3",
   "version": "3.9.21"
  }
 },
 "nbformat": 4,
 "nbformat_minor": 2
}
