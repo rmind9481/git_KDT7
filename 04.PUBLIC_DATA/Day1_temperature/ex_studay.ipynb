{
 "cells": [
  {
   "cell_type": "code",
   "execution_count": 5,
   "metadata": {},
   "outputs": [],
   "source": [
    "import csv\n",
    "# csv.reader(csvfile, delimiter)\t#\t읽기용, delimiter:구분자(‘,’),csv파일은 delimiter 생략 가능,\n",
    "# csv.writer(csvfile, delimiter)    #\t쓰기용, delimiter:구분자(‘,’)"
   ]
  },
  {
   "cell_type": "code",
   "execution_count": 6,
   "metadata": {},
   "outputs": [
    {
     "name": "stdout",
     "output_type": "stream",
     "text": [
      "<_csv.reader object at 0x000001B7D68CE020>\n"
     ]
    }
   ],
   "source": [
    "file = open('../Data/daegudata.csv', mode='r', encoding=None)\n",
    "data = csv.reader(file, delimiter=',')\n",
    "print(data) # csv_reader 객체 출력\n",
    "file.close()\n",
    "file.close()\n"
   ]
  },
  {
   "cell_type": "code",
   "execution_count": null,
   "metadata": {},
   "outputs": [],
   "source": []
  },
  {
   "cell_type": "code",
   "execution_count": null,
   "metadata": {},
   "outputs": [],
   "source": []
  }
 ],
 "metadata": {
  "kernelspec": {
   "display_name": "bigdata",
   "language": "python",
   "name": "python3"
  },
  "language_info": {
   "codemirror_mode": {
    "name": "ipython",
    "version": 3
   },
   "file_extension": ".py",
   "mimetype": "text/x-python",
   "name": "python",
   "nbconvert_exporter": "python",
   "pygments_lexer": "ipython3",
   "version": "3.12.8"
  }
 },
 "nbformat": 4,
 "nbformat_minor": 2
}
