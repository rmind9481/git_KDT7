{
 "cells": [
  {
   "cell_type": "code",
   "execution_count": 1,
   "metadata": {},
   "outputs": [
    {
     "name": "stdout",
     "output_type": "stream",
     "text": [
      "정수의 합: 30\n"
     ]
    }
   ],
   "source": [
    "def get_sum(x,y):\n",
    "\treturn x + y\n",
    "\n",
    "\n",
    "print(\"정수의 합:\", get_sum(10,20))"
   ]
  },
  {
   "cell_type": "code",
   "execution_count": 2,
   "metadata": {},
   "outputs": [
    {
     "name": "stdout",
     "output_type": "stream",
     "text": [
      "10\n"
     ]
    }
   ],
   "source": [
    "sum = lambda a,b : a+b  # a + b 의 결과를 리턴 (sum 변수가 받음)\n",
    "print(sum(3,7)) "
   ]
  },
  {
   "cell_type": "code",
   "execution_count": 6,
   "metadata": {},
   "outputs": [
    {
     "name": "stdout",
     "output_type": "stream",
     "text": [
      "['but', 'health', 'health,', 'know', 'not', 'of', 'only', 'sick', 'The', 'the', 'their']\n"
     ]
    }
   ],
   "source": [
    "msg = \t\"The health know not of their health, but only the sick\"\n",
    "\n",
    "sorted_list = sorted(msg.split(), key=str.lower)\n",
    "\n",
    "print(sorted_list)\n"
   ]
  },
  {
   "cell_type": "code",
   "execution_count": 7,
   "metadata": {},
   "outputs": [
    {
     "name": "stdout",
     "output_type": "stream",
     "text": [
      "['health,', 'health', 'their', 'know', 'only', 'sick', 'The', 'not', 'but', 'the', 'of']\n"
     ]
    }
   ],
   "source": [
    "msg = \t\"The health know not of\ttheir health, but only the sick\"\n",
    "\n",
    "sorted_list = sorted(msg.split(), key=len , reverse=True)\n",
    "\n",
    "print(sorted_list)"
   ]
  },
  {
   "cell_type": "code",
   "execution_count": 8,
   "metadata": {},
   "outputs": [
    {
     "name": "stdout",
     "output_type": "stream",
     "text": [
      "[('Charlie', 4.3, 20160301), ('Bob', 3.0, 20160302), ('Alice', 3.9, 20160306)]\n",
      "[('Charlie', 4.3, 20160301), ('Alice', 3.9, 20160306), ('Bob', 3.0, 20160302)]\n"
     ]
    }
   ],
   "source": [
    "students = [('Alice',3.9, 20160306),\n",
    "\t\t\t('Bob',3.0,20160302),\n",
    "\t\t\t('Charlie',4.3,20160301)]\n",
    "\n",
    "sorted_students1 = sorted(students, key = lambda s: s[2])\n",
    "print(sorted_students1)\n",
    "\n",
    "sorted_students2 = sorted(students, key= lambda s: s[1], reverse=True)\n",
    "print(sorted_students2)\n"
   ]
  },
  {
   "cell_type": "code",
   "execution_count": 9,
   "metadata": {},
   "outputs": [
    {
     "name": "stdout",
     "output_type": "stream",
     "text": [
      "   A  B\n",
      "0  1  2\n",
      "1  3  4\n",
      "2  5  6\n"
     ]
    }
   ],
   "source": [
    "import pandas as pd\n",
    "import numpy as np\n",
    "\n",
    "\n",
    "df = pd.DataFrame([[1,2],[3,4],[5,6]], columns=['A','B'])\n",
    "print(df)"
   ]
  },
  {
   "cell_type": "code",
   "execution_count": 10,
   "metadata": {},
   "outputs": [
    {
     "name": "stdout",
     "output_type": "stream",
     "text": [
      "   A  B\n",
      "0  2  3\n",
      "1  4  5\n",
      "2  6  7\n"
     ]
    }
   ],
   "source": [
    "def plus_one(x):\n",
    "\tx = x+1\n",
    "\treturn x\n",
    "\n",
    "df['A'] = df['A'].apply(plus_one)\n",
    "df['B'] = df['B'].apply(plus_one)\n",
    "\n",
    "print(df)"
   ]
  },
  {
   "cell_type": "code",
   "execution_count": 11,
   "metadata": {},
   "outputs": [
    {
     "data": {
      "text/html": [
       "<div>\n",
       "<style scoped>\n",
       "    .dataframe tbody tr th:only-of-type {\n",
       "        vertical-align: middle;\n",
       "    }\n",
       "\n",
       "    .dataframe tbody tr th {\n",
       "        vertical-align: top;\n",
       "    }\n",
       "\n",
       "    .dataframe thead th {\n",
       "        text-align: right;\n",
       "    }\n",
       "</style>\n",
       "<table border=\"1\" class=\"dataframe\">\n",
       "  <thead>\n",
       "    <tr style=\"text-align: right;\">\n",
       "      <th></th>\n",
       "      <th>A</th>\n",
       "      <th>B</th>\n",
       "    </tr>\n",
       "  </thead>\n",
       "  <tbody>\n",
       "    <tr>\n",
       "      <th>0</th>\n",
       "      <td>3</td>\n",
       "      <td>4</td>\n",
       "    </tr>\n",
       "    <tr>\n",
       "      <th>1</th>\n",
       "      <td>5</td>\n",
       "      <td>6</td>\n",
       "    </tr>\n",
       "    <tr>\n",
       "      <th>2</th>\n",
       "      <td>7</td>\n",
       "      <td>8</td>\n",
       "    </tr>\n",
       "  </tbody>\n",
       "</table>\n",
       "</div>"
      ],
      "text/plain": [
       "   A  B\n",
       "0  3  4\n",
       "1  5  6\n",
       "2  7  8"
      ]
     },
     "execution_count": 11,
     "metadata": {},
     "output_type": "execute_result"
    }
   ],
   "source": [
    "df = df.apply(plus_one)\n",
    "df \n"
   ]
  },
  {
   "cell_type": "code",
   "execution_count": null,
   "metadata": {},
   "outputs": [],
   "source": [
    "df['A'] = df['A'].apply(lambda x : x +1 )\n",
    "print(df)\n"
   ]
  }
 ],
 "metadata": {
  "kernelspec": {
   "display_name": "bigdata",
   "language": "python",
   "name": "python3"
  },
  "language_info": {
   "codemirror_mode": {
    "name": "ipython",
    "version": 3
   },
   "file_extension": ".py",
   "mimetype": "text/x-python",
   "name": "python",
   "nbconvert_exporter": "python",
   "pygments_lexer": "ipython3",
   "version": "3.12.8"
  }
 },
 "nbformat": 4,
 "nbformat_minor": 2
}
