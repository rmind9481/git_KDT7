{
 "cells": [
  {
   "cell_type": "code",
   "execution_count": 1,
   "metadata": {},
   "outputs": [],
   "source": [
    "from\turllib.request\timport\turlopen\n",
    "from\tbs4\timport\tBeautifulSoup\n",
    "import\tre\t"
   ]
  },
  {
   "cell_type": "code",
   "execution_count": 2,
   "metadata": {},
   "outputs": [],
   "source": [
    "html\t=\turlopen('https://www.pythonscraping.com/pages/page3.html')\n",
    "soup\t=\tBeautifulSoup(html,\t'html.parser')"
   ]
  },
  {
   "cell_type": "code",
   "execution_count": 3,
   "metadata": {},
   "outputs": [
    {
     "name": "stdout",
     "output_type": "stream",
     "text": [
      "<img src=\"../img/gifts/img1.jpg\"/>->['src'] 속성값: ../img/gifts/img1.jpg\n",
      "<img src=\"../img/gifts/img2.jpg\"/>->['src'] 속성값: ../img/gifts/img2.jpg\n",
      "<img src=\"../img/gifts/img3.jpg\"/>->['src'] 속성값: ../img/gifts/img3.jpg\n",
      "<img src=\"../img/gifts/img4.jpg\"/>->['src'] 속성값: ../img/gifts/img4.jpg\n",
      "<img src=\"../img/gifts/img6.jpg\"/>->['src'] 속성값: ../img/gifts/img6.jpg\n"
     ]
    }
   ],
   "source": [
    "# 정규식: ('img.*.jpg'): img 다음에 임의의 한 문자가 0회 이상\n",
    "#\t- img.jpg,img1.jpg,imga.jpg 등\n",
    "img_tag = re.compile('/img/gifts/img.*.jpg')\n",
    "# find_all()에서 img의 src 속성값에 정규식 사용\n",
    "images\t=\tsoup.find_all('img',\t{'src':\timg_tag})\t\n",
    "for\timage\tin\timages:\t\n",
    "\tprint(image,end=\"->['src'] 속성값: \")\n",
    "\tprint(image['src'])\n",
    "\t"
   ]
  }
 ],
 "metadata": {
  "kernelspec": {
   "display_name": "bigdata",
   "language": "python",
   "name": "python3"
  },
  "language_info": {
   "codemirror_mode": {
    "name": "ipython",
    "version": 3
   },
   "file_extension": ".py",
   "mimetype": "text/x-python",
   "name": "python",
   "nbconvert_exporter": "python",
   "pygments_lexer": "ipython3",
   "version": "3.12.8"
  }
 },
 "nbformat": 4,
 "nbformat_minor": 2
}
