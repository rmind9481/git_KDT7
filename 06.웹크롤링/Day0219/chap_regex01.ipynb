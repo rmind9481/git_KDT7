{
 "cells": [
  {
   "cell_type": "code",
   "execution_count": 15,
   "metadata": {},
   "outputs": [],
   "source": [
    "import re"
   ]
  },
  {
   "cell_type": "code",
   "execution_count": 16,
   "metadata": {},
   "outputs": [
    {
     "name": "stdout",
     "output_type": "stream",
     "text": [
      "None\n",
      "<re.Match object; span=(7, 12), match='apple'>\n",
      "<re.Match object; span=(0, 6), match='python'>\n",
      "<re.Match object; span=(2, 6), match='like'>\n"
     ]
    }
   ],
   "source": [
    "# complie() 사용 안한\n",
    "\t\t\t\t\t# 비교할 문자열\n",
    "m = re.match('[a-z]+','Python')\n",
    "print(m)\n",
    "print(re.search('apple','I like apple!'))\n",
    "\n",
    "\n",
    "\n",
    "# complie() 사용 : 객체 생성\n",
    "p = re.compile('[a-z]+') # 알파벳 소문자\n",
    "m = p.match('python')\n",
    "print(m)\n",
    "print(p.search('I like apple 123'))"
   ]
  },
  {
   "cell_type": "code",
   "execution_count": 17,
   "metadata": {},
   "outputs": [
    {
     "name": "stdout",
     "output_type": "stream",
     "text": [
      "<re.Match object; span=(0, 5), match='regex'>\n",
      "None\n",
      "<re.Match object; span=(0, 10), match='regexpytho'>\n",
      "None\n",
      "<re.Match object; span=(0, 5), match='regex'>\n",
      "<re.Match object; span=(0, 11), match='regexpython'>\n"
     ]
    }
   ],
   "source": [
    "print(re.match('[a-z]+','regex python'))\n",
    "print(re.match('[a-z]+',' regexpython'))\n",
    "\n",
    "print(re.match('[a-z]+', 'regexpythoN'))\n",
    "print(re.match('[a-z]+$', 'regexpythoN'))\n",
    "\n",
    "print(re.match('[a-z]+', 'regexPython'))\n",
    "print(re.match('[a-z]+$','regexpython'))\n"
   ]
  },
  {
   "cell_type": "markdown",
   "metadata": {},
   "source": [
    "findall()\n",
    "일치하는 모든 문자열을 리스트로 리턴"
   ]
  },
  {
   "cell_type": "code",
   "execution_count": 18,
   "metadata": {},
   "outputs": [
    {
     "name": "stdout",
     "output_type": "stream",
     "text": [
      "['list', 'is', 'too', 'short', 'egular', 'expression', 'test']\n",
      "['list', 'is', 'too', 'short', 'egular', 'expression', 'test']\n"
     ]
    }
   ],
   "source": [
    "p = re.compile('[a-z]+') # 알파벳 소문자\n",
    "print(p.findall('list is too short!. Regular expression test'))\n",
    "\n",
    "find_all = re.findall('[a-z]+','list is too short!. Regular expression test')\n",
    "print(find_all)"
   ]
  },
  {
   "cell_type": "code",
   "execution_count": 19,
   "metadata": {},
   "outputs": [
    {
     "name": "stdout",
     "output_type": "stream",
     "text": [
      "<re.Match object; span=(2, 6), match='like'>\n",
      "['like', 'apple']\n"
     ]
    }
   ],
   "source": [
    "result = p.search('I like apple 123')\n",
    "print(result)\n",
    "\n",
    "result = p.findall('I like apple 123')\n",
    "print(result)"
   ]
  },
  {
   "cell_type": "code",
   "execution_count": null,
   "metadata": {},
   "outputs": [
    {
     "name": "stdout",
     "output_type": "stream",
     "text": [
      "['가', '가', '가겠', '고', '겠']\n",
      "['가가', '가고', '거가', '거가', '거', '금가가', '간']\n"
     ]
    }
   ],
   "source": [
    "p = re.compile('[a-z]+')\n",
    "p = re.compile('[가-깋]+')\n",
    "print(p.findall('가방에 아버지가 들어가겠다고 했겠냐?'))\n",
    "print(p.findall('가가 가고 거가 거가? 카믄 거서 금마가 간다캤나?'))"
   ]
  },
  {
   "cell_type": "code",
   "execution_count": 25,
   "metadata": {},
   "outputs": [
    {
     "name": "stdout",
     "output_type": "stream",
     "text": [
      "<re.Match object; span=(0, 11), match='02-123-4567'>\n",
      "02-123-4567\n",
      "('02', '123', '4567')\n",
      "None\n",
      "None\n"
     ]
    }
   ],
   "source": [
    "import re \n",
    "tel_checker = re.compile(r'^(\\d{2,3})-(\\d{3,4})-(\\d{4})$')\n",
    "\n",
    "print(tel_checker.match('02-123-4567'))\n",
    "print(tel_checker.match('02-123-4567').group())\n",
    "print(tel_checker.match('02-123-4567').groups())\n",
    "\n",
    "# 마지막 숫자의 자리수가 맞지않음\n",
    "print(tel_checker.match('053-950-45678'))\n",
    "# dash(-)가 없음\n",
    "print(tel_checker.match('053950-4567'))"
   ]
  },
  {
   "cell_type": "code",
   "execution_count": null,
   "metadata": {},
   "outputs": [
    {
     "name": "stdout",
     "output_type": "stream",
     "text": [
      "0539504567\n",
      "<re.Match object; span=(0, 10), match='0539504567'>\n",
      "<re.Match object; span=(0, 10), match='0239501234'>\n",
      "0239501234\n"
     ]
    }
   ],
   "source": [
    "tel_number = '053-950-4567'\n",
    "tel_number = tel_number.replace('-',\t'')\n",
    "print(tel_number)\n",
    "tel_checker1 = re.compile(r'^(\\d{2,3})(\\d{3,4})(\\d{4})$')\n",
    "print(tel_checker1.match(tel_number))\n",
    "print(tel_checker1.match('0239501234'))\t#\t02-3950-1234\n",
    "print(tel_checker1.match('0239501234').group(0))"
   ]
  },
  {
   "cell_type": "code",
   "execution_count": null,
   "metadata": {},
   "outputs": [
    {
     "name": "stdout",
     "output_type": "stream",
     "text": [
      "('02', '123', '4567')\n",
      "group():\t 02-123-4567\n",
      "group(0): 02-123-4567\n",
      "group(1): 02\n",
      "group(2,3): ('123', '4567')\n",
      "start():\t 0\n",
      "end():\t 11\n"
     ]
    }
   ],
   "source": [
    "tel_checker = re.compile(r'^(\\d{2,3})-(\\d{3,4})-(\\d{4})$')\n",
    "m =  tel_checker.match('02-123-4567')\n",
    "print(m.groups())\n",
    "print('group():\t',m.group())\n",
    "print('group(0):',m.group(0))\n",
    "print('group(1):',m.group(1))\n",
    "print('group(2,3):',m.group(2,3))\n",
    "print('start():\t',m.start())\t#\t매칭된 문자열의 시작 인덱스\n",
    "print('end(): ',m.end())\t#\t매칭된 문자열의 마지막 인덱스+1"
   ]
  },
  {
   "cell_type": "code",
   "execution_count": 31,
   "metadata": {},
   "outputs": [
    {
     "name": "stdout",
     "output_type": "stream",
     "text": [
      "<re.Match object; span=(0, 12), match='010-123-4567'>\n",
      "<re.Match object; span=(0, 13), match='019-1234-5678'>\n",
      "None\n",
      "None\n"
     ]
    }
   ],
   "source": [
    "cell_phone = re.compile(r'^(01(?:0|1|[6-9]))-(\\d{3,4})-(\\d{4})$')\n",
    "print(cell_phone.match('010-123-4567'))\n",
    "print(cell_phone.match('019-1234-5678'))\n",
    "print(cell_phone.match('001-123-4567'))\n",
    "print(cell_phone.match('010-1234567'))"
   ]
  },
  {
   "cell_type": "code",
   "execution_count": null,
   "metadata": {},
   "outputs": [],
   "source": [
    "#\t전방 긍정 탐색:\t(문자열이 won을 포함하고 있으면 won\t앞의 문자열 리턴)\n",
    "lookahead1\t=\tre.search(r'.+(?=won)',\t'1000\twon')\n",
    "if(lookahead1 != None):\n",
    "\tprint(lookahead1.group())\n",
    "else:\n",
    "\tprint('None')\n",
    "lookahead2\t= re.search(r'.+(?=am)','2023-01-26\tam\t10:00:01')\n",
    "print(lookahead2.group())\n",
    "#\t전방 부정 탐색 (?!):\t4자리 숫자 다음에 '-'를 포함하지 않으면 앞의 문자열 리턴\n",
    "lookahead3\t=\tre.search(r'\\d{4}(?!-)','010-1234-5678')\n",
    "print(lookahead3)"
   ]
  },
  {
   "cell_type": "code",
   "execution_count": null,
   "metadata": {},
   "outputs": [],
   "source": []
  },
  {
   "cell_type": "markdown",
   "metadata": {},
   "source": []
  }
 ],
 "metadata": {
  "kernelspec": {
   "display_name": "bigdata",
   "language": "python",
   "name": "python3"
  },
  "language_info": {
   "codemirror_mode": {
    "name": "ipython",
    "version": 3
   },
   "file_extension": ".py",
   "mimetype": "text/x-python",
   "name": "python",
   "nbconvert_exporter": "python",
   "pygments_lexer": "ipython3",
   "version": "3.12.8"
  }
 },
 "nbformat": 4,
 "nbformat_minor": 2
}
