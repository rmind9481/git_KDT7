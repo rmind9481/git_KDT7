{
 "cells": [
  {
   "cell_type": "markdown",
   "metadata": {},
   "source": [
    "#### [개발 환경 버전 체크]"
   ]
  },
  {
   "cell_type": "code",
   "execution_count": 5,
   "metadata": {},
   "outputs": [],
   "source": [
    "# 설치된 패키지의 버전 출력\n",
    "\n",
    "import pandas\n",
    "import sklearn\n",
    "import numpy\n",
    "import matplotlib\n",
    "import seaborn\n"
   ]
  },
  {
   "cell_type": "code",
   "execution_count": null,
   "metadata": {},
   "outputs": [
    {
     "name": "stdout",
     "output_type": "stream",
     "text": [
      "2.2.3\n",
      "1.6.1\n",
      "2.0.1\n",
      "3.9.2\n",
      "0.13.2\n"
     ]
    }
   ],
   "source": [
    "print(f'{pandas.__version__}')\n",
    "print(f'{sklearn.__version__}')\n",
    "print(f'{numpy.__version__}')\n",
    "print(f'{matplotlib.__version__}')\n",
    "print(f'{seaborn.__version__}')\n",
    "\n"
   ]
  },
  {
   "cell_type": "code",
   "execution_count": null,
   "metadata": {},
   "outputs": [],
   "source": []
  },
  {
   "cell_type": "code",
   "execution_count": null,
   "metadata": {},
   "outputs": [],
   "source": []
  }
 ],
 "metadata": {
  "kernelspec": {
   "display_name": "ML_PY39",
   "language": "python",
   "name": "python3"
  },
  "language_info": {
   "codemirror_mode": {
    "name": "ipython",
    "version": 3
   },
   "file_extension": ".py",
   "mimetype": "text/x-python",
   "name": "python",
   "nbconvert_exporter": "python",
   "pygments_lexer": "ipython3",
   "version": "3.9.21"
  }
 },
 "nbformat": 4,
 "nbformat_minor": 2
}
