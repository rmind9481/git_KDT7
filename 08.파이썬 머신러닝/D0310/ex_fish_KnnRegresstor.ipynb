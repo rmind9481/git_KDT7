{
 "cells": [
  {
   "cell_type": "markdown",
   "metadata": {},
   "source": [
    "### [ Fish 길이에 따른 무게 예측]\n",
    "\n",
    " - 데이터셋 : fish.csv\n",
    " - "
   ]
  },
  {
   "cell_type": "markdown",
   "metadata": {},
   "source": [
    "[1] 모듈 로딩 및 데이터 준비 <hr>"
   ]
  },
  {
   "cell_type": "code",
   "execution_count": 259,
   "metadata": {},
   "outputs": [],
   "source": [
    "# [1-1] 모듈 로딩\n",
    "\n",
    "import pandas as pd\n",
    "import matplotlib.pyplot as plt\n",
    "from sklearn.model_selection import train_test_split  "
   ]
  },
  {
   "cell_type": "code",
   "execution_count": 260,
   "metadata": {},
   "outputs": [],
   "source": [
    "# [1-2] 데이터 준비\n",
    "data = '../Data/fish.csv'"
   ]
  },
  {
   "cell_type": "code",
   "execution_count": 261,
   "metadata": {},
   "outputs": [],
   "source": [
    "# 데이터 로딩\n",
    "# 농어 생선의 무게 와 길이\n",
    "# skipfooter , skiprows , usecols\n",
    "fish_df =  pd.read_csv(data, skiprows=73, header=None, skipfooter=31, engine='python', usecols=[1,2])"
   ]
  },
  {
   "cell_type": "code",
   "execution_count": 262,
   "metadata": {},
   "outputs": [
    {
     "data": {
      "text/html": [
       "<div>\n",
       "<style scoped>\n",
       "    .dataframe tbody tr th:only-of-type {\n",
       "        vertical-align: middle;\n",
       "    }\n",
       "\n",
       "    .dataframe tbody tr th {\n",
       "        vertical-align: top;\n",
       "    }\n",
       "\n",
       "    .dataframe thead th {\n",
       "        text-align: right;\n",
       "    }\n",
       "</style>\n",
       "<table border=\"1\" class=\"dataframe\">\n",
       "  <thead>\n",
       "    <tr style=\"text-align: right;\">\n",
       "      <th></th>\n",
       "      <th>1</th>\n",
       "      <th>2</th>\n",
       "    </tr>\n",
       "  </thead>\n",
       "  <tbody>\n",
       "    <tr>\n",
       "      <th>0</th>\n",
       "      <td>300.0</td>\n",
       "      <td>26.0</td>\n",
       "    </tr>\n",
       "    <tr>\n",
       "      <th>1</th>\n",
       "      <td>5.9</td>\n",
       "      <td>8.4</td>\n",
       "    </tr>\n",
       "    <tr>\n",
       "      <th>2</th>\n",
       "      <td>32.0</td>\n",
       "      <td>13.7</td>\n",
       "    </tr>\n",
       "    <tr>\n",
       "      <th>3</th>\n",
       "      <td>40.0</td>\n",
       "      <td>15.0</td>\n",
       "    </tr>\n",
       "    <tr>\n",
       "      <th>4</th>\n",
       "      <td>51.5</td>\n",
       "      <td>16.2</td>\n",
       "    </tr>\n",
       "  </tbody>\n",
       "</table>\n",
       "</div>"
      ],
      "text/plain": [
       "       1     2\n",
       "0  300.0  26.0\n",
       "1    5.9   8.4\n",
       "2   32.0  13.7\n",
       "3   40.0  15.0\n",
       "4   51.5  16.2"
      ]
     },
     "execution_count": 262,
     "metadata": {},
     "output_type": "execute_result"
    }
   ],
   "source": [
    "fish_df.head()"
   ]
  },
  {
   "cell_type": "markdown",
   "metadata": {},
   "source": [
    "[2] 데이터분석 - 탐색적 분석 <hr>"
   ]
  },
  {
   "cell_type": "code",
   "execution_count": 263,
   "metadata": {},
   "outputs": [
    {
     "data": {
      "image/png": "[encoded data removed]",
      "text/plain": [
       "<Figure size 640x480 with 1 Axes>"
      ]
     },
     "metadata": {},
     "output_type": "display_data"
    }
   ],
   "source": [
    "# 시각화\n",
    "# 1번 컬럼 => Weight, 2번 컬럼 => Length\n",
    "plt.plot(fish_df[2],fish_df[1],'o')\n",
    "plt.xlabel('Lenght')\n",
    "plt.ylabel('Weight')\n",
    "plt.title('[Length & weight]')\n",
    "plt.show()"
   ]
  },
  {
   "cell_type": "markdown",
   "metadata": {},
   "source": [
    "# 탐색적 분석 결과\n",
    "\t* 길이가 비슷하면 무게도 비슷함\n",
    "\t* 비슷한 데이터 끼리 모여 있음\n",
    "\t* 알고리즘 : 최근접이웃 회귀 진행"
   ]
  },
  {
   "cell_type": "markdown",
   "metadata": {},
   "source": [
    "[3] 데이터 셋 준비 <hr>\n",
    "\t* 피쳐와 타겟 분리\n",
    "\t* 학습용/검증용/테스트용 데이터셋 분리 => 학습용과 테스트용으로만 분리"
   ]
  },
  {
   "cell_type": "code",
   "execution_count": 264,
   "metadata": {},
   "outputs": [
    {
     "name": "stdout",
     "output_type": "stream",
     "text": [
      "feature_df => 2D, ftarget_df,  1D\n"
     ]
    }
   ],
   "source": [
    "# [3-1] 피쳐와 타겟 분리\n",
    "feature_df = fish_df[fish_df.columns[-1:]]\n",
    "target_df = fish_df[fish_df.columns[0]]\n",
    "\n",
    "print(f'feature_df => {feature_df.ndim}D, ftarget_df,  {target_df.ndim}D')"
   ]
  },
  {
   "cell_type": "code",
   "execution_count": 265,
   "metadata": {},
   "outputs": [
    {
     "name": "stdout",
     "output_type": "stream",
     "text": [
      "train_data => (42, 1),   train_label => (42,)\n",
      "test_data => (15, 1),  test_label => (15,)\n"
     ]
    }
   ],
   "source": [
    "# [3-2] 데이터세 분리 => 학습용 : 테스트용 = 75%:25%\n",
    "\n",
    "train_data, test_data, train_label, test_label = train_test_split(feature_df,target_df, random_state=10)\n",
    "\n",
    "print(f'train_data => {train_data.shape},   train_label => { train_label.shape}')\n",
    "print(f'test_data => {test_data.shape},  test_label => {test_label.shape}')"
   ]
  },
  {
   "cell_type": "code",
   "execution_count": 266,
   "metadata": {},
   "outputs": [
    {
     "name": "stdout",
     "output_type": "stream",
     "text": [
      "RangeIndex(start=0, stop=42, step=1) RangeIndex(start=0, stop=42, step=1)\n",
      "RangeIndex(start=0, stop=15, step=1) RangeIndex(start=0, stop=15, step=1)\n"
     ]
    }
   ],
   "source": [
    "# 인덱스 리셋\n",
    "train_data.reset_index(drop=True, inplace=True)\n",
    "train_label.reset_index(drop=True, inplace=True)\n",
    "\n",
    "\n",
    "# 인덱스 리셋\n",
    "test_data.reset_index(drop=True, inplace=True)\n",
    "test_label.reset_index(drop=True, inplace=True)\n",
    "\n",
    "print(train_data.index, train_label.index)\n",
    "print(test_data.index, test_label.index)"
   ]
  },
  {
   "cell_type": "code",
   "execution_count": 267,
   "metadata": {},
   "outputs": [
    {
     "data": {
      "text/plain": [
       "(      2\n",
       " 0  18.0\n",
       " 1  37.0\n",
       " 2  43.0\n",
       " 3  39.0\n",
       " 4  20.0,\n",
       " 0     100.0\n",
       " 1     700.0\n",
       " 2    1100.0\n",
       " 3     900.0\n",
       " 4      85.0\n",
       " Name: 1, dtype: float64)"
      ]
     },
     "execution_count": 267,
     "metadata": {},
     "output_type": "execute_result"
    }
   ],
   "source": [
    "train_data.head(), train_label.head()"
   ]
  },
  {
   "cell_type": "code",
   "execution_count": null,
   "metadata": {},
   "outputs": [],
   "source": []
  },
  {
   "cell_type": "code",
   "execution_count": 268,
   "metadata": {},
   "outputs": [],
   "source": [
    "## 모듈로딩\n",
    "\n",
    "from sklearn.neighbors import KNeighborsRegressor\n",
    "from sklearn.metrics import root_mean_squared_error, mean_squared_error"
   ]
  },
  {
   "cell_type": "code",
   "execution_count": 269,
   "metadata": {},
   "outputs": [],
   "source": [
    "# [4-1] 알고리즘 객체 생성\n",
    "model = KNeighborsRegressor()\n"
   ]
  },
  {
   "cell_type": "code",
   "execution_count": 270,
   "metadata": {},
   "outputs": [
    {
     "data": {
      "text/html": [
       "<style>#sk-container-id-8 {\n",
       "  /* Definition of color scheme common for light and dark mode */\n",
       "  --sklearn-color-text: #000;\n",
       "  --sklearn-color-text-muted: #666;\n",
       "  --sklearn-color-line: gray;\n",
       "  /* Definition of color scheme for unfitted estimators */\n",
       "  --sklearn-color-unfitted-level-0: #fff5e6;\n",
       "  --sklearn-color-unfitted-level-1: #f6e4d2;\n",
       "  --sklearn-color-unfitted-level-2: #ffe0b3;\n",
       "  --sklearn-color-unfitted-level-3: chocolate;\n",
       "  /* Definition of color scheme for fitted estimators */\n",
       "  --sklearn-color-fitted-level-0: #f0f8ff;\n",
       "  --sklearn-color-fitted-level-1: #d4ebff;\n",
       "  --sklearn-color-fitted-level-2: #b3dbfd;\n",
       "  --sklearn-color-fitted-level-3: cornflowerblue;\n",
       "\n",
       "  /* Specific color for light theme */\n",
       "  --sklearn-color-text-on-default-background: var(--sg-text-color, var(--theme-code-foreground, var(--jp-content-font-color1, black)));\n",
       "  --sklearn-color-background: var(--sg-background-color, var(--theme-background, var(--jp-layout-color0, white)));\n",
       "  --sklearn-color-border-box: var(--sg-text-color, var(--theme-code-foreground, var(--jp-content-font-color1, black)));\n",
       "  --sklearn-color-icon: #696969;\n",
       "\n",
       "  @media (prefers-color-scheme: dark) {\n",
       "    /* Redefinition of color scheme for dark theme */\n",
       "    --sklearn-color-text-on-default-background: var(--sg-text-color, var(--theme-code-foreground, var(--jp-content-font-color1, white)));\n",
       "    --sklearn-color-background: var(--sg-background-color, var(--theme-background, var(--jp-layout-color0, #111)));\n",
       "    --sklearn-color-border-box: var(--sg-text-color, var(--theme-code-foreground, var(--jp-content-font-color1, white)));\n",
       "    --sklearn-color-icon: #878787;\n",
       "  }\n",
       "}\n",
       "\n",
       "#sk-container-id-8 {\n",
       "  color: var(--sklearn-color-text);\n",
       "}\n",
       "\n",
       "#sk-container-id-8 pre {\n",
       "  padding: 0;\n",
       "}\n",
       "\n",
       "#sk-container-id-8 input.sk-hidden--visually {\n",
       "  border: 0;\n",
       "  clip: rect(1px 1px 1px 1px);\n",
       "  clip: rect(1px, 1px, 1px, 1px);\n",
       "  height: 1px;\n",
       "  margin: -1px;\n",
       "  overflow: hidden;\n",
       "  padding: 0;\n",
       "  position: absolute;\n",
       "  width: 1px;\n",
       "}\n",
       "\n",
       "#sk-container-id-8 div.sk-dashed-wrapped {\n",
       "  border: 1px dashed var(--sklearn-color-line);\n",
       "  margin: 0 0.4em 0.5em 0.4em;\n",
       "  box-sizing: border-box;\n",
       "  padding-bottom: 0.4em;\n",
       "  background-color: var(--sklearn-color-background);\n",
       "}\n",
       "\n",
       "#sk-container-id-8 div.sk-container {\n",
       "  /* jupyter's `normalize.less` sets `[hidden] { display: none; }`\n",
       "     but bootstrap.min.css set `[hidden] { display: none !important; }`\n",
       "     so we also need the `!important` here to be able to override the\n",
       "     default hidden behavior on the sphinx rendered scikit-learn.org.\n",
       "     See: https://github.com/scikit-learn/scikit-learn/issues/21755 */\n",
       "  display: inline-block !important;\n",
       "  position: relative;\n",
       "}\n",
       "\n",
       "#sk-container-id-8 div.sk-text-repr-fallback {\n",
       "  display: none;\n",
       "}\n",
       "\n",
       "div.sk-parallel-item,\n",
       "div.sk-serial,\n",
       "div.sk-item {\n",
       "  /* draw centered vertical line to link estimators */\n",
       "  background-image: linear-gradient(var(--sklearn-color-text-on-default-background), var(--sklearn-color-text-on-default-background));\n",
       "  background-size: 2px 100%;\n",
       "  background-repeat: no-repeat;\n",
       "  background-position: center center;\n",
       "}\n",
       "\n",
       "/* Parallel-specific style estimator block */\n",
       "\n",
       "#sk-container-id-8 div.sk-parallel-item::after {\n",
       "  content: \"\";\n",
       "  width: 100%;\n",
       "  border-bottom: 2px solid var(--sklearn-color-text-on-default-background);\n",
       "  flex-grow: 1;\n",
       "}\n",
       "\n",
       "#sk-container-id-8 div.sk-parallel {\n",
       "  display: flex;\n",
       "  align-items: stretch;\n",
       "  justify-content: center;\n",
       "  background-color: var(--sklearn-color-background);\n",
       "  position: relative;\n",
       "}\n",
       "\n",
       "#sk-container-id-8 div.sk-parallel-item {\n",
       "  display: flex;\n",
       "  flex-direction: column;\n",
       "}\n",
       "\n",
       "#sk-container-id-8 div.sk-parallel-item:first-child::after {\n",
       "  align-self: flex-end;\n",
       "  width: 50%;\n",
       "}\n",
       "\n",
       "#sk-container-id-8 div.sk-parallel-item:last-child::after {\n",
       "  align-self: flex-start;\n",
       "  width: 50%;\n",
       "}\n",
       "\n",
       "#sk-container-id-8 div.sk-parallel-item:only-child::after {\n",
       "  width: 0;\n",
       "}\n",
       "\n",
       "/* Serial-specific style estimator block */\n",
       "\n",
       "#sk-container-id-8 div.sk-serial {\n",
       "  display: flex;\n",
       "  flex-direction: column;\n",
       "  align-items: center;\n",
       "  background-color: var(--sklearn-color-background);\n",
       "  padding-right: 1em;\n",
       "  padding-left: 1em;\n",
       "}\n",
       "\n",
       "\n",
       "/* Toggleable style: style used for estimator/Pipeline/ColumnTransformer box that is\n",
       "clickable and can be expanded/collapsed.\n",
       "- Pipeline and ColumnTransformer use this feature and define the default style\n",
       "- Estimators will overwrite some part of the style using the `sk-estimator` class\n",
       "*/\n",
       "\n",
       "/* Pipeline and ColumnTransformer style (default) */\n",
       "\n",
       "#sk-container-id-8 div.sk-toggleable {\n",
       "  /* Default theme specific background. It is overwritten whether we have a\n",
       "  specific estimator or a Pipeline/ColumnTransformer */\n",
       "  background-color: var(--sklearn-color-background);\n",
       "}\n",
       "\n",
       "/* Toggleable label */\n",
       "#sk-container-id-8 label.sk-toggleable__label {\n",
       "  cursor: pointer;\n",
       "  display: flex;\n",
       "  width: 100%;\n",
       "  margin-bottom: 0;\n",
       "  padding: 0.5em;\n",
       "  box-sizing: border-box;\n",
       "  text-align: center;\n",
       "  align-items: start;\n",
       "  justify-content: space-between;\n",
       "  gap: 0.5em;\n",
       "}\n",
       "\n",
       "#sk-container-id-8 label.sk-toggleable__label .caption {\n",
       "  font-size: 0.6rem;\n",
       "  font-weight: lighter;\n",
       "  color: var(--sklearn-color-text-muted);\n",
       "}\n",
       "\n",
       "#sk-container-id-8 label.sk-toggleable__label-arrow:before {\n",
       "  /* Arrow on the left of the label */\n",
       "  content: \"▸\";\n",
       "  float: left;\n",
       "  margin-right: 0.25em;\n",
       "  color: var(--sklearn-color-icon);\n",
       "}\n",
       "\n",
       "#sk-container-id-8 label.sk-toggleable__label-arrow:hover:before {\n",
       "  color: var(--sklearn-color-text);\n",
       "}\n",
       "\n",
       "/* Toggleable content - dropdown */\n",
       "\n",
       "#sk-container-id-8 div.sk-toggleable__content {\n",
       "  max-height: 0;\n",
       "  max-width: 0;\n",
       "  overflow: hidden;\n",
       "  text-align: left;\n",
       "  /* unfitted */\n",
       "  background-color: var(--sklearn-color-unfitted-level-0);\n",
       "}\n",
       "\n",
       "#sk-container-id-8 div.sk-toggleable__content.fitted {\n",
       "  /* fitted */\n",
       "  background-color: var(--sklearn-color-fitted-level-0);\n",
       "}\n",
       "\n",
       "#sk-container-id-8 div.sk-toggleable__content pre {\n",
       "  margin: 0.2em;\n",
       "  border-radius: 0.25em;\n",
       "  color: var(--sklearn-color-text);\n",
       "  /* unfitted */\n",
       "  background-color: var(--sklearn-color-unfitted-level-0);\n",
       "}\n",
       "\n",
       "#sk-container-id-8 div.sk-toggleable__content.fitted pre {\n",
       "  /* unfitted */\n",
       "  background-color: var(--sklearn-color-fitted-level-0);\n",
       "}\n",
       "\n",
       "#sk-container-id-8 input.sk-toggleable__control:checked~div.sk-toggleable__content {\n",
       "  /* Expand drop-down */\n",
       "  max-height: 200px;\n",
       "  max-width: 100%;\n",
       "  overflow: auto;\n",
       "}\n",
       "\n",
       "#sk-container-id-8 input.sk-toggleable__control:checked~label.sk-toggleable__label-arrow:before {\n",
       "  content: \"▾\";\n",
       "}\n",
       "\n",
       "/* Pipeline/ColumnTransformer-specific style */\n",
       "\n",
       "#sk-container-id-8 div.sk-label input.sk-toggleable__control:checked~label.sk-toggleable__label {\n",
       "  color: var(--sklearn-color-text);\n",
       "  background-color: var(--sklearn-color-unfitted-level-2);\n",
       "}\n",
       "\n",
       "#sk-container-id-8 div.sk-label.fitted input.sk-toggleable__control:checked~label.sk-toggleable__label {\n",
       "  background-color: var(--sklearn-color-fitted-level-2);\n",
       "}\n",
       "\n",
       "/* Estimator-specific style */\n",
       "\n",
       "/* Colorize estimator box */\n",
       "#sk-container-id-8 div.sk-estimator input.sk-toggleable__control:checked~label.sk-toggleable__label {\n",
       "  /* unfitted */\n",
       "  background-color: var(--sklearn-color-unfitted-level-2);\n",
       "}\n",
       "\n",
       "#sk-container-id-8 div.sk-estimator.fitted input.sk-toggleable__control:checked~label.sk-toggleable__label {\n",
       "  /* fitted */\n",
       "  background-color: var(--sklearn-color-fitted-level-2);\n",
       "}\n",
       "\n",
       "#sk-container-id-8 div.sk-label label.sk-toggleable__label,\n",
       "#sk-container-id-8 div.sk-label label {\n",
       "  /* The background is the default theme color */\n",
       "  color: var(--sklearn-color-text-on-default-background);\n",
       "}\n",
       "\n",
       "/* On hover, darken the color of the background */\n",
       "#sk-container-id-8 div.sk-label:hover label.sk-toggleable__label {\n",
       "  color: var(--sklearn-color-text);\n",
       "  background-color: var(--sklearn-color-unfitted-level-2);\n",
       "}\n",
       "\n",
       "/* Label box, darken color on hover, fitted */\n",
       "#sk-container-id-8 div.sk-label.fitted:hover label.sk-toggleable__label.fitted {\n",
       "  color: var(--sklearn-color-text);\n",
       "  background-color: var(--sklearn-color-fitted-level-2);\n",
       "}\n",
       "\n",
       "/* Estimator label */\n",
       "\n",
       "#sk-container-id-8 div.sk-label label {\n",
       "  font-family: monospace;\n",
       "  font-weight: bold;\n",
       "  display: inline-block;\n",
       "  line-height: 1.2em;\n",
       "}\n",
       "\n",
       "#sk-container-id-8 div.sk-label-container {\n",
       "  text-align: center;\n",
       "}\n",
       "\n",
       "/* Estimator-specific */\n",
       "#sk-container-id-8 div.sk-estimator {\n",
       "  font-family: monospace;\n",
       "  border: 1px dotted var(--sklearn-color-border-box);\n",
       "  border-radius: 0.25em;\n",
       "  box-sizing: border-box;\n",
       "  margin-bottom: 0.5em;\n",
       "  /* unfitted */\n",
       "  background-color: var(--sklearn-color-unfitted-level-0);\n",
       "}\n",
       "\n",
       "#sk-container-id-8 div.sk-estimator.fitted {\n",
       "  /* fitted */\n",
       "  background-color: var(--sklearn-color-fitted-level-0);\n",
       "}\n",
       "\n",
       "/* on hover */\n",
       "#sk-container-id-8 div.sk-estimator:hover {\n",
       "  /* unfitted */\n",
       "  background-color: var(--sklearn-color-unfitted-level-2);\n",
       "}\n",
       "\n",
       "#sk-container-id-8 div.sk-estimator.fitted:hover {\n",
       "  /* fitted */\n",
       "  background-color: var(--sklearn-color-fitted-level-2);\n",
       "}\n",
       "\n",
       "/* Specification for estimator info (e.g. \"i\" and \"?\") */\n",
       "\n",
       "/* Common style for \"i\" and \"?\" */\n",
       "\n",
       ".sk-estimator-doc-link,\n",
       "a:link.sk-estimator-doc-link,\n",
       "a:visited.sk-estimator-doc-link {\n",
       "  float: right;\n",
       "  font-size: smaller;\n",
       "  line-height: 1em;\n",
       "  font-family: monospace;\n",
       "  background-color: var(--sklearn-color-background);\n",
       "  border-radius: 1em;\n",
       "  height: 1em;\n",
       "  width: 1em;\n",
       "  text-decoration: none !important;\n",
       "  margin-left: 0.5em;\n",
       "  text-align: center;\n",
       "  /* unfitted */\n",
       "  border: var(--sklearn-color-unfitted-level-1) 1pt solid;\n",
       "  color: var(--sklearn-color-unfitted-level-1);\n",
       "}\n",
       "\n",
       ".sk-estimator-doc-link.fitted,\n",
       "a:link.sk-estimator-doc-link.fitted,\n",
       "a:visited.sk-estimator-doc-link.fitted {\n",
       "  /* fitted */\n",
       "  border: var(--sklearn-color-fitted-level-1) 1pt solid;\n",
       "  color: var(--sklearn-color-fitted-level-1);\n",
       "}\n",
       "\n",
       "/* On hover */\n",
       "div.sk-estimator:hover .sk-estimator-doc-link:hover,\n",
       ".sk-estimator-doc-link:hover,\n",
       "div.sk-label-container:hover .sk-estimator-doc-link:hover,\n",
       ".sk-estimator-doc-link:hover {\n",
       "  /* unfitted */\n",
       "  background-color: var(--sklearn-color-unfitted-level-3);\n",
       "  color: var(--sklearn-color-background);\n",
       "  text-decoration: none;\n",
       "}\n",
       "\n",
       "div.sk-estimator.fitted:hover .sk-estimator-doc-link.fitted:hover,\n",
       ".sk-estimator-doc-link.fitted:hover,\n",
       "div.sk-label-container:hover .sk-estimator-doc-link.fitted:hover,\n",
       ".sk-estimator-doc-link.fitted:hover {\n",
       "  /* fitted */\n",
       "  background-color: var(--sklearn-color-fitted-level-3);\n",
       "  color: var(--sklearn-color-background);\n",
       "  text-decoration: none;\n",
       "}\n",
       "\n",
       "/* Span, style for the box shown on hovering the info icon */\n",
       ".sk-estimator-doc-link span {\n",
       "  display: none;\n",
       "  z-index: 9999;\n",
       "  position: relative;\n",
       "  font-weight: normal;\n",
       "  right: .2ex;\n",
       "  padding: .5ex;\n",
       "  margin: .5ex;\n",
       "  width: min-content;\n",
       "  min-width: 20ex;\n",
       "  max-width: 50ex;\n",
       "  color: var(--sklearn-color-text);\n",
       "  box-shadow: 2pt 2pt 4pt #999;\n",
       "  /* unfitted */\n",
       "  background: var(--sklearn-color-unfitted-level-0);\n",
       "  border: .5pt solid var(--sklearn-color-unfitted-level-3);\n",
       "}\n",
       "\n",
       ".sk-estimator-doc-link.fitted span {\n",
       "  /* fitted */\n",
       "  background: var(--sklearn-color-fitted-level-0);\n",
       "  border: var(--sklearn-color-fitted-level-3);\n",
       "}\n",
       "\n",
       ".sk-estimator-doc-link:hover span {\n",
       "  display: block;\n",
       "}\n",
       "\n",
       "/* \"?\"-specific style due to the `<a>` HTML tag */\n",
       "\n",
       "#sk-container-id-8 a.estimator_doc_link {\n",
       "  float: right;\n",
       "  font-size: 1rem;\n",
       "  line-height: 1em;\n",
       "  font-family: monospace;\n",
       "  background-color: var(--sklearn-color-background);\n",
       "  border-radius: 1rem;\n",
       "  height: 1rem;\n",
       "  width: 1rem;\n",
       "  text-decoration: none;\n",
       "  /* unfitted */\n",
       "  color: var(--sklearn-color-unfitted-level-1);\n",
       "  border: var(--sklearn-color-unfitted-level-1) 1pt solid;\n",
       "}\n",
       "\n",
       "#sk-container-id-8 a.estimator_doc_link.fitted {\n",
       "  /* fitted */\n",
       "  border: var(--sklearn-color-fitted-level-1) 1pt solid;\n",
       "  color: var(--sklearn-color-fitted-level-1);\n",
       "}\n",
       "\n",
       "/* On hover */\n",
       "#sk-container-id-8 a.estimator_doc_link:hover {\n",
       "  /* unfitted */\n",
       "  background-color: var(--sklearn-color-unfitted-level-3);\n",
       "  color: var(--sklearn-color-background);\n",
       "  text-decoration: none;\n",
       "}\n",
       "\n",
       "#sk-container-id-8 a.estimator_doc_link.fitted:hover {\n",
       "  /* fitted */\n",
       "  background-color: var(--sklearn-color-fitted-level-3);\n",
       "}\n",
       "</style><div id=\"sk-container-id-8\" class=\"sk-top-container\"><div class=\"sk-text-repr-fallback\"><pre>KNeighborsRegressor()</pre><b>In a Jupyter environment, please rerun this cell to show the HTML representation or trust the notebook. <br />On GitHub, the HTML representation is unable to render, please try loading this page with nbviewer.org.</b></div><div class=\"sk-container\" hidden><div class=\"sk-item\"><div class=\"sk-estimator fitted sk-toggleable\"><input class=\"sk-toggleable__control sk-hidden--visually\" id=\"sk-estimator-id-8\" type=\"checkbox\" checked><label for=\"sk-estimator-id-8\" class=\"sk-toggleable__label fitted sk-toggleable__label-arrow\"><div><div>KNeighborsRegressor</div></div><div><a class=\"sk-estimator-doc-link fitted\" rel=\"noreferrer\" target=\"_blank\" href=\"https://scikit-learn.org/1.6/modules/generated/sklearn.neighbors.KNeighborsRegressor.html\">?<span>Documentation for KNeighborsRegressor</span></a><span class=\"sk-estimator-doc-link fitted\">i<span>Fitted</span></span></div></label><div class=\"sk-toggleable__content fitted\"><pre>KNeighborsRegressor()</pre></div> </div></div></div></div>"
      ],
      "text/plain": [
       "KNeighborsRegressor()"
      ]
     },
     "execution_count": 270,
     "metadata": {},
     "output_type": "execute_result"
    }
   ],
   "source": [
    "#[4-2] 학습 => 학습용 데이터셋 사용 : 규칙/패턴 X  즉, 모델 없음\n",
    "model.fit(train_data,train_label)"
   ]
  },
  {
   "cell_type": "code",
   "execution_count": 271,
   "metadata": {},
   "outputs": [
    {
     "name": "stdout",
     "output_type": "stream",
     "text": [
      "1\n",
      "42\n",
      "euclidean\n"
     ]
    }
   ],
   "source": [
    "# => fit 후 학습데이터 확인\n",
    "print(model.n_features_in_)\n",
    "print(model.n_samples_fit_)\n",
    "#print(model.feature_names_in_)\n",
    "print(model.effective_metric_)"
   ]
  },
  {
   "cell_type": "code",
   "execution_count": 272,
   "metadata": {},
   "outputs": [
    {
     "data": {
      "text/plain": [
       "array([  77.3 ,  761.  , 1040.  ,  841.  ,  104.  ,  659.  ,  897.  ,\n",
       "        123.  ,   77.3 ,   61.48,  113.  ,  841.  ,  126.  ,  272.4 ,\n",
       "        897.  ,  123.  ,  659.  ,   77.3 ,  113.  ,  118.  ,  841.  ,\n",
       "        272.4 ,  157.  ,  113.  ,  696.2 ,  123.  , 1040.  ,  696.2 ,\n",
       "        696.2 , 1040.  , 1040.  ,   84.  , 1004.  ,  897.  ,  240.4 ,\n",
       "        183.4 ,  214.4 ,  897.  ,  248.4 ,  123.  ,  272.4 ,   98.  ])"
      ]
     },
     "execution_count": 272,
     "metadata": {},
     "output_type": "execute_result"
    }
   ],
   "source": [
    "# [4-3] 훈련데이터셋으로 예측  => predict(2D_피쳐데이터)\n",
    "model.predict(train_data)"
   ]
  },
  {
   "cell_type": "code",
   "execution_count": 273,
   "metadata": {},
   "outputs": [
    {
     "data": {
      "text/plain": [
       "RangeIndex(start=0, stop=3, step=1)"
      ]
     },
     "execution_count": 273,
     "metadata": {},
     "output_type": "execute_result"
    }
   ],
   "source": [
    "train_data.index[:3]"
   ]
  },
  {
   "cell_type": "code",
   "execution_count": 274,
   "metadata": {},
   "outputs": [
    {
     "data": {
      "text/plain": [
       "array([  77.3,  761. , 1040. ])"
      ]
     },
     "execution_count": 274,
     "metadata": {},
     "output_type": "execute_result"
    }
   ],
   "source": [
    "# [4-3] 훈련데이터셋으로 예측  => predict(2D_피쳐데이터)\n",
    "# 생성 길이에 대한 무게 예측 결과\n",
    "pre_weight = model.predict(train_data.iloc[:3])\n",
    "pre_weight"
   ]
  },
  {
   "cell_type": "code",
   "execution_count": 275,
   "metadata": {},
   "outputs": [
    {
     "data": {
      "text/plain": [
       "array([  77.3 ,  761.  , 1040.  ,  841.  ,  104.  ,  659.  ,  897.  ,\n",
       "        123.  ,   77.3 ,   61.48,  113.  ,  841.  ,  126.  ,  272.4 ,\n",
       "        897.  ,  123.  ,  659.  ,   77.3 ,  113.  ,  118.  ,  841.  ,\n",
       "        272.4 ,  157.  ,  113.  ,  696.2 ,  123.  , 1040.  ,  696.2 ,\n",
       "        696.2 , 1040.  , 1040.  ,   84.  , 1004.  ,  897.  ,  240.4 ,\n",
       "        183.4 ,  214.4 ,  897.  ,  248.4 ,  123.  ,  272.4 ,   98.  ])"
      ]
     },
     "execution_count": 275,
     "metadata": {},
     "output_type": "execute_result"
    }
   ],
   "source": [
    "# [4-3] 훈련데이터셋으로 예측  => predict(2D_피쳐데이터)\n",
    "# 생성 길이에 대한 무게 예측 결과\n",
    "pre_weight = model.predict(train_data)\n",
    "pre_weight"
   ]
  },
  {
   "cell_type": "code",
   "execution_count": 276,
   "metadata": {},
   "outputs": [
    {
     "data": {
      "text/plain": [
       "0     100.0\n",
       "1     700.0\n",
       "2    1100.0\n",
       "Name: 1, dtype: float64"
      ]
     },
     "execution_count": 276,
     "metadata": {},
     "output_type": "execute_result"
    }
   ],
   "source": [
    "train_label[:3]"
   ]
  },
  {
   "cell_type": "markdown",
   "metadata": {},
   "source": [
    "[모델 성능 평가] "
   ]
  },
  {
   "cell_type": "code",
   "execution_count": 277,
   "metadata": {},
   "outputs": [
    {
     "name": "stdout",
     "output_type": "stream",
     "text": [
      "[TRAIN] score => 0.9732268012442881 rmse => 60.02638237435587\n"
     ]
    }
   ],
   "source": [
    "## 모델 성능 평가 =>  score(2d_피쳐, 1D_타겟) : 모델 적합도\n",
    "score = model.score(train_data, train_label)\n",
    "\n",
    "score\n",
    "\n",
    "# 손실 계산 평가 => rmse, mse, mae... (1D_타겟, 1D_예측값)\n",
    "rmse = root_mean_squared_error(train_label, pre_weight)\n",
    "print(f'[TRAIN] score => {score} rmse => {rmse}' ) \n"
   ]
  },
  {
   "cell_type": "code",
   "execution_count": null,
   "metadata": {},
   "outputs": [
    {
     "name": "stdout",
     "output_type": "stream",
     "text": [
      "[TEST] score => 0.963783934800023 rmse => 29.07113161425494\n"
     ]
    }
   ],
   "source": [
    "# [4-4] 테스트데이터셋 으로 예측 \n",
    "\n",
    "# \n",
    "pre_weight = model.predict(test_data)\n",
    "# 모델 성능 평가 => score()\n",
    "score = model.score(test_data, test_label)\n",
    "# 손실 계산 평가 => rmse, mse, mae... (1D_타겟, 1D_예측값)\n",
    "rmse = root_mean_squared_error(test_label, pre_weight)\n",
    "print(f'[TEST] score => {score} rmse => {rmse}' ) \n"
   ]
  },
  {
   "cell_type": "markdown",
   "metadata": {},
   "source": [
    "[5] 최근접이웃 알고리즘의 동작원리 확인 <hr>\n",
    "- k개만큼 가까이 있는 데이터를 추출\n",
    "- 회귀 => K 개의 값을 모두 더한 후 평균"
   ]
  },
  {
   "cell_type": "code",
   "execution_count": 279,
   "metadata": {},
   "outputs": [
    {
     "data": {
      "text/plain": [
       "(2    18.0\n",
       " Name: 0, dtype: float64,\n",
       " np.float64(100.0))"
      ]
     },
     "execution_count": 279,
     "metadata": {},
     "output_type": "execute_result"
    }
   ],
   "source": [
    "# - 데이터 저장\n",
    "train_data.iloc[0], train_label[0]"
   ]
  },
  {
   "cell_type": "code",
   "execution_count": 280,
   "metadata": {},
   "outputs": [
    {
     "data": {
      "text/plain": [
       "(      2\n",
       " 0  18.0,\n",
       " 0    100.0\n",
       " Name: 1, dtype: float64)"
      ]
     },
     "execution_count": 280,
     "metadata": {},
     "output_type": "execute_result"
    }
   ],
   "source": [
    "train_data.head(1),train_label.head(1)"
   ]
  },
  {
   "cell_type": "code",
   "execution_count": 281,
   "metadata": {},
   "outputs": [
    {
     "name": "stdout",
     "output_type": "stream",
     "text": [
      "distance => [[0.  0.6 1.  1.  1.6]] \n",
      " indices => [[31 41  4  0 17]]\n",
      "label_idx  [31 41  4  0 17],data_idx  [[31 41  4  0 17]]\n"
     ]
    }
   ],
   "source": [
    "# 이웃 찾기 : kneighbora  (2D)\n",
    "disance, indices = model.kneighbors([[19.0]])\n",
    "\n",
    "\n",
    "# -19.0 데이터랑 거리가 가까운 k개 즉, 5개 데이터의 인덱스\n",
    "print(f'distance => {disance} \\n indices => {indices}')\n",
    "\n",
    "# => 이웃 데이터 인덱스 2D ==> 1D\n",
    "label_idx = indices.reshape(-1)\n",
    "data_idx = indices\n",
    "\n",
    "print(f'label_idx  {label_idx },data_idx  {data_idx }')"
   ]
  },
  {
   "cell_type": "code",
   "execution_count": 282,
   "metadata": {},
   "outputs": [
    {
     "data": {
      "text/plain": [
       "(       2\n",
       " 31  19.0\n",
       " 41  19.6\n",
       " 4   20.0\n",
       " 0   18.0\n",
       " 17  17.4,\n",
       " 31     80.0\n",
       " 41     85.0\n",
       " 4      85.0\n",
       " 0     100.0\n",
       " 17     70.0\n",
       " Name: 1, dtype: float64)"
      ]
     },
     "execution_count": 282,
     "metadata": {},
     "output_type": "execute_result"
    }
   ],
   "source": [
    "# => 이웃 데이터의 길이와 무게 값 추출\n",
    "train_data.iloc[label_idx], train_label[label_idx]"
   ]
  },
  {
   "cell_type": "code",
   "execution_count": 283,
   "metadata": {},
   "outputs": [
    {
     "data": {
      "text/plain": [
       "31     80.0\n",
       "41     85.0\n",
       "4      85.0\n",
       "0     100.0\n",
       "17     70.0\n",
       "Name: 1, dtype: float64"
      ]
     },
     "execution_count": 283,
     "metadata": {},
     "output_type": "execute_result"
    }
   ],
   "source": [
    "train_label.iloc[label_idx]\n"
   ]
  },
  {
   "cell_type": "code",
   "execution_count": 284,
   "metadata": {},
   "outputs": [],
   "source": [
    "indices = indices.reshape(-1)"
   ]
  },
  {
   "cell_type": "code",
   "execution_count": 285,
   "metadata": {},
   "outputs": [
    {
     "data": {
      "text/plain": [
       "(31     80.0\n",
       " 41     85.0\n",
       " 4      85.0\n",
       " 0     100.0\n",
       " 17     70.0\n",
       " Name: 1, dtype: float64,\n",
       "       2\n",
       " 0  18.0\n",
       " 1  37.0)"
      ]
     },
     "execution_count": 285,
     "metadata": {},
     "output_type": "execute_result"
    }
   ],
   "source": [
    "train_label[indices], train_data.iloc[[0,1]]"
   ]
  },
  {
   "cell_type": "code",
   "execution_count": 286,
   "metadata": {},
   "outputs": [
    {
     "data": {
      "text/plain": [
       "array([[31],\n",
       "       [41],\n",
       "       [ 4],\n",
       "       [ 0],\n",
       "       [17]])"
      ]
     },
     "execution_count": 286,
     "metadata": {},
     "output_type": "execute_result"
    }
   ],
   "source": [
    "indices.reshape(-1,1)"
   ]
  },
  {
   "cell_type": "code",
   "execution_count": 287,
   "metadata": {},
   "outputs": [
    {
     "data": {
      "image/png": "[encoded data removed]",
      "text/plain": [
       "<Figure size 640x480 with 1 Axes>"
      ]
     },
     "metadata": {},
     "output_type": "display_data"
    }
   ],
   "source": [
    "# 시각화  => \n",
    "# 1번 컬럼 => Weight, 2번 컬럼 => Length\n",
    "plt.plot(fish_df[2],fish_df[1],'o', label='DATA')\n",
    "\n",
    "\n",
    "plt.plot(train_data.iloc[label_idx] , train_label.iloc[label_idx],'r^', label = 'Neighber')\n",
    "plt.plot(train_data.iloc[0], train_label[0],'ro', label = 'POINT')\n",
    "\n",
    "plt.xlabel('Lenght')\n",
    "plt.ylabel('Weight')\n",
    "plt.title('[Length & weight]')\n",
    "plt.legend()\n",
    "plt.show()"
   ]
  },
  {
   "cell_type": "code",
   "execution_count": 288,
   "metadata": {},
   "outputs": [
    {
     "name": "stdout",
     "output_type": "stream",
     "text": [
      "2    18.0\n",
      "Name: 0, dtype: float64\n",
      "2    37.0\n",
      "Name: 1, dtype: float64\n"
     ]
    }
   ],
   "source": [
    "# 데이터 지정\n",
    "\n",
    "print( train_data.iloc[0])\n",
    "print( train_data.iloc[1])"
   ]
  },
  {
   "cell_type": "code",
   "execution_count": 289,
   "metadata": {},
   "outputs": [
    {
     "name": "stdout",
     "output_type": "stream",
     "text": [
      "길이 19.0 생선의 무게는 [248.4   77.3  272.4  214.4  126.   123.   761.    61.48 136.   183.4\n",
      " 272.4  335.8  126.   272.4   84.  ] 로 예측됩니다.\n"
     ]
    }
   ],
   "source": [
    "# 예측값 : K개 즉, 5개 이웃 데이터의 무게 Weight를 평균 낸 것으로 예측값 반환 \n",
    "train_label[ label_idx ].mean()\n",
    "\n",
    "print(f'길이 19.0 생선의 무게는 {pre_weight} 로 예측됩니다.')"
   ]
  },
  {
   "cell_type": "code",
   "execution_count": 290,
   "metadata": {},
   "outputs": [
    {
     "name": "stdout",
     "output_type": "stream",
     "text": [
      "길이 19.0 생선의 무게는 [84.] 로 예측됩니다.\n"
     ]
    }
   ],
   "source": [
    "# \n",
    "pre_weight = model.predict([[19.0]])\n",
    "\n",
    "print(f'길이 19.0 생선의 무게는 {pre_weight} 로 예측됩니다.')"
   ]
  },
  {
   "cell_type": "code",
   "execution_count": null,
   "metadata": {},
   "outputs": [],
   "source": []
  },
  {
   "cell_type": "markdown",
   "metadata": {},
   "source": [
    "[6] 최적의 k 찾기 <hr>\n",
    "- 최근접 이웃 갯수 => K\n",
    "- 기본값 : 5\n",
    "- 나의 데이터에 최적인 k 찾기\n",
    "\t* 1 ~ 전체데이터 수만큼 k값 변경한 KNR 인스턴스 생성\n",
    "\t* 학습,예측, 성능평가, 비용계산 결과 비교\n",
    "\t* 성능평가 높고, 비용계산 낮은 K 결정"
   ]
  },
  {
   "cell_type": "code",
   "execution_count": 291,
   "metadata": {},
   "outputs": [
    {
     "name": "stdout",
     "output_type": "stream",
     "text": [
      "0.9778103352618532\n",
      "0.9771710230238212\n",
      "0.9768523688134045\n",
      "0.9767030199069813\n",
      "0.9732268012442881\n",
      "0.972297133856694\n",
      "0.9698226996769107\n",
      "0.9719458395434867\n",
      "0.9715808021969745\n",
      "0.9642857084027222\n",
      "0.9593829503182941\n",
      "0.9557893062259528\n",
      "0.9526445120080917\n",
      "0.9470921688448841\n",
      "0.942361959951946\n",
      "0.9406127048622176\n",
      "0.9300095292639539\n",
      "0.9200986854687825\n",
      "0.9109705019169935\n",
      "0.9001202514671586\n",
      "0.8873027953781766\n",
      "0.8703527886672852\n",
      "0.848822261212601\n",
      "0.8263671636807902\n",
      "0.803338247040258\n",
      "0.7715857754658833\n",
      "0.7387724361305661\n",
      "0.7014772059212638\n",
      "0.6632220878405533\n",
      "0.6256691479892811\n",
      "0.5866771786316181\n",
      "0.5423000976051829\n",
      "0.49487509105578054\n",
      "0.44653738180166436\n",
      "0.3965052003330837\n",
      "0.3440781686563642\n",
      "0.29278294303219554\n",
      "0.23264948608973035\n",
      "0.17613681954871163\n",
      "0.11330079522483794\n",
      "0.056182561142903986\n",
      "0.0\n"
     ]
    }
   ],
   "source": [
    "datanums = train_data.shape[0]\n",
    "\n",
    "# k 갯수에 따른 모델 성능 과 비용 함수값 저장\n",
    "# HISTORYS = [[],[]] #  [ score_list , rmse_list ] \n",
    "HISTORYS = {'score':[], 'rmse':[]}\n",
    "\n",
    "# k 갯수에 따른 모델 성능 및 비용 계산\n",
    "for k in range(1, datanums+1):\n",
    "\t# KNR 인스턴스 생성\n",
    "\tmodel = KNeighborsRegressor(n_neighbors=k)\n",
    "\t# KNR 학습 및 예측 \n",
    "\tmodel.fit(train_data, train_label)\n",
    "\tpre_ = model.predict(train_data)\n",
    "\t\n",
    "\t# KNR 성능평가 및 비용계산 \n",
    "\tscore =  model.score(train_data,train_label)\n",
    "\trmse = root_mean_squared_error(train_label, pre_)\n",
    "\n",
    "\n",
    "\t# 저장\n",
    "\tHISTORYS['score'].append(score)\n",
    "\tHISTORYS['rmse'].append(rmse)\n",
    "\tprint(score)"
   ]
  },
  {
   "cell_type": "code",
   "execution_count": 292,
   "metadata": {},
   "outputs": [
    {
     "data": {
      "image/png": "[encoded data removed]",
      "text/plain": [
       "<Figure size 640x480 with 1 Axes>"
      ]
     },
     "metadata": {},
     "output_type": "display_data"
    }
   ],
   "source": [
    "plt.plot(range(1,datanums+1), HISTORYS['score'])\n",
    "plt.xlabel('K')\n",
    "plt.ylabel('Score')\n",
    "plt.title('K & title')\n",
    "plt.grid()\n",
    "plt.show()"
   ]
  },
  {
   "cell_type": "code",
   "execution_count": 293,
   "metadata": {},
   "outputs": [
    {
     "data": {
      "image/png": "[encoded data removed]",
      "text/plain": [
       "<Figure size 1000x400 with 2 Axes>"
      ]
     },
     "metadata": {},
     "output_type": "display_data"
    }
   ],
   "source": [
    "fig, axes = plt.subplots(1,2, figsize=(10,4))\n",
    "axes = axes.flatten()\n",
    "for ax, ylabel in zip(axes, ['score','rmse']):\n",
    "\tax.plot(range(1,datanums+1), HISTORYS[ylabel], 'ro')\n",
    "\tax.set_ylabel(ylabel)\n",
    "\tax.set_title(f'[K & {ylabel}]')\n",
    "plt.show()"
   ]
  },
  {
   "cell_type": "code",
   "execution_count": 299,
   "metadata": {},
   "outputs": [
    {
     "data": {
      "image/png": "[encoded data removed]",
      "text/plain": [
       "<Figure size 640x480 with 2 Axes>"
      ]
     },
     "metadata": {},
     "output_type": "display_data"
    }
   ],
   "source": [
    "fig, axes1 = plt.subplots()\n",
    "axes1.plot(range(1,datanums+1), HISTORYS['score'],'o', label= 'SCORE')\n",
    "axes1.set_ylabel('SCORE')\n",
    "\n",
    "axes2 = axes1.twinx()\n",
    "axes2.plot(range(1,datanums+1), HISTORYS[ylabel], 'ro')\n",
    "axes2.set_ylabel('RSME')\n",
    "plt.title('SCORE & RSME ')\n",
    "plt.show()"
   ]
  },
  {
   "cell_type": "code",
   "execution_count": 294,
   "metadata": {},
   "outputs": [
    {
     "data": {
      "image/png": "[encoded data removed]",
      "text/plain": [
       "<Figure size 640x480 with 2 Axes>"
      ]
     },
     "metadata": {},
     "output_type": "display_data"
    }
   ],
   "source": [
    "# 데이터 준비\n",
    "x_values = range(1, datanums + 1)\n",
    "score_values = HISTORYS['score']\n",
    "rmse_values = HISTORYS['rmse']\n",
    "\n",
    "# 첫 번째 y축: SCORE\n",
    "fig, ax1 = plt.subplots()\n",
    "ax1.plot(x_values, score_values, 'bo-', label='SCORE')\n",
    "ax1.set_xlabel('k')  # x축 레이블\n",
    "ax1.set_ylabel('SCORE', color='blue')  # 첫 번째 y축 레이블\n",
    "ax1.tick_params(axis='y', labelcolor='blue')  # y축 색상\n",
    "\n",
    "# 두 번째 y축: RMSE\n",
    "ax2 = ax1.twinx()  # x축은 공유하고 y축은 독립적으로 설정\n",
    "ax2.plot(x_values, rmse_values, 'ro-', label='RMSE')\n",
    "ax2.set_ylabel('RMSE', color='red')  # 두 번째 y축 레이블\n",
    "ax2.tick_params(axis='y', labelcolor='red')  # y축 색상\n",
    "\n",
    "# 그래프 제목 및 범례 추가\n",
    "fig.tight_layout()  # 그래프 간 여백 자동 조정\n",
    "plt.title('SCORE vs RMSE for Different k values')\n",
    "plt.show()\n"
   ]
  }
 ],
 "metadata": {
  "kernelspec": {
   "display_name": "ML_PY39",
   "language": "python",
   "name": "python3"
  },
  "language_info": {
   "codemirror_mode": {
    "name": "ipython",
    "version": 3
   },
   "file_extension": ".py",
   "mimetype": "text/x-python",
   "name": "python",
   "nbconvert_exporter": "python",
   "pygments_lexer": "ipython3",
   "version": "3.9.21"
  }
 },
 "nbformat": 4,
 "nbformat_minor": 2
}
