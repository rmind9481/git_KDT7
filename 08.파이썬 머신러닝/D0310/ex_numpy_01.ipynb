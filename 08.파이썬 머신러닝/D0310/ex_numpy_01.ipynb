{
 "cells": [
  {
   "cell_type": "markdown",
   "metadata": {},
   "source": [
    "### [ Numpy - ndarray 데이터 타입]\n",
    "-\t자료형/데이터 타입 : ndarray 타입\n",
    "-\tC언어의 array 를 python으로 구현\n",
    "-\t[중요] 동일한 데이터 탕비의 데이터를 연속된 메모리 공간에 저장함\n",
    "-\t[효과] 적은 메모리 사용 및 빠른처리"
   ]
  },
  {
   "cell_type": "markdown",
   "metadata": {},
   "source": [
    "[1] 모듈로딩 <hr>"
   ]
  },
  {
   "cell_type": "code",
   "execution_count": 24,
   "metadata": {},
   "outputs": [],
   "source": [
    "import numpy as np\n",
    "import pandas as pd"
   ]
  },
  {
   "cell_type": "markdown",
   "metadata": {},
   "source": [
    "[2] ndarray 객체 살펴보기 <hr>"
   ]
  },
  {
   "cell_type": "code",
   "execution_count": 25,
   "metadata": {},
   "outputs": [],
   "source": [
    "# ndarray 객체 생성\n",
    "n0 = np.array(10)\n",
    "n1 = np.array([10,20])\n",
    "n11 = np.array([10,20], dtype=np.uint8)\n",
    "n2 = np.array([[10,20],[30,40],[50,60]])\n",
    "n3 = np.array([[[10,20],[30,40],[50,60]],\n",
    "\t\t\t\t[[10,20],[30,40],[50,60]],\n",
    "\t\t\t\t[[10,20],[30,40],[50,60]]])\n"
   ]
  },
  {
   "cell_type": "code",
   "execution_count": 26,
   "metadata": {},
   "outputs": [],
   "source": [
    "# ndarray 객체 속성\n",
    "def print_info(obj):\n",
    "\tprint(f'차 원  :{obj.ndim} D')\n",
    "\tprint(f'형 태 : {obj.shape}')\n",
    "\tprint(f'데이터 :  {obj.data}')\n",
    "\tprint(f'원 소 : {obj.itemsize}')\n",
    "\tprint(f'크 기 : {obj.size}')\n",
    "\tprint(f'타 입  : {obj.dtype}')\n",
    "\tprint(f'방 향 : {obj.strides}')\n",
    "\tprint(f'용 량 : {obj.nbytes}')"
   ]
  },
  {
   "cell_type": "code",
   "execution_count": 28,
   "metadata": {},
   "outputs": [
    {
     "name": "stdout",
     "output_type": "stream",
     "text": [
      "차 원  :0 D\n",
      "형 태 : ()\n",
      "데이터 :  <memory at 0x000001A7370AC180>\n",
      "원 소 : 8\n",
      "크 기 : 1\n",
      "타 입  : int64\n",
      "방 향 : ()\n",
      "용 량 : 8\n",
      "\n",
      "차 원  :1 D\n",
      "형 태 : (2,)\n",
      "데이터 :  <memory at 0x000001A736B5DAC0>\n",
      "원 소 : 8\n",
      "크 기 : 2\n",
      "타 입  : int64\n",
      "방 향 : (8,)\n",
      "용 량 : 16\n",
      "\n",
      "차 원  :1 D\n",
      "형 태 : (2,)\n",
      "데이터 :  <memory at 0x000001A736B5D940>\n",
      "원 소 : 1\n",
      "크 기 : 2\n",
      "타 입  : uint8\n",
      "방 향 : (1,)\n",
      "용 량 : 2\n",
      "\n",
      "차 원  :2 D\n",
      "형 태 : (3, 2)\n",
      "데이터 :  <memory at 0x000001A737072790>\n",
      "원 소 : 8\n",
      "크 기 : 6\n",
      "타 입  : int64\n",
      "방 향 : (16, 8)\n",
      "용 량 : 48\n",
      "\n",
      "차 원  :3 D\n",
      "형 태 : (3, 3, 2)\n",
      "데이터 :  <memory at 0x000001A7370B4130>\n",
      "원 소 : 8\n",
      "크 기 : 18\n",
      "타 입  : int64\n",
      "방 향 : (48, 16, 8)\n",
      "용 량 : 144\n"
     ]
    }
   ],
   "source": [
    "print_info(n0)\n",
    "print()\n",
    "print_info(n1)\n",
    "print()\n",
    "print_info(n11)\n",
    "print()\n",
    "print_info(n2)\n",
    "print()\n",
    "print_info(n3)\n"
   ]
  },
  {
   "cell_type": "code",
   "execution_count": null,
   "metadata": {},
   "outputs": [],
   "source": []
  }
 ],
 "metadata": {
  "kernelspec": {
   "display_name": "ML_PY39",
   "language": "python",
   "name": "python3"
  },
  "language_info": {
   "codemirror_mode": {
    "name": "ipython",
    "version": 3
   },
   "file_extension": ".py",
   "mimetype": "text/x-python",
   "name": "python",
   "nbconvert_exporter": "python",
   "pygments_lexer": "ipython3",
   "version": "3.9.21"
  }
 },
 "nbformat": 4,
 "nbformat_minor": 2
}
