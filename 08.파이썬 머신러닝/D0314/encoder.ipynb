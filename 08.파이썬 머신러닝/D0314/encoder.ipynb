{
 "cells": [
  {
   "cell_type": "markdown",
   "metadata": {},
   "source": [
    "## [ Encoder 살펴보기]\n",
    "-\t데이터 전처리시 사용\n",
    "-\t수집 데이터 ==> 수치화 진행"
   ]
  },
  {
   "cell_type": "markdown",
   "metadata": {},
   "source": [
    "[1] 모듈로딩 <hr>"
   ]
  },
  {
   "cell_type": "code",
   "execution_count": null,
   "metadata": {},
   "outputs": [],
   "source": [
    "from sklearn.preprocessing import LabelEncoder, OneHotEncoder, OrdinalEncoder\n"
   ]
  },
  {
   "cell_type": "markdown",
   "metadata": {},
   "source": [
    "[2] LabelEncoder <hr>\n",
    "-\t타겟의 레이블을 0 ~ 클래스 -1 범위의 숫자로 변환 "
   ]
  },
  {
   "cell_type": "code",
   "execution_count": 2,
   "metadata": {},
   "outputs": [
    {
     "name": "stdout",
     "output_type": "stream",
     "text": [
      "[1 2 6]\n"
     ]
    }
   ],
   "source": [
    "# [예시] \n",
    "\n",
    "le = LabelEncoder()\t# 라벨 인코더 인스턴스 생성\n",
    "le.fit([1,2,2,6]) \t# 라벨코더가 변환할 데이터 정보 학습\n",
    "\n",
    "\n",
    "# 모델 파라미터\n",
    "print(le.classes_)"
   ]
  },
  {
   "cell_type": "code",
   "execution_count": 4,
   "metadata": {},
   "outputs": [
    {
     "data": {
      "text/plain": [
       "array([0, 0, 2, 1, 2, 2, 1, 1])"
      ]
     },
     "execution_count": 4,
     "metadata": {},
     "output_type": "execute_result"
    }
   ],
   "source": [
    "# 변환하기\n",
    "le.transform([1,1,6,2,6,6,2,2])"
   ]
  },
  {
   "cell_type": "code",
   "execution_count": null,
   "metadata": {},
   "outputs": [
    {
     "name": "stdout",
     "output_type": "stream",
     "text": [
      "['amsterdam' 'paris' 'tokyo']\n",
      "encoded_y: [1 2 2]\n"
     ]
    },
    {
     "data": {
      "text/plain": [
       "array(['paris', 'tokyo', 'tokyo'], dtype='<U9')"
      ]
     },
     "execution_count": 9,
     "metadata": {},
     "output_type": "execute_result"
    }
   ],
   "source": [
    "# [예시 -2]\n",
    "le = LabelEncoder()\n",
    "le.fit(['paris','paris','tokyo','amsterdam'])\n",
    "\n",
    "# 모델 파라미터 확인 : str인 경우 알파벳 순으로 정수 라벨링\n",
    "print(le.classes_)\n",
    "\n",
    "encoded_y  = le.transform(['paris','tokyo','tokyo'])\t# str => int 변환\n",
    "# 모델 파라미터 확인 : str인 경우 알파벳 순으로 정수 라벨링\n",
    "print(f'encoded_y: {encoded_y}')\n",
    "\n",
    "\n",
    "# - 다시 str로 변환\n",
    "le.inverse_transform(encoded_y)"
   ]
  },
  {
   "cell_type": "markdown",
   "metadata": {},
   "source": [
    "[3] OneHotEncoder <hr>\n",
    "\n",
    "-\t범주형 피쳐 중 순서가 의미없는 피쳐의 경우 사용하는 인코더\n",
    "-\t2D 입력"
   ]
  },
  {
   "cell_type": "code",
   "execution_count": 16,
   "metadata": {},
   "outputs": [
    {
     "name": "stdout",
     "output_type": "stream",
     "text": [
      "피처별 카테고리 정보 : [array(['Femal', 'Male'], dtype=object), array([1, 2, 3], dtype=object)]\n"
     ]
    },
    {
     "data": {
      "text/plain": [
       "array([[1., 0., 0., 1., 0.],\n",
       "       [0., 1., 1., 0., 0.],\n",
       "       [0., 1., 0., 0., 1.]])"
      ]
     },
     "execution_count": 16,
     "metadata": {},
     "output_type": "execute_result"
    }
   ],
   "source": [
    "# [예시 -1] \n",
    "ohEndoer = OneHotEncoder(sparse_output= False) # sparse_output = False 면 one-hot 결과 반환\n",
    "\n",
    "\n",
    "ohEndoer.fit([['Femal',2],['Male',1],['Male',3]])\n",
    "\n",
    "print(f'피처별 카테고리 정보 : {ohEndoer.categories_}')\n",
    "\n",
    "\n",
    "# 변환\n",
    "ohEndoer.transform([['Femal',2],['Male',1],['Male',3]])"
   ]
  },
  {
   "cell_type": "code",
   "execution_count": 18,
   "metadata": {},
   "outputs": [
    {
     "name": "stdout",
     "output_type": "stream",
     "text": [
      "피처별 카테고리 정보 : [array(['Femal', 'Male'], dtype=object), array([1, 2, 3], dtype=object)]\n"
     ]
    },
    {
     "data": {
      "text/plain": [
       "array([[0., 1., 0.],\n",
       "       [1., 0., 0.],\n",
       "       [1., 0., 1.]])"
      ]
     },
     "execution_count": 18,
     "metadata": {},
     "output_type": "execute_result"
    }
   ],
   "source": [
    "# [예시 -2] \n",
    "ohEndoer = OneHotEncoder(sparse_output= False, drop='first') # sparse_output = False 면 one-hot 결과 반환\n",
    "\t\t\t\t\t\t\t\t\t\t\t\t\t\t\t# drop = 'first' 첫번째 자리값 버림\n",
    "\n",
    "ohEndoer.fit([['Femal',2],['Male',1],['Male',3]])\n",
    "print(f'피처별 카테고리 정보 : {ohEndoer.categories_}')\n",
    "\n",
    "\n",
    "# 변환\n",
    "ohEndoer.transform([['Femal',2],['Male',1],['Male',3]])"
   ]
  },
  {
   "cell_type": "code",
   "execution_count": 20,
   "metadata": {},
   "outputs": [
    {
     "name": "stdout",
     "output_type": "stream",
     "text": [
      "피처별 카테고리 정보 : [array(['Femal', 'Male'], dtype=object), array([1, 2, 3], dtype=object)]\n"
     ]
    },
    {
     "data": {
      "text/plain": [
       "array([[1., 0., 0., 1., 0.],\n",
       "       [0., 1., 1., 0., 0.],\n",
       "       [0., 1., 0., 0., 0.]])"
      ]
     },
     "execution_count": 20,
     "metadata": {},
     "output_type": "execute_result"
    }
   ],
   "source": [
    "#[예시 -3]\n",
    "ohEndoer = OneHotEncoder(sparse_output= False, \n",
    "\t\t\t\t\t\t handle_unknown='ignore') # sparse_output = False 면 one-hot 결과 반환\n",
    "\t\t\t\t\t\t\t\t\t\t\t\t\t\t\t# drop = 'first' 첫번째 자리값 버림\n",
    "\t\t\t\t\t\t\t\t\t\t\t\t\t\t\t# handle_unknown 존재하지 않는 범주 처리\n",
    "\n",
    "ohEndoer.fit([['Femal',2],['Male',1],['Male',3]])\n",
    "print(f'피처별 카테고리 정보 : {ohEndoer.categories_}')\n",
    "\n",
    "\n",
    "# 변환\n",
    "ohEndoer.transform([['Femal',2],['Male',1],['Male',4]])\n"
   ]
  },
  {
   "cell_type": "markdown",
   "metadata": {},
   "source": [
    "[4] OrdinalEncoder <hr>\n",
    "-\t범주형 피쳐 중 순서가 중요한 경우 사용하는 인코더 "
   ]
  },
  {
   "cell_type": "code",
   "execution_count": 34,
   "metadata": {},
   "outputs": [
    {
     "name": "stdout",
     "output_type": "stream",
     "text": [
      "피쳐별 카테고리 정보 : [array(['Female', 'Male'], dtype=object), array([1, 2, 3], dtype=object)]\n"
     ]
    },
    {
     "data": {
      "text/plain": [
       "array([[ 0.,  1.],\n",
       "       [ 1., -1.],\n",
       "       [ 0.,  2.]])"
      ]
     },
     "execution_count": 34,
     "metadata": {},
     "output_type": "execute_result"
    }
   ],
   "source": [
    "# [예시 1]\n",
    "import numpy as np\n",
    "# 결측치가 들어 있는 경우에 대한 처리\n",
    "odEncoder = OrdinalEncoder(handle_unknown='use_encoded_value', unknown_value=-1)\n",
    "\n",
    "odEncoder.fit([['Female',2],['Male',1],['Female',3]])\n",
    "print(f'피쳐별 카테고리 정보 : {odEncoder.categories_}')\n",
    "\n",
    "odEncoder.transform([['Female',2],['Male',np.nan],['Female',3]])"
   ]
  },
  {
   "cell_type": "code",
   "execution_count": null,
   "metadata": {},
   "outputs": [],
   "source": []
  }
 ],
 "metadata": {
  "kernelspec": {
   "display_name": "ML_PY39",
   "language": "python",
   "name": "python3"
  },
  "language_info": {
   "codemirror_mode": {
    "name": "ipython",
    "version": 3
   },
   "file_extension": ".py",
   "mimetype": "text/x-python",
   "name": "python",
   "nbconvert_exporter": "python",
   "pygments_lexer": "ipython3",
   "version": "3.9.21"
  }
 },
 "nbformat": 4,
 "nbformat_minor": 2
}
