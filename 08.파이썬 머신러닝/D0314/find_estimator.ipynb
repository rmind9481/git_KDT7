{
 "cells": [
  {
   "cell_type": "markdown",
   "id": "08e3f779",
   "metadata": {
    "id": "08e3f779"
   },
   "source": [
    "#### SKlearn에서 모델 선택  --------------------------------------\n",
    "\n",
    "- 가장 기본 매개변수 값으로 모델 학습\n",
    "- 모델 선택 기준 ==> 평가지표에 따라서 선택"
   ]
  },
  {
   "cell_type": "code",
   "execution_count": 2,
   "id": "731c01ba",
   "metadata": {
    "id": "731c01ba"
   },
   "outputs": [],
   "source": [
    "from sklearn.utils.discovery import *\n",
    "from sklearn.datasets import load_iris\n",
    "from sklearn.metrics import *\n",
    "import warnings"
   ]
  },
  {
   "cell_type": "code",
   "execution_count": 3,
   "id": "69e555cc",
   "metadata": {
    "id": "69e555cc"
   },
   "outputs": [],
   "source": [
    "# {“classifier”, “regressor”, “cluster”, “transformer”} \n",
    "rets=all_estimators(type_filter='classifier')"
   ]
  },
  {
   "cell_type": "code",
   "execution_count": 4,
   "id": "524809c3",
   "metadata": {
    "id": "524809c3",
    "outputId": "eff08b07-158d-4cde-ab6d-7ace4d663ff9"
   },
   "outputs": [
    {
     "data": {
      "text/plain": [
       "[('AdaBoostClassifier', sklearn.ensemble._weight_boosting.AdaBoostClassifier),\n",
       " ('BaggingClassifier', sklearn.ensemble._bagging.BaggingClassifier),\n",
       " ('BernoulliNB', sklearn.naive_bayes.BernoulliNB),\n",
       " ('CalibratedClassifierCV', sklearn.calibration.CalibratedClassifierCV),\n",
       " ('CategoricalNB', sklearn.naive_bayes.CategoricalNB),\n",
       " ('ClassifierChain', sklearn.multioutput.ClassifierChain),\n",
       " ('ComplementNB', sklearn.naive_bayes.ComplementNB),\n",
       " ('DecisionTreeClassifier', sklearn.tree._classes.DecisionTreeClassifier),\n",
       " ('DummyClassifier', sklearn.dummy.DummyClassifier),\n",
       " ('ExtraTreeClassifier', sklearn.tree._classes.ExtraTreeClassifier),\n",
       " ('ExtraTreesClassifier', sklearn.ensemble._forest.ExtraTreesClassifier),\n",
       " ('FixedThresholdClassifier',\n",
       "  sklearn.model_selection._classification_threshold.FixedThresholdClassifier),\n",
       " ('GaussianNB', sklearn.naive_bayes.GaussianNB),\n",
       " ('GaussianProcessClassifier',\n",
       "  sklearn.gaussian_process._gpc.GaussianProcessClassifier),\n",
       " ('GradientBoostingClassifier',\n",
       "  sklearn.ensemble._gb.GradientBoostingClassifier),\n",
       " ('HistGradientBoostingClassifier',\n",
       "  sklearn.ensemble._hist_gradient_boosting.gradient_boosting.HistGradientBoostingClassifier),\n",
       " ('KNeighborsClassifier',\n",
       "  sklearn.neighbors._classification.KNeighborsClassifier),\n",
       " ('LabelPropagation',\n",
       "  sklearn.semi_supervised._label_propagation.LabelPropagation),\n",
       " ('LabelSpreading', sklearn.semi_supervised._label_propagation.LabelSpreading),\n",
       " ('LinearDiscriminantAnalysis',\n",
       "  sklearn.discriminant_analysis.LinearDiscriminantAnalysis),\n",
       " ('LinearSVC', sklearn.svm._classes.LinearSVC),\n",
       " ('LogisticRegression', sklearn.linear_model._logistic.LogisticRegression),\n",
       " ('LogisticRegressionCV', sklearn.linear_model._logistic.LogisticRegressionCV),\n",
       " ('MLPClassifier',\n",
       "  sklearn.neural_network._multilayer_perceptron.MLPClassifier),\n",
       " ('MultiOutputClassifier', sklearn.multioutput.MultiOutputClassifier),\n",
       " ('MultinomialNB', sklearn.naive_bayes.MultinomialNB),\n",
       " ('NearestCentroid', sklearn.neighbors._nearest_centroid.NearestCentroid),\n",
       " ('NuSVC', sklearn.svm._classes.NuSVC),\n",
       " ('OneVsOneClassifier', sklearn.multiclass.OneVsOneClassifier),\n",
       " ('OneVsRestClassifier', sklearn.multiclass.OneVsRestClassifier),\n",
       " ('OutputCodeClassifier', sklearn.multiclass.OutputCodeClassifier),\n",
       " ('PassiveAggressiveClassifier',\n",
       "  sklearn.linear_model._passive_aggressive.PassiveAggressiveClassifier),\n",
       " ('Perceptron', sklearn.linear_model._perceptron.Perceptron),\n",
       " ('QuadraticDiscriminantAnalysis',\n",
       "  sklearn.discriminant_analysis.QuadraticDiscriminantAnalysis),\n",
       " ('RadiusNeighborsClassifier',\n",
       "  sklearn.neighbors._classification.RadiusNeighborsClassifier),\n",
       " ('RandomForestClassifier', sklearn.ensemble._forest.RandomForestClassifier),\n",
       " ('RidgeClassifier', sklearn.linear_model._ridge.RidgeClassifier),\n",
       " ('RidgeClassifierCV', sklearn.linear_model._ridge.RidgeClassifierCV),\n",
       " ('SGDClassifier', sklearn.linear_model._stochastic_gradient.SGDClassifier),\n",
       " ('SVC', sklearn.svm._classes.SVC),\n",
       " ('SelfTrainingClassifier',\n",
       "  sklearn.semi_supervised._self_training.SelfTrainingClassifier),\n",
       " ('StackingClassifier', sklearn.ensemble._stacking.StackingClassifier),\n",
       " ('TunedThresholdClassifierCV',\n",
       "  sklearn.model_selection._classification_threshold.TunedThresholdClassifierCV),\n",
       " ('VotingClassifier', sklearn.ensemble._voting.VotingClassifier)]"
      ]
     },
     "execution_count": 4,
     "metadata": {},
     "output_type": "execute_result"
    }
   ],
   "source": [
    "rets"
   ]
  },
  {
   "cell_type": "code",
   "execution_count": 5,
   "id": "a6f034c2",
   "metadata": {
    "id": "a6f034c2"
   },
   "outputs": [],
   "source": [
    "data, label=load_iris(return_X_y=True)"
   ]
  },
  {
   "cell_type": "code",
   "execution_count": 6,
   "id": "3f47b0b0",
   "metadata": {
    "collapsed": true,
    "id": "3f47b0b0",
    "outputId": "f5942727-45fd-42de-8f8b-cb7c16ec0f12"
   },
   "outputs": [
    {
     "data": {
      "text/plain": [
       "(array([[5.1, 3.5, 1.4, 0.2],\n",
       "        [4.9, 3. , 1.4, 0.2],\n",
       "        [4.7, 3.2, 1.3, 0.2],\n",
       "        [4.6, 3.1, 1.5, 0.2],\n",
       "        [5. , 3.6, 1.4, 0.2]]),\n",
       " array([0, 0, 0, 0, 0]))"
      ]
     },
     "execution_count": 6,
     "metadata": {},
     "output_type": "execute_result"
    }
   ],
   "source": [
    "data[:5], label[:5]"
   ]
  },
  {
   "cell_type": "code",
   "execution_count": 7,
   "id": "dea3174d",
   "metadata": {
    "id": "dea3174d",
    "outputId": "f2545b15-b379-4bd8-a297-f2ad90c50c45"
   },
   "outputs": [],
   "source": [
    "result=[]\n",
    "for name, estimator_ in rets:\n",
    "    try:\n",
    "        model=estimator_()\n",
    "        if 'Logistic' in name or 'SGD' in name or 'MLP' in name:\n",
    "            model.set_params(max_iter=10000)\n",
    "        if 'SV' in name:\n",
    "            model.set_params(max_iter=100000, dual='auto')   \n",
    " \n",
    "        model.fit(data, label)\n",
    "        sc=model.score(data, label)\n",
    "        result.append((name, round(sc, 2)))\n",
    "    except Exception:\n",
    "        pass"
   ]
  },
  {
   "cell_type": "code",
   "execution_count": 8,
   "id": "f5cea81a",
   "metadata": {
    "id": "f5cea81a",
    "outputId": "2af53f1e-0892-4c30-d916-dcd25a288f04"
   },
   "outputs": [
    {
     "data": {
      "text/plain": [
       "[('DecisionTreeClassifier', 1.0),\n",
       " ('ExtraTreeClassifier', 1.0),\n",
       " ('ExtraTreesClassifier', 1.0),\n",
       " ('GradientBoostingClassifier', 1.0),\n",
       " ('HistGradientBoostingClassifier', 1.0),\n",
       " ('LabelPropagation', 1.0),\n",
       " ('LabelSpreading', 1.0),\n",
       " ('RandomForestClassifier', 1.0),\n",
       " ('BaggingClassifier', 0.99),\n",
       " ('AdaBoostClassifier', 0.98),\n",
       " ('LinearDiscriminantAnalysis', 0.98),\n",
       " ('LogisticRegressionCV', 0.98),\n",
       " ('MLPClassifier', 0.98),\n",
       " ('QuadraticDiscriminantAnalysis', 0.98),\n",
       " ('GaussianProcessClassifier', 0.97),\n",
       " ('KNeighborsClassifier', 0.97),\n",
       " ('LinearSVC', 0.97),\n",
       " ('LogisticRegression', 0.97),\n",
       " ('RadiusNeighborsClassifier', 0.97),\n",
       " ('GaussianNB', 0.96),\n",
       " ('MultinomialNB', 0.95),\n",
       " ('CalibratedClassifierCV', 0.93),\n",
       " ('CategoricalNB', 0.93),\n",
       " ('NearestCentroid', 0.93),\n",
       " ('SGDClassifier', 0.92),\n",
       " ('RidgeClassifier', 0.85),\n",
       " ('RidgeClassifierCV', 0.85),\n",
       " ('PassiveAggressiveClassifier', 0.81),\n",
       " ('ComplementNB', 0.67),\n",
       " ('Perceptron', 0.48),\n",
       " ('BernoulliNB', 0.33),\n",
       " ('DummyClassifier', 0.33)]"
      ]
     },
     "execution_count": 8,
     "metadata": {},
     "output_type": "execute_result"
    }
   ],
   "source": [
    "sorted(result, key=lambda x : x[1], reverse=True)"
   ]
  },
  {
   "cell_type": "code",
   "execution_count": null,
   "id": "cb1cb4ee",
   "metadata": {
    "id": "cb1cb4ee"
   },
   "outputs": [],
   "source": []
  },
  {
   "cell_type": "code",
   "execution_count": null,
   "id": "67653329",
   "metadata": {
    "id": "67653329"
   },
   "outputs": [],
   "source": []
  }
 ],
 "metadata": {
  "colab": {
   "provenance": []
  },
  "kernelspec": {
   "display_name": "ML_PY39",
   "language": "python",
   "name": "python3"
  },
  "language_info": {
   "codemirror_mode": {
    "name": "ipython",
    "version": 3
   },
   "file_extension": ".py",
   "mimetype": "text/x-python",
   "name": "python",
   "nbconvert_exporter": "python",
   "pygments_lexer": "ipython3",
   "version": "3.9.21"
  }
 },
 "nbformat": 4,
 "nbformat_minor": 5
}
