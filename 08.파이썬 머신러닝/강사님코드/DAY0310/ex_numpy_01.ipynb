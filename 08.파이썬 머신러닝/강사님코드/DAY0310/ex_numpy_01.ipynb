{
 "cells": [
  {
   "cell_type": "markdown",
   "metadata": {},
   "source": [
    "#### [ Numpy - ndarray 데이터 타입 ]\n",
    "- 자료형/데이터타입 : ndarray 타입\n",
    "- C언어의 array를 python으로 구현 \n",
    "- [중요] 동일한 데이터 타입의 데이터를 연속된 메로리 공간에 저장함\n",
    "- [효과] 적은 메모리 사용 및 빠른 처리"
   ]
  },
  {
   "cell_type": "markdown",
   "metadata": {},
   "source": [
    "[1] 모듈로딩 <hr>"
   ]
  },
  {
   "cell_type": "code",
   "execution_count": 2,
   "metadata": {},
   "outputs": [],
   "source": [
    "import numpy as np\n",
    "import pandas as pd "
   ]
  },
  {
   "cell_type": "markdown",
   "metadata": {},
   "source": [
    "[2] ndarray 객체 살펴보기 <hr>"
   ]
  },
  {
   "cell_type": "code",
   "execution_count": 3,
   "metadata": {},
   "outputs": [],
   "source": [
    "## - ndarray 객체 생성\n",
    "n0 = np.array(10)\n",
    "n1 = np.array([10,20])\n",
    "n11 = np.array([10,20], dtype=np.uint8)\n",
    "n2 = np.array([[10, 20], [30, 40], [50, 60]])"
   ]
  },
  {
   "cell_type": "code",
   "execution_count": 4,
   "metadata": {},
   "outputs": [],
   "source": [
    "## - ndarray 객체 속성 출력 함수 --------------------------------------\n",
    "def printInfo(obj):\n",
    "    print(f'\\n차  원 : {obj.ndim}D')\n",
    "    print(f'형  태 : {obj.shape}')\n",
    "    print(f'데이터 : {obj.data}')\n",
    "    print(f'원  소 : {obj.itemsize}')\n",
    "    print(f'크  기 : {obj.size}개')\n",
    "    print(f'타  입 : {obj.dtype}')\n",
    "    print(f'방  향 : {obj.strides}')\n",
    "    print(f'용  량 : {obj.nbytes}')"
   ]
  },
  {
   "cell_type": "code",
   "execution_count": 5,
   "metadata": {},
   "outputs": [
    {
     "name": "stdout",
     "output_type": "stream",
     "text": [
      "\n",
      "차  원 : 0D\n",
      "형  태 : ()\n",
      "데이터 : <memory at 0x00000197251AF9A0>\n",
      "원  소 : 8\n",
      "크  기 : 1개\n",
      "타  입 : int64\n",
      "방  향 : ()\n",
      "용  량 : 8\n",
      "\n",
      "차  원 : 1D\n",
      "형  태 : (2,)\n",
      "데이터 : <memory at 0x0000019726338A00>\n",
      "원  소 : 8\n",
      "크  기 : 2개\n",
      "타  입 : int64\n",
      "방  향 : (8,)\n",
      "용  량 : 16\n",
      "\n",
      "차  원 : 1D\n",
      "형  태 : (2,)\n",
      "데이터 : <memory at 0x0000019723EE9100>\n",
      "원  소 : 1\n",
      "크  기 : 2개\n",
      "타  입 : uint8\n",
      "방  향 : (1,)\n",
      "용  량 : 2\n"
     ]
    }
   ],
   "source": [
    "## - ndarray 객체 속성 확인\n",
    "printInfo(n0)\n",
    "printInfo(n1)\n",
    "printInfo(n11)"
   ]
  },
  {
   "cell_type": "code",
   "execution_count": 6,
   "metadata": {},
   "outputs": [
    {
     "name": "stdout",
     "output_type": "stream",
     "text": [
      "\n",
      "차  원 : 2D\n",
      "형  태 : (3, 2)\n",
      "데이터 : <memory at 0x00000197263A0110>\n",
      "원  소 : 8\n",
      "크  기 : 6개\n",
      "타  입 : int64\n",
      "방  향 : (16, 8)\n",
      "용  량 : 48\n"
     ]
    }
   ],
   "source": [
    "## - 2D ndarray\n",
    "printInfo(n2)"
   ]
  },
  {
   "cell_type": "code",
   "execution_count": null,
   "metadata": {},
   "outputs": [],
   "source": []
  },
  {
   "cell_type": "code",
   "execution_count": null,
   "metadata": {},
   "outputs": [],
   "source": []
  }
 ],
 "metadata": {
  "kernelspec": {
   "display_name": "ML_PY39",
   "language": "python",
   "name": "python3"
  },
  "language_info": {
   "codemirror_mode": {
    "name": "ipython",
    "version": 3
   },
   "file_extension": ".py",
   "mimetype": "text/x-python",
   "name": "python",
   "nbconvert_exporter": "python",
   "pygments_lexer": "ipython3",
   "version": "3.9.21"
  }
 },
 "nbformat": 4,
 "nbformat_minor": 2
}
