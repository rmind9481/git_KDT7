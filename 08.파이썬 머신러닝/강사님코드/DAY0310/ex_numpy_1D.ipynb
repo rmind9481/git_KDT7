{
 "cells": [
  {
   "cell_type": "markdown",
   "metadata": {},
   "source": [
    "#### [ Numpy ndarray 1D 변환 ]\n",
    "- flatten() 함수 / 메서드  :  다른 메모리 공간에 저장\n",
    "- ravel() 함수 / 메서드 : 동일 데이터 메모리 공유"
   ]
  },
  {
   "cell_type": "code",
   "execution_count": 45,
   "metadata": {},
   "outputs": [],
   "source": [
    "## 모듈 로딩\n",
    "import numpy as np"
   ]
  },
  {
   "cell_type": "code",
   "execution_count": 46,
   "metadata": {},
   "outputs": [
    {
     "data": {
      "text/plain": [
       "array([[11, 22],\n",
       "       [33, 44],\n",
       "       [55, 66]])"
      ]
     },
     "execution_count": 46,
     "metadata": {},
     "output_type": "execute_result"
    }
   ],
   "source": [
    "## ndarray 객체 \n",
    "n1 = np.array([[11,22], [33,44], [55, 66]])\n",
    "n1"
   ]
  },
  {
   "cell_type": "code",
   "execution_count": 47,
   "metadata": {},
   "outputs": [
    {
     "data": {
      "text/plain": [
       "array([11, 22, 33, 44, 55, 66])"
      ]
     },
     "execution_count": 47,
     "metadata": {},
     "output_type": "execute_result"
    }
   ],
   "source": [
    "## ND => 1D 변환 ==> flatten() \n",
    "n1.flatten()"
   ]
  },
  {
   "cell_type": "code",
   "execution_count": 48,
   "metadata": {},
   "outputs": [
    {
     "data": {
      "text/plain": [
       "array([[11, 22],\n",
       "       [33, 44],\n",
       "       [55, 66]])"
      ]
     },
     "execution_count": 48,
     "metadata": {},
     "output_type": "execute_result"
    }
   ],
   "source": [
    "n1"
   ]
  },
  {
   "cell_type": "code",
   "execution_count": 49,
   "metadata": {},
   "outputs": [
    {
     "data": {
      "text/plain": [
       "array([[100,  22],\n",
       "       [ 33,  44],\n",
       "       [ 55,  66]])"
      ]
     },
     "execution_count": 49,
     "metadata": {},
     "output_type": "execute_result"
    }
   ],
   "source": [
    "n1[0,0] = 100\n",
    "n1"
   ]
  },
  {
   "cell_type": "code",
   "execution_count": 50,
   "metadata": {},
   "outputs": [
    {
     "data": {
      "text/plain": [
       "array([100,  22,  33,  44,  55,  66])"
      ]
     },
     "execution_count": 50,
     "metadata": {},
     "output_type": "execute_result"
    }
   ],
   "source": [
    "n11 = n1.flatten()\n",
    "n11"
   ]
  },
  {
   "cell_type": "code",
   "execution_count": 51,
   "metadata": {},
   "outputs": [
    {
     "data": {
      "text/plain": [
       "(array([100,  22,  33,  44,  55,  66]),\n",
       " array([[77, 22],\n",
       "        [33, 44],\n",
       "        [55, 66]]))"
      ]
     },
     "execution_count": 51,
     "metadata": {},
     "output_type": "execute_result"
    }
   ],
   "source": [
    "n1[0,0] = 77\n",
    "n11, n1"
   ]
  },
  {
   "cell_type": "code",
   "execution_count": 54,
   "metadata": {},
   "outputs": [
    {
     "name": "stdout",
     "output_type": "stream",
     "text": [
      "[[ 0 22]\n",
      " [33 44]\n",
      " [55 66]] <memory at 0x0000023DAB2D7520>\n",
      "[ 0 22 33 44 55 66] <memory at 0x0000023DAB3E14C0>\n"
     ]
    }
   ],
   "source": [
    "## ND => 1D 변환 ==> ravel() \n",
    "print(n1)\n",
    "\n",
    "n11=n1.ravel()\n",
    "print(n11)"
   ]
  },
  {
   "cell_type": "code",
   "execution_count": 53,
   "metadata": {},
   "outputs": [
    {
     "name": "stdout",
     "output_type": "stream",
     "text": [
      "[[ 0 22]\n",
      " [33 44]\n",
      " [55 66]]\n",
      "[ 0 22 33 44 55 66]\n"
     ]
    }
   ],
   "source": [
    "## 원본 ndarray 데이터 변경 시 ravel() 저장된 데이터도 변경됨!\n",
    "n1[0,0] = 00\n",
    "print(n1)\n",
    "print(n11)"
   ]
  }
 ],
 "metadata": {
  "kernelspec": {
   "display_name": "ML_PY39",
   "language": "python",
   "name": "python3"
  },
  "language_info": {
   "codemirror_mode": {
    "name": "ipython",
    "version": 3
   },
   "file_extension": ".py",
   "mimetype": "text/x-python",
   "name": "python",
   "nbconvert_exporter": "python",
   "pygments_lexer": "ipython3",
   "version": "3.9.21"
  }
 },
 "nbformat": 4,
 "nbformat_minor": 2
}
