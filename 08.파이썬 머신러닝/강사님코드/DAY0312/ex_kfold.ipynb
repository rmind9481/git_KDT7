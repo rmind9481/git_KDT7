{
 "cells": [
  {
   "cell_type": "markdown",
   "metadata": {},
   "source": [
    "#### [ 교차검증 K-Fold ]\n",
    "- 회귀모델에 사용\n",
    "- 데이터부족에 따른 과대적합(Overfitting)/과소적합(Underfitting) 해결 위한 방법\n",
    "- 단점: 학습에 시간이 오래 걸림"
   ]
  },
  {
   "cell_type": "code",
   "execution_count": 16,
   "metadata": {},
   "outputs": [
    {
     "data": {
      "text/plain": [
       "4"
      ]
     },
     "execution_count": 16,
     "metadata": {},
     "output_type": "execute_result"
    }
   ],
   "source": [
    "import numpy as np\n",
    "from sklearn.model_selection import KFold\n",
    "\n",
    "## 임시데이터 \n",
    "X = np.array([[1, 2], [3, 4], [1, 2], [3, 4]])      # 2D\n",
    "y = np.array([1, 2, 3, 4])                          # 1D\n",
    "\n",
    "## 4개 분할\n",
    "kf = KFold(n_splits=4)\n",
    "kf.get_n_splits(X)"
   ]
  },
  {
   "cell_type": "code",
   "execution_count": 17,
   "metadata": {},
   "outputs": [
    {
     "name": "stdout",
     "output_type": "stream",
     "text": [
      "Fold 0:\n",
      "  Train: index=[1 2 3]\n",
      "  Test:  index=[0]\n",
      "Fold 1:\n",
      "  Train: index=[0 2 3]\n",
      "  Test:  index=[1]\n",
      "Fold 2:\n",
      "  Train: index=[0 1 3]\n",
      "  Test:  index=[2]\n",
      "Fold 3:\n",
      "  Train: index=[0 1 2]\n",
      "  Test:  index=[3]\n"
     ]
    }
   ],
   "source": [
    "## 2개 분할 데이터셋 확인\n",
    "for i, (train_index, test_index) in enumerate(kf.split(X)):\n",
    "    print(f\"Fold {i}:\")\n",
    "    print(f\"  Train: index={train_index}\")\n",
    "    print(f\"  Test:  index={test_index}\")"
   ]
  },
  {
   "cell_type": "code",
   "execution_count": null,
   "metadata": {},
   "outputs": [
    {
     "name": "stdout",
     "output_type": "stream",
     "text": [
      "Fold 1:\n",
      "  Train: index=[1 2 3]\n",
      "  Test:  index=[0]\n",
      "Fold 2:\n",
      "  Train: index=[0 2 3]\n",
      "  Test:  index=[1]\n",
      "Fold 3:\n",
      "  Train: index=[0 1 3]\n",
      "  Test:  index=[2]\n",
      "Fold 4:\n",
      "  Train: index=[0 1 2]\n",
      "  Test:  index=[3]\n"
     ]
    }
   ],
   "source": [
    "n_fold=1\n",
    "for train_index, test_index in kf.split(X):\n",
    "    print(f\"Fold {n_fold}:\")\n",
    "    print(f\"  Train: index={train_index}\")\n",
    "    print(f\"  Test:  index={test_index}\")\n",
    "    n_fold += 1"
   ]
  }
 ],
 "metadata": {
  "kernelspec": {
   "display_name": "ML_PY39",
   "language": "python",
   "name": "python3"
  },
  "language_info": {
   "codemirror_mode": {
    "name": "ipython",
    "version": 3
   },
   "file_extension": ".py",
   "mimetype": "text/x-python",
   "name": "python",
   "nbconvert_exporter": "python",
   "pygments_lexer": "ipython3",
   "version": "3.9.21"
  }
 },
 "nbformat": 4,
 "nbformat_minor": 2
}
