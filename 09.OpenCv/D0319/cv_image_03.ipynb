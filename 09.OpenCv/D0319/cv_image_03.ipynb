{
 "cells": [
  {
   "cell_type": "markdown",
   "metadata": {},
   "source": [
    "### [ 이미지 로딩 및 저장]"
   ]
  },
  {
   "cell_type": "markdown",
   "metadata": {},
   "source": [
    "[1] 모듈 로딩 및 데이터 준비 <hr>"
   ]
  },
  {
   "cell_type": "code",
   "execution_count": 14,
   "metadata": {},
   "outputs": [],
   "source": [
    "## [1-1] 모듈로딩\n",
    "\n",
    "import cv2\n",
    "import numpy as np\n",
    "import matplotlib.pyplot as plt"
   ]
  },
  {
   "cell_type": "code",
   "execution_count": null,
   "metadata": {},
   "outputs": [],
   "source": [
    "# [1-2] 데이터 준비\n",
    "DEVICE_ID = 0 \t# 기기에 연결된 카메라 번호\n",
    "EXIT_KEY = 27"
   ]
  },
  {
   "cell_type": "code",
   "execution_count": 16,
   "metadata": {},
   "outputs": [],
   "source": [
    "# 카메라 객체 생성\n",
    "cam =  cv2.VideoCapture(DEVICE_ID)"
   ]
  },
  {
   "cell_type": "code",
   "execution_count": 17,
   "metadata": {},
   "outputs": [],
   "source": [
    "# import cv2\n",
    "\n",
    "# #video_file = \"../img/big_buck.avi\" # 동영상 파일 경로\n",
    "\n",
    "# cap = cv2.VideoCapture(0) # 동영상 캡쳐 객체 생성\n",
    "# if cap.isOpened():                 # 캡쳐 객체 초기화 확인\n",
    "#     fps = cap.get(cv2.CAP_PROP_FPS) # 프레임 수 구하기\n",
    "#     delay = int(1000/fps)\n",
    "#     print(\"FPS: %f, Delay: %dms\" %(fps, delay))\n",
    "\n",
    "#     while True:\n",
    "#         ret, img = cap.read()      # 다음 프레임 읽기\n",
    "#         if ret:                     # 프레임 읽기 정상\n",
    "#             cv2.imshow(0, img) # 화면에 표시\n",
    "#             cv2.waitKey(delay)            # fps에 맞게 시간 지연\n",
    "#         else:\n",
    "#             break                   # 다음 프레임 읽을 수 없슴, 재생 완료\n",
    "# else:\n",
    "#     print(\"can't open video.\")      # 캡쳐 객체 초기화 실패\n",
    "# cap.release()                       # 캡쳐 자원 반납\n",
    "# cv2.destroyAllWindows()"
   ]
  },
  {
   "cell_type": "code",
   "execution_count": null,
   "metadata": {},
   "outputs": [
    {
     "name": "stdout",
     "output_type": "stream",
     "text": [
      "카메라 연동 안됨\n"
     ]
    }
   ],
   "source": [
    "# 카메라 연동 여부 \n",
    "\n",
    "if cam.isOpened():\n",
    "\t# 카메라의 영상 데이터 로딩\n",
    "\n",
    "\twhile True:\n",
    "\t\tret, img = cam.read()\n",
    "\t\t#cam.read()\n",
    "\n",
    "\t\t# 로딩된 데이터 존재 시 화면 추출\n",
    "\t\tif ret:\n",
    "\t\t\tcv2.imshow('[MY CAm]',img)\n",
    "\t\t\t#cv2.imwrite(f'{VIDEO_DIR}save_01.ipg')\n",
    "\t\t\tkey = cv2.waitKey(30) \t# ms\n",
    "\t\t\tif key == EXIT_KEY:break\n",
    "\t\t\tcv2.im\n",
    "\t\telse:\n",
    "\t\t\tprint('영상 로딩 실패')\n",
    "\t\n",
    "else:\n",
    "\tprint('카메라 연동 안됨')\n",
    "\n",
    "\n",
    "# 카메라 해제 및 띄워진 영상 출력 장치 닫기\n",
    "cam.release()\n",
    "cv2.destroyAllWindows()"
   ]
  },
  {
   "cell_type": "markdown",
   "metadata": {},
   "source": [
    "### 하나의 프레임이 아닌 여러 프레임을 동영상으로 저장\n",
    "-\tcv2.VideoWriter()\n",
    "-\tfile_path : 비디오 파일 저장 경로\n",
    "-\tfourcc : 비디오 인코딩 형식 4글자\n",
    "-\tfps : 초당 프레임 수 \n",
    "-\t(width, height) : 프레임 폭과 프레임 높이\n",
    "-\twriter : 생성된 비디오 저장 객체\n",
    "-\twriter,write(frame): 프레임 저장\n",
    "-\tframe : 저장할 프레임, NumPy 배열\n",
    "\n",
    "-\twriter.set(id,m value) : 프로퍼티 변경\n",
    "-\twriter.get(id) : 프로퍼티 확인\n",
    "- \tret = writer.fourcc(c1,c2,c3,c4): fource 코드 생성\n",
    "\n",
    "- c1,c2,c3,c4 : 인코딩 형식 4글자"
   ]
  },
  {
   "cell_type": "code",
   "execution_count": null,
   "metadata": {},
   "outputs": [],
   "source": []
  }
 ],
 "metadata": {
  "kernelspec": {
   "display_name": "ML_CV",
   "language": "python",
   "name": "python3"
  },
  "language_info": {
   "codemirror_mode": {
    "name": "ipython",
    "version": 3
   },
   "file_extension": ".py",
   "mimetype": "text/x-python",
   "name": "python",
   "nbconvert_exporter": "python",
   "pygments_lexer": "ipython3",
   "version": "3.9.21"
  }
 },
 "nbformat": 4,
 "nbformat_minor": 2
}
