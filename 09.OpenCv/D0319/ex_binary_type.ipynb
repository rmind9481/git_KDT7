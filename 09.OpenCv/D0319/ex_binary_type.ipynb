{
 "cells": [
  {
   "cell_type": "markdown",
   "metadata": {},
   "source": [
    "#### [bytes 자료형]\n",
    "-\t바이너리 데이터 관련 자료형\n",
    "-\t식별자 : b'x\\xxx', b'str'"
   ]
  },
  {
   "cell_type": "markdown",
   "metadata": {},
   "source": [
    "[데이터 => bytes 변환] <hr>"
   ]
  },
  {
   "cell_type": "markdown",
   "metadata": {},
   "source": [
    "- [1] int => bytes 변환"
   ]
  },
  {
   "cell_type": "code",
   "execution_count": 1,
   "metadata": {},
   "outputs": [],
   "source": [
    "# 다양한 데이터 \n",
    "\n",
    "int_datas = [17,19]\n",
    "int_num = 17\n",
    "str_data = 'AB'"
   ]
  },
  {
   "cell_type": "code",
   "execution_count": null,
   "metadata": {},
   "outputs": [
    {
     "data": {
      "text/plain": [
       "b'\\x11\\x13'"
      ]
     },
     "execution_count": 3,
     "metadata": {},
     "output_type": "execute_result"
    }
   ],
   "source": [
    "# [1-1] int => bytes : b'x\\_ _', b'x\\_ _ _ _' \n",
    "# 방법1 - bytes() 생성자\n",
    "\n",
    "bytes(int_datas) # [17,19]"
   ]
  },
  {
   "cell_type": "code",
   "execution_count": null,
   "metadata": {},
   "outputs": [
    {
     "name": "stdout",
     "output_type": "stream",
     "text": [
      "[1byte, little, unsigned] b'\\x11'\n",
      "[2byte, little, unsigned] b'\\x11\\x00'\n",
      "[2byte, little, signed] b'\\x11\\x00'\n",
      "\n",
      "[1byte, big, unsigned] b'\\x11'\n",
      "[2byte, big, unsigned] b'\\x00\\x11'\n",
      "[2byte, big, unsigned] b'\\x00\\x11'\n"
     ]
    }
   ],
   "source": [
    "# 방법2 - int.to_bytes() 메서드\n",
    "print('[1byte, little, unsigned]', int_num.to_bytes(length=1, byteorder='little'))\n",
    "print('[2byte, little, unsigned]', int_num.to_bytes(length=2, byteorder='little'))\n",
    "print('[2byte, little, signed]', int_num.to_bytes(length=2, byteorder='little', signed=True))\n",
    "print()\n",
    "print('[1byte, big, unsigned]', int_num.to_bytes(length=1, byteorder='big'))\n",
    "print('[2byte, big, unsigned]', int_num.to_bytes(length=2, byteorder='big'))\n",
    "print('[2byte, big, signed]', int_num.to_bytes(2,'big',signed=True))\n"
   ]
  },
  {
   "cell_type": "code",
   "execution_count": 8,
   "metadata": {},
   "outputs": [
    {
     "name": "stdout",
     "output_type": "stream",
     "text": [
      "<class 'bytes'> b'AB'\n"
     ]
    }
   ],
   "source": [
    "# [2-1] str => btyes : 표기방식 b'글자\n",
    "# 방법 1 - byte() 생성자\n",
    "\n",
    "str_byte = bytes(str_data, encoding='utf-8')\n",
    "\n",
    "print(type(str_byte), str_byte)"
   ]
  },
  {
   "cell_type": "code",
   "execution_count": 9,
   "metadata": {},
   "outputs": [
    {
     "data": {
      "text/plain": [
       "b'AB'"
      ]
     },
     "execution_count": 9,
     "metadata": {},
     "output_type": "execute_result"
    }
   ],
   "source": [
    "# 방법2 - str.encode() 메서드\n",
    "str_data.encode()"
   ]
  },
  {
   "cell_type": "markdown",
   "metadata": {},
   "source": [
    "### [bytes ==> 데이터 변환] <hr>"
   ]
  },
  {
   "cell_type": "code",
   "execution_count": 10,
   "metadata": {},
   "outputs": [
    {
     "data": {
      "text/plain": [
       "17"
      ]
     },
     "execution_count": 10,
     "metadata": {},
     "output_type": "execute_result"
    }
   ],
   "source": [
    "int_byte = b'\\x11'\n",
    "\n",
    "int.from_bytes(int_byte, byteorder='little')"
   ]
  },
  {
   "cell_type": "code",
   "execution_count": 12,
   "metadata": {},
   "outputs": [
    {
     "data": {
      "text/plain": [
       "17"
      ]
     },
     "execution_count": 12,
     "metadata": {},
     "output_type": "execute_result"
    }
   ],
   "source": [
    "int_byte = b'\\x11\\x00'\n",
    "\n",
    "int.from_bytes(int_byte, byteorder='little')"
   ]
  },
  {
   "cell_type": "markdown",
   "metadata": {},
   "source": [
    "[2] bytes ==> str변환"
   ]
  },
  {
   "cell_type": "code",
   "execution_count": 13,
   "metadata": {},
   "outputs": [
    {
     "data": {
      "text/plain": [
       "'A'"
      ]
     },
     "execution_count": 13,
     "metadata": {},
     "output_type": "execute_result"
    }
   ],
   "source": [
    "# 방법 1) -bytestr.deconde()\n",
    "str_byte = b'A'\n",
    "\n",
    "str_byte.decode()\n"
   ]
  },
  {
   "cell_type": "code",
   "execution_count": 14,
   "metadata": {},
   "outputs": [
    {
     "data": {
      "text/plain": [
       "'A'"
      ]
     },
     "execution_count": 14,
     "metadata": {},
     "output_type": "execute_result"
    }
   ],
   "source": [
    "# 방법2 ) - str()\n",
    "str_byte =b'A'\n",
    "\n",
    "str(str_byte, encoding='utf-8')"
   ]
  },
  {
   "cell_type": "code",
   "execution_count": null,
   "metadata": {},
   "outputs": [],
   "source": []
  }
 ],
 "metadata": {
  "kernelspec": {
   "display_name": "ML_CV",
   "language": "python",
   "name": "python3"
  },
  "language_info": {
   "codemirror_mode": {
    "name": "ipython",
    "version": 3
   },
   "file_extension": ".py",
   "mimetype": "text/x-python",
   "name": "python",
   "nbconvert_exporter": "python",
   "pygments_lexer": "ipython3",
   "version": "3.9.21"
  }
 },
 "nbformat": 4,
 "nbformat_minor": 2
}
