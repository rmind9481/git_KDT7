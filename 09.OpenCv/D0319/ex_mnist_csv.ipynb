{
 "cells": [
  {
   "cell_type": "markdown",
   "metadata": {},
   "source": [
    "# [RAW DATA => CSV FILE 데이터셋 생성]"
   ]
  },
  {
   "cell_type": "markdown",
   "metadata": {},
   "source": [
    "[1] 모듈로딩 및 데이터 준비<hr>"
   ]
  },
  {
   "cell_type": "code",
   "execution_count": 3,
   "metadata": {},
   "outputs": [],
   "source": [
    "## [1-1]모듈로딩\n",
    "import struct \t\t\t# binary 파일 원하는 형태로 읽어들이기 위한 모듈\n",
    "import os\t\t\t\t# 운영체제 시스템 관련 모듈, 폴더랑 파일, 경로 등등"
   ]
  },
  {
   "cell_type": "code",
   "execution_count": 9,
   "metadata": {},
   "outputs": [],
   "source": [
    "## [1-2]데이터 준비\n",
    "DATA_DIR = '../mnist/'\n",
    "FILE_LABEL='-labels-idx1-ubyte'\n",
    "FILE_IMAGE='-images-idx3-ubyte'"
   ]
  },
  {
   "cell_type": "markdown",
   "metadata": {},
   "source": [
    "[2] 사용자 정의 함수<hr>"
   ]
  },
  {
   "cell_type": "code",
   "execution_count": 13,
   "metadata": {},
   "outputs": [
    {
     "name": "stdout",
     "output_type": "stream",
     "text": [
      "t10k-images-idx3-ubyte\n",
      "t10k-images-idx3-ubyte.gz\n",
      "t10k-labels-idx1-ubyte\n",
      "t10k-labels-idx1-ubyte.gz\n",
      "train-images-idx3-ubyte\n",
      "train-images-idx3-ubyte.gz\n",
      "train-labels-idx1-ubyte\n",
      "train-labels-idx1-ubyte.gz\n"
     ]
    }
   ],
   "source": [
    "# 폴더 내 파일 리스트 로딩 ----------------------\n",
    "import os \n",
    "\n",
    "filelist = os.listdir('../mnist')\n",
    "for filename in filelist:\n",
    "    print(filename)"
   ]
  },
  {
   "cell_type": "code",
   "execution_count": null,
   "metadata": {},
   "outputs": [],
   "source": [
    "# 압축 풀기 메소드 -------------------------------------\n",
    "# import gzip\n",
    "\n",
    "# for filename in filelist:\n",
    "#      with gzip.open(DATA_DIR+filename, mode='rb') as gzipf:\n",
    "#           data = gzipf.read()\n",
    "#           with open(DATA_DIR+filename[:-3], mode='wb') as filef:\n",
    "#                filef.write(data)"
   ]
  },
  {
   "cell_type": "code",
   "execution_count": 14,
   "metadata": {},
   "outputs": [],
   "source": [
    "# CSV 변환 메소드 -------------------------------------\n",
    "def to_csv(name, maxdata):\n",
    "    # (1) CSV 저장할 데이터 준비\n",
    "    # 레이블 파일과 이미지 파일 열기\n",
    "    LABEL_PATH = f'{DATA_DIR}{name}{FILE_LABEL}'\n",
    "    IMAGE_PATH = f'{DATA_DIR}{name}{FILE_IMAGE}'\n",
    "    SAVE_PATH = f'{DATA_DIR}{name}.csv'\n",
    "\n",
    "    lbl_f = open(LABEL_PATH, \"rb\")\n",
    "    img_f = open(IMAGE_PATH, \"rb\")\n",
    "    print(LABEL_PATH)\n",
    "    print(IMAGE_PATH)\n",
    "\n",
    "    # CSV 파일 생성\n",
    "    csv_f = open(SAVE_PATH, \"w\", encoding=\"utf-8\")\n",
    "\n",
    "    # 헤더 정보 읽기\n",
    "    mag, lbl_count = struct.unpack(\">II\", lbl_f.read(8)) # 매직 코드 + 레이블 갯수\n",
    "    mag, img_count = struct.unpack(\">II\", img_f.read(8)) # 매직 코드 + 이미지 갯수\n",
    "    rows, cols = struct.unpack(\">II\", img_f.read(8))     # 행, 열 갯수\n",
    "    pixels = rows * cols\n",
    "    print(pixels)\n",
    "\n",
    "    # (2) 이미지 데이터를 읽고 CSV로 저장\n",
    "    res = []\n",
    "    for idx in range(lbl_count):\n",
    "        if idx > maxdata: break\n",
    "\n",
    "        # 숫자이미디 데이터가 의미하는 숫자값 읽기\n",
    "        label = struct.unpack(\"B\", lbl_f.read(1))[0]  # 튜플타입 리던 ->1개 데이터 (value,)\n",
    "\n",
    "        # 이미지 데이터 읽기\n",
    "        bdata = img_f.read(pixels)\n",
    "        sdata = list(map(lambda n: str(n), bdata))  # 문자열로 변환\n",
    "\n",
    "        # CSV 파일에 쓰기\n",
    "        csv_f.write(str(label)+\",\")                 # 숫자 라벨 쓰기\n",
    "        csv_f.write(','.join(sdata) + \"\\n\")         # 리스트 이미지 데이터 -> 문자열 변환 후 쓰기\n",
    "\n",
    "    csv_f.close()\n",
    "    lbl_f.close()\n",
    "    img_f.close()"
   ]
  },
  {
   "cell_type": "markdown",
   "metadata": {},
   "source": [
    "[3] 데이터셋 파일 생성 <hr>"
   ]
  },
  {
   "cell_type": "code",
   "execution_count": 15,
   "metadata": {},
   "outputs": [
    {
     "name": "stdout",
     "output_type": "stream",
     "text": [
      "../mnist/train-labels-idx1-ubyte\n",
      "../mnist/train-images-idx3-ubyte\n",
      "784\n",
      "../mnist/t10k-labels-idx1-ubyte\n",
      "../mnist/t10k-images-idx3-ubyte\n",
      "784\n"
     ]
    }
   ],
   "source": [
    "# MNIST DATA 파일 SCV 변환 ----------------------------\n",
    "#to_csv(\"train\", 60000)    # 1000개 학습용 CSV 변환\n",
    "#to_csv(\"t10k\",  10000)    # 500개 학습용 CSV 변환\n",
    "\n",
    "to_csv(\"train\", 5000)       # 1000개 학습용 CSV 변환\n",
    "to_csv(\"t10k\", 1000)        # 500개 학습용 CSV 변환"
   ]
  }
 ],
 "metadata": {
  "kernelspec": {
   "display_name": "ML_PY39",
   "language": "python",
   "name": "python3"
  },
  "language_info": {
   "codemirror_mode": {
    "name": "ipython",
    "version": 3
   },
   "file_extension": ".py",
   "mimetype": "text/x-python",
   "name": "python",
   "nbconvert_exporter": "python",
   "pygments_lexer": "ipython3",
   "version": "3.9.21"
  }
 },
 "nbformat": 4,
 "nbformat_minor": 2
}
