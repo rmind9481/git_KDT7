{
 "cells": [
  {
   "cell_type": "markdown",
   "metadata": {},
   "source": [
    "### [파일 입출력 - 일반 파일 ]\n",
    "\n",
    "-\t텍스트 파일 읽기/쓰기 \n",
    "-\t바이너리 파일 읽기/쓰기\n",
    "-\t내장함수: open(파일경로+파일명)\n",
    "\n"
   ]
  },
  {
   "cell_type": "markdown",
   "metadata": {},
   "source": [
    "[1] 텍스트 파일 쓰기 <hr>"
   ]
  },
  {
   "cell_type": "code",
   "execution_count": 6,
   "metadata": {},
   "outputs": [],
   "source": [
    "# 파일 경로 + 파일명\n",
    "FILE_PATH = './normal.txt'\n",
    "\n"
   ]
  },
  {
   "cell_type": "code",
   "execution_count": 7,
   "metadata": {},
   "outputs": [],
   "source": [
    "# 파일 쓰기 \n",
    "# (1) 열기\n",
    "# mode = 'w' : 파일 없으면 생성 후 작성\n",
    "#\t\t\t : 파일 있으면 내용 지우고 작성\n",
    "# mode = 'a' : 기존 파일에 내용을 끝부분에 추가 모드\n",
    "# encoding\t : 텍스트가 깨진 경우 설정\n",
    "# 한글이 깨지면\n",
    "\n",
    "#myfile = open(FILE_PATH, mode='w', encoding='utf-8')\n",
    "myfile = open(FILE_PATH, mode='a', encoding='utf-8')\n",
    "\n",
    "\n",
    "# (2) 쓰기\n",
    "myfile.write('good luck\\n') # '\\n'\n",
    "myfile.write('2025\\n')\n",
    "myfile.write('행복한 오늘')\n",
    "\n",
    "# (3) 닫기\n",
    "myfile.close()"
   ]
  },
  {
   "cell_type": "code",
   "execution_count": 8,
   "metadata": {},
   "outputs": [],
   "source": [
    "# 파일 쓰기\n",
    "FILE_NAME = 'noraml02.txt'\n",
    "# (1) 열기\n",
    "# mode = 'w' : 파일 없으면 생성 후 작성\n",
    "#\t\t\t : 파일 있으면 내용 지우고 작성\n",
    "# mode = 'a' : 기존 파일에 내용을 끝부분에 추가 모드\n",
    "#\t\t\t : 파일 없으면 생성해서 추가\n",
    "# encoding\t : 텍스트가 깨진 경우 설정\n",
    "# 한글이 깨지면\n",
    "\n",
    "#myfile = open(FILE_PATH, mode='w', encoding='utf-8')\n",
    "myfile = open(FILE_NAME, mode='a', encoding='utf-8')\n",
    "\n",
    "\n",
    "# (2) 쓰기\n",
    "myfile.write('good luck\\n') # '\\n'\n",
    "myfile.write('2025\\n')\n",
    "myfile.write('행복한 오늘')\n",
    "\n",
    "# (3) 닫기\n",
    "myfile.close()"
   ]
  },
  {
   "cell_type": "code",
   "execution_count": 10,
   "metadata": {},
   "outputs": [],
   "source": [
    "# # 파일 쓰기\n",
    "# FILE_NAME = 'noraml03.txt'\n",
    "# # (1) 열기\n",
    "\n",
    "# # mode = 'w' : 파일 없으면 생성 후 작성\n",
    "# #\t\t\t : 파일 있으면 내용 지우고 작성\n",
    "\n",
    "\n",
    "# # mode = 'a' : 기존 파일에 내용을 끝부분에 추가 모드\n",
    "# #\t\t\t : 파일 없으면 생성해서 추가\n",
    "\n",
    "# # mode = 'x' :파일 존재하면 ERROR, 파일 생성해서 내용  넣기 \n",
    "\n",
    "\n",
    "# # encoding\t : 텍스트가 깨진 경우 설정\n",
    "# # 한글이 깨지면\n",
    "\n",
    "# #myfile = open(FILE_PATH, mode='w', encoding='utf-8')\n",
    "# #\n",
    "\n",
    "\n",
    "# # (2) 쓰기\n",
    "# myfile.write('good luck\\n') # '\\n'\n",
    "# myfile.write('2025\\n')\n",
    "# myfile.write('행복한 오늘')\n",
    "\n",
    "# # (3) 닫기\n",
    "# myfile.close()"
   ]
  },
  {
   "cell_type": "markdown",
   "metadata": {},
   "source": []
  },
  {
   "cell_type": "code",
   "execution_count": 11,
   "metadata": {},
   "outputs": [],
   "source": [
    "# [권장사항]-----------------------\n",
    "# with ~ as 구문 : 파일 close 자동 처리함\n",
    "\n",
    "with open(FILE_PATH, mode='w', encoding='utf-8') as f:\n",
    "\tf.write('good\\n')\n",
    "\tf.write('happy')"
   ]
  },
  {
   "cell_type": "code",
   "execution_count": 14,
   "metadata": {},
   "outputs": [],
   "source": [
    "# 여러 라인의 텍스트 쓰기\n",
    "#  \n",
    "\n",
    "with open(FILE_PATH, mode='w', encoding='utf-8') as f:\n",
    "\tf.writelines(['11,22,33,44', 'good','행복','happy'])"
   ]
  },
  {
   "cell_type": "markdown",
   "metadata": {},
   "source": [
    "[2] 텍스트 파일 읽기 <hr>"
   ]
  },
  {
   "cell_type": "code",
   "execution_count": 15,
   "metadata": {},
   "outputs": [
    {
     "name": "stdout",
     "output_type": "stream",
     "text": [
      "[ALL_DATA]11,22,33,44good행복happy\n"
     ]
    }
   ],
   "source": [
    "# [2-1] 모든 텍스트 가져오기\n",
    "with open(FILE_PATH, mode='r') as f:\n",
    "\tall_data = f.read()\n",
    "\n",
    "print(f'[ALL_DATA]{all_data}')"
   ]
  },
  {
   "cell_type": "code",
   "execution_count": 16,
   "metadata": {},
   "outputs": [
    {
     "name": "stdout",
     "output_type": "stream",
     "text": [
      "[ALL_DATA]11,22,3\n"
     ]
    }
   ],
   "source": [
    "# [2-2] 일부 텍스트 가져오기\n",
    "with open(FILE_PATH, mode='r') as f:\n",
    "\tall_data = f.read(7)\n",
    "\n",
    "print(f'[ALL_DATA]{all_data}')"
   ]
  },
  {
   "cell_type": "code",
   "execution_count": 17,
   "metadata": {},
   "outputs": [
    {
     "name": "stdout",
     "output_type": "stream",
     "text": [
      "[LINE_DATA]11,22,33,44good행복happy\n"
     ]
    }
   ],
   "source": [
    "# [2-3] 줄/라인 단위 가져오기 => '\\n'\n",
    "with open(FILE_PATH, mode='r') as f:\n",
    "\tline_data = f.readline()\n",
    "\n",
    "print(f'[LINE_DATA]{line_data}')"
   ]
  },
  {
   "cell_type": "code",
   "execution_count": null,
   "metadata": {},
   "outputs": [
    {
     "name": "stdout",
     "output_type": "stream",
     "text": [
      "[all_lines ] ['11,22,33,44good행복happy']"
     ]
    }
   ],
   "source": [
    "# -> 모든 내용 가져오기 위해서는 반복 필요\n",
    "with open(FILE_PATH, mode='r') as f:\n",
    "\twhile True:\n",
    "\t\tline_data = f.readline()\n",
    "\t\tif not line_data: break\n",
    "\t\tprint(f'[LINE_DATA] {line_data}',end='')\n"
   ]
  },
  {
   "cell_type": "markdown",
   "metadata": {},
   "source": [
    "[실습 : 파일 복사 기능] <hr>"
   ]
  },
  {
   "cell_type": "code",
   "execution_count": 23,
   "metadata": {},
   "outputs": [],
   "source": [
    "# 복사본 만들기\n",
    "# normal03.txt ===> copy_nomal03.txt\n",
    "\n",
    "COPY_PATH = 'copy_normal03.txt'\n",
    "\n",
    "with open(FILE_PATH, mode='r') as f:\n",
    "\twith open(COPY_PATH, mode='w') as cf:\n",
    "\t\tcf.write(f.read())\n"
   ]
  },
  {
   "cell_type": "code",
   "execution_count": null,
   "metadata": {},
   "outputs": [],
   "source": [
    " "
   ]
  },
  {
   "cell_type": "code",
   "execution_count": null,
   "metadata": {},
   "outputs": [],
   "source": []
  }
 ],
 "metadata": {
  "kernelspec": {
   "display_name": "ML_PY39",
   "language": "python",
   "name": "python3"
  },
  "language_info": {
   "codemirror_mode": {
    "name": "ipython",
    "version": 3
   },
   "file_extension": ".py",
   "mimetype": "text/x-python",
   "name": "python",
   "nbconvert_exporter": "python",
   "pygments_lexer": "ipython3",
   "version": "3.9.21"
  }
 },
 "nbformat": 4,
 "nbformat_minor": 2
}
