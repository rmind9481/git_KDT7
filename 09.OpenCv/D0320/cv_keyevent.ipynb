{
 "cells": [
  {
   "cell_type": "markdown",
   "metadata": {},
   "source": [
    "### [ EVENT 처리 - KEYEVENT]\n",
    "- EVENT : 사용자들의 마우스나 키보드로 발생하는 동작들\n",
    "- ex) : 마우스 => 클릭, 드래그,마우스 누르기. & 떼기, 더블 클릭\n",
    "- ex) : 키보드 => 입력한 키 값들 알파벳, 숫자, 기호들 ...\n",
    "- Event 처리\t\n",
    "\t* 이벤트 발생 시 진행하고 동작 코드 작성하는것\n",
    "\t* 개발자가 원하는 기능으로 정의\n",
    "\t"
   ]
  },
  {
   "cell_type": "markdown",
   "metadata": {},
   "source": [
    "[1] 모듈 로딩 및 데이터 준비 <hr>"
   ]
  },
  {
   "cell_type": "code",
   "execution_count": 2,
   "metadata": {},
   "outputs": [],
   "source": [
    "# 컴퓨터 비전 모듈\n",
    "import cv2\n",
    "# 이미지 데이터 저장 모듈\n",
    "import numpy as np\n",
    "# 시각화 모듈 \n",
    "import matplotlib.pyplot as plt\n",
    "# 파일,폴더,경로 관련 모듈\n",
    "import os"
   ]
  },
  {
   "cell_type": "code",
   "execution_count": 3,
   "metadata": {},
   "outputs": [],
   "source": [
    "# [1-2] 데이터 준비\n",
    "\n",
    "IMG_DIR = '../image/'\n",
    "FILE_NAME ='image612x612.jpg'\n"
   ]
  },
  {
   "cell_type": "code",
   "execution_count": null,
   "metadata": {},
   "outputs": [],
   "source": []
  },
  {
   "cell_type": "code",
   "execution_count": null,
   "metadata": {},
   "outputs": [
    {
     "name": "stdout",
     "output_type": "stream",
     "text": [
      "../image/cat.jpg\n",
      "True\n",
      "../image/cat_dog\n",
      "False\n",
      "../image/copyimage612x612.jpg\n",
      "True\n",
      "../image/dog\n",
      "False\n",
      "../image/image3.png\n",
      "True\n",
      "../image/image612x612.jpg\n",
      "True\n",
      "../image/_gray_image.png\n",
      "True\n",
      " 이미지 파일 리스트 : 5개 \n",
      "['../image/cat.jpg', '../image/copyimage612x612.jpg', '../image/image3.png', '../image/image612x612.jpg', '../image/_gray_image.png']\n",
      "<class 'str'>\n"
     ]
    }
   ],
   "source": [
    "# 현재 모든 이미지 파일 리스트\n",
    "\n",
    "all_items = os.listdir(IMG_DIR)\n",
    "file_list = []\n",
    "\n",
    "\n",
    "for item in all_items :\n",
    "\t# 파일 과 폴더 체크 후 파일만 추출\n",
    "\tprint(IMG_DIR+item)\n",
    "\tprint(os.path.isfile(IMG_DIR+item))\n",
    "\n",
    "\tif os.path.isfile(IMG_DIR+item):\n",
    "\t\tfile_list.append(IMG_DIR+item)\n",
    "\n",
    "print(f' 이미지 파일 리스트 : {len(file_list)}개 \\n{file_list}')\n",
    "\n"
   ]
  },
  {
   "cell_type": "markdown",
   "metadata": {},
   "source": [
    "[3] 이미지 로딩 <hr>"
   ]
  },
  {
   "cell_type": "code",
   "execution_count": 5,
   "metadata": {},
   "outputs": [],
   "source": [
    "# 이미지 읽어 오기\n",
    "# 로딩 : 경로 + 파일명\n",
    "color_img = cv2.imread( IMG_DIR+FILE_NAME, cv2.IMREAD_COLOR)"
   ]
  },
  {
   "cell_type": "code",
   "execution_count": 6,
   "metadata": {},
   "outputs": [
    {
     "name": "stdout",
     "output_type": "stream",
     "text": [
      "image612x612.jpg\n",
      "[[[ 2 54  1]\n",
      "  [ 2 54  0]\n",
      "  [ 2 54  0]\n",
      "  ...\n",
      "  [56 93 31]\n",
      "  [58 95 33]\n",
      "  [62 96 35]]\n",
      "\n",
      " [[ 2 54  1]\n",
      "  [ 2 54  0]\n",
      "  [ 2 54  0]\n",
      "  ...\n",
      "  [52 92 27]\n",
      "  [56 93 29]\n",
      "  [58 95 31]]\n",
      "\n",
      " [[ 3 52  0]\n",
      "  [ 3 52  0]\n",
      "  [ 4 54  0]\n",
      "  ...\n",
      "  [48 89 22]\n",
      "  [51 92 25]\n",
      "  [55 93 27]]\n",
      "\n",
      " ...\n",
      "\n",
      " [[43 71 18]\n",
      "  [31 63  8]\n",
      "  [18 59  0]\n",
      "  ...\n",
      "  [23 88  2]\n",
      "  [23 88  2]\n",
      "  [23 88  2]]\n",
      "\n",
      " [[41 71 12]\n",
      "  [31 65  4]\n",
      "  [20 62  0]\n",
      "  ...\n",
      "  [26 90  1]\n",
      "  [26 90  1]\n",
      "  [26 90  1]]\n",
      "\n",
      " [[25 56  0]\n",
      "  [23 59  0]\n",
      "  [24 65  0]\n",
      "  ...\n",
      "  [27 91  1]\n",
      "  [27 91  1]\n",
      "  [27 91  1]]]\n",
      " 형태:<built-in method reshape of numpy.ndarray object at 0x000002114320AB10>,\n",
      "차원:3D\n"
     ]
    }
   ],
   "source": [
    "# 정보확인\n",
    "\n",
    "if color_img.size > 0:\n",
    "\tprint(f'{ FILE_NAME}')\n",
    "\tprint(f'{color_img}\\n 형태:{color_img.reshape},\\n차원:{color_img.ndim}D')\n",
    "else:\n",
    "\tprint(f'{FILE_NAME}')\n",
    "\tprint(f'형태 :{color_img.shape}')"
   ]
  },
  {
   "cell_type": "markdown",
   "metadata": {},
   "source": [
    "[3] 이미지 출력 및 이벤트 체크 <hr>"
   ]
  },
  {
   "cell_type": "code",
   "execution_count": 7,
   "metadata": {},
   "outputs": [
    {
     "name": "stdout",
     "output_type": "stream",
     "text": [
      "key = 27 - \u001b\n",
      "key = 49 - 1\n",
      "key = 27 - \u001b\n"
     ]
    },
    {
     "ename": "ValueError",
     "evalue": "chr() arg not in range(0x110000)",
     "output_type": "error",
     "traceback": [
      "\u001b[1;31m---------------------------------------------------------------------------\u001b[0m",
      "\u001b[1;31mValueError\u001b[0m                                Traceback (most recent call last)",
      "Cell \u001b[1;32mIn[7], line 9\u001b[0m\n\u001b[0;32m      5\u001b[0m \u001b[38;5;28;01mwhile\u001b[39;00m \u001b[38;5;28;01mTrue\u001b[39;00m:\n\u001b[0;32m      6\u001b[0m \t\u001b[38;5;66;03m# 창에 대한 사용자 이벤트 처리\u001b[39;00m\n\u001b[0;32m      7\u001b[0m \tkey \u001b[38;5;241m=\u001b[39m cv2\u001b[38;5;241m.\u001b[39mwaitKey()\n\u001b[1;32m----> 9\u001b[0m \t\u001b[38;5;28mprint\u001b[39m(\u001b[38;5;124mf\u001b[39m\u001b[38;5;124m'\u001b[39m\u001b[38;5;124mkey = \u001b[39m\u001b[38;5;132;01m{\u001b[39;00mkey\u001b[38;5;132;01m}\u001b[39;00m\u001b[38;5;124m - \u001b[39m\u001b[38;5;132;01m{\u001b[39;00m\u001b[38;5;28mchr\u001b[39m(key)\u001b[38;5;132;01m}\u001b[39;00m\u001b[38;5;124m'\u001b[39m)\n\u001b[0;32m     11\u001b[0m \t\u001b[38;5;66;03m# 특정 키 이벤트에 따른 처리 코드\u001b[39;00m\n\u001b[0;32m     12\u001b[0m \t\u001b[38;5;28;01mif\u001b[39;00m key \u001b[38;5;129;01min\u001b[39;00m  [\u001b[38;5;28mord\u001b[39m(\u001b[38;5;124m'\u001b[39m\u001b[38;5;124mq\u001b[39m\u001b[38;5;124m'\u001b[39m), \u001b[38;5;28mord\u001b[39m(\u001b[38;5;124m'\u001b[39m\u001b[38;5;124mQ\u001b[39m\u001b[38;5;124m'\u001b[39m)]:\n",
      "\u001b[1;31mValueError\u001b[0m: chr() arg not in range(0x110000)"
     ]
    }
   ],
   "source": [
    "# 매개변수 (창 타이틀, 이미지데이터)\n",
    "cv2.imshow(FILE_NAME, color_img)\n",
    "\n",
    "\n",
    "while True:\n",
    "\t# 창에 대한 사용자 이벤트 처리\n",
    "\tkey = cv2.waitKey()\n",
    "\n",
    "\tprint(f'key = {key} - {chr(key)}')\n",
    "\n",
    "\t# 특정 키 이벤트에 따른 처리 코드\n",
    "\tif key in  [ord('q'), ord('Q')]:\n",
    "\t\tcv2.destroyAllWindows()\n",
    "\t\tbreak\n",
    "\telif key in [ord('s'),ord('S')]:\n",
    "\t\tret = cv2.imwrite(IMG_DIR+'copy'+FILE_NAME, color_img)\n",
    "\t\tprint(f'저장 여부 : {ret}')"
   ]
  },
  {
   "cell_type": "code",
   "execution_count": null,
   "metadata": {},
   "outputs": [],
   "source": []
  }
 ],
 "metadata": {
  "kernelspec": {
   "display_name": "ML_CV",
   "language": "python",
   "name": "python3"
  },
  "language_info": {
   "codemirror_mode": {
    "name": "ipython",
    "version": 3
   },
   "file_extension": ".py",
   "mimetype": "text/x-python",
   "name": "python",
   "nbconvert_exporter": "python",
   "pygments_lexer": "ipython3",
   "version": "3.9.21"
  }
 },
 "nbformat": 4,
 "nbformat_minor": 2
}
