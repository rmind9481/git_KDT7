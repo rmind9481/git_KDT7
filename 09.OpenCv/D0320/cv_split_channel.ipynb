{
 "cells": [
  {
   "cell_type": "markdown",
   "metadata": {},
   "source": [
    "### [ 이미지 체널 분리]\n",
    "-\topencv 는 이미지 데이터 저장순서가 BGR \n",
    "-\t채널분리 후 채널별 출력"
   ]
  },
  {
   "cell_type": "markdown",
   "metadata": {},
   "source": [
    "[1] 모듈 로딩"
   ]
  },
  {
   "cell_type": "code",
   "execution_count": 9,
   "metadata": {},
   "outputs": [],
   "source": [
    "# 컴퓨터 비전 모듈\n",
    "import cv2\n",
    "# 이미지 데이터 저장 모듈\n",
    "import numpy as np\n",
    "# 시각화 모듈 \n",
    "import matplotlib.pyplot as plt\n",
    "# 파일,폴더,경로 관련 모듈\n",
    "import os"
   ]
  },
  {
   "cell_type": "code",
   "execution_count": 10,
   "metadata": {},
   "outputs": [],
   "source": [
    "# [1-2] 데이터 준비\n",
    "\n",
    "IMG_DIR = '../image/'\n",
    "FILE_NAME ='image612x612.jpg'"
   ]
  },
  {
   "cell_type": "code",
   "execution_count": 11,
   "metadata": {},
   "outputs": [],
   "source": [
    "# 이미지 읽어 오기\n",
    "# 로딩 : 경로 + 파일명\n",
    "color_img = cv2.imread( IMG_DIR+FILE_NAME, cv2.IMREAD_COLOR)"
   ]
  },
  {
   "cell_type": "code",
   "execution_count": 12,
   "metadata": {},
   "outputs": [
    {
     "name": "stdout",
     "output_type": "stream",
     "text": [
      "image612x612.jpg\n",
      "[[[ 2 54  1]\n",
      "  [ 2 54  0]\n",
      "  [ 2 54  0]\n",
      "  ...\n",
      "  [56 93 31]\n",
      "  [58 95 33]\n",
      "  [62 96 35]]\n",
      "\n",
      " [[ 2 54  1]\n",
      "  [ 2 54  0]\n",
      "  [ 2 54  0]\n",
      "  ...\n",
      "  [52 92 27]\n",
      "  [56 93 29]\n",
      "  [58 95 31]]\n",
      "\n",
      " [[ 3 52  0]\n",
      "  [ 3 52  0]\n",
      "  [ 4 54  0]\n",
      "  ...\n",
      "  [48 89 22]\n",
      "  [51 92 25]\n",
      "  [55 93 27]]\n",
      "\n",
      " ...\n",
      "\n",
      " [[43 71 18]\n",
      "  [31 63  8]\n",
      "  [18 59  0]\n",
      "  ...\n",
      "  [23 88  2]\n",
      "  [23 88  2]\n",
      "  [23 88  2]]\n",
      "\n",
      " [[41 71 12]\n",
      "  [31 65  4]\n",
      "  [20 62  0]\n",
      "  ...\n",
      "  [26 90  1]\n",
      "  [26 90  1]\n",
      "  [26 90  1]]\n",
      "\n",
      " [[25 56  0]\n",
      "  [23 59  0]\n",
      "  [24 65  0]\n",
      "  ...\n",
      "  [27 91  1]\n",
      "  [27 91  1]\n",
      "  [27 91  1]]]\n",
      " 형태:<built-in method reshape of numpy.ndarray object at 0x0000021BC4FC0D50>,\n",
      "차원:3D\n"
     ]
    }
   ],
   "source": [
    "# 정보확인\n",
    "\n",
    "if color_img.size > 0:\n",
    "\tprint(f'{ FILE_NAME}')\n",
    "\tprint(f'{color_img}\\n 형태:{color_img.reshape},\\n차원:{color_img.ndim}D')\n",
    "else:\n",
    "\tprint(f'{FILE_NAME}')\n",
    "\tprint(f'형태 :{color_img.shape}')"
   ]
  },
  {
   "cell_type": "code",
   "execution_count": 19,
   "metadata": {},
   "outputs": [],
   "source": [
    "import time\n",
    "# 이미지 체널 분리\n",
    "\n",
    "img_b, img_g, img_r = cv2.split(color_img)\n",
    "\n",
    "img_rgb = cv2.merge((img_r,img_g,img_b))\n",
    "\n",
    "\n",
    "cv2.imshow('[RGB IMAGE] ', img_rgb)\n",
    "cv2.imshow('[BGR IMAGE]', color_img)\n",
    "cv2.waitKey(0)\n",
    "cv2.destroyAllWindows()\n",
    "\n",
    "# cv2.imshow('[Blue Channel]', img_b)\n",
    "# cv2.imshow('[Green Channel]', img_g)\n",
    "# cv2.imshow('[Red Channel]', img_r)\n",
    "\n",
    "# cv2.waitKey()\n",
    "# #cv2.destroyAllWindows()\n",
    "# cv2.destroyWindow(f'[Blue Channel]')\n",
    "# time.sleep(2)\n",
    "# cv2.destroyWindow(f'[Green Channel]')\n",
    "# time.sleep(2)\n",
    "# cv2.destroyWindow(f'[Red Channel]')\n",
    "\n"
   ]
  },
  {
   "cell_type": "code",
   "execution_count": 14,
   "metadata": {},
   "outputs": [
    {
     "name": "stdout",
     "output_type": "stream",
     "text": [
      "blue channel : (408, 612), 2D\n",
      "green channel : (408, 612), 2D\n",
      "red channel : (408, 612), 2D\n"
     ]
    }
   ],
   "source": [
    "print(f'blue channel : {img_b.shape}, {img_b.ndim}D')\n",
    "print(f'green channel : {img_g.shape}, {img_g.ndim}D')\n",
    "print(f'red channel : {img_r.shape}, {img_r.ndim}D')"
   ]
  },
  {
   "cell_type": "code",
   "execution_count": null,
   "metadata": {},
   "outputs": [],
   "source": []
  }
 ],
 "metadata": {
  "kernelspec": {
   "display_name": "ML_CV",
   "language": "python",
   "name": "python3"
  },
  "language_info": {
   "codemirror_mode": {
    "name": "ipython",
    "version": 3
   },
   "file_extension": ".py",
   "mimetype": "text/x-python",
   "name": "python",
   "nbconvert_exporter": "python",
   "pygments_lexer": "ipython3",
   "version": "3.9.21"
  }
 },
 "nbformat": 4,
 "nbformat_minor": 2
}
