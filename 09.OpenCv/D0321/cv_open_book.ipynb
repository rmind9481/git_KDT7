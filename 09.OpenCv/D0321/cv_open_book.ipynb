{
 "cells": [
  {
   "cell_type": "code",
   "execution_count": 5,
   "metadata": {},
   "outputs": [],
   "source": [
    "import cv2\n",
    "import matplotlib.pyplot as plt\n",
    "import numpy"
   ]
  },
  {
   "cell_type": "code",
   "execution_count": 6,
   "metadata": {},
   "outputs": [],
   "source": [
    "# [1-1] 이미지 불러오기\n",
    "\n",
    "image = cv2.imread('../image/cat_test.jpg')\n"
   ]
  },
  {
   "cell_type": "code",
   "execution_count": 7,
   "metadata": {},
   "outputs": [
    {
     "data": {
      "text/plain": [
       "array([[[166, 169, 177],\n",
       "        [165, 168, 176],\n",
       "        [166, 170, 175],\n",
       "        ...,\n",
       "        [178, 182, 187],\n",
       "        [178, 181, 189],\n",
       "        [177, 180, 188]],\n",
       "\n",
       "       [[166, 169, 177],\n",
       "        [164, 167, 175],\n",
       "        [165, 169, 174],\n",
       "        ...,\n",
       "        [177, 181, 186],\n",
       "        [177, 180, 188],\n",
       "        [177, 180, 188]],\n",
       "\n",
       "       [[167, 170, 178],\n",
       "        [164, 167, 175],\n",
       "        [164, 168, 173],\n",
       "        ...,\n",
       "        [176, 180, 185],\n",
       "        [177, 181, 186],\n",
       "        [178, 182, 187]],\n",
       "\n",
       "       ...,\n",
       "\n",
       "       [[122, 127, 130],\n",
       "        [120, 124, 125],\n",
       "        [125, 128, 126],\n",
       "        ...,\n",
       "        [123, 135, 159],\n",
       "        [144, 156, 180],\n",
       "        [148, 160, 184]],\n",
       "\n",
       "       [[113, 119, 124],\n",
       "        [113, 118, 121],\n",
       "        [120, 121, 119],\n",
       "        ...,\n",
       "        [134, 147, 173],\n",
       "        [141, 154, 180],\n",
       "        [134, 147, 173]],\n",
       "\n",
       "       [[119, 125, 130],\n",
       "        [125, 130, 133],\n",
       "        [130, 131, 129],\n",
       "        ...,\n",
       "        [133, 147, 175],\n",
       "        [135, 147, 175],\n",
       "        [142, 154, 182]]], dtype=uint8)"
      ]
     },
     "execution_count": 7,
     "metadata": {},
     "output_type": "execute_result"
    }
   ],
   "source": [
    "image"
   ]
  },
  {
   "cell_type": "markdown",
   "metadata": {},
   "source": [
    "[ ROI ]"
   ]
  },
  {
   "cell_type": "code",
   "execution_count": 8,
   "metadata": {},
   "outputs": [],
   "source": [
    "x,y,w,h = cv2.selectROI('img', image, False)\n",
    "\n",
    "if w and h :\n",
    "\troi  = image[y:y+h,x:x+w]\t\t\t\t\t# \n",
    "\tcv2.imshow('cropped', roi)\t\t\t\t\t# roi 지정 영역을 새 창으로 표시\n",
    "\tcv2.moveWindow('cropped',0,0)\t\t\t\t# 새창을 화면 좌측 상단으로 이동\n",
    "\tcv2.imwrite('../image/image_roi.jpg', roi)  # roi 영역만 파일로 저장\n",
    "\n",
    "\n",
    "cv2.imshow('img', image)\n",
    "cv2.waitKey(0)\n",
    "cv2.destroyAllWindows()\n"
   ]
  },
  {
   "cell_type": "code",
   "execution_count": null,
   "metadata": {},
   "outputs": [],
   "source": []
  }
 ],
 "metadata": {
  "kernelspec": {
   "display_name": "ML_CV",
   "language": "python",
   "name": "python3"
  },
  "language_info": {
   "codemirror_mode": {
    "name": "ipython",
    "version": 3
   },
   "file_extension": ".py",
   "mimetype": "text/x-python",
   "name": "python",
   "nbconvert_exporter": "python",
   "pygments_lexer": "ipython3",
   "version": "3.9.21"
  }
 },
 "nbformat": 4,
 "nbformat_minor": 2
}
