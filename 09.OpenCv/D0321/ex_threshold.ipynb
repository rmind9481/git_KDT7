{
 "cells": [
  {
   "cell_type": "code",
   "execution_count": 1,
   "metadata": {},
   "outputs": [],
   "source": [
    "import cv2\n",
    "import numpy as np\n",
    "import matplotlib.pyplot as plt\n"
   ]
  },
  {
   "cell_type": "code",
   "execution_count": 2,
   "metadata": {},
   "outputs": [],
   "source": [
    "img = cv2.imread('../image/img/gray_gradient.jpg', cv2.IMREAD_GRAYSCALE)"
   ]
  },
  {
   "cell_type": "code",
   "execution_count": 3,
   "metadata": {},
   "outputs": [
    {
     "name": "stdout",
     "output_type": "stream",
     "text": [
      "127.0\n"
     ]
    },
    {
     "data": {
      "image/png": "[encoded data removed]",
      "text/plain": [
       "<Figure size 640x480 with 3 Axes>"
      ]
     },
     "metadata": {},
     "output_type": "display_data"
    }
   ],
   "source": [
    "# Numpy 연산으로 바이너리 이미지 만들기\n",
    "\n",
    "# 원본과 동일한 크기의 0으로 채워진 이미지\n",
    "thresh_np = np.zeros_like(img) \n",
    "\n",
    "thresh_np[ img > 127] = 255\n",
    "\n",
    "# OpenCV 함수로 바이너리 이미지 \n",
    "ret, thresh_cv = cv2.threshold(img, 127,255, cv2.THRESH_BINARY)\n",
    "\n",
    "print(ret) # 127.0 바이너리 이미지에 사용된 경꼐 값 반환\n",
    "\n",
    "# 원본과 결과물 출력\n",
    "imgs = {'Original': img, 'Numpy API ': thresh_np, 'cv2.threshold' : thresh_cv}\n",
    "\n",
    "for i , (key, value) in enumerate(imgs.items()):\n",
    "\tplt.subplot(1,3,i+1)\n",
    "\tplt.title(key)\n",
    "\tplt.imshow(value, cmap='gray')\n",
    "\tplt.xticks([]); plt.yticks([])\n",
    "\n",
    "plt.show()"
   ]
  },
  {
   "cell_type": "markdown",
   "metadata": {},
   "source": [
    "ret, out = cv2.threshold(img, threshold, value, type_flag)\n",
    "-\timg:  Numpy 배열 변환할 이미지\n",
    "-\tthreshold : 경계 값\n",
    "-\ttype_flag : 스레시홀드 적용 방법지정\n",
    "-\tcv2.THRESH_BINARY : px > threshold ? value : 0 픽셀 값이 경계 값을 넘으면 value 를 지정하고, 넘지 못하면 0을 지정\n",
    "-\tcv2.THRESH_BINARY_INV: px > threshold ? 0 : value, cv2.THRESH_BINARY 의 반대\n",
    "-\tcv2.THRESH_TRUNC: px > threshold ? threshold : px 픽셀 값이 경계 값을 넘으면 경꼐 값을 지정하고 넘지 못하면 원래의 값유지"
   ]
  },
  {
   "cell_type": "code",
   "execution_count": 4,
   "metadata": {},
   "outputs": [],
   "source": [
    "_ , t_bin = cv2.threshold(img, 127,255, cv2.THRESH_BINARY)"
   ]
  },
  {
   "cell_type": "code",
   "execution_count": null,
   "metadata": {},
   "outputs": [],
   "source": []
  }
 ],
 "metadata": {
  "kernelspec": {
   "display_name": "ML_CV",
   "language": "python",
   "name": "python3"
  },
  "language_info": {
   "codemirror_mode": {
    "name": "ipython",
    "version": 3
   },
   "file_extension": ".py",
   "mimetype": "text/x-python",
   "name": "python",
   "nbconvert_exporter": "python",
   "pygments_lexer": "ipython3",
   "version": "3.9.21"
  }
 },
 "nbformat": 4,
 "nbformat_minor": 2
}
