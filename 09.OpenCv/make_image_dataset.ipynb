{
 "cells": [
  {
   "cell_type": "markdown",
   "metadata": {},
   "source": [
    "### [이미지 데이터셋 생성]\n",
    "-\t흑백 즉, Grayscale 이미지\n",
    "-\t컬러 이미지"
   ]
  },
  {
   "cell_type": "markdown",
   "metadata": {},
   "source": [
    "[1] 모듈 로딩 및 데이터 준비 <hr>"
   ]
  },
  {
   "cell_type": "code",
   "execution_count": null,
   "metadata": {},
   "outputs": [],
   "source": [
    "import cv2 # 일번적인 포맷의 이미지 처리 모듈\n",
    "import matplotlib.pyplot as plt  \n",
    "import numpy\tas np\t# 이미지 데이터가 저장된 타입 관련 모듈\n",
    "import os # 폴더, 파일, 경로 관련 모듈"
   ]
  },
  {
   "cell_type": "code",
   "execution_count": 30,
   "metadata": {},
   "outputs": [],
   "source": [
    "# 데이터 준비\n",
    "# 경로 지정\n",
    "IMG_DIR ='./image/cat_dog/'\n",
    "GRAY_DIR = './image/Gray_image/'\n",
    "IMG_CSV ='./cat_dog.csv'"
   ]
  },
  {
   "cell_type": "code",
   "execution_count": 31,
   "metadata": {},
   "outputs": [
    {
     "name": "stdout",
     "output_type": "stream",
     "text": [
      "IMG_FILES => 342 개\n"
     ]
    }
   ],
   "source": [
    "# 데이터 파일명 리스트\n",
    "# \n",
    "IMG_FILES = os.listdir(IMG_DIR)\n",
    "\n",
    "print(f'IMG_FILES => {len(IMG_FILES)} 개')"
   ]
  },
  {
   "cell_type": "markdown",
   "metadata": {},
   "source": [
    "# [2] 이미지 데이터 로딩 및 전처리"
   ]
  },
  {
   "cell_type": "code",
   "execution_count": 32,
   "metadata": {},
   "outputs": [],
   "source": [
    "## 이미지 전처리 설정\n",
    "\n",
    "COL, ROW = 75,75 \n",
    "# COL = 가로 \n",
    "# ROW = 세로"
   ]
  },
  {
   "cell_type": "code",
   "execution_count": 33,
   "metadata": {},
   "outputs": [
    {
     "name": "stdout",
     "output_type": "stream",
     "text": [
      "cat (5625,)\n",
      "cat (5625,)\n",
      "cat (5625,)\n",
      "cat (5625,)\n",
      "cat (5625,)\n",
      "cat (5625,)\n",
      "cat (5625,)\n",
      "cat (5625,)\n",
      "cat (5625,)\n",
      "cat (5625,)\n",
      "cat (5625,)\n",
      "cat (5625,)\n",
      "cat (5625,)\n",
      "cat (5625,)\n",
      "cat (5625,)\n",
      "cat (5625,)\n",
      "cat (5625,)\n",
      "cat (5625,)\n",
      "cat (5625,)\n",
      "cat (5625,)\n",
      "cat (5625,)\n",
      "cat (5625,)\n",
      "cat (5625,)\n",
      "cat (5625,)\n",
      "cat (5625,)\n",
      "cat (5625,)\n",
      "cat (5625,)\n",
      "cat (5625,)\n",
      "cat (5625,)\n",
      "cat (5625,)\n",
      "cat (5625,)\n",
      "cat (5625,)\n",
      "cat (5625,)\n",
      "cat (5625,)\n",
      "cat (5625,)\n",
      "cat (5625,)\n",
      "cat (5625,)\n",
      "cat (5625,)\n",
      "cat (5625,)\n",
      "cat (5625,)\n",
      "cat (5625,)\n",
      "cat (5625,)\n",
      "cat (5625,)\n",
      "cat (5625,)\n",
      "cat (5625,)\n",
      "cat (5625,)\n",
      "cat (5625,)\n",
      "cat (5625,)\n",
      "cat (5625,)\n",
      "cat (5625,)\n",
      "cat (5625,)\n",
      "cat (5625,)\n",
      "cat (5625,)\n",
      "cat (5625,)\n",
      "cat (5625,)\n",
      "cat (5625,)\n",
      "cat (5625,)\n",
      "cat (5625,)\n",
      "cat (5625,)\n",
      "cat (5625,)\n",
      "cat (5625,)\n",
      "cat (5625,)\n",
      "cat (5625,)\n",
      "cat (5625,)\n",
      "cat (5625,)\n",
      "cat (5625,)\n",
      "cat (5625,)\n",
      "cat (5625,)\n",
      "cat (5625,)\n",
      "cat (5625,)\n",
      "cat (5625,)\n",
      "cat (5625,)\n",
      "cat (5625,)\n",
      "cat (5625,)\n",
      "cat (5625,)\n",
      "cat (5625,)\n",
      "cat (5625,)\n",
      "cat (5625,)\n",
      "cat (5625,)\n",
      "cat (5625,)\n",
      "cat (5625,)\n",
      "cat (5625,)\n",
      "cat (5625,)\n",
      "cat (5625,)\n",
      "cat (5625,)\n",
      "cat (5625,)\n",
      "cat (5625,)\n",
      "cat (5625,)\n",
      "cat (5625,)\n",
      "cat (5625,)\n",
      "cat (5625,)\n",
      "cat (5625,)\n",
      "cat (5625,)\n",
      "cat (5625,)\n",
      "cat (5625,)\n",
      "cat (5625,)\n",
      "cat (5625,)\n",
      "cat (5625,)\n",
      "cat (5625,)\n",
      "cat (5625,)\n",
      "cat (5625,)\n",
      "cat (5625,)\n",
      "cat (5625,)\n",
      "cat (5625,)\n",
      "cat (5625,)\n",
      "cat (5625,)\n",
      "cat (5625,)\n",
      "cat (5625,)\n",
      "cat (5625,)\n",
      "cat (5625,)\n",
      "cat (5625,)\n",
      "cat (5625,)\n",
      "cat (5625,)\n",
      "cat (5625,)\n",
      "cat (5625,)\n",
      "cat (5625,)\n",
      "cat (5625,)\n",
      "cat (5625,)\n",
      "cat (5625,)\n",
      "cat (5625,)\n",
      "cat (5625,)\n",
      "cat (5625,)\n",
      "cat (5625,)\n",
      "cat (5625,)\n",
      "cat (5625,)\n",
      "cat (5625,)\n",
      "cat (5625,)\n",
      "cat (5625,)\n",
      "cat (5625,)\n",
      "cat (5625,)\n",
      "cat (5625,)\n",
      "cat (5625,)\n",
      "cat (5625,)\n",
      "cat (5625,)\n",
      "cat (5625,)\n",
      "cat (5625,)\n",
      "cat (5625,)\n",
      "cat (5625,)\n",
      "cat (5625,)\n",
      "cat (5625,)\n",
      "cat (5625,)\n",
      "cat (5625,)\n",
      "cat (5625,)\n",
      "cat (5625,)\n",
      "cat (5625,)\n",
      "cat (5625,)\n",
      "cat (5625,)\n",
      "cat (5625,)\n",
      "cat (5625,)\n",
      "cat (5625,)\n",
      "cat (5625,)\n",
      "cat (5625,)\n",
      "cat (5625,)\n",
      "cat (5625,)\n",
      "cat (5625,)\n",
      "cat (5625,)\n",
      "cat (5625,)\n",
      "cat (5625,)\n",
      "cat (5625,)\n",
      "cat (5625,)\n",
      "cat (5625,)\n",
      "cat (5625,)\n",
      "cat (5625,)\n",
      "cat (5625,)\n",
      "cat (5625,)\n",
      "cat (5625,)\n",
      "dog (5625,)\n",
      "dog (5625,)\n",
      "dog (5625,)\n",
      "dog (5625,)\n",
      "dog (5625,)\n",
      "dog (5625,)\n",
      "dog (5625,)\n",
      "dog (5625,)\n",
      "dog (5625,)\n",
      "dog (5625,)\n",
      "dog (5625,)\n",
      "dog (5625,)\n",
      "dog (5625,)\n",
      "dog (5625,)\n",
      "dog (5625,)\n",
      "dog (5625,)\n",
      "dog (5625,)\n",
      "dog (5625,)\n",
      "dog (5625,)\n",
      "dog (5625,)\n",
      "dog (5625,)\n",
      "dog (5625,)\n",
      "dog (5625,)\n",
      "dog (5625,)\n",
      "dog (5625,)\n",
      "dog (5625,)\n",
      "dog (5625,)\n",
      "dog (5625,)\n",
      "dog (5625,)\n",
      "dog (5625,)\n",
      "dog (5625,)\n",
      "dog (5625,)\n",
      "dog (5625,)\n",
      "dog (5625,)\n",
      "dog (5625,)\n",
      "dog (5625,)\n",
      "dog (5625,)\n",
      "dog (5625,)\n",
      "dog (5625,)\n",
      "dog (5625,)\n",
      "dog (5625,)\n",
      "dog (5625,)\n",
      "dog (5625,)\n",
      "dog (5625,)\n",
      "dog (5625,)\n",
      "dog (5625,)\n",
      "dog (5625,)\n",
      "dog (5625,)\n",
      "dog (5625,)\n",
      "dog (5625,)\n",
      "dog (5625,)\n",
      "dog (5625,)\n",
      "dog (5625,)\n",
      "dog (5625,)\n",
      "dog (5625,)\n",
      "dog (5625,)\n",
      "dog (5625,)\n",
      "dog (5625,)\n",
      "dog (5625,)\n",
      "dog (5625,)\n",
      "dog (5625,)\n",
      "dog (5625,)\n",
      "dog (5625,)\n",
      "dog (5625,)\n",
      "dog (5625,)\n",
      "dog (5625,)\n",
      "dog (5625,)\n",
      "dog (5625,)\n",
      "dog (5625,)\n",
      "dog (5625,)\n",
      "dog (5625,)\n",
      "dog (5625,)\n",
      "dog (5625,)\n",
      "dog (5625,)\n",
      "dog (5625,)\n",
      "dog (5625,)\n",
      "dog (5625,)\n",
      "dog (5625,)\n",
      "dog (5625,)\n",
      "dog (5625,)\n",
      "dog (5625,)\n",
      "dog (5625,)\n",
      "dog (5625,)\n",
      "dog (5625,)\n",
      "dog (5625,)\n",
      "dog (5625,)\n",
      "dog (5625,)\n",
      "dog (5625,)\n",
      "dog (5625,)\n",
      "dog (5625,)\n",
      "dog (5625,)\n",
      "dog (5625,)\n",
      "dog (5625,)\n",
      "dog (5625,)\n",
      "dog (5625,)\n",
      "Dog (5625,)\n",
      "Dog (5625,)\n",
      "Dog (5625,)\n",
      "Dog (5625,)\n",
      "Dog (5625,)\n",
      "Dog (5625,)\n",
      "Dog (5625,)\n",
      "Dog (5625,)\n",
      "Dog (5625,)\n",
      "Dog (5625,)\n",
      "Dog (5625,)\n",
      "Dog (5625,)\n",
      "Dog (5625,)\n",
      "Dog (5625,)\n",
      "Dog (5625,)\n",
      "Dog (5625,)\n",
      "Dog (5625,)\n",
      "Dog (5625,)\n",
      "Dog (5625,)\n",
      "Dog (5625,)\n",
      "Dog (5625,)\n",
      "Dog (5625,)\n",
      "Dog (5625,)\n",
      "Dog (5625,)\n",
      "Dog (5625,)\n",
      "Dog (5625,)\n",
      "Dog (5625,)\n",
      "Dog (5625,)\n",
      "Dog (5625,)\n",
      "Dog (5625,)\n",
      "Dog (5625,)\n",
      "Dog (5625,)\n",
      "Dog (5625,)\n",
      "Dog (5625,)\n",
      "Dog (5625,)\n",
      "Dog (5625,)\n",
      "Dog (5625,)\n",
      "Dog (5625,)\n",
      "Dog (5625,)\n",
      "Dog (5625,)\n",
      "Dog (5625,)\n",
      "Dog (5625,)\n",
      "Dog (5625,)\n",
      "Dog (5625,)\n",
      "Dog (5625,)\n",
      "Dog (5625,)\n",
      "Dog (5625,)\n",
      "Dog (5625,)\n",
      "Dog (5625,)\n",
      "Dog (5625,)\n",
      "Dog (5625,)\n",
      "Dog (5625,)\n",
      "Dog (5625,)\n",
      "Dog (5625,)\n",
      "Dog (5625,)\n",
      "Dog (5625,)\n",
      "Dog (5625,)\n",
      "Dog (5625,)\n",
      "Dog (5625,)\n",
      "Dog (5625,)\n",
      "Dog (5625,)\n",
      "Dog (5625,)\n",
      "Dog (5625,)\n",
      "Dog (5625,)\n",
      "Dog (5625,)\n",
      "Dog (5625,)\n",
      "Dog (5625,)\n",
      "Dog (5625,)\n",
      "Dog (5625,)\n",
      "Dog (5625,)\n",
      "Dog (5625,)\n",
      "Dog (5625,)\n",
      "Dog (5625,)\n",
      "Dog (5625,)\n",
      "Dog (5625,)\n",
      "Dog (5625,)\n",
      "Dog (5625,)\n",
      "Dog (5625,)\n",
      "Dog (5625,)\n",
      "dog (5625,)\n",
      "Dog (5625,)\n"
     ]
    }
   ],
   "source": [
    "# csv 파일 열기\n",
    "\n",
    "with open(IMG_CSV, mode='a') as csvF:\n",
    "\n",
    "\n",
    "\t# 이미지 로딩 \n",
    "\n",
    "\tfor filename in IMG_FILES:\n",
    "\t\t# 경로 + 파일명\n",
    "\t\tpath_name = IMG_DIR+filename\n",
    "\n",
    "\t\t#\t디버깅용 => 확인 \n",
    "\t\t# print(path_name)\n",
    "\n",
    "\t\t# 이미지 데이터 가져오기\n",
    "\t\timgData = cv2.imread(path_name, cv2.IMREAD_GRAYSCALE)\n",
    "\t\t\n",
    "\t\t# 디버깅용\n",
    "\t\t# print(imgData)\n",
    "\t\t# plt.imshow(imgData, cmap='gray')\n",
    "\n",
    "\t\t# 이미지 저장\n",
    "\t\t#save = cv2.imwrite(GRAY_DIR+'gray_'+filename)\n",
    "\t\t\n",
    "\t\t# 이미지 전처리 => 크기 통일 (이미지 마다 크기가 다르기 때문)\n",
    "\n",
    "\t\tresize_Data = cv2.resize(imgData, (COL,ROW))\n",
    "\t\t#plt.imshow(resize_Data, cmap='gray')\n",
    "\t\t\n",
    "\t\tis_save = cv2.imwrite(GRAY_DIR+'gray_'+filename,resize_Data)\n",
    "\n",
    "\t\tif not is_save:\n",
    "\t\t\tprint(f'{filename} 저장실패')\n",
    "\n",
    "\t\t# 이진화\n",
    "\t\t# ret, thresh_cv = cv2.threshold(resize_Data , -1, 255, cv2.THRESH_BINARY|cv2.THRESH_OTSU) \n",
    "\t\t# print(ret)  # 127.0, 바이너리 이미지에 사용된 문턱 값 반환\n",
    "\t\t# plt.imshow(thresh_cv, cmap='gray')\n",
    "\n",
    "\n",
    "\t\t# csv 파일에 쓰기 => 타겟, 피쳐 \n",
    "\t\t# target, 픽1, 픽2, .....\n",
    "\t\ttarget = filename[:3]\n",
    "\t\t# 2차원 데이터를 1차원으로\n",
    "\t\tfeature = resize_Data.reshape(-1)\n",
    "\t\tprint(target,feature.shape)\n",
    "\t\t\n",
    "\t\tcsvfeature =(','.join( list(map(str, feature))))\n",
    "\t\t\n",
    "\t\tcsvF.write(target+',')\n",
    "\t\tcsvF.write(csvfeature+'\\n')\n",
    "\n",
    "\n",
    "\t\t#break"
   ]
  },
  {
   "cell_type": "code",
   "execution_count": 34,
   "metadata": {},
   "outputs": [
    {
     "data": {
      "text/plain": [
       "array([2, 3, 4, 1, 2, 6, 7, 8, 9, 0])"
      ]
     },
     "execution_count": 34,
     "metadata": {},
     "output_type": "execute_result"
    }
   ],
   "source": [
    "data = np.array([[2,3,4,1,2],[6,7,8,9,0]])\n",
    "data = data.reshape(-1)\n",
    "data"
   ]
  },
  {
   "cell_type": "code",
   "execution_count": 35,
   "metadata": {},
   "outputs": [
    {
     "data": {
      "text/plain": [
       "'2,3,4,1,2,6,7,8,9,0'"
      ]
     },
     "execution_count": 35,
     "metadata": {},
     "output_type": "execute_result"
    }
   ],
   "source": [
    "','.join( list(map(str, data)) )"
   ]
  },
  {
   "cell_type": "code",
   "execution_count": 36,
   "metadata": {},
   "outputs": [],
   "source": [
    "import pandas as pd\n",
    "imgDF = pd.read_csv(IMG_CSV, header=None)"
   ]
  },
  {
   "cell_type": "code",
   "execution_count": 37,
   "metadata": {},
   "outputs": [
    {
     "name": "stdout",
     "output_type": "stream",
     "text": [
      "<class 'pandas.core.frame.DataFrame'>\n",
      "RangeIndex: 1711 entries, 0 to 1710\n",
      "Columns: 5626 entries, 0 to 5625\n",
      "dtypes: int64(5625), object(1)\n",
      "memory usage: 73.4+ MB\n"
     ]
    }
   ],
   "source": [
    "imgDF.info()"
   ]
  },
  {
   "cell_type": "code",
   "execution_count": 38,
   "metadata": {},
   "outputs": [
    {
     "data": {
      "text/html": [
       "<div>\n",
       "<style scoped>\n",
       "    .dataframe tbody tr th:only-of-type {\n",
       "        vertical-align: middle;\n",
       "    }\n",
       "\n",
       "    .dataframe tbody tr th {\n",
       "        vertical-align: top;\n",
       "    }\n",
       "\n",
       "    .dataframe thead th {\n",
       "        text-align: right;\n",
       "    }\n",
       "</style>\n",
       "<table border=\"1\" class=\"dataframe\">\n",
       "  <thead>\n",
       "    <tr style=\"text-align: right;\">\n",
       "      <th></th>\n",
       "      <th>0</th>\n",
       "      <th>1</th>\n",
       "      <th>2</th>\n",
       "      <th>3</th>\n",
       "      <th>4</th>\n",
       "      <th>5</th>\n",
       "      <th>6</th>\n",
       "      <th>7</th>\n",
       "      <th>8</th>\n",
       "      <th>9</th>\n",
       "      <th>...</th>\n",
       "      <th>5616</th>\n",
       "      <th>5617</th>\n",
       "      <th>5618</th>\n",
       "      <th>5619</th>\n",
       "      <th>5620</th>\n",
       "      <th>5621</th>\n",
       "      <th>5622</th>\n",
       "      <th>5623</th>\n",
       "      <th>5624</th>\n",
       "      <th>5625</th>\n",
       "    </tr>\n",
       "  </thead>\n",
       "  <tbody>\n",
       "    <tr>\n",
       "      <th>0</th>\n",
       "      <td>cat</td>\n",
       "      <td>251</td>\n",
       "      <td>246</td>\n",
       "      <td>254</td>\n",
       "      <td>249</td>\n",
       "      <td>244</td>\n",
       "      <td>239</td>\n",
       "      <td>244</td>\n",
       "      <td>251</td>\n",
       "      <td>239</td>\n",
       "      <td>...</td>\n",
       "      <td>39</td>\n",
       "      <td>47</td>\n",
       "      <td>58</td>\n",
       "      <td>64</td>\n",
       "      <td>65</td>\n",
       "      <td>58</td>\n",
       "      <td>53</td>\n",
       "      <td>57</td>\n",
       "      <td>62</td>\n",
       "      <td>67</td>\n",
       "    </tr>\n",
       "    <tr>\n",
       "      <th>1</th>\n",
       "      <td>cat</td>\n",
       "      <td>251</td>\n",
       "      <td>246</td>\n",
       "      <td>254</td>\n",
       "      <td>249</td>\n",
       "      <td>244</td>\n",
       "      <td>239</td>\n",
       "      <td>244</td>\n",
       "      <td>251</td>\n",
       "      <td>239</td>\n",
       "      <td>...</td>\n",
       "      <td>39</td>\n",
       "      <td>47</td>\n",
       "      <td>58</td>\n",
       "      <td>64</td>\n",
       "      <td>65</td>\n",
       "      <td>58</td>\n",
       "      <td>53</td>\n",
       "      <td>57</td>\n",
       "      <td>62</td>\n",
       "      <td>67</td>\n",
       "    </tr>\n",
       "  </tbody>\n",
       "</table>\n",
       "<p>2 rows × 5626 columns</p>\n",
       "</div>"
      ],
      "text/plain": [
       "  0     1     2     3     4     5     6     7     8     9     ...  5616  5617  \\\n",
       "0  cat   251   246   254   249   244   239   244   251   239  ...    39    47   \n",
       "1  cat   251   246   254   249   244   239   244   251   239  ...    39    47   \n",
       "\n",
       "   5618  5619  5620  5621  5622  5623  5624  5625  \n",
       "0    58    64    65    58    53    57    62    67  \n",
       "1    58    64    65    58    53    57    62    67  \n",
       "\n",
       "[2 rows x 5626 columns]"
      ]
     },
     "execution_count": 38,
     "metadata": {},
     "output_type": "execute_result"
    }
   ],
   "source": [
    "imgDF.head(2)"
   ]
  },
  {
   "cell_type": "code",
   "execution_count": 39,
   "metadata": {},
   "outputs": [
    {
     "data": {
      "text/plain": [
       "0       cat\n",
       "1       251\n",
       "2       246\n",
       "3       254\n",
       "4       249\n",
       "       ... \n",
       "5621     58\n",
       "5622     53\n",
       "5623     57\n",
       "5624     62\n",
       "5625     67\n",
       "Name: 0, Length: 5626, dtype: object"
      ]
     },
     "execution_count": 39,
     "metadata": {},
     "output_type": "execute_result"
    }
   ],
   "source": [
    "imgDF.iloc[0]"
   ]
  },
  {
   "cell_type": "code",
   "execution_count": 40,
   "metadata": {},
   "outputs": [
    {
     "data": {
      "text/plain": [
       "array([[np.int64(251), np.int64(246), np.int64(254), ..., np.int64(112),\n",
       "        np.int64(137), np.int64(148)],\n",
       "       [np.int64(251), np.int64(248), np.int64(255), ..., np.int64(92),\n",
       "        np.int64(102), np.int64(129)],\n",
       "       [np.int64(250), np.int64(241), np.int64(254), ..., np.int64(121),\n",
       "        np.int64(106), np.int64(112)],\n",
       "       ...,\n",
       "       [np.int64(142), np.int64(141), np.int64(139), ..., np.int64(62),\n",
       "        np.int64(63), np.int64(67)],\n",
       "       [np.int64(129), np.int64(134), np.int64(135), ..., np.int64(57),\n",
       "        np.int64(63), np.int64(66)],\n",
       "       [np.int64(107), np.int64(105), np.int64(102), ..., np.int64(57),\n",
       "        np.int64(62), np.int64(67)]], dtype=object)"
      ]
     },
     "execution_count": 40,
     "metadata": {},
     "output_type": "execute_result"
    }
   ],
   "source": [
    "imgDF.iloc[0,1:].values.reshape(COL,ROW)"
   ]
  },
  {
   "cell_type": "code",
   "execution_count": 42,
   "metadata": {},
   "outputs": [
    {
     "data": {
      "text/plain": [
       "0       cat\n",
       "1       251\n",
       "2       246\n",
       "3       254\n",
       "4       249\n",
       "       ... \n",
       "5621     58\n",
       "5622     53\n",
       "5623     57\n",
       "5624     62\n",
       "5625     67\n",
       "Name: 0, Length: 5626, dtype: object"
      ]
     },
     "execution_count": 42,
     "metadata": {},
     "output_type": "execute_result"
    }
   ],
   "source": [
    "## 0번행 추출 \n",
    "imgSR=imgDF.iloc[0]\n",
    "imgSR\n",
    "### 타겟(라벨)(cat)이 붙어나옴"
   ]
  },
  {
   "cell_type": "code",
   "execution_count": 43,
   "metadata": {},
   "outputs": [
    {
     "data": {
      "text/plain": [
       "('cat', (5625,), dtype('int64'))"
      ]
     },
     "execution_count": 43,
     "metadata": {},
     "output_type": "execute_result"
    }
   ],
   "source": [
    "## - 행에서 라벨/타겟과 피쳐 분리\n",
    "label = imgSR[0]            ### 리사이징\n",
    "img = imgSR[1:].astype(int)         \n",
    "\n",
    "label, img.shape, img.dtype  "
   ]
  },
  {
   "cell_type": "code",
   "execution_count": null,
   "metadata": {},
   "outputs": [],
   "source": [
    "# 첫 번째 행(이미지)을 2차원으로 reshape\n",
    "image_array = img.values.reshape(COL,ROW)"
   ]
  },
  {
   "cell_type": "code",
   "execution_count": null,
   "metadata": {},
   "outputs": [
    {
     "data": {
      "image/png": "[encoded data removed]",
      "text/plain": [
       "<Figure size 640x480 with 1 Axes>"
      ]
     },
     "metadata": {},
     "output_type": "display_data"
    }
   ],
   "source": [
    "## 시각화\n",
    "plt.imshow(image_array, cv2.IMRE)\n",
    "plt.title(label)\n",
    "plt.show()"
   ]
  }
 ],
 "metadata": {
  "kernelspec": {
   "display_name": "ML_CV",
   "language": "python",
   "name": "python3"
  },
  "language_info": {
   "codemirror_mode": {
    "name": "ipython",
    "version": 3
   },
   "file_extension": ".py",
   "mimetype": "text/x-python",
   "name": "python",
   "nbconvert_exporter": "python",
   "pygments_lexer": "ipython3",
   "version": "3.9.21"
  }
 },
 "nbformat": 4,
 "nbformat_minor": 2
}
