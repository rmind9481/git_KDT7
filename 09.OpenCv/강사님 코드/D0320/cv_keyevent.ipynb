{
 "cells": [
  {
   "cell_type": "markdown",
   "metadata": {},
   "source": [
    "#### [ EVENT 처리 - KEYEVENT ]\n",
    "- EVENT : 사용자들의 마우스나 키보드로 발생하는 동작들\n",
    "- 예: 마우스 => 클릭, 드래그, 마우스 누르기 & 떼기, 더블클릭\n",
    "- 예: 키보드 => 입력한 키 값들 알파벳, 숫자, 기호들...\n",
    "- EVENT 처리\n",
    "    * 이벤트 발생 시 진행하고 동작 코드 작성하는 것 \n",
    "    * 개발자가 원하는 기능으로 정의 "
   ]
  },
  {
   "cell_type": "markdown",
   "metadata": {},
   "source": [
    "[1] 모듈 로딩 및 데이터 준비<hr>"
   ]
  },
  {
   "cell_type": "code",
   "execution_count": 1,
   "metadata": {},
   "outputs": [],
   "source": [
    "## [1-1] 모듈 로딩\n",
    "import cv2                           # 컴퓨터비젼 모듈\n",
    "import numpy as np                   # 이미지 데이터 저장 모듈\n",
    "import matplotlib.pyplot as plt      # 시각화 모듈\n",
    "import os                            # 파일, 폴더, 경로 관련 모듈"
   ]
  },
  {
   "cell_type": "code",
   "execution_count": 2,
   "metadata": {},
   "outputs": [],
   "source": [
    "## [1-2] 데이터 준비\n",
    "IMG_DIR  = '../data/image/'\n",
    "FILENAME = 'flower.png'"
   ]
  },
  {
   "cell_type": "code",
   "execution_count": 3,
   "metadata": {},
   "outputs": [
    {
     "name": "stdout",
     "output_type": "stream",
     "text": [
      "이미지파일리스트 : 4개\n",
      "['../data/image/cat.png', '../data/image/flower.png', '../data/image/flower_gray.png', '../data/image/flower_v.jpg']\n"
     ]
    }
   ],
   "source": [
    "## 현재 모든 이미지 파일 리스트\n",
    "allitems = os.listdir(IMG_DIR)\n",
    "filelist = []\n",
    "for item in allitems:\n",
    "    # 파일과 폴더 체크 후 파일만 추출\n",
    "    #print( IMG_DIR+item )\n",
    "    #print( os.path.isfile(IMG_DIR+item) )\n",
    "    if os.path.isfile(IMG_DIR+item): \n",
    "        filelist.append(IMG_DIR+item)\n",
    "\n",
    "print(f'이미지파일리스트 : {len(filelist)}개\\n{filelist}')"
   ]
  },
  {
   "cell_type": "markdown",
   "metadata": {},
   "source": [
    "[2] 이미지 로딩 <hr>"
   ]
  },
  {
   "cell_type": "code",
   "execution_count": 4,
   "metadata": {},
   "outputs": [
    {
     "data": {
      "text/plain": [
       "array([[[255, 255, 255],\n",
       "        [255, 255, 255],\n",
       "        [255, 255, 255],\n",
       "        ...,\n",
       "        [255, 255, 255],\n",
       "        [255, 255, 255],\n",
       "        [255, 255, 255]],\n",
       "\n",
       "       [[255, 255, 255],\n",
       "        [255, 255, 255],\n",
       "        [255, 255, 255],\n",
       "        ...,\n",
       "        [255, 255, 255],\n",
       "        [255, 255, 255],\n",
       "        [255, 255, 255]],\n",
       "\n",
       "       [[255, 255, 255],\n",
       "        [255, 255, 255],\n",
       "        [255, 255, 255],\n",
       "        ...,\n",
       "        [255, 255, 255],\n",
       "        [255, 255, 255],\n",
       "        [255, 255, 255]],\n",
       "\n",
       "       ...,\n",
       "\n",
       "       [[255, 255, 255],\n",
       "        [255, 255, 255],\n",
       "        [255, 255, 255],\n",
       "        ...,\n",
       "        [255, 255, 255],\n",
       "        [255, 255, 255],\n",
       "        [255, 255, 255]],\n",
       "\n",
       "       [[255, 255, 255],\n",
       "        [255, 255, 255],\n",
       "        [255, 255, 255],\n",
       "        ...,\n",
       "        [255, 255, 255],\n",
       "        [255, 255, 255],\n",
       "        [255, 255, 255]],\n",
       "\n",
       "       [[255, 255, 255],\n",
       "        [255, 255, 255],\n",
       "        [255, 255, 255],\n",
       "        ...,\n",
       "        [255, 255, 255],\n",
       "        [255, 255, 255],\n",
       "        [255, 255, 255]]], dtype=uint8)"
      ]
     },
     "execution_count": 4,
     "metadata": {},
     "output_type": "execute_result"
    }
   ],
   "source": [
    "## 로딩 : 경로+파일명 \n",
    "colorIMG=cv2.imread(IMG_DIR+FILENAME, cv2.IMREAD_COLOR)\n",
    "colorIMG"
   ]
  },
  {
   "cell_type": "code",
   "execution_count": 5,
   "metadata": {},
   "outputs": [
    {
     "name": "stdout",
     "output_type": "stream",
     "text": [
      "flower.png\n",
      "형태:(360, 366, 3)    차원:3D\n"
     ]
    }
   ],
   "source": [
    "## 정보확인\n",
    "if colorIMG is None:\n",
    "    print(f\"{colorIMG} :이미지 체크\")\n",
    "else:\n",
    "    print(f'{FILENAME}')\n",
    "    print(f'형태:{colorIMG.shape}    차원:{colorIMG.ndim}D')\n",
    "\n",
    "## 이미지 형태 : (행,  열, 채널)"
   ]
  },
  {
   "cell_type": "markdown",
   "metadata": {},
   "source": [
    "[3] 이미지 출력 및 이벤트 체크<hr>"
   ]
  },
  {
   "cell_type": "code",
   "execution_count": 10,
   "metadata": {},
   "outputs": [
    {
     "name": "stdout",
     "output_type": "stream",
     "text": [
      "key => 97 - a\n",
      "key => 110 - n\n",
      "key => 27 - \u001b\n",
      "key => 13 - \n",
      "key => 113 - q\n"
     ]
    }
   ],
   "source": [
    "#          창 타이들, 이미지데이터\n",
    "cv2.imshow(FILENAME, colorIMG)\n",
    "\n",
    "while True:\n",
    "    # 창에 대한 사용자 이벤트 처리\n",
    "    key=cv2.waitKey()\n",
    "    print(f'key => {key} - {chr(key)}')\n",
    "\n",
    "    # 특정 키이벤트에 따른 처리 코드\n",
    "    if key in [ord('q'), ord('Q')]: \n",
    "        # 창 닫고 종료\n",
    "        cv2.destroyAllWindows()\n",
    "        break \n",
    "    elif key in [ord('s'), ord('S')]: \n",
    "        # 이미지 저장하기\n",
    "        ret=cv2.imwrite(IMG_DIR+'copy_'+FILENAME, colorIMG)\n",
    "        print(f'저장 여부 : {\"저장\" if ret else \"실패\"}')"
   ]
  }
 ],
 "metadata": {
  "kernelspec": {
   "display_name": "ML_CV",
   "language": "python",
   "name": "python3"
  },
  "language_info": {
   "codemirror_mode": {
    "name": "ipython",
    "version": 3
   },
   "file_extension": ".py",
   "mimetype": "text/x-python",
   "name": "python",
   "nbconvert_exporter": "python",
   "pygments_lexer": "ipython3",
   "version": "3.9.21"
  }
 },
 "nbformat": 4,
 "nbformat_minor": 2
}
