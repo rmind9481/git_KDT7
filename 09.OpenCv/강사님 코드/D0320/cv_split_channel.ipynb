{
 "cells": [
  {
   "cell_type": "markdown",
   "metadata": {},
   "source": [
    "#### [ 이미지 채널 분리 ]\n",
    "- opencv는 이미지 데이터 저장 순서가 BGR\n",
    "- 채널 분리 후 채널별 출력"
   ]
  },
  {
   "cell_type": "markdown",
   "metadata": {},
   "source": [
    "\n",
    "[1] 모듈 로딩 및 데이터 준비 <hr>"
   ]
  },
  {
   "cell_type": "code",
   "execution_count": 1,
   "metadata": {},
   "outputs": [],
   "source": [
    "## [1-1] 모듈 로딩\n",
    "import cv2                           # 컴퓨터비젼 모듈\n",
    "import numpy as np                   # 이미지 데이터 저장 모듈\n",
    "import matplotlib.pyplot as plt      # 시각화 모듈\n",
    "import os                            # 파일, 폴더, 경로 관련 모듈"
   ]
  },
  {
   "cell_type": "code",
   "execution_count": 2,
   "metadata": {},
   "outputs": [],
   "source": [
    "## [1-2] 데이터 준비\n",
    "IMG_DIR  = '../data/image/'\n",
    "FILENAME = 'flower.png'"
   ]
  },
  {
   "cell_type": "markdown",
   "metadata": {},
   "source": [
    "[2] 이미지 로딩<hr>"
   ]
  },
  {
   "cell_type": "code",
   "execution_count": 3,
   "metadata": {},
   "outputs": [
    {
     "data": {
      "text/plain": [
       "array([[[255, 255, 255],\n",
       "        [255, 255, 255],\n",
       "        [255, 255, 255],\n",
       "        ...,\n",
       "        [255, 255, 255],\n",
       "        [255, 255, 255],\n",
       "        [255, 255, 255]],\n",
       "\n",
       "       [[255, 255, 255],\n",
       "        [255, 255, 255],\n",
       "        [255, 255, 255],\n",
       "        ...,\n",
       "        [255, 255, 255],\n",
       "        [255, 255, 255],\n",
       "        [255, 255, 255]],\n",
       "\n",
       "       [[255, 255, 255],\n",
       "        [255, 255, 255],\n",
       "        [255, 255, 255],\n",
       "        ...,\n",
       "        [255, 255, 255],\n",
       "        [255, 255, 255],\n",
       "        [255, 255, 255]],\n",
       "\n",
       "       ...,\n",
       "\n",
       "       [[255, 255, 255],\n",
       "        [255, 255, 255],\n",
       "        [255, 255, 255],\n",
       "        ...,\n",
       "        [255, 255, 255],\n",
       "        [255, 255, 255],\n",
       "        [255, 255, 255]],\n",
       "\n",
       "       [[255, 255, 255],\n",
       "        [255, 255, 255],\n",
       "        [255, 255, 255],\n",
       "        ...,\n",
       "        [255, 255, 255],\n",
       "        [255, 255, 255],\n",
       "        [255, 255, 255]],\n",
       "\n",
       "       [[255, 255, 255],\n",
       "        [255, 255, 255],\n",
       "        [255, 255, 255],\n",
       "        ...,\n",
       "        [255, 255, 255],\n",
       "        [255, 255, 255],\n",
       "        [255, 255, 255]]], dtype=uint8)"
      ]
     },
     "execution_count": 3,
     "metadata": {},
     "output_type": "execute_result"
    }
   ],
   "source": [
    "## 로딩 : 경로+파일명 \n",
    "colorIMG=cv2.imread(IMG_DIR+FILENAME, cv2.IMREAD_COLOR)\n",
    "colorIMG"
   ]
  },
  {
   "cell_type": "code",
   "execution_count": 4,
   "metadata": {},
   "outputs": [
    {
     "name": "stdout",
     "output_type": "stream",
     "text": [
      "flower.png\n",
      "형태:(360, 366, 3)    차원:3D\n"
     ]
    }
   ],
   "source": [
    "## 정보확인\n",
    "if colorIMG is None:\n",
    "    print(f\"{colorIMG} :이미지 체크\")\n",
    "else:\n",
    "    print(f'{FILENAME}')\n",
    "    print(f'형태:{colorIMG.shape}    차원:{colorIMG.ndim}D')\n",
    "\n",
    "## 이미지 형태 : (행,  열, 채널)"
   ]
  },
  {
   "cell_type": "markdown",
   "metadata": {},
   "source": [
    "[3] 채널 분리<hr>"
   ]
  },
  {
   "cell_type": "code",
   "execution_count": 8,
   "metadata": {},
   "outputs": [
    {
     "name": "stdout",
     "output_type": "stream",
     "text": [
      "blue  channel : (360, 366), 2D\n",
      "green channel : (360, 366), 2D\n",
      "red   channel : (360, 366), 2D\n"
     ]
    }
   ],
   "source": [
    "## 이미지 raw 데이터 채널 분리\n",
    "img_b, img_g, img_r = cv2.split(colorIMG)\n",
    "\n",
    "print(f'blue  channel : {img_b.shape}, {img_b.ndim}D')\n",
    "print(f'green channel : {img_g.shape}, {img_g.ndim}D')\n",
    "print(f'red   channel : {img_r.shape}, {img_r.ndim}D')"
   ]
  },
  {
   "cell_type": "code",
   "execution_count": null,
   "metadata": {},
   "outputs": [],
   "source": [
    "##  이미지 출력\n",
    "import time \n",
    "\n",
    "cv2.imshow('[BLUE]', img_b)\n",
    "cv2.imshow('[GREEN]', img_g)\n",
    "cv2.imshow('[RED]', img_r)\n",
    "\n",
    "cv2.waitKey()\n",
    "cv2.destroyWindow('[BLUE]')\n",
    "\n",
    "time.sleep(2)   # 2sec 일시정지\n",
    "\n",
    "cv2.destroyWindow('[GREEN]')\n",
    "\n",
    "time.sleep(2)   # 2sec 일시정지\n",
    "\n",
    "cv2.destroyWindow('[RED]')"
   ]
  },
  {
   "cell_type": "markdown",
   "metadata": {},
   "source": [
    "[4] 채널 병합<hr>"
   ]
  },
  {
   "cell_type": "code",
   "execution_count": 13,
   "metadata": {},
   "outputs": [],
   "source": [
    "## RGB & BGR 채널에 따른 이미지 비교\n",
    "imgRGB = cv2.merge((img_r, img_g, img_b))\n"
   ]
  },
  {
   "cell_type": "code",
   "execution_count": 14,
   "metadata": {},
   "outputs": [],
   "source": [
    "cv2.imshow('[ BRG ]', colorIMG)\n",
    "cv2.imshow('[ RGB ]', imgRGB)\n",
    "\n",
    "# 이미지 화면 창 클릭 후 키보드 키 입력 ==> 모든 창 닫기\n",
    "cv2.waitKey()\n",
    "cv2.destroyAllWindows()"
   ]
  }
 ],
 "metadata": {
  "kernelspec": {
   "display_name": "ML_CV",
   "language": "python",
   "name": "python3"
  },
  "language_info": {
   "codemirror_mode": {
    "name": "ipython",
    "version": 3
   },
   "file_extension": ".py",
   "mimetype": "text/x-python",
   "name": "python",
   "nbconvert_exporter": "python",
   "pygments_lexer": "ipython3",
   "version": "3.9.21"
  }
 },
 "nbformat": 4,
 "nbformat_minor": 2
}
