{
 "cells": [
  {
   "cell_type": "markdown",
   "metadata": {},
   "source": [
    "#### [ 이미지를 파일 데이터셋으로 생성 ]\n",
    "- 이미지 파일의 raw data 사용\n",
    "- 데이터셋 파일 : csv, json, ... 등등 개발자 선택\n",
    "- 데이터셋 파일 구성 : 라벨 +피쳐,  피쳐+라벨\n",
    "- 1개의 행(row)에 1개 이미지가 저장됨!"
   ]
  },
  {
   "cell_type": "markdown",
   "metadata": {},
   "source": [
    "[1] 모듈 로딩 및 데이터 준비 <hr>"
   ]
  },
  {
   "cell_type": "code",
   "execution_count": 32,
   "metadata": {},
   "outputs": [],
   "source": [
    "## [1-1] 모듈 로딩\n",
    "import cv2                        ## 일반적인 이미지 파일들에서 순수 이미지 데이터 다루는 모듈\n",
    "import matplotlib.pyplot as plt   ## 시각화\n",
    "import numpy as np                ## 순수 이미지 데이터의 저장 형식 ndarray\n",
    "import os                         ## 폴더, 파일, 경로 관련 "
   ]
  },
  {
   "cell_type": "code",
   "execution_count": 33,
   "metadata": {},
   "outputs": [],
   "source": [
    "## [1-2] 데이터 준비\n",
    "IMG_DIR = '../data/image/'       ## 이미지 존재 폴더\n",
    "ROW, COL = 60, 60                ## 이미지 리사이징 크기 \n",
    "IMG_CSV = '../data/animal.csv'   ## 이미지 라벨과 이미지 로우데이터 저장 파일"
   ]
  },
  {
   "cell_type": "code",
   "execution_count": 34,
   "metadata": {},
   "outputs": [
    {
     "name": "stdout",
     "output_type": "stream",
     "text": [
      "['cat.jpg', 'cat.png', 'flower.png', 'flower_v.jpg']\n"
     ]
    }
   ],
   "source": [
    "## [1-3] 사용 이미지 파일리스트 추출\n",
    "IMG_FILELIST = os.listdir(IMG_DIR)\n",
    "\n",
    "for filename in IMG_FILELIST:\n",
    "    if not os.path.isfile(IMG_DIR+filename):\n",
    "        # 파일이 아닌 경우 처리 리스트에서 제거\n",
    "        IMG_FILELIST.remove(filename)\n",
    "\n",
    "print(IMG_FILELIST)"
   ]
  },
  {
   "cell_type": "code",
   "execution_count": 35,
   "metadata": {},
   "outputs": [
    {
     "name": "stdout",
     "output_type": "stream",
     "text": [
      "jpg\n",
      "png\n",
      "png\n",
      "jpg\n",
      "['cat.jpg', 'cat.png', 'flower.png', 'flower_v.jpg']\n"
     ]
    }
   ],
   "source": [
    "for filename in IMG_FILELIST:\n",
    "    ## 파일명에서 확장자 추출\n",
    "    print(filename[ filename.index('.')+1: ])\n",
    "    if filename[ filename.index('.')+1: ] not in ['jpg','jpeg','png','bmp']:\n",
    "        IMG_FILELIST.remove(filename)\n",
    "\n",
    "print(IMG_FILELIST)"
   ]
  },
  {
   "cell_type": "markdown",
   "metadata": {},
   "source": [
    "[2] 이미지 데이터 로딩<hr>"
   ]
  },
  {
   "cell_type": "code",
   "execution_count": 36,
   "metadata": {},
   "outputs": [
    {
     "name": "stdout",
     "output_type": "stream",
     "text": [
      "grayIMG => (168, 299)\n",
      "grayIMG => (60, 60)\n",
      "grayFile => ../data/image/gray_cat.jpg\n",
      "label => cat, data => (3600,)\n",
      "sdata => ['176', '177', '180', '181', '183', '185', '187', '188', '189', '191', '192', '194', '194', '195', '197', '197', '198', '200', '201', '202', '204', '205', '206', '207', '209', '209', '210', '211', '211', '212']\n",
      "grayIMG => (267, 237)\n",
      "grayIMG => (60, 60)\n",
      "grayFile => ../data/image/gray_cat.png\n",
      "label => cat, data => (3600,)\n",
      "sdata => ['149', '149', '146', '144', '139', '140', '141', '143', '145', '145', '147', '148', '152', '155', '158', '158', '160', '160', '162', '163', '166', '166', '166', '166', '165', '165', '163', '161', '160', '159']\n",
      "grayIMG => (360, 366)\n",
      "grayIMG => (60, 60)\n",
      "grayFile => ../data/image/gray_flower.png\n",
      "label => flo, data => (3600,)\n",
      "sdata => ['255', '255', '255', '255', '255', '255', '255', '255', '255', '255', '255', '255', '255', '255', '255', '255', '255', '255', '255', '255', '255', '255', '255', '255', '255', '255', '255', '255', '255', '252']\n",
      "grayIMG => (312, 357)\n",
      "grayIMG => (60, 60)\n",
      "grayFile => ../data/image/gray_flower_v.jpg\n",
      "label => flo, data => (3600,)\n",
      "sdata => ['53', '52', '49', '48', '46', '44', '43', '44', '46', '45', '44', '43', '44', '50', '54', '53', '48', '45', '51', '52', '48', '43', '40', '40', '44', '48', '53', '59', '58', '57']\n"
     ]
    }
   ],
   "source": [
    "## Grayscale 형식으로 이미지 데이터 로딩\n",
    "with open(IMG_CSV, mode='a') as csvF:\n",
    "    for filename in IMG_FILELIST:\n",
    "        # - 1채널로 이미지 로딩\n",
    "        grayIMG = cv2.imread(IMG_DIR+filename, cv2.IMREAD_GRAYSCALE)\n",
    "        print(f'grayIMG => {grayIMG.shape}')\n",
    "\n",
    "        # - 사이즈 조정\n",
    "        grayIMG = cv2.resize(grayIMG, (COL, ROW))\n",
    "        print(f'grayIMG => {grayIMG.shape}')\n",
    "\n",
    "        # - 파일로 저장 \n",
    "        grayFile = f'{IMG_DIR}gray_{filename}'\n",
    "        print(f'grayFile => {grayFile}')\n",
    "        \n",
    "        ret = cv2.imwrite(grayFile, grayIMG)\n",
    "        if not ret: print(f'Fail => {grayFile}')\n",
    "\n",
    "        # - CSV 파일 쓰기 => 라벨, 픽셀1, 픽셀2,....., 픽셀n\n",
    "        label=filename[:3]\n",
    "        data = grayIMG.reshape(-1)\n",
    "        print(f'label => {label}, data => {data.shape}')\n",
    "\n",
    "        sdata = list(map(lambda n: str(n), data)) \n",
    "        print(f'sdata => {sdata[:30]}')\n",
    "\n",
    "        csvF.write(str(label)+\",\")                 # 숫자 라벨 쓰기\n",
    "        csvF.write(','.join(sdata) + \"\\n\")         # 리스트 이미지 데이터 -> 문자열 변환 후 쓰기\n",
    "        \n",
    "       "
   ]
  }
 ],
 "metadata": {
  "kernelspec": {
   "display_name": "ML_CV",
   "language": "python",
   "name": "python3"
  },
  "language_info": {
   "codemirror_mode": {
    "name": "ipython",
    "version": 3
   },
   "file_extension": ".py",
   "mimetype": "text/x-python",
   "name": "python",
   "nbconvert_exporter": "python",
   "pygments_lexer": "ipython3",
   "version": "3.9.21"
  }
 },
 "nbformat": 4,
 "nbformat_minor": 2
}
