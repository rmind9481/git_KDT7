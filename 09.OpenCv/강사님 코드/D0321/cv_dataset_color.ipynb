{
 "cells": [
  {
   "cell_type": "markdown",
   "metadata": {},
   "source": [
    "#### [ 이미지를 파일 데이터셋으로 생성 ]\n",
    "- 이미지 파일의 raw data 사용\n",
    "- 데이터셋 파일 : csv, json, ... 등등 개발자 선택\n",
    "- 데이터셋 파일 구성 : 라벨 +피쳐,  피쳐+라벨\n",
    "- 1개의 행(row)에 1개 이미지가 저장됨!"
   ]
  },
  {
   "cell_type": "markdown",
   "metadata": {},
   "source": [
    "[1] 모듈 로딩 및 데이터 준비 <hr>"
   ]
  },
  {
   "cell_type": "code",
   "execution_count": 3,
   "metadata": {},
   "outputs": [],
   "source": [
    "## [1-1] 모듈 로딩\n",
    "import cv2                        ## 일반적인 이미지 파일들에서 순수 이미지 데이터 다루는 모듈\n",
    "import matplotlib.pyplot as plt   ## 시각화\n",
    "import numpy as np                ## 순수 이미지 데이터의 저장 형식 ndarray\n",
    "import os                         ## 폴더, 파일, 경로 관련 "
   ]
  },
  {
   "cell_type": "code",
   "execution_count": 4,
   "metadata": {},
   "outputs": [],
   "source": [
    "## [1-2] 데이터 준비\n",
    "IMG_DIR  = '../data/image/'              ## 이미지 존재 폴더\n",
    "ROW, COL = 60, 60                        ## 이미지 리사이징 크기 \n",
    "DS_DIR   = '../data/image/DS/'           ## 학습에 사용할 이미지 저장 폴더\n",
    "IMG_CSV  = '../data/animal_color.csv'    ## 이미지 라벨과 이미지 로우데이터 저장 파일\n",
    "\n",
    "DEBUG_MODE = True                        ## 개발 단계에서 코드 체크 용도"
   ]
  },
  {
   "cell_type": "code",
   "execution_count": 5,
   "metadata": {},
   "outputs": [
    {
     "name": "stdout",
     "output_type": "stream",
     "text": [
      "../data/image/DS/ 존재함!\n"
     ]
    }
   ],
   "source": [
    "## 학습용 이미지 저장 폴더 생성\n",
    "if not os.path.exists(DS_DIR):\n",
    "    os.mkdir(DS_DIR)\n",
    "else:\n",
    "    print(f'{DS_DIR} 존재함!')"
   ]
  },
  {
   "cell_type": "code",
   "execution_count": 9,
   "metadata": {},
   "outputs": [
    {
     "name": "stdout",
     "output_type": "stream",
     "text": [
      "['4027.png', '4star.jpg', '5shapes.jpg', 'abnormal.jpg', 'actor.jpg', 'aircraft.jpg', 'bad_rect.png', 'big_buck.avi', 'blank_500.jpg', 'boy_face.jpg', 'bright.jpg', 'bright_abnormal.jpg', 'cat.jpg', 'cat.png', 'cat_dog_gray', 'children.jpg', 'coins_connected.jpg', 'coins_spread1.jpg', 'cube.jpg', 'digits.png', 'drawing.jpg', 'dr_ochanomizu.jpg', 'figures.jpg', 'figures2.jpg', 'figures3.jpg', 'figures4.jpg', 'figures4.png', 'figures5.jpg', 'fish.jpg', 'flower.png', 'flower_v.jpg', 'flower_wall.jpg', 'full_body.jpg', 'gaussian_noise.jpg', 'girl.jpg', 'girl_face.jpg', 'girl_gray.jpg', 'gray_gradient.jpg', 'hand.jpg', 'highway.mp4', 'house.jpg', 'jetstar.jpg', 'lightning.png', 'lion_face.jpg', 'man_chromakey.jpg', 'man_face.jpg', 'mask_hannibal.png', 'model.jpg', 'model2.jpg', 'model3.jpg', 'moon_gray.jpg', 'morphological.png', 'morph_dot.png', 'morph_hole.png', 'motorbike.jpg', 'motorcycle.jpg', 'mountain.jpg', 'my_hand.jpg', 'opencv_logo.png', 'paper.jpg', 'pistol.jpg', 'pump_horse.jpg', 'restaurant1.jpg', 'restaurant2.jpg', 'robot_arm1.jpg', 'robot_arm2.jpg', 'roi_cat.png', 'salt_pepper_noise.jpg', 'scaned_paper.jpg', 'shapes.png', 'shapestomatch.jpg', 'shapes_donut.png', 'skull.jpg', 'street.jpg', 'sudoku.jpg', 'sudoku.png', 'sunset.jpg', 'taekwonv1.jpg', 'taekwonv2.jpg', 'taekwonv3.jpg', 'taekwon_v.jpg', 'walking.avi', 'wing_wall.jpg', 'yate.jpg']\n"
     ]
    }
   ],
   "source": [
    "## [1-3] 사용 이미지 파일리스트 추출\n",
    "IMG_FILELIST = os.listdir(IMG_DIR)\n",
    "\n",
    "for filename in IMG_FILELIST:\n",
    "    if not os.path.isfile(IMG_DIR+filename):\n",
    "        # 파일이 아닌 경우 처리 리스트에서 제거\n",
    "        IMG_FILELIST.remove(filename)\n",
    "\n",
    "if DEBUG_MODE: print(IMG_FILELIST)"
   ]
  },
  {
   "cell_type": "code",
   "execution_count": 10,
   "metadata": {},
   "outputs": [
    {
     "name": "stdout",
     "output_type": "stream",
     "text": [
      "['4star.jpg', 'abnormal.jpg', 'aircraft.jpg', 'big_buck.avi', 'boy_face.jpg', 'bright_abnormal.jpg', 'cat.png', 'children.jpg', 'coins_spread1.jpg', 'digits.png', 'dr_ochanomizu.jpg', 'figures2.jpg', 'figures4.jpg', 'figures5.jpg', 'flower.png', 'flower_wall.jpg', 'gaussian_noise.jpg', 'girl_face.jpg', 'gray_gradient.jpg', 'highway.mp4', 'jetstar.jpg', 'lion_face.jpg', 'man_face.jpg', 'model.jpg', 'model3.jpg', 'morphological.png', 'morph_hole.png', 'motorcycle.jpg', 'my_hand.jpg', 'paper.jpg', 'pump_horse.jpg', 'restaurant2.jpg', 'robot_arm2.jpg', 'salt_pepper_noise.jpg', 'shapes.png', 'shapes_donut.png', 'street.jpg', 'sudoku.png', 'taekwonv1.jpg', 'taekwonv3.jpg', 'walking.avi', 'yate.jpg']\n"
     ]
    }
   ],
   "source": [
    "for filename in IMG_FILELIST:\n",
    "    ## 파일명에서 확장자 추출\n",
    "    if filename in ['.jpg','.jpeg','.png','.bmp']:\n",
    "        pass\n",
    "    else:\n",
    "        IMG_FILELIST.remove(filename)\n",
    "\n",
    "\n",
    "print(IMG_FILELIST)"
   ]
  },
  {
   "cell_type": "markdown",
   "metadata": {},
   "source": [
    "[2] 이미지 데이터 로딩<hr>"
   ]
  },
  {
   "cell_type": "code",
   "execution_count": 8,
   "metadata": {},
   "outputs": [
    {
     "name": "stdout",
     "output_type": "stream",
     "text": [
      "rgbIMG => (211, 210, 3)\n",
      "rgbIMG => (60, 60, 3)\n",
      "resizeFile => ../data/image/DS/resize_4star.jpg\n",
      "label => 4st, data => (10800,)\n",
      "sdata => ['255', '255', '255', '255', '255', '255', '255', '255', '255', '255', '255', '255', '255', '255', '255', '255', '255', '255', '255', '255', '255', '255', '255', '255', '255', '255', '255', '255', '255', '255']\n",
      "rgbIMG => (360, 480, 3)\n",
      "rgbIMG => (60, 60, 3)\n",
      "resizeFile => ../data/image/DS/resize_abnormal.jpg\n",
      "label => abn, data => (10800,)\n",
      "sdata => ['152', '159', '118', '135', '122', '154', '160', '156', '149', '167', '173', '175', '175', '174', '174', '174', '175', '175', '175', '175', '175', '175', '175', '176', '176', '176', '176', '176', '176', '176']\n",
      "rgbIMG => (451, 638, 3)\n",
      "rgbIMG => (60, 60, 3)\n",
      "resizeFile => ../data/image/DS/resize_aircraft.jpg\n",
      "label => air, data => (10800,)\n",
      "sdata => ['158', '158', '158', '158', '157', '158', '157', '157', '156', '157', '157', '156', '156', '155', '155', '154', '154', '154', '155', '154', '153', '153', '152', '153', '152', '152', '154', '151', '152', '152']\n"
     ]
    },
    {
     "ename": "AttributeError",
     "evalue": "'NoneType' object has no attribute 'shape'",
     "output_type": "error",
     "traceback": [
      "\u001b[1;31m---------------------------------------------------------------------------\u001b[0m",
      "\u001b[1;31mAttributeError\u001b[0m                            Traceback (most recent call last)",
      "Cell \u001b[1;32mIn[8], line 6\u001b[0m\n\u001b[0;32m      3\u001b[0m \u001b[38;5;28;01mfor\u001b[39;00m filename \u001b[38;5;129;01min\u001b[39;00m IMG_FILELIST:\n\u001b[0;32m      4\u001b[0m     \u001b[38;5;66;03m# - 3채널로 이미지 로딩\u001b[39;00m\n\u001b[0;32m      5\u001b[0m     rgbIMG \u001b[38;5;241m=\u001b[39m cv2\u001b[38;5;241m.\u001b[39mimread(IMG_DIR\u001b[38;5;241m+\u001b[39mfilename, cv2\u001b[38;5;241m.\u001b[39mIMREAD_COLOR)\n\u001b[1;32m----> 6\u001b[0m     \u001b[38;5;28mprint\u001b[39m(\u001b[38;5;124mf\u001b[39m\u001b[38;5;124m'\u001b[39m\u001b[38;5;124mrgbIMG => \u001b[39m\u001b[38;5;132;01m{\u001b[39;00mrgbIMG\u001b[38;5;241m.\u001b[39mshape\u001b[38;5;132;01m}\u001b[39;00m\u001b[38;5;124m'\u001b[39m)\n\u001b[0;32m      8\u001b[0m     \u001b[38;5;66;03m# - 사이즈 조정\u001b[39;00m\n\u001b[0;32m      9\u001b[0m     rgbIMG \u001b[38;5;241m=\u001b[39m cv2\u001b[38;5;241m.\u001b[39mresize(rgbIMG, (COL, ROW))\n",
      "\u001b[1;31mAttributeError\u001b[0m: 'NoneType' object has no attribute 'shape'"
     ]
    }
   ],
   "source": [
    "## RGB Color 형식으로 이미지 데이터 로딩\n",
    "with open(IMG_CSV, mode='a') as csvF:\n",
    "    for filename in IMG_FILELIST:\n",
    "        # - 3채널로 이미지 로딩\n",
    "        rgbIMG = cv2.imread(IMG_DIR+filename, cv2.IMREAD_COLOR)\n",
    "        print(f'rgbIMG => {rgbIMG.shape}')\n",
    "\n",
    "        # - 사이즈 조정\n",
    "        rgbIMG = cv2.resize(rgbIMG, (COL, ROW))\n",
    "        print(f'rgbIMG => {rgbIMG.shape}')\n",
    "\n",
    "        # - 파일로 저장 \n",
    "        resizeFile = f'{DS_DIR}resize_{filename}'\n",
    "        print(f'resizeFile => {resizeFile}')\n",
    "        \n",
    "        ## - opencV 채널 순서 BGR ==> 일반 RGB\n",
    "        ret = cv2.imwrite(resizeFile, cv2.cvtColor(rgbIMG, cv2.COLOR_BGR2RGB))\n",
    "        if not ret: print(f'Fail => {resizeFile}')\n",
    "\n",
    "        ## - 채널 분리 \n",
    "        b, g, r = cv2.split(rgbIMG)\n",
    "        b, g, r = b.reshape(-1) , g.reshape(-1), r.reshape(-1)\n",
    "\n",
    "        # # - CSV 파일 쓰기 => 라벨, 픽셀1, 픽셀2,....., 픽셀n\n",
    "        label=filename[:3]\n",
    "        data = np.concatenate((r, g, b)) ## 3채널 1개로 연결\n",
    "        print(f'label => {label}, data => {data.shape}')\n",
    "\n",
    "        sdata = list(map(lambda n: str(n), data)) \n",
    "        print(f'sdata => {sdata[:30]}')\n",
    "\n",
    "        csvF.write(str(label)+\",\")                 # 숫자 라벨 쓰기\n",
    "        csvF.write(','.join(sdata) + \"\\n\")         # 리스트 이미지 데이터 -> 문자열 변환 후 쓰기\n",
    "        "
   ]
  },
  {
   "cell_type": "code",
   "execution_count": null,
   "metadata": {},
   "outputs": [],
   "source": [
    "import pandas as pd"
   ]
  },
  {
   "cell_type": "code",
   "execution_count": null,
   "metadata": {},
   "outputs": [
    {
     "name": "stdout",
     "output_type": "stream",
     "text": [
      "<class 'pandas.core.frame.DataFrame'>\n",
      "RangeIndex: 4 entries, 0 to 3\n",
      "Columns: 10801 entries, 0 to 10800\n",
      "dtypes: int64(10800), object(1)\n",
      "memory usage: 337.7+ KB\n"
     ]
    }
   ],
   "source": [
    "colorDF = pd.read_csv(IMG_CSV, header=None)\n",
    "colorDF.info()"
   ]
  },
  {
   "cell_type": "code",
   "execution_count": null,
   "metadata": {},
   "outputs": [
    {
     "data": {
      "text/html": [
       "<div>\n",
       "<style scoped>\n",
       "    .dataframe tbody tr th:only-of-type {\n",
       "        vertical-align: middle;\n",
       "    }\n",
       "\n",
       "    .dataframe tbody tr th {\n",
       "        vertical-align: top;\n",
       "    }\n",
       "\n",
       "    .dataframe thead th {\n",
       "        text-align: right;\n",
       "    }\n",
       "</style>\n",
       "<table border=\"1\" class=\"dataframe\">\n",
       "  <thead>\n",
       "    <tr style=\"text-align: right;\">\n",
       "      <th></th>\n",
       "      <th>0</th>\n",
       "      <th>1</th>\n",
       "      <th>2</th>\n",
       "      <th>3</th>\n",
       "      <th>4</th>\n",
       "      <th>5</th>\n",
       "      <th>6</th>\n",
       "      <th>7</th>\n",
       "      <th>8</th>\n",
       "      <th>9</th>\n",
       "      <th>...</th>\n",
       "      <th>10791</th>\n",
       "      <th>10792</th>\n",
       "      <th>10793</th>\n",
       "      <th>10794</th>\n",
       "      <th>10795</th>\n",
       "      <th>10796</th>\n",
       "      <th>10797</th>\n",
       "      <th>10798</th>\n",
       "      <th>10799</th>\n",
       "      <th>10800</th>\n",
       "    </tr>\n",
       "  </thead>\n",
       "  <tbody>\n",
       "    <tr>\n",
       "      <th>0</th>\n",
       "      <td>cat</td>\n",
       "      <td>177</td>\n",
       "      <td>178</td>\n",
       "      <td>181</td>\n",
       "      <td>182</td>\n",
       "      <td>184</td>\n",
       "      <td>186</td>\n",
       "      <td>187</td>\n",
       "      <td>188</td>\n",
       "      <td>189</td>\n",
       "      <td>...</td>\n",
       "      <td>106</td>\n",
       "      <td>241</td>\n",
       "      <td>255</td>\n",
       "      <td>255</td>\n",
       "      <td>225</td>\n",
       "      <td>172</td>\n",
       "      <td>153</td>\n",
       "      <td>221</td>\n",
       "      <td>207</td>\n",
       "      <td>207</td>\n",
       "    </tr>\n",
       "  </tbody>\n",
       "</table>\n",
       "<p>1 rows × 10801 columns</p>\n",
       "</div>"
      ],
      "text/plain": [
       "  0      1      2      3      4      5      6      7      8      9      ...  \\\n",
       "0   cat    177    178    181    182    184    186    187    188    189  ...   \n",
       "\n",
       "   10791  10792  10793  10794  10795  10796  10797  10798  10799  10800  \n",
       "0    106    241    255    255    225    172    153    221    207    207  \n",
       "\n",
       "[1 rows x 10801 columns]"
      ]
     },
     "execution_count": 23,
     "metadata": {},
     "output_type": "execute_result"
    }
   ],
   "source": [
    "colorDF.head(1)"
   ]
  },
  {
   "cell_type": "code",
   "execution_count": null,
   "metadata": {},
   "outputs": [],
   "source": []
  }
 ],
 "metadata": {
  "kernelspec": {
   "display_name": "ML_CV",
   "language": "python",
   "name": "python3"
  },
  "language_info": {
   "codemirror_mode": {
    "name": "ipython",
    "version": 3
   },
   "file_extension": ".py",
   "mimetype": "text/x-python",
   "name": "python",
   "nbconvert_exporter": "python",
   "pygments_lexer": "ipython3",
   "version": "3.9.21"
  }
 },
 "nbformat": 4,
 "nbformat_minor": 2
}
