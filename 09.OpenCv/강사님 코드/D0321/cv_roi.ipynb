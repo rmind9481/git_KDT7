{
 "cells": [
  {
   "cell_type": "markdown",
   "metadata": {},
   "source": [
    "#### [ 이미지 - 관심영역 지정 ]\n",
    "- 원하는 부분의 이미지만 추출하기 위한 방법\n"
   ]
  },
  {
   "cell_type": "markdown",
   "metadata": {},
   "source": [
    "[1] 모듈 로딩 및 데이터 준비 <hr>"
   ]
  },
  {
   "cell_type": "code",
   "execution_count": 4,
   "metadata": {},
   "outputs": [],
   "source": [
    "## [1-1] 모듈 로딩\n",
    "import cv2                           # 컴퓨터비젼 모듈\n",
    "import numpy as np                   # 이미지 데이터 저장 모듈\n",
    "import matplotlib.pyplot as plt      # 시각화 모듈\n",
    "import os                            # 파일, 폴더, 경로 관련 모듈"
   ]
  },
  {
   "cell_type": "code",
   "execution_count": 5,
   "metadata": {},
   "outputs": [],
   "source": [
    "## [1-2] 데이터 준비\n",
    "IMG_DIR  = '../data/image/'\n",
    "FILENAME = 'cat.png'"
   ]
  },
  {
   "cell_type": "markdown",
   "metadata": {},
   "source": [
    "[2] 이미지 로딩<hr>"
   ]
  },
  {
   "cell_type": "code",
   "execution_count": 6,
   "metadata": {},
   "outputs": [],
   "source": [
    "## 로딩 : 경로+파일명 \n",
    "dataIMG=cv2.imread(IMG_DIR+FILENAME, cv2.IMREAD_COLOR)"
   ]
  },
  {
   "cell_type": "code",
   "execution_count": 7,
   "metadata": {},
   "outputs": [
    {
     "name": "stdout",
     "output_type": "stream",
     "text": [
      "cat.png\n",
      "형태:(267, 237, 3)    차원:3D\n"
     ]
    }
   ],
   "source": [
    "## 정보확인\n",
    "if dataIMG is None:\n",
    "    print(f\"{dataIMG} :이미지 체크\")\n",
    "else:\n",
    "    print(f'{FILENAME}')\n",
    "    print(f'형태:{dataIMG.shape}    차원:{dataIMG.ndim}D')\n",
    "\n",
    "## 이미지 형태 : (행,  열, 채널)"
   ]
  },
  {
   "cell_type": "markdown",
   "metadata": {},
   "source": [
    "[3] 관심 영역 ROI 지정 및 저장 <hr>"
   ]
  },
  {
   "cell_type": "code",
   "execution_count": 10,
   "metadata": {},
   "outputs": [],
   "source": [
    "## [3-1] 이미지 일부 선택\n",
    "x, y, w, h = cv2.selectROI('img', dataIMG, False)\n",
    "if w and h:\n",
    "    roi = dataIMG[y:y+h, x:x+w]\n",
    "    cv2.imshow('roi', roi)\n",
    "    ret = cv2.imwrite(f'{IMG_DIR}roi_{FILENAME}', roi)\n",
    "    if not ret: print(f'{FILENAME} ROI FAIL!')\n",
    "cv2.waitKey()\n",
    "\n",
    "cv2.destroyAllWindows()"
   ]
  }
 ],
 "metadata": {
  "kernelspec": {
   "display_name": "ML_CV",
   "language": "python",
   "name": "python3"
  },
  "language_info": {
   "codemirror_mode": {
    "name": "ipython",
    "version": 3
   },
   "file_extension": ".py",
   "mimetype": "text/x-python",
   "name": "python",
   "nbconvert_exporter": "python",
   "pygments_lexer": "ipython3",
   "version": "3.9.21"
  }
 },
 "nbformat": 4,
 "nbformat_minor": 2
}
