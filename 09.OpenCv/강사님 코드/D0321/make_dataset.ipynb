{
 "cells": [
  {
   "cell_type": "markdown",
   "metadata": {},
   "source": [
    "#### [ TEST ]\n"
   ]
  },
  {
   "cell_type": "markdown",
   "metadata": {},
   "source": [
    "[1] 모듈 로딩 및 데이터 준비<hr>"
   ]
  },
  {
   "cell_type": "code",
   "execution_count": 10,
   "metadata": {},
   "outputs": [],
   "source": [
    "## [1-1] 모듈 로딩\n",
    "import cv2                           # 컴퓨터비젼 모듈\n",
    "import numpy as np                   # 이미지 데이터 저장 모듈\n",
    "import matplotlib.pyplot as plt      # 시각화 모듈\n",
    "import os                            # 파일, 폴더, 경로 관련 모듈"
   ]
  },
  {
   "cell_type": "code",
   "execution_count": 11,
   "metadata": {},
   "outputs": [],
   "source": [
    "## [1-2] 데이터 준비\n",
    "IMG_DIR  = '../ML_CV/data/image/cat_dog/'\n",
    "GRAY_DIR = '../ML_CV/data/image/cat_dog_gray/'\n",
    "FILE_CSV = '../ML_CV/data/cat_dog.csv'\n",
    "ROW, COL = 50, 50"
   ]
  },
  {
   "cell_type": "code",
   "execution_count": 12,
   "metadata": {},
   "outputs": [],
   "source": [
    "if not os.path.exists(GRAY_DIR):\n",
    "    os.makedirs(GRAY_DIR)\n",
    "else: \n",
    "    print(f'{GRAY_DIR} is OK!')"
   ]
  },
  {
   "cell_type": "code",
   "execution_count": 13,
   "metadata": {},
   "outputs": [
    {
     "name": "stdout",
     "output_type": "stream",
     "text": [
      "이미지파일리스트 : 143개\n",
      "['cat_(1).jpg', 'cat_(10).jpg', 'cat_(11).jpg', 'cat_(12).jpg', 'cat_(13).jpg', 'cat_(14).jpg', 'cat_(15).jpg', 'cat_(16).jpg', 'cat_(17).jpg', 'cat_(18).jpg', 'cat_(19).jpg', 'cat_(2).jpeg', 'cat_(20).jpg', 'cat_(21).jpg', 'cat_(22).jpg', 'cat_(23).jpg', 'cat_(24).jpg', 'cat_(25).jpg', 'cat_(26).jpg', 'cat_(27).jpg', 'cat_(28).jpg', 'cat_(29).jpg', 'cat_(3).jpg', 'cat_(30).jpg', 'cat_(31).jpg', 'cat_(32).jpg', 'cat_(33).jpg', 'cat_(34).jpg', 'cat_(35).jpg', 'cat_(36).jpg', 'cat_(37).jpg', 'cat_(38).jpg', 'cat_(39).jpg', 'cat_(4).jpg', 'cat_(40).jpg', 'cat_(41).jpg', 'cat_(42).jpg', 'cat_(43).jpg', 'cat_(44).jpg', 'cat_(45).jpg', 'cat_(46).jpg', 'cat_(47).jpg', 'cat_(48).jpg', 'cat_(49).jpg', 'cat_(5).jpg', 'cat_(50).jpg', 'cat_(51).jpg', 'cat_(52).jpg', 'cat_(53).jpg', 'cat_(54).jpg', 'cat_(55).jpg', 'cat_(56).jpg', 'cat_(57).jpg', 'cat_(58).jpg', 'cat_(59).jpg', 'cat_(6).jpg', 'cat_(60).jpg', 'cat_(61).jpeg', 'cat_(62).jpg', 'cat_(7).jpg', 'cat_(8).jpg', 'cat_(9).jpg', 'Dog_ (1).jpg', 'Dog_ (10).jpg', 'Dog_ (11).jpg', 'Dog_ (12).jpg', 'Dog_ (13).jpg', 'Dog_ (14).jpg', 'Dog_ (15).jpg', 'Dog_ (16).jpg', 'Dog_ (17).jpg', 'Dog_ (18).jpg', 'Dog_ (19).jpg', 'Dog_ (2).jpeg', 'Dog_ (20).jpg', 'Dog_ (21).jpg', 'Dog_ (22).jpg', 'Dog_ (23).jpg', 'Dog_ (24).jpg', 'Dog_ (25).jpg', 'Dog_ (26).jpg', 'Dog_ (27).jpg', 'Dog_ (28).jpg', 'Dog_ (29).jpg', 'Dog_ (3).jpg', 'Dog_ (30).jpg', 'Dog_ (31).jpg', 'Dog_ (32).jpg', 'Dog_ (33).jpg', 'Dog_ (34).jpg', 'Dog_ (35).jpg', 'Dog_ (36).jpg', 'Dog_ (37).jpg', 'Dog_ (38).jpg', 'Dog_ (39).jpg', 'Dog_ (4).jpg', 'Dog_ (40).jpg', 'Dog_ (41).jpg', 'Dog_ (42).jpg', 'Dog_ (43).jpg', 'Dog_ (44).jpg', 'Dog_ (45).jpg', 'Dog_ (46).jpg', 'Dog_ (47).jpg', 'Dog_ (48).jpg', 'Dog_ (49).jpg', 'Dog_ (5).jpg', 'Dog_ (50).jpg', 'Dog_ (51).jpg', 'Dog_ (52).jpg', 'Dog_ (53).jpg', 'Dog_ (54).jpg', 'Dog_ (55).jpg', 'Dog_ (56).jpg', 'Dog_ (57).jpg', 'Dog_ (58).jpg', 'Dog_ (59).jpg', 'Dog_ (6).jpg', 'Dog_ (60).jpg', 'Dog_ (61).jpg', 'Dog_ (62).jpg', 'Dog_ (63).jpg', 'Dog_ (64).jpg', 'Dog_ (65).jpg', 'Dog_ (66).jpg', 'Dog_ (67).jpg', 'Dog_ (68).jpg', 'Dog_ (69).jpg', 'Dog_ (7).jpg', 'Dog_ (70).jpg', 'Dog_ (71).jpg', 'Dog_ (72).jpg', 'Dog_ (73).jpg', 'Dog_ (74).jpg', 'Dog_ (75).jpg', 'Dog_ (76).jpg', 'Dog_ (77).jpg', 'Dog_ (78).jpg', 'Dog_ (79).jpg', 'Dog_ (8).jpg', 'Dog_ (80).jpeg', 'Dog_ (81).jpeg', 'Dog_ (9).jpg']\n"
     ]
    }
   ],
   "source": [
    "## 현재 모든 이미지 파일 리스트\n",
    "allitems = os.listdir(IMG_DIR)\n",
    "\n",
    "filelist = []\n",
    "for item in allitems:\n",
    "    if os.path.isfile(IMG_DIR+item): \n",
    "        filelist.append(item)\n",
    "\n",
    "print(f'이미지파일리스트 : {len(filelist)}개\\n{filelist}')"
   ]
  },
  {
   "cell_type": "markdown",
   "metadata": {},
   "source": [
    "[2] 이미지 로딩 <hr>"
   ]
  },
  {
   "cell_type": "code",
   "execution_count": null,
   "metadata": {},
   "outputs": [],
   "source": [
    "##  CSV Dataset 추가\n",
    "def addDataset(csvF,label, imdata):\n",
    "    # add\n",
    "    data = imdata.reshape(-1)\n",
    "    sdata = list(map(lambda n: str(n), data))  # 문자열로 변환\n",
    "    \n",
    "    #end = '' if end <0 else '\\n'\n",
    "    # CSV 파일에 쓰기 : 라벨,p1,p2,.....\n",
    "    csvF.write(str(label)+\",\")                 # 숫자 라벨 쓰기\n",
    "    csvF.write(','.join(sdata) + '\\n')         # 리스트 이미지 데이터 -> 문자열 변환 후 쓰기\n",
    "    "
   ]
  },
  {
   "cell_type": "code",
   "execution_count": null,
   "metadata": {},
   "outputs": [],
   "source": [
    "## 전처리 \n",
    "def preprocessing(filename, csvF):\n",
    "    # grayscale\n",
    "    grayIMG=cv2.imread(IMG_DIR+filename, cv2.IMREAD_GRAYSCALE)\n",
    "    \n",
    "    # resize\n",
    "    grayIMG =cv2.resize(grayIMG, (ROW, COL))\n",
    "\n",
    "    # save\n",
    "    ret = cv2.imwrite(f'{GRAY_DIR}g_{filename}', grayIMG)\n",
    "    if not ret: print(f'{filename} - fail!')\n",
    "    \n",
    "    # add\n",
    "    addDataset(csvF, filename[:3], grayIMG)\n",
    "\n",
    "    "
   ]
  },
  {
   "cell_type": "code",
   "execution_count": null,
   "metadata": {},
   "outputs": [],
   "source": [
    "## 이미지 데이터 증강 \n",
    "def augmentation(filename, csvF):\n",
    "    optionList = [ -1, 0, 1 ]\n",
    "    # grayscale\n",
    "    grayIMG=cv2.imread(f'{GRAY_DIR}g_{filename}', cv2.IMREAD_GRAYSCALE)\n",
    "\n",
    "    # flip\n",
    "    for idx, option in enumerate(optionList):\n",
    "        flipIMG=cv2.flip(grayIMG, option)\n",
    "        addDataset(csvF, filename[:3], flipIMG)\n",
    "        N_FILE = f'{GRAY_DIR}flip{idx}_g_{filename}'\n",
    "        cv2.imwrite(N_FILE, flipIMG)\n",
    "   \n",
    "    # rotation\n",
    "    H, W = grayIMG.shape\n",
    "    angles = range(0,361,30)\n",
    "    for idx, angle in enumerate(angles):\n",
    "        N_FILE = f'{GRAY_DIR}rot{angle:03}_g_{filename}'\n",
    "        angleIMG=cv2.warpAffine(grayIMG, cv2.getRotationMatrix2D((W/2, H/2), angle, 1.0), (W,H))\n",
    "        cv2.imwrite(N_FILE, angleIMG)\n",
    "        addDataset(csvF, filename[:3], angleIMG)\n",
    "\n"
   ]
  },
  {
   "cell_type": "code",
   "execution_count": 17,
   "metadata": {},
   "outputs": [],
   "source": [
    "## 시각화 기능 함수\n",
    "def drawImage(row, col, imgList):\n",
    "    fig, axes  = plt.subplots(row, col)\n",
    "    axes = axes.flatten() if col >= 2 else [axes]\n",
    "\n",
    "    for ax, img in zip(axes, imgList):\n",
    "        ax.imshow(img)\n",
    "        ax.set_title(f'{img.shape}')\n",
    "        \n",
    "    plt.tight_layout() # 보기 좋게 행과 열의 간격 띄우기\n",
    "    plt.show()\n"
   ]
  },
  {
   "cell_type": "code",
   "execution_count": null,
   "metadata": {},
   "outputs": [
    {
     "name": "stdout",
     "output_type": "stream",
     "text": [
      "cat_(1).jpg\n",
      "cat_(10).jpg\n",
      "cat_(11).jpg\n",
      "cat_(12).jpg\n",
      "cat_(13).jpg\n",
      "cat_(14).jpg\n",
      "cat_(15).jpg\n",
      "cat_(16).jpg\n",
      "cat_(17).jpg\n",
      "cat_(18).jpg\n",
      "cat_(19).jpg\n",
      "cat_(2).jpeg\n",
      "cat_(20).jpg\n",
      "cat_(21).jpg\n",
      "cat_(22).jpg\n",
      "cat_(23).jpg\n",
      "cat_(24).jpg\n",
      "cat_(25).jpg\n",
      "cat_(26).jpg\n",
      "cat_(27).jpg\n",
      "cat_(28).jpg\n",
      "cat_(29).jpg\n",
      "cat_(3).jpg\n",
      "cat_(30).jpg\n",
      "cat_(31).jpg\n",
      "cat_(32).jpg\n",
      "cat_(33).jpg\n",
      "cat_(34).jpg\n",
      "cat_(35).jpg\n",
      "cat_(36).jpg\n",
      "cat_(37).jpg\n",
      "cat_(38).jpg\n",
      "cat_(39).jpg\n",
      "cat_(4).jpg\n",
      "cat_(40).jpg\n",
      "cat_(41).jpg\n",
      "cat_(42).jpg\n",
      "cat_(43).jpg\n",
      "cat_(44).jpg\n",
      "cat_(45).jpg\n",
      "cat_(46).jpg\n",
      "cat_(47).jpg\n",
      "cat_(48).jpg\n",
      "cat_(49).jpg\n",
      "cat_(5).jpg\n",
      "cat_(50).jpg\n",
      "cat_(51).jpg\n",
      "cat_(52).jpg\n",
      "cat_(53).jpg\n",
      "cat_(54).jpg\n",
      "cat_(55).jpg\n",
      "cat_(56).jpg\n",
      "cat_(57).jpg\n",
      "cat_(58).jpg\n",
      "cat_(59).jpg\n",
      "cat_(6).jpg\n",
      "cat_(60).jpg\n",
      "cat_(61).jpeg\n",
      "cat_(62).jpg\n",
      "cat_(7).jpg\n",
      "cat_(8).jpg\n",
      "cat_(9).jpg\n",
      "Dog_ (1).jpg\n",
      "Dog_ (10).jpg\n",
      "Dog_ (11).jpg\n",
      "Dog_ (12).jpg\n",
      "Dog_ (13).jpg\n",
      "Dog_ (14).jpg\n",
      "Dog_ (15).jpg\n",
      "Dog_ (16).jpg\n",
      "Dog_ (17).jpg\n",
      "Dog_ (18).jpg\n",
      "Dog_ (19).jpg\n",
      "Dog_ (2).jpeg\n",
      "Dog_ (20).jpg\n",
      "Dog_ (21).jpg\n",
      "Dog_ (22).jpg\n",
      "Dog_ (23).jpg\n",
      "Dog_ (24).jpg\n",
      "Dog_ (25).jpg\n",
      "Dog_ (26).jpg\n",
      "Dog_ (27).jpg\n",
      "Dog_ (28).jpg\n",
      "Dog_ (29).jpg\n",
      "Dog_ (3).jpg\n",
      "Dog_ (30).jpg\n",
      "Dog_ (31).jpg\n",
      "Dog_ (32).jpg\n",
      "Dog_ (33).jpg\n",
      "Dog_ (34).jpg\n",
      "Dog_ (35).jpg\n",
      "Dog_ (36).jpg\n",
      "Dog_ (37).jpg\n",
      "Dog_ (38).jpg\n",
      "Dog_ (39).jpg\n",
      "Dog_ (4).jpg\n",
      "Dog_ (40).jpg\n",
      "Dog_ (41).jpg\n",
      "Dog_ (42).jpg\n",
      "Dog_ (43).jpg\n",
      "Dog_ (44).jpg\n",
      "Dog_ (45).jpg\n",
      "Dog_ (46).jpg\n",
      "Dog_ (47).jpg\n",
      "Dog_ (48).jpg\n",
      "Dog_ (49).jpg\n",
      "Dog_ (5).jpg\n",
      "Dog_ (50).jpg\n",
      "Dog_ (51).jpg\n",
      "Dog_ (52).jpg\n",
      "Dog_ (53).jpg\n",
      "Dog_ (54).jpg\n",
      "Dog_ (55).jpg\n",
      "Dog_ (56).jpg\n",
      "Dog_ (57).jpg\n",
      "Dog_ (58).jpg\n",
      "Dog_ (59).jpg\n",
      "Dog_ (6).jpg\n",
      "Dog_ (60).jpg\n",
      "Dog_ (61).jpg\n",
      "Dog_ (62).jpg\n",
      "Dog_ (63).jpg\n",
      "Dog_ (64).jpg\n",
      "Dog_ (65).jpg\n",
      "Dog_ (66).jpg\n",
      "Dog_ (67).jpg\n",
      "Dog_ (68).jpg\n",
      "Dog_ (69).jpg\n",
      "Dog_ (7).jpg\n",
      "Dog_ (70).jpg\n",
      "Dog_ (71).jpg\n",
      "Dog_ (72).jpg\n",
      "Dog_ (73).jpg\n",
      "Dog_ (74).jpg\n",
      "Dog_ (75).jpg\n",
      "Dog_ (76).jpg\n",
      "Dog_ (77).jpg\n",
      "Dog_ (78).jpg\n",
      "Dog_ (79).jpg\n",
      "Dog_ (8).jpg\n",
      "Dog_ (80).jpeg\n",
      "Dog_ (81).jpeg\n",
      "Dog_ (9).jpg\n"
     ]
    }
   ],
   "source": [
    "## 로딩 : 경로+파일명 \n",
    "for filename in filelist:\n",
    "    print(filename)\n",
    "    with open(FILE_CSV, mode=\"a\", encoding=\"utf-8\") as csvF:\n",
    "        preprocessing(filename, csvF)\n",
    "        #augmentation(filename, csvF)\n",
    "      "
   ]
  }
 ],
 "metadata": {
  "kernelspec": {
   "display_name": "ML_CV",
   "language": "python",
   "name": "python3"
  },
  "language_info": {
   "codemirror_mode": {
    "name": "ipython",
    "version": 3
   },
   "file_extension": ".py",
   "mimetype": "text/x-python",
   "name": "python",
   "nbconvert_exporter": "python",
   "pygments_lexer": "ipython3",
   "version": "3.9.21"
  }
 },
 "nbformat": 4,
 "nbformat_minor": 2
}
