{
 "cells": [
  {
   "cell_type": "markdown",
   "metadata": {},
   "source": [
    "# [ Tensor 생성 및 속성 확인]\n",
    "\n",
    "- Tensor 란?\n",
    "\t* pythorch 에서 데이터 저장 및 모델 입출력 데이터 저장 타입\n",
    "\t* numpy의 ndarray 와 비슷함\n",
    "\t"
   ]
  },
  {
   "cell_type": "markdown",
   "metadata": {},
   "source": [
    "[1] 모듈로딩 <hr>"
   ]
  },
  {
   "cell_type": "code",
   "execution_count": 26,
   "metadata": {},
   "outputs": [],
   "source": [
    "import torch"
   ]
  },
  {
   "cell_type": "markdown",
   "metadata": {},
   "source": [
    "[2] 텐서 생성 - torch.tensor() 함수 <hr>"
   ]
  },
  {
   "cell_type": "code",
   "execution_count": 27,
   "metadata": {},
   "outputs": [],
   "source": [
    "t1 = torch.tensor(77)\t\t\t\t\t# 0차원 [] X\n",
    "t2 = torch.tensor([1,3,5])\t\t\t\t# 1차원 [] 1개\n",
    "t3 = torch.tensor([[2,3,4],[9,8,7]])\t# 2차원 [[]] 2개\n",
    "t4 = torch.tensor([[[2,3,4],[9,8,7]]])\t# 3차원 [[[]]] 3개\n",
    "t5 = torch.tensor([[[2,3,4],[9,8,7]],[[9,8,7],[9,8,7]]])\t# 3차원 [[[]]] 3개"
   ]
  },
  {
   "cell_type": "code",
   "execution_count": 28,
   "metadata": {},
   "outputs": [],
   "source": [
    "\t# 텐서의 속성 확인\n",
    "def print_Tensor_into(tname, tobject):\n",
    "    print(f'{tname}-----------------------')\n",
    "    print(f'shape  : {tobject.shape}        {tobject.size()}')\n",
    "    print(f'ndim   : {tobject.shape}        {tobject.dim()}')\n",
    "    print(f'device : {tobject.device}')\n",
    "    print(f'dtype  : {tobject.dtype}')\n",
    "    print(f'tensor   : \\n{tobject}')"
   ]
  },
  {
   "cell_type": "code",
   "execution_count": 29,
   "metadata": {},
   "outputs": [
    {
     "name": "stdout",
     "output_type": "stream",
     "text": [
      "t1-----------------------\n",
      "shape  : torch.Size([])        torch.Size([])\n",
      "ndim   : torch.Size([])        0\n",
      "device : cpu\n",
      "dtype  : torch.int64\n",
      "tensor   : \n",
      "77\n",
      "t2-----------------------\n",
      "shape  : torch.Size([3])        torch.Size([3])\n",
      "ndim   : torch.Size([3])        1\n",
      "device : cpu\n",
      "dtype  : torch.int64\n",
      "tensor   : \n",
      "tensor([1, 3, 5])\n",
      "t3-----------------------\n",
      "shape  : torch.Size([2, 3])        torch.Size([2, 3])\n",
      "ndim   : torch.Size([2, 3])        2\n",
      "device : cpu\n",
      "dtype  : torch.int64\n",
      "tensor   : \n",
      "tensor([[2, 3, 4],\n",
      "        [9, 8, 7]])\n",
      "t4-----------------------\n",
      "shape  : torch.Size([1, 2, 3])        torch.Size([1, 2, 3])\n",
      "ndim   : torch.Size([1, 2, 3])        3\n",
      "device : cpu\n",
      "dtype  : torch.int64\n",
      "tensor   : \n",
      "tensor([[[2, 3, 4],\n",
      "         [9, 8, 7]]])\n",
      "t5-----------------------\n",
      "shape  : torch.Size([2, 2, 3])        torch.Size([2, 2, 3])\n",
      "ndim   : torch.Size([2, 2, 3])        3\n",
      "device : cpu\n",
      "dtype  : torch.int64\n",
      "tensor   : \n",
      "tensor([[[2, 3, 4],\n",
      "         [9, 8, 7]],\n",
      "\n",
      "        [[9, 8, 7],\n",
      "         [9, 8, 7]]])\n"
     ]
    }
   ],
   "source": [
    "print_Tensor_into('t1',t1 )\n",
    "print_Tensor_into('t2',t2 )\n",
    "print_Tensor_into('t3',t3 )\n",
    "print_Tensor_into('t4',t4 )\n",
    "print_Tensor_into('t5',t5 )\n"
   ]
  },
  {
   "cell_type": "code",
   "execution_count": 30,
   "metadata": {},
   "outputs": [],
   "source": [
    "t1 = torch.tensor(77, dtype=torch.uint8)\t\t\t\t\t# 0차원 [] X\n",
    "\n",
    "t2 = torch.tensor([1,3,5],dtype=torch.float16)\t\t\t\t# 1차원 [] 1개\n",
    "\n",
    "t3 = torch.tensor([[2,3,4],[9,8,7]],dtype=torch.int8)\t\t# 2차원 [[]] 2개\n",
    "\n",
    "t4 = torch.tensor([[[2,3,4],[9,8,7]]])\t\t\t\t\t\t# 3차원 [[[]]] 3개\n",
    "\n",
    "t5 = torch.tensor([[[2,3,4],[9,8,7]],[[9,8,7],[9,8,7]]])\t# 3차원 [[[]]] 3개"
   ]
  },
  {
   "cell_type": "code",
   "execution_count": 31,
   "metadata": {},
   "outputs": [
    {
     "name": "stdout",
     "output_type": "stream",
     "text": [
      "t1-----------------------\n",
      "shape  : torch.Size([])        torch.Size([])\n",
      "ndim   : torch.Size([])        0\n",
      "device : cpu\n",
      "dtype  : torch.uint8\n",
      "tensor   : \n",
      "77\n",
      "t2-----------------------\n",
      "shape  : torch.Size([3])        torch.Size([3])\n",
      "ndim   : torch.Size([3])        1\n",
      "device : cpu\n",
      "dtype  : torch.float16\n",
      "tensor   : \n",
      "tensor([1., 3., 5.], dtype=torch.float16)\n",
      "t3-----------------------\n",
      "shape  : torch.Size([2, 3])        torch.Size([2, 3])\n",
      "ndim   : torch.Size([2, 3])        2\n",
      "device : cpu\n",
      "dtype  : torch.int8\n",
      "tensor   : \n",
      "tensor([[2, 3, 4],\n",
      "        [9, 8, 7]], dtype=torch.int8)\n",
      "t4-----------------------\n",
      "shape  : torch.Size([1, 2, 3])        torch.Size([1, 2, 3])\n",
      "ndim   : torch.Size([1, 2, 3])        3\n",
      "device : cpu\n",
      "dtype  : torch.int64\n",
      "tensor   : \n",
      "tensor([[[2, 3, 4],\n",
      "         [9, 8, 7]]])\n",
      "t5-----------------------\n",
      "shape  : torch.Size([2, 2, 3])        torch.Size([2, 2, 3])\n",
      "ndim   : torch.Size([2, 2, 3])        3\n",
      "device : cpu\n",
      "dtype  : torch.int64\n",
      "tensor   : \n",
      "tensor([[[2, 3, 4],\n",
      "         [9, 8, 7]],\n",
      "\n",
      "        [[9, 8, 7],\n",
      "         [9, 8, 7]]])\n"
     ]
    }
   ],
   "source": [
    "print_Tensor_into('t1', t1)\n",
    "print_Tensor_into('t2', t2)\n",
    "print_Tensor_into('t3', t3)\n",
    "print_Tensor_into('t4', t4)\n",
    "print_Tensor_into('t5', t5)"
   ]
  },
  {
   "cell_type": "markdown",
   "metadata": {},
   "source": [
    "# [3] 다양한 텐서 생성 함수들 <hr>"
   ]
  },
  {
   "cell_type": "code",
   "execution_count": 32,
   "metadata": {},
   "outputs": [],
   "source": [
    "t1 = torch.zeros(2,2, dtype=torch.int8)\n",
    "\n",
    "t2 = torch.ones(2,5, dtype=torch.int8)\n",
    "\n",
    "t3 = torch.full((2,),4)\n",
    "\n",
    "t4 = torch.eye(2)\n",
    "\n",
    "t5 = torch.eye(1,3)\n"
   ]
  },
  {
   "cell_type": "code",
   "execution_count": 33,
   "metadata": {},
   "outputs": [
    {
     "name": "stdout",
     "output_type": "stream",
     "text": [
      "t1-----------------------\n",
      "shape  : torch.Size([2, 2])        torch.Size([2, 2])\n",
      "ndim   : torch.Size([2, 2])        2\n",
      "device : cpu\n",
      "dtype  : torch.int8\n",
      "tensor   : \n",
      "tensor([[0, 0],\n",
      "        [0, 0]], dtype=torch.int8)\n",
      "t2-----------------------\n",
      "shape  : torch.Size([2, 5])        torch.Size([2, 5])\n",
      "ndim   : torch.Size([2, 5])        2\n",
      "device : cpu\n",
      "dtype  : torch.int8\n",
      "tensor   : \n",
      "tensor([[1, 1, 1, 1, 1],\n",
      "        [1, 1, 1, 1, 1]], dtype=torch.int8)\n",
      "t3-----------------------\n",
      "shape  : torch.Size([2])        torch.Size([2])\n",
      "ndim   : torch.Size([2])        1\n",
      "device : cpu\n",
      "dtype  : torch.int64\n",
      "tensor   : \n",
      "tensor([4, 4])\n",
      "t4-----------------------\n",
      "shape  : torch.Size([2, 2])        torch.Size([2, 2])\n",
      "ndim   : torch.Size([2, 2])        2\n",
      "device : cpu\n",
      "dtype  : torch.float32\n",
      "tensor   : \n",
      "tensor([[1., 0.],\n",
      "        [0., 1.]])\n",
      "t5-----------------------\n",
      "shape  : torch.Size([1, 3])        torch.Size([1, 3])\n",
      "ndim   : torch.Size([1, 3])        2\n",
      "device : cpu\n",
      "dtype  : torch.float32\n",
      "tensor   : \n",
      "tensor([[1., 0., 0.]])\n"
     ]
    }
   ],
   "source": [
    "print_Tensor_into('t1',t1)\n",
    "print_Tensor_into('t2',t2)\n",
    "print_Tensor_into('t3',t3)\n",
    "print_Tensor_into('t4',t4)\n",
    "print_Tensor_into('t5',t5)\n"
   ]
  },
  {
   "cell_type": "code",
   "execution_count": null,
   "metadata": {},
   "outputs": [],
   "source": []
  }
 ],
 "metadata": {
  "kernelspec": {
   "display_name": "DL_TORCH",
   "language": "python",
   "name": "python3"
  },
  "language_info": {
   "codemirror_mode": {
    "name": "ipython",
    "version": 3
   },
   "file_extension": ".py",
   "mimetype": "text/x-python",
   "name": "python",
   "nbconvert_exporter": "python",
   "pygments_lexer": "ipython3",
   "version": "3.9.21"
  }
 },
 "nbformat": 4,
 "nbformat_minor": 2
}
