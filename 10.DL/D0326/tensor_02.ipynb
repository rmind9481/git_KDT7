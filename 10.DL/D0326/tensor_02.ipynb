{
 "cells": [
  {
   "cell_type": "markdown",
   "metadata": {},
   "source": [
    "# [Tensor 생성 및 속성 확인]"
   ]
  },
  {
   "cell_type": "markdown",
   "metadata": {},
   "source": [
    "# [1] 모듈 로딩 <hr>"
   ]
  },
  {
   "cell_type": "code",
   "execution_count": 16,
   "metadata": {},
   "outputs": [],
   "source": [
    "import torch\n",
    "import print_info"
   ]
  },
  {
   "cell_type": "markdown",
   "metadata": {},
   "source": [
    "[2] 텐서 생성 및 속성 확인 <hr>"
   ]
  },
  {
   "cell_type": "markdown",
   "metadata": {},
   "source": [
    "# 임의의 값으로 채운 Tensor"
   ]
  },
  {
   "cell_type": "code",
   "execution_count": 17,
   "metadata": {},
   "outputs": [],
   "source": [
    "torch.manual_seed(12)\n",
    "\n",
    "# [0,1) 분포 안에서 랜덤 생성\n",
    "t5 = torch.rand(2,3)\n",
    "\n",
    "# standard normal 분포안에서 랜덤 생성\n",
    "t6 = torch.randn(2,3)\n",
    "\n",
    "t7 = torch.randint(low=1, high=10, size=(2,3))"
   ]
  },
  {
   "cell_type": "code",
   "execution_count": 18,
   "metadata": {},
   "outputs": [
    {
     "name": "stdout",
     "output_type": "stream",
     "text": [
      "t5-----------------------\n",
      "shape  : torch.Size([2, 3])        torch.Size([2, 3])\n",
      "ndim   : torch.Size([2, 3])        2\n",
      "device : cpu\n",
      "dtype  : torch.float32\n",
      "tensor   : \n",
      "tensor([[0.4657, 0.2328, 0.4527],\n",
      "        [0.5871, 0.4086, 0.1272]])\n",
      "t6-----------------------\n",
      "shape  : torch.Size([2, 3])        torch.Size([2, 3])\n",
      "ndim   : torch.Size([2, 3])        2\n",
      "device : cpu\n",
      "dtype  : torch.float32\n",
      "tensor   : \n",
      "tensor([[ 1.5869,  1.1268, -1.2274],\n",
      "        [-0.8216, -1.7861,  0.6167]])\n",
      "t7-----------------------\n",
      "shape  : torch.Size([2, 3])        torch.Size([2, 3])\n",
      "ndim   : torch.Size([2, 3])        2\n",
      "device : cpu\n",
      "dtype  : torch.int64\n",
      "tensor   : \n",
      "tensor([[8, 4, 6],\n",
      "        [2, 2, 2]])\n"
     ]
    }
   ],
   "source": [
    "print_info.print_Tensor_into('t5',t5)\n",
    "print_info.print_Tensor_into('t6',t6)\n",
    "print_info.print_Tensor_into('t7',t7)"
   ]
  },
  {
   "cell_type": "code",
   "execution_count": 19,
   "metadata": {},
   "outputs": [],
   "source": [
    "import numpy as np\n",
    "arr = np.linspace(1,10,6)\n",
    "\n",
    "t1 = torch.from_numpy(arr)\t\t\t# share 방식\n",
    "t2 = torch.as_tensor(arr)\t\t\t# 원본 주소 참조\n",
    "t3 = torch.tensor(arr)\t\t\t\t# copy 방식 : 새로운 메모리 공간 "
   ]
  },
  {
   "cell_type": "code",
   "execution_count": 20,
   "metadata": {},
   "outputs": [
    {
     "data": {
      "text/plain": [
       "(tensor([ 1.0000,  2.8000,  4.6000,  6.4000,  8.2000, 10.0000],\n",
       "        dtype=torch.float64),\n",
       " tensor([ 1.0000,  2.8000,  4.6000,  6.4000,  8.2000, 10.0000],\n",
       "        dtype=torch.float64),\n",
       " tensor([ 1.0000,  2.8000,  4.6000,  6.4000,  8.2000, 10.0000],\n",
       "        dtype=torch.float64))"
      ]
     },
     "execution_count": 20,
     "metadata": {},
     "output_type": "execute_result"
    }
   ],
   "source": [
    "t1, t2, t3"
   ]
  },
  {
   "cell_type": "code",
   "execution_count": 21,
   "metadata": {},
   "outputs": [
    {
     "name": "stdout",
     "output_type": "stream",
     "text": [
      "[전][ 1.   2.8  4.6  6.4  8.2 10. ]\n",
      "[후][ 5.   2.8  4.6  6.4  8.2 10. ]\n"
     ]
    }
   ],
   "source": [
    "# 체크\n",
    "print(f'[전]{arr}')\n",
    "arr[0] = 5.0\n",
    "print(f'[후]{arr}')\n"
   ]
  },
  {
   "cell_type": "code",
   "execution_count": 22,
   "metadata": {},
   "outputs": [
    {
     "name": "stdout",
     "output_type": "stream",
     "text": [
      "t1 => tensor([ 5.0000,  2.8000,  4.6000,  6.4000,  8.2000, 10.0000],\n",
      "       dtype=torch.float64)\n",
      "t2 => tensor([ 5.0000,  2.8000,  4.6000,  6.4000,  8.2000, 10.0000],\n",
      "       dtype=torch.float64)\n",
      "t3 => tensor([ 1.0000,  2.8000,  4.6000,  6.4000,  8.2000, 10.0000],\n",
      "       dtype=torch.float64)\n"
     ]
    }
   ],
   "source": [
    "# 텐서 체크\n",
    "\n",
    "print(f't1 =>' ,t1)\n",
    "print(f't2 =>' ,t2)\n",
    "print(f't3 =>' ,t3)"
   ]
  },
  {
   "cell_type": "code",
   "execution_count": 24,
   "metadata": {},
   "outputs": [
    {
     "name": "stderr",
     "output_type": "stream",
     "text": [
      "C:\\Users\\KDT17\\AppData\\Local\\Temp\\ipykernel_12492\\1492837586.py:7: UserWarning: To copy construct from a tensor, it is recommended to use sourceTensor.clone().detach() or sourceTensor.clone().detach().requires_grad_(True), rather than torch.tensor(sourceTensor).\n",
      "  t2 = torch.tensor(t0)\n"
     ]
    }
   ],
   "source": [
    "# 생성 Tensor 객체로 값 채운 Tensor \n",
    "\n",
    "t0 = torch.tensor([8,9,4])\n",
    "\n",
    "#t1 = torch.from_numpy(t0)\n",
    "t1 = torch.as_tensor(t0)\n",
    "t2 = torch.tensor(t0)"
   ]
  },
  {
   "cell_type": "code",
   "execution_count": null,
   "metadata": {},
   "outputs": [
    {
     "name": "stdout",
     "output_type": "stream",
     "text": [
      "tensor(8) tensor(9)\n",
      "8 9\n"
     ]
    }
   ],
   "source": [
    "# 텐서 원소 변경\n",
    "print( t0[0], t0[1] )\n",
    "print(t0[0].item(), t0[1].item())"
   ]
  },
  {
   "cell_type": "code",
   "execution_count": 28,
   "metadata": {},
   "outputs": [
    {
     "name": "stdout",
     "output_type": "stream",
     "text": [
      "tensor(9) tensor(9)\n",
      "9 9\n"
     ]
    }
   ],
   "source": [
    "# 텐서 원소 변경\n",
    "t0[0] =9\n",
    "print( t0[0], t0[1] )\n",
    "print(t0[0].item(), t0[1].item())"
   ]
  },
  {
   "cell_type": "code",
   "execution_count": 30,
   "metadata": {},
   "outputs": [
    {
     "name": "stdout",
     "output_type": "stream",
     "text": [
      "tensor([9, 9, 4]) tensor([8, 9, 4])\n"
     ]
    }
   ],
   "source": [
    "# as_tensor() share 로 원본 변경시 적용 0\n",
    "# tensor() copy로 원본 변경시 적용x \n",
    "print(t1,t2)"
   ]
  },
  {
   "cell_type": "markdown",
   "metadata": {},
   "source": [
    "# [4] 특정데이터 타입의 Tensor 생성 <hr>"
   ]
  },
  {
   "cell_type": "code",
   "execution_count": 33,
   "metadata": {},
   "outputs": [
    {
     "name": "stdout",
     "output_type": "stream",
     "text": [
      "tensor([11., 33.])\n",
      "torch.float32\n"
     ]
    }
   ],
   "source": [
    "t1 = torch.FloatTensor([11,33])\n",
    "print(t1, t1.dtype, sep='\\n')"
   ]
  },
  {
   "cell_type": "code",
   "execution_count": 32,
   "metadata": {},
   "outputs": [
    {
     "name": "stdout",
     "output_type": "stream",
     "text": [
      "tensor([11., 33.], dtype=torch.float64)\n",
      "torch.float64\n"
     ]
    }
   ],
   "source": [
    "t1 = torch.DoubleTensor([11,33])\n",
    "print(t1, t1.dtype, sep='\\n')"
   ]
  },
  {
   "cell_type": "code",
   "execution_count": null,
   "metadata": {},
   "outputs": [
    {
     "name": "stdout",
     "output_type": "stream",
     "text": [
      "tensor([ True, False])\n",
      "torch.bool\n"
     ]
    }
   ],
   "source": [
    "t1 = torch.BoolTensor([11,0])\n",
    "print(t1, t1.dtype, sep='\\n')"
   ]
  },
  {
   "cell_type": "code",
   "execution_count": null,
   "metadata": {},
   "outputs": [],
   "source": []
  }
 ],
 "metadata": {
  "kernelspec": {
   "display_name": "DL_TORCH",
   "language": "python",
   "name": "python3"
  },
  "language_info": {
   "codemirror_mode": {
    "name": "ipython",
    "version": 3
   },
   "file_extension": ".py",
   "mimetype": "text/x-python",
   "name": "python",
   "nbconvert_exporter": "python",
   "pygments_lexer": "ipython3",
   "version": "3.9.21"
  }
 },
 "nbformat": 4,
 "nbformat_minor": 2
}
