{
 "cells": [
  {
   "cell_type": "markdown",
   "metadata": {},
   "source": [
    "# [Tensor shape 변경]"
   ]
  },
  {
   "cell_type": "code",
   "execution_count": 68,
   "metadata": {},
   "outputs": [],
   "source": [
    "# \n",
    "import torch"
   ]
  },
  {
   "cell_type": "code",
   "execution_count": 69,
   "metadata": {},
   "outputs": [
    {
     "data": {
      "text/plain": [
       "torch.Size([6])"
      ]
     },
     "execution_count": 69,
     "metadata": {},
     "output_type": "execute_result"
    }
   ],
   "source": [
    "# 텐서 생성\n",
    "t1 = torch.tensor([11,22,33,44,55,66])\n",
    "t1.shape"
   ]
  },
  {
   "cell_type": "code",
   "execution_count": 70,
   "metadata": {},
   "outputs": [
    {
     "data": {
      "text/plain": [
       "(tensor([[[11]],\n",
       " \n",
       "         [[22]],\n",
       " \n",
       "         [[33]],\n",
       " \n",
       "         [[44]],\n",
       " \n",
       "         [[55]],\n",
       " \n",
       "         [[66]]]),\n",
       " torch.Size([6, 1, 1]))"
      ]
     },
     "execution_count": 70,
     "metadata": {},
     "output_type": "execute_result"
    }
   ],
   "source": [
    "# shape 변경 => reshape()\n",
    "t2 = t1.reshape(-1,1,1)  # 1D => 3D\n",
    "t2, t2.shape"
   ]
  },
  {
   "cell_type": "code",
   "execution_count": 71,
   "metadata": {},
   "outputs": [
    {
     "data": {
      "text/plain": [
       "(tensor([[[[11]]],\n",
       " \n",
       " \n",
       "         [[[22]]],\n",
       " \n",
       " \n",
       "         [[[33]]],\n",
       " \n",
       " \n",
       "         [[[44]]],\n",
       " \n",
       " \n",
       "         [[[55]]],\n",
       " \n",
       " \n",
       "         [[[66]]]]),\n",
       " torch.Size([6, 1, 1, 1]))"
      ]
     },
     "execution_count": 71,
     "metadata": {},
     "output_type": "execute_result"
    }
   ],
   "source": [
    "# t1 1D ==> 4D, t3 저장하기\n",
    "t3 = t1.reshape(-1,1,1,1)\n",
    "t3, t3.shape"
   ]
  },
  {
   "cell_type": "code",
   "execution_count": 72,
   "metadata": {},
   "outputs": [
    {
     "data": {
      "text/plain": [
       "(tensor([[11, 22, 33],\n",
       "         [44, 55, 66]]),\n",
       " torch.Size([2, 3]))"
      ]
     },
     "execution_count": 72,
     "metadata": {},
     "output_type": "execute_result"
    }
   ],
   "source": [
    "# shape 변경 => view()\n",
    "t2 = t1.view(2,3)\n",
    "\n",
    "t2, t2.shape"
   ]
  },
  {
   "cell_type": "code",
   "execution_count": 73,
   "metadata": {},
   "outputs": [
    {
     "data": {
      "text/plain": [
       "(tensor([[[11, 22, 33],\n",
       "          [44, 55, 66]]]),\n",
       " torch.Size([1, 2, 3]))"
      ]
     },
     "execution_count": 73,
     "metadata": {},
     "output_type": "execute_result"
    }
   ],
   "source": [
    "t3 = t1.view(-1,2,3)\n",
    "t3, t3.shape"
   ]
  },
  {
   "cell_type": "markdown",
   "metadata": {},
   "source": [
    "# [ Axis 변경] \n",
    "\t* Tensor 의 노멛 정보에서 확인\n",
    "\t* 2D => (m,n) => axis0 m, axis1 n\n",
    "\t* 3D => (l,m,n) => axis0 l, axis1 m, axis2 n\n"
   ]
  },
  {
   "cell_type": "code",
   "execution_count": 74,
   "metadata": {},
   "outputs": [
    {
     "name": "stdout",
     "output_type": "stream",
     "text": [
      "torch.Size([2, 3])\n",
      "tensor([[11, 22, 33],\n",
      "        [44, 55, 66]])\n",
      "torch.Size([1, 2, 3])\n",
      "tensor([[[11, 22, 33],\n",
      "         [44, 55, 66]]])\n"
     ]
    }
   ],
   "source": [
    "## transpose() 메서드 ======================\n",
    "\n",
    "t1 = torch.tensor([[11,22,33],[44,55,66]])\n",
    "t2 = torch.tensor([[[11,22,33],[44,55,66]]])\n",
    "print(t1.shape, t1 , sep='\\n')\n",
    "print(t2.shape, t2 , sep='\\n')\n"
   ]
  },
  {
   "cell_type": "code",
   "execution_count": 75,
   "metadata": {},
   "outputs": [
    {
     "data": {
      "text/plain": [
       "tensor([[11, 44],\n",
       "        [22, 55],\n",
       "        [33, 66]])"
      ]
     },
     "execution_count": 75,
     "metadata": {},
     "output_type": "execute_result"
    }
   ],
   "source": [
    "# 0 번 축 <-> 1번 축\n",
    "t1.transpose(1,0)\n"
   ]
  },
  {
   "cell_type": "code",
   "execution_count": 76,
   "metadata": {},
   "outputs": [
    {
     "name": "stdout",
     "output_type": "stream",
     "text": [
      "torch.Size([1, 2, 3])\n",
      "tensor([[[11, 22, 33],\n",
      "         [44, 55, 66]]])\n",
      "\n",
      "torch.Size([2, 1, 3])\n",
      "tensor([[[11, 22, 33]],\n",
      "\n",
      "        [[44, 55, 66]]])\n",
      "\n",
      "torch.Size([3, 2, 1])\n",
      "tensor([[[11],\n",
      "         [44]],\n",
      "\n",
      "        [[22],\n",
      "         [55]],\n",
      "\n",
      "        [[33],\n",
      "         [66]]])\n",
      "\n"
     ]
    }
   ],
   "source": [
    "\n",
    "print( t2.shape, t2, sep='\\n', end='\\n\\n')\n",
    "\n",
    "# 0 번축 <==> 1번축\n",
    "t3 = t2.transpose(1,0)\n",
    "print( t3.shape, t3, sep='\\n', end='\\n\\n')\n",
    "\n",
    "\n",
    "# 0 번축 <==> 2번축 (1,2,3) ==> (3,2,1)\n",
    "t4 = t2.transpose(2,0)\n",
    "print( t4.shape, t4, sep='\\n', end='\\n\\n')"
   ]
  },
  {
   "cell_type": "code",
   "execution_count": 77,
   "metadata": {},
   "outputs": [],
   "source": [
    "# permute() 메서드 =============================\n",
    "# - 모든 축 axis 변경 가능\n"
   ]
  },
  {
   "cell_type": "code",
   "execution_count": 78,
   "metadata": {},
   "outputs": [
    {
     "name": "stdout",
     "output_type": "stream",
     "text": [
      "torch.Size([2, 3, 1])\n",
      "tensor([[[11],\n",
      "         [22],\n",
      "         [33]],\n",
      "\n",
      "        [[44],\n",
      "         [55],\n",
      "         [66]]])\n",
      "\n"
     ]
    }
   ],
   "source": [
    "# (1,2,3) ==> (2,3,1)\n",
    "t3 = t2.permute(1,2,0)\n",
    "print( t3.shape, t3, sep='\\n', end='\\n\\n')"
   ]
  },
  {
   "cell_type": "markdown",
   "metadata": {},
   "source": [
    "# 차원 줄이기 단, 원소 갯수는 유지"
   ]
  },
  {
   "cell_type": "code",
   "execution_count": 84,
   "metadata": {},
   "outputs": [
    {
     "data": {
      "text/plain": [
       "torch.Size([25])"
      ]
     },
     "execution_count": 84,
     "metadata": {},
     "output_type": "execute_result"
    }
   ],
   "source": [
    "# 이미지 1장 => 가로5, 세로 5 , 흑백1 : (5,5,1)\n",
    "# 형태 : (5,5,1)\n",
    "# 원소 갯수 : 5*5*1 = 25\n",
    "\n",
    "t1 = torch.arange(11,36)\n",
    "t1.shape\n"
   ]
  },
  {
   "cell_type": "code",
   "execution_count": null,
   "metadata": {},
   "outputs": [
    {
     "data": {
      "text/plain": [
       "torch.Size([5, 5, 1])"
      ]
     },
     "execution_count": 85,
     "metadata": {},
     "output_type": "execute_result"
    }
   ],
   "source": [
    "# 1D => 4D\n",
    "t2 =t1.reshape(1,5,5,1)\n",
    "t2.shape"
   ]
  },
  {
   "cell_type": "code",
   "execution_count": 90,
   "metadata": {},
   "outputs": [
    {
     "data": {
      "text/plain": [
       "tensor([[[11, 16, 21, 26, 31],\n",
       "         [12, 17, 22, 27, 32],\n",
       "         [13, 18, 23, 28, 33],\n",
       "         [14, 19, 24, 29, 34],\n",
       "         [15, 20, 25, 30, 35]]])"
      ]
     },
     "execution_count": 90,
     "metadata": {},
     "output_type": "execute_result"
    }
   ],
   "source": [
    "# 체널을 제일 앞으로 보내기\n",
    "t3 =t2.transpose(0,2)\n",
    "t3"
   ]
  },
  {
   "cell_type": "code",
   "execution_count": 92,
   "metadata": {},
   "outputs": [
    {
     "data": {
      "text/plain": [
       "torch.Size([5, 5])"
      ]
     },
     "execution_count": 92,
     "metadata": {},
     "output_type": "execute_result"
    }
   ],
   "source": [
    "# 원소 갯수 유지하면서 3D => 2D\n",
    "t4 = t3.squeeze()\n",
    "t4.shape"
   ]
  },
  {
   "cell_type": "code",
   "execution_count": null,
   "metadata": {},
   "outputs": [],
   "source": [
    "# 원소 갯수 유지하면서 2D => 3D\n",
    "t4.unsqueeze(1).shape"
   ]
  }
 ],
 "metadata": {
  "kernelspec": {
   "display_name": "DL_TORCH",
   "language": "python",
   "name": "python3"
  },
  "language_info": {
   "codemirror_mode": {
    "name": "ipython",
    "version": 3
   },
   "file_extension": ".py",
   "mimetype": "text/x-python",
   "name": "python",
   "nbconvert_exporter": "python",
   "pygments_lexer": "ipython3",
   "version": "3.9.21"
  }
 },
 "nbformat": 4,
 "nbformat_minor": 2
}
