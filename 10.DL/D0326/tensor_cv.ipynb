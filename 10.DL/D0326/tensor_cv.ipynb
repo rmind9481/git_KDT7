{
 "cells": [
  {
   "cell_type": "markdown",
   "metadata": {},
   "source": [
    "## [Imgae Data 와 Tensor]"
   ]
  },
  {
   "cell_type": "code",
   "execution_count": 9,
   "metadata": {},
   "outputs": [],
   "source": [
    "## 모듈 로딩\n",
    "\n",
    "import torch\n",
    "import cv2\n",
    "import numpy as np\n"
   ]
  },
  {
   "cell_type": "code",
   "execution_count": 10,
   "metadata": {},
   "outputs": [],
   "source": [
    "# 데이터 준비\n",
    "IMG_FILE = '../Data/carina_(1).jpg'"
   ]
  },
  {
   "cell_type": "code",
   "execution_count": 16,
   "metadata": {},
   "outputs": [],
   "source": [
    "# 이미지 데이터 로딩\n",
    "\n",
    "IMG_Color = cv2.imread(IMG_FILE)\n",
    "IMG_Gray = cv2.imread(IMG_FILE, cv2.IMREAD_GRAYSCALE)\n",
    "\n",
    "IMG_Color.resize(10,10)\n",
    "IMG_Gray.resize(10,10)"
   ]
  },
  {
   "cell_type": "code",
   "execution_count": 17,
   "metadata": {},
   "outputs": [
    {
     "name": "stdout",
     "output_type": "stream",
     "text": [
      "color_img (10, 10),2D\n",
      "gray_img (10, 10),2D\n"
     ]
    }
   ],
   "source": [
    "# 이미지 정보 확인\n",
    "\n",
    "print(f'color_img {IMG_Color.shape},{IMG_Color.ndim}D' )\n",
    "print(f'gray_img {IMG_Gray.shape},{IMG_Gray.ndim}D' )"
   ]
  },
  {
   "cell_type": "code",
   "execution_count": 19,
   "metadata": {},
   "outputs": [
    {
     "data": {
      "text/plain": [
       "torch.Size([10, 10])"
      ]
     },
     "execution_count": 19,
     "metadata": {},
     "output_type": "execute_result"
    }
   ],
   "source": [
    "# 2D => 3D  : 채널 정보 추가 : 원소 갯수 변경 X\n",
    "\n",
    "gT = torch.tensor(IMG_Gray)\n",
    "gT.shape"
   ]
  },
  {
   "cell_type": "code",
   "execution_count": 26,
   "metadata": {},
   "outputs": [
    {
     "data": {
      "text/plain": [
       "tensor([[[201, 200, 200, 199, 199, 198, 198, 198, 203, 203],\n",
       "         [203, 203, 203, 203, 203, 203, 202, 202, 202, 202],\n",
       "         [202, 202, 202, 202, 203, 200, 202, 204, 200, 202],\n",
       "         [204, 201, 201, 201, 201, 201, 201, 201, 201, 201],\n",
       "         [202, 204, 206, 204, 201, 200, 202, 204, 201, 201],\n",
       "         [201, 201, 201, 201, 201, 201, 203, 202, 201, 199],\n",
       "         [199, 200, 200, 201, 202, 204, 200, 199, 205, 204],\n",
       "         [200, 202, 204, 203, 202, 201, 201, 202, 203, 204],\n",
       "         [199, 202, 202, 199, 199, 201, 201, 198, 204, 202],\n",
       "         [204, 203, 198, 199, 205, 205, 201, 204, 201, 199]]],\n",
       "       dtype=torch.uint8)"
      ]
     },
     "execution_count": 26,
     "metadata": {},
     "output_type": "execute_result"
    }
   ],
   "source": [
    "gT.unsqueeze_(0)"
   ]
  },
  {
   "cell_type": "code",
   "execution_count": 27,
   "metadata": {},
   "outputs": [
    {
     "data": {
      "text/plain": [
       "torch.Size([1, 10, 10])"
      ]
     },
     "execution_count": 27,
     "metadata": {},
     "output_type": "execute_result"
    }
   ],
   "source": [
    "gT.shape"
   ]
  },
  {
   "cell_type": "code",
   "execution_count": 29,
   "metadata": {},
   "outputs": [
    {
     "data": {
      "text/plain": [
       "tensor([[201, 200, 200, 199, 199, 198, 198, 198, 203, 203],\n",
       "        [203, 203, 203, 203, 203, 203, 202, 202, 202, 202],\n",
       "        [202, 202, 202, 202, 203, 200, 202, 204, 200, 202],\n",
       "        [204, 201, 201, 201, 201, 201, 201, 201, 201, 201],\n",
       "        [202, 204, 206, 204, 201, 200, 202, 204, 201, 201],\n",
       "        [201, 201, 201, 201, 201, 201, 203, 202, 201, 199],\n",
       "        [199, 200, 200, 201, 202, 204, 200, 199, 205, 204],\n",
       "        [200, 202, 204, 203, 202, 201, 201, 202, 203, 204],\n",
       "        [199, 202, 202, 199, 199, 201, 201, 198, 204, 202],\n",
       "        [204, 203, 198, 199, 205, 205, 201, 204, 201, 199]], dtype=torch.uint8)"
      ]
     },
     "execution_count": 29,
     "metadata": {},
     "output_type": "execute_result"
    }
   ],
   "source": [
    "## 3차원을 2차원으로 변경 : 원소 갯수 변경 X\n",
    "gT.squeeze_()"
   ]
  },
  {
   "cell_type": "code",
   "execution_count": null,
   "metadata": {},
   "outputs": [],
   "source": []
  }
 ],
 "metadata": {
  "kernelspec": {
   "display_name": "DL_TORCH",
   "language": "python",
   "name": "python3"
  },
  "language_info": {
   "codemirror_mode": {
    "name": "ipython",
    "version": 3
   },
   "file_extension": ".py",
   "mimetype": "text/x-python",
   "name": "python",
   "nbconvert_exporter": "python",
   "pygments_lexer": "ipython3",
   "version": "3.9.21"
  }
 },
 "nbformat": 4,
 "nbformat_minor": 2
}
