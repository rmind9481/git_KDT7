{
 "cells": [
  {
   "cell_type": "markdown",
   "metadata": {},
   "source": [
    "[ Custom Model Class 정의 및 설계]\n",
    "- 데이테셋 및 구현방법에 따른 모델 설계\n",
    "- 부모클래스 : nn.Module\n",
    "- 필수 오버라이딩 메서드 : 상속 받은 메서드 중 재정의하는 것\n",
    "    *  _ _init_ _(self)   : 모델 구조/구성 요소 정의 \n",
    "    * forward(self, data) : 전방향/순방향 학습 기능 메서드"
   ]
  },
  {
   "cell_type": "markdown",
   "metadata": {},
   "source": [
    "[1] 모듈 로딩 <hr>"
   ]
  },
  {
   "cell_type": "code",
   "execution_count": 2,
   "metadata": {},
   "outputs": [],
   "source": [
    "import torch                        # tensor, 내장함수 및 클래스 관련 모듈\n",
    "import torch.nn as nn               # 인공신경망 관련 층, 함수 클래스 모듈\n",
    "import torch.nn.functional as F     # 인공신경망 관련 층, AF, LF 함수 모듈\n",
    "\n",
    "import pandas as pd                 # 데이터 로딩 및 전처리 관련 모듈 \n",
    "import numpy as np                  # raw 데이터 즉, ndarray 데이터 관련 모듈\n"
   ]
  },
  {
   "cell_type": "markdown",
   "metadata": {},
   "source": [
    "[2] 커스텀 모델 클래스 설계 <hr>"
   ]
  },
  {
   "cell_type": "code",
   "execution_count": 3,
   "metadata": {},
   "outputs": [],
   "source": [
    "## [2-1] 고정된 층과 퍼셉트론 구성 모델\n",
    "## - 데 이  터 셋 : 피쳐 3 , 타겟 1 , 타겟 연속형\n",
    "## - 학습    방법 : 지도학습 - 회귀\n",
    "## - 구현알고리즘 : 인공신경망계열 DNN \n",
    "## -------------------------------------------------\n",
    "##             입력       출력/퍼셉트론수    활성화함수\n",
    "## - 입력층      3        20                ReLU\n",
    "## - 은닉층      20       10                ReLU\n",
    "## - 은닉층      10        5                ReLU\n",
    "## - 출력층       5        1                 -\n",
    "## -------------------------------------------------\n",
    "class CutomModel(nn.Module):\n",
    "    # 인스턴스 초기화 및 생성 메서드\n",
    "    def __init__(self):\n",
    "        super().__init__()\n",
    "        # ANN 층 인스턴스 생성\n",
    "        print('__init__()')\n",
    "        self.in_layer=nn.Linear(3, 20)\n",
    "        self.hd_layer1=nn.Linear(20, 10)\n",
    "        self.hd_layer2=nn.Linear(10, 5)\n",
    "        self.out_layer=nn.Linear(5, 1)\n",
    "\n",
    "    # 순전파 학습 메서드 \n",
    "    def forward(self, data):\n",
    "        #- 입력층\n",
    "        out=self.in_layer(data)      # data * weight + b\n",
    "        out=F.relu(out)              # AF(data * weight + b) 결과물\n",
    "\n",
    "        #- 은닉층1\n",
    "        out=self.hd_layer1(out)      # out * weight + b\n",
    "        out=F.relu(out)              # AF(out * weight + b) 결과물        \n",
    "\n",
    "        #- 은닉층2\n",
    "        out=self.hd_layer2(out)      # out * weight + b\n",
    "        out=F.relu(out)              # AF(out * weight + b) 결과물    \n",
    "\n",
    "        #- 출력층 : 회귀로 결과 그래도 반환\n",
    "        out=self.out_layer(out)      # out * weight + b\n",
    "\n",
    "        return out \n",
    "               "
   ]
  },
  {
   "cell_type": "code",
   "execution_count": 4,
   "metadata": {},
   "outputs": [
    {
     "name": "stdout",
     "output_type": "stream",
     "text": [
      "__init__()\n",
      "CutomModel(\n",
      "  (in_layer): Linear(in_features=3, out_features=20, bias=True)\n",
      "  (hd_layer1): Linear(in_features=20, out_features=10, bias=True)\n",
      "  (hd_layer2): Linear(in_features=10, out_features=5, bias=True)\n",
      "  (out_layer): Linear(in_features=5, out_features=1, bias=True)\n",
      ")\n"
     ]
    }
   ],
   "source": [
    "## - 모델 사용 -----------------------------------\n",
    "## 모델 인스턴스 생성 \n",
    "model=CutomModel()\n",
    "\n",
    "## 모델 구조 확인\n",
    "print(model)"
   ]
  },
  {
   "cell_type": "code",
   "execution_count": 5,
   "metadata": {},
   "outputs": [
    {
     "name": "stdout",
     "output_type": "stream",
     "text": [
      "tensor([[10.,  5.,  8.],\n",
      "        [ 5.,  9.,  7.]])\n"
     ]
    }
   ],
   "source": [
    "## 모델 동작 테스트\n",
    "data=torch.FloatTensor([[10,5,8],[5,9,7]])\n",
    "print(data)\n",
    "\n",
    "## 모델에 데이터 전달\n",
    "pre=model(data)"
   ]
  },
  {
   "cell_type": "code",
   "execution_count": 8,
   "metadata": {},
   "outputs": [
    {
     "data": {
      "text/plain": [
       "CutomModel(\n",
       "  (in_layer): Linear(in_features=3, out_features=20, bias=True)\n",
       "  (hd_layer1): Linear(in_features=20, out_features=10, bias=True)\n",
       "  (hd_layer2): Linear(in_features=10, out_features=5, bias=True)\n",
       "  (out_layer): Linear(in_features=5, out_features=1, bias=True)\n",
       ")"
      ]
     },
     "execution_count": 8,
     "metadata": {},
     "output_type": "execute_result"
    }
   ],
   "source": [
    "model"
   ]
  },
  {
   "cell_type": "code",
   "execution_count": 7,
   "metadata": {},
   "outputs": [
    {
     "name": "stdout",
     "output_type": "stream",
     "text": [
      "name in_layer.weight \n",
      " param : Parameter containing:\n",
      "tensor([[-0.1166,  0.2978,  0.4390],\n",
      "        [ 0.1826,  0.0321, -0.4352],\n",
      "        [ 0.4761,  0.2141,  0.0142],\n",
      "        [-0.2006, -0.1758, -0.1752],\n",
      "        [ 0.0704,  0.3285, -0.1132],\n",
      "        [-0.0736, -0.4304,  0.4356],\n",
      "        [-0.1000, -0.1829,  0.1524],\n",
      "        [-0.4926,  0.4136, -0.5263],\n",
      "        [ 0.1803,  0.2404,  0.3475],\n",
      "        [ 0.5433, -0.4335,  0.2613],\n",
      "        [-0.5768,  0.5075,  0.4338],\n",
      "        [ 0.1950,  0.3221, -0.2707],\n",
      "        [-0.0336,  0.1601, -0.2395],\n",
      "        [ 0.2173,  0.3138,  0.2666],\n",
      "        [ 0.1504,  0.4442,  0.0141],\n",
      "        [-0.1757, -0.4151,  0.5208],\n",
      "        [-0.2642, -0.0772, -0.2487],\n",
      "        [ 0.2369, -0.0991,  0.2542],\n",
      "        [ 0.2441, -0.2881, -0.4835],\n",
      "        [-0.3112, -0.4059,  0.1102]], requires_grad=True)\n",
      "name in_layer.bias \n",
      " param : Parameter containing:\n",
      "tensor([ 0.1669, -0.1822, -0.5702, -0.2276, -0.2437, -0.3905,  0.4460, -0.4990,\n",
      "         0.0183, -0.3961,  0.3819, -0.2356, -0.3670, -0.1194,  0.4212,  0.4199,\n",
      "         0.3746,  0.3409,  0.3641, -0.2588], requires_grad=True)\n",
      "name hd_layer1.weight \n",
      " param : Parameter containing:\n",
      "tensor([[-0.0894, -0.2203, -0.1425,  0.1900,  0.0892,  0.0368,  0.2127, -0.1901,\n",
      "          0.0237,  0.0749,  0.1267,  0.0033, -0.0864, -0.1600, -0.1676, -0.1626,\n",
      "          0.0750, -0.0152, -0.1615,  0.0663],\n",
      "        [ 0.0187,  0.0162,  0.1248,  0.1888,  0.1505,  0.0516,  0.1465, -0.0314,\n",
      "         -0.0907, -0.0963, -0.0225,  0.0756, -0.1050, -0.1923,  0.1458,  0.0194,\n",
      "         -0.1602,  0.1304,  0.0247, -0.2119],\n",
      "        [ 0.1486,  0.0582, -0.0081,  0.0475, -0.0839, -0.0834, -0.1372, -0.1312,\n",
      "          0.0707,  0.1037,  0.0292,  0.1778,  0.0535, -0.1447,  0.0336, -0.0763,\n",
      "          0.1259,  0.1825, -0.1506, -0.2056],\n",
      "        [ 0.0463, -0.1395,  0.0837,  0.2037,  0.2162,  0.0723, -0.1556, -0.1432,\n",
      "         -0.1377,  0.1597, -0.0515,  0.1863, -0.0875, -0.1627, -0.0491,  0.1586,\n",
      "          0.1797,  0.1318, -0.1064,  0.2071],\n",
      "        [ 0.1504,  0.1381,  0.1579,  0.1105, -0.1582,  0.1624, -0.0758, -0.0295,\n",
      "          0.1625,  0.2066,  0.0343,  0.0510, -0.0332,  0.0444, -0.1502,  0.1562,\n",
      "         -0.2141,  0.0772,  0.0410,  0.2003],\n",
      "        [ 0.1887, -0.0432, -0.0676, -0.0133, -0.2162,  0.1809,  0.1428,  0.0903,\n",
      "          0.0013,  0.0613,  0.0501, -0.1686, -0.1882, -0.0249,  0.1596, -0.1919,\n",
      "          0.0349,  0.1989,  0.1293,  0.0365],\n",
      "        [ 0.1415, -0.2031, -0.0282, -0.0608, -0.1974,  0.1707,  0.2054, -0.0584,\n",
      "          0.0145,  0.1305,  0.2003,  0.0076,  0.2081,  0.1148, -0.0140,  0.0751,\n",
      "          0.1555,  0.1370, -0.2036,  0.2070],\n",
      "        [-0.0824, -0.0941, -0.0233, -0.0488, -0.2109,  0.1218,  0.0221,  0.1012,\n",
      "         -0.0844,  0.0221, -0.0501, -0.1734,  0.1514,  0.2206,  0.1149,  0.1839,\n",
      "          0.1332, -0.0378, -0.1027, -0.0535],\n",
      "        [ 0.0208,  0.1201,  0.0824, -0.1485, -0.1245,  0.0876,  0.2120,  0.1503,\n",
      "         -0.2208, -0.0506,  0.1830, -0.1334, -0.1550, -0.1147, -0.0129, -0.0031,\n",
      "          0.0122,  0.0074,  0.2202,  0.0517],\n",
      "        [-0.1758, -0.0577,  0.1853,  0.0032, -0.1159,  0.2069,  0.1260, -0.0424,\n",
      "          0.0706, -0.1800, -0.0596, -0.0983, -0.1844,  0.1359,  0.1465, -0.1319,\n",
      "         -0.0545, -0.2056, -0.0416,  0.1337]], requires_grad=True)\n",
      "name hd_layer1.bias \n",
      " param : Parameter containing:\n",
      "tensor([-0.0751, -0.0139,  0.0044,  0.2133, -0.0637,  0.0521, -0.1991,  0.0224,\n",
      "        -0.1471, -0.1262], requires_grad=True)\n",
      "name hd_layer2.weight \n",
      " param : Parameter containing:\n",
      "tensor([[ 0.0469,  0.3054,  0.1580, -0.2374, -0.0240, -0.1255, -0.0329, -0.0660,\n",
      "         -0.2955,  0.2592],\n",
      "        [ 0.1051,  0.1009,  0.1289, -0.2911,  0.2103, -0.2751,  0.2863,  0.1880,\n",
      "          0.2486, -0.2792],\n",
      "        [ 0.1382,  0.1240, -0.0395,  0.0466,  0.0011, -0.1078, -0.1296,  0.1993,\n",
      "          0.0974, -0.2814],\n",
      "        [ 0.2377, -0.1026, -0.0702, -0.1739, -0.0396,  0.0374, -0.1995, -0.1937,\n",
      "         -0.0565,  0.0686],\n",
      "        [ 0.0312, -0.0502,  0.0306, -0.1340, -0.1080, -0.0949, -0.0421,  0.2219,\n",
      "         -0.3109, -0.1644]], requires_grad=True)\n",
      "name hd_layer2.bias \n",
      " param : Parameter containing:\n",
      "tensor([-0.2122, -0.3157,  0.0640,  0.1552,  0.0114], requires_grad=True)\n",
      "name out_layer.weight \n",
      " param : Parameter containing:\n",
      "tensor([[-0.0290,  0.1580,  0.3378, -0.1933,  0.2561]], requires_grad=True)\n",
      "name out_layer.bias \n",
      " param : Parameter containing:\n",
      "tensor([-0.0705], requires_grad=True)\n"
     ]
    }
   ],
   "source": [
    "# 모델 파라미터들 \n",
    "for name, param in model.named_parameters():\n",
    "\tprint(f'name {name} \\n param : {param}')"
   ]
  },
  {
   "cell_type": "code",
   "execution_count": null,
   "metadata": {},
   "outputs": [],
   "source": []
  }
 ],
 "metadata": {
  "kernelspec": {
   "display_name": "DL_TORCH",
   "language": "python",
   "name": "python3"
  },
  "language_info": {
   "codemirror_mode": {
    "name": "ipython",
    "version": 3
   },
   "file_extension": ".py",
   "mimetype": "text/x-python",
   "name": "python",
   "nbconvert_exporter": "python",
   "pygments_lexer": "ipython3",
   "version": "3.9.21"
  }
 },
 "nbformat": 4,
 "nbformat_minor": 2
}
