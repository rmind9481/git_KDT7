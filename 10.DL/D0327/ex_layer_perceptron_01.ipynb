{
 "cells": [
  {
   "cell_type": "markdown",
   "metadata": {},
   "source": [
    "### [ LAYER & PERCEPTRON 이해하기 ]\n",
    "- 입력 데이터와 가중치 곱셈의 합계 + 절편 결과는 반환해주는 클래스\n",
    "- 모든 입력 데이터를 가중치와 곱셈 연산 수행 \n",
    "- 층에 존재하는 모든 퍼셉트론에서 진행\n",
    "- 전결합(Full Connected: FC) 층\n",
    "- 뉴런의 기본 동작을 코드로 구현한 것 "
   ]
  },
  {
   "cell_type": "markdown",
   "metadata": {},
   "source": [
    "[1] 모듈로딩 및 데이터 준비"
   ]
  },
  {
   "cell_type": "code",
   "execution_count": 1,
   "metadata": {},
   "outputs": [],
   "source": [
    "## [1-1] 모듈로딩\n",
    "import torch                      # 텐서 및 수치함수들 관련 모듈\n",
    "import torch.nn as nn             # 인공신경망 관련 모듈\n",
    "import torch.nn.functional as F   # 인공신경망 관렴 함수들 모듈 (AF, LF, MF...)"
   ]
  },
  {
   "cell_type": "code",
   "execution_count": 2,
   "metadata": {},
   "outputs": [
    {
     "data": {
      "text/plain": [
       "(torch.Size([3, 1]), 2, torch.float32)"
      ]
     },
     "execution_count": 2,
     "metadata": {},
     "output_type": "execute_result"
    }
   ],
   "source": [
    "## [1-2] 데이터 준비\n",
    "## 랜덤 고정\n",
    "torch.manual_seed(2)\n",
    "\n",
    "## 입력 데이터 텐서 생성 \n",
    "xTS=torch.randint(1, 10, (3, 1))\n",
    "xTS=xTS.type(torch.float32)\n",
    "\n",
    "xTS.shape, xTS.ndim, xTS.dtype"
   ]
  },
  {
   "cell_type": "code",
   "execution_count": 3,
   "metadata": {},
   "outputs": [
    {
     "data": {
      "text/plain": [
       "(torch.Size([3, 1]), 2, torch.float32)"
      ]
     },
     "execution_count": 3,
     "metadata": {},
     "output_type": "execute_result"
    }
   ],
   "source": [
    "## 정답 텐서 생성 \n",
    "yTS=torch.randint(1, 10, (3, 1))\n",
    "yTS=yTS.type(torch.float32)\n",
    "\n",
    "yTS.shape, yTS.ndim, yTS.dtype"
   ]
  },
  {
   "cell_type": "code",
   "execution_count": null,
   "metadata": {},
   "outputs": [],
   "source": [
    "#xTS.requires_grad"
   ]
  },
  {
   "cell_type": "markdown",
   "metadata": {},
   "source": [
    "[2] 가중치와 절편 텐서 생성"
   ]
  },
  {
   "cell_type": "code",
   "execution_count": 4,
   "metadata": {},
   "outputs": [
    {
     "name": "stdout",
     "output_type": "stream",
     "text": [
      "tensor([0.4425], requires_grad=True) tensor([0.0958], requires_grad=True)\n"
     ]
    }
   ],
   "source": [
    "# 가중치와 절편 텐서 값을 0으로 초기화\n",
    "# 퍼셉트론 1개 , 입력 피쳐 1개 , 샘플 3개 \n",
    "# 가중치와 절편 텐서 역전파로 업데이트 되어야 함 => requires_grad=True\n",
    "W = torch.rand(1, requires_grad=True) \n",
    "b = torch.rand(1, requires_grad=True) \n",
    "\n",
    "print(W, b)"
   ]
  },
  {
   "cell_type": "markdown",
   "metadata": {},
   "source": [
    "[3] 학습 ==> 입력데이터*가중치 + 절편"
   ]
  },
  {
   "cell_type": "code",
   "execution_count": 5,
   "metadata": {},
   "outputs": [
    {
     "data": {
      "text/plain": [
       "tensor([[0.5383],\n",
       "        [3.1935],\n",
       "        [4.0786]], grad_fn=<AddBackward0>)"
      ]
     },
     "execution_count": 5,
     "metadata": {},
     "output_type": "execute_result"
    }
   ],
   "source": [
    "output= xTS * W + b\n",
    "\n",
    "output"
   ]
  },
  {
   "cell_type": "markdown",
   "metadata": {},
   "source": [
    "[4] 정답과 학습결과 값의 차이 계산 => 손실함수\n"
   ]
  },
  {
   "cell_type": "code",
   "execution_count": 6,
   "metadata": {},
   "outputs": [
    {
     "name": "stdout",
     "output_type": "stream",
     "text": [
      "정답 tensor([[1.],\n",
      "        [9.],\n",
      "        [4.]])\n",
      "결과값 tensor([[0.5383],\n",
      "        [3.1935],\n",
      "        [4.0786]], grad_fn=<AddBackward0>)\n",
      "차이값 tensor([[ 0.4617],\n",
      "        [ 5.8065],\n",
      "        [-0.0786]], grad_fn=<SubBackward0>)\n",
      "MSE tensor(11.3116, grad_fn=<MeanBackward0>)\n"
     ]
    }
   ],
   "source": [
    "# 정답\n",
    "print(\"정답\", yTS)\n",
    "\n",
    "# 학습 결과 값\n",
    "print(\"결과값\", output)\n",
    "\n",
    "# 정답 - 학습결과값\n",
    "value=yTS-output\n",
    "print(\"차이값\", value)\n",
    "\n",
    "# 차이값 제곱 후 평균 : Mean Square Error MSE 평균제곱오차\n",
    "value = (yTS-output) ** 2\n",
    "value = torch.mean(value)\n",
    "print(\"MSE\", value)"
   ]
  },
  {
   "cell_type": "code",
   "execution_count": null,
   "metadata": {},
   "outputs": [],
   "source": []
  }
 ],
 "metadata": {
  "kernelspec": {
   "display_name": "DL_TORCH",
   "language": "python",
   "name": "python3"
  },
  "language_info": {
   "codemirror_mode": {
    "name": "ipython",
    "version": 3
   },
   "file_extension": ".py",
   "mimetype": "text/x-python",
   "name": "python",
   "nbconvert_exporter": "python",
   "pygments_lexer": "ipython3",
   "version": "3.9.21"
  }
 },
 "nbformat": 4,
 "nbformat_minor": 2
}
