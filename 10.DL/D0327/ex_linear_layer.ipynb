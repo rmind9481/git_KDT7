{
 "cells": [
  {
   "cell_type": "markdown",
   "metadata": {},
   "source": [
    "# [Linear Layer]\n",
    "-\tpytorch 에서 퍼셉트론의 가중치 합계 (Weighed Sum)을 계산해주는 층 클래스\n",
    "-\t출력값에 활성화 함수 (AF) 적용해야 출력값이 됨"
   ]
  },
  {
   "cell_type": "markdown",
   "metadata": {},
   "source": [
    "[1] 모듈로딩 <hr>"
   ]
  },
  {
   "cell_type": "code",
   "execution_count": null,
   "metadata": {},
   "outputs": [],
   "source": [
    "# 모듈로딩\n",
    "\n",
    "import torch \t\t\t\t\t# 텐서관련 모듈\n",
    "import torch.nn as nn\t\t\t# 신경망 관련 모듈\n",
    "import torch.nn.functional as F # 활성화 및 신경망 관련 함수들 "
   ]
  },
  {
   "cell_type": "code",
   "execution_count": 3,
   "metadata": {},
   "outputs": [],
   "source": [
    "# 임시 데이터 준비\n",
    "\n",
    "# 2행 3열\n",
    "X_train = torch.randn(2,3)\n",
    "y_train = torch.randint(1,5,(2,1))\n"
   ]
  },
  {
   "cell_type": "code",
   "execution_count": 4,
   "metadata": {},
   "outputs": [
    {
     "name": "stdout",
     "output_type": "stream",
     "text": [
      "torch.Size([2, 3]) torch.Size([2, 1])\n"
     ]
    }
   ],
   "source": [
    "print(X_train.shape, y_train.shape)"
   ]
  },
  {
   "cell_type": "markdown",
   "metadata": {},
   "source": [
    "[2] 선형 결합층(Full- Connected Layer : FC Layer)"
   ]
  },
  {
   "cell_type": "code",
   "execution_count": 10,
   "metadata": {},
   "outputs": [],
   "source": [
    "# 인스턴스 생성\n",
    "\n",
    "# 입력 피쳐수, 출력 결과 수, 퍼셉트론 수\n",
    "layer = nn.Linear(3,5)"
   ]
  },
  {
   "cell_type": "code",
   "execution_count": 11,
   "metadata": {},
   "outputs": [
    {
     "name": "stdout",
     "output_type": "stream",
     "text": [
      "tensor([[ 1.2551,  0.3219, -0.6176, -0.4988, -0.5417],\n",
      "        [-0.2818, -0.4477,  1.4151,  0.0484,  0.6634]],\n",
      "       grad_fn=<AddmmBackward0>)\n"
     ]
    }
   ],
   "source": [
    "# 가중치의 합\n",
    "output = layer(X_train)\t\t# 입력 (2,3)\n",
    "print(output)"
   ]
  },
  {
   "cell_type": "code",
   "execution_count": 12,
   "metadata": {},
   "outputs": [
    {
     "name": "stdout",
     "output_type": "stream",
     "text": [
      "weight => Parameter containing:\n",
      "tensor([[-0.0924,  0.2430,  0.4921],\n",
      "        [ 0.5732, -0.1606, -0.2245],\n",
      "        [-0.3668,  0.1458, -0.3488],\n",
      "        [ 0.3623, -0.5684, -0.3311],\n",
      "        [-0.0583,  0.5661, -0.4850]], requires_grad=True)\n",
      "bias => Parameter containing:\n",
      "tensor([ 0.4787,  0.3093,  0.1374, -0.0563,  0.0592], requires_grad=True)\n"
     ]
    }
   ],
   "source": [
    "#  W,b  텐서 확인\n",
    "print(f'weight => {layer.weight}')\n",
    "print(f'bias => {layer.bias}')"
   ]
  },
  {
   "cell_type": "code",
   "execution_count": null,
   "metadata": {},
   "outputs": [],
   "source": []
  }
 ],
 "metadata": {
  "kernelspec": {
   "display_name": "DL_TORCH",
   "language": "python",
   "name": "python3"
  },
  "language_info": {
   "codemirror_mode": {
    "name": "ipython",
    "version": 3
   },
   "file_extension": ".py",
   "mimetype": "text/x-python",
   "name": "python",
   "nbconvert_exporter": "python",
   "pygments_lexer": "ipython3",
   "version": "3.9.21"
  }
 },
 "nbformat": 4,
 "nbformat_minor": 2
}
