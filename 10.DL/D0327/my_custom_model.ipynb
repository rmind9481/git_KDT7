{
 "cells": [
  {
   "cell_type": "markdown",
   "metadata": {},
   "source": [
    "# [Custom Model Class 정의 및 설계]"
   ]
  },
  {
   "cell_type": "code",
   "execution_count": 1,
   "metadata": {},
   "outputs": [],
   "source": [
    "import torch \t\t\t\t# tensor , 내장함수 및 클래스 관련모듈\n",
    "import torch.nn as nn\t\t# 인공신경망 관련층 , 함수 클래스 모듈\n",
    "import torch.nn.functional as F # 인공신경마 관련층 , AF, LF 함수 모듈\n",
    "\n",
    "import pandas as pd\n",
    "import numpy as np\n"
   ]
  },
  {
   "cell_type": "markdown",
   "metadata": {},
   "source": [
    "[2] 커스텀 모델 클래스 설계 <hr>\n"
   ]
  },
  {
   "cell_type": "code",
   "execution_count": 2,
   "metadata": {},
   "outputs": [],
   "source": [
    "# [2-1] 고정된 층 과 퍼셉트론 구성 모델\n",
    "# - 데이터 셋 : 피쳐 3, 타겟1, 타겟 연속형\n",
    "# - 학습 방법 : 지도학습 - 회귀\n",
    "# - 구현 알고리즘 : 인공신경망 계열 DNN\n",
    "\n",
    "# ----------------------------------------------------\n",
    "# - 입력층\t\t3\t\t20\t\tReLu\n",
    "# -\t은닉층\t\t20\t\t10\t\tReLu\n",
    "# - 은닉층\t\t10\t\t5\t\tReLu\n",
    "# - 출력층 \t\t5\t\t1\t\t-\n",
    "\n",
    "# -----------------------------------------------------\n",
    "\n",
    "class CutomModel(nn.Module):\n",
    "\t# 인스턴스 초기화 및 생성 메서드\n",
    "\tdef __init__(self):\n",
    "\t\tsuper().__init__()\n",
    "\t\t# ANN 층 인스턴스 생성\n",
    "\t\tprint('__init__()')\n",
    "\t\tself.in_layer = nn.Linear(3,20)\n",
    "\t\tself.hd_layer1 = nn.Linear(20,10)\n",
    "\t\tself.hd_layer2 = nn.Linear(10,5)\n",
    "\t\tself.out_layer = nn.Linear(5,1)\n",
    "\n",
    "\t# 순전파 학습 메서드\n",
    "\tdef forward(self, data):\n",
    "\t\t# - 입력파\t\n",
    "\t\tout = self.in_layer(data)\t# data * weight + b\n",
    "\t\tout = F.relu(out)\t\t\t# AF(data * weight +b ) 결과물\n",
    "\t\n",
    "\t\t# -\t은닉층 1\n",
    "\t\tout = self.hd_layer1(out) \t# out * weight + b\n",
    "\t\tout = F.relu(out) \t\t\t# AF(out* weight + b) 결과물\n",
    "\n",
    "\t\t# - 은닉층 2\n",
    "\t\tout = self.hd_layer2(out)\t# out * weight + b\n",
    "\t\tout = F.relu(out) \t\t\t# AF(out* weight + b)  결과물\n",
    "\n",
    "\t\t# - 출력층 : 회귀로 결과 그래도 반환\n",
    "\t\tout = self.out_layer(out) \t# out * weight +b\n",
    "\n",
    "\t\treturn out\n",
    " \t"
   ]
  },
  {
   "cell_type": "code",
   "execution_count": 3,
   "metadata": {},
   "outputs": [
    {
     "name": "stdout",
     "output_type": "stream",
     "text": [
      "__init__()\n",
      "CutomModel(\n",
      "  (in_layer): Linear(in_features=3, out_features=20, bias=True)\n",
      "  (hd_layer1): Linear(in_features=20, out_features=10, bias=True)\n",
      "  (hd_layer2): Linear(in_features=10, out_features=5, bias=True)\n",
      "  (out_layer): Linear(in_features=5, out_features=1, bias=True)\n",
      ")\n"
     ]
    }
   ],
   "source": [
    "# 모델 사용 ---------------------\n",
    "# 모델 인스턴스 생성\n",
    "\n",
    "model = CutomModel()\n",
    "\n",
    "# 모델 구조확인\n",
    "print(model)"
   ]
  },
  {
   "cell_type": "code",
   "execution_count": 5,
   "metadata": {},
   "outputs": [
    {
     "name": "stdout",
     "output_type": "stream",
     "text": [
      "tensor([[10.,  5.,  8.],\n",
      "        [ 5.,  9.,  7.]])\n",
      "tensor([[-0.8155],\n",
      "        [-0.9668]], grad_fn=<AddmmBackward0>)\n"
     ]
    }
   ],
   "source": [
    "# 모델 동작 테스트\n",
    "\n",
    "data = torch.FloatTensor([[10,5,8],[5,9,7]])\n",
    "print(data)\n",
    "\n",
    "# 모델에 데이터 전달\n",
    "pre = model(data)\n",
    "print(pre)"
   ]
  },
  {
   "cell_type": "code",
   "execution_count": 6,
   "metadata": {},
   "outputs": [
    {
     "name": "stdout",
     "output_type": "stream",
     "text": [
      "name in_layer.weight \n",
      " param : Parameter containing:\n",
      "tensor([[-0.0877, -0.1941,  0.5022],\n",
      "        [-0.4720, -0.3284, -0.2081],\n",
      "        [-0.3587,  0.4546,  0.5649],\n",
      "        [-0.1108,  0.5057,  0.5038],\n",
      "        [ 0.1439, -0.4537, -0.1858],\n",
      "        [ 0.2784, -0.2508, -0.3708],\n",
      "        [ 0.1028, -0.5688, -0.1431],\n",
      "        [-0.2823,  0.4721, -0.0042],\n",
      "        [-0.2527, -0.1524,  0.3364],\n",
      "        [ 0.0295,  0.0668,  0.1076],\n",
      "        [ 0.5700, -0.0867, -0.0198],\n",
      "        [ 0.1317,  0.3540,  0.4791],\n",
      "        [-0.1820,  0.4822, -0.4980],\n",
      "        [-0.2612,  0.3333, -0.0756],\n",
      "        [ 0.3351,  0.5355, -0.2505],\n",
      "        [ 0.3259,  0.0902, -0.2044],\n",
      "        [ 0.1651, -0.1112,  0.0284],\n",
      "        [-0.1238, -0.0542, -0.2706],\n",
      "        [ 0.1938, -0.0888, -0.1336],\n",
      "        [ 0.0390,  0.3418,  0.0514]], requires_grad=True)\n",
      "name in_layer.bias \n",
      " param : Parameter containing:\n",
      "tensor([-0.3833,  0.3109,  0.4466,  0.0511,  0.1169,  0.1642,  0.1848,  0.5760,\n",
      "         0.4213, -0.0964, -0.3597,  0.2406,  0.4799, -0.3467,  0.0731, -0.1704,\n",
      "        -0.5323, -0.3779, -0.0272, -0.1257], requires_grad=True)\n",
      "name hd_layer1.weight \n",
      " param : Parameter containing:\n",
      "tensor([[ 2.1985e-01, -1.3079e-01,  3.0866e-02, -1.2085e-01, -1.1635e-01,\n",
      "          1.0702e-01,  1.7215e-01, -1.4086e-01,  6.0508e-02,  1.7141e-01,\n",
      "          1.0202e-01,  1.7518e-01,  9.0659e-02,  1.0180e-01, -1.8527e-01,\n",
      "         -8.7153e-02, -8.6044e-02, -9.0774e-02, -5.9279e-02, -1.0605e-01],\n",
      "        [ 2.2444e-02,  1.6195e-01, -2.1615e-01, -1.5146e-02,  2.0283e-01,\n",
      "         -7.6326e-02, -2.1780e-01,  6.7539e-02, -1.0791e-02,  8.7347e-02,\n",
      "         -2.0549e-01,  1.8588e-01,  1.2926e-01, -2.0796e-01,  5.5369e-02,\n",
      "          8.8942e-02, -1.8810e-01,  1.3153e-01, -2.9838e-02,  3.8385e-02],\n",
      "        [-1.8320e-02,  2.4199e-02,  4.6428e-02,  1.5576e-01,  2.0725e-01,\n",
      "          1.1338e-02, -3.9081e-02,  1.3227e-01,  2.1366e-01, -6.9990e-03,\n",
      "          1.3792e-01,  1.5842e-01,  1.6467e-01, -8.9328e-02, -7.3980e-03,\n",
      "         -2.7790e-02, -1.6682e-01,  2.1836e-01,  1.7460e-01,  2.1436e-01],\n",
      "        [ 3.0802e-02, -1.3025e-01, -5.2563e-02,  2.2173e-01, -8.4494e-02,\n",
      "         -6.4587e-02,  1.1711e-01, -2.1148e-02,  1.0312e-01, -1.8063e-01,\n",
      "          1.0463e-01,  2.1337e-01,  1.0852e-02, -1.4503e-01, -1.4263e-01,\n",
      "         -1.6549e-01, -1.8438e-01,  1.4043e-01, -1.0568e-02, -8.6183e-02],\n",
      "        [ 6.6846e-02, -1.1718e-01, -1.2402e-01, -1.5144e-01, -1.5378e-01,\n",
      "         -2.0404e-01,  2.1942e-01, -6.3245e-02,  1.9742e-01,  1.0556e-01,\n",
      "         -8.7978e-02,  1.2775e-01,  8.2928e-02, -2.9422e-02,  3.6546e-02,\n",
      "         -1.2328e-01, -2.0441e-02,  1.7684e-02, -7.2608e-03, -1.6090e-01],\n",
      "        [ 1.2845e-02, -6.4053e-02,  1.2546e-01, -8.4511e-02, -1.0841e-01,\n",
      "          1.6396e-01,  1.0191e-01,  1.0090e-01,  1.3083e-01,  7.1841e-02,\n",
      "          1.5487e-01, -1.4894e-01, -1.3070e-01,  6.2545e-02, -5.9065e-02,\n",
      "         -2.2125e-01,  1.7410e-01,  8.6201e-02, -1.1387e-01, -1.1586e-01],\n",
      "        [ 1.6041e-01,  1.8411e-02, -1.3645e-01,  1.7927e-01,  1.7218e-01,\n",
      "         -4.9077e-03, -2.1743e-01, -1.8049e-01, -9.0503e-02, -9.4528e-02,\n",
      "          5.6153e-02,  1.6294e-04, -6.0126e-02, -1.8948e-01, -2.1616e-01,\n",
      "         -1.8525e-02,  1.1974e-01,  1.2970e-01,  8.1999e-02, -2.2358e-02],\n",
      "        [-3.4212e-02, -2.0946e-01, -1.2485e-01,  2.1761e-01,  2.0515e-01,\n",
      "          3.5889e-03, -3.3421e-02,  4.2224e-02,  2.7763e-02, -3.2183e-02,\n",
      "          1.3331e-01, -1.0132e-01,  2.0075e-01, -1.2721e-01,  4.4144e-02,\n",
      "          5.9620e-02, -4.0746e-02, -4.6658e-02, -1.9217e-01, -2.1423e-01],\n",
      "        [-2.1603e-01,  1.0361e-01,  1.0394e-01, -1.4043e-01, -1.1818e-01,\n",
      "         -1.9516e-01, -1.9179e-01, -1.9947e-01, -1.2018e-01,  1.7370e-01,\n",
      "          1.2994e-01, -2.6001e-02, -9.7951e-02,  1.6419e-01, -3.0270e-02,\n",
      "          2.2213e-01,  9.9097e-02, -1.3923e-01,  2.1572e-01,  3.9540e-02],\n",
      "        [-1.5811e-01, -1.3746e-01,  7.5201e-02,  1.7735e-01, -1.6699e-01,\n",
      "         -1.3101e-01,  9.2009e-02,  1.4619e-01, -1.8590e-01, -1.1843e-01,\n",
      "          5.5805e-02, -9.5818e-02, -1.9364e-01, -9.6503e-02, -2.1814e-01,\n",
      "          1.7829e-01,  3.6683e-02, -2.2295e-01,  6.0188e-02,  1.2157e-01]],\n",
      "       requires_grad=True)\n",
      "name hd_layer1.bias \n",
      " param : Parameter containing:\n",
      "tensor([ 0.0378, -0.0701,  0.1438,  0.0377,  0.1314, -0.0072, -0.1290,  0.2054,\n",
      "        -0.1249, -0.2116], requires_grad=True)\n",
      "name hd_layer2.weight \n",
      " param : Parameter containing:\n",
      "tensor([[ 0.1854, -0.0264, -0.2671,  0.0123, -0.2709, -0.2174,  0.1043,  0.0613,\n",
      "         -0.2114, -0.3108],\n",
      "        [ 0.1264,  0.2189, -0.2389,  0.0174, -0.1362,  0.1066,  0.0218,  0.0196,\n",
      "         -0.0890, -0.0153],\n",
      "        [ 0.2656,  0.1809,  0.2775,  0.2830,  0.0704, -0.0162, -0.3142,  0.1043,\n",
      "          0.0281,  0.0799],\n",
      "        [ 0.1147,  0.2673, -0.0033, -0.2956,  0.0694, -0.1211, -0.2040, -0.1822,\n",
      "          0.1127, -0.0016],\n",
      "        [-0.0149,  0.0033,  0.2299, -0.0017,  0.1427,  0.1859, -0.2886, -0.1476,\n",
      "         -0.2684, -0.0292]], requires_grad=True)\n",
      "name hd_layer2.bias \n",
      " param : Parameter containing:\n",
      "tensor([ 0.0305,  0.2867, -0.1917,  0.1497,  0.1919], requires_grad=True)\n",
      "name out_layer.weight \n",
      " param : Parameter containing:\n",
      "tensor([[-0.3151, -0.3735, -0.4413, -0.1007, -0.3194]], requires_grad=True)\n",
      "name out_layer.bias \n",
      " param : Parameter containing:\n",
      "tensor([0.0512], requires_grad=True)\n"
     ]
    }
   ],
   "source": [
    "# 모델 파라미터들 \n",
    "for name, param in model.named_parameters():\n",
    "\tprint(f'name {name} \\n param : {param}')"
   ]
  }
 ],
 "metadata": {
  "kernelspec": {
   "display_name": "DL_TORCH",
   "language": "python",
   "name": "python3"
  },
  "language_info": {
   "codemirror_mode": {
    "name": "ipython",
    "version": 3
   },
   "file_extension": ".py",
   "mimetype": "text/x-python",
   "name": "python",
   "nbconvert_exporter": "python",
   "pygments_lexer": "ipython3",
   "version": "3.9.21"
  }
 },
 "nbformat": 4,
 "nbformat_minor": 2
}
