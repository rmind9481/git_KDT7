{
 "cells": [
  {
   "cell_type": "markdown",
   "metadata": {},
   "source": [
    "### [ Tensor 타입 캐스팅/ 형변환 ]\n",
    "-\ttensor.type(변환타입)\n",
    "-\ttensor.to(변환타입)\n",
    "-\ttensor.타입명()"
   ]
  },
  {
   "cell_type": "code",
   "execution_count": 1,
   "metadata": {},
   "outputs": [],
   "source": [
    "# 모듈로딩\n",
    "\n",
    "import torch\n",
    "import numpy as np "
   ]
  },
  {
   "cell_type": "code",
   "execution_count": 4,
   "metadata": {},
   "outputs": [],
   "source": [
    "# 텐서 생성 - 임의의 값\n",
    "\n",
    "torch.manual_seed(43)\n",
    "\n",
    "t1 = torch.randn((2,5))\n",
    "\n"
   ]
  },
  {
   "cell_type": "code",
   "execution_count": 6,
   "metadata": {},
   "outputs": [
    {
     "data": {
      "text/plain": [
       "tensor([[-0.6484, -0.7058,  0.6432,  1.4788,  1.1918],\n",
       "        [-0.1446,  0.4847,  0.6921, -1.3929,  0.7623]])"
      ]
     },
     "execution_count": 6,
     "metadata": {},
     "output_type": "execute_result"
    }
   ],
   "source": [
    "t1"
   ]
  },
  {
   "cell_type": "code",
   "execution_count": 5,
   "metadata": {},
   "outputs": [
    {
     "name": "stdout",
     "output_type": "stream",
     "text": [
      "torch.Size([2, 5]) torch.float32\n"
     ]
    }
   ],
   "source": [
    "# 텐서 정보 \n",
    "print(t1.shape, t1.dtype)"
   ]
  },
  {
   "cell_type": "code",
   "execution_count": 7,
   "metadata": {},
   "outputs": [],
   "source": [
    "# float32 => int32 형변환\n",
    "t2 =t1.type(torch.int32)\n",
    "t3 = t1.to(torch.int32)\n",
    "t4 = t1.int()"
   ]
  },
  {
   "cell_type": "code",
   "execution_count": 8,
   "metadata": {},
   "outputs": [
    {
     "name": "stdout",
     "output_type": "stream",
     "text": [
      "torch.int32 torch.int32 torch.int32\n"
     ]
    }
   ],
   "source": [
    "print(t2.dtype, t3.dtype, t4.dtype)"
   ]
  },
  {
   "cell_type": "code",
   "execution_count": 9,
   "metadata": {},
   "outputs": [],
   "source": [
    "# float32 => bool 형변환\n",
    "t2 =t1.type(torch.bool)\n",
    "t3 = t1.to(torch.bool)\n",
    "t4 = t1.int()"
   ]
  },
  {
   "cell_type": "code",
   "execution_count": null,
   "metadata": {},
   "outputs": [],
   "source": []
  }
 ],
 "metadata": {
  "kernelspec": {
   "display_name": "DL_TORCH",
   "language": "python",
   "name": "python3"
  },
  "language_info": {
   "codemirror_mode": {
    "name": "ipython",
    "version": 3
   },
   "file_extension": ".py",
   "mimetype": "text/x-python",
   "name": "python",
   "nbconvert_exporter": "python",
   "pygments_lexer": "ipython3",
   "version": "3.9.21"
  }
 },
 "nbformat": 4,
 "nbformat_minor": 2
}
