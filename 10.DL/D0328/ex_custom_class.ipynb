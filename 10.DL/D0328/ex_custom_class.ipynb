{
 "cells": [
  {
   "cell_type": "markdown",
   "metadata": {},
   "source": [
    "# [커스텀 클래스의 오버라이딩]"
   ]
  },
  {
   "cell_type": "code",
   "execution_count": 26,
   "metadata": {},
   "outputs": [],
   "source": [
    "class Test:\n",
    "\n",
    "\t# 클래스 초기화 기능의 메서드 로 인스턴스(속성) 메모리 저장기능\n",
    "\t# 생성자(Constructor) --- Test()\n",
    "\tdef __init__(self, num,name):\n",
    "\t\tself.num = num\n",
    "\t\tself.name = name\n",
    "\n",
    "\tdef __str__(self):\n",
    "\t\tprint('__str__()')\n",
    "\t\t\n",
    "\tdef __add__(self, other):\n",
    "\t\tprint('__add__()')\n",
    "\t\treturn self.num + other.num\n",
    "\n",
    "\tdef __mul__(self, other):\n",
    "\t\tprint('__mul__')\n",
    "\t\treturn self.num ** other.num\n",
    "\t\n",
    "\tdef __call__(self,data):\n",
    "\t\tprint('__call__()',data)\n",
    "\t\treturn \"Calling\"\n"
   ]
  },
  {
   "cell_type": "code",
   "execution_count": 27,
   "metadata": {},
   "outputs": [],
   "source": [
    "t1 = Test(10, 'A')\n",
    "t2 = Test(5, 'A')"
   ]
  },
  {
   "cell_type": "code",
   "execution_count": 28,
   "metadata": {},
   "outputs": [
    {
     "name": "stdout",
     "output_type": "stream",
     "text": [
      "__add__()\n"
     ]
    },
    {
     "data": {
      "text/plain": [
       "15"
      ]
     },
     "execution_count": 28,
     "metadata": {},
     "output_type": "execute_result"
    }
   ],
   "source": [
    "t1 + t2"
   ]
  },
  {
   "cell_type": "code",
   "execution_count": null,
   "metadata": {},
   "outputs": [
    {
     "name": "stdout",
     "output_type": "stream",
     "text": [
      "__call__() book\n"
     ]
    },
    {
     "data": {
      "text/plain": [
       "'Calling'"
      ]
     },
     "execution_count": 29,
     "metadata": {},
     "output_type": "execute_result"
    }
   ],
   "source": [
    "# 인스턴스 변수명으로 호출이 가능하도록 오버라이딩\n",
    "t1('book')"
   ]
  },
  {
   "cell_type": "code",
   "execution_count": null,
   "metadata": {},
   "outputs": [],
   "source": []
  }
 ],
 "metadata": {
  "kernelspec": {
   "display_name": "DL_TORCH",
   "language": "python",
   "name": "python3"
  },
  "language_info": {
   "codemirror_mode": {
    "name": "ipython",
    "version": 3
   },
   "file_extension": ".py",
   "mimetype": "text/x-python",
   "name": "python",
   "nbconvert_exporter": "python",
   "pygments_lexer": "ipython3",
   "version": "3.9.21"
  }
 },
 "nbformat": 4,
 "nbformat_minor": 2
}
