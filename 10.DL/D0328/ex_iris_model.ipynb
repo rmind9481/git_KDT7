{
 "cells": [
  {
   "cell_type": "markdown",
   "metadata": {},
   "source": [
    "# [Pytorch DL MODEL 실습]"
   ]
  },
  {
   "cell_type": "markdown",
   "metadata": {},
   "source": [
    "- 데이터셋 : iris.csv\n",
    "- 학습방법 : 지도학습 + 분류 => 2진분류\n"
   ]
  },
  {
   "cell_type": "markdown",
   "metadata": {},
   "source": [
    "[1] 모듈 로딩  및 데이터  준비 <hr>"
   ]
  },
  {
   "cell_type": "code",
   "execution_count": 101,
   "metadata": {},
   "outputs": [],
   "source": [
    "# 모듈로딩\n",
    "import pandas as pd\t\t\t\t\t\t\t\t\t\t\t\t# 데이터 관련 모듈\n",
    "import numpy as np\t\t\t\n",
    "import torch\t\t\t\t\t\n",
    "import torch.nn as nn\t\t\t\t\t\t\t\t\t\t\t# 인공신경망 관련 모듈\n",
    "import torch.nn.functional as F\t\t\t\t\t\t\t\t\t# 인공신경망 관련 함수\n",
    "import torch.optim as optim\t\t\t\t\t\t\t\t\t\t# 최적화 모듈\n",
    "from sklearn.model_selection import train_test_split\t\t\t# 학습용 데이터"
   ]
  },
  {
   "cell_type": "code",
   "execution_count": 102,
   "metadata": {},
   "outputs": [],
   "source": [
    "DATA_FAIL = '../Data/iris.csv'"
   ]
  },
  {
   "cell_type": "markdown",
   "metadata": {},
   "source": [
    "[2] 데이터 로딩 및 확인 <hr>"
   ]
  },
  {
   "cell_type": "code",
   "execution_count": 103,
   "metadata": {},
   "outputs": [
    {
     "name": "stdout",
     "output_type": "stream",
     "text": [
      "<class 'pandas.core.frame.DataFrame'>\n",
      "RangeIndex: 100 entries, 0 to 99\n",
      "Data columns (total 5 columns):\n",
      " #   Column        Non-Null Count  Dtype  \n",
      "---  ------        --------------  -----  \n",
      " 0   sepal.length  100 non-null    float64\n",
      " 1   sepal.width   100 non-null    float64\n",
      " 2   petal.length  100 non-null    float64\n",
      " 3   petal.width   100 non-null    float64\n",
      " 4   variety       100 non-null    object \n",
      "dtypes: float64(4), object(1)\n",
      "memory usage: 4.0+ KB\n"
     ]
    }
   ],
   "source": [
    "## 데이터 로딩\n",
    "irisDF = pd.read_csv(DATA_FAIL, skipfooter=50, engine='python')\n",
    "\n",
    "irisDF.info()\n"
   ]
  },
  {
   "cell_type": "code",
   "execution_count": 104,
   "metadata": {},
   "outputs": [
    {
     "data": {
      "text/plain": [
       "array(['Setosa', 'Versicolor'], dtype=object)"
      ]
     },
     "execution_count": 104,
     "metadata": {},
     "output_type": "execute_result"
    }
   ],
   "source": [
    "# 데이터 확인\n",
    "irisDF.variety.unique()"
   ]
  },
  {
   "cell_type": "code",
   "execution_count": 105,
   "metadata": {},
   "outputs": [
    {
     "name": "stderr",
     "output_type": "stream",
     "text": [
      "C:\\Users\\KDT17\\AppData\\Local\\Temp\\ipykernel_28568\\218542802.py:1: FutureWarning: Downcasting behavior in `replace` is deprecated and will be removed in a future version. To retain the old behavior, explicitly call `result.infer_objects(copy=False)`. To opt-in to the future behavior, set `pd.set_option('future.no_silent_downcasting', True)`\n",
      "  irisDF.variety =irisDF.variety.replace({'Setosa':0, 'Versicolor':1})\n"
     ]
    }
   ],
   "source": [
    "irisDF.variety =irisDF.variety.replace({'Setosa':0, 'Versicolor':1})"
   ]
  },
  {
   "cell_type": "code",
   "execution_count": 106,
   "metadata": {},
   "outputs": [
    {
     "data": {
      "text/plain": [
       "sepal.length    float64\n",
       "sepal.width     float64\n",
       "petal.length    float64\n",
       "petal.width     float64\n",
       "variety           int64\n",
       "dtype: object"
      ]
     },
     "execution_count": 106,
     "metadata": {},
     "output_type": "execute_result"
    }
   ],
   "source": [
    "irisDF.dtypes"
   ]
  },
  {
   "cell_type": "markdown",
   "metadata": {},
   "source": [
    "# [3] 데이터셋 준비"
   ]
  },
  {
   "cell_type": "code",
   "execution_count": 107,
   "metadata": {},
   "outputs": [
    {
     "name": "stdout",
     "output_type": "stream",
     "text": [
      "[feature] : (100, 4) , 2D\n",
      "[target] : (100,) , 1D\n"
     ]
    }
   ],
   "source": [
    "featureDf = irisDF[irisDF.columns[:-1]]\n",
    "targetDf = irisDF[irisDF.columns[-1]]\n",
    "\n",
    "print(f'[feature] : {featureDf.shape} , {featureDf.ndim}D')\n",
    "print(f'[target] : {targetDf.shape} , {targetDf.ndim}D')"
   ]
  },
  {
   "cell_type": "code",
   "execution_count": 108,
   "metadata": {},
   "outputs": [
    {
     "name": "stdout",
     "output_type": "stream",
     "text": [
      " X_train (80, 4) , x_train 2D\n",
      " y_train (80,) , y_train 1D\n",
      " y_test (20,) , y_test 1D\n",
      " x test (20, 4) , xest2D\n"
     ]
    }
   ],
   "source": [
    "\n",
    "X_train, X_test, y_train, y_test = train_test_split(featureDf,targetDf,\n",
    "\t\t\t\t\t\t\t\t\t\t\t\t\ttest_size=0.2,\n",
    "\t\t\t\t\t\t\t\t\t\t\t\t\tstratify=targetDf,\n",
    "\t\t\t\t\t\t\t\t\t\t\t\t\trandom_state=42)\n",
    "\n",
    "print(f' X_train {X_train.shape} , x_train {X_train.ndim}D')\n",
    "print(f' y_train {y_train.shape} , y_train {y_train.ndim}D')\n",
    "print(f' y_test {y_test.shape} , y_test {y_test.ndim}D')\n",
    "print(f' x test {X_test.shape} , xest{X_test.ndim}D')\n"
   ]
  },
  {
   "cell_type": "markdown",
   "metadata": {},
   "source": [
    "# [4] 모델 설계 및 클래스 구현"
   ]
  },
  {
   "cell_type": "code",
   "execution_count": 109,
   "metadata": {},
   "outputs": [],
   "source": [
    "# # ----------------------------------------------------------------------------------\n",
    "# # 클래스  이름 :Iris_Model\n",
    "# # 부모 클래스 : nn.model()\n",
    "# # 모델층 구성\t\t\t입력신호수\t\t\t출력신호수\t활성화 함수\n",
    "# # - 입력층:\t\t피쳐 \t4\t\t\t\t3000개\t\tReLu\t\n",
    "# # - 은닉층 1층:  \t\t\t3000개\t\t\t20개\t\tReLu\t\n",
    "# # - 은닉층 2층:\t\t\t1500개\t\t\t10개\t\tReLu\n",
    "# # - 은닉층 3층:\t\t\t1000개\t\t\t10개\t\tReLu\n",
    "# # - 은닉층 4층: \t\t\t500개\t\t\t 5개\t\tReLu\n",
    "# # - 은닉층 5층: \t\t\t500개\t\t\t 5개\t\tReLu\n",
    "# # - 은닉층 6층: \t\t\t500개\t\t\t 5개\t\tReLu\n",
    "# # - 은닉층 7층: \t\t\t500개\t\t\t 5개\t\tReLu\n",
    "# # - 은닉층 8층: \t\t\t500개\t\t\t 5개\t\tReLu\n",
    "# # - 출력층:\t\t\t\t 5개\t\t\t 1개\t\t simoid\n",
    "# # -----------------------------------------------------------------------------------\n",
    "\n",
    "\n",
    "\n",
    "\n",
    "class Iris_Model(nn.Module):\n",
    "\n",
    "\t# 인스턴스 초기화\n",
    "\tdef __init__(self):\n",
    "\t\tsuper().__init__()\n",
    "\t\tprint('__init__()')\n",
    "\t\tself.in_layer = nn.Linear(4,3000)\n",
    "\t\tself.hd_layer1 = nn.Linear(3000,2000)\n",
    "\t\tself.hd_layer2 = nn.Linear(2000,1500)\n",
    "\t\tself.hd_layer3 = nn.Linear(1500,1000)\n",
    "\t\tself.hd_layer4 = nn.Linear(1000,500)\n",
    "\t\tself.hd_layer5 = nn.Linear(500,150)\n",
    "\t\tself.hd_layer6 = nn.Linear(150,100)\n",
    "\t\tself.hd_layer7 = nn.Linear(100,50)\n",
    "\t\tself.hd_layer8 = nn.Linear(50,25)\n",
    "\t\tself.hd_layer9 = nn.Linear(25,10)\n",
    "\t\tself.hd_layer10 = nn.Linear(10,5)\n",
    "\t\tself.out_layer = nn.Linear(5,1)\n",
    "\n",
    "\t# 학습 즉, 순방향 진행 메서드 forward:필수 오버라이딩 메서드\n",
    "\t# 매개변수 data : 학습용 데이터 전달\n",
    "\tdef forward(self,data):\n",
    "\t\t\n",
    "\t\t#입력 -> 입력층\n",
    "\t\tout = self.in_layer(data)\t\t\t#출력 \n",
    "\t\tout = F.relu(out)\n",
    "\t\t\n",
    "\n",
    "\t\t#은닉층1\n",
    "\t\tout = self.hd_layer1(out)\t\t\t#1. \n",
    "\t\tout = F.relu(out)\n",
    "\t\tout = self.hd_layer2(out)\t\t\t#1. \n",
    "\t\tout = F.relu(out)\n",
    "\t\tout = self.hd_layer3(out)\t\t\t#1. \n",
    "\t\tout = F.relu(out)\n",
    "\t\tout = self.hd_layer4(out)\t\t\t#1. \n",
    "\t\tout = F.relu(out)\n",
    "\t\tout = self.hd_layer5(out)\t\t\t#1. \n",
    "\t\tout = F.relu(out)\n",
    "\t\tout = self.hd_layer6(out)\t\t\t#1. \n",
    "\t\tout = F.relu(out)\n",
    "\t\tout = self.hd_layer7(out)\t\t\t#1. \n",
    "\t\tout = F.relu(out)\n",
    "\t\tout = self.hd_layer8(out)\t\t\t#1. \n",
    "\t\tout = F.relu(out)\n",
    "\t\tout = self.hd_layer9(out)\t\t\t#1. \n",
    "\t\tout = F.relu(out)\n",
    "\t\tout = self.hd_layer10(out)\t\t\t#1. \n",
    "\t\tout = F.relu(out)\n",
    "\n",
    "\t\t# 출력층\n",
    "\t\tout = self.out_layer(out)\t\t\t#1. \n",
    "\t\tout = F.sigmoid(out)\n",
    "\t\treturn out\n",
    "\n",
    "\t\t"
   ]
  },
  {
   "cell_type": "code",
   "execution_count": 110,
   "metadata": {},
   "outputs": [
    {
     "name": "stdout",
     "output_type": "stream",
     "text": [
      "__init__()\n",
      "Iris_Model(\n",
      "  (in_layer): Linear(in_features=4, out_features=3000, bias=True)\n",
      "  (hd_layer1): Linear(in_features=3000, out_features=2000, bias=True)\n",
      "  (hd_layer2): Linear(in_features=2000, out_features=1500, bias=True)\n",
      "  (hd_layer3): Linear(in_features=1500, out_features=1000, bias=True)\n",
      "  (hd_layer4): Linear(in_features=1000, out_features=500, bias=True)\n",
      "  (hd_layer5): Linear(in_features=500, out_features=150, bias=True)\n",
      "  (hd_layer6): Linear(in_features=150, out_features=100, bias=True)\n",
      "  (hd_layer7): Linear(in_features=100, out_features=50, bias=True)\n",
      "  (hd_layer8): Linear(in_features=50, out_features=25, bias=True)\n",
      "  (hd_layer9): Linear(in_features=25, out_features=10, bias=True)\n",
      "  (hd_layer10): Linear(in_features=10, out_features=5, bias=True)\n",
      "  (out_layer): Linear(in_features=5, out_features=1, bias=True)\n",
      ")\n"
     ]
    }
   ],
   "source": [
    "# 모델 구조 확인\n",
    "iris_model = Iris_Model()\n",
    "print(iris_model)\n",
    "\n",
    "# shape 체크\n",
    "data = torch.FloatTensor([[1.,3.2,1.9,2.5]])\n"
   ]
  },
  {
   "cell_type": "markdown",
   "metadata": {},
   "source": [
    "# 학습 준비 <hr>"
   ]
  },
  {
   "cell_type": "code",
   "execution_count": 111,
   "metadata": {},
   "outputs": [
    {
     "name": "stdout",
     "output_type": "stream",
     "text": [
      "Device : cpu, EPOCHS : 10, Batch_size : 40, 2\n"
     ]
    }
   ],
   "source": [
    "# [5-1] 학습 관련 설정들\n",
    "EPOCHS = 10\t\t\t\t\t\t\t\t\t\t\t# 학습용 데이터셋 DS를 처음 부터 끝까지 1번학습 하는것을 에포크 \n",
    "BATCH_SIZE = 40\t\t\t\t\t\t\t\t\t\t\t# DS을 학습량 만큼 나눈 사이즈\n",
    "ITERATION = int(X_train.shape[0]/BATCH_SIZE)\t\t\t# 학습용 DS이 분리된 수 => 1 포크에  W, B 업데이트 횟수 \n",
    "\n",
    "# 학습, 데이터셋 로딩 등  GPU에서 실행여부 설정\n",
    "DEVICE = 'cuda' if torch.cuda.is_available() else 'cpu' \n",
    "\n",
    "print(f'Device : {DEVICE}, EPOCHS : {EPOCHS}, Batch_size : {BATCH_SIZE}, {ITERATION}')"
   ]
  },
  {
   "cell_type": "code",
   "execution_count": 112,
   "metadata": {},
   "outputs": [
    {
     "name": "stdout",
     "output_type": "stream",
     "text": [
      "__init__()\n"
     ]
    }
   ],
   "source": [
    "# 학습 관련 인스턴스들\n",
    "MODEL = Iris_Model()\t\t\t\t\t\t\t\t# 학습 모델\n",
    "OPTIMIZER = optim.Adam(MODEL.parameters()) \t\t\t# 최적화 즉, 경사하강법, 알고리즘으로 \n",
    "LOSS_FN = nn.BCELoss()\t\t\t\t\t\t\t\t# 손실계산 알고리즘"
   ]
  },
  {
   "cell_type": "code",
   "execution_count": 113,
   "metadata": {},
   "outputs": [],
   "source": [
    "# 학습함수 =====================================================\n",
    "\n",
    "def training():\n",
    "\t# 학습 모드 설정\n",
    "\tiris_model.train()\n",
    "\n",
    "\t# 에포크 : DS 처음부터 ~ 끝까지 학습\n",
    "\tfor epoch in range(EPOCHS):\n",
    "\n",
    "\t\tE_LOSS = 0\n",
    "\n",
    "\t\tfor i in range(ITERATION):\n",
    "\t\t\tstart = i*BATCH_SIZE\n",
    "\t\t\tend = start + BATCH_SIZE\n",
    "\t\t\t# ndarray => tensor 변환\n",
    "\n",
    "\t\t\tX = torch.FloatTensor(X_train.values[start:end])\n",
    "\t\t\ty = torch.FloatTensor(y_train.values[start:end])\n",
    "\n",
    "\t\t\t# 가중치 기울기 0 초기화\n",
    "\t\t\tOPTIMIZER.zero_grad()\n",
    "\n",
    "\n",
    "\t\t\t# 학습진행\n",
    "\n",
    "\t\t\tpre_y = MODEL(X)\n",
    "\n",
    "\t\t\t# 손실계산\n",
    "\n",
    "\t\t\tloss = LOSS_FN(pre_y, y.reshape(-1,1))\n",
    "\n",
    "\t\t\t# 역전파 진행\n",
    "\n",
    "\t\t\tloss.backward()\n",
    "\n",
    "\t\t\t# 가중치/절편 업데이트\n",
    "\t\t\tOPTIMIZER.step()\n",
    "\n",
    "\t\t\tE_LOSS += loss.item()\n",
    "\n",
    "\n",
    "\t\tprint(f'{epoch} LOSS : {loss/ITERATION}')\n",
    "\n",
    "\treturn loss"
   ]
  },
  {
   "cell_type": "code",
   "execution_count": 114,
   "metadata": {},
   "outputs": [
    {
     "name": "stdout",
     "output_type": "stream",
     "text": [
      "0 LOSS : 0.3465119004249573\n",
      "1 LOSS : 0.34580105543136597\n",
      "2 LOSS : 0.33788007497787476\n",
      "3 LOSS : 0.30514639616012573\n",
      "4 LOSS : 0.22989816963672638\n",
      "5 LOSS : 0.1829947680234909\n",
      "6 LOSS : 0.18012027442455292\n",
      "7 LOSS : 0.17820629477500916\n",
      "8 LOSS : 0.17522892355918884\n",
      "9 LOSS : 0.1685187816619873\n"
     ]
    },
    {
     "data": {
      "text/plain": [
       "tensor(0.3370, grad_fn=<BinaryCrossEntropyBackward0>)"
      ]
     },
     "execution_count": 114,
     "metadata": {},
     "output_type": "execute_result"
    }
   ],
   "source": [
    "training()"
   ]
  },
  {
   "cell_type": "code",
   "execution_count": 115,
   "metadata": {},
   "outputs": [],
   "source": [
    "# 검증 함수 ---------------------------------\n",
    "# 검증용 데이터셋 으로 모델 검증\n",
    "# 학습 지속 여부 결정 기준이 됨\n",
    "# -------------------------------------------------\n",
    "\n",
    "def evaluate():\n",
    "\t# 에포크 단위로 검증 ==> 검증모드\n",
    "\tiris_model.eval()\n",
    "\n",
    "\t# W, b 가 엡데이트 해제\n",
    "\twith torch.no_grad():\n",
    "\t\t# 검증용 데이터셋 => 텐서화\n",
    "\t\t# ndarray ==> tensor 변환\n",
    "\t\tX = torch.FloatTensor(X_test.values)\n",
    "\t\ty = torch.FloatTensor(y_test.values)\n",
    "\n",
    "\t\t# 검증진행\n",
    "\t\tpre_y = iris_model(X)\n",
    "\n",
    "\t\t# 손실계산\n",
    "\t\tloss = LOSS_FN(pre_y, y.reshape(-1,1))\n",
    "\treturn loss.item()"
   ]
  },
  {
   "cell_type": "code",
   "execution_count": 116,
   "metadata": {},
   "outputs": [
    {
     "data": {
      "text/plain": [
       "0.7169730067253113"
      ]
     },
     "execution_count": 116,
     "metadata": {},
     "output_type": "execute_result"
    }
   ],
   "source": [
    "evaluate()"
   ]
  },
  {
   "cell_type": "code",
   "execution_count": 117,
   "metadata": {},
   "outputs": [],
   "source": [
    "# \n",
    "def training():\n",
    "\t# 학습 모드 설정\n",
    "\tiris_model.train()\n",
    "\n",
    "\t# 에포크 : DS 처음부터 ~ 끝까지 학습\n",
    "\t\n",
    "\n",
    "\tE_LOSS = 0\n",
    "\n",
    "\tfor i in range(ITERATION):\n",
    "\t\tstart = i*BATCH_SIZE\n",
    "\t\tend = start + BATCH_SIZE\n",
    "\t\t# ndarray => tensor 변환\n",
    "\n",
    "\t\tX = torch.FloatTensor(X_train.values[start:end])\n",
    "\t\ty = torch.FloatTensor(y_train.values[start:end])\n",
    "\n",
    "\t\t# 가중치 기울기 0 초기화\n",
    "\t\tOPTIMIZER.zero_grad()\n",
    "\n",
    "\n",
    "\t\t# 학습진행\n",
    "\n",
    "\t\tpre_y = MODEL(X)\n",
    "\n",
    "\t\t# 손실계산\n",
    "\n",
    "\t\tloss = LOSS_FN(pre_y, y.reshape(-1,1))\n",
    "\n",
    "\t\t# 역전파 진행\n",
    "\n",
    "\t\tloss.backward()\n",
    "\n",
    "\t\t# 가중치/절편 업데이트\n",
    "\t\tOPTIMIZER.step()\n",
    "\n",
    "\t\tE_LOSS += loss.item()\n",
    "\n",
    "\n",
    " \n",
    "\n",
    "\treturn loss.item()"
   ]
  },
  {
   "cell_type": "code",
   "execution_count": 118,
   "metadata": {},
   "outputs": [
    {
     "name": "stdout",
     "output_type": "stream",
     "text": [
      "\n",
      " EPOCH[ 0/10]\n",
      "TRAIN_LOSS0.31993\n",
      "VALID_LOSS0.71697\n",
      "\n",
      " EPOCH[ 1/10]\n",
      "TRAIN_LOSS0.32705\n",
      "VALID_LOSS0.71697\n",
      "\n",
      " EPOCH[ 2/10]\n",
      "TRAIN_LOSS0.31689\n",
      "VALID_LOSS0.71697\n",
      "\n",
      " EPOCH[ 3/10]\n",
      "TRAIN_LOSS0.31748\n",
      "VALID_LOSS0.71697\n",
      "\n",
      " EPOCH[ 4/10]\n",
      "TRAIN_LOSS0.31703\n",
      "VALID_LOSS0.71697\n",
      "\n",
      " EPOCH[ 5/10]\n",
      "TRAIN_LOSS0.31554\n",
      "VALID_LOSS0.71697\n",
      "\n",
      " EPOCH[ 6/10]\n",
      "TRAIN_LOSS0.31305\n",
      "VALID_LOSS0.71697\n",
      "\n",
      " EPOCH[ 7/10]\n",
      "TRAIN_LOSS0.31210\n",
      "VALID_LOSS0.71697\n",
      "\n",
      " EPOCH[ 8/10]\n",
      "TRAIN_LOSS0.31058\n",
      "VALID_LOSS0.71697\n",
      "\n",
      " EPOCH[ 9/10]\n",
      "TRAIN_LOSS0.31007\n",
      "VALID_LOSS0.71697\n"
     ]
    }
   ],
   "source": [
    "# 에포크 : DS 처음부터 ~ 끝까지 학습\n",
    "LOSS_HIST = {'Train':[], 'Valid':[]}\n",
    "\n",
    "# 에포크 단위 학습/검증 진행\n",
    "\n",
    "for epoch in range(EPOCHS):\n",
    "\ttrainloss = training()\n",
    "\tvalidloss = evaluate()\n",
    "\n",
    "\n",
    "\tLOSS_HIST['Train'].append(trainloss)\n",
    "\tLOSS_HIST['Valid'].append(validloss)\n",
    "\n",
    "\tprint(f'\\n EPOCH[ {epoch}/{EPOCHS}]')\n",
    "\tprint(f'TRAIN_LOSS{trainloss:.5f}')\n",
    "\tprint(f'VALID_LOSS{validloss:.5f}')"
   ]
  },
  {
   "cell_type": "code",
   "execution_count": 119,
   "metadata": {},
   "outputs": [
    {
     "data": {
      "image/png": "[encoded data removed]",
      "text/plain": [
       "<Figure size 640x480 with 1 Axes>"
      ]
     },
     "metadata": {},
     "output_type": "display_data"
    }
   ],
   "source": [
    "import matplotlib.pyplot as plt\n",
    "\n",
    "plt.plot(LOSS_HIST['Train'],'bo--', label='Train Loss')\n",
    "plt.plot(LOSS_HIST['Valid'],'ro--', label='Valid Loss')\n",
    "plt.grid()\n",
    "plt.legend()\n",
    "plt.show()"
   ]
  },
  {
   "cell_type": "code",
   "execution_count": null,
   "metadata": {},
   "outputs": [],
   "source": []
  }
 ],
 "metadata": {
  "kernelspec": {
   "display_name": "DL_TORCH",
   "language": "python",
   "name": "python3"
  },
  "language_info": {
   "codemirror_mode": {
    "name": "ipython",
    "version": 3
   },
   "file_extension": ".py",
   "mimetype": "text/x-python",
   "name": "python",
   "nbconvert_exporter": "python",
   "pygments_lexer": "ipython3",
   "version": "3.9.21"
  }
 },
 "nbformat": 4,
 "nbformat_minor": 2
}
