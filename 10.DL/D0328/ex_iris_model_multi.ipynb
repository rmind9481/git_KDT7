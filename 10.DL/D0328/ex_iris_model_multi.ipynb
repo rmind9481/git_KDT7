{
 "cells": [
  {
   "cell_type": "markdown",
   "metadata": {},
   "source": [
    "# [Pytorch DL MODEL 실습]"
   ]
  },
  {
   "cell_type": "markdown",
   "metadata": {},
   "source": [
    "- 데이터셋 : iris.csv\n",
    "- 학습방법 : 지도학습 + 분류 => 다중분류\n"
   ]
  },
  {
   "cell_type": "markdown",
   "metadata": {},
   "source": [
    "[1] 모듈 로딩  및 데이터  준비 <hr>"
   ]
  },
  {
   "cell_type": "code",
   "execution_count": 1,
   "metadata": {},
   "outputs": [],
   "source": [
    "# 모듈로딩\n",
    "import pandas as pd\t\t\t\t\t\t\t\t\t\t\t\t# 데이터 관련 모듈\n",
    "import numpy as np\t\t\t\n",
    "import torch\t\t\t\t\t\n",
    "import torch.nn as nn\t\t\t\t\t\t\t\t\t\t\t# 인공신경망 관련 모듈\n",
    "import torch.nn.functional as F\t\t\t\t\t\t\t\t\t# 인공신경망 관련 함수\n",
    "import torch.optim as optim\t\t\t\t\t\t\t\t\t\t# 최적화 모듈\n",
    "from sklearn.model_selection import train_test_split\t\t\t# 학습용 데이터"
   ]
  },
  {
   "cell_type": "code",
   "execution_count": 2,
   "metadata": {},
   "outputs": [],
   "source": [
    "DATA_FAIL = '../Data/iris.csv'"
   ]
  },
  {
   "cell_type": "markdown",
   "metadata": {},
   "source": [
    "[2] 데이터 로딩 및 확인 <hr>"
   ]
  },
  {
   "cell_type": "code",
   "execution_count": 3,
   "metadata": {},
   "outputs": [
    {
     "data": {
      "text/html": [
       "<div>\n",
       "<style scoped>\n",
       "    .dataframe tbody tr th:only-of-type {\n",
       "        vertical-align: middle;\n",
       "    }\n",
       "\n",
       "    .dataframe tbody tr th {\n",
       "        vertical-align: top;\n",
       "    }\n",
       "\n",
       "    .dataframe thead th {\n",
       "        text-align: right;\n",
       "    }\n",
       "</style>\n",
       "<table border=\"1\" class=\"dataframe\">\n",
       "  <thead>\n",
       "    <tr style=\"text-align: right;\">\n",
       "      <th></th>\n",
       "      <th>sepal.length</th>\n",
       "      <th>sepal.width</th>\n",
       "      <th>petal.length</th>\n",
       "      <th>petal.width</th>\n",
       "      <th>variety</th>\n",
       "    </tr>\n",
       "  </thead>\n",
       "  <tbody>\n",
       "    <tr>\n",
       "      <th>0</th>\n",
       "      <td>5.1</td>\n",
       "      <td>3.5</td>\n",
       "      <td>1.4</td>\n",
       "      <td>0.2</td>\n",
       "      <td>Setosa</td>\n",
       "    </tr>\n",
       "    <tr>\n",
       "      <th>1</th>\n",
       "      <td>4.9</td>\n",
       "      <td>3.0</td>\n",
       "      <td>1.4</td>\n",
       "      <td>0.2</td>\n",
       "      <td>Setosa</td>\n",
       "    </tr>\n",
       "    <tr>\n",
       "      <th>2</th>\n",
       "      <td>4.7</td>\n",
       "      <td>3.2</td>\n",
       "      <td>1.3</td>\n",
       "      <td>0.2</td>\n",
       "      <td>Setosa</td>\n",
       "    </tr>\n",
       "    <tr>\n",
       "      <th>3</th>\n",
       "      <td>4.6</td>\n",
       "      <td>3.1</td>\n",
       "      <td>1.5</td>\n",
       "      <td>0.2</td>\n",
       "      <td>Setosa</td>\n",
       "    </tr>\n",
       "    <tr>\n",
       "      <th>4</th>\n",
       "      <td>5.0</td>\n",
       "      <td>3.6</td>\n",
       "      <td>1.4</td>\n",
       "      <td>0.2</td>\n",
       "      <td>Setosa</td>\n",
       "    </tr>\n",
       "    <tr>\n",
       "      <th>...</th>\n",
       "      <td>...</td>\n",
       "      <td>...</td>\n",
       "      <td>...</td>\n",
       "      <td>...</td>\n",
       "      <td>...</td>\n",
       "    </tr>\n",
       "    <tr>\n",
       "      <th>145</th>\n",
       "      <td>6.7</td>\n",
       "      <td>3.0</td>\n",
       "      <td>5.2</td>\n",
       "      <td>2.3</td>\n",
       "      <td>Virginica</td>\n",
       "    </tr>\n",
       "    <tr>\n",
       "      <th>146</th>\n",
       "      <td>6.3</td>\n",
       "      <td>2.5</td>\n",
       "      <td>5.0</td>\n",
       "      <td>1.9</td>\n",
       "      <td>Virginica</td>\n",
       "    </tr>\n",
       "    <tr>\n",
       "      <th>147</th>\n",
       "      <td>6.5</td>\n",
       "      <td>3.0</td>\n",
       "      <td>5.2</td>\n",
       "      <td>2.0</td>\n",
       "      <td>Virginica</td>\n",
       "    </tr>\n",
       "    <tr>\n",
       "      <th>148</th>\n",
       "      <td>6.2</td>\n",
       "      <td>3.4</td>\n",
       "      <td>5.4</td>\n",
       "      <td>2.3</td>\n",
       "      <td>Virginica</td>\n",
       "    </tr>\n",
       "    <tr>\n",
       "      <th>149</th>\n",
       "      <td>5.9</td>\n",
       "      <td>3.0</td>\n",
       "      <td>5.1</td>\n",
       "      <td>1.8</td>\n",
       "      <td>Virginica</td>\n",
       "    </tr>\n",
       "  </tbody>\n",
       "</table>\n",
       "<p>150 rows × 5 columns</p>\n",
       "</div>"
      ],
      "text/plain": [
       "     sepal.length  sepal.width  petal.length  petal.width    variety\n",
       "0             5.1          3.5           1.4          0.2     Setosa\n",
       "1             4.9          3.0           1.4          0.2     Setosa\n",
       "2             4.7          3.2           1.3          0.2     Setosa\n",
       "3             4.6          3.1           1.5          0.2     Setosa\n",
       "4             5.0          3.6           1.4          0.2     Setosa\n",
       "..            ...          ...           ...          ...        ...\n",
       "145           6.7          3.0           5.2          2.3  Virginica\n",
       "146           6.3          2.5           5.0          1.9  Virginica\n",
       "147           6.5          3.0           5.2          2.0  Virginica\n",
       "148           6.2          3.4           5.4          2.3  Virginica\n",
       "149           5.9          3.0           5.1          1.8  Virginica\n",
       "\n",
       "[150 rows x 5 columns]"
      ]
     },
     "execution_count": 3,
     "metadata": {},
     "output_type": "execute_result"
    }
   ],
   "source": [
    "## 데이터 로딩\n",
    "irisDF = pd.read_csv(DATA_FAIL, engine='python')\n",
    "\n",
    "irisDF\n"
   ]
  },
  {
   "cell_type": "code",
   "execution_count": 4,
   "metadata": {},
   "outputs": [
    {
     "data": {
      "text/plain": [
       "array(['Setosa', 'Versicolor', 'Virginica'], dtype=object)"
      ]
     },
     "execution_count": 4,
     "metadata": {},
     "output_type": "execute_result"
    }
   ],
   "source": [
    "# 데이터 확인\n",
    "irisDF.variety.unique()"
   ]
  },
  {
   "cell_type": "code",
   "execution_count": 5,
   "metadata": {},
   "outputs": [
    {
     "name": "stderr",
     "output_type": "stream",
     "text": [
      "C:\\Users\\KDT17\\AppData\\Local\\Temp\\ipykernel_24156\\3821954281.py:1: FutureWarning: Downcasting behavior in `replace` is deprecated and will be removed in a future version. To retain the old behavior, explicitly call `result.infer_objects(copy=False)`. To opt-in to the future behavior, set `pd.set_option('future.no_silent_downcasting', True)`\n",
      "  irisDF.variety =irisDF.variety.replace({'Setosa':0, 'Versicolor':1, 'Virginica':2})\n"
     ]
    }
   ],
   "source": [
    "irisDF.variety =irisDF.variety.replace({'Setosa':0, 'Versicolor':1, 'Virginica':2})"
   ]
  },
  {
   "cell_type": "code",
   "execution_count": 6,
   "metadata": {},
   "outputs": [
    {
     "data": {
      "text/plain": [
       "sepal.length    float64\n",
       "sepal.width     float64\n",
       "petal.length    float64\n",
       "petal.width     float64\n",
       "variety           int64\n",
       "dtype: object"
      ]
     },
     "execution_count": 6,
     "metadata": {},
     "output_type": "execute_result"
    }
   ],
   "source": [
    "irisDF.dtypes"
   ]
  },
  {
   "cell_type": "markdown",
   "metadata": {},
   "source": [
    "# [3] 데이터셋 준비"
   ]
  },
  {
   "cell_type": "code",
   "execution_count": 7,
   "metadata": {},
   "outputs": [
    {
     "name": "stdout",
     "output_type": "stream",
     "text": [
      "[feature] : (150, 4) , 2D\n",
      "[target] : (150,) , 1D\n"
     ]
    }
   ],
   "source": [
    "featureDf = irisDF[irisDF.columns[:-1]]\n",
    "targetDf = irisDF[irisDF.columns[-1]]\n",
    "\n",
    "print(f'[feature] : {featureDf.shape} , {featureDf.ndim}D')\n",
    "print(f'[target] : {targetDf.shape} , {targetDf.ndim}D')"
   ]
  },
  {
   "cell_type": "code",
   "execution_count": 8,
   "metadata": {},
   "outputs": [
    {
     "name": "stdout",
     "output_type": "stream",
     "text": [
      " X_train (120, 4) , x_train 2D\n",
      " y_train (120,) , y_train 1D\n",
      " y_test (30,) , y_test 1D\n",
      " x test (30, 4) , xest2D\n"
     ]
    }
   ],
   "source": [
    "\n",
    "X_train, X_test, y_train, y_test = train_test_split(featureDf,targetDf,\n",
    "\t\t\t\t\t\t\t\t\t\t\t\t\ttest_size=0.2,\n",
    "\t\t\t\t\t\t\t\t\t\t\t\t\tstratify=targetDf,\n",
    "\t\t\t\t\t\t\t\t\t\t\t\t\trandom_state=42)\n",
    "\n",
    "print(f' X_train {X_train.shape} , x_train {X_train.ndim}D')\n",
    "print(f' y_train {y_train.shape} , y_train {y_train.ndim}D')\n",
    "print(f' y_test {y_test.shape} , y_test {y_test.ndim}D')\n",
    "print(f' x test {X_test.shape} , xest{X_test.ndim}D')\n"
   ]
  },
  {
   "cell_type": "markdown",
   "metadata": {},
   "source": [
    "# [4] 모델 설계 및 클래스 구현"
   ]
  },
  {
   "cell_type": "code",
   "execution_count": 9,
   "metadata": {},
   "outputs": [],
   "source": [
    "# # ----------------------------------------------------------------------------------\n",
    "# # 클래스  이름 :Iris_Model\n",
    "# # 부모 클래스 : nn.model()\n",
    "# # 모델층 구성\t\t\t입력신호수\t\t\t출력신호수\t활성화 함수\n",
    "# # - 입력층:\t\t피쳐 \t4\t\t\t\t3000개\t\tReLu\t\n",
    "# # - 은닉층 1층:  \t\t\t3000개\t\t\t20개\t\tReLu\t\n",
    "# # - 은닉층 2층:\t\t\t1500개\t\t\t10개\t\tReLu\n",
    "# # - 은닉층 3층:\t\t\t1000개\t\t\t10개\t\tReLu\n",
    "# # - 은닉층 4층: \t\t\t500개\t\t\t 5개\t\tReLu\n",
    "# # - 은닉층 5층: \t\t\t500개\t\t\t 5개\t\tReLu\n",
    "# # - 은닉층 6층: \t\t\t500개\t\t\t 5개\t\tReLu\n",
    "# # - 은닉층 7층: \t\t\t500개\t\t\t 5개\t\tReLu\n",
    "# # - 은닉층 8층: \t\t\t500개\t\t\t 5개\t\tReLu\n",
    "# # - 출력층:\t\t\t\t 5개\t\t\t 3개\t\tSoftmax => 손실함수 내 포함\n",
    "# # -----------------------------------------------------------------------------------\n",
    "\n",
    "\n",
    "\n",
    "\n",
    "class Iris_Model(nn.Module):\n",
    "\n",
    "\t# 인스턴스 초기화\n",
    "\tdef __init__(self):\n",
    "\t\tsuper().__init__()\n",
    "\t\tprint('__init__()')\n",
    "\t\tself.in_layer = nn.Linear(4,3000)\n",
    "\t\tself.hd_layer1 = nn.Linear(3000,2000)\n",
    "\t\tself.hd_layer2 = nn.Linear(2000,1500)\n",
    "\t\tself.hd_layer3 = nn.Linear(1500,1000)\n",
    "\t\tself.hd_layer4 = nn.Linear(1000,500)\n",
    "\t\tself.hd_layer5 = nn.Linear(500,150)\n",
    "\t\tself.hd_layer6 = nn.Linear(150,100)\n",
    "\t\tself.hd_layer7 = nn.Linear(100,50)\n",
    "\t\tself.hd_layer8 = nn.Linear(50,25)\n",
    "\t\tself.hd_layer9 = nn.Linear(25,10)\n",
    "\t\tself.hd_layer10 = nn.Linear(10,5)\n",
    "\t\tself.out_layer = nn.Linear(5,3)\n",
    "\n",
    "\t# 학습 즉, 순방향 진행 메서드 forward:필수 오버라이딩 메서드\n",
    "\t# 매개변수 data : 학습용 데이터 전달\n",
    "\tdef forward(self,data):\n",
    "\t\t\n",
    "\t\t#입력 -> 입력층\n",
    "\t\tout = self.in_layer(data)\t\t\t#출력 \n",
    "\t\tout = F.relu(out)\n",
    "\t\t\n",
    "\n",
    "\t\t#은닉층1\n",
    "\t\tout = self.hd_layer1(out)\t\t\t#1. \n",
    "\t\tout = F.relu(out)\n",
    "\t\tout = self.hd_layer2(out)\t\t\t#1. \n",
    "\t\tout = F.relu(out)\n",
    "\t\tout = self.hd_layer3(out)\t\t\t#1. \n",
    "\t\tout = F.relu(out)\n",
    "\t\tout = self.hd_layer4(out)\t\t\t#1. \n",
    "\t\tout = F.relu(out)\n",
    "\t\tout = self.hd_layer5(out)\t\t\t#1. \n",
    "\t\tout = F.relu(out)\n",
    "\t\tout = self.hd_layer6(out)\t\t\t#1. \n",
    "\t\tout = F.relu(out)\n",
    "\t\tout = self.hd_layer7(out)\t\t\t#1. \n",
    "\t\tout = F.relu(out)\n",
    "\t\tout = self.hd_layer8(out)\t\t\t#1. \n",
    "\t\tout = F.relu(out)\n",
    "\t\tout = self.hd_layer9(out)\t\t\t#1. \n",
    "\t\tout = F.relu(out)\n",
    "\t\tout = self.hd_layer10(out)\t\t\t#1. \n",
    "\t\tout = F.relu(out)\n",
    "\n",
    "\t\t# 출력층\n",
    "\t\tout = self.out_layer(out)\t\t\t#1. \n",
    "\t\t\n",
    "\t\treturn out\n",
    "\n",
    "\t\t"
   ]
  },
  {
   "cell_type": "code",
   "execution_count": 10,
   "metadata": {},
   "outputs": [
    {
     "name": "stdout",
     "output_type": "stream",
     "text": [
      "__init__()\n",
      "Iris_Model(\n",
      "  (in_layer): Linear(in_features=4, out_features=3000, bias=True)\n",
      "  (hd_layer1): Linear(in_features=3000, out_features=2000, bias=True)\n",
      "  (hd_layer2): Linear(in_features=2000, out_features=1500, bias=True)\n",
      "  (hd_layer3): Linear(in_features=1500, out_features=1000, bias=True)\n",
      "  (hd_layer4): Linear(in_features=1000, out_features=500, bias=True)\n",
      "  (hd_layer5): Linear(in_features=500, out_features=150, bias=True)\n",
      "  (hd_layer6): Linear(in_features=150, out_features=100, bias=True)\n",
      "  (hd_layer7): Linear(in_features=100, out_features=50, bias=True)\n",
      "  (hd_layer8): Linear(in_features=50, out_features=25, bias=True)\n",
      "  (hd_layer9): Linear(in_features=25, out_features=10, bias=True)\n",
      "  (hd_layer10): Linear(in_features=10, out_features=5, bias=True)\n",
      "  (out_layer): Linear(in_features=5, out_features=3, bias=True)\n",
      ")\n"
     ]
    }
   ],
   "source": [
    "# 모델 구조 확인\n",
    "iris_model = Iris_Model()\n",
    "print(iris_model)\n",
    "\n",
    "# shape 체크\n",
    "data = torch.FloatTensor([[1.,3.2,1.9,2.5]])\n"
   ]
  },
  {
   "cell_type": "markdown",
   "metadata": {},
   "source": [
    "# 학습 준비 <hr>"
   ]
  },
  {
   "cell_type": "code",
   "execution_count": 11,
   "metadata": {},
   "outputs": [
    {
     "name": "stdout",
     "output_type": "stream",
     "text": [
      "Device : cpu, EPOCHS : 10, Batch_size : 40, 3\n"
     ]
    }
   ],
   "source": [
    "# [5-1] 학습 관련 설정들\n",
    "EPOCHS = 10\t\t\t\t\t\t\t\t\t\t\t# 학습용 데이터셋 DS를 처음 부터 끝까지 1번학습 하는것을 에포크 \n",
    "BATCH_SIZE = 40\t\t\t\t\t\t\t\t\t\t\t# DS을 학습량 만큼 나눈 사이즈\n",
    "ITERATION = int(X_train.shape[0]/BATCH_SIZE)\t\t\t# 학습용 DS이 분리된 수 => 1 포크에  W, B 업데이트 횟수 \n",
    "\n",
    "\n",
    "# 학습, 데이터셋 로딩 등  GPU에서 실행여부 설정\n",
    "DEVICE = 'cuda' if torch.cuda.is_available() else 'cpu' \n",
    "\n",
    "print(f'Device : {DEVICE}, EPOCHS : {EPOCHS}, Batch_size : {BATCH_SIZE}, {ITERATION}')"
   ]
  },
  {
   "cell_type": "code",
   "execution_count": 12,
   "metadata": {},
   "outputs": [
    {
     "name": "stdout",
     "output_type": "stream",
     "text": [
      "__init__()\n"
     ]
    }
   ],
   "source": [
    "# 학습 관련 인스턴스들\n",
    "LR = 0.01 \n",
    "MODEL = Iris_Model()\t\t\t\t\t\t\t\t# 학습 모델\n",
    "OPTIMIZER = optim.Adam(MODEL.parameters(), lr=LR) \t\t\t# 최적화 즉, 경사하강법, 알고리즘으로 \n",
    "LOSS_FN = nn.CrossEntropyLoss()\t\t\t\t\t\t\t\t# 손실계산 알고리즘"
   ]
  },
  {
   "cell_type": "code",
   "execution_count": 13,
   "metadata": {},
   "outputs": [],
   "source": [
    "# # 학습함수 =====================================================\n",
    "\n",
    "# def training():\n",
    "# \t# 학습 모드 설정\n",
    "# \tiris_model.train()\n",
    "\n",
    "# \t# 에포크 : DS 처음부터 ~ 끝까지 학습\n",
    "# \tfor epoch in range(EPOCHS):\n",
    "\n",
    "# \t\tE_LOSS = 0\n",
    "\n",
    "# \t\tfor i in range(ITERATION):\n",
    "# \t\t\tstart = i*BATCH_SIZE\n",
    "# \t\t\tend = start + BATCH_SIZE\n",
    "# \t\t\t# ndarray => tensor 변환\n",
    "\n",
    "# \t\t\tX = torch.FloatTensor(X_train.values[start:end])\n",
    "# \t\t\ty = torch.FloatTensor(y_train.values[start:end])\n",
    "\n",
    "# \t\t\t# 가중치 기울기 0 초기화\n",
    "# \t\t\tOPTIMIZER.zero_grad()\n",
    "\n",
    "\n",
    "# \t\t\t# 학습진행\n",
    "\n",
    "# \t\t\tpre_y = MODEL(X)\n",
    "\n",
    "# \t\t\t# 손실계산\n",
    "\n",
    "# \t\t\tloss = LOSS_FN(pre_y, y.reshape(-1,1))\n",
    "\n",
    "# \t\t\t# 역전파 진행\n",
    "\n",
    "# \t\t\tloss.backward()\n",
    "\n",
    "# \t\t\t# 가중치/절편 업데이트\n",
    "# \t\t\tOPTIMIZER.step()\n",
    "\n",
    "# \t\t\tE_LOSS += loss.item()\n",
    "\n",
    "\n",
    "# \t\tprint(f'{epoch} LOSS : {loss/ITERATION}')\n",
    "\n",
    "# \treturn loss"
   ]
  },
  {
   "cell_type": "code",
   "execution_count": 14,
   "metadata": {},
   "outputs": [],
   "source": [
    "# 검증 함수 ---------------------------------\n",
    "# 검증용 데이터셋 으로 모델 검증\n",
    "# 학습 지속 여부 결정 기준이 됨\n",
    "# -------------------------------------------------\n",
    "\n",
    "def evaluate():\n",
    "\t# 에포크 단위로 검증 ==> 검증모드\n",
    "\tiris_model.eval()\n",
    "\n",
    "\t# W, b 가 엡데이트 해제\n",
    "\twith torch.no_grad():\n",
    "\t\t# 검증용 데이터셋 => 텐서화\n",
    "\t\t# ndarray ==> tensor 변환\n",
    "\t\tX = torch.FloatTensor(X_test.values)\n",
    "\t\ty = torch.FloatTensor(y_test.values)\n",
    "\n",
    "\t\t# 검증진행\n",
    "\t\tpre_y = iris_model(X)\n",
    "\n",
    "\t\t# 손실계산\n",
    "\t\tloss = LOSS_FN(pre_y, y.reshape(-1).long())\n",
    "\treturn loss.item()"
   ]
  },
  {
   "cell_type": "code",
   "execution_count": 15,
   "metadata": {},
   "outputs": [
    {
     "data": {
      "text/plain": [
       "1.1426037549972534"
      ]
     },
     "execution_count": 15,
     "metadata": {},
     "output_type": "execute_result"
    }
   ],
   "source": [
    "evaluate()"
   ]
  },
  {
   "cell_type": "code",
   "execution_count": 16,
   "metadata": {},
   "outputs": [],
   "source": [
    "# \n",
    "def training():\n",
    "\t# 학습 모드 설정\n",
    "\tiris_model.train()\n",
    "\n",
    "\t# 에포크 : DS 처음부터 ~ 끝까지 학습\n",
    "\t\n",
    "\n",
    "\tE_LOSS = 0\n",
    "\n",
    "\tfor i in range(ITERATION):\n",
    "\t\tstart = i*BATCH_SIZE\n",
    "\t\tend = start + BATCH_SIZE\n",
    "\t\t# ndarray => tensor 변환\n",
    "\n",
    "\t\tX = torch.FloatTensor(X_train.values[start:end])\n",
    "\t\ty = torch.FloatTensor(y_train.values[start:end])\n",
    "\n",
    "\t\t# 가중치 기울기 0 초기화\n",
    "\t\tOPTIMIZER.zero_grad()\n",
    "\n",
    "\n",
    "\t\t# 학습진행\n",
    "\n",
    "\t\tpre_y = MODEL(X)\n",
    "\n",
    "\t\t# 손실계산\n",
    "\n",
    "\t\tloss = LOSS_FN(pre_y, y.reshape(-1).long())\n",
    "\n",
    "\t\t# 역전파 진행\n",
    "\n",
    "\t\tloss.backward()\n",
    "\n",
    "\t\t# 가중치/절편 업데이트\n",
    "\t\tOPTIMIZER.step()\n",
    "\n",
    "\t\tE_LOSS += loss.item()\n",
    "\n",
    "\n",
    " \n",
    "\n",
    "\treturn loss.item()"
   ]
  },
  {
   "cell_type": "code",
   "execution_count": 17,
   "metadata": {},
   "outputs": [
    {
     "name": "stdout",
     "output_type": "stream",
     "text": [
      "\n",
      " EPOCH[ 0/10]\n",
      "TRAIN_LOSS1.30054\n",
      "VALID_LOSS1.14260\n",
      "\n",
      " EPOCH[ 1/10]\n",
      "TRAIN_LOSS1.12404\n",
      "VALID_LOSS1.14260\n",
      "\n",
      " EPOCH[ 2/10]\n",
      "TRAIN_LOSS1.09211\n",
      "VALID_LOSS1.14260\n",
      "\n",
      " EPOCH[ 3/10]\n",
      "TRAIN_LOSS1.12068\n",
      "VALID_LOSS1.14260\n",
      "\n",
      " EPOCH[ 4/10]\n",
      "TRAIN_LOSS1.11605\n",
      "VALID_LOSS1.14260\n",
      "\n",
      " EPOCH[ 5/10]\n",
      "TRAIN_LOSS1.07311\n",
      "VALID_LOSS1.14260\n",
      "\n",
      " EPOCH[ 6/10]\n",
      "TRAIN_LOSS1.06784\n",
      "VALID_LOSS1.14260\n",
      "\n",
      " EPOCH[ 7/10]\n",
      "TRAIN_LOSS1.11973\n",
      "VALID_LOSS1.14260\n",
      "\n",
      " EPOCH[ 8/10]\n",
      "TRAIN_LOSS0.99056\n",
      "VALID_LOSS1.14260\n",
      "\n",
      " EPOCH[ 9/10]\n",
      "TRAIN_LOSS0.93736\n",
      "VALID_LOSS1.14260\n"
     ]
    }
   ],
   "source": [
    "# 에포크 : DS 처음부터 ~ 끝까지 학습\n",
    "LOSS_HIST = {'Train':[], 'Valid':[]}\n",
    "\n",
    "# 에포크 단위 학습/검증 진행\n",
    "\n",
    "for epoch in range(EPOCHS):\n",
    "\ttrainloss = training()\n",
    "\tvalidloss = evaluate()\n",
    "\n",
    "\n",
    "\tLOSS_HIST['Train'].append(trainloss)\n",
    "\tLOSS_HIST['Valid'].append(validloss)\n",
    "\n",
    "\tprint(f'\\n EPOCH[ {epoch}/{EPOCHS}]')\n",
    "\tprint(f'TRAIN_LOSS{trainloss:.5f}')\n",
    "\tprint(f'VALID_LOSS{validloss:.5f}')"
   ]
  },
  {
   "cell_type": "code",
   "execution_count": 18,
   "metadata": {},
   "outputs": [
    {
     "data": {
      "text/plain": [
       "[1.3005449771881104,\n",
       " 1.1240379810333252,\n",
       " 1.0921106338500977,\n",
       " 1.120680570602417,\n",
       " 1.1160510778427124,\n",
       " 1.0731055736541748,\n",
       " 1.0678375959396362,\n",
       " 1.119732141494751,\n",
       " 0.990559458732605,\n",
       " 0.9373598098754883]"
      ]
     },
     "execution_count": 18,
     "metadata": {},
     "output_type": "execute_result"
    }
   ],
   "source": [
    "LOSS_HIST['Train']"
   ]
  },
  {
   "cell_type": "code",
   "execution_count": 19,
   "metadata": {},
   "outputs": [
    {
     "data": {
      "image/png": "[encoded data removed]",
      "text/plain": [
       "<Figure size 640x480 with 1 Axes>"
      ]
     },
     "metadata": {},
     "output_type": "display_data"
    }
   ],
   "source": [
    "import matplotlib.pyplot as plt\n",
    "\n",
    "plt.plot(LOSS_HIST['Train'],'bo--', label='Train Loss')\n",
    "plt.plot(LOSS_HIST['Valid'],'ro--', label='Valid Loss')\n",
    "plt.grid()\n",
    "plt.legend()\n",
    "plt.show()"
   ]
  },
  {
   "cell_type": "code",
   "execution_count": null,
   "metadata": {},
   "outputs": [],
   "source": []
  }
 ],
 "metadata": {
  "kernelspec": {
   "display_name": "DL_TORCH",
   "language": "python",
   "name": "python3"
  },
  "language_info": {
   "codemirror_mode": {
    "name": "ipython",
    "version": 3
   },
   "file_extension": ".py",
   "mimetype": "text/x-python",
   "name": "python",
   "nbconvert_exporter": "python",
   "pygments_lexer": "ipython3",
   "version": "3.9.21"
  }
 },
 "nbformat": 4,
 "nbformat_minor": 2
}
