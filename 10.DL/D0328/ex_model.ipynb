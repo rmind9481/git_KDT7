{
 "cells": [
  {
   "cell_type": "markdown",
   "metadata": {},
   "source": [
    "# [ DL CUSTOM MODEL]"
   ]
  },
  {
   "cell_type": "markdown",
   "metadata": {},
   "source": [
    "### 모듈로딩 <hr>"
   ]
  },
  {
   "cell_type": "code",
   "execution_count": 7,
   "metadata": {},
   "outputs": [],
   "source": [
    "import torch\t\t\t# 텐서 기본 함수 내장함수\n",
    "import torch.nn as nn\t# 텐서 인공신경명 관련 층, 함수 클래스 모음\n",
    "import torch.nn.functional as F # 인공신경망 관련 층, AF, LF 함수 모듈\n",
    "\n",
    "import pandas as pd\n",
    "import numpy as np"
   ]
  },
  {
   "cell_type": "markdown",
   "metadata": {},
   "source": [
    "[1] 환경상황 예측 모델 - 피쳐 : 3개 - 타겟: 연속형"
   ]
  },
  {
   "cell_type": "markdown",
   "metadata": {},
   "source": [
    "# 모델 클래스 설계"
   ]
  },
  {
   "cell_type": "code",
   "execution_count": 3,
   "metadata": {},
   "outputs": [],
   "source": [
    "# ----------------------------------------------------------------------------------\n",
    "# 클래스  이름 : Test_model\n",
    "# 부모 클래스 : 없음\n",
    "# 모델층 구성\t\t입력신호수\t\t출력신호수\t\t활성화 함수\n",
    "# - 입력층:\t\t피쳐 \t3개\t\t\t\t30개\t\tReLu\t\n",
    "# - 은닉층 1층:  \t\t30개\t\t\t20개\t\tReLu\t\n",
    "# - 은닉층 2층:\t\t\t30개\t\t\t10개\t\tReLu\n",
    "# - 은닉층 3층:\t\t\t20개\t\t\t10개\t\tReLu\n",
    "# - 은닉층 4층: \t\t10개\t\t\t 5개\t\tReLu\n",
    "# - 출력층:\t\t\t\t 5개\t\t\t 1개\t\t -\n",
    "# -----------------------------------------------------------------------------------\n",
    "\n",
    "\n",
    "\n",
    "\n",
    "class Test_Model(nn.Module):\n",
    "\n",
    "\t# 인스턴스 초기화\n",
    "\tdef __init__(self):\n",
    "\t\tsuper().__init__()\n",
    "\t\tprint('__init__()')\n",
    "\t\t# 입력층\n",
    "\t\tself.in_layer = nn.Linear(3,30)\n",
    "\t\t# 은닉층 \n",
    "\t\tself.hd_layer1 = nn.Linear(30,20)\n",
    "\t\tself.hd_layer2 = nn.Linear(20,10)\n",
    "\t\tself.hd_layer3 = nn.Linear(10,5)\n",
    "\t\t# 출력층\n",
    "\t\tself.out_layer  = nn.Linear(5,1)\n",
    "\n",
    "\n",
    "\n",
    "\t# 순전파 학습 메서드\n",
    "\n",
    "\tdef forward(self, data):\n",
    "\t\t# - 입렵층 \n",
    "\t\tout = self.in_layer(data)\n",
    "\t\tout = F.relu(out)\n",
    "\n",
    "\t\t# - 은닉층1\n",
    "\t\tout = self.hd_layer1(out)\n",
    "\t\t# - 은닉층2\n",
    "\t\tout = self.hd_layer2(out)\n",
    "\t\t# - 은닉층3\n",
    "\t\tout = self.hd_layer3(out)\t\n",
    "\n",
    "\t\t# 출력층 : 회귀로 결과\n",
    "\t\tout = self.out_layer(out) \n",
    "\n",
    "\t\treturn out\t"
   ]
  },
  {
   "cell_type": "markdown",
   "metadata": {},
   "source": [
    "# 모델 사용"
   ]
  },
  {
   "cell_type": "code",
   "execution_count": 4,
   "metadata": {},
   "outputs": [
    {
     "name": "stdout",
     "output_type": "stream",
     "text": [
      "__init__()\n"
     ]
    }
   ],
   "source": [
    "T_model = Test_Model()"
   ]
  },
  {
   "cell_type": "code",
   "execution_count": 5,
   "metadata": {},
   "outputs": [
    {
     "name": "stdout",
     "output_type": "stream",
     "text": [
      "Test_Model(\n",
      "  (in_layer): Linear(in_features=3, out_features=30, bias=True)\n",
      "  (hd_layer1): Linear(in_features=30, out_features=20, bias=True)\n",
      "  (hd_layer2): Linear(in_features=20, out_features=10, bias=True)\n",
      "  (hd_layer3): Linear(in_features=10, out_features=5, bias=True)\n",
      "  (out_layer): Linear(in_features=5, out_features=1, bias=True)\n",
      ")\n"
     ]
    }
   ],
   "source": [
    "print(T_model)"
   ]
  },
  {
   "cell_type": "markdown",
   "metadata": {},
   "source": [
    "# 테스트"
   ]
  },
  {
   "cell_type": "code",
   "execution_count": 29,
   "metadata": {},
   "outputs": [
    {
     "name": "stdout",
     "output_type": "stream",
     "text": [
      "tensor([[ 1.,  3.,  5.],\n",
      "        [ 7.,  9., 11.],\n",
      "        [13., 15., 17.]])\n",
      "tensor([21., 27., 33.])\n"
     ]
    }
   ],
   "source": [
    "data = torch.Tensor([[1,3,5,21],\n",
    "\t\t\t\t\t [7,9,11,27],\n",
    "\t\t\t\t\t [13,15,17,33]])\n",
    "\n",
    "# X와 y를 적절하게 분리\n",
    "X = data[:, :3].float()  # 첫 3개의 열을 학습 데이터로 사용 (입력 피처)\n",
    "y = data[:, -1].float()  # 마지막 열을 정답 데이터로 사용 (타겟 값)\n",
    "\n",
    "print(X)\n",
    "print(y)"
   ]
  },
  {
   "cell_type": "code",
   "execution_count": 24,
   "metadata": {},
   "outputs": [
    {
     "data": {
      "text/plain": [
       "(torch.Size([3, 3]), torch.Size([3]))"
      ]
     },
     "execution_count": 24,
     "metadata": {},
     "output_type": "execute_result"
    }
   ],
   "source": [
    "X.shape , y.shape"
   ]
  },
  {
   "cell_type": "code",
   "execution_count": null,
   "metadata": {},
   "outputs": [],
   "source": [
    "train_X, train_y , test_X, test_y = "
   ]
  },
  {
   "cell_type": "code",
   "execution_count": 25,
   "metadata": {},
   "outputs": [],
   "source": [
    "pre_X = T_model(X)\n"
   ]
  },
  {
   "cell_type": "code",
   "execution_count": 28,
   "metadata": {},
   "outputs": [
    {
     "name": "stdout",
     "output_type": "stream",
     "text": [
      "정답-예측값 [tensor([[21.2649, 27.2649, 33.2649],\n",
      "        [21.3052, 27.3052, 33.3052],\n",
      "        [21.3609, 27.3609, 33.3609]], grad_fn=<SubBackward0>)]\n"
     ]
    }
   ],
   "source": [
    "print(f'정답-예측값 {[y - pre_X]}')"
   ]
  },
  {
   "cell_type": "code",
   "execution_count": null,
   "metadata": {},
   "outputs": [],
   "source": []
  }
 ],
 "metadata": {
  "kernelspec": {
   "display_name": "DL_TORCH",
   "language": "python",
   "name": "python3"
  },
  "language_info": {
   "codemirror_mode": {
    "name": "ipython",
    "version": 3
   },
   "file_extension": ".py",
   "mimetype": "text/x-python",
   "name": "python",
   "nbconvert_exporter": "python",
   "pygments_lexer": "ipython3",
   "version": "3.9.21"
  }
 },
 "nbformat": 4,
 "nbformat_minor": 2
}
