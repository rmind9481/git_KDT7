{
 "cells": [
  {
   "cell_type": "markdown",
   "metadata": {},
   "source": [
    "# [ DL CUSTOM MODEL]"
   ]
  },
  {
   "cell_type": "markdown",
   "metadata": {},
   "source": [
    "### 모듈로딩 <hr>"
   ]
  },
  {
   "cell_type": "code",
   "execution_count": 2,
   "metadata": {},
   "outputs": [],
   "source": [
    "import torch\t\t\t# 텐서 기본 함수 내장함수\n",
    "import torch.nn as nn\t# 텐서 인공신경명 관련 층, 함수 클래스 모음\n",
    "import torch.nn.functional as F # 인공신경망 관련 층, AF, LF 함수 모듈\n",
    "\n",
    "import pandas as pd\n",
    "import numpy as np"
   ]
  },
  {
   "cell_type": "markdown",
   "metadata": {},
   "source": [
    "[1] 이미지 예측 모델 - 피쳐 : 30*30 - 타겟: 2개\n",
    "\n",
    "-\t피쳐 : 30 * 30 * 1\n",
    "-\t타겟 : 자동차 나무\n",
    "-\t학습 : 지도학습 + 타겟\n",
    "-\t알고리즘 : 인공신경망 계열 - DNN"
   ]
  },
  {
   "cell_type": "markdown",
   "metadata": {},
   "source": [
    "# 모델 클래스 설계"
   ]
  },
  {
   "cell_type": "code",
   "execution_count": 3,
   "metadata": {},
   "outputs": [],
   "source": [
    "# # ----------------------------------------------------------------------------------\n",
    "# # 클래스  이름 : Test_model\n",
    "# # 부모 클래스 : 없음\n",
    "# # 모델층 구성\t\t\t입력신호수\t\t출력신호수\t\t활성화 함수\n",
    "# # - 입력층:\t\t피쳐 \t900개\t\t\t3000개\t\tReLu\t\n",
    "# # - 은닉층 1층:  \t\t\t3000개\t\t\t20개\t\tReLu\t\n",
    "# # - 은닉층 2층:\t\t\t1500개\t\t\t10개\t\tReLu\n",
    "# # - 은닉층 3층:\t\t\t1000개\t\t\t10개\t\tReLu\n",
    "# # - 은닉층 4층: \t\t\t500개\t\t\t 5개\t\tReLu\n",
    "# # - 은닉층 5층: \t\t\t500개\t\t\t 5개\t\tReLu\n",
    "# # - 은닉층 6층: \t\t\t500개\t\t\t 5개\t\tReLu\n",
    "# # - 은닉층 7층: \t\t\t500개\t\t\t 5개\t\tReLu\n",
    "# # - 은닉층 8층: \t\t\t500개\t\t\t 5개\t\tReLu\n",
    "# # - 출력층:\t\t\t\t 5개\t\t\t 1개\t\t simoid\n",
    "# # -----------------------------------------------------------------------------------\n",
    "\n",
    "\n",
    "\n",
    "\n",
    "class Test_Model(nn.Module):\n",
    "\n",
    "\t# 인스턴스 초기화\n",
    "\tdef __init__(self):\n",
    "\t\tsuper().__init__()\n",
    "\t\tprint('__init__()')\n",
    "\t\tself.in_layer = nn.Linear(900,3000)\n",
    "\t\tself.hd_layer1 = nn.Linear(3000,2000)\n",
    "\t\tself.hd_layer2 = nn.Linear(2000,1500)\n",
    "\t\tself.hd_layer3 = nn.Linear(1500,1000)\n",
    "\t\tself.hd_layer4 = nn.Linear(1000,500)\n",
    "\t\tself.hd_layer5 = nn.Linear(500,150)\n",
    "\t\tself.hd_layer6 = nn.Linear(150,100)\n",
    "\t\tself.hd_layer7 = nn.Linear(100,50)\n",
    "\t\tself.hd_layer8 = nn.Linear(50,25)\n",
    "\t\tself.hd_layer9 = nn.Linear(25,10)\n",
    "\t\tself.hd_layer10 = nn.Linear(10,5)\n",
    "\t\tself.out_layer = nn.Linear(5,1)\n",
    "\n",
    "\t# 학습 즉, 순방향 진행 메서드 forward:필수 오버라이딩 메서드\n",
    "\t# 매개변수 data : 학습용 데이터 전달\n",
    "\tdef forward(self,data):\n",
    "\t\t\n",
    "\t\t#입력 -> 입력층\n",
    "\t\tout = self.in_layer(data)\t\t\t#출력 \n",
    "\t\tout = F.relu(out)\n",
    "\t\t\n",
    "\n",
    "\t\t#은닉층1\n",
    "\t\tout = self.hd_layer1(out)\t\t\t#1. \n",
    "\t\tout = F.relu(out)\n",
    "\t\tout = self.hd_layer2(out)\t\t\t#1. \n",
    "\t\tout = F.relu(out)\n",
    "\t\tout = self.hd_layer3(out)\t\t\t#1. \n",
    "\t\tout = F.relu(out)\n",
    "\t\tout = self.hd_layer4(out)\t\t\t#1. \n",
    "\t\tout = F.relu(out)\n",
    "\t\tout = self.hd_layer5(out)\t\t\t#1. \n",
    "\t\tout = F.relu(out)\n",
    "\t\tout = self.hd_layer6(out)\t\t\t#1. \n",
    "\t\tout = F.relu(out)\n",
    "\t\tout = self.hd_layer7(out)\t\t\t#1. \n",
    "\t\tout = F.relu(out)\n",
    "\t\tout = self.hd_layer8(out)\t\t\t#1. \n",
    "\t\tout = F.relu(out)\n",
    "\t\tout = self.hd_layer9(out)\t\t\t#1. \n",
    "\t\tout = F.relu(out)\n",
    "\t\tout = self.hd_layer10(out)\t\t\t#1. \n",
    "\t\tout = F.relu(out)\n",
    "\n",
    "\t\t# 출력층\n",
    "\t\tout = self.out_layer(out)\t\t\t#1. \n",
    "\t\tout = F.sigmoid(out)\n",
    "\t\treturn out\n",
    "\n",
    "\n",
    "\n"
   ]
  },
  {
   "cell_type": "code",
   "execution_count": null,
   "metadata": {},
   "outputs": [],
   "source": [
    "# # ----------------------------------------------------------------------------------\n",
    "# # 클래스  이름 : Test_model\n",
    "# # 부모 클래스 : 없음\n",
    "# # 모델층 구성\t\t\t입력신호수\t\t출력신호수\t\t활성화 함수\n",
    "# # - 입력층:\t\t피쳐 \t900개\t\t\t3000개\t\tReLu\t\n",
    "# # - 은닉층 1층:  \t\t\t3000개\t\t\t20개\t\tReLu\t\n",
    "# # - 은닉층 2층:\t\t\t1500개\t\t\t10개\t\tReLu\n",
    "# # - 은닉층 3층:\t\t\t1000개\t\t\t10개\t\tReLu\n",
    "# # - 은닉층 4층: \t\t\t500개\t\t\t 5개\t\tReLu\n",
    "# # - 은닉층 5층: \t\t\t500개\t\t\t 5개\t\tReLu\n",
    "# # - 은닉층 6층: \t\t\t500개\t\t\t 5개\t\tReLu\n",
    "# # - 은닉층 7층: \t\t\t500개\t\t\t 5개\t\tReLu\n",
    "# # - 은닉층 8층: \t\t\t500개\t\t\t 5개\t\tReLu\n",
    "# # - 출력층:\t\t\t\t 5개\t\t\t 1개\t\t simoid\n",
    "# # -----------------------------------------------------------------------------------\n",
    "\n",
    "\n",
    "\n",
    "\n",
    "class Test_Model(nn.Module):\n",
    "\n",
    "\t# 인스턴스 초기화\n",
    "\tdef __init__(self):\n",
    "\t\tsuper().__init__()\n",
    "\t\tprint('__init__()')\n",
    "\t\tself.layers = nn.Seuential(\n",
    "\t\t\tnn.Linear(900,3000),\n",
    "\t\t\tnn.ReLu(),\n",
    "\t\t\tnn.Linear(3000,2000),\n",
    "\t\t\tnn.ReLu(),\n",
    "\t\t\tnn.Linear(2000,1500),\n",
    "\t\t\tnn.ReLu(),\n",
    "\t\t\tnn.Linear(1500,1000),\n",
    "\t\t\tnn.ReLu(),\n",
    "\t\t\tnn.Linear(1000,500),\n",
    "\t\t\tnn.ReLu(),\n",
    "\t\t\tnn.Linear(500,150),\n",
    "\t\t\tnn.ReLu(),\n",
    "\t\t\tnn.Linear(150,100),\n",
    "\t\t\tnn.ReLu(),\n",
    "\t\t\tnn.Linear(100,50),\n",
    "\t\t\tnn.ReLu(),\n",
    "\t\t\tnn.Linear(50,25),\n",
    "\t\t\tnn.ReLu(),\n",
    "\t\t\tnn.Linear(25,10),\n",
    "\t\t\tnn.ReLu(),\n",
    "\t\t\tnn.Linear(10,5),\n",
    "\t\t\tnn.ReLu(),\n",
    "\t\t\tnn.Linear(5,1),\n",
    "\t\t\tnn.Sigmoid()\n",
    "\t\t)\n",
    "\n",
    "\t\t\n",
    "\n",
    "\t# 학습 즉, 순방향 진행 메서드 forward:필수 오버라이딩 메서드\n",
    "\t# 매개변수 data : 학습용 데이터 전달\n",
    "\tdef forward(self,data):\n",
    "\t\t\n",
    "\t\treturn self.layers(data)\n",
    "\n",
    "\n",
    "\n"
   ]
  },
  {
   "cell_type": "markdown",
   "metadata": {},
   "source": [
    "# 모델 사용"
   ]
  },
  {
   "cell_type": "markdown",
   "metadata": {},
   "source": [
    "# 모델 층 별 파라미터 즉,  W 와 b "
   ]
  },
  {
   "cell_type": "markdown",
   "metadata": {},
   "source": [
    "# 테스트"
   ]
  },
  {
   "cell_type": "code",
   "execution_count": null,
   "metadata": {},
   "outputs": [],
   "source": []
  },
  {
   "cell_type": "code",
   "execution_count": null,
   "metadata": {},
   "outputs": [],
   "source": []
  },
  {
   "cell_type": "code",
   "execution_count": null,
   "metadata": {},
   "outputs": [],
   "source": []
  },
  {
   "cell_type": "code",
   "execution_count": null,
   "metadata": {},
   "outputs": [],
   "source": []
  },
  {
   "cell_type": "code",
   "execution_count": null,
   "metadata": {},
   "outputs": [],
   "source": []
  },
  {
   "cell_type": "code",
   "execution_count": null,
   "metadata": {},
   "outputs": [],
   "source": []
  },
  {
   "cell_type": "code",
   "execution_count": null,
   "metadata": {},
   "outputs": [],
   "source": []
  }
 ],
 "metadata": {
  "kernelspec": {
   "display_name": "DL_TORCH",
   "language": "python",
   "name": "python3"
  },
  "language_info": {
   "codemirror_mode": {
    "name": "ipython",
    "version": 3
   },
   "file_extension": ".py",
   "mimetype": "text/x-python",
   "name": "python",
   "nbconvert_exporter": "python",
   "pygments_lexer": "ipython3",
   "version": "3.9.21"
  }
 },
 "nbformat": 4,
 "nbformat_minor": 2
}
