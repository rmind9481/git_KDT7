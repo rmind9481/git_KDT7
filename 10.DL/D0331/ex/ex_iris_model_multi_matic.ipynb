{
 "cells": [
  {
   "cell_type": "markdown",
   "metadata": {},
   "source": [
    "#### [ Pytorch DL MODEL 실습 ]"
   ]
  },
  {
   "cell_type": "markdown",
   "metadata": {},
   "source": [
    "- 데이터셋 : iris.csv \n",
    "- 학습방법 : 지도학습 + 분류 ==>  다중분류"
   ]
  },
  {
   "cell_type": "markdown",
   "metadata": {},
   "source": [
    "[1] 모듈로딩 및 데이터 준비<hr>"
   ]
  },
  {
   "cell_type": "code",
   "execution_count": 112,
   "metadata": {},
   "outputs": [],
   "source": [
    "#%pip install torchmetrics"
   ]
  },
  {
   "cell_type": "code",
   "execution_count": 113,
   "metadata": {},
   "outputs": [],
   "source": [
    "## 모듈로딩\n",
    "import pandas as pd                                     ## 데이터 관련 모듈들\n",
    "import numpy as np \n",
    "\n",
    "import torch                                            ## Tensor 및 기본 함수들 관련 모듈들\n",
    "import torch.nn as nn                                   ## 인공신경망 관련 모듈들\n",
    "import torch.nn.functional as F                         ## 인공신경망 관련 함수들\n",
    "import torch.optim as optim                             ## 최적화 모듈\n",
    "from torch.utils.data import Dataset, DataLoader        ## 학습 데이터셋 관련 모듈\n",
    "\n",
    "from sklearn.model_selection import train_test_split    ## 학습용 데이터셋 관련 함수\n",
    "\n",
    "from torchmetrics.classification import *\t\t\t# 성능지표 모듈\n"
   ]
  },
  {
   "cell_type": "code",
   "execution_count": 114,
   "metadata": {},
   "outputs": [],
   "source": [
    "## 데이터 준비\n",
    "DATA_FILE = '../../Data/iris.csv'"
   ]
  },
  {
   "cell_type": "markdown",
   "metadata": {},
   "source": [
    "[2] 데이터 로딩 및 확인<hr>"
   ]
  },
  {
   "cell_type": "code",
   "execution_count": 115,
   "metadata": {},
   "outputs": [
    {
     "name": "stdout",
     "output_type": "stream",
     "text": [
      "<class 'pandas.core.frame.DataFrame'>\n",
      "RangeIndex: 150 entries, 0 to 149\n",
      "Data columns (total 5 columns):\n",
      " #   Column        Non-Null Count  Dtype  \n",
      "---  ------        --------------  -----  \n",
      " 0   sepal.length  150 non-null    float64\n",
      " 1   sepal.width   150 non-null    float64\n",
      " 2   petal.length  150 non-null    float64\n",
      " 3   petal.width   150 non-null    float64\n",
      " 4   variety       150 non-null    object \n",
      "dtypes: float64(4), object(1)\n",
      "memory usage: 6.0+ KB\n"
     ]
    }
   ],
   "source": [
    "## 데이터 로딩\n",
    "irisDF = pd.read_csv(DATA_FILE)\n",
    "\n",
    "irisDF.info()"
   ]
  },
  {
   "cell_type": "code",
   "execution_count": 116,
   "metadata": {},
   "outputs": [
    {
     "data": {
      "text/plain": [
       "array(['Setosa', 'Versicolor', 'Virginica'], dtype=object)"
      ]
     },
     "execution_count": 116,
     "metadata": {},
     "output_type": "execute_result"
    }
   ],
   "source": [
    "## 데이터 확인\n",
    "irisDF.variety.unique()"
   ]
  },
  {
   "cell_type": "code",
   "execution_count": 117,
   "metadata": {},
   "outputs": [],
   "source": [
    "pd.set_option('future.no_silent_downcasting', True)\n",
    "irisDF.variety=irisDF.variety.replace({'Setosa':0, 'Versicolor':1, 'Virginica':2})"
   ]
  },
  {
   "cell_type": "code",
   "execution_count": 118,
   "metadata": {},
   "outputs": [
    {
     "data": {
      "text/plain": [
       "sepal.length    float64\n",
       "sepal.width     float64\n",
       "petal.length    float64\n",
       "petal.width     float64\n",
       "variety           int64\n",
       "dtype: object"
      ]
     },
     "execution_count": 118,
     "metadata": {},
     "output_type": "execute_result"
    }
   ],
   "source": [
    "irisDF.variety=irisDF.variety.astype('int')\n",
    "irisDF.dtypes"
   ]
  },
  {
   "cell_type": "markdown",
   "metadata": {},
   "source": [
    "[3] 데이터 셋 준비<hr>"
   ]
  },
  {
   "cell_type": "code",
   "execution_count": 119,
   "metadata": {},
   "outputs": [
    {
     "name": "stdout",
     "output_type": "stream",
     "text": [
      "[FeatureDF] (150, 4), 2D\n",
      "[targetSR]  (150,),  1D\n"
     ]
    }
   ],
   "source": [
    "## 피쳐와 타겟 분리 \n",
    "featureDF =irisDF[irisDF.columns[:-1]]   # Feature 4개\n",
    "targetSR = irisDF[irisDF.columns[-1]]    # 품종 1개\n",
    "\n",
    "print(f'[FeatureDF] {featureDF.shape}, {featureDF.ndim}D')\n",
    "print(f'[targetSR]  {targetSR.shape},  {targetSR.ndim}D')"
   ]
  },
  {
   "cell_type": "code",
   "execution_count": 120,
   "metadata": {},
   "outputs": [
    {
     "name": "stdout",
     "output_type": "stream",
     "text": [
      "[X_train] (120, 4), 2D  [y_train] (120,), 1D\n",
      "[X_test]  (30, 4), 2D  [y_test] (30,), 1D\n"
     ]
    }
   ],
   "source": [
    "## 학습용, 테스트용 데이터셋 분리 \n",
    "X_train, X_test, y_train, y_test = train_test_split(featureDF, \n",
    "                                                    targetSR, \n",
    "                                                    test_size=0.2,\n",
    "                                                    stratify=targetSR,\n",
    "                                                    random_state=42)\n",
    "\n",
    "print(f'[X_train] {X_train.shape}, {X_train.ndim}D  [y_train] {y_train.shape}, {y_train.ndim}D')\n",
    "print(f'[X_test]  {X_test.shape}, {X_test.ndim}D  [y_test] {y_test.shape}, {y_test.ndim}D')\n"
   ]
  },
  {
   "cell_type": "code",
   "execution_count": 121,
   "metadata": {},
   "outputs": [],
   "source": [
    "X_test.reset_index(drop=True, inplace=True)\n",
    "y_test.reset_index(drop=True, inplace=True)\n",
    "\n",
    "X_train.reset_index(drop=True, inplace=True)\n",
    "y_train.reset_index(drop=True, inplace=True)"
   ]
  },
  {
   "cell_type": "code",
   "execution_count": 122,
   "metadata": {},
   "outputs": [
    {
     "data": {
      "text/plain": [
       "pandas.core.frame.DataFrame"
      ]
     },
     "execution_count": 122,
     "metadata": {},
     "output_type": "execute_result"
    }
   ],
   "source": [
    "# Series => DataFrame : to_frame()\n",
    "type(y_train.to_frame())"
   ]
  },
  {
   "cell_type": "code",
   "execution_count": 123,
   "metadata": {},
   "outputs": [
    {
     "data": {
      "text/plain": [
       "np.int64(2)"
      ]
     },
     "execution_count": 123,
     "metadata": {},
     "output_type": "execute_result"
    }
   ],
   "source": [
    "# Series[인덱스] => reshape(-1, 1) : 2D ndarray\n",
    "# - 1개 원소 추출 시 원소의 타입 결과 \n",
    "y_train[8]"
   ]
  },
  {
   "cell_type": "code",
   "execution_count": 124,
   "metadata": {},
   "outputs": [
    {
     "data": {
      "text/plain": [
       "pandas.core.series.Series"
      ]
     },
     "execution_count": 124,
     "metadata": {},
     "output_type": "execute_result"
    }
   ],
   "source": [
    "# - 여러 개 원소 추출 시 Series로 결과 \n",
    "type(y_train[[8,106]])"
   ]
  },
  {
   "cell_type": "markdown",
   "metadata": {},
   "source": [
    "[4] 커스텀 데이터셋 클래스 설계 및 구현 <hr>"
   ]
  },
  {
   "cell_type": "code",
   "execution_count": 125,
   "metadata": {},
   "outputs": [],
   "source": [
    "## iris 전용 데이터셋 클래스 \n",
    "class IrisDataset(Dataset):\n",
    "    # 피쳐와 타겟 분리 및 전처리 진행 \n",
    "    def __init__(self, featureDF, targetSR):\n",
    "        super().__init__()\n",
    "        self.feature = featureDF\n",
    "        self.target  = targetSR\n",
    "        self.rows = featureDF.shape[0]\n",
    "        self.cols = featureDF.shape[1]\n",
    "    \n",
    "    # 데이터셋의 샘플 수 반환 메서드 \n",
    "    def __len__(self):\n",
    "        return self.rows \n",
    "\n",
    "    # DataLoader에서 batch_size만큼 호출하는 메서드\n",
    "    # 인덱스에 해당하는 피쳐와 타겟 반환 단, Tensor 형태\n",
    "    def __getitem__(self, index):\n",
    "       arrFeature = self.feature.iloc[index].values   # ndarray\n",
    "       arrTarget = self.target[index].reshape(-1)     # ndarray\n",
    "   \n",
    "       return torch.FloatTensor(arrFeature), torch.LongTensor(arrTarget)"
   ]
  },
  {
   "cell_type": "code",
   "execution_count": 126,
   "metadata": {},
   "outputs": [
    {
     "data": {
      "text/plain": [
       "0"
      ]
     },
     "execution_count": 126,
     "metadata": {},
     "output_type": "execute_result"
    }
   ],
   "source": [
    "X_test.index[0]"
   ]
  },
  {
   "cell_type": "code",
   "execution_count": 127,
   "metadata": {},
   "outputs": [
    {
     "name": "stdout",
     "output_type": "stream",
     "text": [
      "(tensor([4.9000, 2.5000, 4.5000, 1.7000]), tensor([2]))\n",
      "(tensor([6.1000, 3.0000, 4.9000, 1.8000]), tensor([2]))\n"
     ]
    }
   ],
   "source": [
    "## 확인 => Train용 DataSet 필수 \n",
    "##     => Test용 Dataset 선택 => 데이터가 많다면 DS, DL 생성 사용\n",
    "##                           => 데이터가 많지 않다면 DS, DL 생성 필요 X \n",
    "trainDS = IrisDataset(X_train, y_train)\n",
    "testDS  = IrisDataset(X_test, y_test)\n",
    "print( trainDS[1] )\n",
    "print( testDS[1] )"
   ]
  },
  {
   "cell_type": "code",
   "execution_count": 128,
   "metadata": {},
   "outputs": [
    {
     "name": "stdout",
     "output_type": "stream",
     "text": [
      "tensor([[4.4000, 2.9000, 1.4000, 0.2000],\n",
      "        [4.9000, 2.5000, 4.5000, 1.7000],\n",
      "        [6.8000, 2.8000, 4.8000, 1.4000]])\n",
      "tensor([[0],\n",
      "        [2],\n",
      "        [1]])\n"
     ]
    }
   ],
   "source": [
    "## DataLoader로 확인\n",
    "trainDL = DataLoader(dataset=trainDS, batch_size=3)\n",
    "for feature, label in trainDL:\n",
    "    print(feature, label, sep='\\n')\n",
    "    break"
   ]
  },
  {
   "cell_type": "code",
   "execution_count": 129,
   "metadata": {},
   "outputs": [
    {
     "name": "stdout",
     "output_type": "stream",
     "text": [
      "tensor([[4.4000, 3.0000, 1.3000, 0.2000],\n",
      "        [6.1000, 3.0000, 4.9000, 1.8000],\n",
      "        [4.9000, 2.4000, 3.3000, 1.0000]])\n",
      "tensor([[0],\n",
      "        [2],\n",
      "        [1]])\n"
     ]
    }
   ],
   "source": [
    "# 테스트용 데이터로더\n",
    "testDL = DataLoader(dataset=testDS, batch_size=3)\n",
    "for feature, label in testDL:\n",
    "    print(feature, label, sep='\\n')\n",
    "    break"
   ]
  },
  {
   "cell_type": "markdown",
   "metadata": {},
   "source": [
    "[4] 모델 설계 및 클래스 구현<hr>"
   ]
  },
  {
   "cell_type": "code",
   "execution_count": 130,
   "metadata": {},
   "outputs": [],
   "source": [
    "# 모델 클래스 설계 ----------------------------------------------------------------------\n",
    "## 회귀용 커스텀 모델 \n",
    "## 클래스이름 : IrisModel\n",
    "## 부모클래스 : nn.Module\n",
    "## 모델층구성   입력신호/피쳐수       출력신호수/퍼셉트론수       활성화함수\n",
    "## - 입력층  :      4                     100                 ReLu\n",
    "## - 은닉층  :     100                     30                 ReLu \n",
    "## - 출력층  :      30                     3                  Softmax => 손실함수 내 포함\n",
    "## - -----------------------------------------------------------------------------------\n",
    "class IrisModel(nn.Module):\n",
    "    ## 모델 층 설계 및 초기화 메서드 \n",
    "    def __init__(self):\n",
    "        super().__init__()\n",
    "        self.in_layer  = nn.Linear(4,  100)\n",
    "        self.hd_layer  = nn.Linear(100, 30)\n",
    "        self.out_layer = nn.Linear(30,  3)\n",
    "\n",
    "    ## 학습 진행 메서드 \n",
    "    def forward(self, data):\n",
    "        ## 입력층\n",
    "        out = F.relu( self.in_layer(data) )\n",
    "        ## 은닉층\n",
    "        out = F.relu( self.hd_layer(out) )\n",
    "        ## 출력층\n",
    "        return self.out_layer(out) \n",
    "    "
   ]
  },
  {
   "cell_type": "code",
   "execution_count": 131,
   "metadata": {},
   "outputs": [
    {
     "name": "stdout",
     "output_type": "stream",
     "text": [
      "IrisModel(\n",
      "  (in_layer): Linear(in_features=4, out_features=100, bias=True)\n",
      "  (hd_layer): Linear(in_features=100, out_features=30, bias=True)\n",
      "  (out_layer): Linear(in_features=30, out_features=3, bias=True)\n",
      ")\n"
     ]
    },
    {
     "data": {
      "text/plain": [
       "tensor([[-0.2344, -0.2484,  0.0665]], grad_fn=<AddmmBackward0>)"
      ]
     },
     "execution_count": 131,
     "metadata": {},
     "output_type": "execute_result"
    }
   ],
   "source": [
    "## 모델 구조 확인\n",
    "model = IrisModel()\n",
    "print( model )\n",
    "\n",
    "## shape 체크\n",
    "data = torch.FloatTensor( [[1.,3.2, 1.9, 2.6]] )   # (1, 4)\n",
    "model(data)"
   ]
  },
  {
   "cell_type": "code",
   "execution_count": 132,
   "metadata": {},
   "outputs": [
    {
     "name": "stdout",
     "output_type": "stream",
     "text": [
      "tensor([-0.0261, -0.2623,  0.0714], grad_fn=<ViewBackward0>)\n"
     ]
    }
   ],
   "source": [
    "\n",
    "## shape 체크\n",
    "for feature, target  in testDS:\n",
    "    pre_ = model(feature)\n",
    "    print(pre_)\n",
    "    break"
   ]
  },
  {
   "cell_type": "markdown",
   "metadata": {},
   "source": [
    "[5] 학습 준비 <hr>"
   ]
  },
  {
   "cell_type": "markdown",
   "metadata": {},
   "source": [
    "- [5-1]학습 관련 설정들"
   ]
  },
  {
   "cell_type": "code",
   "execution_count": 133,
   "metadata": {},
   "outputs": [
    {
     "name": "stdout",
     "output_type": "stream",
     "text": [
      "DEVICE : cpu, EPOCHS : 70, BATCH_SIZE : 40 ITERATION : 3\n"
     ]
    }
   ],
   "source": [
    "\n",
    "EPOCHS      = 70                                   # 학습용 DS을 처음부터 끝까지 1번 학습하는 것을 에포크\n",
    "BATCH_SIZE  = 40                                    # DS을 학습량 만큼 나눈 사이즈 \n",
    "ITERATION   = int(X_train.shape[0]/BATCH_SIZE)      # 학습용 DS이 분리된 수 => 1에포크에 W, b 업데이트 횟수\n",
    "\n",
    "# 학습, 데이터셋 로딩 등 GPU에서 실행 여부 설정 \n",
    "DEVICE      = 'cuda' if torch.cuda.is_available() else 'cpu'\n",
    "\n",
    "print(f'DEVICE : {DEVICE}, EPOCHS : {EPOCHS}, BATCH_SIZE : {BATCH_SIZE} ITERATION : {ITERATION}')"
   ]
  },
  {
   "cell_type": "markdown",
   "metadata": {},
   "source": [
    "- [5-2] 학습 관련 인스턴스들"
   ]
  },
  {
   "cell_type": "code",
   "execution_count": 134,
   "metadata": {},
   "outputs": [],
   "source": [
    "TRAINDL   = DataLoader(trainDS, batch_size=BATCH_SIZE)\n",
    "TESTDL    = DataLoader(testDS,  batch_size=BATCH_SIZE)\n",
    "LR        = 0.01  \n",
    "MODEL     = IrisModel()                             ## 학습 모델\n",
    "OPTIMIZER = optim.Adam(MODEL.parameters(), lr=LR)   ## 최적화 즉, 경사하강법 알고리즘으로 W, b의 값 갱신\n",
    "LOSS_FN   = nn.CrossEntropyLoss()                   ## 다중분류 손실함수\n"
   ]
  },
  {
   "cell_type": "markdown",
   "metadata": {},
   "source": [
    "- [5-3] 학습관련 함수들"
   ]
  },
  {
   "cell_type": "code",
   "execution_count": 139,
   "metadata": {},
   "outputs": [],
   "source": [
    "\n",
    "##- 검증 함수 --------------------------------------------\n",
    "##- 검증용 데이터셋으로 모델 검증\n",
    "##- 학습 지속여부 결정 기준이 됨\n",
    "##- -----------------------------------------------------\n",
    "def evaluate():\n",
    "    # 에포크 단위로 검증 => 검증 모드\n",
    "    MODEL.eval()\n",
    "    \n",
    "    # W, b가 업데이트 해제\n",
    "    with torch.no_grad():\n",
    "        # # 방법1) 테스트용 : DataLoader 적용\n",
    "        # T_LOSS, T_ACC ,CNT = 0, 0\n",
    "        # for feature, target in TESTDL:            \n",
    "        #     # 검증진행\n",
    "        #     pre_y= MODEL(feature)\n",
    "            \n",
    "        #     # 손실 계산\n",
    "        #     loss = LOSS_FN(pre_y, target.reshape(-1).long())\n",
    "            \n",
    "        #     # 정화도 계산\n",
    "        #     accuracy = MulticlassAccuracy(num_classes=3)\n",
    "        #     acc = accuracy(pre_y,target)\n",
    "        #     T_ACC += acc.item()\n",
    "            \n",
    "            \n",
    "        #     T_LOSS += loss.item()\n",
    "        #     CNT += 1\n",
    "        # 방법2) 전체 테스트데이터\n",
    "        # DF/SR => Tensor화\n",
    "        # 검증용 데이터셋 => 텐서화 ndarray ==> tensor변환\n",
    "        x = torch.FloatTensor(X_test.values) \n",
    "        y = torch.LongTensor(y_test.values)\n",
    "        \n",
    "        # 검증진행\n",
    "        pre_y= MODEL(x)\n",
    "        \n",
    "        # 손실 계산\n",
    "        loss = LOSS_FN(pre_y, y.reshape(-1).long())\n",
    "        #정확도 계산\n",
    "        accuracy = MulticlassAccuracy(num_classes=3)\n",
    "        acc = accuracy(pre_y,y.reshape(-1))\n",
    "    return loss.item(), acc.item()\n",
    "    # 방법2)\n",
    "    #return loss.item()\n",
    "    # 방법1)\n",
    "    #return T_LOSS/CNT, T_ACC/CNT"
   ]
  },
  {
   "cell_type": "code",
   "execution_count": 140,
   "metadata": {},
   "outputs": [],
   "source": [
    "##- 학습 함수 --------------------------------------------\n",
    "##- 학습용 데이터셋으로 모델 검증\n",
    "##- -----------------------------------------------------\n",
    "def training():\n",
    "    # 학습 모드 설정\n",
    "    model.train()\n",
    "\n",
    "    E_LOSS, E_ACC = 0,0\n",
    "    #for i in range(ITERATION): \n",
    "    for feature, target in TRAINDL:\n",
    "        # 배치크기 만큼 feature, target 로딩\n",
    "        #print('로딩 데이터 :',feature.shape, target.shape)                                                                 \n",
    "        # 가중치 기울기 0 초기화\n",
    "        OPTIMIZER.zero_grad()\n",
    "\n",
    "        # 학습 진행\n",
    "        pre_y = MODEL(feature)\n",
    "\n",
    "        # 손실 계산\n",
    "        loss = LOSS_FN(pre_y, target.reshape(-1).long())\n",
    "        \n",
    "        # 정확도 계산\n",
    "        accuarcy = MulticlassAccuracy(num_classes=3)\n",
    "        acc = accuarcy(pre_y,target.reshape(-1))\n",
    "\n",
    "        # 역전파 진행\n",
    "        loss.backward()\n",
    "\n",
    "        # 가중치/절편 업데이트\n",
    "        OPTIMIZER.step()\n",
    "\n",
    "        E_LOSS += loss.item()\n",
    "        E_ACC += acc.item()\n",
    "    return E_LOSS/ITERATION, E_ACC/ITERATION"
   ]
  },
  {
   "cell_type": "code",
   "execution_count": 142,
   "metadata": {},
   "outputs": [
    {
     "name": "stdout",
     "output_type": "stream",
     "text": [
      "\n",
      "EPOCH[0/70]----------------\n",
      "- TRAIN_LOSS 0.60355, ACC 0.69974\n",
      "- VALID_LOSS 0.46413, ACC 0.90000\n",
      "\n",
      "EPOCH[1/70]----------------\n",
      "- TRAIN_LOSS 0.41353, ACC 0.94048\n",
      "- VALID_LOSS 0.34123, ACC 0.96667\n",
      "\n",
      "EPOCH[2/70]----------------\n",
      "- TRAIN_LOSS 0.30592, ACC 0.94709\n",
      "- VALID_LOSS 0.26008, ACC 1.00000\n",
      "\n",
      "EPOCH[3/70]----------------\n",
      "- TRAIN_LOSS 0.22654, ACC 0.98280\n",
      "- VALID_LOSS 0.19236, ACC 1.00000\n",
      "\n",
      "EPOCH[4/70]----------------\n",
      "- TRAIN_LOSS 0.16717, ACC 0.96429\n",
      "- VALID_LOSS 0.14458, ACC 1.00000\n",
      "\n",
      "EPOCH[5/70]----------------\n",
      "- TRAIN_LOSS 0.12785, ACC 0.96429\n",
      "- VALID_LOSS 0.11620, ACC 1.00000\n",
      "\n",
      "EPOCH[6/70]----------------\n",
      "- TRAIN_LOSS 0.10429, ACC 0.96429\n",
      "- VALID_LOSS 0.09751, ACC 1.00000\n",
      "\n",
      "EPOCH[7/70]----------------\n",
      "- TRAIN_LOSS 0.09073, ACC 0.96429\n",
      "- VALID_LOSS 0.08301, ACC 1.00000\n",
      "\n",
      "EPOCH[8/70]----------------\n",
      "- TRAIN_LOSS 0.08373, ACC 0.96429\n",
      "- VALID_LOSS 0.07446, ACC 1.00000\n",
      "\n",
      "EPOCH[9/70]----------------\n",
      "- TRAIN_LOSS 0.07881, ACC 0.96429\n",
      "- VALID_LOSS 0.06813, ACC 1.00000\n",
      "\n",
      "EPOCH[10/70]----------------\n",
      "- TRAIN_LOSS 0.07518, ACC 0.96429\n",
      "- VALID_LOSS 0.06122, ACC 1.00000\n",
      "\n",
      "EPOCH[11/70]----------------\n",
      "- TRAIN_LOSS 0.07387, ACC 0.96429\n",
      "- VALID_LOSS 0.05811, ACC 1.00000\n",
      "\n",
      "EPOCH[12/70]----------------\n",
      "- TRAIN_LOSS 0.07201, ACC 0.97354\n",
      "- VALID_LOSS 0.05524, ACC 1.00000\n",
      "\n",
      "EPOCH[13/70]----------------\n",
      "- TRAIN_LOSS 0.07072, ACC 0.97354\n",
      "- VALID_LOSS 0.05224, ACC 1.00000\n",
      "\n",
      "EPOCH[14/70]----------------\n",
      "- TRAIN_LOSS 0.07008, ACC 0.97354\n",
      "- VALID_LOSS 0.05143, ACC 1.00000\n",
      "\n",
      "EPOCH[15/70]----------------\n",
      "- TRAIN_LOSS 0.06885, ACC 0.97354\n",
      "- VALID_LOSS 0.04941, ACC 1.00000\n",
      "\n",
      "EPOCH[16/70]----------------\n",
      "- TRAIN_LOSS 0.06834, ACC 0.97354\n",
      "- VALID_LOSS 0.04819, ACC 1.00000\n",
      "\n",
      "EPOCH[17/70]----------------\n",
      "- TRAIN_LOSS 0.06751, ACC 0.97354\n",
      "- VALID_LOSS 0.04725, ACC 1.00000\n",
      "\n",
      "EPOCH[18/70]----------------\n",
      "- TRAIN_LOSS 0.06686, ACC 0.97354\n",
      "- VALID_LOSS 0.04580, ACC 1.00000\n",
      "\n",
      "EPOCH[19/70]----------------\n",
      "- TRAIN_LOSS 0.06654, ACC 0.97354\n",
      "- VALID_LOSS 0.04564, ACC 1.00000\n",
      "\n",
      "EPOCH[20/70]----------------\n",
      "- TRAIN_LOSS 0.06580, ACC 0.98280\n",
      "- VALID_LOSS 0.04497, ACC 1.00000\n",
      "\n",
      "EPOCH[21/70]----------------\n",
      "- TRAIN_LOSS 0.06558, ACC 0.97354\n",
      "- VALID_LOSS 0.04439, ACC 1.00000\n",
      "\n",
      "EPOCH[22/70]----------------\n",
      "- TRAIN_LOSS 0.06507, ACC 0.98280\n",
      "- VALID_LOSS 0.04406, ACC 1.00000\n",
      "\n",
      "EPOCH[23/70]----------------\n",
      "- TRAIN_LOSS 0.06430, ACC 0.99074\n",
      "- VALID_LOSS 0.04300, ACC 1.00000\n",
      "\n",
      "EPOCH[24/70]----------------\n",
      "- TRAIN_LOSS 0.06408, ACC 0.99074\n",
      "- VALID_LOSS 0.04274, ACC 1.00000\n",
      "\n",
      "EPOCH[25/70]----------------\n",
      "- TRAIN_LOSS 0.06364, ACC 0.98333\n",
      "- VALID_LOSS 0.04257, ACC 1.00000\n",
      "\n",
      "EPOCH[26/70]----------------\n",
      "- TRAIN_LOSS 0.06335, ACC 0.98333\n",
      "- VALID_LOSS 0.04226, ACC 1.00000\n",
      "\n",
      "EPOCH[27/70]----------------\n",
      "- TRAIN_LOSS 0.06290, ACC 0.98333\n",
      "- VALID_LOSS 0.04235, ACC 1.00000\n",
      "\n",
      "EPOCH[28/70]----------------\n",
      "- TRAIN_LOSS 0.06238, ACC 0.98333\n",
      "- VALID_LOSS 0.04149, ACC 1.00000\n",
      "\n",
      "EPOCH[29/70]----------------\n",
      "- TRAIN_LOSS 0.06222, ACC 0.98333\n",
      "- VALID_LOSS 0.04150, ACC 1.00000\n",
      "\n",
      "EPOCH[30/70]----------------\n",
      "- TRAIN_LOSS 0.06175, ACC 0.98333\n",
      "- VALID_LOSS 0.04146, ACC 1.00000\n",
      "\n",
      "EPOCH[31/70]----------------\n",
      "- TRAIN_LOSS 0.06160, ACC 0.98333\n",
      "- VALID_LOSS 0.04099, ACC 1.00000\n",
      "\n",
      "EPOCH[32/70]----------------\n",
      "- TRAIN_LOSS 0.06123, ACC 0.98333\n",
      "- VALID_LOSS 0.04154, ACC 1.00000\n",
      "\n",
      "EPOCH[33/70]----------------\n",
      "- TRAIN_LOSS 0.06061, ACC 0.98333\n",
      "- VALID_LOSS 0.04078, ACC 1.00000\n",
      "\n",
      "EPOCH[34/70]----------------\n",
      "- TRAIN_LOSS 0.06077, ACC 0.98333\n",
      "- VALID_LOSS 0.04078, ACC 1.00000\n",
      "\n",
      "EPOCH[35/70]----------------\n",
      "- TRAIN_LOSS 0.06020, ACC 0.98333\n",
      "- VALID_LOSS 0.04105, ACC 1.00000\n",
      "\n",
      "EPOCH[36/70]----------------\n",
      "- TRAIN_LOSS 0.05970, ACC 0.98333\n",
      "- VALID_LOSS 0.04026, ACC 1.00000\n",
      "\n",
      "EPOCH[37/70]----------------\n",
      "- TRAIN_LOSS 0.05983, ACC 0.98333\n",
      "- VALID_LOSS 0.04050, ACC 1.00000\n",
      "\n",
      "EPOCH[38/70]----------------\n",
      "- TRAIN_LOSS 0.05928, ACC 0.98333\n",
      "- VALID_LOSS 0.04077, ACC 1.00000\n",
      "\n",
      "EPOCH[39/70]----------------\n",
      "- TRAIN_LOSS 0.05898, ACC 0.98333\n",
      "- VALID_LOSS 0.03988, ACC 1.00000\n",
      "\n",
      "EPOCH[40/70]----------------\n",
      "- TRAIN_LOSS 0.05884, ACC 0.98333\n",
      "- VALID_LOSS 0.04047, ACC 1.00000\n",
      "\n",
      "EPOCH[41/70]----------------\n",
      "- TRAIN_LOSS 0.05832, ACC 0.98333\n",
      "- VALID_LOSS 0.04031, ACC 1.00000\n",
      "\n",
      "EPOCH[42/70]----------------\n",
      "- TRAIN_LOSS 0.05842, ACC 0.98333\n",
      "- VALID_LOSS 0.03998, ACC 1.00000\n",
      "\n",
      "EPOCH[43/70]----------------\n",
      "- TRAIN_LOSS 0.05803, ACC 0.98333\n",
      "- VALID_LOSS 0.04088, ACC 1.00000\n",
      "\n",
      "EPOCH[44/70]----------------\n",
      "- TRAIN_LOSS 0.05737, ACC 0.98333\n",
      "- VALID_LOSS 0.03975, ACC 1.00000\n",
      "\n",
      "EPOCH[45/70]----------------\n",
      "- TRAIN_LOSS 0.05768, ACC 0.98333\n",
      "- VALID_LOSS 0.04006, ACC 1.00000\n",
      "\n",
      "EPOCH[46/70]----------------\n",
      "- TRAIN_LOSS 0.05712, ACC 0.98333\n",
      "- VALID_LOSS 0.04061, ACC 1.00000\n",
      "\n",
      "EPOCH[47/70]----------------\n",
      "- TRAIN_LOSS 0.05671, ACC 0.98333\n",
      "- VALID_LOSS 0.03926, ACC 1.00000\n",
      "\n",
      "EPOCH[48/70]----------------\n",
      "- TRAIN_LOSS 0.05674, ACC 0.98333\n",
      "- VALID_LOSS 0.03992, ACC 1.00000\n",
      "\n",
      "EPOCH[49/70]----------------\n",
      "- TRAIN_LOSS 0.05627, ACC 0.98333\n",
      "- VALID_LOSS 0.03985, ACC 1.00000\n",
      "\n",
      "EPOCH[50/70]----------------\n",
      "- TRAIN_LOSS 0.05631, ACC 0.98333\n",
      "- VALID_LOSS 0.03979, ACC 1.00000\n",
      "\n",
      "EPOCH[51/70]----------------\n",
      "- TRAIN_LOSS 0.05599, ACC 0.98333\n",
      "- VALID_LOSS 0.04101, ACC 1.00000\n",
      "\n",
      "EPOCH[52/70]----------------\n",
      "- TRAIN_LOSS 0.05545, ACC 0.98333\n",
      "- VALID_LOSS 0.03937, ACC 1.00000\n",
      "\n",
      "EPOCH[53/70]----------------\n",
      "- TRAIN_LOSS 0.05553, ACC 0.98333\n",
      "- VALID_LOSS 0.04001, ACC 1.00000\n",
      "\n",
      "EPOCH[54/70]----------------\n",
      "- TRAIN_LOSS 0.05512, ACC 0.98333\n",
      "- VALID_LOSS 0.04020, ACC 1.00000\n",
      "\n",
      "EPOCH[55/70]----------------\n",
      "- TRAIN_LOSS 0.05505, ACC 0.98333\n",
      "- VALID_LOSS 0.03981, ACC 1.00000\n",
      "\n",
      "EPOCH[56/70]----------------\n",
      "- TRAIN_LOSS 0.05486, ACC 0.98333\n",
      "- VALID_LOSS 0.04123, ACC 1.00000\n",
      "\n",
      "EPOCH[57/70]----------------\n",
      "- TRAIN_LOSS 0.05428, ACC 0.98333\n",
      "- VALID_LOSS 0.04038, ACC 1.00000\n",
      "\n",
      "EPOCH[58/70]----------------\n",
      "- TRAIN_LOSS 0.05458, ACC 0.98333\n",
      "- VALID_LOSS 0.04064, ACC 1.00000\n",
      "\n",
      "EPOCH[59/70]----------------\n",
      "- TRAIN_LOSS 0.05405, ACC 0.98333\n",
      "- VALID_LOSS 0.04086, ACC 1.00000\n",
      "\n",
      "EPOCH[60/70]----------------\n",
      "- TRAIN_LOSS 0.05363, ACC 0.98333\n",
      "- VALID_LOSS 0.03967, ACC 1.00000\n",
      "\n",
      "EPOCH[61/70]----------------\n",
      "- TRAIN_LOSS 0.05382, ACC 0.98333\n",
      "- VALID_LOSS 0.04194, ACC 1.00000\n",
      "\n",
      "EPOCH[62/70]----------------\n",
      "- TRAIN_LOSS 0.05357, ACC 0.98333\n",
      "- VALID_LOSS 0.04115, ACC 1.00000\n",
      "\n",
      "EPOCH[63/70]----------------\n",
      "- TRAIN_LOSS 0.05314, ACC 0.98333\n",
      "- VALID_LOSS 0.04063, ACC 1.00000\n",
      "\n",
      "EPOCH[64/70]----------------\n",
      "- TRAIN_LOSS 0.05297, ACC 0.98333\n",
      "- VALID_LOSS 0.04071, ACC 1.00000\n",
      "\n",
      "EPOCH[65/70]----------------\n",
      "- TRAIN_LOSS 0.05278, ACC 0.98333\n",
      "- VALID_LOSS 0.04146, ACC 1.00000\n",
      "\n",
      "EPOCH[66/70]----------------\n",
      "- TRAIN_LOSS 0.05303, ACC 0.98333\n",
      "- VALID_LOSS 0.04230, ACC 1.00000\n",
      "\n",
      "EPOCH[67/70]----------------\n",
      "- TRAIN_LOSS 0.05233, ACC 0.98333\n",
      "- VALID_LOSS 0.04193, ACC 1.00000\n",
      "\n",
      "EPOCH[68/70]----------------\n",
      "- TRAIN_LOSS 0.05205, ACC 0.98333\n",
      "- VALID_LOSS 0.04122, ACC 1.00000\n",
      "\n",
      "EPOCH[69/70]----------------\n",
      "- TRAIN_LOSS 0.05201, ACC 0.98333\n",
      "- VALID_LOSS 0.04235, ACC 1.00000\n"
     ]
    }
   ],
   "source": [
    "# 에포크 : DS 처음부터 ~ 끝까지 학습  \n",
    "HIST ={'Train':[], 'Valid':[]}   \n",
    "\n",
    "# 에포크 단위 학습/검증 진행 \n",
    "for epoch in range(EPOCHS):\n",
    "\n",
    "    trainLoss, trainAcc = training()\n",
    "    validLoss, validAcc = evaluate()\n",
    "\n",
    "    HIST['Train'].append((trainLoss,trainAcc))\n",
    "    HIST['Valid'].append((validLoss,validAcc))\n",
    "\n",
    "    print(f'\\nEPOCH[{epoch}/{EPOCHS}]----------------')\n",
    "    print(f'- TRAIN_LOSS {trainLoss:.5f}, ACC {trainAcc:.5f}')\n",
    "    print(f'- VALID_LOSS {validLoss:.5f}, ACC {validAcc:.5f}')"
   ]
  },
  {
   "cell_type": "code",
   "execution_count": 150,
   "metadata": {},
   "outputs": [],
   "source": [
    "train_list = []\n",
    "train_acc = []\n",
    "\n",
    "valid_list = []\n",
    "valid_acc =[]\n",
    "\n",
    "for i,j in HIST['Train']:\n",
    "\ttrain_list.append(i)\n",
    "\ttrain_acc.append(j)\n",
    "\n",
    "for i,j in HIST['Valid']:\n",
    "\tvalid_list.append(i)\n",
    "\tvalid_acc.append(j)"
   ]
  },
  {
   "cell_type": "code",
   "execution_count": 166,
   "metadata": {},
   "outputs": [
    {
     "data": {
      "image/png": "[encoded data removed]",
      "text/plain": [
       "<Figure size 2500x1000 with 1 Axes>"
      ]
     },
     "metadata": {},
     "output_type": "display_data"
    },
    {
     "data": {
      "image/png": "[encoded data removed]",
      "text/plain": [
       "<Figure size 2500x1000 with 1 Axes>"
      ]
     },
     "metadata": {},
     "output_type": "display_data"
    }
   ],
   "source": [
    "## 모델 성능 시각화 \n",
    "import matplotlib.pyplot as plt\n",
    "\n",
    "plt.figure(figsize=(25,10))\n",
    "#plt.subplot(1,2,1)\n",
    "plt.plot(train_list, 'bo--', label='Train')\n",
    "plt.plot(valid_list, 'ro--', label='Valid')\n",
    "plt.grid()\n",
    "plt.title('Loss')\n",
    "plt.legend()\n",
    "plt.xlabel('EPOCHS')\n",
    "plt.ylabel('LOSS')\n",
    "plt.show()\n",
    "\n",
    "#plt.subplot(1,2,2)\n",
    "plt.figure(figsize=(25,10))\n",
    "plt.plot(train_acc, 'bo--', label='Train_acc')\n",
    "plt.plot(valid_acc, 'ro--', label='Valid_acc')\n",
    "plt.grid()\n",
    "plt.legend()\n",
    "plt.title('ACC')\n",
    "plt.xlabel('EPOCHS')\n",
    "plt.ylabel('MAE_ACC')\n",
    "plt.show()"
   ]
  },
  {
   "cell_type": "code",
   "execution_count": null,
   "metadata": {},
   "outputs": [],
   "source": []
  }
 ],
 "metadata": {
  "kernelspec": {
   "display_name": "DL_TORCH",
   "language": "python",
   "name": "python3"
  },
  "language_info": {
   "codemirror_mode": {
    "name": "ipython",
    "version": 3
   },
   "file_extension": ".py",
   "mimetype": "text/x-python",
   "name": "python",
   "nbconvert_exporter": "python",
   "pygments_lexer": "ipython3",
   "version": "3.9.21"
  }
 },
 "nbformat": 4,
 "nbformat_minor": 2
}
