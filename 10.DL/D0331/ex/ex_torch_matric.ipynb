{
 "cells": [
  {
   "cell_type": "markdown",
   "metadata": {},
   "source": [
    "### [Torchmetrics 모듈활용] "
   ]
  },
  {
   "cell_type": "code",
   "execution_count": 17,
   "metadata": {},
   "outputs": [],
   "source": [
    "# 모듈 로딩\n",
    "from torchmetrics.classification import *\t\t\t# 분류관련 성능지표\n",
    "from torchmetrics.regression import * \t\t\t\t# 회귀관련 성능지표\n",
    "import torch "
   ]
  },
  {
   "cell_type": "code",
   "execution_count": 18,
   "metadata": {},
   "outputs": [
    {
     "data": {
      "text/plain": [
       "tensor(0.7500)"
      ]
     },
     "execution_count": 18,
     "metadata": {},
     "output_type": "execute_result"
    }
   ],
   "source": [
    "# 분류용 성능지표 함수들\n",
    "target = torch.tensor([0,1,1,1])\n",
    "preds = torch.tensor([0,1,1,0])\n",
    "preds2 = torch.tensor([0.11,0.56,0.76,0.34])\n",
    "\n",
    "accuracy = BinaryAccuracy()\n",
    "accuracy(preds,target)"
   ]
  },
  {
   "cell_type": "code",
   "execution_count": 19,
   "metadata": {},
   "outputs": [
    {
     "data": {
      "text/plain": [
       "tensor(0.7500)"
      ]
     },
     "execution_count": 19,
     "metadata": {},
     "output_type": "execute_result"
    }
   ],
   "source": [
    "accuracy = BinaryAccuracy()\t\t# 0.5 기준으로 0과 1로 결과 추출\n",
    "accuracy(preds2,target)"
   ]
  },
  {
   "cell_type": "code",
   "execution_count": 20,
   "metadata": {},
   "outputs": [
    {
     "data": {
      "text/plain": [
       "tensor(0.8333)"
      ]
     },
     "execution_count": 20,
     "metadata": {},
     "output_type": "execute_result"
    }
   ],
   "source": [
    "# 다중중분류\n",
    "target = torch.tensor([2, 1, 0, 0])\n",
    "preds = torch.tensor([2, 1, 0, 1])\n",
    "\n",
    "metric = MulticlassAccuracy(num_classes=3)\n",
    "metric(preds, target)\n",
    "\n"
   ]
  },
  {
   "cell_type": "code",
   "execution_count": 21,
   "metadata": {},
   "outputs": [
    {
     "name": "stdout",
     "output_type": "stream",
     "text": [
      "metric tensor(0.8333)\n",
      "f1 tensor(0.7778)\n",
      "precision tensor(0.8333)\n",
      "recall tensor(0.8333)\n"
     ]
    }
   ],
   "source": [
    "# 다중중분류\n",
    "target = torch.tensor([2, 1, 0, 0])\n",
    "preds = torch.tensor([[0.16, 0.26, 0.58],\n",
    "            \t    [0.22, 0.61, 0.17],\n",
    "            \t    [0.71, 0.09, 0.20],\n",
    "            \t    [0.05, 0.82, 0.13]])\n",
    "\n",
    "metric = MulticlassAccuracy(num_classes=3)\n",
    "print('metric',metric(preds, target))\n",
    "\n",
    "\n",
    "f1 = MulticlassF1Score(num_classes=3)\n",
    "print('f1',f1(preds, target))\n",
    "\n",
    "\n",
    "precision = MulticlassPrecision(num_classes=3)\n",
    "print('precision',precision(preds, target))\n",
    "\n",
    "recall =  MulticlassRecall(num_classes=3)\n",
    "print('recall',recall(preds, target))"
   ]
  },
  {
   "cell_type": "markdown",
   "metadata": {},
   "source": [
    "[회귀 성능지표]"
   ]
  },
  {
   "cell_type": "code",
   "execution_count": 23,
   "metadata": {},
   "outputs": [
    {
     "name": "stdout",
     "output_type": "stream",
     "text": [
      "mea 0.75\n",
      "mse 0.875\n",
      "r2 0.7837837934494019\n"
     ]
    }
   ],
   "source": [
    "# 회귀 관련 성능지표 : mse, mae, rmse , r2\n",
    "\n",
    "target = torch.tensor([2.5, 5.0, 4.0, 8.0])\n",
    "preds = torch.tensor([3.0, 5.0, 2.5, 7.0])\n",
    "\n",
    "mae = MeanAbsoluteError()\n",
    "print(f'mea {mae(preds,target)}')\n",
    "\n",
    "mse  = MeanSquaredError()\n",
    "print(f'mse {mse(preds,target)}')\n",
    "\n",
    "r2 = R2Score()\n",
    "\n",
    "print(f'r2 {r2(preds,target)}')\n",
    "\n"
   ]
  },
  {
   "cell_type": "code",
   "execution_count": null,
   "metadata": {},
   "outputs": [],
   "source": []
  }
 ],
 "metadata": {
  "kernelspec": {
   "display_name": "DL_TORCH",
   "language": "python",
   "name": "python3"
  },
  "language_info": {
   "codemirror_mode": {
    "name": "ipython",
    "version": 3
   },
   "file_extension": ".py",
   "mimetype": "text/x-python",
   "name": "python",
   "nbconvert_exporter": "python",
   "pygments_lexer": "ipython3",
   "version": "3.9.21"
  }
 },
 "nbformat": 4,
 "nbformat_minor": 2
}
