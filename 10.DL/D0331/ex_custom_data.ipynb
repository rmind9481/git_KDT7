{
 "cells": [
  {
   "cell_type": "markdown",
   "metadata": {},
   "source": [
    "# 사용자 정의 데이터셋(Custom Dataset) <hr>\n",
    "\n",
    "* torch.utils.data.Dataset 을 상속받아 직접 커스텀 데이터셋 생성\n",
    "* torch.utils.data.Dataset 은 미완성 추상클래스(Abstract Class)\n",
    "\t* 반드시 구현해야 하는 매서드 존재\n",
    "\t* def _ _ init _ _ (self) : 데이터셋 전처리/ 초기화 메서드\n",
    "\t* def _ _ len _ _ (self) : 데이터셋 길이 즉 샘플 수 반환 메서드\n",
    "\t* def _ _ getiem _ _ (self,idx) : idx 해당 데이터 1개 반환하는 메서드"
   ]
  },
  {
   "cell_type": "code",
   "execution_count": null,
   "metadata": {},
   "outputs": [],
   "source": [
    "# 모듈 로딩 ------------------\n",
    "import torch\t\t\t\t\t\t\t\t# 텐서 및 기본 텐서 제어 함수들 모듈\n",
    "import torch.nn.functional as F\t\t\t\t# 인공신경망 관련 모듈 \n",
    "from  torch.utils.data import Dataset\t\t# 인공신경망 데이터 관련 클래스 및 함수들 \n",
    "from  torch.utils.data import DataLoader\t# 인공신경망 데이터 관련 클래스 및 함수들"
   ]
  },
  {
   "cell_type": "code",
   "execution_count": null,
   "metadata": {},
   "outputs": [],
   "source": [
    "# Custom Dataset 생성 \n",
    "class CustomDataset(Dataset):\n",
    "\t# 초기화 \n",
    "\tdef __init__(self):\n",
    "\t\tprint('__init__')\n",
    "\t\tself.X_data = [[73,80,75],\n",
    "\t\t\t\t\t  [93,88,93],\n",
    "\t\t\t\t\t  [89,91,90],\n",
    "\t\t\t\t\t  [96,98,100],\n",
    "\t\t\t\t\t  [73,66,70]]\n",
    "\t\tself.y_data = [[152],[185],[180],[196],[142]]\n",
    "\t\n",
    "\t# 총 데이터 개수 \n",
    "\tdef __len__(self):\n",
    "\t\tprint('__len__')\n",
    "\n",
    "\t\treturn len(self.X_data)\n",
    "\t\n",
    "\tdef __getitem__(self, idx):\n",
    "\t\tprint('__getitem__')\n",
    "\t\tx = torch.FloatTensor(self.X_data[idx])\n",
    "\t\ty = torch.FloatTensor(self.y_data[idx])\n",
    "\t\treturn x,y"
   ]
  },
  {
   "cell_type": "code",
   "execution_count": 3,
   "metadata": {},
   "outputs": [
    {
     "name": "stdout",
     "output_type": "stream",
     "text": [
      "__init__\n"
     ]
    }
   ],
   "source": [
    "# Dataset 객체 생성 --------------------\n",
    "\n",
    "dataset = CustomDataset()"
   ]
  },
  {
   "cell_type": "code",
   "execution_count": 4,
   "metadata": {},
   "outputs": [
    {
     "name": "stdout",
     "output_type": "stream",
     "text": [
      "__len__\n"
     ]
    },
    {
     "data": {
      "text/plain": [
       "5"
      ]
     },
     "execution_count": 4,
     "metadata": {},
     "output_type": "execute_result"
    }
   ],
   "source": [
    "# Dataset 객체 확인\n",
    "len(dataset)"
   ]
  },
  {
   "cell_type": "code",
   "execution_count": 5,
   "metadata": {},
   "outputs": [
    {
     "name": "stdout",
     "output_type": "stream",
     "text": [
      "__len__\n",
      "원소갯수  5\n",
      "__getitem__\n",
      "1번 원소/원소 (tensor([93., 88., 93.]), tensor([185.]))\n"
     ]
    }
   ],
   "source": [
    "# Dataset 객체확인\n",
    "print('원소갯수 ', len(dataset))\n",
    "print('1번 원소/원소', dataset[1])"
   ]
  },
  {
   "cell_type": "markdown",
   "metadata": {},
   "source": [
    "[2] DataLoader 로 데이터 로딩 <hr>"
   ]
  },
  {
   "cell_type": "code",
   "execution_count": 6,
   "metadata": {},
   "outputs": [
    {
     "name": "stdout",
     "output_type": "stream",
     "text": [
      "__len__\n",
      "__len__\n"
     ]
    }
   ],
   "source": [
    "dLoader = DataLoader(dataset,\t\t\t\t# 학습에 사용할 데이터셋 객체\n",
    "\t\t\t\t\t  batch_size=3, \t\t# 한번에 학습할 데이터 갯수\n",
    "\t\t\t\t\t  shuffle=True)\t\t\t# 데이터셋 섞기"
   ]
  },
  {
   "cell_type": "code",
   "execution_count": 7,
   "metadata": {},
   "outputs": [
    {
     "data": {
      "text/plain": [
       "3"
      ]
     },
     "execution_count": 7,
     "metadata": {},
     "output_type": "execute_result"
    }
   ],
   "source": [
    "# DataLoader 객체 속성\n",
    "# 한번에 학습할 데이터 양\n",
    "dLoader.batch_size "
   ]
  },
  {
   "cell_type": "code",
   "execution_count": 8,
   "metadata": {},
   "outputs": [
    {
     "data": {
      "text/plain": [
       "[[152], [185], [180], [196], [142]]"
      ]
     },
     "execution_count": 8,
     "metadata": {},
     "output_type": "execute_result"
    }
   ],
   "source": [
    "# 학습에 사용할 데이터셋 \n",
    "dLoader.dataset.y_data"
   ]
  },
  {
   "cell_type": "code",
   "execution_count": null,
   "metadata": {},
   "outputs": [
    {
     "name": "stdout",
     "output_type": "stream",
     "text": [
      "__len__\n",
      "__len__\n",
      "__getitem__\n",
      "__getitem__\n",
      "__getitem__\n",
      "tensor([[ 73.,  80.,  75.],\n",
      "        [ 96.,  98., 100.],\n",
      "        [ 93.,  88.,  93.]])\n",
      "tensor([[152.],\n",
      "        [196.],\n",
      "        [185.]])\n",
      "==================================================\n",
      "__len__\n",
      "__getitem__\n",
      "__getitem__\n",
      "tensor([[89., 91., 90.],\n",
      "        [73., 66., 70.]])\n",
      "tensor([[180.],\n",
      "        [142.]])\n",
      "==================================================\n"
     ]
    },
    {
     "ename": "",
     "evalue": "",
     "output_type": "error",
     "traceback": [
      "\u001b[1;31mThe Kernel crashed while executing code in the current cell or a previous cell. \n",
      "\u001b[1;31mPlease review the code in the cell(s) to identify a possible cause of the failure. \n",
      "\u001b[1;31mClick <a href='https://aka.ms/vscodeJupyterKernelCrash'>here</a> for more info. \n",
      "\u001b[1;31mView Jupyter <a href='command:jupyter.viewOutput'>log</a> for further details."
     ]
    }
   ],
   "source": [
    "# 데이터 추출\n",
    "\n",
    "for feature, label in dLoader :\n",
    "\tprint(feature, label, sep='\\n')\n",
    "\tprint('='*50)"
   ]
  },
  {
   "cell_type": "code",
   "execution_count": null,
   "metadata": {},
   "outputs": [],
   "source": []
  }
 ],
 "metadata": {
  "kernelspec": {
   "display_name": "DL_TORCH",
   "language": "python",
   "name": "python3"
  },
  "language_info": {
   "codemirror_mode": {
    "name": "ipython",
    "version": 3
   },
   "file_extension": ".py",
   "mimetype": "text/x-python",
   "name": "python",
   "nbconvert_exporter": "python",
   "pygments_lexer": "ipython3",
   "version": "3.9.21"
  }
 },
 "nbformat": 4,
 "nbformat_minor": 2
}
