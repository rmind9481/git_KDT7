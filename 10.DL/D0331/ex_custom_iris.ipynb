{
 "cells": [
  {
   "cell_type": "markdown",
   "metadata": {},
   "source": [
    "# [Custom Dataset]\n",
    "\n",
    "* 데이터셋 : irsi.csv\n",
    "* 커스텀 데이터셋 : IrisDataset"
   ]
  },
  {
   "cell_type": "code",
   "execution_count": 13,
   "metadata": {},
   "outputs": [],
   "source": [
    "# 모듈로딩\n",
    "\n",
    "import torch\t\t\t\t\t\t\t\t\t\t# tensor 및 기본 처리 함수들\n",
    "import torch.nn as nn\t\t\t\t\t\t\t\t# 신경망 클래스들 관련\n",
    "from torch.utils.data import Dataset,DataLoader\t\t# 데이터셋 관련\n",
    "\n",
    "import pandas as pd\t\t\t\t\t\t\t\t\t# 데이터 전처리 관련\n",
    "import numpy as np\t\t\t\t\t\t\t\t\t# 데이터 로우데이터 관련"
   ]
  },
  {
   "cell_type": "code",
   "execution_count": 14,
   "metadata": {},
   "outputs": [],
   "source": [
    "DATA_FILE = '../Data/iris.csv'"
   ]
  },
  {
   "cell_type": "code",
   "execution_count": 15,
   "metadata": {},
   "outputs": [
    {
     "name": "stdout",
     "output_type": "stream",
     "text": [
      "<class 'pandas.core.frame.DataFrame'>\n",
      "RangeIndex: 150 entries, 0 to 149\n",
      "Data columns (total 5 columns):\n",
      " #   Column        Non-Null Count  Dtype  \n",
      "---  ------        --------------  -----  \n",
      " 0   sepal.length  150 non-null    float64\n",
      " 1   sepal.width   150 non-null    float64\n",
      " 2   petal.length  150 non-null    float64\n",
      " 3   petal.width   150 non-null    float64\n",
      " 4   variety       150 non-null    object \n",
      "dtypes: float64(4), object(1)\n",
      "memory usage: 6.0+ KB\n"
     ]
    }
   ],
   "source": [
    "# 데이터 로딩\n",
    "irisDF = pd.read_csv(DATA_FILE)\n",
    "irisDF.info()"
   ]
  },
  {
   "cell_type": "markdown",
   "metadata": {},
   "source": [
    "# [2] 데이터 전처리"
   ]
  },
  {
   "cell_type": "code",
   "execution_count": 16,
   "metadata": {},
   "outputs": [
    {
     "data": {
      "text/plain": [
       "array(['Setosa', 'Versicolor', 'Virginica'], dtype=object)"
      ]
     },
     "execution_count": 16,
     "metadata": {},
     "output_type": "execute_result"
    }
   ],
   "source": [
    "# variety \n",
    "irisDF.variety.unique()"
   ]
  },
  {
   "cell_type": "code",
   "execution_count": 17,
   "metadata": {},
   "outputs": [
    {
     "name": "stdout",
     "output_type": "stream",
     "text": [
      "sepal.length    float64\n",
      "sepal.width     float64\n",
      "petal.length    float64\n",
      "petal.width     float64\n",
      "variety           int64\n",
      "dtype: object\n"
     ]
    },
    {
     "name": "stderr",
     "output_type": "stream",
     "text": [
      "C:\\Users\\KDT17\\AppData\\Local\\Temp\\ipykernel_24188\\3836138713.py:2: FutureWarning: Downcasting behavior in `replace` is deprecated and will be removed in a future version. To retain the old behavior, explicitly call `result.infer_objects(copy=False)`. To opt-in to the future behavior, set `pd.set_option('future.no_silent_downcasting', True)`\n",
      "  irisDF.variety = irisDF.variety.replace({'Setosa': 0,'Versicolor': 1,'Virginica':2})\n"
     ]
    }
   ],
   "source": [
    "# 'Setosa', 'Versicolor', 'Virginica' ==> 0,1,2 변경\n",
    "irisDF.variety = irisDF.variety.replace({'Setosa': 0,'Versicolor': 1,'Virginica':2})\n",
    "\n",
    "print(irisDF.dtypes)"
   ]
  },
  {
   "cell_type": "markdown",
   "metadata": {},
   "source": [
    "# [3] 커스텀 데이터셋 클래스 설계 및 구현"
   ]
  },
  {
   "cell_type": "code",
   "execution_count": 18,
   "metadata": {},
   "outputs": [],
   "source": [
    "# iris 전용 데이터셋 클래스\n",
    "\n",
    "class IrisDataset(Dataset):\n",
    "\t# 피쳐와 타겟 분리 및 전처리\n",
    "\tdef __init__(self, featureDF, targetDF):\n",
    "\t\tsuper().__init__()\n",
    "\t\tself.feature = featureDF\n",
    "\t\tself.target = targetDF\n",
    "\t\tself.rows = featureDF.shape[0]\n",
    "\t\tself.cols = featureDF.shape[1]\n",
    "\t\n",
    "\t# 데이터셋의 샘플 수 반환 메서드\n",
    "\tdef __len__(self):\n",
    "\t\treturn self.rows\n",
    "\t# DataLoader 에서 batch_size 만큼 호출하는 메서드\n",
    "\t# 인덱스에 해당하는  피쳐와 타겟 변환 단, Tensor 형태\n",
    "\n",
    "\tdef __getitem__(self, index):\n",
    "\t\tarrFeature = self.feature.iloc[index].values\t\t\t# ndarray\n",
    "\t\tarrTarget = self.target.iloc[index].values\t\t\t\t# ndarray\n",
    "\t\treturn torch.FloatTensor(arrFeature), torch.FloatTensor(arrTarget)"
   ]
  },
  {
   "cell_type": "code",
   "execution_count": 19,
   "metadata": {},
   "outputs": [
    {
     "name": "stdout",
     "output_type": "stream",
     "text": [
      "featureDF => (150, 4), targetDF => (150, 1)\n"
     ]
    }
   ],
   "source": [
    "# 데이터셋 인스턴스 생성 \n",
    "featureDF = irisDF[irisDF.columns[:-1]]\n",
    "targetDF = irisDF[irisDF.columns[-1:]]\n",
    "\n",
    "print(f'featureDF => {featureDF.shape}, targetDF => {targetDF.shape}')"
   ]
  },
  {
   "cell_type": "code",
   "execution_count": 34,
   "metadata": {},
   "outputs": [
    {
     "data": {
      "text/plain": [
       "(tensor([4.9000, 3.0000, 1.4000, 0.2000]), tensor([0.]))"
      ]
     },
     "execution_count": 34,
     "metadata": {},
     "output_type": "execute_result"
    }
   ],
   "source": [
    "# 확인\n",
    "dataset = IrisDataset(featureDF, targetDF)\n",
    "dataset[1]"
   ]
  },
  {
   "cell_type": "markdown",
   "metadata": {},
   "source": [
    "# [4] DataLoader 연동 <hr> "
   ]
  },
  {
   "cell_type": "code",
   "execution_count": 42,
   "metadata": {},
   "outputs": [
    {
     "data": {
      "text/plain": [
       "<torch.utils.data.dataloader.DataLoader at 0x2a22ea16f40>"
      ]
     },
     "execution_count": 42,
     "metadata": {},
     "output_type": "execute_result"
    }
   ],
   "source": [
    "# DataLoader 인스턴스 생성\n",
    "\n",
    "loader = DataLoader(dataset, batch_size=3,shuffle=True)\n",
    "loader\n"
   ]
  },
  {
   "cell_type": "code",
   "execution_count": 41,
   "metadata": {},
   "outputs": [
    {
     "name": "stdout",
     "output_type": "stream",
     "text": [
      "tensor([[5.1000, 3.5000, 1.4000, 0.2000],\n",
      "        [4.9000, 3.0000, 1.4000, 0.2000],\n",
      "        [4.7000, 3.2000, 1.3000, 0.2000]])\n",
      "tensor([[0.],\n",
      "        [0.],\n",
      "        [0.]])\n"
     ]
    }
   ],
   "source": [
    "for feature, target in loader:\n",
    "\tprint(feature,target, sep='\\n')\n",
    "\tbreak"
   ]
  },
  {
   "cell_type": "code",
   "execution_count": null,
   "metadata": {},
   "outputs": [],
   "source": []
  }
 ],
 "metadata": {
  "kernelspec": {
   "display_name": "DL_TORCH",
   "language": "python",
   "name": "python3"
  },
  "language_info": {
   "codemirror_mode": {
    "name": "ipython",
    "version": 3
   },
   "file_extension": ".py",
   "mimetype": "text/x-python",
   "name": "python",
   "nbconvert_exporter": "python",
   "pygments_lexer": "ipython3",
   "version": "3.9.21"
  }
 },
 "nbformat": 4,
 "nbformat_minor": 2
}
