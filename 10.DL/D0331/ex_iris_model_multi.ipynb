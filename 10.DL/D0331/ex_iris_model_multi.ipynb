{
 "cells": [
  {
   "cell_type": "markdown",
   "metadata": {},
   "source": [
    "#### [ Pytorch DL MODEL 실습 ]"
   ]
  },
  {
   "cell_type": "markdown",
   "metadata": {},
   "source": [
    "- 데이터셋 : iris.csv \n",
    "- 학습방법 : 지도학습 + 분류 ==>  다중분류"
   ]
  },
  {
   "cell_type": "markdown",
   "metadata": {},
   "source": [
    "[1] 모듈로딩 및 데이터 준비<hr>"
   ]
  },
  {
   "cell_type": "code",
   "execution_count": 1,
   "metadata": {},
   "outputs": [],
   "source": [
    "## 모듈로딩\n",
    "import pandas as pd                                     ## 데이터 관련 모듈들\n",
    "import numpy as np \n",
    "\n",
    "import torch                                            ## Tensor 및 기본 함수들 관련 모듈들\n",
    "import torch.nn as nn                                   ## 인공신경망 관련 모듈들\n",
    "import torch.nn.functional as F                         ## 인공신경망 관련 함수들\n",
    "import torch.optim as optim                             ## 최적화 모듈\n",
    "\n",
    "from sklearn.model_selection import train_test_split    ## 학습용 데이터셋 관련 함수\n",
    "from torch.utils.data import Dataset, DataLoader \t\t\t\t# 학습 데이터셋 관련모듈"
   ]
  },
  {
   "cell_type": "code",
   "execution_count": 2,
   "metadata": {},
   "outputs": [],
   "source": [
    "## 데이터 준비\n",
    "DATA_FILE = '../Data/iris.csv'"
   ]
  },
  {
   "cell_type": "markdown",
   "metadata": {},
   "source": [
    "[2] 데이터 로딩 및 확인<hr>"
   ]
  },
  {
   "cell_type": "code",
   "execution_count": 3,
   "metadata": {},
   "outputs": [
    {
     "name": "stdout",
     "output_type": "stream",
     "text": [
      "<class 'pandas.core.frame.DataFrame'>\n",
      "RangeIndex: 150 entries, 0 to 149\n",
      "Data columns (total 5 columns):\n",
      " #   Column        Non-Null Count  Dtype  \n",
      "---  ------        --------------  -----  \n",
      " 0   sepal.length  150 non-null    float64\n",
      " 1   sepal.width   150 non-null    float64\n",
      " 2   petal.length  150 non-null    float64\n",
      " 3   petal.width   150 non-null    float64\n",
      " 4   variety       150 non-null    object \n",
      "dtypes: float64(4), object(1)\n",
      "memory usage: 6.0+ KB\n"
     ]
    }
   ],
   "source": [
    "## 데이터 로딩\n",
    "irisDF = pd.read_csv(DATA_FILE)\n",
    "\n",
    "irisDF.info()"
   ]
  },
  {
   "cell_type": "code",
   "execution_count": 4,
   "metadata": {},
   "outputs": [
    {
     "data": {
      "text/plain": [
       "array(['Setosa', 'Versicolor', 'Virginica'], dtype=object)"
      ]
     },
     "execution_count": 4,
     "metadata": {},
     "output_type": "execute_result"
    }
   ],
   "source": [
    "## 데이터 확인\n",
    "irisDF.variety.unique()"
   ]
  },
  {
   "cell_type": "code",
   "execution_count": 5,
   "metadata": {},
   "outputs": [],
   "source": [
    "pd.set_option('future.no_silent_downcasting', True)\n",
    "irisDF.variety=irisDF.variety.replace({'Setosa':0, 'Versicolor':1, 'Virginica':2})"
   ]
  },
  {
   "cell_type": "code",
   "execution_count": 6,
   "metadata": {},
   "outputs": [
    {
     "data": {
      "text/plain": [
       "sepal.length    float64\n",
       "sepal.width     float64\n",
       "petal.length    float64\n",
       "petal.width     float64\n",
       "variety           int64\n",
       "dtype: object"
      ]
     },
     "execution_count": 6,
     "metadata": {},
     "output_type": "execute_result"
    }
   ],
   "source": [
    "irisDF.variety=irisDF.variety.astype('int')\n",
    "irisDF.dtypes"
   ]
  },
  {
   "cell_type": "markdown",
   "metadata": {},
   "source": [
    "[3] 데이터 셋 준비<hr>"
   ]
  },
  {
   "cell_type": "code",
   "execution_count": 7,
   "metadata": {},
   "outputs": [
    {
     "name": "stdout",
     "output_type": "stream",
     "text": [
      "[FeatureDF] (150, 4), 2D\n",
      "[targetSR]  (150,),  1D\n"
     ]
    }
   ],
   "source": [
    "## 피쳐와 타겟 분리 \n",
    "featureDF =irisDF[irisDF.columns[:-1]]   # Feature 4개\n",
    "targetSR = irisDF[irisDF.columns[-1]]    # 품종 1개\n",
    "\n",
    "print(f'[FeatureDF] {featureDF.shape}, {featureDF.ndim}D')\n",
    "print(f'[targetSR]  {targetSR.shape},  {targetSR.ndim}D')"
   ]
  },
  {
   "cell_type": "code",
   "execution_count": 8,
   "metadata": {},
   "outputs": [
    {
     "name": "stdout",
     "output_type": "stream",
     "text": [
      "[X_train] (120, 4), 2D  [y_train] (120,), 1D\n",
      "[X_test]  (30, 4), 2D  [y_test] (30,), 1D\n"
     ]
    }
   ],
   "source": [
    "## 학습용, 테스트용 데이터셋 분리 \n",
    "X_train, X_test, y_train, y_test = train_test_split(featureDF, \n",
    "                                                    targetSR, \n",
    "                                                    test_size=0.2,\n",
    "                                                    stratify=targetSR,\n",
    "                                                    random_state=42)\n",
    "\n",
    "print(f'[X_train] {X_train.shape}, {X_train.ndim}D  [y_train] {y_train.shape}, {y_train.ndim}D')\n",
    "print(f'[X_test]  {X_test.shape}, {X_test.ndim}D  [y_test] {y_test.shape}, {y_test.ndim}D')\n"
   ]
  },
  {
   "cell_type": "code",
   "execution_count": 9,
   "metadata": {},
   "outputs": [],
   "source": [
    "X_test = X_test.reset_index(drop=True)\n",
    "y_test = y_test.reset_index(drop=True)"
   ]
  },
  {
   "cell_type": "markdown",
   "metadata": {},
   "source": [
    "[4] 모델 설계 및 클래스 구현<hr>"
   ]
  },
  {
   "cell_type": "code",
   "execution_count": 10,
   "metadata": {},
   "outputs": [],
   "source": [
    "# 모델 클래스 설계 ----------------------------------------------------------------------\n",
    "## 회귀용 커스텀 모델 \n",
    "## 클래스이름 : IrisModel\n",
    "## 부모클래스 : nn.Module\n",
    "## 모델층구성   입력신호/피쳐수       출력신호수/퍼셉트론수       활성화함수\n",
    "## - 입력층  :      4                     100                 ReLu\n",
    "## - 은닉층  :     100                     30                 ReLu \n",
    "## - 출력층  :      30                     3                  Softmax => 손실함수 내 포함\n",
    "## - -----------------------------------------------------------------------------------\n",
    "class IrisModel(nn.Module):\n",
    "    ## 모델 층 설계 및 초기화 메서드 \n",
    "    def __init__(self):\n",
    "        super().__init__()\n",
    "        self.in_layer  = nn.Linear(4,  100)\n",
    "        self.hd_layer  = nn.Linear(100, 30)\n",
    "        self.out_layer = nn.Linear(30,  3)\n",
    "\n",
    "    ## 학습 진행 메서드 \n",
    "    def forward(self, data):\n",
    "        ## 입력층\n",
    "        out = F.relu( self.in_layer(data) )\n",
    "        ## 은닉층\n",
    "        out = F.relu( self.hd_layer(out) )\n",
    "        ## 출력층\n",
    "        return self.out_layer(out) \n",
    "    "
   ]
  },
  {
   "cell_type": "code",
   "execution_count": 11,
   "metadata": {},
   "outputs": [
    {
     "data": {
      "text/plain": [
       "pandas.core.frame.DataFrame"
      ]
     },
     "execution_count": 11,
     "metadata": {},
     "output_type": "execute_result"
    }
   ],
   "source": [
    "# Series => DataFrame : to_frame()\n",
    "\n",
    "type(y_train.to_frame())"
   ]
  },
  {
   "cell_type": "code",
   "execution_count": 12,
   "metadata": {},
   "outputs": [
    {
     "data": {
      "text/plain": [
       "array([[0]])"
      ]
     },
     "execution_count": 12,
     "metadata": {},
     "output_type": "execute_result"
    }
   ],
   "source": [
    "y_train[8].reshape(-1,1)"
   ]
  },
  {
   "cell_type": "code",
   "execution_count": 13,
   "metadata": {},
   "outputs": [
    {
     "data": {
      "text/plain": [
       "pandas.core.series.Series"
      ]
     },
     "execution_count": 13,
     "metadata": {},
     "output_type": "execute_result"
    }
   ],
   "source": [
    "# 여러개 원소 추출시 series 로 결과\n",
    "type(y_train[[8,106]])"
   ]
  },
  {
   "cell_type": "markdown",
   "metadata": {},
   "source": [
    "# [4]  커스텀 데이터셋 클래스 설계 및 구현<hr>"
   ]
  },
  {
   "cell_type": "code",
   "execution_count": 14,
   "metadata": {},
   "outputs": [],
   "source": [
    "# iris 전용 데이터셋 클래스\n",
    "\n",
    "class IrisDataset(Dataset):\n",
    "\t# 피쳐와 타겟 분리 및 전처리\n",
    "\tdef __init__(self, featureDF, targetDF):\n",
    "\t\tsuper().__init__()\n",
    "\t\tself.feature = featureDF\n",
    "\t\tself.target = targetDF\n",
    "\t\tself.rows = featureDF.shape[0]\n",
    "\t\tself.cols = featureDF.shape[1]\n",
    "\t\n",
    "\t# 데이터셋의 샘플 수 반환 메서드\n",
    "\tdef __len__(self):\n",
    "\t\treturn self.rows\n",
    "\t# DataLoader 에서 batch_size 만큼 호출하는 메서드\n",
    "\t# 인덱스에 해당하는  피쳐와 타겟 변환 단, Tensor 형태\n",
    "\n",
    "\tdef __getitem__(self, index):\n",
    "\t\tprint('__getitem__()', index)\n",
    "\t\tarrFeature = self.feature.iloc[index].values\t\t\t# ndarray\n",
    "\t\tarrTarget = self.target[index].reshape(-1)              # ndarray로 변환 2D => 1D 변환 (필요에 따라)\n",
    "\t\treturn torch.FloatTensor(arrFeature), torch.FloatTensor(arrTarget)\n",
    "\n"
   ]
  },
  {
   "cell_type": "code",
   "execution_count": 27,
   "metadata": {},
   "outputs": [
    {
     "name": "stdout",
     "output_type": "stream",
     "text": [
      "__getitem__() 1\n",
      "<class '__main__.IrisDataset'>\n"
     ]
    }
   ],
   "source": [
    "trainDS = IrisDataset(X_train,y_train)\n",
    "trainDS[1]\n",
    "print(type(trainDS))"
   ]
  },
  {
   "cell_type": "code",
   "execution_count": 16,
   "metadata": {},
   "outputs": [
    {
     "name": "stdout",
     "output_type": "stream",
     "text": [
      "__getitem__() 0\n",
      "__getitem__() 1\n",
      "__getitem__() 2\n",
      "tensor([[4.4000, 2.9000, 1.4000, 0.2000],\n",
      "        [4.9000, 2.5000, 4.5000, 1.7000],\n",
      "        [6.8000, 2.8000, 4.8000, 1.4000]])\n",
      "tensor([[0.],\n",
      "        [0.],\n",
      "        [0.]])\n"
     ]
    }
   ],
   "source": [
    "# DataLoader 로 확인\n",
    "trainDL = DataLoader(dataset=trainDS, batch_size=3)\n",
    "for feature, label in trainDL:\n",
    "\tprint(feature, label, sep='\\n' )\n",
    "\tbreak"
   ]
  },
  {
   "cell_type": "code",
   "execution_count": 17,
   "metadata": {},
   "outputs": [
    {
     "name": "stdout",
     "output_type": "stream",
     "text": [
      "__getitem__() 1\n",
      "(tensor([4.9000, 2.5000, 4.5000, 1.7000]), tensor([0.]))\n",
      "    sepal.length  sepal.width  petal.length  petal.width\n",
      "0            4.4          3.0           1.3          0.2\n",
      "1            6.1          3.0           4.9          1.8\n",
      "2            4.9          2.4           3.3          1.0\n",
      "3            5.0          2.3           3.3          1.0\n",
      "4            4.4          3.2           1.3          0.2\n",
      "5            6.3          3.3           4.7          1.6\n",
      "6            4.6          3.6           1.0          0.2\n",
      "7            5.4          3.4           1.7          0.2\n",
      "8            6.5          3.0           5.2          2.0\n",
      "9            5.4          3.0           4.5          1.5\n",
      "10           7.3          2.9           6.3          1.8\n",
      "11           6.9          3.1           5.1          2.3\n",
      "12           6.5          3.0           5.8          2.2\n",
      "13           6.4          3.2           4.5          1.5\n",
      "14           5.0          3.4           1.5          0.2\n",
      "15           5.0          3.3           1.4          0.2\n",
      "16           5.8          4.0           1.2          0.2\n",
      "17           5.6          2.5           3.9          1.1\n",
      "18           6.1          2.9           4.7          1.4\n",
      "19           6.0          3.0           4.8          1.8\n",
      "20           5.4          3.7           1.5          0.2\n",
      "21           6.7          3.1           5.6          2.4\n",
      "22           6.6          2.9           4.6          1.3\n",
      "23           6.1          2.6           5.6          1.4\n",
      "24           6.4          2.8           5.6          2.2\n",
      "25           6.7          3.0           5.0          1.7\n",
      "26           6.6          3.0           4.4          1.4\n",
      "27           5.7          3.8           1.7          0.3\n",
      "28           6.5          3.0           5.5          1.8\n",
      "29           5.2          3.4           1.4          0.2 0     0\n",
      "1     2\n",
      "2     1\n",
      "3     1\n",
      "4     0\n",
      "5     1\n",
      "6     0\n",
      "7     0\n",
      "8     2\n",
      "9     1\n",
      "10    2\n",
      "11    2\n",
      "12    2\n",
      "13    1\n",
      "14    0\n",
      "15    0\n",
      "16    0\n",
      "17    1\n",
      "18    1\n",
      "19    2\n",
      "20    0\n",
      "21    2\n",
      "22    1\n",
      "23    2\n",
      "24    2\n",
      "25    1\n",
      "26    1\n",
      "27    0\n",
      "28    2\n",
      "29    0\n",
      "Name: variety, dtype: int64\n"
     ]
    }
   ],
   "source": [
    "# 학습 => train 용 DataSet 필수\n",
    "# \t   => Test 용 Dataset 선택 => 데이터가 많드면 DS,DL 생성사용\n",
    "# \t\t\t\t\t\t\t  => 데이터가 많지 않다면 DS, DL 생성 필요 X\n",
    "trainDS = IrisDataset(X_train,y_train)\n",
    "testDS = IrisDataset(X_test,y_test)\n",
    "\n",
    "print(trainDS[1])\n",
    "print(testDS.feature, testDS.target)\n"
   ]
  },
  {
   "cell_type": "code",
   "execution_count": 28,
   "metadata": {},
   "outputs": [
    {
     "name": "stdout",
     "output_type": "stream",
     "text": [
      "__getitem__() 0\n",
      "__getitem__() 1\n",
      "__getitem__() 2\n",
      "tensor([[4.4000, 3.0000, 1.3000, 0.2000],\n",
      "        [6.1000, 3.0000, 4.9000, 1.8000],\n",
      "        [4.9000, 2.4000, 3.3000, 1.0000]])\n",
      "tensor([[0.],\n",
      "        [2.],\n",
      "        [1.]])\n"
     ]
    }
   ],
   "source": [
    "# DataLoader 로 확인\n",
    "testDL = DataLoader(dataset=testDS, batch_size=3)\n",
    "for feature, label in testDL:\n",
    "\tprint(feature, label, sep='\\n' )\n",
    "\tbreak"
   ]
  },
  {
   "cell_type": "code",
   "execution_count": 19,
   "metadata": {},
   "outputs": [
    {
     "name": "stdout",
     "output_type": "stream",
     "text": [
      "IrisModel(\n",
      "  (in_layer): Linear(in_features=4, out_features=100, bias=True)\n",
      "  (hd_layer): Linear(in_features=100, out_features=30, bias=True)\n",
      "  (out_layer): Linear(in_features=30, out_features=3, bias=True)\n",
      ")\n"
     ]
    },
    {
     "data": {
      "text/plain": [
       "tensor([[-0.1306,  0.4227,  0.3543]], grad_fn=<AddmmBackward0>)"
      ]
     },
     "execution_count": 19,
     "metadata": {},
     "output_type": "execute_result"
    }
   ],
   "source": [
    "## 모델 구조 확인\n",
    "model = IrisModel()\n",
    "print( model )\n",
    "\n",
    "## shape 체크\n",
    "data = torch.FloatTensor( [[1.,3.2, 1.9, 2.6]] )   # (1, 4)\n",
    "model(data)"
   ]
  },
  {
   "cell_type": "markdown",
   "metadata": {},
   "source": [
    "[5] 학습 준비 <hr>"
   ]
  },
  {
   "cell_type": "markdown",
   "metadata": {},
   "source": [
    "- [5-1]학습 관련 설정들"
   ]
  },
  {
   "cell_type": "code",
   "execution_count": 20,
   "metadata": {},
   "outputs": [
    {
     "name": "stdout",
     "output_type": "stream",
     "text": [
      "DEVICE : cpu, EPOCHS : 100, BATCH_SIZE : 40 ITERATION : 3\n"
     ]
    }
   ],
   "source": [
    "\n",
    "EPOCHS      = 100                                   # 학습용 DS을 처음부터 끝까지 1번 학습하는 것을 에포크\n",
    "BATCH_SIZE  = 40                                    # DS을 학습량 만큼 나눈 사이즈 \n",
    "ITERATION   = int(X_train.shape[0]/BATCH_SIZE)      # 학습용 DS이 분리된 수 => 1에포크에 W, b 업데이트 횟수\n",
    "\n",
    "# 학습, 데이터셋 로딩 등 GPU에서 실행 여부 설정 \n",
    "DEVICE      = 'cuda' if torch.cuda.is_available() else 'cpu'\n",
    "\n",
    "print(f'DEVICE : {DEVICE}, EPOCHS : {EPOCHS}, BATCH_SIZE : {BATCH_SIZE} ITERATION : {ITERATION}')"
   ]
  },
  {
   "cell_type": "markdown",
   "metadata": {},
   "source": [
    "- [5-2] 학습 관련 인스턴스들"
   ]
  },
  {
   "cell_type": "code",
   "execution_count": 21,
   "metadata": {},
   "outputs": [],
   "source": [
    "\n",
    "LR        = 0.01  \n",
    "MODEL     = IrisModel()                             ## 학습 모델\n",
    "OPTIMIZER = optim.Adam(MODEL.parameters(), lr=LR)   ## 최적화 즉, 경사하강법 알고리즘으로 W, b의 값 갱신\n",
    "LOSS_FN   = nn.CrossEntropyLoss()                   ## 다중분류 손실함수\n"
   ]
  },
  {
   "cell_type": "markdown",
   "metadata": {},
   "source": [
    "- [5-3] 학습관련 함수들"
   ]
  },
  {
   "cell_type": "code",
   "execution_count": 29,
   "metadata": {},
   "outputs": [],
   "source": [
    "\n",
    "##- 검증 함수 --------------------------------------------\n",
    "##- 검증용 데이터셋으로 모델 검증\n",
    "##- 학습 지속여부 결정 기준이 됨\n",
    "##- -----------------------------------------------------\n",
    "def evaluate():\n",
    "    # 에포크 단위로 검증 => 검증 모드\n",
    "    MODEL.eval()\n",
    "    \n",
    "    # W, b가 업데이트 해제\n",
    "    with torch.no_grad():\n",
    "        # 검증용 데이터셋 => 텐서화 ndarray ==> tensor변환\n",
    "        x = testDS[0]\n",
    "        y = testDS[1]\n",
    "        # x = torch.FloatTensor(X_test.values) \n",
    "        # y = torch.FloatTensor(y_test.values)\n",
    "        \n",
    "        # 검증진행\n",
    "        pre_y= MODEL(x)\n",
    "        \n",
    "        # 손실 계산\n",
    "        loss = LOSS_FN(pre_y, y.reshape(-1).long())\n",
    "\n",
    "    return loss.item()"
   ]
  },
  {
   "cell_type": "code",
   "execution_count": 23,
   "metadata": {},
   "outputs": [],
   "source": [
    "##- 학습 함수 --------------------------------------------\n",
    "##- 학습용 데이터셋으로 모델 검증\n",
    "##- -----------------------------------------------------\n",
    "def training():\n",
    "    # 학습 모드 설정\n",
    "    model.train()\n",
    "\n",
    "    E_LOSS=0\n",
    "    for i in range(ITERATION): \n",
    "        start = i*BATCH_SIZE\n",
    "        end = start + BATCH_SIZE\n",
    "\n",
    "        # ndarray ==> tensor변환\n",
    "        x = torch.FloatTensor(X_train.values[start:end]) \n",
    "        y = torch.FloatTensor(y_train.values[start:end])\n",
    "                                                                    \n",
    "        # 가중치 기울기 0 초기화\n",
    "        OPTIMIZER.zero_grad()\n",
    "\n",
    "        # 학습 진행\n",
    "        pre_y = MODEL(x)\n",
    "\n",
    "        # 손실 계산\n",
    "        loss = LOSS_FN(pre_y, y.reshape(-1).long())\n",
    "        \n",
    "        # 역전파 진행\n",
    "        loss.backward()\n",
    "\n",
    "        # 가중치/절편 업데이트\n",
    "        OPTIMIZER.step()\n",
    "\n",
    "        E_LOSS += loss.item()\n",
    "\n",
    "    return E_LOSS/ITERATION"
   ]
  },
  {
   "cell_type": "code",
   "execution_count": 24,
   "metadata": {},
   "outputs": [
    {
     "name": "stdout",
     "output_type": "stream",
     "text": [
      "\n",
      "EPOCH[0/100]----------------\n",
      "- TRAIN_LOSS 1.11804\n",
      "- VALID_LOSS 0.97562\n",
      "\n",
      "EPOCH[1/100]----------------\n",
      "- TRAIN_LOSS 0.91620\n",
      "- VALID_LOSS 0.80865\n",
      "\n",
      "EPOCH[2/100]----------------\n",
      "- TRAIN_LOSS 0.74659\n",
      "- VALID_LOSS 0.62110\n",
      "\n",
      "EPOCH[3/100]----------------\n",
      "- TRAIN_LOSS 0.56257\n",
      "- VALID_LOSS 0.47638\n",
      "\n",
      "EPOCH[4/100]----------------\n",
      "- TRAIN_LOSS 0.44891\n",
      "- VALID_LOSS 0.40022\n",
      "\n",
      "EPOCH[5/100]----------------\n",
      "- TRAIN_LOSS 0.37646\n",
      "- VALID_LOSS 0.33514\n",
      "\n",
      "EPOCH[6/100]----------------\n",
      "- TRAIN_LOSS 0.30353\n",
      "- VALID_LOSS 0.26750\n",
      "\n",
      "EPOCH[7/100]----------------\n",
      "- TRAIN_LOSS 0.23847\n",
      "- VALID_LOSS 0.20852\n",
      "\n",
      "EPOCH[8/100]----------------\n",
      "- TRAIN_LOSS 0.18159\n",
      "- VALID_LOSS 0.16238\n",
      "\n",
      "EPOCH[9/100]----------------\n",
      "- TRAIN_LOSS 0.14627\n",
      "- VALID_LOSS 0.13539\n",
      "\n",
      "EPOCH[10/100]----------------\n",
      "- TRAIN_LOSS 0.11727\n",
      "- VALID_LOSS 0.10586\n",
      "\n",
      "EPOCH[11/100]----------------\n",
      "- TRAIN_LOSS 0.10131\n",
      "- VALID_LOSS 0.09014\n",
      "\n",
      "EPOCH[12/100]----------------\n",
      "- TRAIN_LOSS 0.09344\n",
      "- VALID_LOSS 0.08396\n",
      "\n",
      "EPOCH[13/100]----------------\n",
      "- TRAIN_LOSS 0.08348\n",
      "- VALID_LOSS 0.07155\n",
      "\n",
      "EPOCH[14/100]----------------\n",
      "- TRAIN_LOSS 0.08347\n",
      "- VALID_LOSS 0.06768\n",
      "\n",
      "EPOCH[15/100]----------------\n",
      "- TRAIN_LOSS 0.07861\n",
      "- VALID_LOSS 0.06203\n",
      "\n",
      "EPOCH[16/100]----------------\n",
      "- TRAIN_LOSS 0.07673\n",
      "- VALID_LOSS 0.05780\n",
      "\n",
      "EPOCH[17/100]----------------\n",
      "- TRAIN_LOSS 0.07626\n",
      "- VALID_LOSS 0.05691\n",
      "\n",
      "EPOCH[18/100]----------------\n",
      "- TRAIN_LOSS 0.07319\n",
      "- VALID_LOSS 0.05253\n",
      "\n",
      "EPOCH[19/100]----------------\n",
      "- TRAIN_LOSS 0.07420\n",
      "- VALID_LOSS 0.05229\n",
      "\n",
      "EPOCH[20/100]----------------\n",
      "- TRAIN_LOSS 0.07192\n",
      "- VALID_LOSS 0.04980\n",
      "\n",
      "EPOCH[21/100]----------------\n",
      "- TRAIN_LOSS 0.07194\n",
      "- VALID_LOSS 0.04871\n",
      "\n",
      "EPOCH[22/100]----------------\n",
      "- TRAIN_LOSS 0.07113\n",
      "- VALID_LOSS 0.04837\n",
      "\n",
      "EPOCH[23/100]----------------\n",
      "- TRAIN_LOSS 0.07006\n",
      "- VALID_LOSS 0.04658\n",
      "\n",
      "EPOCH[24/100]----------------\n",
      "- TRAIN_LOSS 0.07016\n",
      "- VALID_LOSS 0.04702\n",
      "\n",
      "EPOCH[25/100]----------------\n",
      "- TRAIN_LOSS 0.06889\n",
      "- VALID_LOSS 0.04550\n",
      "\n",
      "EPOCH[26/100]----------------\n",
      "- TRAIN_LOSS 0.06903\n",
      "- VALID_LOSS 0.04564\n",
      "\n",
      "EPOCH[27/100]----------------\n",
      "- TRAIN_LOSS 0.06812\n",
      "- VALID_LOSS 0.04498\n",
      "\n",
      "EPOCH[28/100]----------------\n",
      "- TRAIN_LOSS 0.06788\n",
      "- VALID_LOSS 0.04455\n",
      "\n",
      "EPOCH[29/100]----------------\n",
      "- TRAIN_LOSS 0.06743\n",
      "- VALID_LOSS 0.04457\n",
      "\n",
      "EPOCH[30/100]----------------\n",
      "- TRAIN_LOSS 0.06689\n",
      "- VALID_LOSS 0.04385\n",
      "\n",
      "EPOCH[31/100]----------------\n",
      "- TRAIN_LOSS 0.06669\n",
      "- VALID_LOSS 0.04408\n",
      "\n",
      "EPOCH[32/100]----------------\n",
      "- TRAIN_LOSS 0.06609\n",
      "- VALID_LOSS 0.04343\n",
      "\n",
      "EPOCH[33/100]----------------\n",
      "- TRAIN_LOSS 0.06594\n",
      "- VALID_LOSS 0.04354\n",
      "\n",
      "EPOCH[34/100]----------------\n",
      "- TRAIN_LOSS 0.06542\n",
      "- VALID_LOSS 0.04315\n",
      "\n",
      "EPOCH[35/100]----------------\n",
      "- TRAIN_LOSS 0.06520\n",
      "- VALID_LOSS 0.04304\n",
      "\n",
      "EPOCH[36/100]----------------\n",
      "- TRAIN_LOSS 0.06481\n",
      "- VALID_LOSS 0.04291\n",
      "\n",
      "EPOCH[37/100]----------------\n",
      "- TRAIN_LOSS 0.06450\n",
      "- VALID_LOSS 0.04264\n",
      "\n",
      "EPOCH[38/100]----------------\n",
      "- TRAIN_LOSS 0.06421\n",
      "- VALID_LOSS 0.04265\n",
      "\n",
      "EPOCH[39/100]----------------\n",
      "- TRAIN_LOSS 0.06386\n",
      "- VALID_LOSS 0.04234\n",
      "\n",
      "EPOCH[40/100]----------------\n",
      "- TRAIN_LOSS 0.06362\n",
      "- VALID_LOSS 0.04235\n",
      "\n",
      "EPOCH[41/100]----------------\n",
      "- TRAIN_LOSS 0.06328\n",
      "- VALID_LOSS 0.04210\n",
      "\n",
      "EPOCH[42/100]----------------\n",
      "- TRAIN_LOSS 0.06304\n",
      "- VALID_LOSS 0.04206\n",
      "\n",
      "EPOCH[43/100]----------------\n",
      "- TRAIN_LOSS 0.06273\n",
      "- VALID_LOSS 0.04192\n",
      "\n",
      "EPOCH[44/100]----------------\n",
      "- TRAIN_LOSS 0.06248\n",
      "- VALID_LOSS 0.04181\n",
      "\n",
      "EPOCH[45/100]----------------\n",
      "- TRAIN_LOSS 0.06220\n",
      "- VALID_LOSS 0.04171\n",
      "\n",
      "EPOCH[46/100]----------------\n",
      "- TRAIN_LOSS 0.06195\n",
      "- VALID_LOSS 0.04159\n",
      "\n",
      "EPOCH[47/100]----------------\n",
      "- TRAIN_LOSS 0.06169\n",
      "- VALID_LOSS 0.04154\n",
      "\n",
      "EPOCH[48/100]----------------\n",
      "- TRAIN_LOSS 0.06143\n",
      "- VALID_LOSS 0.04142\n",
      "\n",
      "EPOCH[49/100]----------------\n",
      "- TRAIN_LOSS 0.06119\n",
      "- VALID_LOSS 0.04138\n",
      "\n",
      "EPOCH[50/100]----------------\n",
      "- TRAIN_LOSS 0.06094\n",
      "- VALID_LOSS 0.04127\n",
      "\n",
      "EPOCH[51/100]----------------\n",
      "- TRAIN_LOSS 0.06071\n",
      "- VALID_LOSS 0.04122\n",
      "\n",
      "EPOCH[52/100]----------------\n",
      "- TRAIN_LOSS 0.06047\n",
      "- VALID_LOSS 0.04114\n",
      "\n",
      "EPOCH[53/100]----------------\n",
      "- TRAIN_LOSS 0.06024\n",
      "- VALID_LOSS 0.04109\n",
      "\n",
      "EPOCH[54/100]----------------\n",
      "- TRAIN_LOSS 0.06001\n",
      "- VALID_LOSS 0.04105\n",
      "\n",
      "EPOCH[55/100]----------------\n",
      "- TRAIN_LOSS 0.05979\n",
      "- VALID_LOSS 0.04099\n",
      "\n",
      "EPOCH[56/100]----------------\n",
      "- TRAIN_LOSS 0.05957\n",
      "- VALID_LOSS 0.04096\n",
      "\n",
      "EPOCH[57/100]----------------\n",
      "- TRAIN_LOSS 0.05935\n",
      "- VALID_LOSS 0.04091\n",
      "\n",
      "EPOCH[58/100]----------------\n",
      "- TRAIN_LOSS 0.05914\n",
      "- VALID_LOSS 0.04089\n",
      "\n",
      "EPOCH[59/100]----------------\n",
      "- TRAIN_LOSS 0.05892\n",
      "- VALID_LOSS 0.04085\n",
      "\n",
      "EPOCH[60/100]----------------\n",
      "- TRAIN_LOSS 0.05871\n",
      "- VALID_LOSS 0.04084\n",
      "\n",
      "EPOCH[61/100]----------------\n",
      "- TRAIN_LOSS 0.05850\n",
      "- VALID_LOSS 0.04082\n",
      "\n",
      "EPOCH[62/100]----------------\n",
      "- TRAIN_LOSS 0.05830\n",
      "- VALID_LOSS 0.04081\n",
      "\n",
      "EPOCH[63/100]----------------\n",
      "- TRAIN_LOSS 0.05810\n",
      "- VALID_LOSS 0.04079\n",
      "\n",
      "EPOCH[64/100]----------------\n",
      "- TRAIN_LOSS 0.05790\n",
      "- VALID_LOSS 0.04079\n",
      "\n",
      "EPOCH[65/100]----------------\n",
      "- TRAIN_LOSS 0.05771\n",
      "- VALID_LOSS 0.04080\n",
      "\n",
      "EPOCH[66/100]----------------\n",
      "- TRAIN_LOSS 0.05751\n",
      "- VALID_LOSS 0.04079\n",
      "\n",
      "EPOCH[67/100]----------------\n",
      "- TRAIN_LOSS 0.05732\n",
      "- VALID_LOSS 0.04080\n",
      "\n",
      "EPOCH[68/100]----------------\n",
      "- TRAIN_LOSS 0.05713\n",
      "- VALID_LOSS 0.04081\n",
      "\n",
      "EPOCH[69/100]----------------\n",
      "- TRAIN_LOSS 0.05695\n",
      "- VALID_LOSS 0.04082\n",
      "\n",
      "EPOCH[70/100]----------------\n",
      "- TRAIN_LOSS 0.05677\n",
      "- VALID_LOSS 0.04085\n",
      "\n",
      "EPOCH[71/100]----------------\n",
      "- TRAIN_LOSS 0.05658\n",
      "- VALID_LOSS 0.04086\n",
      "\n",
      "EPOCH[72/100]----------------\n",
      "- TRAIN_LOSS 0.05641\n",
      "- VALID_LOSS 0.04088\n",
      "\n",
      "EPOCH[73/100]----------------\n",
      "- TRAIN_LOSS 0.05623\n",
      "- VALID_LOSS 0.04092\n",
      "\n",
      "EPOCH[74/100]----------------\n",
      "- TRAIN_LOSS 0.05605\n",
      "- VALID_LOSS 0.04095\n",
      "\n",
      "EPOCH[75/100]----------------\n",
      "- TRAIN_LOSS 0.05588\n",
      "- VALID_LOSS 0.04099\n",
      "\n",
      "EPOCH[76/100]----------------\n",
      "- TRAIN_LOSS 0.05571\n",
      "- VALID_LOSS 0.04103\n",
      "\n",
      "EPOCH[77/100]----------------\n",
      "- TRAIN_LOSS 0.05554\n",
      "- VALID_LOSS 0.04106\n",
      "\n",
      "EPOCH[78/100]----------------\n",
      "- TRAIN_LOSS 0.05537\n",
      "- VALID_LOSS 0.04111\n",
      "\n",
      "EPOCH[79/100]----------------\n",
      "- TRAIN_LOSS 0.05521\n",
      "- VALID_LOSS 0.04116\n",
      "\n",
      "EPOCH[80/100]----------------\n",
      "- TRAIN_LOSS 0.05504\n",
      "- VALID_LOSS 0.04121\n",
      "\n",
      "EPOCH[81/100]----------------\n",
      "- TRAIN_LOSS 0.05488\n",
      "- VALID_LOSS 0.04127\n",
      "\n",
      "EPOCH[82/100]----------------\n",
      "- TRAIN_LOSS 0.05472\n",
      "- VALID_LOSS 0.04131\n",
      "\n",
      "EPOCH[83/100]----------------\n",
      "- TRAIN_LOSS 0.05457\n",
      "- VALID_LOSS 0.04138\n",
      "\n",
      "EPOCH[84/100]----------------\n",
      "- TRAIN_LOSS 0.05441\n",
      "- VALID_LOSS 0.04144\n",
      "\n",
      "EPOCH[85/100]----------------\n",
      "- TRAIN_LOSS 0.05426\n",
      "- VALID_LOSS 0.04150\n",
      "\n",
      "EPOCH[86/100]----------------\n",
      "- TRAIN_LOSS 0.05411\n",
      "- VALID_LOSS 0.04157\n",
      "\n",
      "EPOCH[87/100]----------------\n",
      "- TRAIN_LOSS 0.05395\n",
      "- VALID_LOSS 0.04163\n",
      "\n",
      "EPOCH[88/100]----------------\n",
      "- TRAIN_LOSS 0.05381\n",
      "- VALID_LOSS 0.04172\n",
      "\n",
      "EPOCH[89/100]----------------\n",
      "- TRAIN_LOSS 0.05366\n",
      "- VALID_LOSS 0.04177\n",
      "\n",
      "EPOCH[90/100]----------------\n",
      "- TRAIN_LOSS 0.05351\n",
      "- VALID_LOSS 0.04187\n",
      "\n",
      "EPOCH[91/100]----------------\n",
      "- TRAIN_LOSS 0.05337\n",
      "- VALID_LOSS 0.04194\n",
      "\n",
      "EPOCH[92/100]----------------\n",
      "- TRAIN_LOSS 0.05323\n",
      "- VALID_LOSS 0.04201\n",
      "\n",
      "EPOCH[93/100]----------------\n",
      "- TRAIN_LOSS 0.05309\n",
      "- VALID_LOSS 0.04211\n",
      "\n",
      "EPOCH[94/100]----------------\n",
      "- TRAIN_LOSS 0.05295\n",
      "- VALID_LOSS 0.04217\n",
      "\n",
      "EPOCH[95/100]----------------\n",
      "- TRAIN_LOSS 0.05281\n",
      "- VALID_LOSS 0.04229\n",
      "\n",
      "EPOCH[96/100]----------------\n",
      "- TRAIN_LOSS 0.05267\n",
      "- VALID_LOSS 0.04235\n",
      "\n",
      "EPOCH[97/100]----------------\n",
      "- TRAIN_LOSS 0.05254\n",
      "- VALID_LOSS 0.04246\n",
      "\n",
      "EPOCH[98/100]----------------\n",
      "- TRAIN_LOSS 0.05241\n",
      "- VALID_LOSS 0.04254\n",
      "\n",
      "EPOCH[99/100]----------------\n",
      "- TRAIN_LOSS 0.05228\n",
      "- VALID_LOSS 0.04263\n"
     ]
    }
   ],
   "source": [
    "# 에포크 : DS 처음부터 ~ 끝까지 학습  \n",
    "LOSS_HIST ={'Train':[], 'Valid':[]}   \n",
    "\n",
    "# 에포크 단위 학습/검증 진행 \n",
    "for epoch in range(EPOCHS):\n",
    "    trainLoss = training()\n",
    "    validLoss = evaluate()\n",
    "\n",
    "    LOSS_HIST['Train'].append(trainLoss)\n",
    "    LOSS_HIST['Valid'].append(validLoss)\n",
    "\n",
    "    print(f'\\nEPOCH[{epoch}/{EPOCHS}]----------------')\n",
    "    print(f'- TRAIN_LOSS {trainLoss:.5f}')\n",
    "    print(f'- VALID_LOSS {validLoss:.5f}')"
   ]
  },
  {
   "cell_type": "code",
   "execution_count": 25,
   "metadata": {},
   "outputs": [
    {
     "data": {
      "image/png": "[encoded data removed]",
      "text/plain": [
       "<Figure size 640x480 with 1 Axes>"
      ]
     },
     "metadata": {},
     "output_type": "display_data"
    }
   ],
   "source": [
    "## 모델 성능 시각화 \n",
    "import matplotlib.pyplot as plt\n",
    "\n",
    "plt.plot(LOSS_HIST['Train'], 'bo--', label='Train')\n",
    "plt.plot(LOSS_HIST['Valid'], 'ro--', label='Valid')\n",
    "plt.grid()\n",
    "plt.legend()\n",
    "plt.xlabel('EPOCHS')\n",
    "plt.ylabel('LOSS')\n",
    "plt.show()"
   ]
  },
  {
   "cell_type": "code",
   "execution_count": null,
   "metadata": {},
   "outputs": [],
   "source": []
  }
 ],
 "metadata": {
  "kernelspec": {
   "display_name": "DL_TORCH",
   "language": "python",
   "name": "python3"
  },
  "language_info": {
   "codemirror_mode": {
    "name": "ipython",
    "version": 3
   },
   "file_extension": ".py",
   "mimetype": "text/x-python",
   "name": "python",
   "nbconvert_exporter": "python",
   "pygments_lexer": "ipython3",
   "version": "3.9.21"
  }
 },
 "nbformat": 4,
 "nbformat_minor": 2
}
