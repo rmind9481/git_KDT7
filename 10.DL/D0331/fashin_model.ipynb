{
 "cells": [
  {
   "cell_type": "markdown",
   "metadata": {},
   "source": [
    "# 패션 MINST 모델 & Matricls"
   ]
  },
  {
   "cell_type": "markdown",
   "metadata": {},
   "source": [
    "- [1] 모듈로딩 및  데이터준비\n",
    "- [2] 데이터 확인\n",
    "- [3] 데이터 전처리 => 타겟/피쳐\n",
    "- [4] 데이터 전용 데이터셋 클래스 설계 & 확인\n",
    "- [5] 모델 클래스 설계 & 확인\n",
    "- [6] 학습 준비\n",
    "- [7] 학습\n",
    "- [8] 결과확인"
   ]
  },
  {
   "cell_type": "code",
   "execution_count": 151,
   "metadata": {},
   "outputs": [],
   "source": [
    "# 모듈 로딩\n",
    "\n",
    "import torch \n",
    "import pandas as pd\n",
    "import numpy as np\n",
    "\n",
    "import torch.nn as nn \t\t\t# Tensor 및 기본 함수들 관련 모듈들\n",
    "import torch.nn.functional as F # 인공신경망 관련 함수들\n",
    "import torch.optim as optim \t# 최적화 모듈\n",
    "\n",
    "from sklearn.model_selection import train_test_split\n",
    "from torch.utils.data import Dataset,DataLoader\n",
    "\n",
    "from torchmetrics.classification import * # 성능지표"
   ]
  },
  {
   "cell_type": "code",
   "execution_count": 152,
   "metadata": {},
   "outputs": [],
   "source": [
    "\n",
    "train_DF = pd.read_csv('../Data/fashion-mnist_train.csv')\n",
    "test_DF = pd.read_csv('../Data/fashion-mnist_test.csv')\n",
    "\n"
   ]
  },
  {
   "cell_type": "code",
   "execution_count": 153,
   "metadata": {},
   "outputs": [
    {
     "name": "stdout",
     "output_type": "stream",
     "text": [
      "(60000, 785) (10000, 785)\n"
     ]
    }
   ],
   "source": [
    "print(train_DF.shape,test_DF.shape)"
   ]
  },
  {
   "cell_type": "code",
   "execution_count": 154,
   "metadata": {},
   "outputs": [
    {
     "name": "stdout",
     "output_type": "stream",
     "text": [
      "<class 'pandas.core.frame.DataFrame'>\n",
      "RangeIndex: 60000 entries, 0 to 59999\n",
      "Columns: 785 entries, label to pixel784\n",
      "dtypes: int64(785)\n",
      "memory usage: 359.3 MB\n"
     ]
    },
    {
     "data": {
      "text/plain": [
       "array([2, 9, 6, 0, 3, 4, 5, 8, 7, 1])"
      ]
     },
     "execution_count": 154,
     "metadata": {},
     "output_type": "execute_result"
    }
   ],
   "source": [
    "train_DF.info()\n",
    "train_DF.label.unique()"
   ]
  },
  {
   "cell_type": "code",
   "execution_count": 155,
   "metadata": {},
   "outputs": [],
   "source": [
    "train_x = train_DF.loc[:,'pixel1':]\n",
    "train_y =train_DF['label'] \n",
    "\n",
    "test_x = test_DF.loc[:,'pixel1':]\n",
    "test_y =test_DF['label'] "
   ]
  },
  {
   "cell_type": "code",
   "execution_count": 156,
   "metadata": {},
   "outputs": [
    {
     "name": "stdout",
     "output_type": "stream",
     "text": [
      "(60000, 784) (60000,)\n",
      "(10000, 784) (10000,)\n"
     ]
    }
   ],
   "source": [
    "print(train_x.shape, train_y.shape)\n",
    "print(test_x.shape, test_y.shape)"
   ]
  },
  {
   "cell_type": "code",
   "execution_count": 157,
   "metadata": {},
   "outputs": [],
   "source": [
    "train_x = train_x/255\n",
    "test_x = train_x/255"
   ]
  },
  {
   "cell_type": "code",
   "execution_count": 158,
   "metadata": {},
   "outputs": [
    {
     "data": {
      "text/plain": [
       "0        2\n",
       "1        9\n",
       "2        6\n",
       "3        0\n",
       "4        3\n",
       "        ..\n",
       "59995    9\n",
       "59996    1\n",
       "59997    8\n",
       "59998    8\n",
       "59999    7\n",
       "Name: label, Length: 60000, dtype: int64"
      ]
     },
     "execution_count": 158,
     "metadata": {},
     "output_type": "execute_result"
    }
   ],
   "source": [
    "\n",
    "train_DF.iloc[:,0]"
   ]
  },
  {
   "cell_type": "code",
   "execution_count": 159,
   "metadata": {},
   "outputs": [
    {
     "data": {
      "text/plain": [
       "array([2, 9, 6, ..., 8, 8, 7])"
      ]
     },
     "execution_count": 159,
     "metadata": {},
     "output_type": "execute_result"
    }
   ],
   "source": [
    "target = train_DF.iloc[:,0]\n",
    "label = np.array(target)\n",
    "label"
   ]
  },
  {
   "cell_type": "code",
   "execution_count": null,
   "metadata": {},
   "outputs": [],
   "source": [
    "class train_Dataset(Dataset):\n",
    "\tdef __init__(self,train_DF):\n",
    "\t\tself.feature = train_DF.iloc[:,1:]\n",
    "\t\tself.target = train_DF.iloc[:,0]\n",
    "\n",
    "\t\tself.labels = np.array(self.target)\n",
    "\t\tself.imgs  = np.array(self.feature).reshape(-1, IMAGE_SIZE, IMAGE_SIZE, CHANNEL).astype('float32')\n",
    "        # 이미지를 (28, 28, 1) 형태로 reshape\n",
    "\tdef __len__(self):\n",
    "\t\treturn len(self.target)\n",
    "\t\t\n",
    "\tdef __getitem__(self,idx):\t\n",
    "\t\tlabel, img = self.labels[idx], self.imgs[idx]\n",
    "\t\treturn torch.LongTensor([label]), torch.FloatTensor(img)\n",
    "\t\t"
   ]
  },
  {
   "cell_type": "code",
   "execution_count": 161,
   "metadata": {},
   "outputs": [],
   "source": [
    "class test_Dataset:\n",
    "\tdef __init__(self,test_DF):\n",
    "\t\tself.feature = test_DF.iloc[:,1:]\n",
    "\t\n",
    "\t\t\n",
    "\t\tself.imgs  = np.array(self.feature).reshape(-1, IMAGE_SIZE, IMAGE_SIZE, CHANNEL).astype('float32')\n",
    "\t\t# 이미지를 (28, 28, 1) 형태로 reshape\n",
    "\n",
    "\n",
    "\tdef __len__(self):\n",
    "\t\treturn test_DF.shape[0]\n",
    "\t\t\n",
    "\tdef __getitem__(self,idx):\t\n",
    "\t\timg = self.imgs[idx]\n",
    "\t\treturn torch.FloatTensor(img)"
   ]
  },
  {
   "cell_type": "code",
   "execution_count": 162,
   "metadata": {},
   "outputs": [],
   "source": [
    "device = torch.device('cuda' if torch.cuda.is_available() else 'cpu')"
   ]
  },
  {
   "cell_type": "code",
   "execution_count": 163,
   "metadata": {},
   "outputs": [
    {
     "data": {
      "text/plain": [
       "(tensor([2]), tensor([9]))"
      ]
     },
     "execution_count": 163,
     "metadata": {},
     "output_type": "execute_result"
    }
   ],
   "source": [
    "IMAGE_SIZE = 28\n",
    "CHANNEL = 1\n",
    "Train_dataset = train_Dataset(train_DF)\n",
    "Test_dataset = test_Dataset(test_DF)\n",
    "\n",
    "Train_dataset[0][0] ,Train_dataset[1][0]"
   ]
  },
  {
   "cell_type": "code",
   "execution_count": 174,
   "metadata": {},
   "outputs": [
    {
     "name": "stdout",
     "output_type": "stream",
     "text": [
      "tensor([[2],\n",
      "        [5],\n",
      "        [3]])\n",
      "tensor([[[[0.],\n",
      "          [0.],\n",
      "          [0.],\n",
      "          ...,\n",
      "          [0.],\n",
      "          [0.],\n",
      "          [0.]],\n",
      "\n",
      "         [[0.],\n",
      "          [0.],\n",
      "          [0.],\n",
      "          ...,\n",
      "          [0.],\n",
      "          [0.],\n",
      "          [0.]],\n",
      "\n",
      "         [[0.],\n",
      "          [0.],\n",
      "          [0.],\n",
      "          ...,\n",
      "          [0.],\n",
      "          [0.],\n",
      "          [0.]],\n",
      "\n",
      "         ...,\n",
      "\n",
      "         [[0.],\n",
      "          [0.],\n",
      "          [0.],\n",
      "          ...,\n",
      "          [0.],\n",
      "          [0.],\n",
      "          [0.]],\n",
      "\n",
      "         [[0.],\n",
      "          [0.],\n",
      "          [0.],\n",
      "          ...,\n",
      "          [0.],\n",
      "          [0.],\n",
      "          [0.]],\n",
      "\n",
      "         [[0.],\n",
      "          [0.],\n",
      "          [0.],\n",
      "          ...,\n",
      "          [0.],\n",
      "          [0.],\n",
      "          [0.]]],\n",
      "\n",
      "\n",
      "        [[[0.],\n",
      "          [0.],\n",
      "          [0.],\n",
      "          ...,\n",
      "          [0.],\n",
      "          [0.],\n",
      "          [0.]],\n",
      "\n",
      "         [[0.],\n",
      "          [0.],\n",
      "          [0.],\n",
      "          ...,\n",
      "          [0.],\n",
      "          [0.],\n",
      "          [0.]],\n",
      "\n",
      "         [[0.],\n",
      "          [0.],\n",
      "          [0.],\n",
      "          ...,\n",
      "          [0.],\n",
      "          [0.],\n",
      "          [0.]],\n",
      "\n",
      "         ...,\n",
      "\n",
      "         [[0.],\n",
      "          [0.],\n",
      "          [0.],\n",
      "          ...,\n",
      "          [0.],\n",
      "          [0.],\n",
      "          [0.]],\n",
      "\n",
      "         [[0.],\n",
      "          [0.],\n",
      "          [0.],\n",
      "          ...,\n",
      "          [0.],\n",
      "          [0.],\n",
      "          [0.]],\n",
      "\n",
      "         [[0.],\n",
      "          [0.],\n",
      "          [0.],\n",
      "          ...,\n",
      "          [0.],\n",
      "          [0.],\n",
      "          [0.]]],\n",
      "\n",
      "\n",
      "        [[[0.],\n",
      "          [0.],\n",
      "          [0.],\n",
      "          ...,\n",
      "          [0.],\n",
      "          [0.],\n",
      "          [0.]],\n",
      "\n",
      "         [[0.],\n",
      "          [0.],\n",
      "          [0.],\n",
      "          ...,\n",
      "          [0.],\n",
      "          [0.],\n",
      "          [0.]],\n",
      "\n",
      "         [[0.],\n",
      "          [0.],\n",
      "          [0.],\n",
      "          ...,\n",
      "          [0.],\n",
      "          [0.],\n",
      "          [0.]],\n",
      "\n",
      "         ...,\n",
      "\n",
      "         [[0.],\n",
      "          [0.],\n",
      "          [0.],\n",
      "          ...,\n",
      "          [0.],\n",
      "          [0.],\n",
      "          [0.]],\n",
      "\n",
      "         [[0.],\n",
      "          [0.],\n",
      "          [0.],\n",
      "          ...,\n",
      "          [0.],\n",
      "          [0.],\n",
      "          [0.]],\n",
      "\n",
      "         [[0.],\n",
      "          [0.],\n",
      "          [0.],\n",
      "          ...,\n",
      "          [0.],\n",
      "          [0.],\n",
      "          [0.]]]])\n"
     ]
    }
   ],
   "source": [
    "train_DL = DataLoader(dataset=Train_dataset, batch_size=3,shuffle=True)\n",
    "test_DL = DataLoader(dataset=Test_dataset,batch_size=3)\n",
    "\n",
    "\n",
    "for label, img in train_DL:\n",
    "\tprint(label)\n",
    "\tprint(img)\n",
    "\tbreak\n",
    "\n"
   ]
  },
  {
   "cell_type": "markdown",
   "metadata": {},
   "source": [
    "# 모델설계"
   ]
  },
  {
   "cell_type": "code",
   "execution_count": null,
   "metadata": {},
   "outputs": [],
   "source": [
    "# ===============================================================\n",
    "# 다중분류용 모델\n",
    "# 클레스 이름 : My_Model\n",
    "# 부모클래스 : nn.Module\n",
    "# 모델층 구분 :  입력신호/ \t\t출력호수/퍼셉트론수\t\t\t활성화함수\n",
    "# - 입력층\t  :  784\t\t\t\t512\t\t\t\t\t\tReLu\n",
    "# - 은닉층\t  :  512\t\t\t\t128\t\t\t\t\t\tReLu\n",
    "# - 은닉층\t  :  128\t\t\t\t64\t\t\t\t\t\tReLu\n",
    "# - 은닉층\t  :   64\t\t\t\t32\t\t\t\t\t\tReLu\n",
    "# - 출력층\t  :   32\t\t\t\t10\t\t\t\t\t\t-\n",
    "\n",
    "\n",
    "class My_Model(nn.module):\n",
    "\t# 모델층 설계 및 초기화\n",
    "\tdef __init__(self):\n",
    "\t\tsuper.__init__()\n",
    "\t\tself.in_layer = nn.Linear(784,512)\n",
    "\t\tself.hd_layer1 = nn.Linear(512,128)\n",
    "\t\tself.hd_layer2 = nn.Linear(128,64)\n",
    "\t\tself.hd_layer3 = nn.Linear(64,32)\n",
    "\t\tself.out_layer = nn.Linear(32,10)\n",
    "\n",
    "\tdef forward(input_data):\n",
    "\t\tout = self.in_layer(input_data)\n",
    "\t\t\n",
    "\t\n",
    "\n",
    "\n",
    "\n",
    "\t"
   ]
  },
  {
   "cell_type": "code",
   "execution_count": null,
   "metadata": {},
   "outputs": [],
   "source": []
  },
  {
   "cell_type": "code",
   "execution_count": null,
   "metadata": {},
   "outputs": [],
   "source": []
  }
 ],
 "metadata": {
  "kernelspec": {
   "display_name": "DL_TORCH",
   "language": "python",
   "name": "python3"
  },
  "language_info": {
   "codemirror_mode": {
    "name": "ipython",
    "version": 3
   },
   "file_extension": ".py",
   "mimetype": "text/x-python",
   "name": "python",
   "nbconvert_exporter": "python",
   "pygments_lexer": "ipython3",
   "version": "3.9.21"
  }
 },
 "nbformat": 4,
 "nbformat_minor": 2
}
