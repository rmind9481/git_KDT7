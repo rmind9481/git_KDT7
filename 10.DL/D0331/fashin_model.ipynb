{
 "cells": [
  {
   "cell_type": "markdown",
   "metadata": {},
   "source": [
    "# 패션 MINST 모델 & Matricls"
   ]
  },
  {
   "cell_type": "markdown",
   "metadata": {},
   "source": [
    "- [1] 모듈로딩 및  데이터준비\n",
    "- [2] 데이터 확인\n",
    "- [3] 데이터 전처리 => 타겟/피쳐\n",
    "- [4] 데이터 전용 데이터셋 클래스 설계 & 확인\n",
    "- [5] 모델 클래스 설계 & 확인\n",
    "- [6] 학습 준비\n",
    "- [7] 학습\n",
    "- [8] 결과확인"
   ]
  },
  {
   "cell_type": "code",
   "execution_count": 34,
   "metadata": {},
   "outputs": [],
   "source": [
    "# 모듈 로딩\n",
    "\n",
    "import torch \n",
    "import pandas as pd\n",
    "import numpy as np\n",
    "\n",
    "import torch.nn as nn \t\t\t# Tensor 및 기본 함수들 관련 모듈들\n",
    "import torch.nn.functional as F # 인공신경망 관련 함수들\n",
    "import torch.optim as optim \t# 최적화 모듈\n",
    "\n",
    "from sklearn.model_selection import train_test_split\n",
    "from torch.utils.data import Dataset,DataLoader\n",
    "import matplotlib.pyplot as plt\n",
    "from torchmetrics.classification import * # 성능지표"
   ]
  },
  {
   "cell_type": "code",
   "execution_count": 35,
   "metadata": {},
   "outputs": [],
   "source": [
    "\n",
    "train_DF = pd.read_csv('../Data/fashion-mnist_train.csv')\n",
    "test_DF = pd.read_csv('../Data/fashion-mnist_test.csv')\n",
    "\n"
   ]
  },
  {
   "cell_type": "code",
   "execution_count": 36,
   "metadata": {},
   "outputs": [
    {
     "name": "stdout",
     "output_type": "stream",
     "text": [
      "(60000, 785) (10000, 785)\n"
     ]
    }
   ],
   "source": [
    "print(train_DF.shape,test_DF.shape)"
   ]
  },
  {
   "cell_type": "code",
   "execution_count": 37,
   "metadata": {},
   "outputs": [
    {
     "name": "stdout",
     "output_type": "stream",
     "text": [
      "<class 'pandas.core.frame.DataFrame'>\n",
      "RangeIndex: 60000 entries, 0 to 59999\n",
      "Columns: 785 entries, label to pixel784\n",
      "dtypes: int64(785)\n",
      "memory usage: 359.3 MB\n"
     ]
    },
    {
     "data": {
      "text/plain": [
       "array([2, 9, 6, 0, 3, 4, 5, 8, 7, 1])"
      ]
     },
     "execution_count": 37,
     "metadata": {},
     "output_type": "execute_result"
    }
   ],
   "source": [
    "train_DF.info()\n",
    "train_DF.label.unique()"
   ]
  },
  {
   "cell_type": "code",
   "execution_count": 38,
   "metadata": {},
   "outputs": [],
   "source": [
    "train_x = train_DF.loc[:,'pixel1':]\n",
    "train_y =train_DF['label'] \n",
    "\n",
    "test_x = test_DF.loc[:,'pixel1':]\n",
    "test_y =test_DF['label'] "
   ]
  },
  {
   "cell_type": "code",
   "execution_count": 39,
   "metadata": {},
   "outputs": [
    {
     "name": "stdout",
     "output_type": "stream",
     "text": [
      "(60000, 784) (60000,)\n",
      "(10000, 784) (10000,)\n"
     ]
    }
   ],
   "source": [
    "print(train_x.shape, train_y.shape)\n",
    "print(test_x.shape, test_y.shape)"
   ]
  },
  {
   "cell_type": "code",
   "execution_count": 40,
   "metadata": {},
   "outputs": [
    {
     "data": {
      "text/plain": [
       "0        2\n",
       "1        9\n",
       "2        6\n",
       "3        0\n",
       "4        3\n",
       "        ..\n",
       "59995    9\n",
       "59996    1\n",
       "59997    8\n",
       "59998    8\n",
       "59999    7\n",
       "Name: label, Length: 60000, dtype: int64"
      ]
     },
     "execution_count": 40,
     "metadata": {},
     "output_type": "execute_result"
    }
   ],
   "source": [
    "train_DF.iloc[:,0]"
   ]
  },
  {
   "cell_type": "code",
   "execution_count": 41,
   "metadata": {},
   "outputs": [
    {
     "data": {
      "text/plain": [
       "array([2, 9, 6, ..., 8, 8, 7])"
      ]
     },
     "execution_count": 41,
     "metadata": {},
     "output_type": "execute_result"
    }
   ],
   "source": [
    "target = train_DF.iloc[:,0]\n",
    "label = np.array(target)\n",
    "label"
   ]
  },
  {
   "cell_type": "code",
   "execution_count": 42,
   "metadata": {},
   "outputs": [],
   "source": [
    "class my_Dataset(Dataset):\n",
    "    def __init__(self, DataFrame):\n",
    "        self.feature = DataFrame.iloc[:, 1:].values.astype('float32')\n",
    "        self.target = DataFrame.iloc[:, 0].values.astype('int64') \n",
    "\n",
    "        # 정규화\n",
    "        self.feature = self.feature / 255.\n",
    "    \n",
    "    def __len__(self):\n",
    "        return len(self.target)\n",
    "    \n",
    "    def __getitem__(self, idx):\n",
    "        image = torch.tensor(self.feature[idx], dtype=torch.float32).view(1, 28, 28)  # (1, 28, 28) 형태로 변환\n",
    "        label = torch.tensor(self.target[idx], dtype=torch.long)  # target은 LongTensor로 변환\n",
    "        \n",
    "        return image, label"
   ]
  },
  {
   "cell_type": "code",
   "execution_count": 43,
   "metadata": {},
   "outputs": [],
   "source": [
    "device = torch.device('cuda' if torch.cuda.is_available() else 'cpu')"
   ]
  },
  {
   "cell_type": "code",
   "execution_count": 44,
   "metadata": {},
   "outputs": [],
   "source": [
    "# 데이터셋 생성\n",
    "train_dataset = my_Dataset(train_DF)\n",
    "test_dataset = my_Dataset(test_DF)\n",
    "\n",
    "# DataLoader 설정\n",
    "train_loader = DataLoader(train_dataset, batch_size=64, shuffle=True)\n",
    "test_loader = DataLoader(test_dataset, batch_size=64, shuffle=False)"
   ]
  },
  {
   "cell_type": "code",
   "execution_count": 45,
   "metadata": {},
   "outputs": [
    {
     "name": "stdout",
     "output_type": "stream",
     "text": [
      "tensor([[[[0.0000, 0.0000, 0.0000,  ..., 0.0000, 0.0000, 0.0000],\n",
      "          [0.0000, 0.0000, 0.0000,  ..., 0.0000, 0.0000, 0.0000],\n",
      "          [0.0000, 0.0000, 0.0000,  ..., 0.0000, 0.0000, 0.0000],\n",
      "          ...,\n",
      "          [0.0000, 0.0000, 0.0000,  ..., 0.0000, 0.0000, 0.0000],\n",
      "          [0.0000, 0.0000, 0.0000,  ..., 0.0000, 0.0000, 0.0000],\n",
      "          [0.0000, 0.0000, 0.0000,  ..., 0.0000, 0.0000, 0.0000]]],\n",
      "\n",
      "\n",
      "        [[[0.0000, 0.0000, 0.0000,  ..., 0.0000, 0.0000, 0.0000],\n",
      "          [0.0000, 0.0000, 0.0000,  ..., 0.0000, 0.0000, 0.0000],\n",
      "          [0.0000, 0.0000, 0.0000,  ..., 0.0000, 0.0000, 0.0000],\n",
      "          ...,\n",
      "          [0.0000, 0.0000, 0.0000,  ..., 0.0000, 0.0000, 0.0000],\n",
      "          [0.0000, 0.0000, 0.0000,  ..., 0.0000, 0.0000, 0.0000],\n",
      "          [0.0000, 0.0000, 0.0000,  ..., 0.0000, 0.0000, 0.0000]]],\n",
      "\n",
      "\n",
      "        [[[0.0000, 0.0000, 0.0000,  ..., 0.0000, 0.0000, 0.0000],\n",
      "          [0.0000, 0.0000, 0.0000,  ..., 0.0000, 0.0000, 0.0000],\n",
      "          [0.0000, 0.0000, 0.0000,  ..., 0.0000, 0.0000, 0.0000],\n",
      "          ...,\n",
      "          [0.0000, 0.0000, 0.0000,  ..., 0.0000, 0.0000, 0.0000],\n",
      "          [0.0000, 0.0000, 0.0000,  ..., 0.0000, 0.0000, 0.0000],\n",
      "          [0.0000, 0.0000, 0.0000,  ..., 0.0000, 0.0000, 0.0000]]],\n",
      "\n",
      "\n",
      "        ...,\n",
      "\n",
      "\n",
      "        [[[0.0000, 0.0000, 0.0000,  ..., 0.0000, 0.0000, 0.0000],\n",
      "          [0.0000, 0.0000, 0.0000,  ..., 0.0000, 0.0000, 0.0000],\n",
      "          [0.0000, 0.0000, 0.0000,  ..., 0.0000, 0.0000, 0.0000],\n",
      "          ...,\n",
      "          [0.0157, 0.0000, 0.2627,  ..., 0.5804, 0.2353, 0.0000],\n",
      "          [0.0000, 0.0000, 0.0078,  ..., 0.0000, 0.0000, 0.0000],\n",
      "          [0.0000, 0.0000, 0.0000,  ..., 0.0000, 0.0000, 0.0000]]],\n",
      "\n",
      "\n",
      "        [[[0.0000, 0.0000, 0.0000,  ..., 0.0000, 0.0000, 0.0000],\n",
      "          [0.0000, 0.0000, 0.0000,  ..., 0.0000, 0.0000, 0.0000],\n",
      "          [0.0000, 0.0000, 0.0000,  ..., 0.0000, 0.0000, 0.0000],\n",
      "          ...,\n",
      "          [0.0000, 0.0000, 0.0000,  ..., 0.0000, 0.0000, 0.0000],\n",
      "          [0.0000, 0.0000, 0.0000,  ..., 0.0000, 0.0000, 0.0000],\n",
      "          [0.0000, 0.0000, 0.0000,  ..., 0.0000, 0.0000, 0.0000]]],\n",
      "\n",
      "\n",
      "        [[[0.0000, 0.0000, 0.0000,  ..., 0.0000, 0.0000, 0.0000],\n",
      "          [0.0000, 0.0000, 0.0000,  ..., 0.0000, 0.0000, 0.0000],\n",
      "          [0.0000, 0.0000, 0.0000,  ..., 0.0000, 0.0000, 0.0000],\n",
      "          ...,\n",
      "          [0.0000, 0.0000, 0.0000,  ..., 0.0000, 0.0000, 0.0000],\n",
      "          [0.0000, 0.0000, 0.0000,  ..., 0.0000, 0.0000, 0.0000],\n",
      "          [0.0000, 0.0000, 0.0000,  ..., 0.0000, 0.0000, 0.0000]]]])\n",
      "tensor([2, 4, 7, 8, 2, 2, 3, 9, 5, 7, 2, 6, 4, 3, 5, 9, 2, 1, 3, 1, 8, 9, 3, 9,\n",
      "        0, 1, 2, 8, 9, 4, 1, 5, 7, 1, 2, 1, 6, 9, 5, 1, 2, 1, 2, 0, 7, 8, 1, 8,\n",
      "        0, 4, 9, 7, 8, 0, 1, 1, 3, 5, 2, 6, 0, 8, 1, 0])\n"
     ]
    }
   ],
   "source": [
    "\n",
    "for label, img in train_loader:\n",
    "\tprint(label)\n",
    "\tprint(img)\n",
    "\tbreak\n",
    "\n"
   ]
  },
  {
   "cell_type": "markdown",
   "metadata": {},
   "source": [
    "# 모델설계"
   ]
  },
  {
   "cell_type": "code",
   "execution_count": 46,
   "metadata": {},
   "outputs": [],
   "source": [
    "# ===============================================================\n",
    "# 다중분류용 모델\n",
    "# 클레스 이름 : My_Model\n",
    "# 부모클래스 : nn.Module\n",
    "# 모델층 구분 :  입력신호/ \t\t출력호수/퍼셉트론수\t\t\t활성화함수\n",
    "# - 입력층\t  :  784\t\t\t\t512\t\t\t\t\t\tReLu\n",
    "# - 은닉층\t  :  512\t\t\t\t128\t\t\t\t\t\tReLu\n",
    "# - 은닉층\t  :  128\t\t\t\t64\t\t\t\t\t\tReLu\n",
    "# - 은닉층\t  :   64\t\t\t\t32\t\t\t\t\t\tReLu\n",
    "# - 출력층\t  :   32\t\t\t\t10\t\t\t\t\t\t-\n",
    "\n",
    "\n",
    "class My_Model(nn.Module):\n",
    "    def __init__(self):\n",
    "        super(My_Model, self).__init__()\n",
    "        self.fc1 = nn.Linear(784, 512)  # 입력층\n",
    "        self.fc2 = nn.Linear(512, 128)  # 은닉층 1\n",
    "        self.fc3 = nn.Linear(128, 64)   # 은닉층 2\n",
    "        self.fc4 = nn.Linear(64, 32)    # 은닉층 3\n",
    "        self.fc5 = nn.Linear(32, 10)    # 출력층\n",
    "\n",
    "    def forward(self, x):\n",
    "        x = x.view(-1, 784)   # (Batch, 28*28)로 변환\n",
    "        x = torch.relu(self.fc1(x))  \n",
    "        x = torch.relu(self.fc2(x))\n",
    "        x = torch.relu(self.fc3(x))\n",
    "        x = torch.relu(self.fc4(x))\n",
    "        x = self.fc5(x)  \n",
    "        return x\n",
    "\n",
    "# 모델 생성\n",
    "model = My_Model()\n",
    "\t\n"
   ]
  },
  {
   "cell_type": "code",
   "execution_count": 47,
   "metadata": {},
   "outputs": [
    {
     "name": "stdout",
     "output_type": "stream",
     "text": [
      "Epoch 1, Loss: 0.5909, Accuracy: 0.7845\n",
      "Epoch 2, Loss: 0.3931, Accuracy: 0.8574\n",
      "Epoch 3, Loss: 0.3502, Accuracy: 0.8730\n",
      "Epoch 4, Loss: 0.3204, Accuracy: 0.8834\n",
      "Epoch 5, Loss: 0.3027, Accuracy: 0.8895\n",
      "Epoch 6, Loss: 0.2863, Accuracy: 0.8939\n",
      "Epoch 7, Loss: 0.2730, Accuracy: 0.8995\n",
      "Epoch 8, Loss: 0.2597, Accuracy: 0.9035\n",
      "Epoch 9, Loss: 0.2487, Accuracy: 0.9082\n",
      "Epoch 10, Loss: 0.2405, Accuracy: 0.9108\n"
     ]
    }
   ],
   "source": [
    "import torch.optim as optim\n",
    "from torchmetrics.classification import Accuracy\n",
    "\n",
    "# 손실 함수 및 옵티마이저\n",
    "criterion = nn.CrossEntropyLoss()\n",
    "optimizer = optim.Adam(model.parameters(), lr=0.001)\n",
    "\n",
    "# 성능 지표 (정확도)\n",
    "accuracy = Accuracy(task=\"multiclass\", num_classes=10)\n",
    "\n",
    "# 학습 루프\n",
    "num_epochs = 10\n",
    "device = torch.device(\"cuda\" if torch.cuda.is_available() else \"cpu\")\n",
    "model.to(device)\n",
    "\n",
    "for epoch in range(num_epochs):\n",
    "    model.train()\n",
    "    running_loss = 0.0\n",
    "    correct = 0\n",
    "    \n",
    "    for images, labels in train_loader:\n",
    "        images, labels = images.to(device), labels.to(device)\n",
    "        images = images.view(-1, 784)  # 1D로 펼치기\n",
    "        \n",
    "        optimizer.zero_grad()\n",
    "        outputs = model(images)\n",
    "        loss = criterion(outputs, labels)\n",
    "        loss.backward()\n",
    "        optimizer.step()\n",
    "        \n",
    "        running_loss += loss.item()\n",
    "        correct += accuracy(outputs, labels)\n",
    "    \n",
    "    print(f\"Epoch {epoch+1}, Loss: {running_loss/len(train_loader):.4f}, Accuracy: {correct/len(train_loader):.4f}\")\n"
   ]
  },
  {
   "cell_type": "code",
   "execution_count": 48,
   "metadata": {},
   "outputs": [
    {
     "name": "stdout",
     "output_type": "stream",
     "text": [
      "Epoch 1, Loss: 0.2308, Accuracy: 0.9135\n",
      "Epoch 2, Loss: 0.2219, Accuracy: 0.9169\n",
      "Epoch 3, Loss: 0.2137, Accuracy: 0.9187\n",
      "Epoch 4, Loss: 0.2042, Accuracy: 0.9243\n",
      "Epoch 5, Loss: 0.2008, Accuracy: 0.9241\n",
      "Epoch 6, Loss: 0.1954, Accuracy: 0.9262\n",
      "Epoch 7, Loss: 0.1880, Accuracy: 0.9285\n",
      "Epoch 8, Loss: 0.1821, Accuracy: 0.9313\n",
      "Epoch 9, Loss: 0.1755, Accuracy: 0.9337\n",
      "Epoch 10, Loss: 0.1732, Accuracy: 0.9342\n"
     ]
    }
   ],
   "source": [
    "train_losses = []\n",
    "train_accuracies = []\n",
    "\n",
    "for epoch in range(num_epochs):\n",
    "    model.train()\n",
    "    running_loss = 0.0\n",
    "    correct = 0\n",
    "    \n",
    "    for images, labels in train_loader:\n",
    "        images, labels = images.to(device), labels.to(device)\n",
    "        images = images.view(-1, 784)  # 1D로 펼치기\n",
    "        \n",
    "        optimizer.zero_grad()\n",
    "        outputs = model(images)\n",
    "        loss = criterion(outputs, labels)\n",
    "        loss.backward()\n",
    "        optimizer.step()\n",
    "        \n",
    "        running_loss += loss.item()\n",
    "        correct += accuracy(outputs, labels)\n",
    "    \n",
    "    avg_loss = running_loss / len(train_loader)\n",
    "    avg_accuracy = correct / len(train_loader)\n",
    "    \n",
    "    train_losses.append(avg_loss)  # 손실 저장\n",
    "    train_accuracies.append(avg_accuracy)  # 정확도 저장\n",
    "    \n",
    "    print(f\"Epoch {epoch+1}, Loss: {avg_loss:.4f}, Accuracy: {avg_accuracy:.4f}\")"
   ]
  },
  {
   "cell_type": "code",
   "execution_count": 49,
   "metadata": {},
   "outputs": [
    {
     "data": {
      "image/png": "[encoded data removed]",
      "text/plain": [
       "<Figure size 640x480 with 2 Axes>"
      ]
     },
     "metadata": {},
     "output_type": "display_data"
    }
   ],
   "source": [
    "\n",
    "# 그래프 그리기\n",
    "fig, ax1 = plt.subplots()\n",
    "\n",
    "# 손실 그래프 (왼쪽 Y축)\n",
    "color = 'tab:red'\n",
    "ax1.set_xlabel('Epoch')\n",
    "ax1.set_ylabel('Loss', color=color)\n",
    "ax1.plot(range(1, num_epochs + 1), train_losses, marker='o', color=color, label=\"Loss\")\n",
    "ax1.tick_params(axis='y', labelcolor=color)\n",
    "\n",
    "# 정확도 그래프 (오른쪽 Y축)\n",
    "ax2 = ax1.twinx()\n",
    "color = 'tab:blue'\n",
    "ax2.set_ylabel('Accuracy', color=color)\n",
    "ax2.plot(range(1, num_epochs + 1), train_accuracies, marker='s', color=color, label=\"Accuracy\")\n",
    "ax2.tick_params(axis='y', labelcolor=color)\n",
    "\n",
    "# 제목 & 레이아웃 설정\n",
    "plt.title('Training Loss & Accuracy Over Epochs')\n",
    "fig.tight_layout()\n",
    "plt.show()"
   ]
  },
  {
   "cell_type": "code",
   "execution_count": null,
   "metadata": {},
   "outputs": [],
   "source": []
  }
 ],
 "metadata": {
  "kernelspec": {
   "display_name": "DL_TORCH",
   "language": "python",
   "name": "python3"
  },
  "language_info": {
   "codemirror_mode": {
    "name": "ipython",
    "version": 3
   },
   "file_extension": ".py",
   "mimetype": "text/x-python",
   "name": "python",
   "nbconvert_exporter": "python",
   "pygments_lexer": "ipython3",
   "version": "3.9.21"
  }
 },
 "nbformat": 4,
 "nbformat_minor": 2
}
