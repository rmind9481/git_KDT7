{
 "cells": [
  {
   "cell_type": "markdown",
   "metadata": {},
   "source": [
    "# [ FLATTEN LAYER ]"
   ]
  },
  {
   "cell_type": "code",
   "execution_count": 1,
   "metadata": {},
   "outputs": [],
   "source": [
    "# 모듈로딩 \n",
    "import torch\n",
    "import torch.nn as nn \n",
    "import torch.nn.functional as F"
   ]
  },
  {
   "cell_type": "code",
   "execution_count": 3,
   "metadata": {},
   "outputs": [
    {
     "name": "stdout",
     "output_type": "stream",
     "text": [
      "형태 :torch.Size([2, 2, 2])\n",
      "차원 :3\n",
      "타입 :torch.int64\n"
     ]
    }
   ],
   "source": [
    "# 입력데이터 생성 \n",
    "t = torch.tensor([[[1,2],[3,4]],[[5,6],[7,8]]])\n",
    "\n",
    "\n",
    "print(f'형태 :{t.shape}')\n",
    "print(f'차원 :{t.ndim}')\n",
    "print(f'타입 :{t.dtype}')"
   ]
  },
  {
   "cell_type": "code",
   "execution_count": 4,
   "metadata": {},
   "outputs": [
    {
     "name": "stdout",
     "output_type": "stream",
     "text": [
      "<class 'torch.nn.modules.flatten.Flatten'>\n",
      "torch.Size([2, 4])\n",
      "tensor([[1, 2, 3, 4],\n",
      "        [5, 6, 7, 8]])\n"
     ]
    }
   ],
   "source": [
    "# 기본값 star_dim = 1, end_dim = -1\n",
    "# 입력데이터의 shape( d, h, w) <= (0,1,2)\n",
    "f = nn.Flatten()\n",
    "\n",
    "output = f(t)\n",
    "\n",
    "print(type(f))\n",
    "print(output.shape)\n",
    "print(output)"
   ]
  },
  {
   "cell_type": "code",
   "execution_count": 5,
   "metadata": {},
   "outputs": [
    {
     "name": "stdout",
     "output_type": "stream",
     "text": [
      "형태 : torch.Size([8]), tensor([1, 2, 3, 4, 5, 6, 7, 8])\n"
     ]
    }
   ],
   "source": [
    "# 차원 변경\n",
    "fLayer = nn.Flatten(start_dim=0)\n",
    "outTS = fLayer(t)\n",
    "\n",
    "print(f'형태 : {outTS.shape}, {outTS}')"
   ]
  },
  {
   "cell_type": "code",
   "execution_count": null,
   "metadata": {},
   "outputs": [],
   "source": []
  }
 ],
 "metadata": {
  "kernelspec": {
   "display_name": "DL_TORCH",
   "language": "python",
   "name": "python3"
  },
  "language_info": {
   "codemirror_mode": {
    "name": "ipython",
    "version": 3
   },
   "file_extension": ".py",
   "mimetype": "text/x-python",
   "name": "python",
   "nbconvert_exporter": "python",
   "pygments_lexer": "ipython3",
   "version": "3.9.21"
  }
 },
 "nbformat": 4,
 "nbformat_minor": 2
}
