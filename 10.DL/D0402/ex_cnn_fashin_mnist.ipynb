{
 "cells": [
  {
   "cell_type": "markdown",
   "metadata": {},
   "source": [
    "# [ CNN Fashion MNIST MODEL]"
   ]
  },
  {
   "cell_type": "markdown",
   "metadata": {},
   "source": [
    "[1] 모듈 로딩 및 데이터 준비 <hr>"
   ]
  },
  {
   "cell_type": "code",
   "execution_count": 23,
   "metadata": {},
   "outputs": [],
   "source": [
    "# 모듈 로딩\n",
    "\n",
    "import torch\t\t\t\t\t\t\t\t\t\t# Tensor 및 기본 함수들 관련 모듈\n",
    "import torch.nn as nn\t\t\t\t\t\t\t\t# 인공신경망 관련 모듈\n",
    "import torch.nn.functional as F\n",
    "from torchvision.datasets import FashionMNIST\t\t\t\t#  비전 관련 내장 데이터셋 모듈\n",
    "from torch.utils.data import DataLoader\n",
    "\n",
    "import torchvision.transforms as transforms\n",
    "\n",
    "# 시각화\n",
    "import matplotlib.pyplot as plt"
   ]
  },
  {
   "cell_type": "code",
   "execution_count": 24,
   "metadata": {},
   "outputs": [],
   "source": [
    "# 이미지 관련 준비\n",
    "IMG_ROOT = '../Data'\n"
   ]
  },
  {
   "cell_type": "code",
   "execution_count": 25,
   "metadata": {},
   "outputs": [],
   "source": [
    "trainDS = FashionMNIST(root = IMG_ROOT, download=True, train=True, transform=transforms.ToTensor())\n",
    "testDS = FashionMNIST(root = IMG_ROOT, download=True, train=False, transform=transforms.ToTensor())"
   ]
  },
  {
   "cell_type": "code",
   "execution_count": 26,
   "metadata": {},
   "outputs": [
    {
     "name": "stdout",
     "output_type": "stream",
     "text": [
      "type <class 'torchvision.datasets.mnist.FashionMNIST'>\n",
      "test Ds class ['T-shirt/top', 'Trouser', 'Pullover', 'Dress', 'Coat', 'Sandal', 'Shirt', 'Sneaker', 'Bag', 'Ankle boot']\n",
      "test ds class_id_idx {'T-shirt/top': 0, 'Trouser': 1, 'Pullover': 2, 'Dress': 3, 'Coat': 4, 'Sandal': 5, 'Shirt': 6, 'Sneaker': 7, 'Bag': 8, 'Ankle boot': 9}\n"
     ]
    }
   ],
   "source": [
    "# 데이터셋 체크\n",
    "# - 타입\n",
    "print(f'type {type(testDS)}'   )\n",
    "\n",
    "\n",
    "print(f'test Ds class {testDS.classes}'   )\n",
    "print(f'test ds class_id_idx {testDS.class_to_idx}'   )\n"
   ]
  },
  {
   "cell_type": "code",
   "execution_count": 27,
   "metadata": {},
   "outputs": [
    {
     "data": {
      "text/plain": [
       "torch.Size([10000, 28, 28])"
      ]
     },
     "execution_count": 27,
     "metadata": {},
     "output_type": "execute_result"
    }
   ],
   "source": [
    "# 속성 = 테이터 와 타겟\n",
    "\n",
    "testDS.targets\n",
    "testDS.data.shape"
   ]
  },
  {
   "cell_type": "code",
   "execution_count": 28,
   "metadata": {},
   "outputs": [
    {
     "data": {
      "image/png": "[encoded data removed]",
      "text/plain": [
       "<Figure size 640x480 with 1 Axes>"
      ]
     },
     "metadata": {},
     "output_type": "display_data"
    }
   ],
   "source": [
    "idx_to_classes =  {v:k for k, v in testDS.class_to_idx.items()}\n",
    "\n",
    "plt.imshow(testDS.data[0], cmap='gray')\n",
    "plt.title(idx_to_classes[testDS.targets[0].item()])\n",
    "plt.show()"
   ]
  },
  {
   "cell_type": "code",
   "execution_count": 29,
   "metadata": {},
   "outputs": [
    {
     "name": "stdout",
     "output_type": "stream",
     "text": [
      "{tensor(0, dtype=torch.uint8)} {tensor(255, dtype=torch.uint8)}\n"
     ]
    }
   ],
   "source": [
    "# 로우 데이터 확인\n",
    "print({testDS.data[0].min()}, {testDS.data[0].max()})"
   ]
  },
  {
   "cell_type": "markdown",
   "metadata": {},
   "source": [
    "# [3]모델 정의 및 설계 <hr>"
   ]
  },
  {
   "cell_type": "code",
   "execution_count": 30,
   "metadata": {},
   "outputs": [],
   "source": [
    "class FashinDNN(nn.Module):\n",
    "\tdef __init__(self):\n",
    "\t\tsuper(FashinDNN, self).__init__()\n",
    "\t\tself.fc1 = nn.Linear(in_features=784, out_features=256)\n",
    "\t\tself.drop = nn.Dropout(0.25)\n",
    "\t\tself.fc2 = nn.Linear(in_features=256, out_features=128)\n",
    "\t\tself.fc3 = nn.Linear(in_features=128, out_features=10)\n",
    "\n",
    "\n",
    "\tdef forward(self, input_Data):\n",
    "\t\t# 3D (BS,H,W) ==> 2D (BS, )\n",
    "\t\t\t\n",
    "\t\tout = input_Data.view(-1,784)\n",
    "\t\tout = F.relu(self.fc1(out))\n",
    "\t\tout = self.drop(out)\n",
    "\t\tout = F.relu(self.fc2(out))\n",
    "\t\tout = self.fc3(out)\n",
    "\t\treturn out"
   ]
  },
  {
   "cell_type": "code",
   "execution_count": null,
   "metadata": {},
   "outputs": [],
   "source": [
    "class FashionDNN(nn.Module):\n",
    "    def __init__(self):\n",
    "        super().__init__()\n",
    "        # 특징 맵 추출 부분\n",
    "        self.con_layer_1 = nn.Conv2d(1,1,3) # 1, , 28, 28 ==>  (1, 1,26, 26)\n",
    "        self.pool_layer1 = nn.MaxPool2d(2,2) # 1, 1, 26, 26 ==> (1, 1, 13, 13) 가장 앞1: 이미지 사이즈\n",
    "        self.flat_layer = nn.Faltten()        # 1, 13, 13 ==> (1, 1*13*13)\n",
    "        \n",
    "        # 전결합 학습 부분\n",
    "        self.fc_layer1 = nn.Linear(169 , 30)\n",
    "        self.out_layer = nn.Linear(30 ,10)"
   ]
  },
  {
   "cell_type": "code",
   "execution_count": 31,
   "metadata": {},
   "outputs": [
    {
     "data": {
      "text/plain": [
       "==========================================================================================\n",
       "Layer (type:depth-idx)                   Output Shape              Param #\n",
       "==========================================================================================\n",
       "FashinDNN                                [1, 10]                   --\n",
       "├─Linear: 1-1                            [1, 256]                  200,960\n",
       "├─Dropout: 1-2                           [1, 256]                  --\n",
       "├─Linear: 1-3                            [1, 128]                  32,896\n",
       "├─Linear: 1-4                            [1, 10]                   1,290\n",
       "==========================================================================================\n",
       "Total params: 235,146\n",
       "Trainable params: 235,146\n",
       "Non-trainable params: 0\n",
       "Total mult-adds (M): 0.24\n",
       "==========================================================================================\n",
       "Input size (MB): 0.00\n",
       "Forward/backward pass size (MB): 0.00\n",
       "Params size (MB): 0.94\n",
       "Estimated Total Size (MB): 0.95\n",
       "=========================================================================================="
      ]
     },
     "execution_count": 31,
     "metadata": {},
     "output_type": "execute_result"
    }
   ],
   "source": [
    "from torchinfo import summary \n",
    "m1 = FashinDNN()\n",
    "\n",
    "summary(m1, input_size=(1,28,28))"
   ]
  },
  {
   "cell_type": "code",
   "execution_count": 32,
   "metadata": {},
   "outputs": [
    {
     "data": {
      "text/plain": [
       "(torch.Size([28, 28]), torch.Size([3, 28, 28]))"
      ]
     },
     "execution_count": 32,
     "metadata": {},
     "output_type": "execute_result"
    }
   ],
   "source": [
    "trainDS.data[0].shape , trainDS.data[0:3].shape"
   ]
  },
  {
   "cell_type": "markdown",
   "metadata": {},
   "source": []
  },
  {
   "cell_type": "code",
   "execution_count": 45,
   "metadata": {},
   "outputs": [
    {
     "data": {
      "text/plain": [
       "(tensor(15), tensor(9))"
      ]
     },
     "execution_count": 45,
     "metadata": {},
     "output_type": "execute_result"
    }
   ],
   "source": [
    "\n",
    "train_img = trainDS.data[0:2].float()\n",
    "pre = m1(train_img).argmax()\n",
    "pre, trainDS.targets[0]"
   ]
  },
  {
   "cell_type": "code",
   "execution_count": 46,
   "metadata": {},
   "outputs": [
    {
     "ename": "AttributeError",
     "evalue": "'int' object has no attribute 'shape'",
     "output_type": "error",
     "traceback": [
      "\u001b[1;31m---------------------------------------------------------------------------\u001b[0m",
      "\u001b[1;31mAttributeError\u001b[0m                            Traceback (most recent call last)",
      "Cell \u001b[1;32mIn[46], line 2\u001b[0m\n\u001b[0;32m      1\u001b[0m \u001b[38;5;28;01mfor\u001b[39;00m img, target \u001b[38;5;129;01min\u001b[39;00m trainDS:\n\u001b[1;32m----> 2\u001b[0m \t\u001b[38;5;28mprint\u001b[39m(img\u001b[38;5;241m.\u001b[39mshape, \u001b[43mtarget\u001b[49m\u001b[38;5;241;43m.\u001b[39;49m\u001b[43mshape\u001b[49m)\n",
      "\u001b[1;31mAttributeError\u001b[0m: 'int' object has no attribute 'shape'"
     ]
    }
   ],
   "source": [
    "for img, target in trainDS:\n",
    "\tprint(img.shape, target.shape)"
   ]
  },
  {
   "cell_type": "code",
   "execution_count": 47,
   "metadata": {},
   "outputs": [],
   "source": [
    "class FashinCNN (nn.Module):\n",
    "\tdef __init__(self):\n",
    "\t\tsuper(FashinCNN, self).__init__()\n",
    "\t\tself.layer1 = nn.Sequential(nn.Conv2d(in_channels=1, out_channels=32, kernel_size=3, padding=1),\n",
    "\t\t\t\t\t\t\t  nn.BatchNorm2d(32),\n",
    "\t\t\t\t\t\t\t  nn.ReLU(),\n",
    "\t\t\t\t\t\t\t  nn.MaxPool2d(kernel_size=2, stride=2)\n",
    "\t\t\t\t\t\t\t  ) \n",
    "\t\tself.layer2 = nn.Sequential(\n",
    "\t\t\tnn.Conv2d(in_channels=32, out_channels=64, kernel_size=3),\n",
    "\t\t\tnn.BatchNorm2d(64),\n",
    "\t\t\tnn.ReLU(),\n",
    "\t\t\tnn.MaxPool2d(2)\n",
    "\t\t)\n",
    "\n",
    "\t\tself.fc1 = nn.Linear(in_features=64*6*6, out_features=600)\n",
    "\t\tself.drop = nn.Dropout2d(0.25),\n",
    "\t\tself.fc2 = nn.Linear(in_features=600, out_features=120)\n",
    "\t\tself.fc3 = nn.Linear(in_features=120, out_features=10)\n",
    "\tdef forward(self, x):\n",
    "\t\tprint(f'data shape : {x.shape}')\n",
    "\t\tout = self.layer1(x)\n",
    "\t\tprint(f'data shape : {out.shape}')\n",
    "\t\tout = self.layer2(out)\n",
    "\t\tprint(f'data shape : {out.shape}')\n",
    "\t\tout = out.view(out.size(0),-1)\n",
    "\t\tout = self.fc1(out)\n",
    "\t\tprint(f'data shape : {out.shape}')\n",
    "\t\tout = self.drop(out)\n",
    "\t\tprint(f'data shape : {out.shape}')\n",
    "\t\tout = self.fc2(out)\n",
    "\t\tprint(f'data shape : {out.shape}')\n",
    "\t\tout = self.fc3(out)\n",
    "\n",
    "\t\treturn out\n"
   ]
  },
  {
   "cell_type": "code",
   "execution_count": null,
   "metadata": {},
   "outputs": [],
   "source": [
    "# CNN MODEL ===============================================\n",
    "# 클래스 이름 : FashionCNN\n",
    "# 부모 클래스 : nn.Module\n",
    "# 모델 구현법 : 지도학습 + 다중 분류\n",
    "# 모델층 구성\n",
    "# 특징 추출 입력 이미지 주요 특징 추출한 특징 맵 FeatutreMap\n",
    "# \t\t\t\t이미지체널/커널수 \t출력체널/커널수\t\t활성화 함수  커널크기\n",
    "# \t\t"
   ]
  },
  {
   "cell_type": "code",
   "execution_count": null,
   "metadata": {},
   "outputs": [],
   "source": [
    "m1 = FashinCNN()\n"
   ]
  },
  {
   "cell_type": "markdown",
   "metadata": {},
   "source": [
    "# [4] 학습준비 <hr>"
   ]
  },
  {
   "cell_type": "code",
   "execution_count": 36,
   "metadata": {},
   "outputs": [
    {
     "name": "stdout",
     "output_type": "stream",
     "text": [
      "epochs 10, batch_size 100, t_interation 600\n"
     ]
    }
   ],
   "source": [
    "# 학습 관련 설정 \n",
    "\n",
    "EPOCHS = 10\n",
    "BATCH_SIZE = 100\n",
    "T_ITERATION = int(trainDS.data.shape[0]/BATCH_SIZE)\n",
    "\n",
    "LR = 0.001\n",
    "DEVICE = 'gpu' if torch.cuda.is_available() else 'cpu'\n",
    "\n",
    "print(f'epochs {EPOCHS}, batch_size {BATCH_SIZE}, t_interation {T_ITERATION}')\n"
   ]
  },
  {
   "cell_type": "code",
   "execution_count": null,
   "metadata": {},
   "outputs": [],
   "source": []
  },
  {
   "cell_type": "markdown",
   "metadata": {},
   "source": [
    "# 학습"
   ]
  },
  {
   "cell_type": "code",
   "execution_count": null,
   "metadata": {},
   "outputs": [],
   "source": []
  },
  {
   "cell_type": "code",
   "execution_count": 37,
   "metadata": {},
   "outputs": [
    {
     "name": "stdout",
     "output_type": "stream",
     "text": [
      "FashinDNN(\n",
      "  (fc1): Linear(in_features=784, out_features=256, bias=True)\n",
      "  (drop): Dropout(p=0.25, inplace=False)\n",
      "  (fc2): Linear(in_features=256, out_features=128, bias=True)\n",
      "  (fc3): Linear(in_features=128, out_features=10, bias=True)\n",
      ")\n"
     ]
    }
   ],
   "source": [
    "# \n",
    "\n",
    "model = FashinDNN()\n",
    "model.to(DEVICE)\n",
    "\n",
    "criterion = nn.CrossEntropyLoss()\n",
    "optimizer = torch.optim.Adam(model.parameters(), lr=LR)\n",
    "print(model)\n",
    "\n"
   ]
  },
  {
   "cell_type": "code",
   "execution_count": 38,
   "metadata": {},
   "outputs": [],
   "source": [
    "import torch.utils\n",
    "import torch.utils.data\n",
    "\n",
    "\n",
    "train_loader = torch.utils.data.DataLoader(trainDS, batch_size=100)\n",
    "test_loader = torch.utils.data.DataLoader(testDS,batch_size=100)"
   ]
  },
  {
   "cell_type": "code",
   "execution_count": 39,
   "metadata": {},
   "outputs": [
    {
     "ename": "IndentationError",
     "evalue": "expected an indented block (2580218972.py, line 14)",
     "output_type": "error",
     "traceback": [
      "\u001b[1;36m  Cell \u001b[1;32mIn[39], line 14\u001b[1;36m\u001b[0m\n\u001b[1;33m    \u001b[0m\n\u001b[1;37m    ^\u001b[0m\n\u001b[1;31mIndentationError\u001b[0m\u001b[1;31m:\u001b[0m expected an indented block\n"
     ]
    }
   ],
   "source": [
    "num_epochs = 5\n",
    "count = 0\n",
    "\n",
    "loss_list =[]\n",
    "iteration_list = []\n",
    "accuracy_list = []\n",
    "\n",
    "predictions_list = []\n",
    "labels_list = []\n",
    "\n",
    "\n",
    "for epoch in range(num_epochs):\n",
    "\tfor images, labels in train_loder:\n",
    "\t\t"
   ]
  },
  {
   "cell_type": "code",
   "execution_count": null,
   "metadata": {},
   "outputs": [],
   "source": []
  }
 ],
 "metadata": {
  "kernelspec": {
   "display_name": "DL_TORCH",
   "language": "python",
   "name": "python3"
  },
  "language_info": {
   "codemirror_mode": {
    "name": "ipython",
    "version": 3
   },
   "file_extension": ".py",
   "mimetype": "text/x-python",
   "name": "python",
   "nbconvert_exporter": "python",
   "pygments_lexer": "ipython3",
   "version": "3.9.21"
  }
 },
 "nbformat": 4,
 "nbformat_minor": 2
}
