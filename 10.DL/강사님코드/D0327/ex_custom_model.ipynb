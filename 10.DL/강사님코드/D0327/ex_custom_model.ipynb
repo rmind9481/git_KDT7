{
 "cells": [
  {
   "cell_type": "markdown",
   "metadata": {},
   "source": [
    "[ Custom Model Class 정의 및 설계]\n",
    "- 데이테셋 및 구현방법에 따른 모델 설계\n",
    "- 부모클래스 : nn.Module\n",
    "- 필수 오버라이딩 메서드 : 상속 받은 메서드 중 재정의하는 것\n",
    "    *  _ _init_ _(self)   : 모델 구조/구성 요소 정의 \n",
    "    * forward(self, data) : 전방향/순방향 학습 기능 메서드"
   ]
  },
  {
   "cell_type": "markdown",
   "metadata": {},
   "source": [
    "[1] 모듈 로딩 <hr>"
   ]
  },
  {
   "cell_type": "code",
   "execution_count": 1,
   "metadata": {},
   "outputs": [],
   "source": [
    "import torch                        # tensor, 내장함수 및 클래스 관련 모듈\n",
    "import torch.nn as nn               # 인공신경망 관련 층, 함수 클래스 모듈\n",
    "import torch.nn.functional as F     # 인공신경망 관련 층, AF, LF 함수 모듈\n",
    "\n",
    "import pandas as pd                 # 데이터 로딩 및 전처리 관련 모듈 \n",
    "import numpy as np                  # raw 데이터 즉, ndarray 데이터 관련 모듈\n"
   ]
  },
  {
   "cell_type": "markdown",
   "metadata": {},
   "source": [
    "[2] 커스텀 모델 클래스 설계 <hr>"
   ]
  },
  {
   "cell_type": "code",
   "execution_count": 8,
   "metadata": {},
   "outputs": [],
   "source": [
    "## [2-1] 고정된 층과 퍼셉트론 구성 모델\n",
    "## - 데 이  터 셋 : 피쳐 3 , 타겟 1 , 타겟 연속형\n",
    "## - 학습    방법 : 지도학습 - 회귀\n",
    "## - 구현알고리즘 : 인공신경망계열 DNN \n",
    "## -------------------------------------------------\n",
    "##             입력       출력/퍼셉트론수    활성화함수\n",
    "## - 입력층      3        20                ReLU\n",
    "## - 은닉층      20       10                ReLU\n",
    "## - 은닉층      10        5                ReLU\n",
    "## - 출력층       5        1                 -\n",
    "## -------------------------------------------------\n",
    "class CutomModel(nn.Module):\n",
    "    # 인스턴스 초기화 및 생성 메서드\n",
    "    def __init__(self):\n",
    "        super().__init__()\n",
    "        print('__init__()')\n",
    "        self.in_layer=nn.Linear(3, 20)\n",
    "        self.hd_layer1=nn.Linear(20, 10)\n",
    "        self.hd_layer2=nn.Linear(10, 5)\n",
    "        self.out_layer=nn.Linear(5, 1)\n",
    "\n",
    "    # 순전파 학습 메서드 \n",
    "    def forward(self, data):\n",
    "        #- 입력층\n",
    "        out=self.in_layer(data)      # data * weight + b\n",
    "        out=F.relu(out)              # AF(data * weight + b) 결과물\n",
    "\n",
    "        #- 은닉층1\n",
    "        out=self.hd_layer1(out)      # out * weight + b\n",
    "        out=F.relu(out)              # AF(out * weight + b) 결과물        \n",
    "\n",
    "        #- 은닉층2\n",
    "        out=self.hd_layer2(out)      # out * weight + b\n",
    "        out=F.relu(out)              # AF(out * weight + b) 결과물    \n",
    "\n",
    "        #- 출력층 : 회귀로 결과 그래도 반환\n",
    "        out=self.out_layer(out)      # out * weight + b\n",
    "\n",
    "        return out \n",
    "               "
   ]
  },
  {
   "cell_type": "code",
   "execution_count": null,
   "metadata": {},
   "outputs": [
    {
     "name": "stdout",
     "output_type": "stream",
     "text": [
      "__init__()\n",
      "CutomModel(\n",
      "  (in_layer): Linear(in_features=3, out_features=20, bias=True)\n",
      "  (hd_layer1): Linear(in_features=20, out_features=10, bias=True)\n",
      "  (hd_layer2): Linear(in_features=10, out_features=5, bias=True)\n",
      "  (out_layer): Linear(in_features=5, out_features=1, bias=True)\n",
      ")\n"
     ]
    }
   ],
   "source": [
    "## - 모델 사용 -----------------------------------\n",
    "## 모델 인스턴스 생성 \n",
    "model=CutomModel()\n",
    "\n",
    "## 모델 구조 확인\n",
    "print(model)"
   ]
  },
  {
   "cell_type": "code",
   "execution_count": 12,
   "metadata": {},
   "outputs": [
    {
     "name": "stdout",
     "output_type": "stream",
     "text": [
      "tensor([[10.,  5.,  8.],\n",
      "        [ 5.,  9.,  7.]])\n"
     ]
    }
   ],
   "source": [
    "## 모델 동작 테스트\n",
    "data=torch.FloatTensor([[10,5,8],[5,9,7]])\n",
    "print(data)\n",
    "\n",
    "## 모델에 데이터 전달\n",
    "pre=model(data)"
   ]
  },
  {
   "cell_type": "code",
   "execution_count": null,
   "metadata": {},
   "outputs": [],
   "source": []
  }
 ],
 "metadata": {
  "kernelspec": {
   "display_name": "DL_TORCH",
   "language": "python",
   "name": "python3"
  },
  "language_info": {
   "codemirror_mode": {
    "name": "ipython",
    "version": 3
   },
   "file_extension": ".py",
   "mimetype": "text/x-python",
   "name": "python",
   "nbconvert_exporter": "python",
   "pygments_lexer": "ipython3",
   "version": "3.9.21"
  }
 },
 "nbformat": 4,
 "nbformat_minor": 2
}
