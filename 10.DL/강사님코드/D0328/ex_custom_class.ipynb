{
 "cells": [
  {
   "cell_type": "markdown",
   "metadata": {},
   "source": [
    "#### [ 커스텀 클래스의 오버라이딩 메서드 ]"
   ]
  },
  {
   "cell_type": "code",
   "execution_count": 38,
   "metadata": {},
   "outputs": [],
   "source": [
    "class Test:\n",
    "\n",
    "    # 클래스 초기화 기능의 메서드로 인스턴스(속성) 메모리 저장 기능 \n",
    "    # 생성자(Constructor) --- Test()\n",
    "    def __init__(self, num, name):\n",
    "        self.num=num\n",
    "        self.name=name  \n",
    "\n",
    "    def __str__(self):\n",
    "        print(\"__str__()\")\n",
    "\n",
    "    def __add__(self, other):\n",
    "        print(\"__add__()\")\n",
    "        return self.num + other.num\n",
    "    \n",
    "    def __mul__(self, other):\n",
    "        print(\"__multi__()\")\n",
    "        return self.num ** other.num\n",
    "\n",
    "    def __call__(self, data):\n",
    "        print('__call__()', data)\n",
    "        return \"Calling~\"\n"
   ]
  },
  {
   "cell_type": "code",
   "execution_count": 39,
   "metadata": {},
   "outputs": [],
   "source": [
    "## 인스턴스 생성\n",
    "t1 = Test(10, \"A\")\n",
    "t2 = Test(5, \"B\")"
   ]
  },
  {
   "cell_type": "code",
   "execution_count": 40,
   "metadata": {},
   "outputs": [
    {
     "name": "stdout",
     "output_type": "stream",
     "text": [
      "__multi__()\n",
      "__add__()\n"
     ]
    },
    {
     "data": {
      "text/plain": [
       "(100000, 15)"
      ]
     },
     "execution_count": 40,
     "metadata": {},
     "output_type": "execute_result"
    }
   ],
   "source": [
    "## 연산자 오버라이딩 사용\n",
    "t1*t2, t1+t2"
   ]
  },
  {
   "cell_type": "code",
   "execution_count": null,
   "metadata": {},
   "outputs": [
    {
     "name": "stdout",
     "output_type": "stream",
     "text": [
      "__call__() GOOD\n"
     ]
    },
    {
     "data": {
      "text/plain": [
       "'Calling~'"
      ]
     },
     "execution_count": 41,
     "metadata": {},
     "output_type": "execute_result"
    }
   ],
   "source": [
    "## 인스턴스 변수명으로 호출이 가능하도록 오버라이딩 \n",
    "t1(\"GOOD\")"
   ]
  },
  {
   "cell_type": "code",
   "execution_count": null,
   "metadata": {},
   "outputs": [],
   "source": []
  }
 ],
 "metadata": {
  "kernelspec": {
   "display_name": "DL_TORCH",
   "language": "python",
   "name": "python3"
  },
  "language_info": {
   "codemirror_mode": {
    "name": "ipython",
    "version": 3
   },
   "file_extension": ".py",
   "mimetype": "text/x-python",
   "name": "python",
   "nbconvert_exporter": "python",
   "pygments_lexer": "ipython3",
   "version": "3.9.21"
  }
 },
 "nbformat": 4,
 "nbformat_minor": 2
}
