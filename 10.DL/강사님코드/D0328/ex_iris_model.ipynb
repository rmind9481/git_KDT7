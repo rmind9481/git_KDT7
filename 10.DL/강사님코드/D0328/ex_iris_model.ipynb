{
 "cells": [
  {
   "cell_type": "markdown",
   "metadata": {},
   "source": [
    "#### [ Pytorch DL MODEL 실습 ]"
   ]
  },
  {
   "cell_type": "markdown",
   "metadata": {},
   "source": [
    "- 데이터셋 : iris.csv \n",
    "- 학습방법 : 지도학습 + 분류 ==> 2진분류"
   ]
  },
  {
   "cell_type": "markdown",
   "metadata": {},
   "source": [
    "[1] 모듈로딩 및 데이터 준비<hr>"
   ]
  },
  {
   "cell_type": "code",
   "execution_count": 82,
   "metadata": {},
   "outputs": [],
   "source": [
    "## 모듈로딩\n",
    "import pandas as pd                                     ## 데이터 관련 모듈들\n",
    "import numpy as np \n",
    "\n",
    "import torch                                            ## Tensor 및 기본 함수들 관련 모듈들\n",
    "import torch.nn as nn                                   ## 인공신경망 관련 모듈들\n",
    "import torch.nn.functional as F                         ## 인공신경망 관련 함수들\n",
    "import torch.optim as optim                             ## 최적화 모듈\n",
    "\n",
    "from sklearn.model_selection import train_test_split    ## 학습용 데이터셋 관련 함수"
   ]
  },
  {
   "cell_type": "code",
   "execution_count": 83,
   "metadata": {},
   "outputs": [],
   "source": [
    "## 데이터 준비\n",
    "DATA_FILE = '../data/file/iris.csv'"
   ]
  },
  {
   "cell_type": "markdown",
   "metadata": {},
   "source": [
    "[2] 데이터 로딩 및 확인<hr>"
   ]
  },
  {
   "cell_type": "code",
   "execution_count": 84,
   "metadata": {},
   "outputs": [
    {
     "name": "stdout",
     "output_type": "stream",
     "text": [
      "<class 'pandas.core.frame.DataFrame'>\n",
      "RangeIndex: 100 entries, 0 to 99\n",
      "Data columns (total 5 columns):\n",
      " #   Column        Non-Null Count  Dtype  \n",
      "---  ------        --------------  -----  \n",
      " 0   sepal.length  100 non-null    float64\n",
      " 1   sepal.width   100 non-null    float64\n",
      " 2   petal.length  100 non-null    float64\n",
      " 3   petal.width   100 non-null    float64\n",
      " 4   variety       100 non-null    object \n",
      "dtypes: float64(4), object(1)\n",
      "memory usage: 4.0+ KB\n"
     ]
    }
   ],
   "source": [
    "## 데이터 로딩\n",
    "irisDF = pd.read_csv(DATA_FILE, skipfooter=50, engine='python')\n",
    "\n",
    "irisDF.info()"
   ]
  },
  {
   "cell_type": "code",
   "execution_count": 85,
   "metadata": {},
   "outputs": [
    {
     "data": {
      "text/plain": [
       "array(['Setosa', 'Versicolor'], dtype=object)"
      ]
     },
     "execution_count": 85,
     "metadata": {},
     "output_type": "execute_result"
    }
   ],
   "source": [
    "## 데이터 확인\n",
    "irisDF.variety.unique()"
   ]
  },
  {
   "cell_type": "code",
   "execution_count": 86,
   "metadata": {},
   "outputs": [],
   "source": [
    "pd.set_option('future.no_silent_downcasting', True)\n",
    "irisDF.variety=irisDF.variety.replace({'Setosa':0, 'Versicolor':1})"
   ]
  },
  {
   "cell_type": "code",
   "execution_count": 87,
   "metadata": {},
   "outputs": [
    {
     "data": {
      "text/plain": [
       "sepal.length    float64\n",
       "sepal.width     float64\n",
       "petal.length    float64\n",
       "petal.width     float64\n",
       "variety           int64\n",
       "dtype: object"
      ]
     },
     "execution_count": 87,
     "metadata": {},
     "output_type": "execute_result"
    }
   ],
   "source": [
    "irisDF.variety=irisDF.variety.astype('int')\n",
    "irisDF.dtypes"
   ]
  },
  {
   "cell_type": "markdown",
   "metadata": {},
   "source": [
    "[3] 데이터 셋 준비<hr>"
   ]
  },
  {
   "cell_type": "code",
   "execution_count": 88,
   "metadata": {},
   "outputs": [
    {
     "name": "stdout",
     "output_type": "stream",
     "text": [
      "[FeatureDF] (100, 4), 2D\n",
      "[targetSR]  (100,),  1D\n"
     ]
    }
   ],
   "source": [
    "## 피쳐와 타겟 분리 \n",
    "featureDF =irisDF[irisDF.columns[:-1]]   # Feature 4개\n",
    "targetSR = irisDF[irisDF.columns[-1]]    # 품종 1개\n",
    "\n",
    "print(f'[FeatureDF] {featureDF.shape}, {featureDF.ndim}D')\n",
    "print(f'[targetSR]  {targetSR.shape},  {targetSR.ndim}D')"
   ]
  },
  {
   "cell_type": "code",
   "execution_count": 89,
   "metadata": {},
   "outputs": [
    {
     "name": "stdout",
     "output_type": "stream",
     "text": [
      "[X_train] (80, 4), 2D  [y_train] (80,), 1D\n",
      "[X_test]  (20, 4), 2D  [y_test] (20,), 1D\n"
     ]
    }
   ],
   "source": [
    "## 학습용, 테스트용 데이터셋 분리 \n",
    "X_train, X_test, y_train, y_test = train_test_split(featureDF, \n",
    "                                                    targetSR, \n",
    "                                                    test_size=0.2,\n",
    "                                                    stratify=targetSR,\n",
    "                                                    random_state=42)\n",
    "\n",
    "print(f'[X_train] {X_train.shape}, {X_train.ndim}D  [y_train] {y_train.shape}, {y_train.ndim}D')\n",
    "print(f'[X_test]  {X_test.shape}, {X_test.ndim}D  [y_test] {y_test.shape}, {y_test.ndim}D')\n"
   ]
  },
  {
   "cell_type": "markdown",
   "metadata": {},
   "source": [
    "[4] 모델 설계 및 클래스 구현<hr>"
   ]
  },
  {
   "cell_type": "code",
   "execution_count": 90,
   "metadata": {},
   "outputs": [],
   "source": [
    "# 모델 클래스 설계 ----------------------------------------------------------------------\n",
    "## 회귀용 커스텀 모델 \n",
    "## 클래스이름 : IrisModel\n",
    "## 부모클래스 : nn.Module\n",
    "## 모델층구성   입력신호/피쳐수       출력신호수/퍼셉트론수          활성화함수\n",
    "## - 입력층  :      4                     100                     ReLu\n",
    "## - 은닉층  :     100                     30                     ReLu \n",
    "## - 출력층  :      30                      1                     Sigmoid\n",
    "## - -----------------------------------------------------------------------------------\n",
    "class IrisModel(nn.Module):\n",
    "    ## 모델 층 설계 및 초기화 메서드 \n",
    "    def __init__(self):\n",
    "        super().__init__()\n",
    "        self.in_layer  = nn.Linear(4,  100)\n",
    "        self.hd_layer  = nn.Linear(100, 30)\n",
    "        self.out_layer = nn.Linear(30,  1)\n",
    "\n",
    "    ## 학습 진행 메서드 \n",
    "    def forward(self, data):\n",
    "        ## 입력층\n",
    "        out = F.relu( self.in_layer(data) )\n",
    "        ## 은닉층\n",
    "        out = F.relu( self.hd_layer(out) )\n",
    "        ## 출력층\n",
    "        return F.sigmoid( self.out_layer(out) )"
   ]
  },
  {
   "cell_type": "code",
   "execution_count": 91,
   "metadata": {},
   "outputs": [
    {
     "name": "stdout",
     "output_type": "stream",
     "text": [
      "IrisModel(\n",
      "  (in_layer): Linear(in_features=4, out_features=100, bias=True)\n",
      "  (hd_layer): Linear(in_features=100, out_features=30, bias=True)\n",
      "  (out_layer): Linear(in_features=30, out_features=1, bias=True)\n",
      ")\n"
     ]
    },
    {
     "data": {
      "text/plain": [
       "tensor([[0.5108]], grad_fn=<SigmoidBackward0>)"
      ]
     },
     "execution_count": 91,
     "metadata": {},
     "output_type": "execute_result"
    }
   ],
   "source": [
    "## 모델 구조 확인\n",
    "model = IrisModel()\n",
    "print( model )\n",
    "\n",
    "## shape 체크\n",
    "data = torch.FloatTensor( [[1.,3.2, 1.9, 2.6]] )   # (1, 4)\n",
    "model(data)"
   ]
  },
  {
   "cell_type": "markdown",
   "metadata": {},
   "source": [
    "[5] 학습 준비 <hr>"
   ]
  },
  {
   "cell_type": "markdown",
   "metadata": {},
   "source": [
    "- [5-1] 학습관련 변수들"
   ]
  },
  {
   "cell_type": "code",
   "execution_count": 92,
   "metadata": {},
   "outputs": [
    {
     "name": "stdout",
     "output_type": "stream",
     "text": [
      "DEVICE : cpu, EPOCHS : 10, BATCH_SIZE : 40 ITERATION : 2\n"
     ]
    }
   ],
   "source": [
    "\n",
    "EPOCHS      = 10                                    # 학습용 DS을 처음부터 끝까지 1번 학습하는 것을 에포크\n",
    "BATCH_SIZE  = 40                                    # DS을 학습량 만큼 나눈 사이즈 \n",
    "ITERATION   = int(X_train.shape[0]/BATCH_SIZE)      # 학습용 DS이 분리된 수 => 1에포크에 W, b 업데이트 횟수\n",
    "\n",
    "# 학습, 데이터셋 로딩 등 GPU에서 실행 여부 설정 \n",
    "DEVICE      = 'cuda' if torch.cuda.is_available() else 'cpu'\n",
    "\n",
    "print(f'DEVICE : {DEVICE}, EPOCHS : {EPOCHS}, BATCH_SIZE : {BATCH_SIZE} ITERATION : {ITERATION}')"
   ]
  },
  {
   "cell_type": "markdown",
   "metadata": {},
   "source": [
    "- [5-2]학습 관련 인스턴스들"
   ]
  },
  {
   "cell_type": "code",
   "execution_count": 93,
   "metadata": {},
   "outputs": [],
   "source": [
    "MODEL     = IrisModel()                     ## 학습 모델\n",
    "OPTIMIZER = optim.Adam(MODEL.parameters())  ## 최적화 즉, 경사하강법 알고리즘으로 W, b의 값 갱신\n",
    "LOSS_FN   = nn.BCELoss()                    ## 손실계산 인스턴스 "
   ]
  },
  {
   "cell_type": "markdown",
   "metadata": {},
   "source": [
    "- [5-3] 학습 관련 함수들"
   ]
  },
  {
   "cell_type": "code",
   "execution_count": 94,
   "metadata": {},
   "outputs": [],
   "source": [
    "##- 검증 함수 --------------------------------------------\n",
    "##- 검증용 데이터셋으로 모델 검증\n",
    "##- 학습 지속여부 결정 기준이 됨\n",
    "##- -----------------------------------------------------\n",
    "def evaluate():\n",
    "    # 에포크 단위로 검증 => 검증 모드\n",
    "    MODEL.eval()\n",
    "    \n",
    "    # W, b가 업데이트 해제\n",
    "    with torch.no_grad():\n",
    "        # 검증용 데이터셋 => 텐서화 ndarray ==> tensor변환\n",
    "        x = torch.FloatTensor(X_test.values) \n",
    "        y = torch.FloatTensor(y_test.values)\n",
    "        \n",
    "        # 검증진행\n",
    "        pre_y= MODEL(x)\n",
    "        \n",
    "        # 손실 계산\n",
    "        loss = LOSS_FN(pre_y, y.reshape(-1,1))\n",
    "\n",
    "    return loss.item()"
   ]
  },
  {
   "cell_type": "code",
   "execution_count": 95,
   "metadata": {},
   "outputs": [],
   "source": [
    "##- 학습 함수 --------------------------------------------\n",
    "##- 학습용 데이터셋으로 모델 검증\n",
    "##- -----------------------------------------------------\n",
    "def training():\n",
    "    # 학습 모드 설정\n",
    "    model.train()\n",
    "\n",
    "    E_LOSS=0\n",
    "    for i in range(ITERATION): \n",
    "        start = i*BATCH_SIZE\n",
    "        end = start + BATCH_SIZE\n",
    "\n",
    "        # ndarray ==> tensor변환\n",
    "        x = torch.FloatTensor(X_train.values[start:end]) \n",
    "        y = torch.FloatTensor(y_train.values[start:end])\n",
    "                                                                    \n",
    "        # 가중치 기울기 0 초기화\n",
    "        OPTIMIZER.zero_grad()\n",
    "\n",
    "        # 학습 진행\n",
    "        pre_y = MODEL(x)\n",
    "\n",
    "        # 손실 계산\n",
    "        loss = LOSS_FN(pre_y, y.reshape(-1,1))\n",
    "        \n",
    "        # 역전파 진행\n",
    "        loss.backward()\n",
    "\n",
    "        # 가중치/절편 업데이트\n",
    "        OPTIMIZER.step()\n",
    "\n",
    "        E_LOSS += loss.item()\n",
    "\n",
    "    return E_LOSS/ITERATION"
   ]
  },
  {
   "cell_type": "code",
   "execution_count": 96,
   "metadata": {},
   "outputs": [
    {
     "name": "stdout",
     "output_type": "stream",
     "text": [
      "\n",
      "EPOCH[0/10]----------------\n",
      "- TRAIN_LOSS 0.64427\n",
      "- VALID_LOSS 0.61541\n",
      "\n",
      "EPOCH[1/10]----------------\n",
      "- TRAIN_LOSS 0.61633\n",
      "- VALID_LOSS 0.59666\n",
      "\n",
      "EPOCH[2/10]----------------\n",
      "- TRAIN_LOSS 0.59843\n",
      "- VALID_LOSS 0.57838\n",
      "\n",
      "EPOCH[3/10]----------------\n",
      "- TRAIN_LOSS 0.58058\n",
      "- VALID_LOSS 0.55928\n",
      "\n",
      "EPOCH[4/10]----------------\n",
      "- TRAIN_LOSS 0.56199\n",
      "- VALID_LOSS 0.53967\n",
      "\n",
      "EPOCH[5/10]----------------\n",
      "- TRAIN_LOSS 0.54281\n",
      "- VALID_LOSS 0.51974\n",
      "\n",
      "EPOCH[6/10]----------------\n",
      "- TRAIN_LOSS 0.52325\n",
      "- VALID_LOSS 0.49931\n",
      "\n",
      "EPOCH[7/10]----------------\n",
      "- TRAIN_LOSS 0.50310\n",
      "- VALID_LOSS 0.47783\n",
      "\n",
      "EPOCH[8/10]----------------\n",
      "- TRAIN_LOSS 0.48228\n",
      "- VALID_LOSS 0.45607\n",
      "\n",
      "EPOCH[9/10]----------------\n",
      "- TRAIN_LOSS 0.46117\n",
      "- VALID_LOSS 0.43415\n"
     ]
    }
   ],
   "source": [
    "# 에포크 : DS 처음부터 ~ 끝까지 학습  \n",
    "LOSS_HIST ={'Train':[], 'Valid':[]}   \n",
    "\n",
    "# 에포크 단위 학습/검증 진행 \n",
    "for epoch in range(EPOCHS):\n",
    "    trainLoss = training()\n",
    "    validLoss = evaluate()\n",
    "\n",
    "    LOSS_HIST['Train'].append(trainLoss)\n",
    "    LOSS_HIST['Valid'].append(validLoss)\n",
    "\n",
    "    print(f'\\nEPOCH[{epoch}/{EPOCHS}]----------------')\n",
    "    print(f'- TRAIN_LOSS {trainLoss:.5f}')\n",
    "    print(f'- VALID_LOSS {validLoss:.5f}')"
   ]
  },
  {
   "cell_type": "code",
   "execution_count": 97,
   "metadata": {},
   "outputs": [
    {
     "data": {
      "image/png": "[encoded data removed]",
      "text/plain": [
       "<Figure size 640x480 with 1 Axes>"
      ]
     },
     "metadata": {},
     "output_type": "display_data"
    }
   ],
   "source": [
    "## 모델 성능 시각화 \n",
    "import matplotlib.pyplot as plt\n",
    "\n",
    "plt.plot(LOSS_HIST['Train'], 'bo--', label='Train')\n",
    "plt.plot(LOSS_HIST['Valid'], 'ro--', label='Valid')\n",
    "plt.grid()\n",
    "plt.legend()\n",
    "plt.xlabel('EPOCHS')\n",
    "plt.ylabel('LOSS')\n",
    "plt.show()"
   ]
  },
  {
   "cell_type": "code",
   "execution_count": null,
   "metadata": {},
   "outputs": [],
   "source": []
  }
 ],
 "metadata": {
  "kernelspec": {
   "display_name": "DL_TORCH",
   "language": "python",
   "name": "python3"
  },
  "language_info": {
   "codemirror_mode": {
    "name": "ipython",
    "version": 3
   },
   "file_extension": ".py",
   "mimetype": "text/x-python",
   "name": "python",
   "nbconvert_exporter": "python",
   "pygments_lexer": "ipython3",
   "version": "3.9.21"
  }
 },
 "nbformat": 4,
 "nbformat_minor": 2
}
