{
 "cells": [
  {
   "cell_type": "markdown",
   "metadata": {},
   "source": [
    "#### [ Pytorch DL MODEL 실습 ]"
   ]
  },
  {
   "cell_type": "markdown",
   "metadata": {},
   "source": [
    "- 데이터셋 : iris.csv \n",
    "- 학습방법 : 지도학습 + 분류 ==>  다중분류"
   ]
  },
  {
   "cell_type": "markdown",
   "metadata": {},
   "source": [
    "[1] 모듈로딩 및 데이터 준비<hr>"
   ]
  },
  {
   "cell_type": "code",
   "execution_count": 18,
   "metadata": {},
   "outputs": [],
   "source": [
    "## 모듈로딩\n",
    "import pandas as pd                                     ## 데이터 관련 모듈들\n",
    "import numpy as np \n",
    "\n",
    "import torch                                            ## Tensor 및 기본 함수들 관련 모듈들\n",
    "import torch.nn as nn                                   ## 인공신경망 관련 모듈들\n",
    "import torch.nn.functional as F                         ## 인공신경망 관련 함수들\n",
    "import torch.optim as optim                             ## 최적화 모듈\n",
    "\n",
    "from sklearn.model_selection import train_test_split    ## 학습용 데이터셋 관련 함수"
   ]
  },
  {
   "cell_type": "code",
   "execution_count": 19,
   "metadata": {},
   "outputs": [],
   "source": [
    "## 데이터 준비\n",
    "DATA_FILE = '../data/file/iris.csv'"
   ]
  },
  {
   "cell_type": "markdown",
   "metadata": {},
   "source": [
    "[2] 데이터 로딩 및 확인<hr>"
   ]
  },
  {
   "cell_type": "code",
   "execution_count": 20,
   "metadata": {},
   "outputs": [
    {
     "name": "stdout",
     "output_type": "stream",
     "text": [
      "<class 'pandas.core.frame.DataFrame'>\n",
      "RangeIndex: 150 entries, 0 to 149\n",
      "Data columns (total 5 columns):\n",
      " #   Column        Non-Null Count  Dtype  \n",
      "---  ------        --------------  -----  \n",
      " 0   sepal.length  150 non-null    float64\n",
      " 1   sepal.width   150 non-null    float64\n",
      " 2   petal.length  150 non-null    float64\n",
      " 3   petal.width   150 non-null    float64\n",
      " 4   variety       150 non-null    object \n",
      "dtypes: float64(4), object(1)\n",
      "memory usage: 6.0+ KB\n"
     ]
    }
   ],
   "source": [
    "## 데이터 로딩\n",
    "irisDF = pd.read_csv(DATA_FILE)\n",
    "\n",
    "irisDF.info()"
   ]
  },
  {
   "cell_type": "code",
   "execution_count": 21,
   "metadata": {},
   "outputs": [
    {
     "data": {
      "text/plain": [
       "array(['Setosa', 'Versicolor', 'Virginica'], dtype=object)"
      ]
     },
     "execution_count": 21,
     "metadata": {},
     "output_type": "execute_result"
    }
   ],
   "source": [
    "## 데이터 확인\n",
    "irisDF.variety.unique()"
   ]
  },
  {
   "cell_type": "code",
   "execution_count": 22,
   "metadata": {},
   "outputs": [],
   "source": [
    "pd.set_option('future.no_silent_downcasting', True)\n",
    "irisDF.variety=irisDF.variety.replace({'Setosa':0, 'Versicolor':1, 'Virginica':2})"
   ]
  },
  {
   "cell_type": "code",
   "execution_count": 23,
   "metadata": {},
   "outputs": [
    {
     "data": {
      "text/plain": [
       "sepal.length    float64\n",
       "sepal.width     float64\n",
       "petal.length    float64\n",
       "petal.width     float64\n",
       "variety           int64\n",
       "dtype: object"
      ]
     },
     "execution_count": 23,
     "metadata": {},
     "output_type": "execute_result"
    }
   ],
   "source": [
    "irisDF.variety=irisDF.variety.astype('int')\n",
    "irisDF.dtypes"
   ]
  },
  {
   "cell_type": "markdown",
   "metadata": {},
   "source": [
    "[3] 데이터 셋 준비<hr>"
   ]
  },
  {
   "cell_type": "code",
   "execution_count": 24,
   "metadata": {},
   "outputs": [
    {
     "name": "stdout",
     "output_type": "stream",
     "text": [
      "[FeatureDF] (150, 4), 2D\n",
      "[targetSR]  (150,),  1D\n"
     ]
    }
   ],
   "source": [
    "## 피쳐와 타겟 분리 \n",
    "featureDF =irisDF[irisDF.columns[:-1]]   # Feature 4개\n",
    "targetSR = irisDF[irisDF.columns[-1]]    # 품종 1개\n",
    "\n",
    "print(f'[FeatureDF] {featureDF.shape}, {featureDF.ndim}D')\n",
    "print(f'[targetSR]  {targetSR.shape},  {targetSR.ndim}D')"
   ]
  },
  {
   "cell_type": "code",
   "execution_count": 25,
   "metadata": {},
   "outputs": [
    {
     "name": "stdout",
     "output_type": "stream",
     "text": [
      "[X_train] (120, 4), 2D  [y_train] (120,), 1D\n",
      "[X_test]  (30, 4), 2D  [y_test] (30,), 1D\n"
     ]
    }
   ],
   "source": [
    "## 학습용, 테스트용 데이터셋 분리 \n",
    "X_train, X_test, y_train, y_test = train_test_split(featureDF, \n",
    "                                                    targetSR, \n",
    "                                                    test_size=0.2,\n",
    "                                                    stratify=targetSR,\n",
    "                                                    random_state=42)\n",
    "\n",
    "print(f'[X_train] {X_train.shape}, {X_train.ndim}D  [y_train] {y_train.shape}, {y_train.ndim}D')\n",
    "print(f'[X_test]  {X_test.shape}, {X_test.ndim}D  [y_test] {y_test.shape}, {y_test.ndim}D')\n"
   ]
  },
  {
   "cell_type": "markdown",
   "metadata": {},
   "source": [
    "[4] 모델 설계 및 클래스 구현<hr>"
   ]
  },
  {
   "cell_type": "code",
   "execution_count": 26,
   "metadata": {},
   "outputs": [],
   "source": [
    "# 모델 클래스 설계 ----------------------------------------------------------------------\n",
    "## 회귀용 커스텀 모델 \n",
    "## 클래스이름 : IrisModel\n",
    "## 부모클래스 : nn.Module\n",
    "## 모델층구성   입력신호/피쳐수       출력신호수/퍼셉트론수       활성화함수\n",
    "## - 입력층  :      4                     100                 ReLu\n",
    "## - 은닉층  :     100                     30                 ReLu \n",
    "## - 출력층  :      30                     3                  Softmax => 손실함수 내 포함\n",
    "## - -----------------------------------------------------------------------------------\n",
    "class IrisModel(nn.Module):\n",
    "    ## 모델 층 설계 및 초기화 메서드 \n",
    "    def __init__(self):\n",
    "        super().__init__()\n",
    "        self.in_layer  = nn.Linear(4,  100)\n",
    "        self.hd_layer  = nn.Linear(100, 30)\n",
    "        self.out_layer = nn.Linear(30,  3)\n",
    "\n",
    "    ## 학습 진행 메서드 \n",
    "    def forward(self, data):\n",
    "        ## 입력층\n",
    "        out = F.relu( self.in_layer(data) )\n",
    "        ## 은닉층\n",
    "        out = F.relu( self.hd_layer(out) )\n",
    "        ## 출력층\n",
    "        return self.out_layer(out) \n",
    "    "
   ]
  },
  {
   "cell_type": "code",
   "execution_count": 27,
   "metadata": {},
   "outputs": [
    {
     "name": "stdout",
     "output_type": "stream",
     "text": [
      "IrisModel(\n",
      "  (in_layer): Linear(in_features=4, out_features=100, bias=True)\n",
      "  (hd_layer): Linear(in_features=100, out_features=30, bias=True)\n",
      "  (out_layer): Linear(in_features=30, out_features=3, bias=True)\n",
      ")\n"
     ]
    },
    {
     "data": {
      "text/plain": [
       "tensor([[-0.1103,  0.0879, -0.0422]], grad_fn=<AddmmBackward0>)"
      ]
     },
     "execution_count": 27,
     "metadata": {},
     "output_type": "execute_result"
    }
   ],
   "source": [
    "## 모델 구조 확인\n",
    "model = IrisModel()\n",
    "print( model )\n",
    "\n",
    "## shape 체크\n",
    "data = torch.FloatTensor( [[1.,3.2, 1.9, 2.6]] )   # (1, 4)\n",
    "model(data)"
   ]
  },
  {
   "cell_type": "markdown",
   "metadata": {},
   "source": [
    "[5] 학습 준비 <hr>"
   ]
  },
  {
   "cell_type": "markdown",
   "metadata": {},
   "source": [
    "- [5-1]학습 관련 설정들"
   ]
  },
  {
   "cell_type": "code",
   "execution_count": 28,
   "metadata": {},
   "outputs": [
    {
     "name": "stdout",
     "output_type": "stream",
     "text": [
      "DEVICE : cpu, EPOCHS : 100, BATCH_SIZE : 40 ITERATION : 3\n"
     ]
    }
   ],
   "source": [
    "\n",
    "EPOCHS      = 100                                   # 학습용 DS을 처음부터 끝까지 1번 학습하는 것을 에포크\n",
    "BATCH_SIZE  = 40                                    # DS을 학습량 만큼 나눈 사이즈 \n",
    "ITERATION   = int(X_train.shape[0]/BATCH_SIZE)      # 학습용 DS이 분리된 수 => 1에포크에 W, b 업데이트 횟수\n",
    "\n",
    "# 학습, 데이터셋 로딩 등 GPU에서 실행 여부 설정 \n",
    "DEVICE      = 'cuda' if torch.cuda.is_available() else 'cpu'\n",
    "\n",
    "print(f'DEVICE : {DEVICE}, EPOCHS : {EPOCHS}, BATCH_SIZE : {BATCH_SIZE} ITERATION : {ITERATION}')"
   ]
  },
  {
   "cell_type": "markdown",
   "metadata": {},
   "source": [
    "- [5-2] 학습 관련 인스턴스들"
   ]
  },
  {
   "cell_type": "code",
   "execution_count": 29,
   "metadata": {},
   "outputs": [],
   "source": [
    "\n",
    "LR        = 0.01  \n",
    "MODEL     = IrisModel()                             ## 학습 모델\n",
    "OPTIMIZER = optim.Adam(MODEL.parameters(), lr=LR)   ## 최적화 즉, 경사하강법 알고리즘으로 W, b의 값 갱신\n",
    "LOSS_FN   = nn.CrossEntropyLoss()                   ## 다중분류 손실함수\n"
   ]
  },
  {
   "cell_type": "markdown",
   "metadata": {},
   "source": [
    "- [5-3] 학습관련 함수들"
   ]
  },
  {
   "cell_type": "code",
   "execution_count": 30,
   "metadata": {},
   "outputs": [],
   "source": [
    "\n",
    "##- 검증 함수 --------------------------------------------\n",
    "##- 검증용 데이터셋으로 모델 검증\n",
    "##- 학습 지속여부 결정 기준이 됨\n",
    "##- -----------------------------------------------------\n",
    "def evaluate():\n",
    "    # 에포크 단위로 검증 => 검증 모드\n",
    "    MODEL.eval()\n",
    "    \n",
    "    # W, b가 업데이트 해제\n",
    "    with torch.no_grad():\n",
    "        # 검증용 데이터셋 => 텐서화 ndarray ==> tensor변환\n",
    "        x = torch.FloatTensor(X_test.values) \n",
    "        y = torch.FloatTensor(y_test.values)\n",
    "        \n",
    "        # 검증진행\n",
    "        pre_y= MODEL(x)\n",
    "        \n",
    "        # 손실 계산\n",
    "        loss = LOSS_FN(pre_y, y.reshape(-1).long())\n",
    "\n",
    "    return loss.item()"
   ]
  },
  {
   "cell_type": "code",
   "execution_count": 31,
   "metadata": {},
   "outputs": [],
   "source": [
    "##- 학습 함수 --------------------------------------------\n",
    "##- 학습용 데이터셋으로 모델 검증\n",
    "##- -----------------------------------------------------\n",
    "def training():\n",
    "    # 학습 모드 설정\n",
    "    model.train()\n",
    "\n",
    "    E_LOSS=0\n",
    "    for i in range(ITERATION): \n",
    "        start = i*BATCH_SIZE\n",
    "        end = start + BATCH_SIZE\n",
    "\n",
    "        # ndarray ==> tensor변환\n",
    "        x = torch.FloatTensor(X_train.values[start:end]) \n",
    "        y = torch.FloatTensor(y_train.values[start:end])\n",
    "                                                                    \n",
    "        # 가중치 기울기 0 초기화\n",
    "        OPTIMIZER.zero_grad()\n",
    "\n",
    "        # 학습 진행\n",
    "        pre_y = MODEL(x)\n",
    "\n",
    "        # 손실 계산\n",
    "        loss = LOSS_FN(pre_y, y.reshape(-1).long())\n",
    "        \n",
    "        # 역전파 진행\n",
    "        loss.backward()\n",
    "\n",
    "        # 가중치/절편 업데이트\n",
    "        OPTIMIZER.step()\n",
    "\n",
    "        E_LOSS += loss.item()\n",
    "\n",
    "    return E_LOSS/ITERATION"
   ]
  },
  {
   "cell_type": "code",
   "execution_count": 32,
   "metadata": {},
   "outputs": [
    {
     "name": "stdout",
     "output_type": "stream",
     "text": [
      "\n",
      "EPOCH[0/100]----------------\n",
      "- TRAIN_LOSS 1.11160\n",
      "- VALID_LOSS 0.97348\n",
      "\n",
      "EPOCH[1/100]----------------\n",
      "- TRAIN_LOSS 0.90014\n",
      "- VALID_LOSS 0.80231\n",
      "\n",
      "EPOCH[2/100]----------------\n",
      "- TRAIN_LOSS 0.74894\n",
      "- VALID_LOSS 0.62821\n",
      "\n",
      "EPOCH[3/100]----------------\n",
      "- TRAIN_LOSS 0.58166\n",
      "- VALID_LOSS 0.49504\n",
      "\n",
      "EPOCH[4/100]----------------\n",
      "- TRAIN_LOSS 0.45124\n",
      "- VALID_LOSS 0.40835\n",
      "\n",
      "EPOCH[5/100]----------------\n",
      "- TRAIN_LOSS 0.37564\n",
      "- VALID_LOSS 0.33830\n",
      "\n",
      "EPOCH[6/100]----------------\n",
      "- TRAIN_LOSS 0.30257\n",
      "- VALID_LOSS 0.26730\n",
      "\n",
      "EPOCH[7/100]----------------\n",
      "- TRAIN_LOSS 0.23657\n",
      "- VALID_LOSS 0.21598\n",
      "\n",
      "EPOCH[8/100]----------------\n",
      "- TRAIN_LOSS 0.18043\n",
      "- VALID_LOSS 0.15264\n",
      "\n",
      "EPOCH[9/100]----------------\n",
      "- TRAIN_LOSS 0.13405\n",
      "- VALID_LOSS 0.11727\n",
      "\n",
      "EPOCH[10/100]----------------\n",
      "- TRAIN_LOSS 0.11907\n",
      "- VALID_LOSS 0.09384\n",
      "\n",
      "EPOCH[11/100]----------------\n",
      "- TRAIN_LOSS 0.09926\n",
      "- VALID_LOSS 0.10814\n",
      "\n",
      "EPOCH[12/100]----------------\n",
      "- TRAIN_LOSS 0.08251\n",
      "- VALID_LOSS 0.06890\n",
      "\n",
      "EPOCH[13/100]----------------\n",
      "- TRAIN_LOSS 0.08332\n",
      "- VALID_LOSS 0.06745\n",
      "\n",
      "EPOCH[14/100]----------------\n",
      "- TRAIN_LOSS 0.07724\n",
      "- VALID_LOSS 0.07049\n",
      "\n",
      "EPOCH[15/100]----------------\n",
      "- TRAIN_LOSS 0.06986\n",
      "- VALID_LOSS 0.05362\n",
      "\n",
      "EPOCH[16/100]----------------\n",
      "- TRAIN_LOSS 0.07301\n",
      "- VALID_LOSS 0.06365\n",
      "\n",
      "EPOCH[17/100]----------------\n",
      "- TRAIN_LOSS 0.06755\n",
      "- VALID_LOSS 0.05159\n",
      "\n",
      "EPOCH[18/100]----------------\n",
      "- TRAIN_LOSS 0.06909\n",
      "- VALID_LOSS 0.05009\n",
      "\n",
      "EPOCH[19/100]----------------\n",
      "- TRAIN_LOSS 0.06782\n",
      "- VALID_LOSS 0.05437\n",
      "\n",
      "EPOCH[20/100]----------------\n",
      "- TRAIN_LOSS 0.06499\n",
      "- VALID_LOSS 0.04565\n",
      "\n",
      "EPOCH[21/100]----------------\n",
      "- TRAIN_LOSS 0.06691\n",
      "- VALID_LOSS 0.05096\n",
      "\n",
      "EPOCH[22/100]----------------\n",
      "- TRAIN_LOSS 0.06408\n",
      "- VALID_LOSS 0.04595\n",
      "\n",
      "EPOCH[23/100]----------------\n",
      "- TRAIN_LOSS 0.06505\n",
      "- VALID_LOSS 0.04530\n",
      "\n",
      "EPOCH[24/100]----------------\n",
      "- TRAIN_LOSS 0.06432\n",
      "- VALID_LOSS 0.04722\n",
      "\n",
      "EPOCH[25/100]----------------\n",
      "- TRAIN_LOSS 0.06306\n",
      "- VALID_LOSS 0.04308\n",
      "\n",
      "EPOCH[26/100]----------------\n",
      "- TRAIN_LOSS 0.06390\n",
      "- VALID_LOSS 0.04571\n",
      "\n",
      "EPOCH[27/100]----------------\n",
      "- TRAIN_LOSS 0.06236\n",
      "- VALID_LOSS 0.04327\n",
      "\n",
      "EPOCH[28/100]----------------\n",
      "- TRAIN_LOSS 0.06278\n",
      "- VALID_LOSS 0.04307\n",
      "\n",
      "EPOCH[29/100]----------------\n",
      "- TRAIN_LOSS 0.06226\n",
      "- VALID_LOSS 0.04378\n",
      "\n",
      "EPOCH[30/100]----------------\n",
      "- TRAIN_LOSS 0.06161\n",
      "- VALID_LOSS 0.04181\n",
      "\n",
      "EPOCH[31/100]----------------\n",
      "- TRAIN_LOSS 0.06188\n",
      "- VALID_LOSS 0.04305\n",
      "\n",
      "EPOCH[32/100]----------------\n",
      "- TRAIN_LOSS 0.06101\n",
      "- VALID_LOSS 0.04179\n",
      "\n",
      "EPOCH[33/100]----------------\n",
      "- TRAIN_LOSS 0.06111\n",
      "- VALID_LOSS 0.04174\n",
      "\n",
      "EPOCH[34/100]----------------\n",
      "- TRAIN_LOSS 0.06072\n",
      "- VALID_LOSS 0.04196\n",
      "\n",
      "EPOCH[35/100]----------------\n",
      "- TRAIN_LOSS 0.06032\n",
      "- VALID_LOSS 0.04100\n",
      "\n",
      "EPOCH[36/100]----------------\n",
      "- TRAIN_LOSS 0.06031\n",
      "- VALID_LOSS 0.04157\n",
      "\n",
      "EPOCH[37/100]----------------\n",
      "- TRAIN_LOSS 0.05979\n",
      "- VALID_LOSS 0.04091\n",
      "\n",
      "EPOCH[38/100]----------------\n",
      "- TRAIN_LOSS 0.05973\n",
      "- VALID_LOSS 0.04089\n",
      "\n",
      "EPOCH[39/100]----------------\n",
      "- TRAIN_LOSS 0.05942\n",
      "- VALID_LOSS 0.04095\n",
      "\n",
      "EPOCH[40/100]----------------\n",
      "- TRAIN_LOSS 0.05913\n",
      "- VALID_LOSS 0.04048\n",
      "\n",
      "EPOCH[41/100]----------------\n",
      "- TRAIN_LOSS 0.05901\n",
      "- VALID_LOSS 0.04074\n",
      "\n",
      "EPOCH[42/100]----------------\n",
      "- TRAIN_LOSS 0.05865\n",
      "- VALID_LOSS 0.04041\n",
      "\n",
      "EPOCH[43/100]----------------\n",
      "- TRAIN_LOSS 0.05851\n",
      "- VALID_LOSS 0.04040\n",
      "\n",
      "EPOCH[44/100]----------------\n",
      "- TRAIN_LOSS 0.05826\n",
      "- VALID_LOSS 0.04042\n",
      "\n",
      "EPOCH[45/100]----------------\n",
      "- TRAIN_LOSS 0.05801\n",
      "- VALID_LOSS 0.04019\n",
      "\n",
      "EPOCH[46/100]----------------\n",
      "- TRAIN_LOSS 0.05785\n",
      "- VALID_LOSS 0.04032\n",
      "\n",
      "EPOCH[47/100]----------------\n",
      "- TRAIN_LOSS 0.05758\n",
      "- VALID_LOSS 0.04017\n",
      "\n",
      "EPOCH[48/100]----------------\n",
      "- TRAIN_LOSS 0.05741\n",
      "- VALID_LOSS 0.04017\n",
      "\n",
      "EPOCH[49/100]----------------\n",
      "- TRAIN_LOSS 0.05719\n",
      "- VALID_LOSS 0.04020\n",
      "\n",
      "EPOCH[50/100]----------------\n",
      "- TRAIN_LOSS 0.05697\n",
      "- VALID_LOSS 0.04010\n",
      "\n",
      "EPOCH[51/100]----------------\n",
      "- TRAIN_LOSS 0.05680\n",
      "- VALID_LOSS 0.04018\n",
      "\n",
      "EPOCH[52/100]----------------\n",
      "- TRAIN_LOSS 0.05657\n",
      "- VALID_LOSS 0.04013\n",
      "\n",
      "EPOCH[53/100]----------------\n",
      "- TRAIN_LOSS 0.05639\n",
      "- VALID_LOSS 0.04015\n",
      "\n",
      "EPOCH[54/100]----------------\n",
      "- TRAIN_LOSS 0.05620\n",
      "- VALID_LOSS 0.04020\n",
      "\n",
      "EPOCH[55/100]----------------\n",
      "- TRAIN_LOSS 0.05600\n",
      "- VALID_LOSS 0.04017\n",
      "\n",
      "EPOCH[56/100]----------------\n",
      "- TRAIN_LOSS 0.05582\n",
      "- VALID_LOSS 0.04025\n",
      "\n",
      "EPOCH[57/100]----------------\n",
      "- TRAIN_LOSS 0.05562\n",
      "- VALID_LOSS 0.04026\n",
      "\n",
      "EPOCH[58/100]----------------\n",
      "- TRAIN_LOSS 0.05544\n",
      "- VALID_LOSS 0.04030\n",
      "\n",
      "EPOCH[59/100]----------------\n",
      "- TRAIN_LOSS 0.05525\n",
      "- VALID_LOSS 0.04036\n",
      "\n",
      "EPOCH[60/100]----------------\n",
      "- TRAIN_LOSS 0.05507\n",
      "- VALID_LOSS 0.04040\n",
      "\n",
      "EPOCH[61/100]----------------\n",
      "- TRAIN_LOSS 0.05489\n",
      "- VALID_LOSS 0.04048\n",
      "\n",
      "EPOCH[62/100]----------------\n",
      "- TRAIN_LOSS 0.05465\n",
      "- VALID_LOSS 0.04030\n",
      "\n",
      "EPOCH[63/100]----------------\n",
      "- TRAIN_LOSS 0.05459\n",
      "- VALID_LOSS 0.04059\n",
      "\n",
      "EPOCH[64/100]----------------\n",
      "- TRAIN_LOSS 0.05439\n",
      "- VALID_LOSS 0.04090\n",
      "\n",
      "EPOCH[65/100]----------------\n",
      "- TRAIN_LOSS 0.05415\n",
      "- VALID_LOSS 0.04053\n",
      "\n",
      "EPOCH[66/100]----------------\n",
      "- TRAIN_LOSS 0.05410\n",
      "- VALID_LOSS 0.04105\n",
      "\n",
      "EPOCH[67/100]----------------\n",
      "- TRAIN_LOSS 0.05384\n",
      "- VALID_LOSS 0.04091\n",
      "\n",
      "EPOCH[68/100]----------------\n",
      "- TRAIN_LOSS 0.05371\n",
      "- VALID_LOSS 0.04098\n",
      "\n",
      "EPOCH[69/100]----------------\n",
      "- TRAIN_LOSS 0.05357\n",
      "- VALID_LOSS 0.04129\n",
      "\n",
      "EPOCH[70/100]----------------\n",
      "- TRAIN_LOSS 0.05335\n",
      "- VALID_LOSS 0.04115\n",
      "\n",
      "EPOCH[71/100]----------------\n",
      "- TRAIN_LOSS 0.05325\n",
      "- VALID_LOSS 0.04143\n",
      "\n",
      "EPOCH[72/100]----------------\n",
      "- TRAIN_LOSS 0.05306\n",
      "- VALID_LOSS 0.04152\n",
      "\n",
      "EPOCH[73/100]----------------\n",
      "- TRAIN_LOSS 0.05290\n",
      "- VALID_LOSS 0.04155\n",
      "\n",
      "EPOCH[74/100]----------------\n",
      "- TRAIN_LOSS 0.05278\n",
      "- VALID_LOSS 0.04182\n",
      "\n",
      "EPOCH[75/100]----------------\n",
      "- TRAIN_LOSS 0.05259\n",
      "- VALID_LOSS 0.04185\n",
      "\n",
      "EPOCH[76/100]----------------\n",
      "- TRAIN_LOSS 0.05246\n",
      "- VALID_LOSS 0.04201\n",
      "\n",
      "EPOCH[77/100]----------------\n",
      "- TRAIN_LOSS 0.05231\n",
      "- VALID_LOSS 0.04219\n",
      "\n",
      "EPOCH[78/100]----------------\n",
      "- TRAIN_LOSS 0.05215\n",
      "- VALID_LOSS 0.04227\n",
      "\n",
      "EPOCH[79/100]----------------\n",
      "- TRAIN_LOSS 0.05202\n",
      "- VALID_LOSS 0.04248\n",
      "\n",
      "EPOCH[80/100]----------------\n",
      "- TRAIN_LOSS 0.05187\n",
      "- VALID_LOSS 0.04261\n",
      "\n",
      "EPOCH[81/100]----------------\n",
      "- TRAIN_LOSS 0.05173\n",
      "- VALID_LOSS 0.04275\n",
      "\n",
      "EPOCH[82/100]----------------\n",
      "- TRAIN_LOSS 0.05160\n",
      "- VALID_LOSS 0.04295\n",
      "\n",
      "EPOCH[83/100]----------------\n",
      "- TRAIN_LOSS 0.05146\n",
      "- VALID_LOSS 0.04308\n",
      "\n",
      "EPOCH[84/100]----------------\n",
      "- TRAIN_LOSS 0.05133\n",
      "- VALID_LOSS 0.04327\n",
      "\n",
      "EPOCH[85/100]----------------\n",
      "- TRAIN_LOSS 0.05119\n",
      "- VALID_LOSS 0.04345\n",
      "\n",
      "EPOCH[86/100]----------------\n",
      "- TRAIN_LOSS 0.05106\n",
      "- VALID_LOSS 0.04360\n",
      "\n",
      "EPOCH[87/100]----------------\n",
      "- TRAIN_LOSS 0.05094\n",
      "- VALID_LOSS 0.04380\n",
      "\n",
      "EPOCH[88/100]----------------\n",
      "- TRAIN_LOSS 0.05081\n",
      "- VALID_LOSS 0.04398\n",
      "\n",
      "EPOCH[89/100]----------------\n",
      "- TRAIN_LOSS 0.05069\n",
      "- VALID_LOSS 0.04416\n",
      "\n",
      "EPOCH[90/100]----------------\n",
      "- TRAIN_LOSS 0.05057\n",
      "- VALID_LOSS 0.04436\n",
      "\n",
      "EPOCH[91/100]----------------\n",
      "- TRAIN_LOSS 0.05045\n",
      "- VALID_LOSS 0.04454\n",
      "\n",
      "EPOCH[92/100]----------------\n",
      "- TRAIN_LOSS 0.05033\n",
      "- VALID_LOSS 0.04474\n",
      "\n",
      "EPOCH[93/100]----------------\n",
      "- TRAIN_LOSS 0.05022\n",
      "- VALID_LOSS 0.04494\n",
      "\n",
      "EPOCH[94/100]----------------\n",
      "- TRAIN_LOSS 0.05011\n",
      "- VALID_LOSS 0.04513\n",
      "\n",
      "EPOCH[95/100]----------------\n",
      "- TRAIN_LOSS 0.05000\n",
      "- VALID_LOSS 0.04535\n",
      "\n",
      "EPOCH[96/100]----------------\n",
      "- TRAIN_LOSS 0.04989\n",
      "- VALID_LOSS 0.04554\n",
      "\n",
      "EPOCH[97/100]----------------\n",
      "- TRAIN_LOSS 0.04979\n",
      "- VALID_LOSS 0.04574\n",
      "\n",
      "EPOCH[98/100]----------------\n",
      "- TRAIN_LOSS 0.04969\n",
      "- VALID_LOSS 0.04595\n",
      "\n",
      "EPOCH[99/100]----------------\n",
      "- TRAIN_LOSS 0.04959\n",
      "- VALID_LOSS 0.04614\n"
     ]
    }
   ],
   "source": [
    "# 에포크 : DS 처음부터 ~ 끝까지 학습  \n",
    "LOSS_HIST ={'Train':[], 'Valid':[]}   \n",
    "\n",
    "# 에포크 단위 학습/검증 진행 \n",
    "for epoch in range(EPOCHS):\n",
    "    trainLoss = training()\n",
    "    validLoss = evaluate()\n",
    "\n",
    "    LOSS_HIST['Train'].append(trainLoss)\n",
    "    LOSS_HIST['Valid'].append(validLoss)\n",
    "\n",
    "    print(f'\\nEPOCH[{epoch}/{EPOCHS}]----------------')\n",
    "    print(f'- TRAIN_LOSS {trainLoss:.5f}')\n",
    "    print(f'- VALID_LOSS {validLoss:.5f}')"
   ]
  },
  {
   "cell_type": "code",
   "execution_count": 33,
   "metadata": {},
   "outputs": [
    {
     "data": {
      "image/png": "[encoded data removed]",
      "text/plain": [
       "<Figure size 640x480 with 1 Axes>"
      ]
     },
     "metadata": {},
     "output_type": "display_data"
    }
   ],
   "source": [
    "## 모델 성능 시각화 \n",
    "import matplotlib.pyplot as plt\n",
    "\n",
    "plt.plot(LOSS_HIST['Train'], 'bo--', label='Train')\n",
    "plt.plot(LOSS_HIST['Valid'], 'ro--', label='Valid')\n",
    "plt.grid()\n",
    "plt.legend()\n",
    "plt.xlabel('EPOCHS')\n",
    "plt.ylabel('LOSS')\n",
    "plt.show()"
   ]
  },
  {
   "cell_type": "code",
   "execution_count": null,
   "metadata": {},
   "outputs": [],
   "source": []
  }
 ],
 "metadata": {
  "kernelspec": {
   "display_name": "DL_TORCH",
   "language": "python",
   "name": "python3"
  },
  "language_info": {
   "codemirror_mode": {
    "name": "ipython",
    "version": 3
   },
   "file_extension": ".py",
   "mimetype": "text/x-python",
   "name": "python",
   "nbconvert_exporter": "python",
   "pygments_lexer": "ipython3",
   "version": "3.9.21"
  }
 },
 "nbformat": 4,
 "nbformat_minor": 2
}
