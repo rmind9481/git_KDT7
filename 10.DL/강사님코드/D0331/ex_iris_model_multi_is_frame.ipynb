{
 "cells": [
  {
   "cell_type": "markdown",
   "metadata": {},
   "source": [
    "#### [ Pytorch DL MODEL 실습 ]"
   ]
  },
  {
   "cell_type": "markdown",
   "metadata": {},
   "source": [
    "- 데이터셋 : iris.csv \n",
    "- 학습방법 : 지도학습 + 분류 ==>  다중분류"
   ]
  },
  {
   "cell_type": "markdown",
   "metadata": {},
   "source": [
    "[1] 모듈로딩 및 데이터 준비<hr>"
   ]
  },
  {
   "cell_type": "code",
   "execution_count": 2,
   "metadata": {},
   "outputs": [],
   "source": [
    "## 모듈로딩\n",
    "import pandas as pd                                     ## 데이터 관련 모듈들\n",
    "import numpy as np \n",
    "\n",
    "import torch                                            ## Tensor 및 기본 함수들 관련 모듈들\n",
    "import torch.nn as nn                                   ## 인공신경망 관련 모듈들\n",
    "import torch.nn.functional as F                         ## 인공신경망 관련 함수들\n",
    "import torch.optim as optim                             ## 최적화 모듈\n",
    "from torch.utils.data import Dataset, DataLoader        ## 학습 데이터셋 관련 모듈\n",
    "\n",
    "from sklearn.model_selection import train_test_split    ## 학습용 데이터셋 관련 함수"
   ]
  },
  {
   "cell_type": "code",
   "execution_count": 3,
   "metadata": {},
   "outputs": [],
   "source": [
    "## 데이터 준비\n",
    "DATA_FILE = '../data/file/iris.csv'"
   ]
  },
  {
   "cell_type": "markdown",
   "metadata": {},
   "source": [
    "[2] 데이터 로딩 및 확인<hr>"
   ]
  },
  {
   "cell_type": "code",
   "execution_count": 4,
   "metadata": {},
   "outputs": [
    {
     "name": "stdout",
     "output_type": "stream",
     "text": [
      "<class 'pandas.core.frame.DataFrame'>\n",
      "RangeIndex: 150 entries, 0 to 149\n",
      "Data columns (total 5 columns):\n",
      " #   Column        Non-Null Count  Dtype  \n",
      "---  ------        --------------  -----  \n",
      " 0   sepal.length  150 non-null    float64\n",
      " 1   sepal.width   150 non-null    float64\n",
      " 2   petal.length  150 non-null    float64\n",
      " 3   petal.width   150 non-null    float64\n",
      " 4   variety       150 non-null    object \n",
      "dtypes: float64(4), object(1)\n",
      "memory usage: 6.0+ KB\n"
     ]
    }
   ],
   "source": [
    "## 데이터 로딩\n",
    "irisDF = pd.read_csv(DATA_FILE)\n",
    "\n",
    "irisDF.info()"
   ]
  },
  {
   "cell_type": "code",
   "execution_count": 5,
   "metadata": {},
   "outputs": [
    {
     "data": {
      "text/plain": [
       "array(['Setosa', 'Versicolor', 'Virginica'], dtype=object)"
      ]
     },
     "execution_count": 5,
     "metadata": {},
     "output_type": "execute_result"
    }
   ],
   "source": [
    "## 데이터 확인\n",
    "irisDF.variety.unique()"
   ]
  },
  {
   "cell_type": "code",
   "execution_count": 6,
   "metadata": {},
   "outputs": [],
   "source": [
    "pd.set_option('future.no_silent_downcasting', True)\n",
    "irisDF.variety=irisDF.variety.replace({'Setosa':0, 'Versicolor':1, 'Virginica':2})"
   ]
  },
  {
   "cell_type": "code",
   "execution_count": 7,
   "metadata": {},
   "outputs": [
    {
     "data": {
      "text/plain": [
       "sepal.length    float64\n",
       "sepal.width     float64\n",
       "petal.length    float64\n",
       "petal.width     float64\n",
       "variety           int64\n",
       "dtype: object"
      ]
     },
     "execution_count": 7,
     "metadata": {},
     "output_type": "execute_result"
    }
   ],
   "source": [
    "irisDF.variety=irisDF.variety.astype('int')\n",
    "irisDF.dtypes"
   ]
  },
  {
   "cell_type": "markdown",
   "metadata": {},
   "source": [
    "[3] 데이터 셋 준비<hr>"
   ]
  },
  {
   "cell_type": "code",
   "execution_count": 8,
   "metadata": {},
   "outputs": [
    {
     "name": "stdout",
     "output_type": "stream",
     "text": [
      "[FeatureDF] (150, 4), 2D\n",
      "[targetSR]  (150,),  1D\n"
     ]
    }
   ],
   "source": [
    "## 피쳐와 타겟 분리 \n",
    "featureDF =irisDF[irisDF.columns[:-1]]   # Feature 4개\n",
    "targetSR = irisDF[irisDF.columns[-1]]    # 품종 1개\n",
    "\n",
    "print(f'[FeatureDF] {featureDF.shape}, {featureDF.ndim}D')\n",
    "print(f'[targetSR]  {targetSR.shape},  {targetSR.ndim}D')"
   ]
  },
  {
   "cell_type": "code",
   "execution_count": 9,
   "metadata": {},
   "outputs": [
    {
     "name": "stdout",
     "output_type": "stream",
     "text": [
      "[X_train] (120, 4), 2D  [y_train] (120,), 1D\n",
      "[X_test]  (30, 4), 2D  [y_test] (30,), 1D\n"
     ]
    }
   ],
   "source": [
    "## 학습용, 테스트용 데이터셋 분리 \n",
    "X_train, X_test, y_train, y_test = train_test_split(featureDF, \n",
    "                                                    targetSR, \n",
    "                                                    test_size=0.2,\n",
    "                                                    stratify=targetSR,\n",
    "                                                    random_state=42)\n",
    "\n",
    "print(f'[X_train] {X_train.shape}, {X_train.ndim}D  [y_train] {y_train.shape}, {y_train.ndim}D')\n",
    "print(f'[X_test]  {X_test.shape}, {X_test.ndim}D  [y_test] {y_test.shape}, {y_test.ndim}D')\n"
   ]
  },
  {
   "cell_type": "code",
   "execution_count": 10,
   "metadata": {},
   "outputs": [],
   "source": [
    "## 인덱스 재설정 \n",
    "X_test.reset_index(drop=True, inplace=True)\n",
    "y_test.reset_index(drop=True, inplace=True)\n",
    "\n",
    "X_train.reset_index(drop=True, inplace=True)\n",
    "y_train.reset_index(drop=True, inplace=True)"
   ]
  },
  {
   "cell_type": "code",
   "execution_count": 11,
   "metadata": {},
   "outputs": [
    {
     "name": "stdout",
     "output_type": "stream",
     "text": [
      "y_train : (120, 1)   y_test : (30, 1)\n"
     ]
    }
   ],
   "source": [
    "# Series => DataFrame : to_frame()\n",
    "y_train= y_train.to_frame()\n",
    "y_test = y_test.to_frame()\n",
    "\n",
    "print(f'y_train : {y_train.shape}   y_test : {y_test.shape}')"
   ]
  },
  {
   "cell_type": "markdown",
   "metadata": {},
   "source": [
    "[4] 커스텀 데이터셋 클래스 설계 및 구현 <hr>"
   ]
  },
  {
   "cell_type": "code",
   "execution_count": 12,
   "metadata": {},
   "outputs": [],
   "source": [
    "## iris 전용 데이터셋 클래스 \n",
    "class IrisDataset(Dataset):\n",
    "    # 피쳐와 타겟 분리 및 전처리 진행 \n",
    "    def __init__(self, featureDF, targetDF):\n",
    "        super().__init__()\n",
    "        self.feature = featureDF\n",
    "        self.target  = targetDF\n",
    "        self.rows = featureDF.shape[0]\n",
    "        self.cols = featureDF.shape[1]\n",
    "    \n",
    "    # 데이터셋의 샘플 수 반환 메서드 \n",
    "    def __len__(self):\n",
    "        return self.rows \n",
    "\n",
    "    # DataLoader에서 batch_size만큼 호출하는 메서드\n",
    "    # 인덱스에 해당하는 피쳐와 타겟 반환 단, Tensor 형태\n",
    "    def __getitem__(self, index):\n",
    "       arrFeature = self.feature.iloc[index].values   # ndarray\n",
    "       arrTarget = self.target.iloc[index].values    # ndarray\n",
    "   \n",
    "       return torch.FloatTensor(arrFeature), torch.FloatTensor(arrTarget)"
   ]
  },
  {
   "cell_type": "code",
   "execution_count": 13,
   "metadata": {},
   "outputs": [
    {
     "name": "stdout",
     "output_type": "stream",
     "text": [
      "(tensor([4.9000, 2.5000, 4.5000, 1.7000]), tensor([2.]))\n",
      "(tensor([6.1000, 3.0000, 4.9000, 1.8000]), tensor([2.]))\n"
     ]
    }
   ],
   "source": [
    "## 확인 => Train용 DataSet 필수 \n",
    "##     => Test용 Dataset 선택 => 데이터가 많다면 DS, DL 생성 사용\n",
    "##                           => 데이터가 많지 않다면 DS, DL 생성 필요 X \n",
    "trainDS = IrisDataset(X_train, y_train)\n",
    "testDS  = IrisDataset(X_test, y_test)\n",
    "print( trainDS[1] )\n",
    "print( testDS[1] )"
   ]
  },
  {
   "cell_type": "code",
   "execution_count": 14,
   "metadata": {},
   "outputs": [
    {
     "name": "stdout",
     "output_type": "stream",
     "text": [
      "tensor([[4.4000, 2.9000, 1.4000, 0.2000],\n",
      "        [4.9000, 2.5000, 4.5000, 1.7000],\n",
      "        [6.8000, 2.8000, 4.8000, 1.4000]])\n",
      "tensor([[0.],\n",
      "        [2.],\n",
      "        [1.]])\n"
     ]
    }
   ],
   "source": [
    "## DataLoader로 확인\n",
    "trainDL = DataLoader(dataset=trainDS, batch_size=3)\n",
    "for feature, label in trainDL:\n",
    "    print(feature, label, sep='\\n')\n",
    "    break"
   ]
  },
  {
   "cell_type": "code",
   "execution_count": 15,
   "metadata": {},
   "outputs": [
    {
     "name": "stdout",
     "output_type": "stream",
     "text": [
      "tensor([[4.4000, 3.0000, 1.3000, 0.2000],\n",
      "        [6.1000, 3.0000, 4.9000, 1.8000],\n",
      "        [4.9000, 2.4000, 3.3000, 1.0000]])\n",
      "tensor([[0.],\n",
      "        [2.],\n",
      "        [1.]])\n"
     ]
    }
   ],
   "source": [
    "# 테스트용 데이터로더\n",
    "testDL = DataLoader(dataset=testDS, batch_size=3)\n",
    "for feature, label in testDL:\n",
    "    print(feature, label, sep='\\n')\n",
    "    break"
   ]
  },
  {
   "cell_type": "markdown",
   "metadata": {},
   "source": [
    "[4] 모델 설계 및 클래스 구현<hr>"
   ]
  },
  {
   "cell_type": "code",
   "execution_count": 16,
   "metadata": {},
   "outputs": [],
   "source": [
    "# 모델 클래스 설계 ----------------------------------------------------------------------\n",
    "## 회귀용 커스텀 모델 \n",
    "## 클래스이름 : IrisModel\n",
    "## 부모클래스 : nn.Module\n",
    "## 모델층구성   입력신호/피쳐수       출력신호수/퍼셉트론수       활성화함수\n",
    "## - 입력층  :      4                     100                 ReLu\n",
    "## - 은닉층  :     100                     30                 ReLu \n",
    "## - 출력층  :      30                     3                  Softmax => 손실함수 내 포함\n",
    "## - -----------------------------------------------------------------------------------\n",
    "class IrisModel(nn.Module):\n",
    "    ## 모델 층 설계 및 초기화 메서드 \n",
    "    def __init__(self):\n",
    "        super().__init__()\n",
    "        self.in_layer  = nn.Linear(4,  100)\n",
    "        self.hd_layer  = nn.Linear(100, 30)\n",
    "        self.out_layer = nn.Linear(30,  3)\n",
    "\n",
    "    ## 학습 진행 메서드 \n",
    "    def forward(self, data):\n",
    "        ## 입력층\n",
    "        out = F.relu( self.in_layer(data) )\n",
    "        ## 은닉층\n",
    "        out = F.relu( self.hd_layer(out) )\n",
    "        ## 출력층\n",
    "        return self.out_layer(out) \n",
    "    "
   ]
  },
  {
   "cell_type": "code",
   "execution_count": 17,
   "metadata": {},
   "outputs": [
    {
     "name": "stdout",
     "output_type": "stream",
     "text": [
      "IrisModel(\n",
      "  (in_layer): Linear(in_features=4, out_features=100, bias=True)\n",
      "  (hd_layer): Linear(in_features=100, out_features=30, bias=True)\n",
      "  (out_layer): Linear(in_features=30, out_features=3, bias=True)\n",
      ")\n"
     ]
    },
    {
     "data": {
      "text/plain": [
       "tensor([[-0.1165,  0.0125, -0.1236]], grad_fn=<AddmmBackward0>)"
      ]
     },
     "execution_count": 17,
     "metadata": {},
     "output_type": "execute_result"
    }
   ],
   "source": [
    "## 모델 구조 확인\n",
    "model = IrisModel()\n",
    "print( model )\n",
    "\n",
    "## shape 체크\n",
    "data = torch.FloatTensor( [[1.,3.2, 1.9, 2.6]] )   # (1, 4)\n",
    "model(data)"
   ]
  },
  {
   "cell_type": "code",
   "execution_count": 18,
   "metadata": {},
   "outputs": [
    {
     "name": "stdout",
     "output_type": "stream",
     "text": [
      "tensor([-0.2783, -0.1478, -0.2097], grad_fn=<ViewBackward0>)\n"
     ]
    }
   ],
   "source": [
    "\n",
    "## shape 체크\n",
    "for feature, target  in testDS:\n",
    "    pre_ = model(feature)\n",
    "    print(pre_)\n",
    "    break"
   ]
  },
  {
   "cell_type": "markdown",
   "metadata": {},
   "source": [
    "[5] 학습 준비 <hr>"
   ]
  },
  {
   "cell_type": "markdown",
   "metadata": {},
   "source": [
    "- [5-1]학습 관련 설정들"
   ]
  },
  {
   "cell_type": "code",
   "execution_count": 19,
   "metadata": {},
   "outputs": [
    {
     "name": "stdout",
     "output_type": "stream",
     "text": [
      "DEVICE : cpu, EPOCHS : 70, BATCH_SIZE : 40 ITERATION : 3\n"
     ]
    }
   ],
   "source": [
    "\n",
    "EPOCHS      = 70                                   # 학습용 DS을 처음부터 끝까지 1번 학습하는 것을 에포크\n",
    "BATCH_SIZE  = 40                                    # DS을 학습량 만큼 나눈 사이즈 \n",
    "ITERATION   = int(X_train.shape[0]/BATCH_SIZE)      # 학습용 DS이 분리된 수 => 1에포크에 W, b 업데이트 횟수\n",
    "\n",
    "# 학습, 데이터셋 로딩 등 GPU에서 실행 여부 설정 \n",
    "DEVICE      = 'cuda' if torch.cuda.is_available() else 'cpu'\n",
    "\n",
    "print(f'DEVICE : {DEVICE}, EPOCHS : {EPOCHS}, BATCH_SIZE : {BATCH_SIZE} ITERATION : {ITERATION}')"
   ]
  },
  {
   "cell_type": "markdown",
   "metadata": {},
   "source": [
    "- [5-2] 학습 관련 인스턴스들"
   ]
  },
  {
   "cell_type": "code",
   "execution_count": 20,
   "metadata": {},
   "outputs": [],
   "source": [
    "TRAINDL   = DataLoader(trainDS, batch_size=BATCH_SIZE)\n",
    "TESTDL    = DataLoader(testDS,  batch_size=BATCH_SIZE)\n",
    "LR        = 0.01  \n",
    "MODEL     = IrisModel()                             ## 학습 모델\n",
    "OPTIMIZER = optim.Adam(MODEL.parameters(), lr=LR)   ## 최적화 즉, 경사하강법 알고리즘으로 W, b의 값 갱신\n",
    "LOSS_FN   = nn.CrossEntropyLoss()                   ## 다중분류 손실함수\n"
   ]
  },
  {
   "cell_type": "markdown",
   "metadata": {},
   "source": [
    "- [5-3] 학습관련 함수들"
   ]
  },
  {
   "cell_type": "code",
   "execution_count": 22,
   "metadata": {},
   "outputs": [],
   "source": [
    "\n",
    "##- 검증 함수 --------------------------------------------\n",
    "##- 검증용 데이터셋으로 모델 검증\n",
    "##- 학습 지속여부 결정 기준이 됨\n",
    "##- -----------------------------------------------------\n",
    "def evaluate():\n",
    "    # 에포크 단위로 검증 => 검증 모드\n",
    "    MODEL.eval()\n",
    "    \n",
    "    # W, b가 업데이트 해제\n",
    "    with torch.no_grad():\n",
    "        # T_LOSS, CNT = 0, 0\n",
    "        # for feature, target in TESTDL:            \n",
    "        #     # 검증진행\n",
    "        #     pre_y= MODEL(feature)\n",
    "            \n",
    "        #     # 손실 계산\n",
    "        #     loss = LOSS_FN(pre_y, target.reshape(-1).long())\n",
    "        #     T_LOSS += loss.item()\n",
    "        #     CNT += 1\n",
    "    #return T_LOSS/CNT\n",
    "        # DF/SR => Tensor화\n",
    "        # 검증용 데이터셋 => 텐서화 ndarray ==> tensor변환\n",
    "        x = torch.FloatTensor(X_test.values) \n",
    "        y = torch.FloatTensor(y_test.values)\n",
    "        \n",
    "        # 검증진행\n",
    "        pre_y= MODEL(x)\n",
    "        \n",
    "        # 손실 계산\n",
    "        loss = LOSS_FN(pre_y, y.reshape(-1).long())\n",
    "\n",
    "    return loss.item()"
   ]
  },
  {
   "cell_type": "code",
   "execution_count": 23,
   "metadata": {},
   "outputs": [],
   "source": [
    "##- 학습 함수 --------------------------------------------\n",
    "##- 학습용 데이터셋으로 모델 검증\n",
    "##- -----------------------------------------------------\n",
    "def training():\n",
    "    # 학습 모드 설정\n",
    "    model.train()\n",
    "\n",
    "    E_LOSS=0\n",
    "    #for i in range(ITERATION): \n",
    "    for feature, target in TRAINDL:\n",
    "                                                                    \n",
    "        # 가중치 기울기 0 초기화\n",
    "        OPTIMIZER.zero_grad()\n",
    "\n",
    "        # 학습 진행\n",
    "        pre_y = MODEL(feature)\n",
    "\n",
    "        # 손실 계산\n",
    "        loss = LOSS_FN(pre_y, target.reshape(-1).long())\n",
    "        \n",
    "        # 역전파 진행\n",
    "        loss.backward()\n",
    "\n",
    "        # 가중치/절편 업데이트\n",
    "        OPTIMIZER.step()\n",
    "\n",
    "        E_LOSS += loss.item()\n",
    "\n",
    "    return E_LOSS/ITERATION"
   ]
  },
  {
   "cell_type": "code",
   "execution_count": 24,
   "metadata": {},
   "outputs": [
    {
     "name": "stdout",
     "output_type": "stream",
     "text": [
      "\n",
      "EPOCH[0/70]----------------\n",
      "- TRAIN_LOSS 1.07741\n",
      "- VALID_LOSS 0.89799\n",
      "\n",
      "EPOCH[1/70]----------------\n",
      "- TRAIN_LOSS 0.82469\n",
      "- VALID_LOSS 0.63563\n",
      "\n",
      "EPOCH[2/70]----------------\n",
      "- TRAIN_LOSS 0.58207\n",
      "- VALID_LOSS 0.48337\n",
      "\n",
      "EPOCH[3/70]----------------\n",
      "- TRAIN_LOSS 0.43257\n",
      "- VALID_LOSS 0.37007\n",
      "\n",
      "EPOCH[4/70]----------------\n",
      "- TRAIN_LOSS 0.34069\n",
      "- VALID_LOSS 0.29643\n",
      "\n",
      "EPOCH[5/70]----------------\n",
      "- TRAIN_LOSS 0.26751\n",
      "- VALID_LOSS 0.23896\n",
      "\n",
      "EPOCH[6/70]----------------\n",
      "- TRAIN_LOSS 0.21310\n",
      "- VALID_LOSS 0.19022\n",
      "\n",
      "EPOCH[7/70]----------------\n",
      "- TRAIN_LOSS 0.16423\n",
      "- VALID_LOSS 0.14549\n",
      "\n",
      "EPOCH[8/70]----------------\n",
      "- TRAIN_LOSS 0.13052\n",
      "- VALID_LOSS 0.11888\n",
      "\n",
      "EPOCH[9/70]----------------\n",
      "- TRAIN_LOSS 0.10691\n",
      "- VALID_LOSS 0.09852\n",
      "\n",
      "EPOCH[10/70]----------------\n",
      "- TRAIN_LOSS 0.08904\n",
      "- VALID_LOSS 0.07751\n",
      "\n",
      "EPOCH[11/70]----------------\n",
      "- TRAIN_LOSS 0.08153\n",
      "- VALID_LOSS 0.06899\n",
      "\n",
      "EPOCH[12/70]----------------\n",
      "- TRAIN_LOSS 0.07541\n",
      "- VALID_LOSS 0.06393\n",
      "\n",
      "EPOCH[13/70]----------------\n",
      "- TRAIN_LOSS 0.06979\n",
      "- VALID_LOSS 0.05372\n",
      "\n",
      "EPOCH[14/70]----------------\n",
      "- TRAIN_LOSS 0.06884\n",
      "- VALID_LOSS 0.05127\n",
      "\n",
      "EPOCH[15/70]----------------\n",
      "- TRAIN_LOSS 0.06693\n",
      "- VALID_LOSS 0.05014\n",
      "\n",
      "EPOCH[16/70]----------------\n",
      "- TRAIN_LOSS 0.06452\n",
      "- VALID_LOSS 0.04465\n",
      "\n",
      "EPOCH[17/70]----------------\n",
      "- TRAIN_LOSS 0.06468\n",
      "- VALID_LOSS 0.04442\n",
      "\n",
      "EPOCH[18/70]----------------\n",
      "- TRAIN_LOSS 0.06373\n",
      "- VALID_LOSS 0.04415\n",
      "\n",
      "EPOCH[19/70]----------------\n",
      "- TRAIN_LOSS 0.06249\n",
      "- VALID_LOSS 0.04100\n",
      "\n",
      "EPOCH[20/70]----------------\n",
      "- TRAIN_LOSS 0.06274\n",
      "- VALID_LOSS 0.04163\n",
      "\n",
      "EPOCH[21/70]----------------\n",
      "- TRAIN_LOSS 0.06203\n",
      "- VALID_LOSS 0.04135\n",
      "\n",
      "EPOCH[22/70]----------------\n",
      "- TRAIN_LOSS 0.06131\n",
      "- VALID_LOSS 0.03953\n",
      "\n",
      "EPOCH[23/70]----------------\n",
      "- TRAIN_LOSS 0.06142\n",
      "- VALID_LOSS 0.04041\n",
      "\n",
      "EPOCH[24/70]----------------\n",
      "- TRAIN_LOSS 0.06080\n",
      "- VALID_LOSS 0.03999\n",
      "\n",
      "EPOCH[25/70]----------------\n",
      "- TRAIN_LOSS 0.06037\n",
      "- VALID_LOSS 0.03904\n",
      "\n",
      "EPOCH[26/70]----------------\n",
      "- TRAIN_LOSS 0.06035\n",
      "- VALID_LOSS 0.03988\n",
      "\n",
      "EPOCH[27/70]----------------\n",
      "- TRAIN_LOSS 0.05981\n",
      "- VALID_LOSS 0.03939\n",
      "\n",
      "EPOCH[28/70]----------------\n",
      "- TRAIN_LOSS 0.05954\n",
      "- VALID_LOSS 0.03903\n",
      "\n",
      "EPOCH[29/70]----------------\n",
      "- TRAIN_LOSS 0.05940\n",
      "- VALID_LOSS 0.03968\n",
      "\n",
      "EPOCH[30/70]----------------\n",
      "- TRAIN_LOSS 0.05895\n",
      "- VALID_LOSS 0.03922\n",
      "\n",
      "EPOCH[31/70]----------------\n",
      "- TRAIN_LOSS 0.05875\n",
      "- VALID_LOSS 0.03922\n",
      "\n",
      "EPOCH[32/70]----------------\n",
      "- TRAIN_LOSS 0.05854\n",
      "- VALID_LOSS 0.03962\n",
      "\n",
      "EPOCH[33/70]----------------\n",
      "- TRAIN_LOSS 0.05817\n",
      "- VALID_LOSS 0.03927\n",
      "\n",
      "EPOCH[34/70]----------------\n",
      "- TRAIN_LOSS 0.05801\n",
      "- VALID_LOSS 0.03947\n",
      "\n",
      "EPOCH[35/70]----------------\n",
      "- TRAIN_LOSS 0.05776\n",
      "- VALID_LOSS 0.03964\n",
      "\n",
      "EPOCH[36/70]----------------\n",
      "- TRAIN_LOSS 0.05746\n",
      "- VALID_LOSS 0.03944\n",
      "\n",
      "EPOCH[37/70]----------------\n",
      "- TRAIN_LOSS 0.05730\n",
      "- VALID_LOSS 0.03970\n",
      "\n",
      "EPOCH[38/70]----------------\n",
      "- TRAIN_LOSS 0.05704\n",
      "- VALID_LOSS 0.03973\n",
      "\n",
      "EPOCH[39/70]----------------\n",
      "- TRAIN_LOSS 0.05681\n",
      "- VALID_LOSS 0.03969\n",
      "\n",
      "EPOCH[40/70]----------------\n",
      "- TRAIN_LOSS 0.05662\n",
      "- VALID_LOSS 0.03991\n",
      "\n",
      "EPOCH[41/70]----------------\n",
      "- TRAIN_LOSS 0.05638\n",
      "- VALID_LOSS 0.03989\n",
      "\n",
      "EPOCH[42/70]----------------\n",
      "- TRAIN_LOSS 0.05618\n",
      "- VALID_LOSS 0.03996\n",
      "\n",
      "EPOCH[43/70]----------------\n",
      "- TRAIN_LOSS 0.05599\n",
      "- VALID_LOSS 0.04011\n",
      "\n",
      "EPOCH[44/70]----------------\n",
      "- TRAIN_LOSS 0.05577\n",
      "- VALID_LOSS 0.04010\n",
      "\n",
      "EPOCH[45/70]----------------\n",
      "- TRAIN_LOSS 0.05559\n",
      "- VALID_LOSS 0.04023\n",
      "\n",
      "EPOCH[46/70]----------------\n",
      "- TRAIN_LOSS 0.05539\n",
      "- VALID_LOSS 0.04033\n",
      "\n",
      "EPOCH[47/70]----------------\n",
      "- TRAIN_LOSS 0.05519\n",
      "- VALID_LOSS 0.04037\n",
      "\n",
      "EPOCH[48/70]----------------\n",
      "- TRAIN_LOSS 0.05502\n",
      "- VALID_LOSS 0.04051\n",
      "\n",
      "EPOCH[49/70]----------------\n",
      "- TRAIN_LOSS 0.05483\n",
      "- VALID_LOSS 0.04058\n",
      "\n",
      "EPOCH[50/70]----------------\n",
      "- TRAIN_LOSS 0.05465\n",
      "- VALID_LOSS 0.04066\n",
      "\n",
      "EPOCH[51/70]----------------\n",
      "- TRAIN_LOSS 0.05448\n",
      "- VALID_LOSS 0.04079\n",
      "\n",
      "EPOCH[52/70]----------------\n",
      "- TRAIN_LOSS 0.05430\n",
      "- VALID_LOSS 0.04086\n",
      "\n",
      "EPOCH[53/70]----------------\n",
      "- TRAIN_LOSS 0.05413\n",
      "- VALID_LOSS 0.04098\n",
      "\n",
      "EPOCH[54/70]----------------\n",
      "- TRAIN_LOSS 0.05397\n",
      "- VALID_LOSS 0.04108\n",
      "\n",
      "EPOCH[55/70]----------------\n",
      "- TRAIN_LOSS 0.05380\n",
      "- VALID_LOSS 0.04118\n",
      "\n",
      "EPOCH[56/70]----------------\n",
      "- TRAIN_LOSS 0.05364\n",
      "- VALID_LOSS 0.04130\n",
      "\n",
      "EPOCH[57/70]----------------\n",
      "- TRAIN_LOSS 0.05348\n",
      "- VALID_LOSS 0.04140\n",
      "\n",
      "EPOCH[58/70]----------------\n",
      "- TRAIN_LOSS 0.05332\n",
      "- VALID_LOSS 0.04151\n",
      "\n",
      "EPOCH[59/70]----------------\n",
      "- TRAIN_LOSS 0.05317\n",
      "- VALID_LOSS 0.04164\n",
      "\n",
      "EPOCH[60/70]----------------\n",
      "- TRAIN_LOSS 0.05302\n",
      "- VALID_LOSS 0.04174\n",
      "\n",
      "EPOCH[61/70]----------------\n",
      "- TRAIN_LOSS 0.05287\n",
      "- VALID_LOSS 0.04187\n",
      "\n",
      "EPOCH[62/70]----------------\n",
      "- TRAIN_LOSS 0.05272\n",
      "- VALID_LOSS 0.04199\n",
      "\n",
      "EPOCH[63/70]----------------\n",
      "- TRAIN_LOSS 0.05258\n",
      "- VALID_LOSS 0.04211\n",
      "\n",
      "EPOCH[64/70]----------------\n",
      "- TRAIN_LOSS 0.05244\n",
      "- VALID_LOSS 0.04224\n",
      "\n",
      "EPOCH[65/70]----------------\n",
      "- TRAIN_LOSS 0.05230\n",
      "- VALID_LOSS 0.04236\n",
      "\n",
      "EPOCH[66/70]----------------\n",
      "- TRAIN_LOSS 0.05216\n",
      "- VALID_LOSS 0.04248\n",
      "\n",
      "EPOCH[67/70]----------------\n",
      "- TRAIN_LOSS 0.05203\n",
      "- VALID_LOSS 0.04261\n",
      "\n",
      "EPOCH[68/70]----------------\n",
      "- TRAIN_LOSS 0.05190\n",
      "- VALID_LOSS 0.04274\n",
      "\n",
      "EPOCH[69/70]----------------\n",
      "- TRAIN_LOSS 0.05177\n",
      "- VALID_LOSS 0.04287\n"
     ]
    }
   ],
   "source": [
    "# 에포크 : DS 처음부터 ~ 끝까지 학습  \n",
    "LOSS_HIST ={'Train':[], 'Valid':[]}   \n",
    "\n",
    "# 에포크 단위 학습/검증 진행 \n",
    "for epoch in range(EPOCHS):\n",
    "    trainLoss = training()\n",
    "    validLoss = evaluate()\n",
    "\n",
    "    LOSS_HIST['Train'].append(trainLoss)\n",
    "    LOSS_HIST['Valid'].append(validLoss)\n",
    "\n",
    "    print(f'\\nEPOCH[{epoch}/{EPOCHS}]----------------')\n",
    "    print(f'- TRAIN_LOSS {trainLoss:.5f}')\n",
    "    print(f'- VALID_LOSS {validLoss:.5f}')"
   ]
  },
  {
   "cell_type": "code",
   "execution_count": 25,
   "metadata": {},
   "outputs": [
    {
     "data": {
      "image/png": "[encoded data removed]",
      "text/plain": [
       "<Figure size 640x480 with 1 Axes>"
      ]
     },
     "metadata": {},
     "output_type": "display_data"
    }
   ],
   "source": [
    "## 모델 성능 시각화 \n",
    "import matplotlib.pyplot as plt\n",
    "\n",
    "plt.plot(LOSS_HIST['Train'], 'bo--', label='Train')\n",
    "plt.plot(LOSS_HIST['Valid'], 'ro--', label='Valid')\n",
    "plt.grid()\n",
    "plt.legend()\n",
    "plt.xlabel('EPOCHS')\n",
    "plt.ylabel('LOSS')\n",
    "plt.show()"
   ]
  },
  {
   "cell_type": "code",
   "execution_count": null,
   "metadata": {},
   "outputs": [],
   "source": []
  }
 ],
 "metadata": {
  "kernelspec": {
   "display_name": "DL_TORCH",
   "language": "python",
   "name": "python3"
  },
  "language_info": {
   "codemirror_mode": {
    "name": "ipython",
    "version": 3
   },
   "file_extension": ".py",
   "mimetype": "text/x-python",
   "name": "python",
   "nbconvert_exporter": "python",
   "pygments_lexer": "ipython3",
   "version": "3.9.21"
  }
 },
 "nbformat": 4,
 "nbformat_minor": 2
}
