{
 "cells": [
  {
   "cell_type": "markdown",
   "metadata": {},
   "source": [
    "#### [ PYTORCH MODEL ]"
   ]
  },
  {
   "cell_type": "markdown",
   "metadata": {},
   "source": [
    "- 주제 : 펭귄 품종 분류 모델\n",
    "- 데이터 :  penguins.csv\n",
    "- 구성 : 품종 + 특징들 \n",
    "- 학습 : 지도학습 => 분류 / 다중분류"
   ]
  },
  {
   "cell_type": "markdown",
   "metadata": {},
   "source": [
    "[1] 모듈 로딩 및 데이터 준비<hr>"
   ]
  },
  {
   "cell_type": "code",
   "execution_count": null,
   "metadata": {},
   "outputs": [],
   "source": [
    "## 모듈 로딩\n",
    "import pandas as pd \n",
    "import seaborn as sns \n",
    "import matplotlib.pyplot as plt  \n",
    "\n",
    "from sklearn.preprocessing import MinMaxScaler"
   ]
  },
  {
   "cell_type": "code",
   "execution_count": null,
   "metadata": {},
   "outputs": [],
   "source": [
    "##  데이터 준비 \n",
    "DATA_FILE = '../data/file/penguins.csv'"
   ]
  },
  {
   "cell_type": "markdown",
   "metadata": {},
   "source": [
    "[2] 데이터 로딩 및 확인<hr>"
   ]
  },
  {
   "cell_type": "code",
   "execution_count": null,
   "metadata": {},
   "outputs": [],
   "source": [
    "##  데이터 로딩 \n",
    "dataDF = pd.read_csv(DATA_FILE)\n",
    "dataDF.info()"
   ]
  },
  {
   "cell_type": "code",
   "execution_count": null,
   "metadata": {},
   "outputs": [],
   "source": [
    "## 실제 데이터와 타입 체크\n",
    "dataDF.head(3)"
   ]
  },
  {
   "cell_type": "code",
   "execution_count": null,
   "metadata": {},
   "outputs": [],
   "source": [
    "## 1차 확인 사항 \n",
    "# - 결측치 컬럼이 7개 중 5개 존재 "
   ]
  },
  {
   "cell_type": "markdown",
   "metadata": {},
   "source": [
    "[3] 탐색적 데이터 분석<hr>"
   ]
  },
  {
   "cell_type": "markdown",
   "metadata": {},
   "source": [
    "[3-1] 결측치 전처리 "
   ]
  },
  {
   "cell_type": "code",
   "execution_count": null,
   "metadata": {},
   "outputs": [],
   "source": [
    "## 결측치 컬럼 5개  => 소량으로 drop 처리\n",
    "dataDF.dropna(inplace=True)\n",
    "dataDF.reset_index(drop=True, inplace=True)"
   ]
  },
  {
   "cell_type": "code",
   "execution_count": null,
   "metadata": {},
   "outputs": [],
   "source": [
    "dataDF.isna().sum()"
   ]
  },
  {
   "cell_type": "markdown",
   "metadata": {},
   "source": [
    "[3-2] 피쳐 전처리 "
   ]
  },
  {
   "cell_type": "code",
   "execution_count": null,
   "metadata": {},
   "outputs": [],
   "source": [
    "## species 컬럼, island 컬럼, sex 컬럼\n",
    "pd.set_option('future.no_silent_downcasting', True)\n",
    "\n",
    "cateDF = dataDF[['species', 'island', 'sex']].copy()\n",
    "\n",
    "\n",
    "for col in ['species', 'island', 'sex']:\n",
    "    result = cateDF[col].unique()\n",
    "\n",
    "    cateDF[col]= cateDF[col].replace( { result[idx]:idx for idx in range(len(result)) } )\n",
    "    cateDF[col]= cateDF[col].astype('int')\n",
    "\n",
    "print(cateDF.head(1), cateDF.dtypes, cateDF.shape, cateDF.index, sep='\\n\\n')\n"
   ]
  },
  {
   "cell_type": "code",
   "execution_count": null,
   "metadata": {},
   "outputs": [],
   "source": [
    "## 연속형 피쳐 스케일링 : bill_length_mm, bill_depth_mm, flipper_length_mm, body_mass_g 컬럼\n",
    "mmScaler = MinMaxScaler()\n",
    "scaled_features=mmScaler.fit_transform(dataDF[dataDF.columns[2:-1]])\n",
    "\n",
    "scaledDF = pd.DataFrame(scaled_features, columns=dataDF.columns[2:-1])\n",
    "print(scaledDF.head(1), scaledDF.dtypes, scaledDF.shape, sep='\\n\\n')"
   ]
  },
  {
   "cell_type": "code",
   "execution_count": null,
   "metadata": {},
   "outputs": [],
   "source": [
    "## 정규화된 컬럼들 연결 \n",
    "penguinDF = pd.concat((cateDF, scaledDF), axis='columns')\n",
    "penguinDF"
   ]
  },
  {
   "cell_type": "markdown",
   "metadata": {},
   "source": [
    "[3-3] 타겟 기준 상관관계 "
   ]
  },
  {
   "cell_type": "code",
   "execution_count": null,
   "metadata": {},
   "outputs": [],
   "source": [
    "## 수치 확인 corr() => bill_length_mm, bill_depth_mm, flipper_length_mm, body_mass_g\n",
    "penguinDF.corr()['species']"
   ]
  },
  {
   "cell_type": "code",
   "execution_count": null,
   "metadata": {},
   "outputs": [],
   "source": [
    "## 시각 확인 => => bill_length_mm, bill_depth_mm, flipper_length_mm, body_mass_g\n",
    "sns.pairplot(penguinDF)\n",
    "plt.show()"
   ]
  },
  {
   "cell_type": "code",
   "execution_count": null,
   "metadata": {},
   "outputs": [],
   "source": [
    "sns.heatmap(penguinDF.corr())"
   ]
  },
  {
   "cell_type": "markdown",
   "metadata": {},
   "source": [
    "[3-4] 피쳐들끼리 관계성 "
   ]
  },
  {
   "cell_type": "code",
   "execution_count": null,
   "metadata": {},
   "outputs": [],
   "source": [
    "# 수치형 피쳐들 스케일링 \n",
    "featureDF=penguinDF[penguinDF.columns[3:]]\n",
    "featureDF.describe()"
   ]
  },
  {
   "cell_type": "code",
   "execution_count": null,
   "metadata": {},
   "outputs": [],
   "source": [
    "sns.heatmap(featureDF.corr())"
   ]
  },
  {
   "cell_type": "code",
   "execution_count": null,
   "metadata": {},
   "outputs": [],
   "source": [
    "## 피쳐 선택 : bill_length_mm,\tbill_depth_mm, body_mass_g \n",
    "## 타겟 품종 : speices "
   ]
  },
  {
   "cell_type": "markdown",
   "metadata": {},
   "source": [
    "#### 신경망모델 구현 <hr>\n",
    "- 피쳐와 타겟 분리\n",
    "- 피쳐와 타겟 가공\n",
    "- 학습용 & 테스트 분리\n",
    "- 학습용 기준으로 표준화 & 정규화 진행  \n",
    "- 데이터셋 클래스 설계 및 구현\n",
    "- 모델 클래스 설계 및 구현 \n",
    "- 학습 진행 \n",
    "- 학습 결과 분석 \n",
    "- 튜닝 여부 결정\n",
    "- 모델 저장 & 서비스 연동 "
   ]
  },
  {
   "cell_type": "markdown",
   "metadata": {},
   "source": [
    "[1] 모듈 로딩 및 데이터 준비<hr>"
   ]
  },
  {
   "cell_type": "code",
   "execution_count": null,
   "metadata": {},
   "outputs": [],
   "source": [
    "#%pip install torchinfo   # 모델 정보 및 구조 관련 모듈"
   ]
  },
  {
   "cell_type": "code",
   "execution_count": 71,
   "metadata": {},
   "outputs": [],
   "source": [
    "## 모듈 로딩\n",
    "import torch \n",
    "import torch.nn as nn \n",
    "import torch.nn.functional as F \n",
    "from torch.utils.data import Dataset, DataLoader                ## 데이터셋 관련 \n",
    "import torch.optim as optim                                     ## 최적화 모듈\n",
    "from torchmetrics.classification import *                       ## 모델 성능지표 관련\n",
    "from torchinfo import summary                                   ## 모델 구조 및 정보 관련 \n",
    "\n",
    "from sklearn.model_selection import train_test_split            ## 학습용 & 테스트용 데이터셋 분리\n",
    "from sklearn.preprocessing import MinMaxScaler, StandardScaler  ## 연속형 피쳐 스케일링\n",
    "from sklearn.preprocessing import OneHotEncoder, LabelEncoder   ## 범주형 피쳐, 타겟 인코딩\n"
   ]
  },
  {
   "cell_type": "code",
   "execution_count": 72,
   "metadata": {},
   "outputs": [],
   "source": [
    "## 데이터 준비\n",
    "DATA_FILE = '../data/file/penguins.csv'"
   ]
  },
  {
   "cell_type": "markdown",
   "metadata": {},
   "source": [
    "[2] 데이터 피쳐와 타겟 분리 <hr>"
   ]
  },
  {
   "cell_type": "code",
   "execution_count": 73,
   "metadata": {},
   "outputs": [],
   "source": [
    "## 데이터 로딩 및 결측치 처리\n",
    "dataDF = pd.read_csv(DATA_FILE)\n",
    "dataDF.dropna(inplace=True)"
   ]
  },
  {
   "cell_type": "code",
   "execution_count": 74,
   "metadata": {},
   "outputs": [],
   "source": [
    "## 피쳐와 타겟 분리 \n",
    "## - 피쳐 : 'bill_length_mm', 'bill_depth_mm', 'body_mass_g'\n",
    "## - 타겟 : 'species'\n",
    "featureDF = dataDF[['bill_length_mm', 'bill_depth_mm', 'body_mass_g']]\n",
    "targetSR  = dataDF[dataDF.columns[0]]"
   ]
  },
  {
   "cell_type": "code",
   "execution_count": 75,
   "metadata": {},
   "outputs": [
    {
     "name": "stdout",
     "output_type": "stream",
     "text": [
      "featureDF : (333, 3)   targetSR : (333,)\n"
     ]
    }
   ],
   "source": [
    "print(f'featureDF : {featureDF.shape}   targetSR : {targetSR.shape}')"
   ]
  },
  {
   "cell_type": "markdown",
   "metadata": {},
   "source": [
    "[3] 학습용 & 테스트용 분리<hr>"
   ]
  },
  {
   "cell_type": "code",
   "execution_count": 76,
   "metadata": {},
   "outputs": [],
   "source": [
    "# train : test = 75 : 25\n",
    "X_train, X_test, y_train, y_test = train_test_split(featureDF, \n",
    "                                                    targetSR,\n",
    "                                                    stratify=targetSR,\n",
    "                                                    random_state=42)"
   ]
  },
  {
   "cell_type": "code",
   "execution_count": null,
   "metadata": {},
   "outputs": [],
   "source": [
    "print(f'[TRAIN] X_train : {X_train.shape}   y_train : {y_train.shape}')\n",
    "print(f'[TEST]  X_test  : {X_test.shape}    y_test : {y_test.shape}')"
   ]
  },
  {
   "cell_type": "markdown",
   "metadata": {},
   "source": [
    "[4] 학습용 기준으로 정규화 진행<hr>"
   ]
  },
  {
   "cell_type": "code",
   "execution_count": null,
   "metadata": {},
   "outputs": [],
   "source": [
    "## 연속형 피쳐 스케일링\n",
    "mmScaler = MinMaxScaler()\n",
    "mmScaler.fit(X_train)\n",
    "\n",
    "scaled_X_Train = mmScaler.transform(X_train)\n",
    "scaled_X_Test = mmScaler.transform(X_test)"
   ]
  },
  {
   "cell_type": "code",
   "execution_count": null,
   "metadata": {},
   "outputs": [],
   "source": [
    "## 타겟 인코딩\n",
    "lbEncoder = LabelEncoder()\n",
    "lbEncoder.fit(y_train)\n",
    "y_train=lbEncoder.transform(y_train)\n",
    "y_test=lbEncoder.transform(y_test)"
   ]
  },
  {
   "cell_type": "markdown",
   "metadata": {},
   "source": [
    "[5] 데이터셋 클래스 정의 및 구현<hr>"
   ]
  },
  {
   "cell_type": "code",
   "execution_count": null,
   "metadata": {},
   "outputs": [],
   "source": [
    "## ----------------------------------------------------------------\n",
    "## 펭귄데이터에 대한 전용 Dataset 클래스 정의\n",
    "## 클래스이름 : PenguinNPDS\n",
    "## 부모클래스 : Dataset\n",
    "## 데이터구성 : 피쳐 3 NP + 타겟 1 NP\n",
    "## ----------------------------------------------------------------\n",
    "class PenguinNPDS(Dataset):\n",
    "    ## 데이터의 피쳐, 타겟 외 기타 정보 초기화 메서드 \n",
    "    def __init__(self, featureNP, targetNP):\n",
    "        super().__init__()\n",
    "        self.feature   = featureNP\n",
    "        self.target    = targetNP \n",
    "        self.n_feature = featureNP.shape[1]\n",
    "        self.n_samples = featureNP.shape[0]\n",
    "\n",
    "    ## 데이터의 갯수 반환 메서드\n",
    "    def __len__(self):\n",
    "        return self.n_samples\n",
    "    \n",
    "    ## 특정 인덱스의 피쳐와 타겟 텐서 반환 메서드\n",
    "    def __getitem__(self, index):\n",
    "        fTS = torch.FloatTensor(self.feature[index])\n",
    "        tTS = torch.tensor(self.target[index])\n",
    "        return fTS, tTS\n",
    "    "
   ]
  },
  {
   "cell_type": "code",
   "execution_count": null,
   "metadata": {},
   "outputs": [],
   "source": [
    "## DS 확인\n",
    "print(f'scaled_X_Train : {type(scaled_X_Train)},  y_train : {type(y_train)}')\n",
    "print(f'scaled_X_Train===\\n{scaled_X_Train[:2]}\\ny_train : {y_train[:2]}')\n",
    "\n",
    "## 데이터셋 인스턴스 생성\n",
    "testDS = PenguinNPDS(scaled_X_Train, y_train)"
   ]
  },
  {
   "cell_type": "code",
   "execution_count": null,
   "metadata": {},
   "outputs": [],
   "source": [
    "## 데이터셋 인스턴스 확인\n",
    "f, t = testDS[0]\n",
    "t"
   ]
  },
  {
   "cell_type": "code",
   "execution_count": null,
   "metadata": {},
   "outputs": [],
   "source": [
    "a = torch.tensor([1])\n",
    "b = torch.Tensor([1])\n",
    "c = torch.LongTensor([1])\n",
    "a,b,c"
   ]
  },
  {
   "cell_type": "markdown",
   "metadata": {},
   "source": [
    "[6] 모델 클래스 정의 및 구현<hr>"
   ]
  },
  {
   "cell_type": "code",
   "execution_count": null,
   "metadata": {},
   "outputs": [],
   "source": [
    "# 모델 클래스 설계 ----------------------------------------------------------------------\n",
    "## 회귀용 커스텀 모델 \n",
    "## 클래스이름 : PenguinModel\n",
    "## 부모클래스 : nn.Module\n",
    "## 모델층구성   입력신호/피쳐수       출력신호수/퍼셉트론수       활성화함수\n",
    "## - 입력층  :      3                      50                 ReLu\n",
    "## - 은닉층  :      50                     15                 ReLu \n",
    "## - 출력층  :      15                     3                  Softmax => 손실함수 내 포함\n",
    "## - -----------------------------------------------------------------------------------\n",
    "class PenguinModel(nn.Module):\n",
    "    \n",
    "    def __init__(self):\n",
    "        super().__init__()\n",
    "        self.in_layer=nn.Linear(3,  50)\n",
    "        self.hd_layer=nn.Linear(50, 15)\n",
    "        self.out_layer=nn.Linear(15, 3)\n",
    "\n",
    "    def forward(self, data):\n",
    "        out = F.relu(self.in_layer(data))\n",
    "        out = F.relu(self.hd_layer(out))\n",
    "        return self.out_layer(out)\n"
   ]
  },
  {
   "cell_type": "code",
   "execution_count": null,
   "metadata": {},
   "outputs": [],
   "source": [
    "## 모델 구조 확인\n",
    "test=PenguinModel()\n",
    "print(test)\n",
    "\n",
    "## 모델인스턴스, 입력 데이터 형태 \n",
    "summary(test, input_size=(100, 3))"
   ]
  },
  {
   "cell_type": "code",
   "execution_count": null,
   "metadata": {},
   "outputs": [],
   "source": [
    "## 모델 & 데이터셋 동작 테스트\n",
    "ds = PenguinNPDS(scaled_X_Train, y_train)\n",
    "\n",
    "feature, target = ds[0]\n",
    "test(feature) , test(feature).argmax(), target"
   ]
  },
  {
   "cell_type": "markdown",
   "metadata": {},
   "source": [
    "[7] 학습 준비 <hr >"
   ]
  },
  {
   "cell_type": "code",
   "execution_count": null,
   "metadata": {},
   "outputs": [],
   "source": [
    "## 학습 관련 설정값 \n",
    "EPOCHS      = 10                 ## 처음~끝까지 학습 단위 \n",
    "BATCH_SIZE  = 30                 ## 한 번 학습하는 양 즉, W와 b 업데이트 \n",
    "T_ITERATION = int(scaled_X_Train.shape[0]/BATCH_SIZE) \n",
    "\n",
    "LR          = 0.001              ## 옵티마이저 학습률 설정\n",
    "\n",
    "DEVICE      = 'cuda' if torch.cuda.is_available() else 'cpu'\n",
    "\n",
    "print(f'T_ITERATION : {T_ITERATION}  BATCH_SIZE : {BATCH_SIZE}   DEVICE :{DEVICE}')"
   ]
  },
  {
   "cell_type": "code",
   "execution_count": null,
   "metadata": {},
   "outputs": [],
   "source": [
    "## 학습 관련 인스턴스 생성 \n",
    "TRAINDS = PenguinNPDS(scaled_X_Train, y_train)\n",
    "TRAINDL = DataLoader(TRAINDS, batch_size=BATCH_SIZE, shuffle=True)\n",
    "\n",
    "MODEL=PenguinModel()\n",
    "OPTIMIZER = optim.Adam(MODEL.parameters(), lr=LR)\n",
    "\n",
    "LOSS_FN = nn.CrossEntropyLoss()\n"
   ]
  },
  {
   "cell_type": "code",
   "execution_count": null,
   "metadata": {},
   "outputs": [],
   "source": [
    "## 학습 관련 함수들 \n",
    "## - 검증 함수 : 테스트 또는 검증용 데이터셋 사용하는 함수 \n",
    "##              W,b 업데이트 안함\n",
    "def evaluate():\n",
    "    # 에포크 단위로 검증 => 검증 모드\n",
    "    MODEL.eval()\n",
    "    \n",
    "    # W, b가 업데이트 해제\n",
    "    with torch.no_grad():\n",
    "        # 검증용 데이터셋 => 텐서화 ndarray ==> tensor변환\n",
    "        x = torch.FloatTensor(scaled_X_Test) \n",
    "        y = torch.tensor(y_test)\n",
    "        \n",
    "        # 검증진행\n",
    "        pre_y= MODEL(x)\n",
    "        \n",
    "        # 손실 계산\n",
    "        loss = LOSS_FN(pre_y, y.reshape(-1).long())\n",
    "        \n",
    "        # 정확도 계산\n",
    "        accuarcy = MulticlassAccuracy(num_classes=3)\n",
    "        acc = accuarcy(pre_y, y.reshape(-1))\n",
    "\n",
    "        return loss.item(), acc.item()"
   ]
  },
  {
   "cell_type": "code",
   "execution_count": null,
   "metadata": {},
   "outputs": [],
   "source": [
    "## 학습 관련 함수들 \n",
    "## - 학습 함수 : 학습용 데이터셋 사용하는 함수 \n",
    "##              W, b 업데이트 진행 \n",
    "##- 학습 함수 --------------------------------------------\n",
    "##- 학습용 데이터셋으로 모델 검증\n",
    "##- -----------------------------------------------------\n",
    "def training():\n",
    "    # 학습 모드 설정\n",
    "    MODEL.train()\n",
    "\n",
    "    E_LOSS, E_ACC = 0, 0\n",
    "    for feature, target in TRAINDL:\n",
    "        # 배치크기만큼 feature, target로딩\n",
    "\n",
    "        # 가중치 기울기 0 초기화\n",
    "        OPTIMIZER.zero_grad()\n",
    "\n",
    "        # 학습 진행\n",
    "        pre_y = MODEL(feature)\n",
    "\n",
    "        # 손실 계산\n",
    "        loss = LOSS_FN(pre_y, target.reshape(-1).long())\n",
    "        \n",
    "        # 정확도 계산\n",
    "        accuarcy = MulticlassAccuracy(num_classes=3)\n",
    "        acc = accuarcy(pre_y, target.reshape(-1))\n",
    "\n",
    "        # 역전파 진행\n",
    "        loss.backward()\n",
    "\n",
    "        # 가중치/절편 업데이트\n",
    "        OPTIMIZER.step()\n",
    "\n",
    "        E_LOSS += loss.item()\n",
    "        E_ACC  += acc.item()\n",
    "\n",
    "    return E_LOSS/T_ITERATION, E_ACC/T_ITERATION"
   ]
  },
  {
   "cell_type": "code",
   "execution_count": 40,
   "metadata": {},
   "outputs": [
    {
     "name": "stdout",
     "output_type": "stream",
     "text": [
      "\n",
      "EPOCH[0/10]----------------\n",
      "- TRAIN_LOSS 0.90688  ACC 0.79167\n",
      "- VALID_LOSS 0.80240  ACC 0.66667\n",
      "\n",
      "EPOCH[1/10]----------------\n",
      "- TRAIN_LOSS 0.88717  ACC 0.75000\n",
      "- VALID_LOSS 0.75837  ACC 0.66667\n",
      "\n",
      "EPOCH[2/10]----------------\n",
      "- TRAIN_LOSS 0.81146  ACC 0.75000\n",
      "- VALID_LOSS 0.71428  ACC 0.66667\n",
      "\n",
      "EPOCH[3/10]----------------\n",
      "- TRAIN_LOSS 0.77076  ACC 0.75000\n",
      "- VALID_LOSS 0.67106  ACC 0.66667\n",
      "\n",
      "EPOCH[4/10]----------------\n",
      "- TRAIN_LOSS 0.71313  ACC 0.75000\n",
      "- VALID_LOSS 0.63022  ACC 0.66667\n",
      "\n",
      "EPOCH[5/10]----------------\n",
      "- TRAIN_LOSS 0.68011  ACC 0.75000\n",
      "- VALID_LOSS 0.59209  ACC 0.66667\n",
      "\n",
      "EPOCH[6/10]----------------\n",
      "- TRAIN_LOSS 0.61316  ACC 0.79167\n",
      "- VALID_LOSS 0.55736  ACC 0.66667\n",
      "\n",
      "EPOCH[7/10]----------------\n",
      "- TRAIN_LOSS 0.57524  ACC 0.79167\n",
      "- VALID_LOSS 0.52425  ACC 0.66667\n",
      "\n",
      "EPOCH[8/10]----------------\n",
      "- TRAIN_LOSS 0.57195  ACC 0.75000\n",
      "- VALID_LOSS 0.49392  ACC 0.66667\n",
      "\n",
      "EPOCH[9/10]----------------\n",
      "- TRAIN_LOSS 0.52548  ACC 0.79167\n",
      "- VALID_LOSS 0.46634  ACC 0.68627\n"
     ]
    }
   ],
   "source": [
    "# 에포크 : DS 처음부터 ~ 끝까지 학습  \n",
    "HIST ={'Train':[[],[]], 'Valid':[[],[]]}  \n",
    "\n",
    "# 에포크 단위 학습/검증 진행 \n",
    "for epoch in range(EPOCHS):\n",
    "    trainLoss, trainAcc = training()\n",
    "    validLoss, validAcc = evaluate()\n",
    "\n",
    "    HIST['Train'][0].append(trainLoss) \n",
    "    HIST['Train'][1].append(trainAcc) \n",
    "    \n",
    "    HIST['Valid'][0].append(validLoss) \n",
    "    HIST['Valid'][1].append(validAcc) \n",
    "\n",
    "    print(f'\\nEPOCH[{epoch}/{EPOCHS}]----------------')\n",
    "    print(f'- TRAIN_LOSS {trainLoss:.5f}  ACC {trainAcc:.5f}')\n",
    "    print(f'- VALID_LOSS {validLoss:.5f}  ACC {validAcc:.5f}')"
   ]
  },
  {
   "cell_type": "code",
   "execution_count": 43,
   "metadata": {},
   "outputs": [
    {
     "data": {
      "image/png": "[encoded data removed]",
      "text/plain": [
       "<Figure size 1000x400 with 2 Axes>"
      ]
     },
     "metadata": {},
     "output_type": "display_data"
    }
   ],
   "source": [
    "## 모델 성능 시각화 \n",
    "import matplotlib.pyplot as plt\n",
    "\n",
    "fig, axes = plt.subplots(1, 2, figsize=(10, 4))\n",
    "\n",
    "axes=axes.flatten()\n",
    "trainLoss, validLoss = HIST['Train'][0], HIST['Valid'][0]\n",
    "trainAcc, validAcc = HIST['Train'][1], HIST['Valid'][1]\n",
    "\n",
    "for ax, tdata, vdata, kind in zip(axes, [trainLoss, validLoss], [trainAcc, validAcc] ,['LOSS', 'ACCURACY']):\n",
    "    ax.plot(range(1, EPOCHS+1), tdata, 'bo--', label='Train')\n",
    "    ax.plot(range(1, EPOCHS+1), vdata, 'ro--', label='Valid')\n",
    "    ax.grid()\n",
    "    ax.set_xlabel('EPOCHS')\n",
    "    ax.set_ylabel(kind)\n",
    "    ax.legend()\n",
    "    ax.set_title(f'[{kind}]')\n",
    "plt.tight_layout()\n",
    "plt.show()"
   ]
  }
 ],
 "metadata": {
  "kernelspec": {
   "display_name": "DL_TORCH",
   "language": "python",
   "name": "python3"
  },
  "language_info": {
   "codemirror_mode": {
    "name": "ipython",
    "version": 3
   },
   "file_extension": ".py",
   "mimetype": "text/x-python",
   "name": "python",
   "nbconvert_exporter": "python",
   "pygments_lexer": "ipython3",
   "version": "3.9.21"
  }
 },
 "nbformat": 4,
 "nbformat_minor": 2
}
